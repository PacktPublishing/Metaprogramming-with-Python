{
 "cells": [
  {
   "cell_type": "markdown",
   "id": "cea5f588",
   "metadata": {},
   "source": [
    "## Chapter 5"
   ]
  },
  {
   "cell_type": "markdown",
   "id": "ec878596",
   "metadata": {},
   "source": [
    "### Using the built-in function - id"
   ]
  },
  {
   "cell_type": "code",
   "execution_count": 1,
   "id": "979d766b",
   "metadata": {},
   "outputs": [],
   "source": [
    "class Billing:\n",
    "    def __init__(self,product_name,unit_price,quantity,tax):\n",
    "        self.product_name = product_name\n",
    "        self.unit_price = unit_price\n",
    "        self.quantity = quantity\n",
    "        self.tax = tax\n",
    "        \n",
    "    def generate_bill(self):\n",
    "        total = self.unit_price * self.quantity \n",
    "        final_total = total + total*self.tax\n",
    "        print('***********------------------**************')\n",
    "        print('Product:', self.product_name)\n",
    "        print('Total:',final_total)\n",
    "        print('***********------------------**************')"
   ]
  },
  {
   "cell_type": "code",
   "execution_count": 2,
   "id": "bde7681d",
   "metadata": {},
   "outputs": [],
   "source": [
    "billing = Billing('Delmonte Cheese',6,4,0.054)"
   ]
  },
  {
   "cell_type": "code",
   "execution_count": 3,
   "id": "0dabc7c2",
   "metadata": {},
   "outputs": [
    {
     "name": "stdout",
     "output_type": "stream",
     "text": [
      "***********------------------**************\n",
      "Product: Delmonte Cheese\n",
      "Total: 25.296\n",
      "***********------------------**************\n"
     ]
    }
   ],
   "source": [
    "billing.generate_bill()"
   ]
  },
  {
   "cell_type": "code",
   "execution_count": 4,
   "id": "9ff5a216",
   "metadata": {},
   "outputs": [],
   "source": [
    "def generate_bill(product_name,unit_price,quantity,tax):\n",
    "    total = unit_price * quantity \n",
    "    final_total = total + total*tax\n",
    "    print('***********------------------**************')\n",
    "    print('Product:', product_name)\n",
    "    print('Total:',final_total)\n",
    "    print('***********------------------**************')"
   ]
  },
  {
   "cell_type": "code",
   "execution_count": 5,
   "id": "073e4d89",
   "metadata": {},
   "outputs": [],
   "source": [
    "Invoicing = Billing"
   ]
  },
  {
   "cell_type": "code",
   "execution_count": 6,
   "id": "f992e474",
   "metadata": {},
   "outputs": [
    {
     "data": {
      "text/plain": [
       "<__main__.Billing at 0x22f8fcc4460>"
      ]
     },
     "execution_count": 6,
     "metadata": {},
     "output_type": "execute_result"
    }
   ],
   "source": [
    "Invoicing('Delmonte Cheese',6,4,0.054)"
   ]
  },
  {
   "cell_type": "code",
   "execution_count": 7,
   "id": "ec63c112",
   "metadata": {},
   "outputs": [
    {
     "data": {
      "text/plain": [
       "2403272084160"
      ]
     },
     "execution_count": 7,
     "metadata": {},
     "output_type": "execute_result"
    }
   ],
   "source": [
    "id(Billing)"
   ]
  },
  {
   "cell_type": "code",
   "execution_count": 8,
   "id": "c6d2a89e",
   "metadata": {},
   "outputs": [
    {
     "data": {
      "text/plain": [
       "2403272084160"
      ]
     },
     "execution_count": 8,
     "metadata": {},
     "output_type": "execute_result"
    }
   ],
   "source": [
    "id(Invoicing)"
   ]
  },
  {
   "cell_type": "code",
   "execution_count": 9,
   "id": "ad81d729",
   "metadata": {},
   "outputs": [
    {
     "data": {
      "text/plain": [
       "2403299354512"
      ]
     },
     "execution_count": 9,
     "metadata": {},
     "output_type": "execute_result"
    }
   ],
   "source": [
    "id(generate_bill)"
   ]
  },
  {
   "cell_type": "markdown",
   "id": "3fe451a1",
   "metadata": {},
   "source": [
    "### Debug unintentional assignments using id"
   ]
  },
  {
   "cell_type": "code",
   "execution_count": 10,
   "id": "2a5f9b3c",
   "metadata": {},
   "outputs": [
    {
     "name": "stdout",
     "output_type": "stream",
     "text": [
      "Billing <class '__main__.Billing'>\n",
      "Invoicing <class '__main__.Billing'>\n"
     ]
    }
   ],
   "source": [
    "class_id_count = {}\n",
    "duplicates = []\n",
    "ids = []\n",
    "classes = []\n",
    "classnames = []\n",
    "for obj in dir():\n",
    "    if type(eval(obj)) == type:\n",
    "        ids.append(id(eval(obj)))\n",
    "        classes.append(eval(obj))\n",
    "        classnames.append(obj)\n",
    "\n",
    "for i in ids:\n",
    "    if i not in class_id_count:\n",
    "        class_id_count[i] = 1\n",
    "    elif (class_id_count[i] == 1):\n",
    "        duplicates.append(i)\n",
    "        class_id_count[i] += 1\n",
    "\n",
    "for cls,clsname in zip(classes,classnames):\n",
    "    for clsid in duplicates:\n",
    "        if (id(cls)==clsid):\n",
    "            print(clsname,cls)"
   ]
  },
  {
   "cell_type": "code",
   "execution_count": 11,
   "id": "e7684650",
   "metadata": {},
   "outputs": [
    {
     "data": {
      "text/plain": [
       "{2403272084160: 2}"
      ]
     },
     "execution_count": 11,
     "metadata": {},
     "output_type": "execute_result"
    }
   ],
   "source": [
    "class_id_count"
   ]
  },
  {
   "cell_type": "code",
   "execution_count": 12,
   "id": "e66b575b",
   "metadata": {},
   "outputs": [
    {
     "data": {
      "text/plain": [
       "[2403272084160]"
      ]
     },
     "execution_count": 12,
     "metadata": {},
     "output_type": "execute_result"
    }
   ],
   "source": [
    "duplicates"
   ]
  },
  {
   "cell_type": "code",
   "execution_count": 13,
   "id": "15b54ae7",
   "metadata": {},
   "outputs": [
    {
     "data": {
      "text/plain": [
       "[2403272084160, 2403272084160]"
      ]
     },
     "execution_count": 13,
     "metadata": {},
     "output_type": "execute_result"
    }
   ],
   "source": [
    "ids"
   ]
  },
  {
   "cell_type": "code",
   "execution_count": 14,
   "id": "d5706d57",
   "metadata": {},
   "outputs": [
    {
     "data": {
      "text/plain": [
       "[__main__.Billing, __main__.Billing]"
      ]
     },
     "execution_count": 14,
     "metadata": {},
     "output_type": "execute_result"
    }
   ],
   "source": [
    "classes"
   ]
  },
  {
   "cell_type": "code",
   "execution_count": 15,
   "id": "e7010fd4",
   "metadata": {},
   "outputs": [
    {
     "data": {
      "text/plain": [
       "['Billing', 'Invoicing']"
      ]
     },
     "execution_count": 15,
     "metadata": {},
     "output_type": "execute_result"
    }
   ],
   "source": [
    "classnames"
   ]
  },
  {
   "cell_type": "markdown",
   "id": "3af35b71",
   "metadata": {},
   "source": [
    "### Find if an object is callable"
   ]
  },
  {
   "cell_type": "code",
   "execution_count": 16,
   "id": "ca3efd4f",
   "metadata": {},
   "outputs": [],
   "source": [
    "import product "
   ]
  },
  {
   "cell_type": "code",
   "execution_count": 17,
   "id": "642b5d45",
   "metadata": {},
   "outputs": [],
   "source": [
    "prodobj = product.Product()"
   ]
  },
  {
   "cell_type": "code",
   "execution_count": 18,
   "id": "6d757d2d",
   "metadata": {},
   "outputs": [
    {
     "data": {
      "text/plain": [
       "True"
      ]
     },
     "execution_count": 18,
     "metadata": {},
     "output_type": "execute_result"
    }
   ],
   "source": [
    "callable(product.Product)"
   ]
  },
  {
   "cell_type": "code",
   "execution_count": 19,
   "id": "5122db0f",
   "metadata": {},
   "outputs": [
    {
     "data": {
      "text/plain": [
       "False"
      ]
     },
     "execution_count": 19,
     "metadata": {},
     "output_type": "execute_result"
    }
   ],
   "source": [
    "callable(prodobj)"
   ]
  },
  {
   "cell_type": "code",
   "execution_count": 20,
   "id": "479cb982",
   "metadata": {},
   "outputs": [],
   "source": [
    "prodobj.product_id = 12009"
   ]
  },
  {
   "cell_type": "code",
   "execution_count": 21,
   "id": "7bd94e76",
   "metadata": {},
   "outputs": [
    {
     "name": "stdout",
     "output_type": "stream",
     "text": [
      "(100902, 'Iphone X', 'Electronics', 700)\n"
     ]
    }
   ],
   "source": [
    "if callable(prodobj.get_product):\n",
    "    print(prodobj.get_product())\n",
    "else:\n",
    "    print(\"This object is not callable\")"
   ]
  },
  {
   "cell_type": "code",
   "execution_count": 22,
   "id": "edc74f07",
   "metadata": {},
   "outputs": [
    {
     "name": "stdout",
     "output_type": "stream",
     "text": [
      "This is not a method\n"
     ]
    }
   ],
   "source": [
    "if callable(prodobj):\n",
    "    print(prodobj)\n",
    "else:\n",
    "    print('This is not a method')"
   ]
  },
  {
   "cell_type": "markdown",
   "id": "cfc3de99",
   "metadata": {},
   "source": [
    "### Check if object has attribute"
   ]
  },
  {
   "cell_type": "code",
   "execution_count": 23,
   "id": "beb6538b",
   "metadata": {},
   "outputs": [],
   "source": [
    "class Inventory:\n",
    "    def __init__(self,product_id,product_name,date,unit_price,quantity,unit_discount,tax):  \n",
    "        self.product_id = product_id\n",
    "        self.product_name = product_name\n",
    "        self.date = date\n",
    "        self.unit_price = unit_price\n",
    "        self.quantity = quantity\n",
    "        self.unit_discount = unit_discount\n",
    "        self.tax = tax\n",
    "    \n",
    "    def calc_amount_before_tax(self,quantity=None,unit_price=None,\n",
    "                            unit_discount=None):\n",
    "        if (quantity is None):\n",
    "            self.quantity = self.quantity\n",
    "        else:\n",
    "            self.quantity = quantity\n",
    "            \n",
    "        if (unit_price is None):\n",
    "            self.unit_price = self.unit_price\n",
    "        else:\n",
    "            self.unit_price = unit_price\n",
    "        \n",
    "        if (unit_discount is None):\n",
    "            self.unit_discount = self.unit_discount\n",
    "        else:\n",
    "            self.unit_discount = unit_discount\n",
    "        amount_before_tax = self.quantity * (self.unit_price - self.unit_discount)\n",
    "        return amount_before_tax\n",
    "        \n",
    "    def calc_amount_after_tax(self, quantity=None,unit_price=None,\n",
    "                           unit_discount=None,tax=None):\n",
    "        if (quantity is None):\n",
    "            self.quantity = self.quantity\n",
    "        else:\n",
    "            self.quantity = quantity\n",
    "            \n",
    "        if (unit_price is None):\n",
    "            self.unit_price = self.unit_price\n",
    "        else:\n",
    "            self.unit_price = unit_price\n",
    "        \n",
    "        if (unit_discount is None):\n",
    "            self.unit_discount = self.unit_discount\n",
    "        else:\n",
    "            self.unit_discount = unit_discount\n",
    "            \n",
    "        if (tax is None):\n",
    "            self.tax = self.tax\n",
    "        else:\n",
    "            self.tax = tax\n",
    "        amount_after_tax = self.calc_amount_before_tax(self.quantity,self.unit_price,\n",
    "                                                  self.unit_discount) + self.tax\n",
    "        return amount_after_tax\n",
    "        \n",
    "    def return_inventory(self):\n",
    "        import pandas as pd\n",
    "        inventory_schema = pd.DataFrame([self.product_id,\n",
    "                                        self.product_name,\n",
    "                                        self.date,\n",
    "                                        self.unit_price,\n",
    "                                        self.quantity,\n",
    "                                        self.unit_discount,\n",
    "                                        self.tax,\n",
    "                                        self.calc_amount_before_tax(),\n",
    "                                        self.calc_amount_after_tax()]).transpose()\n",
    "        inventory_schema.columns = [\"product_id\",\"product_name\",\"Date\",\"unit_price\",\"Quantity\",\"unit_discount\",\"Tax\",\"Amount Before Tax\", \"Amount After Tax\"]\n",
    "        return inventory_schema                "
   ]
  },
  {
   "cell_type": "code",
   "execution_count": 24,
   "id": "8877e13e",
   "metadata": {},
   "outputs": [],
   "source": [
    "inventory = Inventory(300021,\n",
    "                'Samsung-Refrigerator',\n",
    "                '08/04/2021',\n",
    "                200,\n",
    "                25,\n",
    "                10,\n",
    "                0.0522)"
   ]
  },
  {
   "cell_type": "code",
   "execution_count": 25,
   "id": "84f4f9c8",
   "metadata": {},
   "outputs": [
    {
     "data": {
      "text/plain": [
       "300021"
      ]
     },
     "execution_count": 25,
     "metadata": {},
     "output_type": "execute_result"
    }
   ],
   "source": [
    "inventory.product_id"
   ]
  },
  {
   "cell_type": "code",
   "execution_count": 26,
   "id": "cb8f13d2",
   "metadata": {},
   "outputs": [
    {
     "data": {
      "text/plain": [
       "'Samsung-Refrigerator'"
      ]
     },
     "execution_count": 26,
     "metadata": {},
     "output_type": "execute_result"
    }
   ],
   "source": [
    "inventory.product_name"
   ]
  },
  {
   "cell_type": "code",
   "execution_count": 27,
   "id": "e6a0e96f",
   "metadata": {},
   "outputs": [
    {
     "data": {
      "text/plain": [
       "'08/04/2021'"
      ]
     },
     "execution_count": 27,
     "metadata": {},
     "output_type": "execute_result"
    }
   ],
   "source": [
    "inventory.date"
   ]
  },
  {
   "cell_type": "code",
   "execution_count": 28,
   "id": "df4370fa",
   "metadata": {},
   "outputs": [
    {
     "data": {
      "text/plain": [
       "200"
      ]
     },
     "execution_count": 28,
     "metadata": {},
     "output_type": "execute_result"
    }
   ],
   "source": [
    "inventory.unit_price"
   ]
  },
  {
   "cell_type": "code",
   "execution_count": 29,
   "id": "7fc81955",
   "metadata": {},
   "outputs": [
    {
     "data": {
      "text/plain": [
       "25"
      ]
     },
     "execution_count": 29,
     "metadata": {},
     "output_type": "execute_result"
    }
   ],
   "source": [
    "inventory.quantity"
   ]
  },
  {
   "cell_type": "code",
   "execution_count": 30,
   "id": "541225f1",
   "metadata": {},
   "outputs": [
    {
     "data": {
      "text/plain": [
       "10"
      ]
     },
     "execution_count": 30,
     "metadata": {},
     "output_type": "execute_result"
    }
   ],
   "source": [
    "inventory.unit_discount"
   ]
  },
  {
   "cell_type": "code",
   "execution_count": 31,
   "id": "f8560d25",
   "metadata": {},
   "outputs": [
    {
     "data": {
      "text/plain": [
       "0.0522"
      ]
     },
     "execution_count": 31,
     "metadata": {},
     "output_type": "execute_result"
    }
   ],
   "source": [
    "inventory.tax"
   ]
  },
  {
   "cell_type": "code",
   "execution_count": 32,
   "id": "2c2c6878",
   "metadata": {},
   "outputs": [
    {
     "data": {
      "text/plain": [
       "4750"
      ]
     },
     "execution_count": 32,
     "metadata": {},
     "output_type": "execute_result"
    }
   ],
   "source": [
    "inventory.calc_amount_before_tax()"
   ]
  },
  {
   "cell_type": "code",
   "execution_count": 33,
   "id": "f1d4299f",
   "metadata": {},
   "outputs": [
    {
     "data": {
      "text/plain": [
       "4750.0522"
      ]
     },
     "execution_count": 33,
     "metadata": {},
     "output_type": "execute_result"
    }
   ],
   "source": [
    "inventory.calc_amount_after_tax()"
   ]
  },
  {
   "cell_type": "code",
   "execution_count": 34,
   "id": "d5cda7ce",
   "metadata": {},
   "outputs": [
    {
     "data": {
      "text/html": [
       "<div>\n",
       "<style scoped>\n",
       "    .dataframe tbody tr th:only-of-type {\n",
       "        vertical-align: middle;\n",
       "    }\n",
       "\n",
       "    .dataframe tbody tr th {\n",
       "        vertical-align: top;\n",
       "    }\n",
       "\n",
       "    .dataframe thead th {\n",
       "        text-align: right;\n",
       "    }\n",
       "</style>\n",
       "<table border=\"1\" class=\"dataframe\">\n",
       "  <thead>\n",
       "    <tr style=\"text-align: right;\">\n",
       "      <th></th>\n",
       "      <th>product_id</th>\n",
       "      <th>product_name</th>\n",
       "      <th>Date</th>\n",
       "      <th>unit_price</th>\n",
       "      <th>Quantity</th>\n",
       "      <th>unit_discount</th>\n",
       "      <th>Tax</th>\n",
       "      <th>Amount Before Tax</th>\n",
       "      <th>Amount After Tax</th>\n",
       "    </tr>\n",
       "  </thead>\n",
       "  <tbody>\n",
       "    <tr>\n",
       "      <th>0</th>\n",
       "      <td>300021</td>\n",
       "      <td>Samsung-Refrigerator</td>\n",
       "      <td>08/04/2021</td>\n",
       "      <td>200</td>\n",
       "      <td>25</td>\n",
       "      <td>10</td>\n",
       "      <td>0.0522</td>\n",
       "      <td>4750</td>\n",
       "      <td>4750.0522</td>\n",
       "    </tr>\n",
       "  </tbody>\n",
       "</table>\n",
       "</div>"
      ],
      "text/plain": [
       "  product_id          product_name        Date unit_price Quantity  \\\n",
       "0     300021  Samsung-Refrigerator  08/04/2021        200       25   \n",
       "\n",
       "  unit_discount     Tax Amount Before Tax Amount After Tax  \n",
       "0            10  0.0522              4750        4750.0522  "
      ]
     },
     "execution_count": 34,
     "metadata": {},
     "output_type": "execute_result"
    }
   ],
   "source": [
    "inventory.return_inventory()"
   ]
  },
  {
   "cell_type": "code",
   "execution_count": 35,
   "id": "9ee058a6",
   "metadata": {},
   "outputs": [
    {
     "data": {
      "text/plain": [
       "['__class__',\n",
       " '__delattr__',\n",
       " '__dict__',\n",
       " '__dir__',\n",
       " '__doc__',\n",
       " '__eq__',\n",
       " '__format__',\n",
       " '__ge__',\n",
       " '__getattribute__',\n",
       " '__gt__',\n",
       " '__hash__',\n",
       " '__init__',\n",
       " '__init_subclass__',\n",
       " '__le__',\n",
       " '__lt__',\n",
       " '__module__',\n",
       " '__ne__',\n",
       " '__new__',\n",
       " '__reduce__',\n",
       " '__reduce_ex__',\n",
       " '__repr__',\n",
       " '__setattr__',\n",
       " '__sizeof__',\n",
       " '__str__',\n",
       " '__subclasshook__',\n",
       " '__weakref__',\n",
       " 'calc_amount_after_tax',\n",
       " 'calc_amount_before_tax',\n",
       " 'return_inventory']"
      ]
     },
     "execution_count": 35,
     "metadata": {},
     "output_type": "execute_result"
    }
   ],
   "source": [
    "dir(Inventory)"
   ]
  },
  {
   "cell_type": "code",
   "execution_count": 36,
   "id": "07b2f0a2",
   "metadata": {},
   "outputs": [
    {
     "name": "stdout",
     "output_type": "stream",
     "text": [
      "<function Inventory.__init__ at 0x0000022F8FD18790>\n",
      "<function Inventory.calc_amount_after_tax at 0x0000022F8FD188B0>\n",
      "<function Inventory.calc_amount_before_tax at 0x0000022F8FD18820>\n",
      "<function Inventory.return_inventory at 0x0000022F8FD18940>\n"
     ]
    }
   ],
   "source": [
    "for i in dir(Inventory):\n",
    "     if (hasattr(Inventory,i)):\n",
    "            if type(getattr(inventory, i)) is type(getattr(inventory,'__init__')):\n",
    "                print(getattr(Inventory,i))"
   ]
  },
  {
   "cell_type": "markdown",
   "id": "783d756b",
   "metadata": {},
   "source": [
    "### Check if object is an instance"
   ]
  },
  {
   "cell_type": "code",
   "execution_count": 37,
   "id": "a312e7e7",
   "metadata": {},
   "outputs": [],
   "source": [
    "inventory_fmcg = Inventory(100011,\n",
    "                'Delmonte Ketchup',\n",
    "                '09/04/2021',\n",
    "                5,\n",
    "                0.25,\n",
    "                0.10,\n",
    "                0.0522)"
   ]
  },
  {
   "cell_type": "code",
   "execution_count": 38,
   "id": "46d2bbaf",
   "metadata": {},
   "outputs": [
    {
     "data": {
      "text/plain": [
       "100011"
      ]
     },
     "execution_count": 38,
     "metadata": {},
     "output_type": "execute_result"
    }
   ],
   "source": [
    "inventory_fmcg.product_id"
   ]
  },
  {
   "cell_type": "code",
   "execution_count": 39,
   "id": "dffd2868",
   "metadata": {},
   "outputs": [
    {
     "data": {
      "text/plain": [
       "1.225"
      ]
     },
     "execution_count": 39,
     "metadata": {},
     "output_type": "execute_result"
    }
   ],
   "source": [
    "inventory_fmcg.calc_amount_before_tax()"
   ]
  },
  {
   "cell_type": "code",
   "execution_count": 40,
   "id": "08b7557e",
   "metadata": {},
   "outputs": [
    {
     "data": {
      "text/plain": [
       "1.2772000000000001"
      ]
     },
     "execution_count": 40,
     "metadata": {},
     "output_type": "execute_result"
    }
   ],
   "source": [
    "inventory_fmcg.calc_amount_after_tax()"
   ]
  },
  {
   "cell_type": "code",
   "execution_count": 41,
   "id": "ecf6a3c3",
   "metadata": {},
   "outputs": [
    {
     "data": {
      "text/html": [
       "<div>\n",
       "<style scoped>\n",
       "    .dataframe tbody tr th:only-of-type {\n",
       "        vertical-align: middle;\n",
       "    }\n",
       "\n",
       "    .dataframe tbody tr th {\n",
       "        vertical-align: top;\n",
       "    }\n",
       "\n",
       "    .dataframe thead th {\n",
       "        text-align: right;\n",
       "    }\n",
       "</style>\n",
       "<table border=\"1\" class=\"dataframe\">\n",
       "  <thead>\n",
       "    <tr style=\"text-align: right;\">\n",
       "      <th></th>\n",
       "      <th>product_id</th>\n",
       "      <th>product_name</th>\n",
       "      <th>Date</th>\n",
       "      <th>unit_price</th>\n",
       "      <th>Quantity</th>\n",
       "      <th>unit_discount</th>\n",
       "      <th>Tax</th>\n",
       "      <th>Amount Before Tax</th>\n",
       "      <th>Amount After Tax</th>\n",
       "    </tr>\n",
       "  </thead>\n",
       "  <tbody>\n",
       "    <tr>\n",
       "      <th>0</th>\n",
       "      <td>100011</td>\n",
       "      <td>Delmonte Ketchup</td>\n",
       "      <td>09/04/2021</td>\n",
       "      <td>5</td>\n",
       "      <td>0.25</td>\n",
       "      <td>0.1</td>\n",
       "      <td>0.0522</td>\n",
       "      <td>1.225</td>\n",
       "      <td>1.2772</td>\n",
       "    </tr>\n",
       "  </tbody>\n",
       "</table>\n",
       "</div>"
      ],
      "text/plain": [
       "  product_id      product_name        Date unit_price Quantity unit_discount  \\\n",
       "0     100011  Delmonte Ketchup  09/04/2021          5     0.25           0.1   \n",
       "\n",
       "      Tax Amount Before Tax Amount After Tax  \n",
       "0  0.0522             1.225           1.2772  "
      ]
     },
     "execution_count": 41,
     "metadata": {},
     "output_type": "execute_result"
    }
   ],
   "source": [
    "inventory_fmcg.return_inventory()"
   ]
  },
  {
   "cell_type": "code",
   "execution_count": 42,
   "id": "89feb984",
   "metadata": {},
   "outputs": [
    {
     "data": {
      "text/plain": [
       "True"
      ]
     },
     "execution_count": 42,
     "metadata": {},
     "output_type": "execute_result"
    }
   ],
   "source": [
    "isinstance(inventory_fmcg,Inventory)"
   ]
  },
  {
   "cell_type": "code",
   "execution_count": 43,
   "id": "a6cb28cf",
   "metadata": {},
   "outputs": [
    {
     "data": {
      "text/plain": [
       "True"
      ]
     },
     "execution_count": 43,
     "metadata": {},
     "output_type": "execute_result"
    }
   ],
   "source": [
    "isinstance(inventory,Inventory)"
   ]
  },
  {
   "cell_type": "code",
   "execution_count": 44,
   "id": "26ca18ec",
   "metadata": {},
   "outputs": [
    {
     "data": {
      "text/html": [
       "<div>\n",
       "<style scoped>\n",
       "    .dataframe tbody tr th:only-of-type {\n",
       "        vertical-align: middle;\n",
       "    }\n",
       "\n",
       "    .dataframe tbody tr th {\n",
       "        vertical-align: top;\n",
       "    }\n",
       "\n",
       "    .dataframe thead th {\n",
       "        text-align: right;\n",
       "    }\n",
       "</style>\n",
       "<table border=\"1\" class=\"dataframe\">\n",
       "  <thead>\n",
       "    <tr style=\"text-align: right;\">\n",
       "      <th></th>\n",
       "      <th>product_id</th>\n",
       "      <th>product_name</th>\n",
       "      <th>Date</th>\n",
       "      <th>unit_price</th>\n",
       "      <th>Quantity</th>\n",
       "      <th>unit_discount</th>\n",
       "      <th>Tax</th>\n",
       "      <th>Amount Before Tax</th>\n",
       "      <th>Amount After Tax</th>\n",
       "    </tr>\n",
       "  </thead>\n",
       "  <tbody>\n",
       "    <tr>\n",
       "      <th>0</th>\n",
       "      <td>300021</td>\n",
       "      <td>Samsung-Refrigerator</td>\n",
       "      <td>08/04/2021</td>\n",
       "      <td>200</td>\n",
       "      <td>25</td>\n",
       "      <td>10</td>\n",
       "      <td>0.0522</td>\n",
       "      <td>4750</td>\n",
       "      <td>4750.0522</td>\n",
       "    </tr>\n",
       "  </tbody>\n",
       "</table>\n",
       "</div>"
      ],
      "text/plain": [
       "  product_id          product_name        Date unit_price Quantity  \\\n",
       "0     300021  Samsung-Refrigerator  08/04/2021        200       25   \n",
       "\n",
       "  unit_discount     Tax Amount Before Tax Amount After Tax  \n",
       "0            10  0.0522              4750        4750.0522  "
      ]
     },
     "metadata": {},
     "output_type": "display_data"
    }
   ],
   "source": [
    "if isinstance(inventory,Inventory):\n",
    "    display(inventory.return_inventory())\n",
    "else:\n",
    "    print(\"Object reallocated to\",  type(inventory), \", please correct it\")"
   ]
  },
  {
   "cell_type": "code",
   "execution_count": 45,
   "id": "15096a74",
   "metadata": {},
   "outputs": [],
   "source": [
    "inventory = \"test\""
   ]
  },
  {
   "cell_type": "code",
   "execution_count": 46,
   "id": "718702bd",
   "metadata": {},
   "outputs": [
    {
     "ename": "AttributeError",
     "evalue": "'str' object has no attribute 'return_inventory'",
     "output_type": "error",
     "traceback": [
      "\u001b[1;31m---------------------------------------------------------------------------\u001b[0m",
      "\u001b[1;31mAttributeError\u001b[0m                            Traceback (most recent call last)",
      "\u001b[1;32m<ipython-input-46-d1ad7d7051e5>\u001b[0m in \u001b[0;36m<module>\u001b[1;34m\u001b[0m\n\u001b[1;32m----> 1\u001b[1;33m \u001b[0minventory\u001b[0m\u001b[1;33m.\u001b[0m\u001b[0mreturn_inventory\u001b[0m\u001b[1;33m(\u001b[0m\u001b[1;33m)\u001b[0m\u001b[1;33m\u001b[0m\u001b[1;33m\u001b[0m\u001b[0m\n\u001b[0m",
      "\u001b[1;31mAttributeError\u001b[0m: 'str' object has no attribute 'return_inventory'"
     ]
    }
   ],
   "source": [
    "inventory.return_inventory()"
   ]
  },
  {
   "cell_type": "code",
   "execution_count": 47,
   "id": "6e52fa31",
   "metadata": {},
   "outputs": [
    {
     "name": "stdout",
     "output_type": "stream",
     "text": [
      "Object reallocated to <class 'str'> , please correct it\n"
     ]
    }
   ],
   "source": [
    "if isinstance(inventory,Inventory):\n",
    "    print(inventory.return_inventory())\n",
    "else:\n",
    "    print(\"Object reallocated to\",  type(inventory), \", please correct it\")"
   ]
  },
  {
   "cell_type": "markdown",
   "id": "4c590c89",
   "metadata": {},
   "source": [
    "### Check if object is a subclass"
   ]
  },
  {
   "cell_type": "code",
   "execution_count": 48,
   "id": "e13ac4b8",
   "metadata": {},
   "outputs": [],
   "source": [
    "class FMCG:\n",
    "    def __init__(self,supplier_name,supplier_code,supplier_address,supplier_contract_start_date,\\\n",
    "                 supplier_contract_end_date,supplier_quality_code):\n",
    "        self.supplier_name = supplier_name\n",
    "        self.supplier_code = supplier_code\n",
    "        self.supplier_address = supplier_address\n",
    "        self.supplier_contract_start_date = supplier_contract_start_date\n",
    "        self.supplier_contract_end_date = supplier_contract_end_date\n",
    "        self.supplier_quality_code = supplier_quality_code\n",
    "        \n",
    "    def get_supplier_details(self):\n",
    "        supplier_details = {\n",
    "           'supplier_name': self.supplier_name, \n",
    "            'supplier_code': self.supplier_code,\n",
    "            'supplier_address': self.supplier_address,\n",
    "            'ContractStartDate': self.supplier_contract_start_date,\n",
    "            'ContractEndDate': self.supplier_contract_end_date, \n",
    "            'QualityCode': self.supplier_quality_code\n",
    "        }\n",
    "        return supplier_details\n",
    "    "
   ]
  },
  {
   "cell_type": "code",
   "execution_count": 49,
   "id": "217973a2",
   "metadata": {},
   "outputs": [],
   "source": [
    "fmcg = FMCG('Test Supplier','a0015','5093 9th Main Street, Pasadena,California, 91001', '05/04/2020', '05/04/2025',1)"
   ]
  },
  {
   "cell_type": "code",
   "execution_count": 50,
   "id": "3ace8dca",
   "metadata": {},
   "outputs": [
    {
     "data": {
      "text/plain": [
       "{'supplier_name': 'Test Supplier',\n",
       " 'supplier_code': 'a0015',\n",
       " 'supplier_address': '5093 9th Main Street, Pasadena,California, 91001',\n",
       " 'ContractStartDate': '05/04/2020',\n",
       " 'ContractEndDate': '05/04/2025',\n",
       " 'QualityCode': 1}"
      ]
     },
     "execution_count": 50,
     "metadata": {},
     "output_type": "execute_result"
    }
   ],
   "source": [
    "fmcg.get_supplier_details()"
   ]
  },
  {
   "cell_type": "code",
   "execution_count": 51,
   "id": "f794ceb8",
   "metadata": {},
   "outputs": [],
   "source": [
    "class Condiments(FMCG,Inventory):\n",
    "    def __init__(self,*inventory):\n",
    "        self.product_id = inventory[0]\n",
    "        self.product_name = inventory[1]\n",
    "        self.date = inventory[2]\n",
    "        self.unit_price = inventory[3]\n",
    "        self.quantity = inventory[4]\n",
    "        self.unit_discount = inventory[5]\n",
    "        self.tax = inventory[6]\n",
    "        self.supplier_name = inventory[7]\n",
    "        self.supplier_code = inventory[8]\n",
    "        self.supplier_address = inventory[9]\n",
    "        self.supplier_contract_start_date = inventory[10]\n",
    "        self.supplier_contract_end_date = inventory[11]\n",
    "        self.supplier_quality_code = inventory[12]\n",
    "        \n",
    "    def return_condiment_inventory(self):\n",
    "        import pandas as pd\n",
    "        inventory_schema = pd.DataFrame([self.product_id,\n",
    "                                        self.date,\n",
    "                                        self.unit_price,\n",
    "                                        self.quantity,\n",
    "                                        self.unit_discount,\n",
    "                                        self.tax,\n",
    "                                        self.calc_amount_before_tax(),\n",
    "                                        self.calc_amount_after_tax(),\n",
    "                                        self.get_supplier_details()\n",
    "                                       ]).transpose()\n",
    "        inventory_schema.columns = [\"product_id\",\"Date\",\"unit_price\",\"Quantity\",\"unit_discount\",\"Tax\",\"Amount Before Tax\", \n",
    "                                   \"Amount After Tax\",'supplier_details']\n",
    "        return inventory_schema          \n",
    "        "
   ]
  },
  {
   "cell_type": "code",
   "execution_count": 52,
   "id": "77a2bc34",
   "metadata": {},
   "outputs": [],
   "source": [
    "ketchup = Condiments(100011,'Delmonte Ketchup','09/04/2021',5,0.25,0.10,\n",
    "                0.0522,'Test Supplier','a0015','5093 9th Main Street, Pasadena,California, 91001', '05/04/2020', '05/04/2025',1)"
   ]
  },
  {
   "cell_type": "code",
   "execution_count": 53,
   "id": "4c5cf56f",
   "metadata": {},
   "outputs": [
    {
     "data": {
      "text/html": [
       "<div>\n",
       "<style scoped>\n",
       "    .dataframe tbody tr th:only-of-type {\n",
       "        vertical-align: middle;\n",
       "    }\n",
       "\n",
       "    .dataframe tbody tr th {\n",
       "        vertical-align: top;\n",
       "    }\n",
       "\n",
       "    .dataframe thead th {\n",
       "        text-align: right;\n",
       "    }\n",
       "</style>\n",
       "<table border=\"1\" class=\"dataframe\">\n",
       "  <thead>\n",
       "    <tr style=\"text-align: right;\">\n",
       "      <th></th>\n",
       "      <th>product_id</th>\n",
       "      <th>Date</th>\n",
       "      <th>unit_price</th>\n",
       "      <th>Quantity</th>\n",
       "      <th>unit_discount</th>\n",
       "      <th>Tax</th>\n",
       "      <th>Amount Before Tax</th>\n",
       "      <th>Amount After Tax</th>\n",
       "      <th>supplier_details</th>\n",
       "    </tr>\n",
       "  </thead>\n",
       "  <tbody>\n",
       "    <tr>\n",
       "      <th>0</th>\n",
       "      <td>100011</td>\n",
       "      <td>09/04/2021</td>\n",
       "      <td>5</td>\n",
       "      <td>0.25</td>\n",
       "      <td>0.1</td>\n",
       "      <td>0.0522</td>\n",
       "      <td>1.225</td>\n",
       "      <td>1.2772</td>\n",
       "      <td>{'supplier_name': 'Test Supplier', 'supplier_c...</td>\n",
       "    </tr>\n",
       "  </tbody>\n",
       "</table>\n",
       "</div>"
      ],
      "text/plain": [
       "  product_id        Date unit_price Quantity unit_discount     Tax  \\\n",
       "0     100011  09/04/2021          5     0.25           0.1  0.0522   \n",
       "\n",
       "  Amount Before Tax Amount After Tax  \\\n",
       "0             1.225           1.2772   \n",
       "\n",
       "                                    supplier_details  \n",
       "0  {'supplier_name': 'Test Supplier', 'supplier_c...  "
      ]
     },
     "execution_count": 53,
     "metadata": {},
     "output_type": "execute_result"
    }
   ],
   "source": [
    "ketchup.return_condiment_inventory()"
   ]
  },
  {
   "cell_type": "code",
   "execution_count": 54,
   "id": "ed7a3f5f",
   "metadata": {},
   "outputs": [
    {
     "data": {
      "text/plain": [
       "False"
      ]
     },
     "execution_count": 54,
     "metadata": {},
     "output_type": "execute_result"
    }
   ],
   "source": [
    "issubclass(FMCG,Inventory)"
   ]
  },
  {
   "cell_type": "code",
   "execution_count": 55,
   "id": "681ac693",
   "metadata": {},
   "outputs": [
    {
     "data": {
      "text/plain": [
       "True"
      ]
     },
     "execution_count": 55,
     "metadata": {},
     "output_type": "execute_result"
    }
   ],
   "source": [
    "issubclass(Condiments,FMCG)"
   ]
  },
  {
   "cell_type": "code",
   "execution_count": 56,
   "id": "f2a86ee4",
   "metadata": {},
   "outputs": [
    {
     "data": {
      "text/plain": [
       "True"
      ]
     },
     "execution_count": 56,
     "metadata": {},
     "output_type": "execute_result"
    }
   ],
   "source": [
    "issubclass(Condiments,Inventory)"
   ]
  },
  {
   "cell_type": "code",
   "execution_count": 57,
   "id": "7c008730",
   "metadata": {},
   "outputs": [
    {
     "data": {
      "text/plain": [
       "{'supplier_name': 'Test Supplier',\n",
       " 'supplier_code': 'a0015',\n",
       " 'supplier_address': '5093 9th Main Street, Pasadena,California, 91001',\n",
       " 'ContractStartDate': '05/04/2020',\n",
       " 'ContractEndDate': '05/04/2025',\n",
       " 'QualityCode': 1}"
      ]
     },
     "metadata": {},
     "output_type": "display_data"
    }
   ],
   "source": [
    "if issubclass(Condiments,FMCG):\n",
    "    fmcg = Condiments(100011,'Delmonte Ketchup','09/04/2021',5,0.25,0.10,\n",
    "                0.0522,'Test Supplier','a0015','5093 9th Main Street, Pasadena,California, 91001', \n",
    "                      '05/04/2020', '05/04/2025',1)\n",
    "else:\n",
    "    fmcg = FMCG('Test Supplier','a0015','5093 9th Main Street, Pasadena,California, 91001', \n",
    "                '05/04/2020', '05/04/2025',1)\n",
    "\n",
    "display(fmcg.get_supplier_details())"
   ]
  },
  {
   "cell_type": "markdown",
   "id": "9c7df31b",
   "metadata": {},
   "source": [
    "### Understanding the usage of property"
   ]
  },
  {
   "cell_type": "code",
   "execution_count": 58,
   "id": "90708bbd",
   "metadata": {},
   "outputs": [],
   "source": [
    "test_property = property()"
   ]
  },
  {
   "cell_type": "code",
   "execution_count": 59,
   "id": "778ac500",
   "metadata": {},
   "outputs": [
    {
     "data": {
      "text/plain": [
       "<property at 0x22f8eb7ff90>"
      ]
     },
     "execution_count": 59,
     "metadata": {},
     "output_type": "execute_result"
    }
   ],
   "source": [
    "test_property "
   ]
  },
  {
   "cell_type": "code",
   "execution_count": 60,
   "id": "df00bac7",
   "metadata": {},
   "outputs": [],
   "source": [
    "class TestPropertyClass:\n",
    "    def __init__(self):\n",
    "        self._test_attr = None\n",
    "\n",
    "    def get_test_attr(self):\n",
    "        print(\"get test_attr\")\n",
    "        return self._test_attr\n",
    "\n",
    "    def set_test_attr(self, value):\n",
    "        print(\"set test_attr\")\n",
    "        self._test_attr = value\n",
    "\n",
    "    def del_test_attr(self):\n",
    "        print(\"del test_attr\")\n",
    "        del self._test_attr\n",
    "\n",
    "    test_attr = property(get_test_attr, set_test_attr, del_test_attr, \"test_attr is a property\")"
   ]
  },
  {
   "cell_type": "code",
   "execution_count": 61,
   "id": "2b0537aa",
   "metadata": {},
   "outputs": [],
   "source": [
    "test_property_object = TestPropertyClass()"
   ]
  },
  {
   "cell_type": "code",
   "execution_count": 62,
   "id": "253211af",
   "metadata": {},
   "outputs": [
    {
     "name": "stdout",
     "output_type": "stream",
     "text": [
      "get test_attr\n"
     ]
    }
   ],
   "source": [
    "test_property_object.test_attr"
   ]
  },
  {
   "cell_type": "code",
   "execution_count": 63,
   "id": "6078d52b",
   "metadata": {},
   "outputs": [
    {
     "name": "stdout",
     "output_type": "stream",
     "text": [
      "set test_attr\n"
     ]
    }
   ],
   "source": [
    "test_property_object.test_attr = 1980"
   ]
  },
  {
   "cell_type": "code",
   "execution_count": 64,
   "id": "9c228523",
   "metadata": {},
   "outputs": [
    {
     "name": "stdout",
     "output_type": "stream",
     "text": [
      "get test_attr\n"
     ]
    },
    {
     "data": {
      "text/plain": [
       "1980"
      ]
     },
     "execution_count": 64,
     "metadata": {},
     "output_type": "execute_result"
    }
   ],
   "source": [
    "test_property_object.test_attr"
   ]
  },
  {
   "cell_type": "code",
   "execution_count": 65,
   "id": "ad49b58b",
   "metadata": {},
   "outputs": [
    {
     "name": "stdout",
     "output_type": "stream",
     "text": [
      "del test_attr\n"
     ]
    }
   ],
   "source": [
    "del test_property_object.test_attr"
   ]
  },
  {
   "cell_type": "code",
   "execution_count": 66,
   "id": "cf5fc760",
   "metadata": {},
   "outputs": [
    {
     "name": "stdout",
     "output_type": "stream",
     "text": [
      "get test_attr\n"
     ]
    },
    {
     "ename": "AttributeError",
     "evalue": "'TestPropertyClass' object has no attribute '_test_attr'",
     "output_type": "error",
     "traceback": [
      "\u001b[1;31m---------------------------------------------------------------------------\u001b[0m",
      "\u001b[1;31mAttributeError\u001b[0m                            Traceback (most recent call last)",
      "\u001b[1;32m<ipython-input-66-068d118ae025>\u001b[0m in \u001b[0;36m<module>\u001b[1;34m\u001b[0m\n\u001b[1;32m----> 1\u001b[1;33m \u001b[0mtest_property_object\u001b[0m\u001b[1;33m.\u001b[0m\u001b[0mtest_attr\u001b[0m\u001b[1;33m\u001b[0m\u001b[1;33m\u001b[0m\u001b[0m\n\u001b[0m",
      "\u001b[1;32m<ipython-input-60-5f5ef8284a92>\u001b[0m in \u001b[0;36mget_test_attr\u001b[1;34m(self)\u001b[0m\n\u001b[0;32m      5\u001b[0m     \u001b[1;32mdef\u001b[0m \u001b[0mget_test_attr\u001b[0m\u001b[1;33m(\u001b[0m\u001b[0mself\u001b[0m\u001b[1;33m)\u001b[0m\u001b[1;33m:\u001b[0m\u001b[1;33m\u001b[0m\u001b[1;33m\u001b[0m\u001b[0m\n\u001b[0;32m      6\u001b[0m         \u001b[0mprint\u001b[0m\u001b[1;33m(\u001b[0m\u001b[1;34m\"get test_attr\"\u001b[0m\u001b[1;33m)\u001b[0m\u001b[1;33m\u001b[0m\u001b[1;33m\u001b[0m\u001b[0m\n\u001b[1;32m----> 7\u001b[1;33m         \u001b[1;32mreturn\u001b[0m \u001b[0mself\u001b[0m\u001b[1;33m.\u001b[0m\u001b[0m_test_attr\u001b[0m\u001b[1;33m\u001b[0m\u001b[1;33m\u001b[0m\u001b[0m\n\u001b[0m\u001b[0;32m      8\u001b[0m \u001b[1;33m\u001b[0m\u001b[0m\n\u001b[0;32m      9\u001b[0m     \u001b[1;32mdef\u001b[0m \u001b[0mset_test_attr\u001b[0m\u001b[1;33m(\u001b[0m\u001b[0mself\u001b[0m\u001b[1;33m,\u001b[0m \u001b[0mvalue\u001b[0m\u001b[1;33m)\u001b[0m\u001b[1;33m:\u001b[0m\u001b[1;33m\u001b[0m\u001b[1;33m\u001b[0m\u001b[0m\n",
      "\u001b[1;31mAttributeError\u001b[0m: 'TestPropertyClass' object has no attribute '_test_attr'"
     ]
    }
   ],
   "source": [
    "test_property_object.test_attr"
   ]
  },
  {
   "cell_type": "markdown",
   "id": "ad14022b",
   "metadata": {},
   "source": [
    "### Using property as decorator"
   ]
  },
  {
   "cell_type": "code",
   "execution_count": 67,
   "id": "4e12c6c7",
   "metadata": {},
   "outputs": [],
   "source": [
    "class TestPropertyClass:\n",
    "    def __init__(self):\n",
    "        self._test_attr = None\n",
    "        \n",
    "    @property\n",
    "    def test_attr(self):\n",
    "        return self.test_attr\n",
    "    \n",
    "    @test_attr.getter\n",
    "    def test_attr(self):\n",
    "        print(\"get test_attr\")\n",
    "        return self._test_attr\n",
    "\n",
    "    @test_attr.setter\n",
    "    def test_attr(self, value):\n",
    "        print(\"set test_attr\")\n",
    "        self._test_attr = value\n",
    "\n",
    "    @test_attr.deleter\n",
    "    def test_attr(self):\n",
    "        print(\"del test_attr\")\n",
    "        del self._test_attr"
   ]
  },
  {
   "cell_type": "code",
   "execution_count": 68,
   "id": "2ba2dccf",
   "metadata": {},
   "outputs": [],
   "source": [
    "test_property_object = TestPropertyClass()"
   ]
  },
  {
   "cell_type": "code",
   "execution_count": 69,
   "id": "0680c303",
   "metadata": {},
   "outputs": [
    {
     "name": "stdout",
     "output_type": "stream",
     "text": [
      "get test_attr\n"
     ]
    }
   ],
   "source": [
    "test_property_object.test_attr"
   ]
  },
  {
   "cell_type": "code",
   "execution_count": 70,
   "id": "a3902b87",
   "metadata": {},
   "outputs": [
    {
     "name": "stdout",
     "output_type": "stream",
     "text": [
      "set test_attr\n"
     ]
    }
   ],
   "source": [
    "test_property_object.test_attr = 1982"
   ]
  },
  {
   "cell_type": "code",
   "execution_count": 71,
   "id": "9763c3c5",
   "metadata": {},
   "outputs": [
    {
     "name": "stdout",
     "output_type": "stream",
     "text": [
      "get test_attr\n"
     ]
    },
    {
     "data": {
      "text/plain": [
       "1982"
      ]
     },
     "execution_count": 71,
     "metadata": {},
     "output_type": "execute_result"
    }
   ],
   "source": [
    "test_property_object.test_attr"
   ]
  },
  {
   "cell_type": "code",
   "execution_count": 72,
   "id": "7fb55c2f",
   "metadata": {},
   "outputs": [
    {
     "name": "stdout",
     "output_type": "stream",
     "text": [
      "del test_attr\n"
     ]
    }
   ],
   "source": [
    "del test_property_object.test_attr"
   ]
  },
  {
   "cell_type": "markdown",
   "id": "392c7cf6",
   "metadata": {},
   "source": [
    "### These are all the examples covered in Chapter 5"
   ]
  }
 ],
 "metadata": {
  "kernelspec": {
   "display_name": "Python 3",
   "language": "python",
   "name": "python3"
  },
  "language_info": {
   "codemirror_mode": {
    "name": "ipython",
    "version": 3
   },
   "file_extension": ".py",
   "mimetype": "text/x-python",
   "name": "python",
   "nbconvert_exporter": "python",
   "pygments_lexer": "ipython3",
   "version": "3.9.5"
  }
 },
 "nbformat": 4,
 "nbformat_minor": 5
}
