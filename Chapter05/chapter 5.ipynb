{
 "cells": [
  {
   "cell_type": "markdown",
   "id": "754dd88e",
   "metadata": {},
   "source": [
    "## Chapter 5"
   ]
  },
  {
   "cell_type": "markdown",
   "id": "122b640b",
   "metadata": {},
   "source": [
    "### Using the built-in function - id"
   ]
  },
  {
   "cell_type": "code",
   "execution_count": 1,
   "id": "8fec4866",
   "metadata": {},
   "outputs": [],
   "source": [
    "class Billing:\n",
    "    def __init__(self,productName,unitPrice,quantity,tax):\n",
    "        self.productName = productName\n",
    "        self.unitPrice = unitPrice\n",
    "        self.quantity = quantity\n",
    "        self.tax = tax\n",
    "        \n",
    "    def generateBill(self):\n",
    "        total = self.unitPrice * self.quantity \n",
    "        final_total = total + total*self.tax\n",
    "        print('***********------------------**************')\n",
    "        print('Product:', self.productName)\n",
    "        print('Total:',final_total)\n",
    "        print('***********------------------**************')"
   ]
  },
  {
   "cell_type": "code",
   "execution_count": 2,
   "id": "c2bb6962",
   "metadata": {},
   "outputs": [],
   "source": [
    "billing = Billing('Delmonte Cheese',6,4,0.054)"
   ]
  },
  {
   "cell_type": "code",
   "execution_count": 3,
   "id": "c6f7967a",
   "metadata": {},
   "outputs": [
    {
     "name": "stdout",
     "output_type": "stream",
     "text": [
      "***********------------------**************\n",
      "Product: Delmonte Cheese\n",
      "Total: 25.296\n",
      "***********------------------**************\n"
     ]
    }
   ],
   "source": [
    "billing.generateBill()"
   ]
  },
  {
   "cell_type": "code",
   "execution_count": 4,
   "id": "81f3629d",
   "metadata": {},
   "outputs": [],
   "source": [
    "def generateBill(productName,unitPrice,quantity,tax):\n",
    "    total = unitPrice * quantity \n",
    "    final_total = total + total*tax\n",
    "    print('***********------------------**************')\n",
    "    print('Product:', productName)\n",
    "    print('Total:',final_total)\n",
    "    print('***********------------------**************')"
   ]
  },
  {
   "cell_type": "code",
   "execution_count": 5,
   "id": "10f08fbf",
   "metadata": {},
   "outputs": [],
   "source": [
    "Invoicing = Billing"
   ]
  },
  {
   "cell_type": "code",
   "execution_count": 6,
   "id": "85100140",
   "metadata": {},
   "outputs": [
    {
     "data": {
      "text/plain": [
       "<__main__.Billing at 0x1c9bbb043a0>"
      ]
     },
     "execution_count": 6,
     "metadata": {},
     "output_type": "execute_result"
    }
   ],
   "source": [
    "Invoicing('Delmonte Cheese',6,4,0.054)"
   ]
  },
  {
   "cell_type": "code",
   "execution_count": 7,
   "id": "21fb6711",
   "metadata": {},
   "outputs": [
    {
     "data": {
      "text/plain": [
       "1965921836688"
      ]
     },
     "execution_count": 7,
     "metadata": {},
     "output_type": "execute_result"
    }
   ],
   "source": [
    "id(Billing)"
   ]
  },
  {
   "cell_type": "code",
   "execution_count": 8,
   "id": "ecaedd59",
   "metadata": {},
   "outputs": [
    {
     "data": {
      "text/plain": [
       "1965921836688"
      ]
     },
     "execution_count": 8,
     "metadata": {},
     "output_type": "execute_result"
    }
   ],
   "source": [
    "id(Invoicing)"
   ]
  },
  {
   "cell_type": "code",
   "execution_count": 9,
   "id": "a2df0297",
   "metadata": {},
   "outputs": [
    {
     "data": {
      "text/plain": [
       "1965949088384"
      ]
     },
     "execution_count": 9,
     "metadata": {},
     "output_type": "execute_result"
    }
   ],
   "source": [
    "id(generateBill)"
   ]
  },
  {
   "cell_type": "markdown",
   "id": "5efb9787",
   "metadata": {},
   "source": [
    "### Debug unintentional assignments using id"
   ]
  },
  {
   "cell_type": "code",
   "execution_count": 10,
   "id": "fad49023",
   "metadata": {},
   "outputs": [
    {
     "name": "stdout",
     "output_type": "stream",
     "text": [
      "Billing <class '__main__.Billing'>\n",
      "Invoicing <class '__main__.Billing'>\n"
     ]
    }
   ],
   "source": [
    "class_id_count = {}\n",
    "duplicates = []\n",
    "ids = []\n",
    "classes = []\n",
    "classnames = []\n",
    "for obj in dir():\n",
    "    if type(eval(obj)) == type:\n",
    "        ids.append(id(eval(obj)))\n",
    "        classes.append(eval(obj))\n",
    "        classnames.append(obj)\n",
    "\n",
    "for i in ids:\n",
    "    if i not in class_id_count:\n",
    "        class_id_count[i] = 1\n",
    "    elif (class_id_count[i] == 1):\n",
    "        duplicates.append(i)\n",
    "        class_id_count[i] += 1\n",
    "\n",
    "for cls,clsname in zip(classes,classnames):\n",
    "    for clsid in duplicates:\n",
    "        if (id(cls)==clsid):\n",
    "            print(clsname,cls)"
   ]
  },
  {
   "cell_type": "code",
   "execution_count": 11,
   "id": "e7a4c97b",
   "metadata": {},
   "outputs": [
    {
     "data": {
      "text/plain": [
       "{1965921836688: 2}"
      ]
     },
     "execution_count": 11,
     "metadata": {},
     "output_type": "execute_result"
    }
   ],
   "source": [
    "class_id_count"
   ]
  },
  {
   "cell_type": "code",
   "execution_count": 12,
   "id": "2d30a34a",
   "metadata": {},
   "outputs": [
    {
     "data": {
      "text/plain": [
       "[1965921836688]"
      ]
     },
     "execution_count": 12,
     "metadata": {},
     "output_type": "execute_result"
    }
   ],
   "source": [
    "duplicates"
   ]
  },
  {
   "cell_type": "code",
   "execution_count": 13,
   "id": "c1277540",
   "metadata": {},
   "outputs": [
    {
     "data": {
      "text/plain": [
       "[1965921836688, 1965921836688]"
      ]
     },
     "execution_count": 13,
     "metadata": {},
     "output_type": "execute_result"
    }
   ],
   "source": [
    "ids"
   ]
  },
  {
   "cell_type": "code",
   "execution_count": 14,
   "id": "6364f6d0",
   "metadata": {},
   "outputs": [
    {
     "data": {
      "text/plain": [
       "[__main__.Billing, __main__.Billing]"
      ]
     },
     "execution_count": 14,
     "metadata": {},
     "output_type": "execute_result"
    }
   ],
   "source": [
    "classes"
   ]
  },
  {
   "cell_type": "code",
   "execution_count": 15,
   "id": "d7c5462d",
   "metadata": {},
   "outputs": [
    {
     "data": {
      "text/plain": [
       "['Billing', 'Invoicing']"
      ]
     },
     "execution_count": 15,
     "metadata": {},
     "output_type": "execute_result"
    }
   ],
   "source": [
    "classnames"
   ]
  },
  {
   "cell_type": "markdown",
   "id": "6c9c47fb",
   "metadata": {},
   "source": [
    "### Find if an object is callable"
   ]
  },
  {
   "cell_type": "code",
   "execution_count": 16,
   "id": "fb5cc3b0",
   "metadata": {},
   "outputs": [],
   "source": [
    "import product "
   ]
  },
  {
   "cell_type": "code",
   "execution_count": 17,
   "id": "810f32c5",
   "metadata": {},
   "outputs": [],
   "source": [
    "prodobj = product.Product()"
   ]
  },
  {
   "cell_type": "code",
   "execution_count": 18,
   "id": "dc34879e",
   "metadata": {},
   "outputs": [
    {
     "data": {
      "text/plain": [
       "True"
      ]
     },
     "execution_count": 18,
     "metadata": {},
     "output_type": "execute_result"
    }
   ],
   "source": [
    "callable(product.Product)"
   ]
  },
  {
   "cell_type": "code",
   "execution_count": 19,
   "id": "af576ed3",
   "metadata": {},
   "outputs": [
    {
     "data": {
      "text/plain": [
       "False"
      ]
     },
     "execution_count": 19,
     "metadata": {},
     "output_type": "execute_result"
    }
   ],
   "source": [
    "callable(prodobj)"
   ]
  },
  {
   "cell_type": "code",
   "execution_count": 20,
   "id": "ef8d60be",
   "metadata": {},
   "outputs": [],
   "source": [
    "prodobj.productID = 12009"
   ]
  },
  {
   "cell_type": "code",
   "execution_count": 21,
   "id": "3f0bff05",
   "metadata": {},
   "outputs": [
    {
     "name": "stdout",
     "output_type": "stream",
     "text": [
      "(100902, 'Iphone X', 'Electronics', 700)\n"
     ]
    }
   ],
   "source": [
    "if callable(prodobj.getProduct):\n",
    "    print(prodobj.getProduct())\n",
    "else:\n",
    "    print(\"This object is not callable\")"
   ]
  },
  {
   "cell_type": "code",
   "execution_count": 22,
   "id": "b811f4c2",
   "metadata": {},
   "outputs": [
    {
     "name": "stdout",
     "output_type": "stream",
     "text": [
      "This is not a method\n"
     ]
    }
   ],
   "source": [
    "if callable(prodobj):\n",
    "    print(prodobj)\n",
    "else:\n",
    "    print('This is not a method')"
   ]
  },
  {
   "cell_type": "markdown",
   "id": "27d8d163",
   "metadata": {},
   "source": [
    "### Check if object has attribute"
   ]
  },
  {
   "cell_type": "code",
   "execution_count": 72,
   "id": "47f77aa7",
   "metadata": {},
   "outputs": [],
   "source": [
    "class Inventory:\n",
    "    def __init__(self,productID,productName,date,unitPrice,quantity,unitDiscount,tax):  \n",
    "        self.productID = productID\n",
    "        self.productName = productName\n",
    "        self.date = date\n",
    "        self.unitPrice = unitPrice\n",
    "        self.quantity = quantity\n",
    "        self.unitDiscount = unitDiscount\n",
    "        self.tax = tax\n",
    "    \n",
    "    def calcAmountBeforeTax(self,quantity=None,unitPrice=None,\n",
    "                            unitDiscount=None):\n",
    "        if (quantity==None):\n",
    "            self.quantity = self.quantity\n",
    "        else:\n",
    "            self.quantity = quantity\n",
    "            \n",
    "        if (unitPrice==None):\n",
    "            self.unitPrice = self.unitPrice\n",
    "        else:\n",
    "            self.unitPrice = unitPrice\n",
    "        \n",
    "        if (unitDiscount==None):\n",
    "            self.unitDiscount = self.unitDiscount\n",
    "        else:\n",
    "            self.unitDiscount = unitDiscount\n",
    "        amountBeforeTax = self.quantity * (self.unitPrice - self.unitDiscount)\n",
    "        return amountBeforeTax\n",
    "        \n",
    "    def calcAmountAfterTax(self, quantity=None,unitPrice=None,\n",
    "                           unitDiscount=None,tax=None):\n",
    "        if (quantity==None):\n",
    "            self.quantity = self.quantity\n",
    "        else:\n",
    "            self.quantity = quantity\n",
    "            \n",
    "        if (unitPrice==None):\n",
    "            self.unitPrice = self.unitPrice\n",
    "        else:\n",
    "            self.unitPrice = unitPrice\n",
    "        \n",
    "        if (unitDiscount==None):\n",
    "            self.unitDiscount = self.unitDiscount\n",
    "        else:\n",
    "            self.unitDiscount = unitDiscount\n",
    "            \n",
    "        if (tax==None):\n",
    "            self.tax = self.tax\n",
    "        else:\n",
    "            self.tax = tax\n",
    "        amountAfterTax = self.calcAmountBeforeTax(self.quantity,self.unitPrice,\n",
    "                                                  self.unitDiscount) + self.tax\n",
    "        return amountAfterTax\n",
    "        \n",
    "    def returnInventory(self):\n",
    "        import pandas as pd\n",
    "        inventorySchema = pd.DataFrame([self.productID,\n",
    "                                        self.productName,\n",
    "                                        self.date,\n",
    "                                        self.unitPrice,\n",
    "                                        self.quantity,\n",
    "                                        self.unitDiscount,\n",
    "                                        self.tax,\n",
    "                                        self.calcAmountBeforeTax(),\n",
    "                                        self.calcAmountAfterTax()]).transpose()\n",
    "        inventorySchema.columns = [\"ProductID\",\"ProductName\",\"Date\",\"UnitPrice\",\"Quantity\",\"UnitDiscount\",\"Tax\",\"Amount Before Tax\", \"Amount After Tax\"]\n",
    "        return inventorySchema                "
   ]
  },
  {
   "cell_type": "code",
   "execution_count": 91,
   "id": "08839295",
   "metadata": {},
   "outputs": [],
   "source": [
    "inventory = Inventory(300021,\n",
    "                'Samsung-Refrigerator',\n",
    "                '08/04/2021',\n",
    "                200,\n",
    "                25,\n",
    "                10,\n",
    "                0.0522)"
   ]
  },
  {
   "cell_type": "code",
   "execution_count": 92,
   "id": "a8fdabf8",
   "metadata": {},
   "outputs": [
    {
     "data": {
      "text/plain": [
       "300021"
      ]
     },
     "execution_count": 92,
     "metadata": {},
     "output_type": "execute_result"
    }
   ],
   "source": [
    "inventory.productID"
   ]
  },
  {
   "cell_type": "code",
   "execution_count": 93,
   "id": "84a9fb76",
   "metadata": {},
   "outputs": [
    {
     "data": {
      "text/plain": [
       "'Samsung-Refrigerator'"
      ]
     },
     "execution_count": 93,
     "metadata": {},
     "output_type": "execute_result"
    }
   ],
   "source": [
    "inventory.productName"
   ]
  },
  {
   "cell_type": "code",
   "execution_count": 94,
   "id": "576b6aa2",
   "metadata": {},
   "outputs": [
    {
     "data": {
      "text/plain": [
       "'08/04/2021'"
      ]
     },
     "execution_count": 94,
     "metadata": {},
     "output_type": "execute_result"
    }
   ],
   "source": [
    "inventory.date"
   ]
  },
  {
   "cell_type": "code",
   "execution_count": 95,
   "id": "9c61b8ed",
   "metadata": {},
   "outputs": [
    {
     "data": {
      "text/plain": [
       "200"
      ]
     },
     "execution_count": 95,
     "metadata": {},
     "output_type": "execute_result"
    }
   ],
   "source": [
    "inventory.unitPrice"
   ]
  },
  {
   "cell_type": "code",
   "execution_count": 96,
   "id": "ede496cb",
   "metadata": {},
   "outputs": [
    {
     "data": {
      "text/plain": [
       "25"
      ]
     },
     "execution_count": 96,
     "metadata": {},
     "output_type": "execute_result"
    }
   ],
   "source": [
    "inventory.quantity"
   ]
  },
  {
   "cell_type": "code",
   "execution_count": 97,
   "id": "60db7d39",
   "metadata": {},
   "outputs": [
    {
     "data": {
      "text/plain": [
       "10"
      ]
     },
     "execution_count": 97,
     "metadata": {},
     "output_type": "execute_result"
    }
   ],
   "source": [
    "inventory.unitDiscount"
   ]
  },
  {
   "cell_type": "code",
   "execution_count": 98,
   "id": "38d8c85b",
   "metadata": {},
   "outputs": [
    {
     "data": {
      "text/plain": [
       "0.0522"
      ]
     },
     "execution_count": 98,
     "metadata": {},
     "output_type": "execute_result"
    }
   ],
   "source": [
    "inventory.tax"
   ]
  },
  {
   "cell_type": "code",
   "execution_count": 99,
   "id": "80fc3dd3",
   "metadata": {},
   "outputs": [
    {
     "data": {
      "text/plain": [
       "4750"
      ]
     },
     "execution_count": 99,
     "metadata": {},
     "output_type": "execute_result"
    }
   ],
   "source": [
    "inventory.calcAmountBeforeTax()"
   ]
  },
  {
   "cell_type": "code",
   "execution_count": 100,
   "id": "4d0dc45b",
   "metadata": {},
   "outputs": [
    {
     "data": {
      "text/plain": [
       "4750.0522"
      ]
     },
     "execution_count": 100,
     "metadata": {},
     "output_type": "execute_result"
    }
   ],
   "source": [
    "inventory.calcAmountAfterTax()"
   ]
  },
  {
   "cell_type": "code",
   "execution_count": 101,
   "id": "e2758e73",
   "metadata": {},
   "outputs": [
    {
     "data": {
      "text/html": [
       "<div>\n",
       "<style scoped>\n",
       "    .dataframe tbody tr th:only-of-type {\n",
       "        vertical-align: middle;\n",
       "    }\n",
       "\n",
       "    .dataframe tbody tr th {\n",
       "        vertical-align: top;\n",
       "    }\n",
       "\n",
       "    .dataframe thead th {\n",
       "        text-align: right;\n",
       "    }\n",
       "</style>\n",
       "<table border=\"1\" class=\"dataframe\">\n",
       "  <thead>\n",
       "    <tr style=\"text-align: right;\">\n",
       "      <th></th>\n",
       "      <th>ProductID</th>\n",
       "      <th>ProductName</th>\n",
       "      <th>Date</th>\n",
       "      <th>UnitPrice</th>\n",
       "      <th>Quantity</th>\n",
       "      <th>UnitDiscount</th>\n",
       "      <th>Tax</th>\n",
       "      <th>Amount Before Tax</th>\n",
       "      <th>Amount After Tax</th>\n",
       "    </tr>\n",
       "  </thead>\n",
       "  <tbody>\n",
       "    <tr>\n",
       "      <th>0</th>\n",
       "      <td>300021</td>\n",
       "      <td>Samsung-Refrigerator</td>\n",
       "      <td>08/04/2021</td>\n",
       "      <td>200</td>\n",
       "      <td>25</td>\n",
       "      <td>10</td>\n",
       "      <td>0.0522</td>\n",
       "      <td>4750</td>\n",
       "      <td>4750.0522</td>\n",
       "    </tr>\n",
       "  </tbody>\n",
       "</table>\n",
       "</div>"
      ],
      "text/plain": [
       "  ProductID           ProductName        Date UnitPrice Quantity UnitDiscount  \\\n",
       "0    300021  Samsung-Refrigerator  08/04/2021       200       25           10   \n",
       "\n",
       "      Tax Amount Before Tax Amount After Tax  \n",
       "0  0.0522              4750        4750.0522  "
      ]
     },
     "execution_count": 101,
     "metadata": {},
     "output_type": "execute_result"
    }
   ],
   "source": [
    "inventory.returnInventory()"
   ]
  },
  {
   "cell_type": "code",
   "execution_count": 102,
   "id": "17f4c974",
   "metadata": {},
   "outputs": [
    {
     "data": {
      "text/plain": [
       "['__class__',\n",
       " '__delattr__',\n",
       " '__dict__',\n",
       " '__dir__',\n",
       " '__doc__',\n",
       " '__eq__',\n",
       " '__format__',\n",
       " '__ge__',\n",
       " '__getattribute__',\n",
       " '__gt__',\n",
       " '__hash__',\n",
       " '__init__',\n",
       " '__init_subclass__',\n",
       " '__le__',\n",
       " '__lt__',\n",
       " '__module__',\n",
       " '__ne__',\n",
       " '__new__',\n",
       " '__reduce__',\n",
       " '__reduce_ex__',\n",
       " '__repr__',\n",
       " '__setattr__',\n",
       " '__sizeof__',\n",
       " '__str__',\n",
       " '__subclasshook__',\n",
       " '__weakref__',\n",
       " 'calcAmountAfterTax',\n",
       " 'calcAmountBeforeTax',\n",
       " 'returnInventory']"
      ]
     },
     "execution_count": 102,
     "metadata": {},
     "output_type": "execute_result"
    }
   ],
   "source": [
    "dir(Inventory)"
   ]
  },
  {
   "cell_type": "code",
   "execution_count": 103,
   "id": "6eb2fef7",
   "metadata": {},
   "outputs": [
    {
     "name": "stdout",
     "output_type": "stream",
     "text": [
      "<function Inventory.__init__ at 0x000001C9C8E20160>\n",
      "<function Inventory.calcAmountAfterTax at 0x000001C9C8E20280>\n",
      "<function Inventory.calcAmountBeforeTax at 0x000001C9C8E201F0>\n",
      "<function Inventory.returnInventory at 0x000001C9C8E20310>\n"
     ]
    }
   ],
   "source": [
    "for i in dir(Inventory):\n",
    "     if (hasattr(Inventory,i)):\n",
    "            if type(eval('inventory.'+i)) is type(eval('inventory.__init__')):\n",
    "                print(getattr(Inventory,i))"
   ]
  },
  {
   "cell_type": "markdown",
   "id": "5a4fea77",
   "metadata": {},
   "source": [
    "### Check if object is an instance"
   ]
  },
  {
   "cell_type": "code",
   "execution_count": 104,
   "id": "ce53d1f2",
   "metadata": {},
   "outputs": [],
   "source": [
    "inventory_fmcg = Inventory(100011,\n",
    "                'Delmonte Ketchup',\n",
    "                '09/04/2021',\n",
    "                5,\n",
    "                0.25,\n",
    "                0.10,\n",
    "                0.0522)"
   ]
  },
  {
   "cell_type": "code",
   "execution_count": 105,
   "id": "2bb13afa",
   "metadata": {},
   "outputs": [
    {
     "data": {
      "text/plain": [
       "100011"
      ]
     },
     "execution_count": 105,
     "metadata": {},
     "output_type": "execute_result"
    }
   ],
   "source": [
    "inventory_fmcg.productID"
   ]
  },
  {
   "cell_type": "code",
   "execution_count": 106,
   "id": "c8bdc258",
   "metadata": {},
   "outputs": [
    {
     "data": {
      "text/plain": [
       "1.225"
      ]
     },
     "execution_count": 106,
     "metadata": {},
     "output_type": "execute_result"
    }
   ],
   "source": [
    "inventory_fmcg.calcAmountBeforeTax()"
   ]
  },
  {
   "cell_type": "code",
   "execution_count": 107,
   "id": "8cb44fd1",
   "metadata": {},
   "outputs": [
    {
     "data": {
      "text/plain": [
       "1.2772000000000001"
      ]
     },
     "execution_count": 107,
     "metadata": {},
     "output_type": "execute_result"
    }
   ],
   "source": [
    "inventory_fmcg.calcAmountAfterTax()"
   ]
  },
  {
   "cell_type": "code",
   "execution_count": 108,
   "id": "f80b4f9f",
   "metadata": {},
   "outputs": [
    {
     "data": {
      "text/html": [
       "<div>\n",
       "<style scoped>\n",
       "    .dataframe tbody tr th:only-of-type {\n",
       "        vertical-align: middle;\n",
       "    }\n",
       "\n",
       "    .dataframe tbody tr th {\n",
       "        vertical-align: top;\n",
       "    }\n",
       "\n",
       "    .dataframe thead th {\n",
       "        text-align: right;\n",
       "    }\n",
       "</style>\n",
       "<table border=\"1\" class=\"dataframe\">\n",
       "  <thead>\n",
       "    <tr style=\"text-align: right;\">\n",
       "      <th></th>\n",
       "      <th>ProductID</th>\n",
       "      <th>ProductName</th>\n",
       "      <th>Date</th>\n",
       "      <th>UnitPrice</th>\n",
       "      <th>Quantity</th>\n",
       "      <th>UnitDiscount</th>\n",
       "      <th>Tax</th>\n",
       "      <th>Amount Before Tax</th>\n",
       "      <th>Amount After Tax</th>\n",
       "    </tr>\n",
       "  </thead>\n",
       "  <tbody>\n",
       "    <tr>\n",
       "      <th>0</th>\n",
       "      <td>100011</td>\n",
       "      <td>Delmonte Ketchup</td>\n",
       "      <td>09/04/2021</td>\n",
       "      <td>5</td>\n",
       "      <td>0.25</td>\n",
       "      <td>0.1</td>\n",
       "      <td>0.0522</td>\n",
       "      <td>1.225</td>\n",
       "      <td>1.2772</td>\n",
       "    </tr>\n",
       "  </tbody>\n",
       "</table>\n",
       "</div>"
      ],
      "text/plain": [
       "  ProductID       ProductName        Date UnitPrice Quantity UnitDiscount  \\\n",
       "0    100011  Delmonte Ketchup  09/04/2021         5     0.25          0.1   \n",
       "\n",
       "      Tax Amount Before Tax Amount After Tax  \n",
       "0  0.0522             1.225           1.2772  "
      ]
     },
     "execution_count": 108,
     "metadata": {},
     "output_type": "execute_result"
    }
   ],
   "source": [
    "inventory_fmcg.returnInventory()"
   ]
  },
  {
   "cell_type": "code",
   "execution_count": 109,
   "id": "384932ab",
   "metadata": {},
   "outputs": [
    {
     "data": {
      "text/plain": [
       "True"
      ]
     },
     "execution_count": 109,
     "metadata": {},
     "output_type": "execute_result"
    }
   ],
   "source": [
    "isinstance(inventory_fmcg,Inventory)"
   ]
  },
  {
   "cell_type": "code",
   "execution_count": 110,
   "id": "a9a6a377",
   "metadata": {},
   "outputs": [
    {
     "data": {
      "text/plain": [
       "True"
      ]
     },
     "execution_count": 110,
     "metadata": {},
     "output_type": "execute_result"
    }
   ],
   "source": [
    "isinstance(inventory,Inventory)"
   ]
  },
  {
   "cell_type": "code",
   "execution_count": 113,
   "id": "eaa30996",
   "metadata": {},
   "outputs": [
    {
     "data": {
      "text/html": [
       "<div>\n",
       "<style scoped>\n",
       "    .dataframe tbody tr th:only-of-type {\n",
       "        vertical-align: middle;\n",
       "    }\n",
       "\n",
       "    .dataframe tbody tr th {\n",
       "        vertical-align: top;\n",
       "    }\n",
       "\n",
       "    .dataframe thead th {\n",
       "        text-align: right;\n",
       "    }\n",
       "</style>\n",
       "<table border=\"1\" class=\"dataframe\">\n",
       "  <thead>\n",
       "    <tr style=\"text-align: right;\">\n",
       "      <th></th>\n",
       "      <th>ProductID</th>\n",
       "      <th>ProductName</th>\n",
       "      <th>Date</th>\n",
       "      <th>UnitPrice</th>\n",
       "      <th>Quantity</th>\n",
       "      <th>UnitDiscount</th>\n",
       "      <th>Tax</th>\n",
       "      <th>Amount Before Tax</th>\n",
       "      <th>Amount After Tax</th>\n",
       "    </tr>\n",
       "  </thead>\n",
       "  <tbody>\n",
       "    <tr>\n",
       "      <th>0</th>\n",
       "      <td>300021</td>\n",
       "      <td>Samsung-Refrigerator</td>\n",
       "      <td>08/04/2021</td>\n",
       "      <td>200</td>\n",
       "      <td>25</td>\n",
       "      <td>10</td>\n",
       "      <td>0.0522</td>\n",
       "      <td>4750</td>\n",
       "      <td>4750.0522</td>\n",
       "    </tr>\n",
       "  </tbody>\n",
       "</table>\n",
       "</div>"
      ],
      "text/plain": [
       "  ProductID           ProductName        Date UnitPrice Quantity UnitDiscount  \\\n",
       "0    300021  Samsung-Refrigerator  08/04/2021       200       25           10   \n",
       "\n",
       "      Tax Amount Before Tax Amount After Tax  \n",
       "0  0.0522              4750        4750.0522  "
      ]
     },
     "metadata": {},
     "output_type": "display_data"
    }
   ],
   "source": [
    "if isinstance(inventory,Inventory):\n",
    "    display(inventory.returnInventory())\n",
    "else:\n",
    "    print(\"Object reallocated to\",  type(inventory), \", please correct it\")"
   ]
  },
  {
   "cell_type": "code",
   "execution_count": 87,
   "id": "c4220617",
   "metadata": {},
   "outputs": [],
   "source": [
    "inventory = \"test\""
   ]
  },
  {
   "cell_type": "code",
   "execution_count": 88,
   "id": "1409b7b8",
   "metadata": {},
   "outputs": [
    {
     "ename": "AttributeError",
     "evalue": "'str' object has no attribute 'returnInventory'",
     "output_type": "error",
     "traceback": [
      "\u001b[1;31m---------------------------------------------------------------------------\u001b[0m",
      "\u001b[1;31mAttributeError\u001b[0m                            Traceback (most recent call last)",
      "\u001b[1;32m<ipython-input-88-36f88e397ab9>\u001b[0m in \u001b[0;36m<module>\u001b[1;34m\u001b[0m\n\u001b[1;32m----> 1\u001b[1;33m \u001b[0minventory\u001b[0m\u001b[1;33m.\u001b[0m\u001b[0mreturnInventory\u001b[0m\u001b[1;33m(\u001b[0m\u001b[1;33m)\u001b[0m\u001b[1;33m\u001b[0m\u001b[1;33m\u001b[0m\u001b[0m\n\u001b[0m",
      "\u001b[1;31mAttributeError\u001b[0m: 'str' object has no attribute 'returnInventory'"
     ]
    }
   ],
   "source": [
    "inventory.returnInventory()"
   ]
  },
  {
   "cell_type": "code",
   "execution_count": 90,
   "id": "35d2dfcd",
   "metadata": {},
   "outputs": [
    {
     "name": "stdout",
     "output_type": "stream",
     "text": [
      "Object reallocated to <class 'str'> , please correct it\n"
     ]
    }
   ],
   "source": [
    "if isinstance(inventory,Inventory):\n",
    "    print(inventory.returnInventory())\n",
    "else:\n",
    "    print(\"Object reallocated to\",  type(inventory), \", please correct it\")"
   ]
  },
  {
   "cell_type": "markdown",
   "id": "d925aade",
   "metadata": {},
   "source": [
    "### Check if object is a subclass"
   ]
  },
  {
   "cell_type": "code",
   "execution_count": 114,
   "id": "24642189",
   "metadata": {},
   "outputs": [],
   "source": [
    "class FMCG:\n",
    "    def __init__(self,supplierName,supplierCode,supplierAddress,supplierContractStartDate,\\\n",
    "                 supplierContractEndDate,supplierQualityCode):\n",
    "        self.supplierName = supplierName\n",
    "        self.supplierCode = supplierCode\n",
    "        self.supplierAddress = supplierAddress\n",
    "        self.supplierContractStartDate = supplierContractStartDate\n",
    "        self.supplierContractEndDate = supplierContractEndDate\n",
    "        self.supplierQualityCode = supplierQualityCode\n",
    "        \n",
    "    def getSupplierDetails(self):\n",
    "        supplierDetails = {\n",
    "           'SupplierName': self.supplierName, \n",
    "            'SupplierCode': self.supplierCode,\n",
    "            'SupplierAddress': self.supplierAddress,\n",
    "            'ContractStartDate': self.supplierContractStartDate,\n",
    "            'ContractEndDate': self.supplierContractEndDate, \n",
    "            'QualityCode': self.supplierQualityCode\n",
    "        }\n",
    "        return supplierDetails\n",
    "    "
   ]
  },
  {
   "cell_type": "code",
   "execution_count": 115,
   "id": "4ae281b7",
   "metadata": {},
   "outputs": [],
   "source": [
    "fmcg = FMCG('Test Supplier','a0015','5093 9th Main Street, Pasadena,California, 91001', '05/04/2020', '05/04/2025',1)"
   ]
  },
  {
   "cell_type": "code",
   "execution_count": 116,
   "id": "d0830fb9",
   "metadata": {},
   "outputs": [
    {
     "data": {
      "text/plain": [
       "{'SupplierName': 'Test Supplier',\n",
       " 'SupplierCode': 'a0015',\n",
       " 'SupplierAddress': '5093 9th Main Street, Pasadena,California, 91001',\n",
       " 'ContractStartDate': '05/04/2020',\n",
       " 'ContractEndDate': '05/04/2025',\n",
       " 'QualityCode': 1}"
      ]
     },
     "execution_count": 116,
     "metadata": {},
     "output_type": "execute_result"
    }
   ],
   "source": [
    "fmcg.getSupplierDetails()"
   ]
  },
  {
   "cell_type": "code",
   "execution_count": 117,
   "id": "ca1d6076",
   "metadata": {},
   "outputs": [],
   "source": [
    "class Condiments(FMCG,Inventory):\n",
    "    def __init__(self,*inventory):\n",
    "        self.productID = inventory[0]\n",
    "        self.productName = inventory[1]\n",
    "        self.date = inventory[2]\n",
    "        self.unitPrice = inventory[3]\n",
    "        self.quantity = inventory[4]\n",
    "        self.unitDiscount = inventory[5]\n",
    "        self.tax = inventory[6]\n",
    "        self.supplierName = inventory[7]\n",
    "        self.supplierCode = inventory[8]\n",
    "        self.supplierAddress = inventory[9]\n",
    "        self.supplierContractStartDate = inventory[10]\n",
    "        self.supplierContractEndDate = inventory[11]\n",
    "        self.supplierQualityCode = inventory[12]\n",
    "        \n",
    "    def returnCondimentInventory(self):\n",
    "        import pandas as pd\n",
    "        inventorySchema = pd.DataFrame([self.productID,\n",
    "                                        self.date,\n",
    "                                        self.unitPrice,\n",
    "                                        self.quantity,\n",
    "                                        self.unitDiscount,\n",
    "                                        self.tax,\n",
    "                                        self.calcAmountBeforeTax(),\n",
    "                                        self.calcAmountAfterTax(),\n",
    "                                        self.getSupplierDetails()\n",
    "                                       ]).transpose()\n",
    "        inventorySchema.columns = [\"ProductID\",\"Date\",\"UnitPrice\",\"Quantity\",\"UnitDiscount\",\"Tax\",\"Amount Before Tax\", \n",
    "                                   \"Amount After Tax\",'SupplierDetails']\n",
    "        return inventorySchema          \n",
    "        "
   ]
  },
  {
   "cell_type": "code",
   "execution_count": 131,
   "id": "1d3317ee",
   "metadata": {},
   "outputs": [],
   "source": [
    "ketchup = Condiments(100011,'Delmonte Ketchup','09/04/2021',5,0.25,0.10,\n",
    "                0.0522,'Test Supplier','a0015','5093 9th Main Street, Pasadena,California, 91001', '05/04/2020', '05/04/2025',1)"
   ]
  },
  {
   "cell_type": "code",
   "execution_count": 132,
   "id": "5aed2c82",
   "metadata": {},
   "outputs": [
    {
     "data": {
      "text/html": [
       "<div>\n",
       "<style scoped>\n",
       "    .dataframe tbody tr th:only-of-type {\n",
       "        vertical-align: middle;\n",
       "    }\n",
       "\n",
       "    .dataframe tbody tr th {\n",
       "        vertical-align: top;\n",
       "    }\n",
       "\n",
       "    .dataframe thead th {\n",
       "        text-align: right;\n",
       "    }\n",
       "</style>\n",
       "<table border=\"1\" class=\"dataframe\">\n",
       "  <thead>\n",
       "    <tr style=\"text-align: right;\">\n",
       "      <th></th>\n",
       "      <th>ProductID</th>\n",
       "      <th>Date</th>\n",
       "      <th>UnitPrice</th>\n",
       "      <th>Quantity</th>\n",
       "      <th>UnitDiscount</th>\n",
       "      <th>Tax</th>\n",
       "      <th>Amount Before Tax</th>\n",
       "      <th>Amount After Tax</th>\n",
       "      <th>SupplierDetails</th>\n",
       "    </tr>\n",
       "  </thead>\n",
       "  <tbody>\n",
       "    <tr>\n",
       "      <th>0</th>\n",
       "      <td>100011</td>\n",
       "      <td>09/04/2021</td>\n",
       "      <td>5</td>\n",
       "      <td>0.25</td>\n",
       "      <td>0.1</td>\n",
       "      <td>0.0522</td>\n",
       "      <td>1.225</td>\n",
       "      <td>1.2772</td>\n",
       "      <td>{'SupplierName': 'Test Supplier', 'SupplierCod...</td>\n",
       "    </tr>\n",
       "  </tbody>\n",
       "</table>\n",
       "</div>"
      ],
      "text/plain": [
       "  ProductID        Date UnitPrice Quantity UnitDiscount     Tax  \\\n",
       "0    100011  09/04/2021         5     0.25          0.1  0.0522   \n",
       "\n",
       "  Amount Before Tax Amount After Tax  \\\n",
       "0             1.225           1.2772   \n",
       "\n",
       "                                     SupplierDetails  \n",
       "0  {'SupplierName': 'Test Supplier', 'SupplierCod...  "
      ]
     },
     "execution_count": 132,
     "metadata": {},
     "output_type": "execute_result"
    }
   ],
   "source": [
    "ketchup.returnCondimentInventory()"
   ]
  },
  {
   "cell_type": "code",
   "execution_count": 133,
   "id": "d9912613",
   "metadata": {},
   "outputs": [
    {
     "data": {
      "text/plain": [
       "False"
      ]
     },
     "execution_count": 133,
     "metadata": {},
     "output_type": "execute_result"
    }
   ],
   "source": [
    "issubclass(FMCG,Inventory)"
   ]
  },
  {
   "cell_type": "code",
   "execution_count": 134,
   "id": "f632d609",
   "metadata": {},
   "outputs": [
    {
     "data": {
      "text/plain": [
       "True"
      ]
     },
     "execution_count": 134,
     "metadata": {},
     "output_type": "execute_result"
    }
   ],
   "source": [
    "issubclass(Condiments,FMCG)"
   ]
  },
  {
   "cell_type": "code",
   "execution_count": 135,
   "id": "4606b513",
   "metadata": {},
   "outputs": [
    {
     "data": {
      "text/plain": [
       "True"
      ]
     },
     "execution_count": 135,
     "metadata": {},
     "output_type": "execute_result"
    }
   ],
   "source": [
    "issubclass(Condiments,Inventory)"
   ]
  },
  {
   "cell_type": "code",
   "execution_count": 139,
   "id": "f7c1766a",
   "metadata": {},
   "outputs": [
    {
     "data": {
      "text/plain": [
       "{'SupplierName': 'Test Supplier',\n",
       " 'SupplierCode': 'a0015',\n",
       " 'SupplierAddress': '5093 9th Main Street, Pasadena,California, 91001',\n",
       " 'ContractStartDate': '05/04/2020',\n",
       " 'ContractEndDate': '05/04/2025',\n",
       " 'QualityCode': 1}"
      ]
     },
     "metadata": {},
     "output_type": "display_data"
    }
   ],
   "source": [
    "if issubclass(Condiments,FMCG):\n",
    "    fmcg = Condiments(100011,'Delmonte Ketchup','09/04/2021',5,0.25,0.10,\n",
    "                0.0522,'Test Supplier','a0015','5093 9th Main Street, Pasadena,California, 91001', \n",
    "                      '05/04/2020', '05/04/2025',1)\n",
    "else:\n",
    "    fmcg = FMCG('Test Supplier','a0015','5093 9th Main Street, Pasadena,California, 91001', \n",
    "                '05/04/2020', '05/04/2025',1)\n",
    "\n",
    "display(fmcg.getSupplierDetails())"
   ]
  },
  {
   "cell_type": "markdown",
   "id": "039c6257",
   "metadata": {},
   "source": [
    "### Understanding the usage of property"
   ]
  },
  {
   "cell_type": "code",
   "execution_count": 150,
   "id": "c5c552d0",
   "metadata": {},
   "outputs": [],
   "source": [
    "testProperty = property()"
   ]
  },
  {
   "cell_type": "code",
   "execution_count": 152,
   "id": "c808f188",
   "metadata": {},
   "outputs": [
    {
     "data": {
      "text/plain": [
       "<property at 0x1c9c9335950>"
      ]
     },
     "execution_count": 152,
     "metadata": {},
     "output_type": "execute_result"
    }
   ],
   "source": [
    "testProperty"
   ]
  },
  {
   "cell_type": "code",
   "execution_count": 142,
   "id": "6af6951a",
   "metadata": {},
   "outputs": [],
   "source": [
    "class testPropertyClass:\n",
    "    def __init__(self):\n",
    "        self._testAttr = None\n",
    "\n",
    "    def get_testAttr(self):\n",
    "        print(\"get testAttr\")\n",
    "        return self._testAttr\n",
    "\n",
    "    def set_testAttr(self, value):\n",
    "        print(\"set testAttr\")\n",
    "        self._testAttr = value\n",
    "\n",
    "    def del_testAttr(self):\n",
    "        print(\"del testAttr\")\n",
    "        del self._testAttr\n",
    "\n",
    "    testAttr = property(get_testAttr, set_testAttr, del_testAttr, \"testAttr is a property\")"
   ]
  },
  {
   "cell_type": "code",
   "execution_count": 143,
   "id": "450a01ed",
   "metadata": {},
   "outputs": [],
   "source": [
    "testPropertyObject = testPropertyClass()"
   ]
  },
  {
   "cell_type": "code",
   "execution_count": 144,
   "id": "45cdba99",
   "metadata": {},
   "outputs": [
    {
     "name": "stdout",
     "output_type": "stream",
     "text": [
      "get testAttr\n"
     ]
    }
   ],
   "source": [
    "testPropertyObject.testAttr"
   ]
  },
  {
   "cell_type": "code",
   "execution_count": 145,
   "id": "b37ce62b",
   "metadata": {},
   "outputs": [
    {
     "name": "stdout",
     "output_type": "stream",
     "text": [
      "set testAttr\n"
     ]
    }
   ],
   "source": [
    "testPropertyObject.testAttr = 1980"
   ]
  },
  {
   "cell_type": "code",
   "execution_count": 146,
   "id": "5b0b97b4",
   "metadata": {},
   "outputs": [
    {
     "name": "stdout",
     "output_type": "stream",
     "text": [
      "get testAttr\n"
     ]
    },
    {
     "data": {
      "text/plain": [
       "1980"
      ]
     },
     "execution_count": 146,
     "metadata": {},
     "output_type": "execute_result"
    }
   ],
   "source": [
    "testPropertyObject.testAttr"
   ]
  },
  {
   "cell_type": "code",
   "execution_count": 147,
   "id": "fc4bd571",
   "metadata": {},
   "outputs": [
    {
     "name": "stdout",
     "output_type": "stream",
     "text": [
      "del testAttr\n"
     ]
    }
   ],
   "source": [
    "del testPropertyObject.testAttr"
   ]
  },
  {
   "cell_type": "code",
   "execution_count": 148,
   "id": "f19c21cf",
   "metadata": {},
   "outputs": [
    {
     "name": "stdout",
     "output_type": "stream",
     "text": [
      "get testAttr\n"
     ]
    },
    {
     "ename": "AttributeError",
     "evalue": "'testPropertyClass' object has no attribute '_testAttr'",
     "output_type": "error",
     "traceback": [
      "\u001b[1;31m---------------------------------------------------------------------------\u001b[0m",
      "\u001b[1;31mAttributeError\u001b[0m                            Traceback (most recent call last)",
      "\u001b[1;32m<ipython-input-148-b983341ece3a>\u001b[0m in \u001b[0;36m<module>\u001b[1;34m\u001b[0m\n\u001b[1;32m----> 1\u001b[1;33m \u001b[0mtestPropertyObject\u001b[0m\u001b[1;33m.\u001b[0m\u001b[0mtestAttr\u001b[0m\u001b[1;33m\u001b[0m\u001b[1;33m\u001b[0m\u001b[0m\n\u001b[0m",
      "\u001b[1;32m<ipython-input-142-ad7fa9f7c228>\u001b[0m in \u001b[0;36mget_testAttr\u001b[1;34m(self)\u001b[0m\n\u001b[0;32m      5\u001b[0m     \u001b[1;32mdef\u001b[0m \u001b[0mget_testAttr\u001b[0m\u001b[1;33m(\u001b[0m\u001b[0mself\u001b[0m\u001b[1;33m)\u001b[0m\u001b[1;33m:\u001b[0m\u001b[1;33m\u001b[0m\u001b[1;33m\u001b[0m\u001b[0m\n\u001b[0;32m      6\u001b[0m         \u001b[0mprint\u001b[0m\u001b[1;33m(\u001b[0m\u001b[1;34m\"get testAttr\"\u001b[0m\u001b[1;33m)\u001b[0m\u001b[1;33m\u001b[0m\u001b[1;33m\u001b[0m\u001b[0m\n\u001b[1;32m----> 7\u001b[1;33m         \u001b[1;32mreturn\u001b[0m \u001b[0mself\u001b[0m\u001b[1;33m.\u001b[0m\u001b[0m_testAttr\u001b[0m\u001b[1;33m\u001b[0m\u001b[1;33m\u001b[0m\u001b[0m\n\u001b[0m\u001b[0;32m      8\u001b[0m \u001b[1;33m\u001b[0m\u001b[0m\n\u001b[0;32m      9\u001b[0m     \u001b[1;32mdef\u001b[0m \u001b[0mset_testAttr\u001b[0m\u001b[1;33m(\u001b[0m\u001b[0mself\u001b[0m\u001b[1;33m,\u001b[0m \u001b[0mvalue\u001b[0m\u001b[1;33m)\u001b[0m\u001b[1;33m:\u001b[0m\u001b[1;33m\u001b[0m\u001b[1;33m\u001b[0m\u001b[0m\n",
      "\u001b[1;31mAttributeError\u001b[0m: 'testPropertyClass' object has no attribute '_testAttr'"
     ]
    }
   ],
   "source": [
    "testPropertyObject.testAttr"
   ]
  },
  {
   "cell_type": "markdown",
   "id": "e32db325",
   "metadata": {},
   "source": [
    "### Using property as decorator"
   ]
  },
  {
   "cell_type": "code",
   "execution_count": 1,
   "id": "6d530144",
   "metadata": {},
   "outputs": [],
   "source": [
    "class testPropertyClass:\n",
    "    def __init__(self):\n",
    "        self._testAttr = None\n",
    "        \n",
    "    @property\n",
    "    def testAttr(self):\n",
    "        return self.testAttr\n",
    "    \n",
    "    @testAttr.getter\n",
    "    def testAttr(self):\n",
    "        print(\"get testAttr\")\n",
    "        return self._testAttr\n",
    "\n",
    "    @testAttr.setter\n",
    "    def testAttr(self, value):\n",
    "        print(\"set testAttr\")\n",
    "        self._testAttr = value\n",
    "\n",
    "    @testAttr.deleter\n",
    "    def testAttr(self):\n",
    "        print(\"del testAttr\")\n",
    "        del self._testAttr"
   ]
  },
  {
   "cell_type": "code",
   "execution_count": 2,
   "id": "ca57d09d",
   "metadata": {},
   "outputs": [],
   "source": [
    "testPropertyObject = testPropertyClass()"
   ]
  },
  {
   "cell_type": "code",
   "execution_count": 3,
   "id": "6f3b27d5",
   "metadata": {},
   "outputs": [
    {
     "name": "stdout",
     "output_type": "stream",
     "text": [
      "get testAttr\n"
     ]
    }
   ],
   "source": [
    "testPropertyObject.testAttr"
   ]
  },
  {
   "cell_type": "code",
   "execution_count": 4,
   "id": "c271ce91",
   "metadata": {},
   "outputs": [
    {
     "name": "stdout",
     "output_type": "stream",
     "text": [
      "set testAttr\n"
     ]
    }
   ],
   "source": [
    "testPropertyObject.testAttr = 1982"
   ]
  },
  {
   "cell_type": "code",
   "execution_count": 5,
   "id": "de579562",
   "metadata": {},
   "outputs": [
    {
     "name": "stdout",
     "output_type": "stream",
     "text": [
      "get testAttr\n"
     ]
    },
    {
     "data": {
      "text/plain": [
       "1982"
      ]
     },
     "execution_count": 5,
     "metadata": {},
     "output_type": "execute_result"
    }
   ],
   "source": [
    "testPropertyObject.testAttr"
   ]
  },
  {
   "cell_type": "code",
   "execution_count": 6,
   "id": "03d1608d",
   "metadata": {},
   "outputs": [
    {
     "name": "stdout",
     "output_type": "stream",
     "text": [
      "del testAttr\n"
     ]
    }
   ],
   "source": [
    "del testPropertyObject.testAttr"
   ]
  },
  {
   "cell_type": "markdown",
   "id": "6aefbbb8",
   "metadata": {},
   "source": [
    "### These are all the examples covered in Chapter 5"
   ]
  }
 ],
 "metadata": {
  "kernelspec": {
   "display_name": "Python 3",
   "language": "python",
   "name": "python3"
  },
  "language_info": {
   "codemirror_mode": {
    "name": "ipython",
    "version": 3
   },
   "file_extension": ".py",
   "mimetype": "text/x-python",
   "name": "python",
   "nbconvert_exporter": "python",
   "pygments_lexer": "ipython3",
   "version": "3.9.5"
  }
 },
 "nbformat": 4,
 "nbformat_minor": 5
}
