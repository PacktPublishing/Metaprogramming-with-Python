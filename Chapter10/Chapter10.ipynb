{
 "cells": [
  {
   "cell_type": "markdown",
   "id": "a3580a72",
   "metadata": {},
   "source": [
    "## Chapter 10 MRO"
   ]
  },
  {
   "cell_type": "markdown",
   "id": "508a1bcf",
   "metadata": {},
   "source": [
    "### Understanding MRO of a class"
   ]
  },
  {
   "cell_type": "code",
   "execution_count": 1,
   "id": "f242d358",
   "metadata": {},
   "outputs": [],
   "source": [
    "class Branch:\n",
    "    def __init__(self, branchID, branchStreet, branchCity, branchState, branchZip):\n",
    "       \n",
    "        self.branchID = branchID\n",
    "        self.branchStreet = branchStreet\n",
    "        self.branchCity = branchCity\n",
    "        self.branchState = branchState\n",
    "        self.branchZip = branchZip\n",
    "\n",
    "    def getProduct(self):\n",
    "        return 'product'\n",
    "    \n",
    "    def getSales(self):\n",
    "        return 'sales'\n",
    "        \n",
    "    def getInvoice(self):\n",
    "        return 'invoice'"
   ]
  },
  {
   "cell_type": "code",
   "execution_count": 2,
   "id": "999db5e8",
   "metadata": {},
   "outputs": [
    {
     "data": {
      "text/plain": [
       "[__main__.Branch, object]"
      ]
     },
     "execution_count": 2,
     "metadata": {},
     "output_type": "execute_result"
    }
   ],
   "source": [
    "Branch.mro()"
   ]
  },
  {
   "cell_type": "markdown",
   "id": "c1ef5e9e",
   "metadata": {},
   "source": [
    "### Understanding MRO in Single inheritance"
   ]
  },
  {
   "cell_type": "code",
   "execution_count": 3,
   "id": "4fb3286d",
   "metadata": {},
   "outputs": [],
   "source": [
    "class Branch:\n",
    "   \n",
    "    def setBranch(self, **branch):\n",
    "        return branch\n",
    "    \n",
    "    def setSales(self, **sales):\n",
    "        return sales\n",
    "    \n",
    "    def setProduct(self, **product):\n",
    "        return product\n",
    "\n",
    "    def calcTax(self):\n",
    "        branch = self.branch\n",
    "        product = self.product\n",
    "        sales = self.sales\n",
    "        pricebeforetax = sales['purchasePrice'] + sales['purchasePrice'] * sales['profitMargin']\n",
    "        finalsellingprice = pricebeforetax + (pricebeforetax * sales['taxRate'])\n",
    "        sales['sellingPrice'] = finalsellingprice\n",
    "        return branch, product, sales"
   ]
  },
  {
   "cell_type": "code",
   "execution_count": 4,
   "id": "bf859852",
   "metadata": {},
   "outputs": [],
   "source": [
    "class NYC(Branch):\n",
    "    def setManagement(self, **intercitybranch):\n",
    "        return intercitybranch\n",
    "    \n",
    "    def calcTaxNYC(self):\n",
    "        branch = self.branch\n",
    "        intercitybranch = self.intercitybranch\n",
    "        product = self.product\n",
    "        sales = self.sales\n",
    "        pricebeforetax = sales['purchasePrice'] + sales['purchasePrice'] * sales['profitMargin']\n",
    "        finalsellingprice = pricebeforetax + (pricebeforetax * (sales['taxRate'] + sales['localRate']))  \n",
    "        sales['sellingPrice'] = finalsellingprice\n",
    "        return branch,intercitybranch, product, sales    "
   ]
  },
  {
   "cell_type": "code",
   "execution_count": 5,
   "id": "0576b3df",
   "metadata": {},
   "outputs": [
    {
     "data": {
      "text/plain": [
       "[__main__.NYC, __main__.Branch, object]"
      ]
     },
     "execution_count": 5,
     "metadata": {},
     "output_type": "execute_result"
    }
   ],
   "source": [
    "NYC.mro()"
   ]
  },
  {
   "cell_type": "code",
   "execution_count": 6,
   "id": "e6f91347",
   "metadata": {},
   "outputs": [],
   "source": [
    "branchManhattan = NYC()"
   ]
  },
  {
   "cell_type": "code",
   "execution_count": 7,
   "id": "10794cb1",
   "metadata": {},
   "outputs": [],
   "source": [
    "branchManhattan.intercitybranch = branchManhattan.setManagement(\n",
    "    regionalManager = 'John M',\n",
    "    branchManager = 'Tom H',\n",
    "    subBranchID = '2021-01'    \n",
    ")"
   ]
  },
  {
   "cell_type": "code",
   "execution_count": 8,
   "id": "cb7f2af9",
   "metadata": {},
   "outputs": [],
   "source": [
    "branchManhattan.branch = branchManhattan.setBranch(branchID = 2021,\n",
    "branchStreet = '40097 5th Main Street',\n",
    "branchBorough = 'Manhattan',                                                 \n",
    "branchCity = 'New York City',\n",
    "branchState = 'New York',\n",
    "branchZip = 11007)"
   ]
  },
  {
   "cell_type": "code",
   "execution_count": 9,
   "id": "42537023",
   "metadata": {},
   "outputs": [],
   "source": [
    "branchManhattan.product = branchManhattan.setProduct(\n",
    "    productId = 100002,\n",
    "    productName = 'WashingMachine',\n",
    "    productBrand = 'Whirlpool'  \n",
    ")"
   ]
  },
  {
   "cell_type": "code",
   "execution_count": 10,
   "id": "047f67b5",
   "metadata": {},
   "outputs": [],
   "source": [
    "branchManhattan.sales = branchManhattan.setSales(\n",
    "    purchasePrice = 450,\n",
    "    profitMargin = 0.19,\n",
    "    taxRate = 0.4,\n",
    "    localRate = 0.055    \n",
    ")"
   ]
  },
  {
   "cell_type": "code",
   "execution_count": 11,
   "id": "99f1905f",
   "metadata": {},
   "outputs": [
    {
     "data": {
      "text/plain": [
       "({'branchID': 2021,\n",
       "  'branchStreet': '40097 5th Main Street',\n",
       "  'branchBorough': 'Manhattan',\n",
       "  'branchCity': 'New York City',\n",
       "  'branchState': 'New York',\n",
       "  'branchZip': 11007},\n",
       " {'regionalManager': 'John M',\n",
       "  'branchManager': 'Tom H',\n",
       "  'subBranchID': '2021-01'},\n",
       " {'productId': 100002,\n",
       "  'productName': 'WashingMachine',\n",
       "  'productBrand': 'Whirlpool'},\n",
       " {'purchasePrice': 450,\n",
       "  'profitMargin': 0.19,\n",
       "  'taxRate': 0.4,\n",
       "  'localRate': 0.055,\n",
       "  'sellingPrice': 779.1525})"
      ]
     },
     "execution_count": 11,
     "metadata": {},
     "output_type": "execute_result"
    }
   ],
   "source": [
    "branchManhattan.calcTaxNYC()"
   ]
  },
  {
   "cell_type": "markdown",
   "id": "6e880034",
   "metadata": {},
   "source": [
    "### Understanding MRO in Multiple inheritance"
   ]
  },
  {
   "cell_type": "code",
   "execution_count": 12,
   "id": "fa90ebd8",
   "metadata": {},
   "outputs": [],
   "source": [
    "class Product:\n",
    "    _productID = 100902\n",
    "    _productName = 'Iphone X'\n",
    "    _productCategory = 'Electronics'\n",
    "    _unitPrice = 700\n",
    "    \n",
    "    def getProduct(self):\n",
    "        return self._productID, self._productName, self._productCategory, self._unitPrice\n",
    "\n",
    "class Branch:\n",
    "    _branchID = 2021\n",
    "    _branchStreet = '40097 5th Main Street'\n",
    "    _branchBorough = 'Manhattan'\n",
    "    _branchCity = 'New York City'\n",
    "    _branchState = 'New York'\n",
    "    _branchZip = 11007\n",
    "    \n",
    "    def getBranch(self):\n",
    "        return self._branchID, self._branchStreet, self._branchBorough, self._branchCity, self._branchState, self._branchZip\n",
    "    "
   ]
  },
  {
   "cell_type": "code",
   "execution_count": 13,
   "id": "6174a242",
   "metadata": {},
   "outputs": [],
   "source": [
    "class Sales(Product, Branch):\n",
    "    date = '08/02/2021'\n",
    "    def getSales(self):\n",
    "        return self.date, Product.getProduct(self), Branch.getBranch(self)\n"
   ]
  },
  {
   "cell_type": "code",
   "execution_count": 14,
   "id": "c0bdaea6",
   "metadata": {},
   "outputs": [
    {
     "data": {
      "text/plain": [
       "[__main__.Sales, __main__.Product, __main__.Branch, object]"
      ]
     },
     "execution_count": 14,
     "metadata": {},
     "output_type": "execute_result"
    }
   ],
   "source": [
    "Sales.mro()"
   ]
  },
  {
   "cell_type": "code",
   "execution_count": 15,
   "id": "0126f708",
   "metadata": {},
   "outputs": [],
   "source": [
    "class Invoice(Branch, Product):\n",
    "    date = '08/02/2021'\n",
    "    def getInvoice(self):\n",
    "        return self.date, Branch.getBranch(self), Product.getProduct(self)"
   ]
  },
  {
   "cell_type": "code",
   "execution_count": 16,
   "id": "4f0b0b1c",
   "metadata": {},
   "outputs": [
    {
     "data": {
      "text/plain": [
       "[__main__.Invoice, __main__.Branch, __main__.Product, object]"
      ]
     },
     "execution_count": 16,
     "metadata": {},
     "output_type": "execute_result"
    }
   ],
   "source": [
    "Invoice.mro()"
   ]
  },
  {
   "cell_type": "markdown",
   "id": "bdfe7141",
   "metadata": {},
   "source": [
    "### Reviewing MRO in Multilevel inheritance"
   ]
  },
  {
   "cell_type": "code",
   "execution_count": 17,
   "id": "6f0beb03",
   "metadata": {},
   "outputs": [],
   "source": [
    "class StoreCoupon:\n",
    "    productName = \"Strawberry Ice Cream\"\n",
    "    productCategory = \"Desserts\"\n",
    "    brand = \"ABCBrand3\"\n",
    "    store = \"Los Angeles Store\"\n",
    "    expiryDate = \"10/1/2021\"\n",
    "    quantity = 10\n",
    "    \n",
    "    def generateCoupon(self):\n",
    "        import random\n",
    "        couponId =  random.sample(range(100000000000,900000000000),2)\n",
    "        for i in couponId:\n",
    "            print('***********------------------**************')\n",
    "            print('Product:', self.productName)\n",
    "            print('Product Category:', self.productCategory)\n",
    "            print('Coupon ID:', i)\n",
    "            print('Brand:', self.brand)\n",
    "            print('Store:', self.store)\n",
    "            print('Expiry Date:', self.expiryDate)\n",
    "            print('Quantity:', self.quantity)\n",
    "            print('***********------------------**************')"
   ]
  },
  {
   "cell_type": "code",
   "execution_count": 18,
   "id": "986e962c",
   "metadata": {},
   "outputs": [],
   "source": [
    "class SendStoreCoupon(StoreCoupon):\n",
    "    pass"
   ]
  },
  {
   "cell_type": "code",
   "execution_count": 19,
   "id": "8a0cce86",
   "metadata": {},
   "outputs": [
    {
     "data": {
      "text/plain": [
       "[__main__.SendStoreCoupon, __main__.StoreCoupon, object]"
      ]
     },
     "execution_count": 19,
     "metadata": {},
     "output_type": "execute_result"
    }
   ],
   "source": [
    "SendStoreCoupon.mro()"
   ]
  },
  {
   "cell_type": "code",
   "execution_count": 20,
   "id": "9e6db220",
   "metadata": {},
   "outputs": [],
   "source": [
    "class SendCoupon(SendStoreCoupon):\n",
    "    pass"
   ]
  },
  {
   "cell_type": "code",
   "execution_count": 21,
   "id": "b50a239a",
   "metadata": {},
   "outputs": [
    {
     "data": {
      "text/plain": [
       "[__main__.SendCoupon, __main__.SendStoreCoupon, __main__.StoreCoupon, object]"
      ]
     },
     "execution_count": 21,
     "metadata": {},
     "output_type": "execute_result"
    }
   ],
   "source": [
    "SendCoupon.mro()"
   ]
  },
  {
   "cell_type": "code",
   "execution_count": 22,
   "id": "2df48ee4",
   "metadata": {},
   "outputs": [],
   "source": [
    "coupon = SendCoupon()"
   ]
  },
  {
   "cell_type": "code",
   "execution_count": 23,
   "id": "553ed018",
   "metadata": {},
   "outputs": [
    {
     "name": "stdout",
     "output_type": "stream",
     "text": [
      "***********------------------**************\n",
      "Product: Strawberry Ice Cream\n",
      "Product Category: Desserts\n",
      "Coupon ID: 666222612259\n",
      "Brand: ABCBrand3\n",
      "Store: Los Angeles Store\n",
      "Expiry Date: 10/1/2021\n",
      "Quantity: 10\n",
      "***********------------------**************\n",
      "***********------------------**************\n",
      "Product: Strawberry Ice Cream\n",
      "Product Category: Desserts\n",
      "Coupon ID: 848812188412\n",
      "Brand: ABCBrand3\n",
      "Store: Los Angeles Store\n",
      "Expiry Date: 10/1/2021\n",
      "Quantity: 10\n",
      "***********------------------**************\n"
     ]
    }
   ],
   "source": [
    "coupon.generateCoupon()"
   ]
  },
  {
   "cell_type": "markdown",
   "id": "30e62317",
   "metadata": {},
   "source": [
    "### Understanding the impact of modifying the order of inheritance"
   ]
  },
  {
   "cell_type": "code",
   "execution_count": 24,
   "id": "06b313ab",
   "metadata": {},
   "outputs": [],
   "source": [
    "class ManufacturerCoupon:\n",
    "    productName = \"Strawberry Ice Cream\"\n",
    "    productCategory = \"Desserts\"\n",
    "    brand = \"ABCBrand3\"\n",
    "    manufacturer = \"ABC Manufacturer\"\n",
    "    expiryDate = \"10/1/2021\"\n",
    "    quantity = 10\n",
    "    \n",
    "    def generateCoupon(self):\n",
    "        import random\n",
    "        couponId =  random.sample(range(100000000000,900000000000),2)\n",
    "        for i in couponId:\n",
    "            print('***********------------------**************')\n",
    "            print('Product:', self.productName)\n",
    "            print('Product Category:', self.productCategory)\n",
    "            print('Coupon ID:', i)\n",
    "            print('Brand:', self.brand)\n",
    "            print('Manufacturer:', self.manufacturer)\n",
    "            print('Expiry Date:', self.expiryDate)\n",
    "            print('Quantity:', self.quantity)\n",
    "            print('***********------------------**************')"
   ]
  },
  {
   "cell_type": "code",
   "execution_count": 25,
   "id": "af0523ef",
   "metadata": {},
   "outputs": [],
   "source": [
    "class SendCoupon(ManufacturerCoupon,SendStoreCoupon):\n",
    "    pass"
   ]
  },
  {
   "cell_type": "code",
   "execution_count": 26,
   "id": "753e3516",
   "metadata": {},
   "outputs": [
    {
     "data": {
      "text/plain": [
       "[__main__.SendCoupon,\n",
       " __main__.ManufacturerCoupon,\n",
       " __main__.SendStoreCoupon,\n",
       " __main__.StoreCoupon,\n",
       " object]"
      ]
     },
     "execution_count": 26,
     "metadata": {},
     "output_type": "execute_result"
    }
   ],
   "source": [
    "SendCoupon.mro()"
   ]
  },
  {
   "cell_type": "code",
   "execution_count": 27,
   "id": "fe186ecd",
   "metadata": {},
   "outputs": [],
   "source": [
    "coupon = SendCoupon()"
   ]
  },
  {
   "cell_type": "code",
   "execution_count": 28,
   "id": "7d3b238b",
   "metadata": {},
   "outputs": [
    {
     "name": "stdout",
     "output_type": "stream",
     "text": [
      "***********------------------**************\n",
      "Product: Strawberry Ice Cream\n",
      "Product Category: Desserts\n",
      "Coupon ID: 210120803052\n",
      "Brand: ABCBrand3\n",
      "Manufacturer: ABC Manufacturer\n",
      "Expiry Date: 10/1/2021\n",
      "Quantity: 10\n",
      "***********------------------**************\n",
      "***********------------------**************\n",
      "Product: Strawberry Ice Cream\n",
      "Product Category: Desserts\n",
      "Coupon ID: 582995396754\n",
      "Brand: ABCBrand3\n",
      "Manufacturer: ABC Manufacturer\n",
      "Expiry Date: 10/1/2021\n",
      "Quantity: 10\n",
      "***********------------------**************\n"
     ]
    }
   ],
   "source": [
    "coupon.generateCoupon()"
   ]
  },
  {
   "cell_type": "code",
   "execution_count": 29,
   "id": "9756f05a",
   "metadata": {},
   "outputs": [],
   "source": [
    "class SendCoupon(SendStoreCoupon,ManufacturerCoupon):\n",
    "    pass"
   ]
  },
  {
   "cell_type": "code",
   "execution_count": 30,
   "id": "1c3ececb",
   "metadata": {},
   "outputs": [
    {
     "data": {
      "text/plain": [
       "[__main__.SendCoupon,\n",
       " __main__.SendStoreCoupon,\n",
       " __main__.StoreCoupon,\n",
       " __main__.ManufacturerCoupon,\n",
       " object]"
      ]
     },
     "execution_count": 30,
     "metadata": {},
     "output_type": "execute_result"
    }
   ],
   "source": [
    "SendCoupon.mro()"
   ]
  },
  {
   "cell_type": "code",
   "execution_count": 31,
   "id": "e7dec7c1",
   "metadata": {},
   "outputs": [],
   "source": [
    "coupon = SendCoupon()"
   ]
  },
  {
   "cell_type": "code",
   "execution_count": 32,
   "id": "441a0e39",
   "metadata": {},
   "outputs": [
    {
     "name": "stdout",
     "output_type": "stream",
     "text": [
      "***********------------------**************\n",
      "Product: Strawberry Ice Cream\n",
      "Product Category: Desserts\n",
      "Coupon ID: 359212324381\n",
      "Brand: ABCBrand3\n",
      "Store: Los Angeles Store\n",
      "Expiry Date: 10/1/2021\n",
      "Quantity: 10\n",
      "***********------------------**************\n",
      "***********------------------**************\n",
      "Product: Strawberry Ice Cream\n",
      "Product Category: Desserts\n",
      "Coupon ID: 248478276291\n",
      "Brand: ABCBrand3\n",
      "Store: Los Angeles Store\n",
      "Expiry Date: 10/1/2021\n",
      "Quantity: 10\n",
      "***********------------------**************\n"
     ]
    }
   ],
   "source": [
    "coupon.generateCoupon()"
   ]
  },
  {
   "cell_type": "markdown",
   "id": "c33803bd",
   "metadata": {},
   "source": [
    "### Impact of unintended change of order in inheritance"
   ]
  },
  {
   "cell_type": "code",
   "execution_count": 33,
   "id": "5ab090f7",
   "metadata": {},
   "outputs": [],
   "source": [
    "class CommonCounter():\n",
    "    def __init__(self,items,name):\n",
    "        self.items = items\n",
    "        self.name = name\n",
    "        \n",
    "    def returnCart(self):\n",
    "        cartItems = []\n",
    "        for i in self.items:\n",
    "            cartItems.append(i)\n",
    "        return cartItems\n",
    "    \n",
    "    def gotoCounter(self):\n",
    "        countername = self.name\n",
    "        return countername"
   ]
  },
  {
   "cell_type": "code",
   "execution_count": 34,
   "id": "b660491e",
   "metadata": {},
   "outputs": [
    {
     "data": {
      "text/plain": [
       "[__main__.CommonCounter, object]"
      ]
     },
     "execution_count": 34,
     "metadata": {},
     "output_type": "execute_result"
    }
   ],
   "source": [
    "CommonCounter.mro()"
   ]
  },
  {
   "cell_type": "code",
   "execution_count": 35,
   "id": "d8ff5f80",
   "metadata": {},
   "outputs": [],
   "source": [
    "class CheckItems():\n",
    "    def __init__(self,itemtype = None):\n",
    "        self.itemtype = itemtype\n",
    "    \n",
    "    def reviewItems(self,itemType = None):\n",
    "        if ('Electronics' in itemType):\n",
    "            print(\"Move to Electronics Counter\")\n",
    "     \n",
    "        if ('Vegetables' in itemType):\n",
    "            print(\"Move to Vege Counter\")\n",
    "\n",
    "        if ('Dairy' in itemType):\n",
    "            print(\"Move to Vege Counter\")\n",
    "\n",
    "        if ('Fruits' in itemType):\n",
    "            print(\"Move to Vege Counter\")"
   ]
  },
  {
   "cell_type": "code",
   "execution_count": 36,
   "id": "668a1392",
   "metadata": {},
   "outputs": [
    {
     "data": {
      "text/plain": [
       "[__main__.CheckItems, object]"
      ]
     },
     "execution_count": 36,
     "metadata": {},
     "output_type": "execute_result"
    }
   ],
   "source": [
    "CheckItems.mro()"
   ]
  },
  {
   "cell_type": "code",
   "execution_count": 37,
   "id": "d60fbad6",
   "metadata": {},
   "outputs": [],
   "source": [
    "class ElectronicsCounter(CommonCounter,CheckItems):\n",
    "    def __init__(status = None):\n",
    "        self.status = status\n",
    "        \n",
    "    def testElectronics(self):\n",
    "        teststatus = []\n",
    "        for i in self.status:\n",
    "            teststatus.append(i)\n",
    "        return teststatus"
   ]
  },
  {
   "cell_type": "code",
   "execution_count": 38,
   "id": "20dfcd54",
   "metadata": {},
   "outputs": [
    {
     "data": {
      "text/plain": [
       "[__main__.ElectronicsCounter,\n",
       " __main__.CommonCounter,\n",
       " __main__.CheckItems,\n",
       " object]"
      ]
     },
     "execution_count": 38,
     "metadata": {},
     "output_type": "execute_result"
    }
   ],
   "source": [
    "ElectronicsCounter.mro()"
   ]
  },
  {
   "cell_type": "code",
   "execution_count": 39,
   "id": "903a6105",
   "metadata": {},
   "outputs": [],
   "source": [
    "class VegeCounter(CheckItems,CommonCounter):\n",
    "    def __init__(weights = None):\n",
    "        self.weights = weights\n",
    "        \n",
    "    def weighItems(self):\n",
    "        itemWeight = dict(zip(self.items, self.weights))\n",
    "        return itemWeight"
   ]
  },
  {
   "cell_type": "code",
   "execution_count": 40,
   "id": "710f24b0",
   "metadata": {},
   "outputs": [
    {
     "data": {
      "text/plain": [
       "[__main__.VegeCounter, __main__.CheckItems, __main__.CommonCounter, object]"
      ]
     },
     "execution_count": 40,
     "metadata": {},
     "output_type": "execute_result"
    }
   ],
   "source": [
    "VegeCounter.mro()"
   ]
  },
  {
   "cell_type": "code",
   "execution_count": 41,
   "id": "0002d595",
   "metadata": {},
   "outputs": [
    {
     "ename": "TypeError",
     "evalue": "Cannot create a consistent method resolution\norder (MRO) for bases CommonCounter, CheckItems",
     "output_type": "error",
     "traceback": [
      "\u001b[1;31m---------------------------------------------------------------------------\u001b[0m",
      "\u001b[1;31mTypeError\u001b[0m                                 Traceback (most recent call last)",
      "\u001b[1;32m~\\AppData\\Local\\Temp/ipykernel_7884/409991840.py\u001b[0m in \u001b[0;36m<module>\u001b[1;34m\u001b[0m\n\u001b[1;32m----> 1\u001b[1;33m \u001b[1;32mclass\u001b[0m \u001b[0mScanCode\u001b[0m\u001b[1;33m(\u001b[0m\u001b[0mElectronicsCounter\u001b[0m\u001b[1;33m,\u001b[0m\u001b[0mVegeCounter\u001b[0m\u001b[1;33m)\u001b[0m\u001b[1;33m:\u001b[0m\u001b[1;33m\u001b[0m\u001b[1;33m\u001b[0m\u001b[0m\n\u001b[0m\u001b[0;32m      2\u001b[0m     \u001b[1;32mpass\u001b[0m\u001b[1;33m\u001b[0m\u001b[1;33m\u001b[0m\u001b[0m\n",
      "\u001b[1;31mTypeError\u001b[0m: Cannot create a consistent method resolution\norder (MRO) for bases CommonCounter, CheckItems"
     ]
    }
   ],
   "source": [
    "class ScanCode(ElectronicsCounter,VegeCounter):\n",
    "    pass"
   ]
  },
  {
   "cell_type": "code",
   "execution_count": 42,
   "id": "af262491",
   "metadata": {},
   "outputs": [
    {
     "ename": "NameError",
     "evalue": "name 'ScanCode' is not defined",
     "output_type": "error",
     "traceback": [
      "\u001b[1;31m---------------------------------------------------------------------------\u001b[0m",
      "\u001b[1;31mNameError\u001b[0m                                 Traceback (most recent call last)",
      "\u001b[1;32m~\\AppData\\Local\\Temp/ipykernel_7884/771272469.py\u001b[0m in \u001b[0;36m<module>\u001b[1;34m\u001b[0m\n\u001b[1;32m----> 1\u001b[1;33m \u001b[0mScanCode\u001b[0m\u001b[1;33m.\u001b[0m\u001b[0mmro\u001b[0m\u001b[1;33m(\u001b[0m\u001b[1;33m)\u001b[0m\u001b[1;33m\u001b[0m\u001b[1;33m\u001b[0m\u001b[0m\n\u001b[0m",
      "\u001b[1;31mNameError\u001b[0m: name 'ScanCode' is not defined"
     ]
    }
   ],
   "source": [
    "ScanCode.mro()"
   ]
  },
  {
   "cell_type": "markdown",
   "id": "a22e3fcf",
   "metadata": {},
   "source": [
    "### These are the examples covered in Chapter 10"
   ]
  },
  {
   "cell_type": "code",
   "execution_count": null,
   "id": "0e351051",
   "metadata": {},
   "outputs": [],
   "source": []
  }
 ],
 "metadata": {
  "kernelspec": {
   "display_name": "Python 3 (ipykernel)",
   "language": "python",
   "name": "python3"
  },
  "language_info": {
   "codemirror_mode": {
    "name": "ipython",
    "version": 3
   },
   "file_extension": ".py",
   "mimetype": "text/x-python",
   "name": "python",
   "nbconvert_exporter": "python",
   "pygments_lexer": "ipython3",
   "version": "3.9.6"
  }
 },
 "nbformat": 4,
 "nbformat_minor": 5
}
