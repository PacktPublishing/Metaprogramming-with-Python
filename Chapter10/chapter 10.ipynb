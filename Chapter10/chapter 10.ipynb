{
 "cells": [
  {
   "cell_type": "markdown",
   "id": "a3580a72",
   "metadata": {},
   "source": [
    "## Chapter 10 MRO"
   ]
  },
  {
   "cell_type": "markdown",
   "id": "508a1bcf",
   "metadata": {},
   "source": [
    "### Understanding MRO of a class"
   ]
  },
  {
   "cell_type": "code",
   "execution_count": 3,
   "id": "f242d358",
   "metadata": {},
   "outputs": [],
   "source": [
    "class Branch:\n",
    "    def __init__(self, branch_id, branch_street, branch_city, branch_state, branch_zip, product, sales, invoice):\n",
    "       \n",
    "        self.branch_id = branch_id\n",
    "        self.branch_street = branch_street\n",
    "        self.branch_city = branch_city\n",
    "        self.branch_state = branch_state\n",
    "        self.branch_zip = branch_zip\n",
    "        self.product = product\n",
    "        self.sales = sales\n",
    "        self.invoice = invoice\n",
    "        \n",
    "    def get_product(self):\n",
    "        return self.product\n",
    "    \n",
    "    def get_sales(self):\n",
    "        return self.sales\n",
    "        \n",
    "    def get_invoice(self):\n",
    "        return self.invoice"
   ]
  },
  {
   "cell_type": "code",
   "execution_count": 2,
   "id": "999db5e8",
   "metadata": {},
   "outputs": [
    {
     "data": {
      "text/plain": [
       "[__main__.Branch, object]"
      ]
     },
     "execution_count": 2,
     "metadata": {},
     "output_type": "execute_result"
    }
   ],
   "source": [
    "Branch.mro()"
   ]
  },
  {
   "cell_type": "markdown",
   "id": "c1ef5e9e",
   "metadata": {},
   "source": [
    "### Understanding MRO in Single inheritance"
   ]
  },
  {
   "cell_type": "code",
   "execution_count": 27,
   "id": "4fb3286d",
   "metadata": {},
   "outputs": [],
   "source": [
    "class Branch:\n",
    "\n",
    "    def __init__(self, branch, sales, product):\n",
    "        self.branch = branch\n",
    "        self.sales = sales\n",
    "        self.product = product\n",
    "    \n",
    "    def set_branch(self, value):\n",
    "        self.branch = value\n",
    "            \n",
    "    def set_sales(self, value):\n",
    "        self.sales = value\n",
    "            \n",
    "    def set_product(self, value):\n",
    "        self.product = value\n",
    "        \n",
    "    def calc_tax(self):\n",
    "        branch = self.branch\n",
    "        product = self.product\n",
    "        sales = self.sales\n",
    "        pricebeforetax = sales['purchase_price'] + sales['purchase_price'] * sales['profit_margin']\n",
    "        finalselling_price = pricebeforetax + (pricebeforetax * sales['tax_rate'])\n",
    "        sales['selling_price'] = finalselling_price\n",
    "        return branch, product, sales"
   ]
  },
  {
   "cell_type": "code",
   "execution_count": 28,
   "id": "bf859852",
   "metadata": {},
   "outputs": [],
   "source": [
    "class NYC(Branch):\n",
    "    def __init__(self, intercitybranch):\n",
    "        self.intercitybranch = intercitybranch\n",
    "        \n",
    "    def set_management(self, value):\n",
    "        self.intercitybranch = value\n",
    "            \n",
    "    def calc_tax_nyc(self):\n",
    "        branch = self.branch\n",
    "        intercitybranch = self.intercitybranch\n",
    "        product = self.product\n",
    "        sales = self.sales\n",
    "        pricebeforetax = sales['purchase_price'] + sales['purchase_price'] * sales['profit_margin']\n",
    "        finalselling_price = pricebeforetax + (pricebeforetax * (sales['tax_rate'] + sales['local_rate']))  \n",
    "        sales['selling_price'] = finalselling_price\n",
    "        return branch, intercitybranch, product, sales    "
   ]
  },
  {
   "cell_type": "code",
   "execution_count": 29,
   "id": "0576b3df",
   "metadata": {},
   "outputs": [
    {
     "data": {
      "text/plain": [
       "[__main__.NYC, __main__.Branch, object]"
      ]
     },
     "execution_count": 29,
     "metadata": {},
     "output_type": "execute_result"
    }
   ],
   "source": [
    "NYC.mro()"
   ]
  },
  {
   "cell_type": "code",
   "execution_count": 37,
   "id": "e6f91347",
   "metadata": {},
   "outputs": [],
   "source": [
    "branch = {'branch_id' : 2021,\n",
    "'branch_street' : '40097 5th Main Street',\n",
    "'branchBorough' : 'Manhattan',                                                 \n",
    "'branch_city' : 'New York City',\n",
    "'branch_state' : 'New York',\n",
    "'branch_zip' : 11007}\n",
    "\n",
    "product = {'product_id' : 100002,\n",
    "    'product_name' : 'WashingMachine',\n",
    "    'productBrand' : 'Whirlpool'  \n",
    "}\n",
    "\n",
    "sales = {\n",
    "    'purchase_price' : 450,\n",
    "    'profit_margin' : 0.19,\n",
    "    'tax_rate' : 0.4,\n",
    "    'local_rate' : 0.055      \n",
    "}\n",
    "\n",
    "intercitybranch = {\n",
    "    \n",
    "}"
   ]
  },
  {
   "cell_type": "code",
   "execution_count": 38,
   "id": "d420aac4",
   "metadata": {},
   "outputs": [],
   "source": [
    "branch_manhattan = NYC(intercitybranch)"
   ]
  },
  {
   "cell_type": "code",
   "execution_count": 40,
   "id": "2f44285d",
   "metadata": {},
   "outputs": [],
   "source": [
    "branch_manhattan.set_management({'regionalManager' : 'John M',\n",
    "    'branchManager' : 'Tom H',\n",
    "    'subbranch_id' : '2021-01' })"
   ]
  },
  {
   "cell_type": "code",
   "execution_count": 41,
   "id": "4f927c2b",
   "metadata": {},
   "outputs": [],
   "source": [
    "branch_manhattan.set_branch(branch)"
   ]
  },
  {
   "cell_type": "code",
   "execution_count": 42,
   "id": "3becbfad",
   "metadata": {},
   "outputs": [],
   "source": [
    "branch_manhattan.set_product(product)"
   ]
  },
  {
   "cell_type": "code",
   "execution_count": 43,
   "id": "a408c830",
   "metadata": {},
   "outputs": [],
   "source": [
    "branch_manhattan.set_sales(sales)"
   ]
  },
  {
   "cell_type": "code",
   "execution_count": 36,
   "id": "99f1905f",
   "metadata": {},
   "outputs": [
    {
     "data": {
      "text/plain": [
       "({'branch_id': 2021,\n",
       "  'branch_street': '40097 5th Main Street',\n",
       "  'branchBorough': 'Manhattan',\n",
       "  'branch_city': 'New York City',\n",
       "  'branch_state': 'New York',\n",
       "  'branch_zip': 11007},\n",
       " {'regionalManager': 'John M',\n",
       "  'branchManager': 'Tom H',\n",
       "  'subbranch_id': '2021-01'},\n",
       " {'productId': 100002,\n",
       "  'productName': 'WashingMachine',\n",
       "  'productBrand': 'Whirlpool'},\n",
       " {'purchase_price': 450,\n",
       "  'profit_margin': 0.19,\n",
       "  'tax_rate': 0.4,\n",
       "  'local_rate': 0.055,\n",
       "  'selling_price': 779.1525})"
      ]
     },
     "execution_count": 36,
     "metadata": {},
     "output_type": "execute_result"
    }
   ],
   "source": [
    "branch_manhattan.calc_tax_nyc()"
   ]
  },
  {
   "cell_type": "markdown",
   "id": "6e880034",
   "metadata": {},
   "source": [
    "### Understanding MRO in Multiple inheritance"
   ]
  },
  {
   "cell_type": "code",
   "execution_count": 44,
   "id": "fa90ebd8",
   "metadata": {},
   "outputs": [],
   "source": [
    "class Product:\n",
    "    _product_id = 100902\n",
    "    _product_name = 'Iphone X'\n",
    "    _product_category = 'Electronics'\n",
    "    _unit_price = 700\n",
    "    \n",
    "    def get_product(self):\n",
    "        return self._product_id, self._product_name, self._product_category, self._unit_price\n",
    "\n",
    "class Branch:\n",
    "    _branch_id = 2021\n",
    "    _branch_street = '40097 5th Main Street'\n",
    "    _branch_borough = 'Manhattan'\n",
    "    _branch_city = 'New York City'\n",
    "    _branch_state = 'New York'\n",
    "    _branch_zip = 11007\n",
    "    \n",
    "    def get_branch(self):\n",
    "        return self._branch_id, self._branch_street, self._branch_borough, self._branch_city, self._branch_state, self._branch_zip\n",
    "    "
   ]
  },
  {
   "cell_type": "code",
   "execution_count": 45,
   "id": "6174a242",
   "metadata": {},
   "outputs": [],
   "source": [
    "class Sales(Product, Branch):\n",
    "    date = '08/02/2021'\n",
    "    def get_sales(self):\n",
    "        return self.date, Product.get_product(self), Branch.get_branch(self)\n"
   ]
  },
  {
   "cell_type": "code",
   "execution_count": 46,
   "id": "c0bdaea6",
   "metadata": {},
   "outputs": [
    {
     "data": {
      "text/plain": [
       "[__main__.Sales, __main__.Product, __main__.Branch, object]"
      ]
     },
     "execution_count": 46,
     "metadata": {},
     "output_type": "execute_result"
    }
   ],
   "source": [
    "Sales.mro()"
   ]
  },
  {
   "cell_type": "code",
   "execution_count": 47,
   "id": "0126f708",
   "metadata": {},
   "outputs": [],
   "source": [
    "class Invoice(Branch, Product):\n",
    "    date = '08/02/2021'\n",
    "    def get_invoice(self):\n",
    "        return self.date, Branch.get_branch(self), Product.get_product(self)"
   ]
  },
  {
   "cell_type": "code",
   "execution_count": 48,
   "id": "4f0b0b1c",
   "metadata": {},
   "outputs": [
    {
     "data": {
      "text/plain": [
       "[__main__.Invoice, __main__.Branch, __main__.Product, object]"
      ]
     },
     "execution_count": 48,
     "metadata": {},
     "output_type": "execute_result"
    }
   ],
   "source": [
    "Invoice.mro()"
   ]
  },
  {
   "cell_type": "markdown",
   "id": "bdfe7141",
   "metadata": {},
   "source": [
    "### Reviewing MRO in Multilevel inheritance"
   ]
  },
  {
   "cell_type": "code",
   "execution_count": 49,
   "id": "6f0beb03",
   "metadata": {},
   "outputs": [],
   "source": [
    "class StoreCoupon:\n",
    "    product_name = \"Strawberry Ice Cream\"\n",
    "    product_category = \"Desserts\"\n",
    "    brand = \"ABCBrand3\"\n",
    "    store = \"Los Angeles Store\"\n",
    "    expiry_date = \"10/1/2021\"\n",
    "    quantity = 10\n",
    "    \n",
    "    def generate_coupon(self):\n",
    "        import random\n",
    "        coupon_id =  random.sample(range(100000000000,900000000000),2)\n",
    "        for i in coupon_id:\n",
    "            print('***********------------------**************')\n",
    "            print('Product:', self.product_name)\n",
    "            print('Product Category:', self.product_category)\n",
    "            print('Coupon ID:', i)\n",
    "            print('Brand:', self.brand)\n",
    "            print('Store:', self.store)\n",
    "            print('Expiry Date:', self.expiry_date)\n",
    "            print('Quantity:', self.quantity)\n",
    "            print('***********------------------**************')"
   ]
  },
  {
   "cell_type": "code",
   "execution_count": 50,
   "id": "986e962c",
   "metadata": {},
   "outputs": [],
   "source": [
    "class SendStoreCoupon(StoreCoupon):\n",
    "    pass"
   ]
  },
  {
   "cell_type": "code",
   "execution_count": 51,
   "id": "8a0cce86",
   "metadata": {},
   "outputs": [
    {
     "data": {
      "text/plain": [
       "[__main__.SendStoreCoupon, __main__.StoreCoupon, object]"
      ]
     },
     "execution_count": 51,
     "metadata": {},
     "output_type": "execute_result"
    }
   ],
   "source": [
    "SendStoreCoupon.mro()"
   ]
  },
  {
   "cell_type": "code",
   "execution_count": 52,
   "id": "9e6db220",
   "metadata": {},
   "outputs": [],
   "source": [
    "class SendCoupon(SendStoreCoupon):\n",
    "    pass"
   ]
  },
  {
   "cell_type": "code",
   "execution_count": 53,
   "id": "b50a239a",
   "metadata": {},
   "outputs": [
    {
     "data": {
      "text/plain": [
       "[__main__.SendCoupon, __main__.SendStoreCoupon, __main__.StoreCoupon, object]"
      ]
     },
     "execution_count": 53,
     "metadata": {},
     "output_type": "execute_result"
    }
   ],
   "source": [
    "SendCoupon.mro()"
   ]
  },
  {
   "cell_type": "code",
   "execution_count": 54,
   "id": "2df48ee4",
   "metadata": {},
   "outputs": [],
   "source": [
    "coupon = SendCoupon()"
   ]
  },
  {
   "cell_type": "code",
   "execution_count": 55,
   "id": "553ed018",
   "metadata": {},
   "outputs": [
    {
     "name": "stdout",
     "output_type": "stream",
     "text": [
      "***********------------------**************\n",
      "Product: Strawberry Ice Cream\n",
      "Product Category: Desserts\n",
      "Coupon ID: 350310591693\n",
      "Brand: ABCBrand3\n",
      "Store: Los Angeles Store\n",
      "Expiry Date: 10/1/2021\n",
      "Quantity: 10\n",
      "***********------------------**************\n",
      "***********------------------**************\n",
      "Product: Strawberry Ice Cream\n",
      "Product Category: Desserts\n",
      "Coupon ID: 316535403307\n",
      "Brand: ABCBrand3\n",
      "Store: Los Angeles Store\n",
      "Expiry Date: 10/1/2021\n",
      "Quantity: 10\n",
      "***********------------------**************\n"
     ]
    }
   ],
   "source": [
    "coupon.generate_coupon()"
   ]
  },
  {
   "cell_type": "markdown",
   "id": "30e62317",
   "metadata": {},
   "source": [
    "### Understanding the impact of modifying the order of inheritance"
   ]
  },
  {
   "cell_type": "code",
   "execution_count": 56,
   "id": "06b313ab",
   "metadata": {},
   "outputs": [],
   "source": [
    "class ManufacturerCoupon:\n",
    "    product_name = \"Strawberry Ice Cream\"\n",
    "    product_category = \"Desserts\"\n",
    "    brand = \"ABCBrand3\"\n",
    "    manufacturer = \"ABC Manufacturer\"\n",
    "    expiry_date = \"10/1/2021\"\n",
    "    quantity = 10\n",
    "    \n",
    "    def generate_coupon(self):\n",
    "        import random\n",
    "        coupon_id =  random.sample(range(100000000000,900000000000),2)\n",
    "        for i in coupon_id:\n",
    "            print('***********------------------**************')\n",
    "            print('Product:', self.product_name)\n",
    "            print('Product Category:', self.product_category)\n",
    "            print('Coupon ID:', i)\n",
    "            print('Brand:', self.brand)\n",
    "            print('Manufacturer:', self.manufacturer)\n",
    "            print('Expiry Date:', self.expiry_date)\n",
    "            print('Quantity:', self.quantity)\n",
    "            print('***********------------------**************')"
   ]
  },
  {
   "cell_type": "code",
   "execution_count": 57,
   "id": "af0523ef",
   "metadata": {},
   "outputs": [],
   "source": [
    "class SendCoupon(ManufacturerCoupon,SendStoreCoupon):\n",
    "    pass"
   ]
  },
  {
   "cell_type": "code",
   "execution_count": 58,
   "id": "753e3516",
   "metadata": {},
   "outputs": [
    {
     "data": {
      "text/plain": [
       "[__main__.SendCoupon,\n",
       " __main__.ManufacturerCoupon,\n",
       " __main__.SendStoreCoupon,\n",
       " __main__.StoreCoupon,\n",
       " object]"
      ]
     },
     "execution_count": 58,
     "metadata": {},
     "output_type": "execute_result"
    }
   ],
   "source": [
    "SendCoupon.mro()"
   ]
  },
  {
   "cell_type": "code",
   "execution_count": 59,
   "id": "fe186ecd",
   "metadata": {},
   "outputs": [],
   "source": [
    "coupon = SendCoupon()"
   ]
  },
  {
   "cell_type": "code",
   "execution_count": 60,
   "id": "7d3b238b",
   "metadata": {},
   "outputs": [
    {
     "name": "stdout",
     "output_type": "stream",
     "text": [
      "***********------------------**************\n",
      "Product: Strawberry Ice Cream\n",
      "Product Category: Desserts\n",
      "Coupon ID: 126214201699\n",
      "Brand: ABCBrand3\n",
      "Manufacturer: ABC Manufacturer\n",
      "Expiry Date: 10/1/2021\n",
      "Quantity: 10\n",
      "***********------------------**************\n",
      "***********------------------**************\n",
      "Product: Strawberry Ice Cream\n",
      "Product Category: Desserts\n",
      "Coupon ID: 602247613557\n",
      "Brand: ABCBrand3\n",
      "Manufacturer: ABC Manufacturer\n",
      "Expiry Date: 10/1/2021\n",
      "Quantity: 10\n",
      "***********------------------**************\n"
     ]
    }
   ],
   "source": [
    "coupon.generate_coupon()"
   ]
  },
  {
   "cell_type": "code",
   "execution_count": 61,
   "id": "9756f05a",
   "metadata": {},
   "outputs": [],
   "source": [
    "class SendCoupon(SendStoreCoupon,ManufacturerCoupon):\n",
    "    pass"
   ]
  },
  {
   "cell_type": "code",
   "execution_count": 62,
   "id": "1c3ececb",
   "metadata": {},
   "outputs": [
    {
     "data": {
      "text/plain": [
       "[__main__.SendCoupon,\n",
       " __main__.SendStoreCoupon,\n",
       " __main__.StoreCoupon,\n",
       " __main__.ManufacturerCoupon,\n",
       " object]"
      ]
     },
     "execution_count": 62,
     "metadata": {},
     "output_type": "execute_result"
    }
   ],
   "source": [
    "SendCoupon.mro()"
   ]
  },
  {
   "cell_type": "code",
   "execution_count": 63,
   "id": "e7dec7c1",
   "metadata": {},
   "outputs": [],
   "source": [
    "coupon = SendCoupon()"
   ]
  },
  {
   "cell_type": "code",
   "execution_count": 64,
   "id": "441a0e39",
   "metadata": {},
   "outputs": [
    {
     "name": "stdout",
     "output_type": "stream",
     "text": [
      "***********------------------**************\n",
      "Product: Strawberry Ice Cream\n",
      "Product Category: Desserts\n",
      "Coupon ID: 733105674376\n",
      "Brand: ABCBrand3\n",
      "Store: Los Angeles Store\n",
      "Expiry Date: 10/1/2021\n",
      "Quantity: 10\n",
      "***********------------------**************\n",
      "***********------------------**************\n",
      "Product: Strawberry Ice Cream\n",
      "Product Category: Desserts\n",
      "Coupon ID: 715805912307\n",
      "Brand: ABCBrand3\n",
      "Store: Los Angeles Store\n",
      "Expiry Date: 10/1/2021\n",
      "Quantity: 10\n",
      "***********------------------**************\n"
     ]
    }
   ],
   "source": [
    "coupon.generate_coupon()"
   ]
  },
  {
   "cell_type": "markdown",
   "id": "c33803bd",
   "metadata": {},
   "source": [
    "### Impact of unintended change of order in inheritance"
   ]
  },
  {
   "cell_type": "code",
   "execution_count": 65,
   "id": "5ab090f7",
   "metadata": {},
   "outputs": [],
   "source": [
    "class CommonCounter():\n",
    "    def __init__(self,items,name):\n",
    "        self.items = items\n",
    "        self.name = name\n",
    "        \n",
    "    def return_cart(self):\n",
    "        cartItems = self.items\n",
    "        return cartItems\n",
    "    \n",
    "    def goto_counter(self):\n",
    "        countername = self.name\n",
    "        return countername"
   ]
  },
  {
   "cell_type": "code",
   "execution_count": 66,
   "id": "b660491e",
   "metadata": {},
   "outputs": [
    {
     "data": {
      "text/plain": [
       "[__main__.CommonCounter, object]"
      ]
     },
     "execution_count": 66,
     "metadata": {},
     "output_type": "execute_result"
    }
   ],
   "source": [
    "CommonCounter.mro()"
   ]
  },
  {
   "cell_type": "code",
   "execution_count": 67,
   "id": "d8ff5f80",
   "metadata": {},
   "outputs": [],
   "source": [
    "class CheckItems():\n",
    "    def __init__(self, item_type = None):\n",
    "        self.item_type = item_type\n",
    "    \n",
    "    def review_items(self, item_type = None):\n",
    "        veg_cart = ['Vegetables', 'Dairy', 'Fruits']\n",
    "        if (item_type == 'Electronics'):\n",
    "            print(\"Move to Electronics Counter\")\n",
    "        elif (item_type in veg_cart):        \n",
    "            print(\"Move to Vege Counter\")"
   ]
  },
  {
   "cell_type": "code",
   "execution_count": 68,
   "id": "668a1392",
   "metadata": {},
   "outputs": [
    {
     "data": {
      "text/plain": [
       "[__main__.CheckItems, object]"
      ]
     },
     "execution_count": 68,
     "metadata": {},
     "output_type": "execute_result"
    }
   ],
   "source": [
    "CheckItems.mro()"
   ]
  },
  {
   "cell_type": "code",
   "execution_count": 72,
   "id": "d60fbad6",
   "metadata": {},
   "outputs": [],
   "source": [
    "class ElectronicsCounter(CommonCounter,CheckItems):\n",
    "    def __init__(status = None):\n",
    "        self.status = status\n",
    "        \n",
    "    def test_electronics(self):\n",
    "        teststatus = []\n",
    "        for i in self.status:\n",
    "            teststatus.append(i)\n",
    "        return teststatus"
   ]
  },
  {
   "cell_type": "code",
   "execution_count": 73,
   "id": "20dfcd54",
   "metadata": {},
   "outputs": [
    {
     "data": {
      "text/plain": [
       "[__main__.ElectronicsCounter,\n",
       " __main__.CommonCounter,\n",
       " __main__.CheckItems,\n",
       " object]"
      ]
     },
     "execution_count": 73,
     "metadata": {},
     "output_type": "execute_result"
    }
   ],
   "source": [
    "ElectronicsCounter.mro()"
   ]
  },
  {
   "cell_type": "code",
   "execution_count": 74,
   "id": "903a6105",
   "metadata": {},
   "outputs": [],
   "source": [
    "class VegeCounter(CheckItems,CommonCounter):\n",
    "    def __init__(weights = None):\n",
    "        self.weights = weights\n",
    "        \n",
    "    def weigh_items(self):\n",
    "        item_weight = dict(zip(self.items, self.weights))\n",
    "        return item_weight"
   ]
  },
  {
   "cell_type": "code",
   "execution_count": 75,
   "id": "710f24b0",
   "metadata": {},
   "outputs": [
    {
     "data": {
      "text/plain": [
       "[__main__.VegeCounter, __main__.CheckItems, __main__.CommonCounter, object]"
      ]
     },
     "execution_count": 75,
     "metadata": {},
     "output_type": "execute_result"
    }
   ],
   "source": [
    "VegeCounter.mro()"
   ]
  },
  {
   "cell_type": "code",
   "execution_count": 76,
   "id": "0002d595",
   "metadata": {},
   "outputs": [
    {
     "ename": "TypeError",
     "evalue": "Cannot create a consistent method resolution\norder (MRO) for bases CommonCounter, CheckItems",
     "output_type": "error",
     "traceback": [
      "\u001b[1;31m---------------------------------------------------------------------------\u001b[0m",
      "\u001b[1;31mTypeError\u001b[0m                                 Traceback (most recent call last)",
      "\u001b[1;32m<ipython-input-76-4cc54bdf619a>\u001b[0m in \u001b[0;36m<module>\u001b[1;34m\u001b[0m\n\u001b[1;32m----> 1\u001b[1;33m \u001b[1;32mclass\u001b[0m \u001b[0mScanCode\u001b[0m\u001b[1;33m(\u001b[0m\u001b[0mElectronicsCounter\u001b[0m\u001b[1;33m,\u001b[0m\u001b[0mVegeCounter\u001b[0m\u001b[1;33m)\u001b[0m\u001b[1;33m:\u001b[0m\u001b[1;33m\u001b[0m\u001b[1;33m\u001b[0m\u001b[0m\n\u001b[0m\u001b[0;32m      2\u001b[0m     \u001b[1;32mpass\u001b[0m\u001b[1;33m\u001b[0m\u001b[1;33m\u001b[0m\u001b[0m\n",
      "\u001b[1;31mTypeError\u001b[0m: Cannot create a consistent method resolution\norder (MRO) for bases CommonCounter, CheckItems"
     ]
    }
   ],
   "source": [
    "class ScanCode(ElectronicsCounter,VegeCounter):\n",
    "    pass"
   ]
  },
  {
   "cell_type": "code",
   "execution_count": 77,
   "id": "af262491",
   "metadata": {},
   "outputs": [
    {
     "ename": "NameError",
     "evalue": "name 'ScanCode' is not defined",
     "output_type": "error",
     "traceback": [
      "\u001b[1;31m---------------------------------------------------------------------------\u001b[0m",
      "\u001b[1;31mNameError\u001b[0m                                 Traceback (most recent call last)",
      "\u001b[1;32m<ipython-input-77-eb38e6c9664f>\u001b[0m in \u001b[0;36m<module>\u001b[1;34m\u001b[0m\n\u001b[1;32m----> 1\u001b[1;33m \u001b[0mScanCode\u001b[0m\u001b[1;33m.\u001b[0m\u001b[0mmro\u001b[0m\u001b[1;33m(\u001b[0m\u001b[1;33m)\u001b[0m\u001b[1;33m\u001b[0m\u001b[1;33m\u001b[0m\u001b[0m\n\u001b[0m",
      "\u001b[1;31mNameError\u001b[0m: name 'ScanCode' is not defined"
     ]
    }
   ],
   "source": [
    "ScanCode.mro()"
   ]
  },
  {
   "cell_type": "markdown",
   "id": "a22e3fcf",
   "metadata": {},
   "source": [
    "### These are the examples covered in Chapter 10"
   ]
  }
 ],
 "metadata": {
  "kernelspec": {
   "display_name": "Python 3",
   "language": "python",
   "name": "python3"
  },
  "language_info": {
   "codemirror_mode": {
    "name": "ipython",
    "version": 3
   },
   "file_extension": ".py",
   "mimetype": "text/x-python",
   "name": "python",
   "nbconvert_exporter": "python",
   "pygments_lexer": "ipython3",
   "version": "3.9.5"
  }
 },
 "nbformat": 4,
 "nbformat_minor": 5
}
