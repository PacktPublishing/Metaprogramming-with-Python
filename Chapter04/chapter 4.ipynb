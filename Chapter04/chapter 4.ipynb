{
 "cells": [
  {
   "cell_type": "markdown",
   "metadata": {},
   "source": [
    "## Chapter 4"
   ]
  },
  {
   "cell_type": "markdown",
   "metadata": {},
   "source": [
    "### Type as the base class for everything"
   ]
  },
  {
   "cell_type": "code",
   "execution_count": 1,
   "metadata": {},
   "outputs": [],
   "source": [
    "class testForType:\n",
    "    pass"
   ]
  },
  {
   "cell_type": "code",
   "execution_count": 2,
   "metadata": {},
   "outputs": [
    {
     "data": {
      "text/plain": [
       "type"
      ]
     },
     "execution_count": 2,
     "metadata": {},
     "output_type": "execute_result"
    }
   ],
   "source": [
    "type(testForType)"
   ]
  },
  {
   "cell_type": "code",
   "execution_count": 3,
   "metadata": {},
   "outputs": [
    {
     "data": {
      "text/plain": [
       "type"
      ]
     },
     "execution_count": 3,
     "metadata": {},
     "output_type": "execute_result"
    }
   ],
   "source": [
    "type(int)"
   ]
  },
  {
   "cell_type": "code",
   "execution_count": 4,
   "metadata": {},
   "outputs": [
    {
     "data": {
      "text/plain": [
       "type"
      ]
     },
     "execution_count": 4,
     "metadata": {},
     "output_type": "execute_result"
    }
   ],
   "source": [
    "type(str)"
   ]
  },
  {
   "cell_type": "code",
   "execution_count": 5,
   "metadata": {},
   "outputs": [
    {
     "data": {
      "text/plain": [
       "type"
      ]
     },
     "execution_count": 5,
     "metadata": {},
     "output_type": "execute_result"
    }
   ],
   "source": [
    "type(object)"
   ]
  },
  {
   "cell_type": "code",
   "execution_count": 6,
   "metadata": {},
   "outputs": [
    {
     "data": {
      "text/plain": [
       "type"
      ]
     },
     "execution_count": 6,
     "metadata": {},
     "output_type": "execute_result"
    }
   ],
   "source": [
    "type(float)"
   ]
  },
  {
   "cell_type": "code",
   "execution_count": 7,
   "metadata": {},
   "outputs": [
    {
     "data": {
      "text/plain": [
       "type"
      ]
     },
     "execution_count": 7,
     "metadata": {},
     "output_type": "execute_result"
    }
   ],
   "source": [
    "type(list)"
   ]
  },
  {
   "cell_type": "markdown",
   "metadata": {},
   "source": [
    "### Structure of a meta class"
   ]
  },
  {
   "cell_type": "code",
   "execution_count": 8,
   "metadata": {},
   "outputs": [],
   "source": [
    "class ExampleMetaClass1(type):\n",
    "    def __new__(classitself, *args):\n",
    "        print('class itself: ', classitself)\n",
    "        print('Others: ', args)\n",
    "        return type.__new__(classitself, *args)"
   ]
  },
  {
   "cell_type": "code",
   "execution_count": 9,
   "metadata": {},
   "outputs": [
    {
     "name": "stdout",
     "output_type": "stream",
     "text": [
      "class itself:  <class '__main__.ExampleMetaClass1'>\n",
      "Others:  ('ExampleClass1', (), {'__module__': '__main__', '__qualname__': 'ExampleClass1', 'int1': 123, 'str1': 'test', 'test': <function ExampleClass1.test at 0x0000022A70DCADC0>})\n"
     ]
    }
   ],
   "source": [
    "class ExampleClass1(metaclass = ExampleMetaClass1):    \n",
    "    int1 = 123\n",
    "    str1 = 'test'\n",
    "    \n",
    "    def test():\n",
    "        print('test')"
   ]
  },
  {
   "cell_type": "markdown",
   "metadata": {},
   "source": [
    "#### Analysing the arguments"
   ]
  },
  {
   "cell_type": "code",
   "execution_count": 10,
   "metadata": {},
   "outputs": [],
   "source": [
    "class ExampleMetaClass2(type):\n",
    "    def __new__(classitself, classname, baseclasses, attributes):\n",
    "        print('class itself: ', classitself)\n",
    "        print('class name: ', classname)\n",
    "        print('parent class list: ', baseclasses)\n",
    "        print('attribute list: ', attributes)\n",
    "        return type.__new__(classitself, classname, baseclasses, attributes)"
   ]
  },
  {
   "cell_type": "code",
   "execution_count": 11,
   "metadata": {},
   "outputs": [],
   "source": [
    "class ExampleParentClass1():    \n",
    "       def test1():\n",
    "            print('parent1 - test1')"
   ]
  },
  {
   "cell_type": "code",
   "execution_count": 12,
   "metadata": {},
   "outputs": [],
   "source": [
    "class ExampleParentClass2():    \n",
    "       def test2():\n",
    "            print('parent2 - test2')"
   ]
  },
  {
   "cell_type": "code",
   "execution_count": 13,
   "metadata": {},
   "outputs": [
    {
     "name": "stdout",
     "output_type": "stream",
     "text": [
      "class itself:  <class '__main__.ExampleMetaClass2'>\n",
      "class name:  ExampleClass2\n",
      "parent class list:  (<class '__main__.ExampleParentClass1'>, <class '__main__.ExampleParentClass2'>)\n",
      "attribute list:  {'__module__': '__main__', '__qualname__': 'ExampleClass2', 'int1': 123, 'str1': 'test', 'test3': <function ExampleClass2.test3 at 0x0000022A70E0E1F0>}\n"
     ]
    }
   ],
   "source": [
    "class ExampleClass2(ExampleParentClass1,ExampleParentClass2, metaclass = ExampleMetaClass2):    \n",
    "    int1 = 123\n",
    "    str1 = 'test'\n",
    "    \n",
    "    def test3():\n",
    "        print('child1 - test3')"
   ]
  },
  {
   "cell_type": "code",
   "execution_count": 14,
   "metadata": {},
   "outputs": [
    {
     "data": {
      "text/plain": [
       "type"
      ]
     },
     "execution_count": 14,
     "metadata": {},
     "output_type": "execute_result"
    }
   ],
   "source": [
    "type(ExampleParentClass1)"
   ]
  },
  {
   "cell_type": "code",
   "execution_count": 15,
   "metadata": {},
   "outputs": [
    {
     "data": {
      "text/plain": [
       "type"
      ]
     },
     "execution_count": 15,
     "metadata": {},
     "output_type": "execute_result"
    }
   ],
   "source": [
    "type(ExampleParentClass2)"
   ]
  },
  {
   "cell_type": "code",
   "execution_count": 16,
   "metadata": {},
   "outputs": [
    {
     "data": {
      "text/plain": [
       "type"
      ]
     },
     "execution_count": 16,
     "metadata": {},
     "output_type": "execute_result"
    }
   ],
   "source": [
    "type(ExampleMetaClass2)"
   ]
  },
  {
   "cell_type": "code",
   "execution_count": 17,
   "metadata": {},
   "outputs": [
    {
     "data": {
      "text/plain": [
       "__main__.ExampleMetaClass2"
      ]
     },
     "execution_count": 17,
     "metadata": {},
     "output_type": "execute_result"
    }
   ],
   "source": [
    "type(ExampleClass2)"
   ]
  },
  {
   "cell_type": "markdown",
   "metadata": {},
   "source": [
    "### Application of meta classes"
   ]
  },
  {
   "cell_type": "code",
   "execution_count": 18,
   "metadata": {},
   "outputs": [],
   "source": [
    "class BranchMetaclass(type):\n",
    "    def __new__(classitself, classname, baseclasses, attributes):\n",
    "        import inspect\n",
    "        newattributes = {}\n",
    "        for attribute, value in attributes.items():\n",
    "            if attribute.startswith(\"__\"):\n",
    "                newattributes[attribute] = value\n",
    "            elif inspect.isfunction(value):\n",
    "                newattributes['branch' + attribute.title()] = value\n",
    "            else:\n",
    "                newattributes[attribute] = value\n",
    "        return type.__new__(classitself, classname, baseclasses, newattributes)\n",
    "    \n",
    "    def buyProduct(product,unitprice,quantity,statetaxrate,promotiontype):\n",
    "        statetaxrate = statetaxrate        \n",
    "        initialprice = unitprice*quantity \n",
    "        salesprice = initialprice + initialprice*statetaxrate\n",
    "        return salesprice, product,promotiontype"
   ]
  },
  {
   "cell_type": "code",
   "execution_count": 19,
   "metadata": {},
   "outputs": [],
   "source": [
    "class Brooklyn(metaclass = BranchMetaclass):\n",
    "    productID = 100902\n",
    "    productName = 'Iphone X'\n",
    "    productCategory = 'Electronics'\n",
    "    unitPrice = 700\n",
    "    \n",
    "    def maintenanceCost(self,productType, quantity):\n",
    "        self.productType = productType\n",
    "        self.quantity = quantity\n",
    "        coldstorageCost = 100\n",
    "        if (productType == 'Electronics'):\n",
    "            maintenanceCost = self.quantity * 0.25 + coldstorageCost    \n",
    "            return maintenanceCost\n",
    "        else:\n",
    "            return \"We don't stock this product\""
   ]
  },
  {
   "cell_type": "code",
   "execution_count": 20,
   "metadata": {},
   "outputs": [],
   "source": [
    "brooklyn = Brooklyn()"
   ]
  },
  {
   "cell_type": "code",
   "execution_count": 21,
   "metadata": {},
   "outputs": [
    {
     "data": {
      "text/plain": [
       "['__class__',\n",
       " '__delattr__',\n",
       " '__dict__',\n",
       " '__dir__',\n",
       " '__doc__',\n",
       " '__eq__',\n",
       " '__format__',\n",
       " '__ge__',\n",
       " '__getattribute__',\n",
       " '__gt__',\n",
       " '__hash__',\n",
       " '__init__',\n",
       " '__init_subclass__',\n",
       " '__le__',\n",
       " '__lt__',\n",
       " '__module__',\n",
       " '__ne__',\n",
       " '__new__',\n",
       " '__reduce__',\n",
       " '__reduce_ex__',\n",
       " '__repr__',\n",
       " '__setattr__',\n",
       " '__sizeof__',\n",
       " '__str__',\n",
       " '__subclasshook__',\n",
       " '__weakref__',\n",
       " 'branchMaintenancecost',\n",
       " 'productCategory',\n",
       " 'productID',\n",
       " 'productName',\n",
       " 'unitPrice']"
      ]
     },
     "execution_count": 21,
     "metadata": {},
     "output_type": "execute_result"
    }
   ],
   "source": [
    "dir(Brooklyn)"
   ]
  },
  {
   "cell_type": "code",
   "execution_count": 22,
   "metadata": {},
   "outputs": [
    {
     "data": {
      "text/plain": [
       "102.5"
      ]
     },
     "execution_count": 22,
     "metadata": {},
     "output_type": "execute_result"
    }
   ],
   "source": [
    "brooklyn.branchMaintenancecost('Electronics',10)"
   ]
  },
  {
   "cell_type": "code",
   "execution_count": 23,
   "metadata": {},
   "outputs": [
    {
     "data": {
      "text/plain": [
       "100902"
      ]
     },
     "execution_count": 23,
     "metadata": {},
     "output_type": "execute_result"
    }
   ],
   "source": [
    "brooklyn.productID"
   ]
  },
  {
   "cell_type": "code",
   "execution_count": 24,
   "metadata": {},
   "outputs": [
    {
     "data": {
      "text/plain": [
       "'Iphone X'"
      ]
     },
     "execution_count": 24,
     "metadata": {},
     "output_type": "execute_result"
    }
   ],
   "source": [
    "brooklyn.productName"
   ]
  },
  {
   "cell_type": "code",
   "execution_count": 25,
   "metadata": {},
   "outputs": [
    {
     "data": {
      "text/plain": [
       "'Electronics'"
      ]
     },
     "execution_count": 25,
     "metadata": {},
     "output_type": "execute_result"
    }
   ],
   "source": [
    "brooklyn.productType"
   ]
  },
  {
   "cell_type": "markdown",
   "metadata": {},
   "source": [
    "#### Inherit the Meta class"
   ]
  },
  {
   "cell_type": "code",
   "execution_count": 26,
   "metadata": {},
   "outputs": [],
   "source": [
    "class Queens(BranchMetaclass):\n",
    "    def maintenanceCost(productType, quantity):\n",
    "        productType = productType\n",
    "        quantity = quantity\n",
    "        if (productType == 'FMCG'):\n",
    "            maintenanceCost = quantity * 0.05\n",
    "            return maintenanceCost\n",
    "        else:\n",
    "            return \"We don't stock this product\""
   ]
  },
  {
   "cell_type": "code",
   "execution_count": 27,
   "metadata": {},
   "outputs": [
    {
     "ename": "TypeError",
     "evalue": "__new__() missing 3 required positional arguments: 'classname', 'baseclasses', and 'attributes'",
     "output_type": "error",
     "traceback": [
      "\u001b[1;31m---------------------------------------------------------------------------\u001b[0m",
      "\u001b[1;31mTypeError\u001b[0m                                 Traceback (most recent call last)",
      "\u001b[1;32m<ipython-input-27-bfc347d19820>\u001b[0m in \u001b[0;36m<module>\u001b[1;34m\u001b[0m\n\u001b[1;32m----> 1\u001b[1;33m \u001b[0mqueens\u001b[0m \u001b[1;33m=\u001b[0m \u001b[0mQueens\u001b[0m\u001b[1;33m(\u001b[0m\u001b[1;33m)\u001b[0m\u001b[1;33m\u001b[0m\u001b[1;33m\u001b[0m\u001b[0m\n\u001b[0m",
      "\u001b[1;31mTypeError\u001b[0m: __new__() missing 3 required positional arguments: 'classname', 'baseclasses', and 'attributes'"
     ]
    }
   ],
   "source": [
    "queens = Queens()"
   ]
  },
  {
   "cell_type": "code",
   "execution_count": 28,
   "metadata": {},
   "outputs": [
    {
     "data": {
      "text/plain": [
       "6.0"
      ]
     },
     "execution_count": 28,
     "metadata": {},
     "output_type": "execute_result"
    }
   ],
   "source": [
    "Queens.maintenanceCost('FMCG',120)"
   ]
  },
  {
   "cell_type": "code",
   "execution_count": 29,
   "metadata": {},
   "outputs": [
    {
     "data": {
      "text/plain": [
       "(1040.0, 'Iphone', None)"
      ]
     },
     "execution_count": 29,
     "metadata": {},
     "output_type": "execute_result"
    }
   ],
   "source": [
    "Queens.buyProduct('Iphone',1000,1,0.04,None)"
   ]
  },
  {
   "cell_type": "markdown",
   "metadata": {},
   "source": [
    "#### Inheriting as Parent and Meta class"
   ]
  },
  {
   "cell_type": "code",
   "execution_count": 30,
   "metadata": {},
   "outputs": [],
   "source": [
    "class Queens(BranchMetaclass, metaclass = BranchMetaclass):\n",
    "    def maintenanceCost(productType, quantity):\n",
    "        productType = productType\n",
    "        quantity = quantity\n",
    "        if (productType == 'FMCG'):\n",
    "            maintenanceCost = quantity * 0.05\n",
    "            return maintenanceCost\n",
    "        else:\n",
    "            return \"We don't stock this product\""
   ]
  },
  {
   "cell_type": "code",
   "execution_count": 31,
   "metadata": {},
   "outputs": [
    {
     "data": {
      "text/plain": [
       "117.0"
      ]
     },
     "execution_count": 31,
     "metadata": {},
     "output_type": "execute_result"
    }
   ],
   "source": [
    "Queens.branchMaintenancecost('FMCG',2340)"
   ]
  },
  {
   "cell_type": "code",
   "execution_count": 32,
   "metadata": {},
   "outputs": [
    {
     "data": {
      "text/plain": [
       "(1564.5, 'Iphone', None)"
      ]
     },
     "execution_count": 32,
     "metadata": {},
     "output_type": "execute_result"
    }
   ],
   "source": [
    "Queens.buyProduct('Iphone',1500,1,0.043,None)"
   ]
  },
  {
   "cell_type": "markdown",
   "metadata": {},
   "source": [
    "### Switching Meta classes"
   ]
  },
  {
   "cell_type": "code",
   "execution_count": 33,
   "metadata": {},
   "outputs": [],
   "source": [
    "class IncomeStatementMetaClass(type):\n",
    "    def __new__(classitself, classname, baseclasses, attributes):\n",
    "        \n",
    "        newattributes = {}\n",
    "        for attribute, value in attributes.items():\n",
    "            if attribute.startswith(\"__\"):\n",
    "                newattributes[attribute] = value\n",
    "            elif (\"revenue\" in attribute) or \\\n",
    "            (\"expense\" in attribute) or \\\n",
    "            (\"profit\" in attribute) or \\\n",
    "            (\"loss\" in attribute):\n",
    "                newattributes['IncomeStatement_' + attribute.title()] = value\n",
    "            else:\n",
    "                newattributes[attribute] = value\n",
    "        return type.__new__(classitself, classname, baseclasses, newattributes)\n",
    "        "
   ]
  },
  {
   "cell_type": "code",
   "execution_count": 34,
   "metadata": {},
   "outputs": [],
   "source": [
    "class BalanceSheetMetaClass(type):\n",
    "    def __new__(classitself, classname, baseclasses, attributes):\n",
    "        \n",
    "        newattributes = {}\n",
    "        for attribute, value in attributes.items():\n",
    "            if attribute.startswith(\"__\"):\n",
    "                newattributes[attribute] = value\n",
    "            elif (\"assets\" in attribute) or \\\n",
    "            (\"liabilities\" in attribute) or \\\n",
    "            (\"goodwill\" in attribute) or \\\n",
    "            (\"cash\" in attribute):\n",
    "                newattributes['BalanceSheet_' + attribute.title()] = value\n",
    "            else:\n",
    "                newattributes[attribute] = value\n",
    "        return type.__new__(classitself, classname, baseclasses, newattributes)\n",
    "    "
   ]
  },
  {
   "cell_type": "code",
   "execution_count": 35,
   "metadata": {},
   "outputs": [],
   "source": [
    "class Malibu:\n",
    "    profit = 4354365\n",
    "    loss = 43000\n",
    "    assets = 15000\n",
    "    liabilities = 4000\n",
    "    def calc_revenue(quantity,unitsalesprice):\n",
    "        totalrevenue = quantity * unitsaleprice \n",
    "        return totalrevenue\n",
    "    \n",
    "    def calc_expense(totalrevenue,netincome, netloss):\n",
    "        totalexpense = totalrevenue - (netincome + netloss)\n",
    "        return totalexpense  \n",
    "    \n",
    "    def calc_totalassets(cash,inventory,accountsreceivable):\n",
    "        totalassets = cash + inventory + accountsreceivable\n",
    "        return totalassets\n",
    "    \n",
    "    def calc_totalliabilities(debt,accruedexpense,accountspayable):\n",
    "        totalliabilities = debt + accruedexpense + accountspayable\n",
    "        return totalliabilities"
   ]
  },
  {
   "cell_type": "code",
   "execution_count": null,
   "metadata": {},
   "outputs": [],
   "source": [
    "Malibu."
   ]
  },
  {
   "cell_type": "code",
   "execution_count": 36,
   "metadata": {},
   "outputs": [],
   "source": [
    "class Malibu(metaclass = IncomeStatementMetaClass):\n",
    "    profit = 4354365\n",
    "    loss = 43000\n",
    "    assets = 15000\n",
    "    liabilities = 4000\n",
    "    def calc_revenue(quantity,unitsalesprice):\n",
    "        totalrevenue = quantity * unitsaleprice \n",
    "        return totalrevenue\n",
    "    \n",
    "    def calc_expense(totalrevenue,netincome, netloss):\n",
    "        totalexpense = totalrevenue - (netincome + netloss)\n",
    "        return totalexpense  \n",
    "    \n",
    "    def calc_totalassets(cash,inventory,accountsreceivable):\n",
    "        totalassets = cash + inventory + accountsreceivable\n",
    "        return totalassets\n",
    "    \n",
    "    def calc_totalliabilities(debt,accruedexpense,accountspayable):\n",
    "        totalliabilities = debt + accruedexpense + accountspayable\n",
    "        return totalliabilities"
   ]
  },
  {
   "cell_type": "code",
   "execution_count": null,
   "metadata": {},
   "outputs": [],
   "source": [
    "Malibu."
   ]
  },
  {
   "cell_type": "code",
   "execution_count": 37,
   "metadata": {},
   "outputs": [],
   "source": [
    "class Malibu(metaclass = BalanceSheetMetaClass):\n",
    "    profit = 4354365\n",
    "    loss = 43000\n",
    "    assets = 15000\n",
    "    liabilities = 4000\n",
    "    def calc_revenue(quantity,unitsalesprice):\n",
    "        totalrevenue = quantity * unitsaleprice \n",
    "        return totalrevenue\n",
    "    \n",
    "    def calc_expense(totalrevenue,netincome, netloss):\n",
    "        totalexpense = totalrevenue - (netincome + netloss)\n",
    "        return totalexpense  \n",
    "    \n",
    "    def calc_totalassets(cash,inventory,accountsreceivable):\n",
    "        totalassets = cash + inventory + accountsreceivable\n",
    "        return totalassets\n",
    "    \n",
    "    def calc_totalliabilities(debt,accruedexpense,accountspayable):\n",
    "        totalliabilities = debt + accruedexpense + accountspayable\n",
    "        return totalliabilities"
   ]
  },
  {
   "cell_type": "code",
   "execution_count": null,
   "metadata": {},
   "outputs": [],
   "source": [
    "Malibu."
   ]
  },
  {
   "cell_type": "markdown",
   "metadata": {},
   "source": [
    "### Inheritance in Meta classes"
   ]
  },
  {
   "cell_type": "code",
   "execution_count": 38,
   "metadata": {},
   "outputs": [],
   "source": [
    "class California(metaclass = IncomeStatementMetaClass):\n",
    "    profit = 4354365\n",
    "    loss = 43000\n",
    "    def calc_revenue(quantity,unitsalesprice):\n",
    "        totalrevenue = quantity * unitsaleprice \n",
    "        return totalrevenue\n",
    "    \n",
    "    def calc_expense(totalrevenue,netincome, netloss):\n",
    "        totalexpense = totalrevenue - (netincome + netloss)\n",
    "        return totalexpense  "
   ]
  },
  {
   "cell_type": "code",
   "execution_count": 39,
   "metadata": {},
   "outputs": [
    {
     "ename": "TypeError",
     "evalue": "metaclass conflict: the metaclass of a derived class must be a (non-strict) subclass of the metaclasses of all its bases",
     "output_type": "error",
     "traceback": [
      "\u001b[1;31m---------------------------------------------------------------------------\u001b[0m",
      "\u001b[1;31mTypeError\u001b[0m                                 Traceback (most recent call last)",
      "\u001b[1;32m<ipython-input-39-a1dffb78fdd6>\u001b[0m in \u001b[0;36m<module>\u001b[1;34m\u001b[0m\n\u001b[1;32m----> 1\u001b[1;33m \u001b[1;32mclass\u001b[0m \u001b[0mPasadena\u001b[0m\u001b[1;33m(\u001b[0m\u001b[0mCalifornia\u001b[0m\u001b[1;33m,\u001b[0m\u001b[0mmetaclass\u001b[0m \u001b[1;33m=\u001b[0m \u001b[0mBalanceSheetMetaClass\u001b[0m\u001b[1;33m)\u001b[0m\u001b[1;33m:\u001b[0m\u001b[1;33m\u001b[0m\u001b[1;33m\u001b[0m\u001b[0m\n\u001b[0m\u001b[0;32m      2\u001b[0m     \u001b[0massets\u001b[0m \u001b[1;33m=\u001b[0m \u001b[1;36m18000\u001b[0m\u001b[1;33m\u001b[0m\u001b[1;33m\u001b[0m\u001b[0m\n\u001b[0;32m      3\u001b[0m     \u001b[0mliabilities\u001b[0m \u001b[1;33m=\u001b[0m \u001b[1;36m5000\u001b[0m\u001b[1;33m\u001b[0m\u001b[1;33m\u001b[0m\u001b[0m\n\u001b[0;32m      4\u001b[0m     \u001b[1;32mdef\u001b[0m \u001b[0mcalc_totalassets\u001b[0m\u001b[1;33m(\u001b[0m\u001b[0mcash\u001b[0m\u001b[1;33m,\u001b[0m\u001b[0minventory\u001b[0m\u001b[1;33m,\u001b[0m\u001b[0maccountsreceivable\u001b[0m\u001b[1;33m)\u001b[0m\u001b[1;33m:\u001b[0m\u001b[1;33m\u001b[0m\u001b[1;33m\u001b[0m\u001b[0m\n\u001b[0;32m      5\u001b[0m         \u001b[0mtotalassets\u001b[0m \u001b[1;33m=\u001b[0m \u001b[0mcash\u001b[0m \u001b[1;33m+\u001b[0m \u001b[0minventory\u001b[0m \u001b[1;33m+\u001b[0m \u001b[0maccountsreceivable\u001b[0m\u001b[1;33m\u001b[0m\u001b[1;33m\u001b[0m\u001b[0m\n",
      "\u001b[1;31mTypeError\u001b[0m: metaclass conflict: the metaclass of a derived class must be a (non-strict) subclass of the metaclasses of all its bases"
     ]
    }
   ],
   "source": [
    "class Pasadena(California,metaclass = BalanceSheetMetaClass):\n",
    "    assets = 18000\n",
    "    liabilities = 5000\n",
    "    def calc_totalassets(cash,inventory,accountsreceivable):\n",
    "        totalassets = cash + inventory + accountsreceivable\n",
    "        return totalassets\n",
    "    \n",
    "    def calc_totalliabilities(debt,accruedexpense,accountspayable):\n",
    "        totalliabilities = debt + accruedexpense + accountspayable\n",
    "        return totalliabilities"
   ]
  },
  {
   "cell_type": "code",
   "execution_count": 40,
   "metadata": {},
   "outputs": [],
   "source": [
    "class BalanceSheetMetaClass(IncomeStatementMetaClass):\n",
    "    def __new__(classitself, classname, baseclasses, attributes):\n",
    "        \n",
    "        newattributes = {}\n",
    "        for attribute, value in attributes.items():\n",
    "            if attribute.startswith(\"__\"):\n",
    "                newattributes[attribute] = value\n",
    "            elif (\"assets\" in attribute) or \\\n",
    "            (\"liabilities\" in attribute) or \\\n",
    "            (\"goodwill\" in attribute) or \\\n",
    "            (\"cash\" in attribute):\n",
    "                newattributes['BalanceSheet_' + attribute.title()] = value\n",
    "            else:\n",
    "                newattributes[attribute] = value\n",
    "        return type.__new__(classitself, classname, baseclasses, newattributes)\n",
    "    "
   ]
  },
  {
   "cell_type": "code",
   "execution_count": 41,
   "metadata": {},
   "outputs": [],
   "source": [
    "class California(metaclass = IncomeStatementMetaClass):\n",
    "    profit = 4354365\n",
    "    loss = 43000\n",
    "    def calc_revenue(quantity,unitsalesprice):\n",
    "        totalrevenue = quantity * unitsaleprice \n",
    "        return totalrevenue\n",
    "    \n",
    "    def calc_expense(totalrevenue,netincome, netloss):\n",
    "        totalexpense = totalrevenue - (netincome + netloss)\n",
    "        return totalexpense  "
   ]
  },
  {
   "cell_type": "code",
   "execution_count": 42,
   "metadata": {},
   "outputs": [],
   "source": [
    "class Pasadena(California,metaclass = BalanceSheetMetaClass):\n",
    "    assets = 18000\n",
    "    liabilities = 5000\n",
    "    def calc_totalassets(cash,inventory,accountsreceivable):\n",
    "        totalassets = cash + inventory + accountsreceivable\n",
    "        return totalassets\n",
    "    \n",
    "    def calc_totalliabilities(debt,accruedexpense,accountspayable):\n",
    "        totalliabilities = debt + accruedexpense + accountspayable\n",
    "        return totalliabilities"
   ]
  },
  {
   "cell_type": "code",
   "execution_count": null,
   "metadata": {},
   "outputs": [],
   "source": [
    "Pasadena."
   ]
  },
  {
   "cell_type": "markdown",
   "metadata": {},
   "source": [
    "### Manipulating class variables"
   ]
  },
  {
   "cell_type": "code",
   "execution_count": 43,
   "metadata": {},
   "outputs": [],
   "source": [
    "class SchemaMetaClass(type):\n",
    "    def __new__(classitself, classname, baseclasses, attributes):\n",
    "        \n",
    "        newattributes = {}\n",
    "        for attribute, value in attributes.items():\n",
    "            if attribute.startswith(\"__\"):\n",
    "                newattributes[attribute] = value\n",
    "            elif type(value)==int or type(value)==float:\n",
    "                newattributes[attribute] = {}\n",
    "                newattributes[attribute]['ColumnName'] = attribute.title()\n",
    "                newattributes[attribute]['Value'] = value\n",
    "                newattributes[attribute]['Type'] = 'NUMERIC'\n",
    "                newattributes[attribute]['Length'] = len(str(value))\n",
    "            elif type(value)==str:\n",
    "                newattributes[attribute] = {}\n",
    "                newattributes[attribute]['ColumnName'] = attribute.title()\n",
    "                newattributes[attribute]['Value'] = value\n",
    "                newattributes[attribute]['Type'] = 'VARCHAR'\n",
    "                newattributes[attribute]['Length'] = len(value)\n",
    "            elif type(value)==bool:\n",
    "                newattributes[attribute] = {}\n",
    "                newattributes[attribute]['ColumnName'] = attribute.title()\n",
    "                newattributes[attribute]['Value'] = value\n",
    "                newattributes[attribute]['Type'] = 'BOOLEAN'\n",
    "                newattributes[attribute]['Length'] = None\n",
    "            else:\n",
    "                newattributes[attribute] = value                \n",
    "        return type.__new__(classitself, classname, baseclasses, newattributes)"
   ]
  },
  {
   "cell_type": "code",
   "execution_count": 44,
   "metadata": {},
   "outputs": [],
   "source": [
    "class Arizona():\n",
    "    productID = 200443\n",
    "    productName = 'Iphone'\n",
    "    productCategory = 'Electronics'\n",
    "    salesQuantity = 2\n",
    "    taxRate = 0.05\n",
    "    salesPrice = 1200\n",
    "    profit = 70\n",
    "    loss = 0\n",
    "    salesMargin = 0.1\n",
    "    promotion = '20%Off'\n",
    "    promotionReason = 'New Year'  \n",
    "    inStock = True\n",
    "    \n",
    "    def create_schema(self):\n",
    "        import pandas as pd\n",
    "        tableschema = pd.DataFrame([self.productID,\n",
    "                                     self.productName,\n",
    "                                     self.productCategory,\n",
    "                                     self.salesQuantity,\n",
    "                                     self.taxRate,\n",
    "                                     self.salesPrice,\n",
    "                                     self.profit,\n",
    "                                     self.loss,\n",
    "                                     self.salesMargin,\n",
    "                                     self.promotion,\n",
    "                                     self.promotionReason,\n",
    "                                     self.inStock])\n",
    "        tableschema.drop(labels = ['Value'], axis = 1, inplace = True)\n",
    "        return tableschema "
   ]
  },
  {
   "cell_type": "code",
   "execution_count": 45,
   "metadata": {},
   "outputs": [],
   "source": [
    "objarizona = Arizona()"
   ]
  },
  {
   "cell_type": "code",
   "execution_count": 46,
   "metadata": {},
   "outputs": [
    {
     "data": {
      "text/plain": [
       "'Iphone'"
      ]
     },
     "execution_count": 46,
     "metadata": {},
     "output_type": "execute_result"
    }
   ],
   "source": [
    "objarizona.productName"
   ]
  },
  {
   "cell_type": "code",
   "execution_count": 47,
   "metadata": {},
   "outputs": [],
   "source": [
    "class Arizona(metaclass = SchemaMetaClass):\n",
    "    productID = 200443\n",
    "    productName = 'Iphone'\n",
    "    productCategory = 'Electronics'\n",
    "    salesQuantity = 2\n",
    "    taxRate = 0.05\n",
    "    salesPrice = 1200\n",
    "    profit = 70\n",
    "    loss = 0\n",
    "    salesMargin = 0.1\n",
    "    promotion = '20%Off'\n",
    "    promotionReason = 'New Year'  \n",
    "    inStock = True\n",
    "    \n",
    "    def create_schema(self):\n",
    "        import pandas as pd\n",
    "        tableschema = pd.DataFrame([self.productID,\n",
    "                                     self.productName,\n",
    "                                     self.productCategory,\n",
    "                                     self.salesQuantity,\n",
    "                                     self.taxRate,\n",
    "                                     self.salesPrice,\n",
    "                                     self.profit,\n",
    "                                     self.loss,\n",
    "                                     self.salesMargin,\n",
    "                                     self.promotion,\n",
    "                                     self.promotionReason,\n",
    "                                     self.inStock])\n",
    "        tableschema.drop(labels = ['Value'], axis = 1, inplace = True)\n",
    "        return tableschema "
   ]
  },
  {
   "cell_type": "code",
   "execution_count": 48,
   "metadata": {},
   "outputs": [],
   "source": [
    "objarizona = Arizona()"
   ]
  },
  {
   "cell_type": "code",
   "execution_count": 49,
   "metadata": {},
   "outputs": [
    {
     "data": {
      "text/plain": [
       "{'ColumnName': 'Productname',\n",
       " 'Value': 'Iphone',\n",
       " 'Type': 'VARCHAR',\n",
       " 'Length': 6}"
      ]
     },
     "execution_count": 49,
     "metadata": {},
     "output_type": "execute_result"
    }
   ],
   "source": [
    "objarizona.productName"
   ]
  },
  {
   "cell_type": "code",
   "execution_count": 50,
   "metadata": {},
   "outputs": [
    {
     "data": {
      "text/plain": [
       "{'ColumnName': 'Productcategory',\n",
       " 'Value': 'Electronics',\n",
       " 'Type': 'VARCHAR',\n",
       " 'Length': 11}"
      ]
     },
     "execution_count": 50,
     "metadata": {},
     "output_type": "execute_result"
    }
   ],
   "source": [
    "objarizona.productCategory"
   ]
  },
  {
   "cell_type": "code",
   "execution_count": 51,
   "metadata": {},
   "outputs": [
    {
     "data": {
      "text/plain": [
       "{'ColumnName': 'Salesquantity', 'Value': 2, 'Type': 'NUMERIC', 'Length': 1}"
      ]
     },
     "execution_count": 51,
     "metadata": {},
     "output_type": "execute_result"
    }
   ],
   "source": [
    "objarizona.salesQuantity"
   ]
  },
  {
   "cell_type": "code",
   "execution_count": 52,
   "metadata": {},
   "outputs": [
    {
     "data": {
      "text/plain": [
       "{'ColumnName': 'Taxrate', 'Value': 0.05, 'Type': 'NUMERIC', 'Length': 4}"
      ]
     },
     "execution_count": 52,
     "metadata": {},
     "output_type": "execute_result"
    }
   ],
   "source": [
    "objarizona.taxRate"
   ]
  },
  {
   "cell_type": "code",
   "execution_count": 53,
   "metadata": {},
   "outputs": [
    {
     "data": {
      "text/html": [
       "<div>\n",
       "<style scoped>\n",
       "    .dataframe tbody tr th:only-of-type {\n",
       "        vertical-align: middle;\n",
       "    }\n",
       "\n",
       "    .dataframe tbody tr th {\n",
       "        vertical-align: top;\n",
       "    }\n",
       "\n",
       "    .dataframe thead th {\n",
       "        text-align: right;\n",
       "    }\n",
       "</style>\n",
       "<table border=\"1\" class=\"dataframe\">\n",
       "  <thead>\n",
       "    <tr style=\"text-align: right;\">\n",
       "      <th></th>\n",
       "      <th>ColumnName</th>\n",
       "      <th>Type</th>\n",
       "      <th>Length</th>\n",
       "    </tr>\n",
       "  </thead>\n",
       "  <tbody>\n",
       "    <tr>\n",
       "      <th>0</th>\n",
       "      <td>Productid</td>\n",
       "      <td>NUMERIC</td>\n",
       "      <td>6.0</td>\n",
       "    </tr>\n",
       "    <tr>\n",
       "      <th>1</th>\n",
       "      <td>Productname</td>\n",
       "      <td>VARCHAR</td>\n",
       "      <td>6.0</td>\n",
       "    </tr>\n",
       "    <tr>\n",
       "      <th>2</th>\n",
       "      <td>Productcategory</td>\n",
       "      <td>VARCHAR</td>\n",
       "      <td>11.0</td>\n",
       "    </tr>\n",
       "    <tr>\n",
       "      <th>3</th>\n",
       "      <td>Salesquantity</td>\n",
       "      <td>NUMERIC</td>\n",
       "      <td>1.0</td>\n",
       "    </tr>\n",
       "    <tr>\n",
       "      <th>4</th>\n",
       "      <td>Taxrate</td>\n",
       "      <td>NUMERIC</td>\n",
       "      <td>4.0</td>\n",
       "    </tr>\n",
       "    <tr>\n",
       "      <th>5</th>\n",
       "      <td>Salesprice</td>\n",
       "      <td>NUMERIC</td>\n",
       "      <td>4.0</td>\n",
       "    </tr>\n",
       "    <tr>\n",
       "      <th>6</th>\n",
       "      <td>Profit</td>\n",
       "      <td>NUMERIC</td>\n",
       "      <td>2.0</td>\n",
       "    </tr>\n",
       "    <tr>\n",
       "      <th>7</th>\n",
       "      <td>Loss</td>\n",
       "      <td>NUMERIC</td>\n",
       "      <td>1.0</td>\n",
       "    </tr>\n",
       "    <tr>\n",
       "      <th>8</th>\n",
       "      <td>Salesmargin</td>\n",
       "      <td>NUMERIC</td>\n",
       "      <td>3.0</td>\n",
       "    </tr>\n",
       "    <tr>\n",
       "      <th>9</th>\n",
       "      <td>Promotion</td>\n",
       "      <td>VARCHAR</td>\n",
       "      <td>6.0</td>\n",
       "    </tr>\n",
       "    <tr>\n",
       "      <th>10</th>\n",
       "      <td>Promotionreason</td>\n",
       "      <td>VARCHAR</td>\n",
       "      <td>8.0</td>\n",
       "    </tr>\n",
       "    <tr>\n",
       "      <th>11</th>\n",
       "      <td>Instock</td>\n",
       "      <td>BOOLEAN</td>\n",
       "      <td>NaN</td>\n",
       "    </tr>\n",
       "  </tbody>\n",
       "</table>\n",
       "</div>"
      ],
      "text/plain": [
       "         ColumnName     Type  Length\n",
       "0         Productid  NUMERIC     6.0\n",
       "1       Productname  VARCHAR     6.0\n",
       "2   Productcategory  VARCHAR    11.0\n",
       "3     Salesquantity  NUMERIC     1.0\n",
       "4           Taxrate  NUMERIC     4.0\n",
       "5        Salesprice  NUMERIC     4.0\n",
       "6            Profit  NUMERIC     2.0\n",
       "7              Loss  NUMERIC     1.0\n",
       "8       Salesmargin  NUMERIC     3.0\n",
       "9         Promotion  VARCHAR     6.0\n",
       "10  Promotionreason  VARCHAR     8.0\n",
       "11          Instock  BOOLEAN     NaN"
      ]
     },
     "execution_count": 53,
     "metadata": {},
     "output_type": "execute_result"
    }
   ],
   "source": [
    "objarizona.create_schema()"
   ]
  },
  {
   "cell_type": "markdown",
   "metadata": {},
   "source": [
    "### These are all the examples covered in Chapter 4"
   ]
  },
  {
   "cell_type": "code",
   "execution_count": null,
   "metadata": {},
   "outputs": [],
   "source": []
  }
 ],
 "metadata": {
  "kernelspec": {
   "display_name": "Python 3",
   "language": "python",
   "name": "python3"
  },
  "language_info": {
   "codemirror_mode": {
    "name": "ipython",
    "version": 3
   },
   "file_extension": ".py",
   "mimetype": "text/x-python",
   "name": "python",
   "nbconvert_exporter": "python",
   "pygments_lexer": "ipython3",
   "version": "3.8.5"
  }
 },
 "nbformat": 4,
 "nbformat_minor": 4
}
