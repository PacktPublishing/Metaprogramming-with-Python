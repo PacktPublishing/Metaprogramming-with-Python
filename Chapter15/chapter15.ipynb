{
 "cells": [
  {
   "cell_type": "code",
   "execution_count": 1,
   "metadata": {},
   "outputs": [],
   "source": [
    "from abc import ABC, abstractmethod\n",
    "class CarSpecs(type, metaclass = ABCMeta):\n",
    "    def __new__(classitself, classname, baseclasses, attributes):  \n",
    "        newattributes = {}\n",
    "        for attribute, value in attributes.items():\n",
    "            if attribute.startswith(\"__\"):\n",
    "                newattributes[attribute] = value\n",
    "            elif type(value)==int or type(value)==float:\n",
    "                newattributes[attribute] = {}\n",
    "                newattributes[attribute]['feature'] = attribute.title().replace('_', ' ')\n",
    "                newattributes[attribute]['info'] = str(value)\n",
    "                newattributes[attribute]['type'] = 'NUMERIC'\n",
    "            elif type(value)==str:\n",
    "                newattributes[attribute] = {}\n",
    "                newattributes[attribute]['feature'] = attribute.title().replace('_', ' ')\n",
    "                newattributes[attribute]['info'] = value.title()\n",
    "                newattributes[attribute]['type'] = 'VARCHAR'\n",
    "            elif type(value)==bool:\n",
    "                newattributes[attribute] = {}\n",
    "                newattributes[attribute]['feature'] = attribute.title().replace('_', ' ')\n",
    "                newattributes[attribute]['info'] = value.title()\n",
    "                newattributes[attribute]['type'] = 'BOOLEAN'\n",
    "                \n",
    "            else:\n",
    "                newattributes[attribute] = value                \n",
    "        return type.__new__(classitself, classname, baseclasses, newattributes)"
   ]
  },
  {
   "cell_type": "code",
   "execution_count": 2,
   "metadata": {},
   "outputs": [],
   "source": [
    "class CarCatalogue(metaclass = CarSpecs):\n",
    "    @abstractmethod\n",
    "    def define_color(self):\n",
    "        pass\n",
    "    \n",
    "    @abstractmethod\n",
    "    def print_catalogue(self):\n",
    "        pass"
   ]
  },
  {
   "cell_type": "code",
   "execution_count": 3,
   "metadata": {},
   "outputs": [],
   "source": [
    "class CarMake(metaclass = CarSpecs):   \n",
    "    @abstractmethod\n",
    "    def define_spec(self):\n",
    "        pass     "
   ]
  },
  {
   "cell_type": "code",
   "execution_count": 4,
   "metadata": {},
   "outputs": [],
   "source": [
    "class AlfaRomeo(CarMake, CarCatalogue, metaclass = CarSpecs):\n",
    "    fuel_type = 'gas'\n",
    "    aspiration =  'standard'\n",
    "    num_of_door = 'two'\n",
    "    drive_wheels = 'rwd'\n",
    "    wheel_base = 88.6\n",
    "    length = 168.8\n",
    "    width = 64.1\n",
    "    height = 48.8\n",
    "    curb_weight = 2548\n",
    "    fuel_system = 'mpfi'\n",
    "    city_mpg = 21\n",
    "    highway_mpg = 27\n",
    "    price = 13495\n",
    "    \n",
    "    def define_color(self):\n",
    "        BOLD = '\\33[5m'\n",
    "        BLUE = '\\033[94m'\n",
    "        return BOLD + BLUE\n",
    "        \n",
    "    def define_spec(self):\n",
    "        specs = [self.fuel_type, self.aspiration, self.num_of_door, self.drive_wheels, \n",
    "                 self.wheel_base, self.length, self.width, self.height, self.curb_weight,\n",
    "                self.fuel_system, self.city_mpg, self.highway_mpg]\n",
    "        return specs\n",
    "    \n",
    "    def print_catalogue(self):\n",
    "        for i in self.define_spec():\n",
    "            print(self.define_color() + i['feature'], \": \", self.define_color() + i['info'])   "
   ]
  },
  {
   "cell_type": "code",
   "execution_count": 5,
   "metadata": {},
   "outputs": [],
   "source": [
    "alfa = AlfaRomeo()"
   ]
  },
  {
   "cell_type": "code",
   "execution_count": 6,
   "metadata": {},
   "outputs": [
    {
     "data": {
      "text/plain": [
       "{'feature': 'Aspiration', 'info': 'Standard', 'type': 'VARCHAR'}"
      ]
     },
     "execution_count": 6,
     "metadata": {},
     "output_type": "execute_result"
    }
   ],
   "source": [
    "alfa.aspiration"
   ]
  },
  {
   "cell_type": "code",
   "execution_count": 7,
   "metadata": {},
   "outputs": [
    {
     "name": "stdout",
     "output_type": "stream",
     "text": [
      "\u001b[5m\u001b[94mFuel Type :  \u001b[5m\u001b[94mGas\n",
      "\u001b[5m\u001b[94mAspiration :  \u001b[5m\u001b[94mStandard\n",
      "\u001b[5m\u001b[94mNum Of Door :  \u001b[5m\u001b[94mTwo\n",
      "\u001b[5m\u001b[94mDrive Wheels :  \u001b[5m\u001b[94mRwd\n",
      "\u001b[5m\u001b[94mWheel Base :  \u001b[5m\u001b[94m88.6\n",
      "\u001b[5m\u001b[94mLength :  \u001b[5m\u001b[94m168.8\n",
      "\u001b[5m\u001b[94mWidth :  \u001b[5m\u001b[94m64.1\n",
      "\u001b[5m\u001b[94mHeight :  \u001b[5m\u001b[94m48.8\n",
      "\u001b[5m\u001b[94mCurb Weight :  \u001b[5m\u001b[94m2548\n",
      "\u001b[5m\u001b[94mFuel System :  \u001b[5m\u001b[94mMpfi\n",
      "\u001b[5m\u001b[94mCity Mpg :  \u001b[5m\u001b[94m21\n",
      "\u001b[5m\u001b[94mHighway Mpg :  \u001b[5m\u001b[94m27\n"
     ]
    }
   ],
   "source": [
    "alfa.print_catalogue()"
   ]
  },
  {
   "cell_type": "code",
   "execution_count": 8,
   "metadata": {},
   "outputs": [],
   "source": [
    "alfa.fuel_type['info'] = 'Diesel'"
   ]
  },
  {
   "cell_type": "code",
   "execution_count": 9,
   "metadata": {},
   "outputs": [
    {
     "data": {
      "text/plain": [
       "[{'feature': 'Fuel Type', 'info': 'Diesel', 'type': 'VARCHAR'},\n",
       " {'feature': 'Aspiration', 'info': 'Standard', 'type': 'VARCHAR'},\n",
       " {'feature': 'Num Of Door', 'info': 'Two', 'type': 'VARCHAR'},\n",
       " {'feature': 'Drive Wheels', 'info': 'Rwd', 'type': 'VARCHAR'},\n",
       " {'feature': 'Wheel Base', 'info': '88.6', 'type': 'NUMERIC'},\n",
       " {'feature': 'Length', 'info': '168.8', 'type': 'NUMERIC'},\n",
       " {'feature': 'Width', 'info': '64.1', 'type': 'NUMERIC'},\n",
       " {'feature': 'Height', 'info': '48.8', 'type': 'NUMERIC'},\n",
       " {'feature': 'Curb Weight', 'info': '2548', 'type': 'NUMERIC'},\n",
       " {'feature': 'Fuel System', 'info': 'Mpfi', 'type': 'VARCHAR'},\n",
       " {'feature': 'City Mpg', 'info': '21', 'type': 'NUMERIC'},\n",
       " {'feature': 'Highway Mpg', 'info': '27', 'type': 'NUMERIC'}]"
      ]
     },
     "execution_count": 9,
     "metadata": {},
     "output_type": "execute_result"
    }
   ],
   "source": [
    "alfa.define_spec()"
   ]
  },
  {
   "cell_type": "code",
   "execution_count": 10,
   "metadata": {},
   "outputs": [],
   "source": [
    "class Audi(CarMake, CarCatalogue, metaclass = CarSpecs):\n",
    "    fuel_type = 'gas'\n",
    "    aspiration =  'standard'\n",
    "    num_of_door = 'four'\n",
    "    drive_wheels = 'fwd'\n",
    "    wheel_base = 99.8\n",
    "    length = 176.6\n",
    "    width = 54.3\n",
    "    height = 48.8\n",
    "    curb_weight = 2337\n",
    "    fuel_system = 'mpfi'\n",
    "    city_mpg = 24\n",
    "    highway_mpg = 30\n",
    "    price = 13950\n",
    "    \n",
    "    def define_color(self):\n",
    "        BOLD = '\\33[5m'\n",
    "        GREEN = '\\033[32m'\n",
    "        return BOLD + GREEN\n",
    "        \n",
    "    def define_spec(self):\n",
    "        specs = [self.fuel_type, self.aspiration, self.num_of_door, self.drive_wheels, \n",
    "                 self.wheel_base, self.length, self.width, self.height, self.curb_weight,\n",
    "                self.fuel_system, self.city_mpg, self.highway_mpg]\n",
    "        return specs\n",
    "    \n",
    "    def print_catalogue(self):\n",
    "        for i in self.define_spec():\n",
    "            print(self.define_color() + i['feature'], \": \", self.define_color() + i['info'])   "
   ]
  },
  {
   "cell_type": "code",
   "execution_count": 11,
   "metadata": {},
   "outputs": [],
   "source": [
    "audi = Audi()"
   ]
  },
  {
   "cell_type": "code",
   "execution_count": 12,
   "metadata": {},
   "outputs": [
    {
     "name": "stdout",
     "output_type": "stream",
     "text": [
      "\u001b[5m\u001b[32mFuel Type :  \u001b[5m\u001b[32mGas\n",
      "\u001b[5m\u001b[32mAspiration :  \u001b[5m\u001b[32mStandard\n",
      "\u001b[5m\u001b[32mNum Of Door :  \u001b[5m\u001b[32mFour\n",
      "\u001b[5m\u001b[32mDrive Wheels :  \u001b[5m\u001b[32mFwd\n",
      "\u001b[5m\u001b[32mWheel Base :  \u001b[5m\u001b[32m99.8\n",
      "\u001b[5m\u001b[32mLength :  \u001b[5m\u001b[32m176.6\n",
      "\u001b[5m\u001b[32mWidth :  \u001b[5m\u001b[32m54.3\n",
      "\u001b[5m\u001b[32mHeight :  \u001b[5m\u001b[32m48.8\n",
      "\u001b[5m\u001b[32mCurb Weight :  \u001b[5m\u001b[32m2337\n",
      "\u001b[5m\u001b[32mFuel System :  \u001b[5m\u001b[32mMpfi\n",
      "\u001b[5m\u001b[32mCity Mpg :  \u001b[5m\u001b[32m24\n",
      "\u001b[5m\u001b[32mHighway Mpg :  \u001b[5m\u001b[32m30\n"
     ]
    }
   ],
   "source": [
    "audi.print_catalogue()"
   ]
  },
  {
   "cell_type": "code",
   "execution_count": 13,
   "metadata": {},
   "outputs": [],
   "source": [
    "class BodyStyle(metaclass = CarSpecs):\n",
    "    @abstractmethod\n",
    "    def body_style_features(self):\n",
    "        pass        "
   ]
  },
  {
   "cell_type": "code",
   "execution_count": 14,
   "metadata": {},
   "outputs": [],
   "source": [
    "class Sedan(BodyStyle, CarCatalogue,  metaclass = CarSpecs):\n",
    "    engine_location = 'front'\n",
    "    engine_type = 'ohc'\n",
    "    num_of_cylinders = 'four' \n",
    "    engine_size = 109\n",
    "    bore = 3.19\n",
    "    stroke = 3.4\n",
    "    compression_ratio = 10\n",
    "    horse_power = 102\n",
    "    peak_rpm = 5500\n",
    "    \n",
    "    def body_style_features(self):\n",
    "        features = [self.engine_location, self.engine_type, self.num_of_cylinders, self.engine_size,\n",
    "                 self.bore, self.stroke, self.compression_ratio, self.horse_power, self.peak_rpm]\n",
    "        return features  \n",
    "    \n",
    "    def define_color(self):\n",
    "        BOLD = '\\33[5m'\n",
    "        RED = '\\033[31m'\n",
    "        return BOLD + RED\n",
    "    \n",
    "    def print_catalogue(self):\n",
    "        for i in self.body_style_features():\n",
    "            print(self.define_color() + i['feature'], \": \", self.define_color() + i['info'])  "
   ]
  },
  {
   "cell_type": "code",
   "execution_count": 15,
   "metadata": {},
   "outputs": [],
   "source": [
    "sedan = Sedan()"
   ]
  },
  {
   "cell_type": "code",
   "execution_count": 16,
   "metadata": {},
   "outputs": [
    {
     "name": "stdout",
     "output_type": "stream",
     "text": [
      "\u001b[5m\u001b[31mEngine Location :  \u001b[5m\u001b[31mFront\n",
      "\u001b[5m\u001b[31mEngine Type :  \u001b[5m\u001b[31mOhc\n",
      "\u001b[5m\u001b[31mNum Of Cylinders :  \u001b[5m\u001b[31mFour\n",
      "\u001b[5m\u001b[31mEngine Size :  \u001b[5m\u001b[31m109\n",
      "\u001b[5m\u001b[31mBore :  \u001b[5m\u001b[31m3.19\n",
      "\u001b[5m\u001b[31mStroke :  \u001b[5m\u001b[31m3.4\n",
      "\u001b[5m\u001b[31mCompression Ratio :  \u001b[5m\u001b[31m10\n",
      "\u001b[5m\u001b[31mHorse Power :  \u001b[5m\u001b[31m102\n",
      "\u001b[5m\u001b[31mPeak Rpm :  \u001b[5m\u001b[31m5500\n"
     ]
    }
   ],
   "source": [
    "sedan.print_catalogue()"
   ]
  },
  {
   "cell_type": "code",
   "execution_count": 17,
   "metadata": {},
   "outputs": [],
   "source": [
    "class SaleType(metaclass = CarSpecs):\n",
    "    @abstractmethod\n",
    "    def calculate_price(self):\n",
    "        pass"
   ]
  },
  {
   "cell_type": "code",
   "execution_count": 41,
   "metadata": {},
   "outputs": [],
   "source": [
    "class New(SaleType, CarCatalogue,  metaclass = CarSpecs):\n",
    "    def calculate_price(self, classname):\n",
    "        car = classname()\n",
    "        price = float(car.price['info'])\n",
    "        return price"
   ]
  },
  {
   "cell_type": "code",
   "execution_count": 42,
   "metadata": {},
   "outputs": [],
   "source": [
    "class Resale(SaleType, CarCatalogue,  metaclass = CarSpecs):\n",
    "    def calculate_price(self, classname, years):\n",
    "        car = classname()\n",
    "        depreciation = years * 0.15\n",
    "        price = float(car.price['info']) * (1 - depreciation)\n",
    "        return price"
   ]
  },
  {
   "cell_type": "code",
   "execution_count": 43,
   "metadata": {},
   "outputs": [],
   "source": [
    "resale = Resale()"
   ]
  },
  {
   "cell_type": "code",
   "execution_count": 44,
   "metadata": {},
   "outputs": [
    {
     "data": {
      "text/plain": [
       "9765.0"
      ]
     },
     "execution_count": 44,
     "metadata": {},
     "output_type": "execute_result"
    }
   ],
   "source": [
    "resale.calculate_price(Audi, 2)"
   ]
  },
  {
   "cell_type": "code",
   "execution_count": null,
   "metadata": {},
   "outputs": [],
   "source": []
  }
 ],
 "metadata": {
  "kernelspec": {
   "display_name": "Python 3",
   "language": "python",
   "name": "python3"
  },
  "language_info": {
   "codemirror_mode": {
    "name": "ipython",
    "version": 3
   },
   "file_extension": ".py",
   "mimetype": "text/x-python",
   "name": "python",
   "nbconvert_exporter": "python",
   "pygments_lexer": "ipython3",
   "version": "3.9.5"
  }
 },
 "nbformat": 4,
 "nbformat_minor": 4
}
