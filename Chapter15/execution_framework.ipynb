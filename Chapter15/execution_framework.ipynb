{
 "cells": [
  {
   "cell_type": "code",
   "execution_count": 16,
   "id": "8550828f",
   "metadata": {},
   "outputs": [],
   "source": [
    "import abccaragencylib as carsales"
   ]
  },
  {
   "cell_type": "code",
   "execution_count": 37,
   "id": "f0856710",
   "metadata": {},
   "outputs": [],
   "source": [
    "class Queue:\n",
    "    def __init__(self, makeclass, styleclass, age):\n",
    "        self.makeclass = makeclass\n",
    "        self.styleclass = styleclass\n",
    "        self.make = self.makeclass()\n",
    "        self.style = self.styleclass()\n",
    "        self.new = carsales.New()\n",
    "        self.resale = carsales.Resale()\n",
    "        self.age = age\n",
    "    \n",
    "    def pipeline(self):\n",
    "        print('*********ABC Car Agency - Catalogue***********')\n",
    "        self.make.print_catalogue()\n",
    "        print('\\n')\n",
    "        self.style.print_catalogue()\n",
    "        print('\\n')\n",
    "        print('New Car Price : ' + str(self.new.calculate_price(self.makeclass)))\n",
    "        print('Resale Price : ' + str(self.resale.calculate_price(self.makeclass, self.age)))"
   ]
  },
  {
   "cell_type": "code",
   "execution_count": 38,
   "id": "c8be7485",
   "metadata": {},
   "outputs": [],
   "source": [
    "def run_facade(makeclass, styleclass, age):\n",
    "    queue = Queue(makeclass, styleclass, age)\n",
    "    queue.pipeline()"
   ]
  },
  {
   "cell_type": "code",
   "execution_count": 39,
   "id": "2aca514e",
   "metadata": {},
   "outputs": [
    {
     "name": "stdout",
     "output_type": "stream",
     "text": [
      "*********ABC Car Agency - Catalogue***********\n",
      "\u001b[5m\u001b[94mFuel Type :  \u001b[5m\u001b[94mGas\n",
      "\u001b[5m\u001b[94mAspiration :  \u001b[5m\u001b[94mStd\n",
      "\u001b[5m\u001b[94mNum Of Door :  \u001b[5m\u001b[94mTwo\n",
      "\u001b[5m\u001b[94mDrive Wheels :  \u001b[5m\u001b[94mRwd\n",
      "\u001b[5m\u001b[94mWheel Base :  \u001b[5m\u001b[94m94.5\n",
      "\u001b[5m\u001b[94mLength :  \u001b[5m\u001b[94m171.2\n",
      "\u001b[5m\u001b[94mWidth :  \u001b[5m\u001b[94m65.5\n",
      "\u001b[5m\u001b[94mHeight :  \u001b[5m\u001b[94m52.4\n",
      "\u001b[5m\u001b[94mCurb Weight :  \u001b[5m\u001b[94m2823\n",
      "\u001b[5m\u001b[94mFuel System :  \u001b[5m\u001b[94mMpfi\n",
      "\u001b[5m\u001b[94mCity Mpg :  \u001b[5m\u001b[94m19\n",
      "\u001b[5m\u001b[94mHighway Mpg :  \u001b[5m\u001b[94m26\n",
      "\n",
      "\n",
      "\u001b[5m\u001b[31mEngine Location :  \u001b[5m\u001b[31mFront\n",
      "\u001b[5m\u001b[31mEngine Type :  \u001b[5m\u001b[31mOhc\n",
      "\u001b[5m\u001b[31mNum Of Cylinders :  \u001b[5m\u001b[31mFour\n",
      "\u001b[5m\u001b[31mEngine Size :  \u001b[5m\u001b[31m97\n",
      "\u001b[5m\u001b[31mBore :  \u001b[5m\u001b[31m3.15\n",
      "\u001b[5m\u001b[31mStroke :  \u001b[5m\u001b[31m3.29\n",
      "\u001b[5m\u001b[31mCompression Ratio :  \u001b[5m\u001b[31m9.4\n",
      "\u001b[5m\u001b[31mHorse Power :  \u001b[5m\u001b[31m69\n",
      "\u001b[5m\u001b[31mPeak Rpm :  \u001b[5m\u001b[31m5200\n",
      "\n",
      "\n",
      "New Car Price : 16500.0\n",
      "Resale Price : 9075.0\n"
     ]
    }
   ],
   "source": [
    "run_facade(carsales.AlfaRomero1, carsales.Hatchback28, 3)"
   ]
  },
  {
   "cell_type": "code",
   "execution_count": 40,
   "id": "e72b8258",
   "metadata": {},
   "outputs": [
    {
     "name": "stdout",
     "output_type": "stream",
     "text": [
      "*********ABC Car Agency - Catalogue***********\n",
      "\u001b[5m\u001b[94mFuel Type :  \u001b[5m\u001b[94mGas\n",
      "\u001b[5m\u001b[94mAspiration :  \u001b[5m\u001b[94mStd\n",
      "\u001b[5m\u001b[94mNum Of Door :  \u001b[5m\u001b[94mTwo\n",
      "\u001b[5m\u001b[94mDrive Wheels :  \u001b[5m\u001b[94mFwd\n",
      "\u001b[5m\u001b[94mWheel Base :  \u001b[5m\u001b[94m93.7\n",
      "\u001b[5m\u001b[94mLength :  \u001b[5m\u001b[94m157.3\n",
      "\u001b[5m\u001b[94mWidth :  \u001b[5m\u001b[94m64.4\n",
      "\u001b[5m\u001b[94mHeight :  \u001b[5m\u001b[94m50.8\n",
      "\u001b[5m\u001b[94mCurb Weight :  \u001b[5m\u001b[94m1918\n",
      "\u001b[5m\u001b[94mFuel System :  \u001b[5m\u001b[94m2Bbl\n",
      "\u001b[5m\u001b[94mCity Mpg :  \u001b[5m\u001b[94m37\n",
      "\u001b[5m\u001b[94mHighway Mpg :  \u001b[5m\u001b[94m41\n",
      "\n",
      "\n",
      "\u001b[5m\u001b[31mEngine Location :  \u001b[5m\u001b[31mFront\n",
      "\u001b[5m\u001b[31mEngine Type :  \u001b[5m\u001b[31mDohc\n",
      "\u001b[5m\u001b[31mNum Of Cylinders :  \u001b[5m\u001b[31mSix\n",
      "\u001b[5m\u001b[31mEngine Size :  \u001b[5m\u001b[31m258\n",
      "\u001b[5m\u001b[31mBore :  \u001b[5m\u001b[31m3.63\n",
      "\u001b[5m\u001b[31mStroke :  \u001b[5m\u001b[31m4.17\n",
      "\u001b[5m\u001b[31mCompression Ratio :  \u001b[5m\u001b[31m8.1\n",
      "\u001b[5m\u001b[31mHorse Power :  \u001b[5m\u001b[31m176\n",
      "\u001b[5m\u001b[31mPeak Rpm :  \u001b[5m\u001b[31m4750\n",
      "\n",
      "\n",
      "New Car Price : 5389.0\n",
      "Resale Price : 1347.25\n"
     ]
    }
   ],
   "source": [
    "run_facade(carsales.Mitsubishi24, carsales.Sedan16, 5)"
   ]
  },
  {
   "cell_type": "code",
   "execution_count": null,
   "id": "e2504e78",
   "metadata": {},
   "outputs": [],
   "source": []
  }
 ],
 "metadata": {
  "kernelspec": {
   "display_name": "Python 3",
   "language": "python",
   "name": "python3"
  },
  "language_info": {
   "codemirror_mode": {
    "name": "ipython",
    "version": 3
   },
   "file_extension": ".py",
   "mimetype": "text/x-python",
   "name": "python",
   "nbconvert_exporter": "python",
   "pygments_lexer": "ipython3",
   "version": "3.9.5"
  }
 },
 "nbformat": 4,
 "nbformat_minor": 5
}
