{
 "cells": [
  {
   "cell_type": "code",
   "execution_count": 1,
   "id": "8da7fbee",
   "metadata": {},
   "outputs": [],
   "source": [
    "import pandas as pd"
   ]
  },
  {
   "cell_type": "code",
   "execution_count": 2,
   "id": "3f9f5f96",
   "metadata": {},
   "outputs": [],
   "source": [
    "auto = pd.read_csv(\"automobile.csv\")"
   ]
  },
  {
   "cell_type": "code",
   "execution_count": 3,
   "id": "0b29514a",
   "metadata": {},
   "outputs": [],
   "source": [
    "auto_truncated = auto.copy(deep=True)"
   ]
  },
  {
   "cell_type": "code",
   "execution_count": 4,
   "id": "3a89e5a2",
   "metadata": {},
   "outputs": [],
   "source": [
    "auto_truncated.drop_duplicates(subset = ['make','body-style'], inplace = True)"
   ]
  },
  {
   "cell_type": "code",
   "execution_count": 5,
   "id": "ce0c6f64",
   "metadata": {},
   "outputs": [],
   "source": [
    "auto_truncated.reset_index(inplace = True, drop = True)"
   ]
  },
  {
   "cell_type": "code",
   "execution_count": 6,
   "id": "f116e41b",
   "metadata": {},
   "outputs": [],
   "source": [
    "auto_truncated['make'] = auto_truncated['make'].apply(lambda x: x.title().replace('-',''))"
   ]
  },
  {
   "cell_type": "code",
   "execution_count": 7,
   "id": "6d3694ab",
   "metadata": {},
   "outputs": [],
   "source": [
    "auto_truncated.reset_index(inplace = True)"
   ]
  },
  {
   "cell_type": "code",
   "execution_count": 8,
   "id": "829abdc8",
   "metadata": {},
   "outputs": [],
   "source": [
    "auto_truncated['index'] = auto_truncated['index'].astype('str')"
   ]
  },
  {
   "cell_type": "code",
   "execution_count": 9,
   "id": "60919ddc",
   "metadata": {},
   "outputs": [],
   "source": [
    "auto_truncated['make'] = auto_truncated['make'] + auto_truncated['index']"
   ]
  },
  {
   "cell_type": "code",
   "execution_count": 10,
   "id": "a2522a1d",
   "metadata": {},
   "outputs": [],
   "source": [
    "auto_specs = auto_truncated[['make', 'fuel-type', 'aspiration', 'num-of-doors', 'drive-wheels', 'wheel-base',\n",
    "               'length', 'width', 'height', 'curb-weight', 'fuel-system', 'city-mpg', \n",
    "               'highway-mpg', 'price']].copy(deep = True)"
   ]
  },
  {
   "cell_type": "code",
   "execution_count": 11,
   "id": "923e4658",
   "metadata": {},
   "outputs": [],
   "source": [
    "auto_specs.columns = ['classname', 'fuel_type', 'aspiration', 'num_of_door', 'drive_wheels',\n",
    "                      'wheel_base', 'length', 'width', 'height', 'curb_weight', 'fuel_system',\n",
    "                      'city_mpg', 'highway_mpg', 'price' ]"
   ]
  },
  {
   "cell_type": "code",
   "execution_count": 12,
   "id": "b81f62de",
   "metadata": {},
   "outputs": [],
   "source": [
    "for col in auto_specs.columns:\n",
    "    auto_specs[col] = auto_specs[col].astype('str')"
   ]
  },
  {
   "cell_type": "code",
   "execution_count": 13,
   "id": "2d637933",
   "metadata": {},
   "outputs": [],
   "source": [
    "auto_truncated['body-style'] = auto_truncated['body-style'].apply(lambda x: x.title().replace('-',''))"
   ]
  },
  {
   "cell_type": "code",
   "execution_count": 14,
   "id": "70fdffab",
   "metadata": {},
   "outputs": [],
   "source": [
    "auto_truncated['body-style'] = auto_truncated['body-style'] + auto_truncated['index']"
   ]
  },
  {
   "cell_type": "code",
   "execution_count": 15,
   "id": "4821741c",
   "metadata": {},
   "outputs": [],
   "source": [
    "auto_features = auto_truncated[['body-style', 'engine-location', 'engine-type', 'num-of-cylinders', 'engine-size', 'bore',\n",
    "               'stroke', 'compression-ratio', 'horsepower', 'peak-rpm']].copy(deep = True)"
   ]
  },
  {
   "cell_type": "code",
   "execution_count": 16,
   "id": "7de08327",
   "metadata": {},
   "outputs": [],
   "source": [
    "auto_features.columns = ['classname', 'engine_location', 'engine_type', 'num_of_cylinders', \n",
    "                         'engine_size', 'bore', 'stroke', 'compression_ratio', 'horse_power', \n",
    "                         'peak_rpm']"
   ]
  },
  {
   "cell_type": "code",
   "execution_count": 17,
   "id": "b5d15c55",
   "metadata": {},
   "outputs": [],
   "source": [
    "for col in auto_features.columns:\n",
    "    auto_features[col] = auto_features[col].astype('str')"
   ]
  },
  {
   "cell_type": "code",
   "execution_count": 19,
   "id": "178f2894",
   "metadata": {},
   "outputs": [
    {
     "data": {
      "text/plain": [
       "(56, 14)"
      ]
     },
     "execution_count": 19,
     "metadata": {},
     "output_type": "execute_result"
    }
   ],
   "source": [
    "auto_specs.shape"
   ]
  },
  {
   "cell_type": "code",
   "execution_count": 18,
   "id": "d7509326",
   "metadata": {},
   "outputs": [
    {
     "data": {
      "text/html": [
       "<div>\n",
       "<style scoped>\n",
       "    .dataframe tbody tr th:only-of-type {\n",
       "        vertical-align: middle;\n",
       "    }\n",
       "\n",
       "    .dataframe tbody tr th {\n",
       "        vertical-align: top;\n",
       "    }\n",
       "\n",
       "    .dataframe thead th {\n",
       "        text-align: right;\n",
       "    }\n",
       "</style>\n",
       "<table border=\"1\" class=\"dataframe\">\n",
       "  <thead>\n",
       "    <tr style=\"text-align: right;\">\n",
       "      <th></th>\n",
       "      <th>classname</th>\n",
       "      <th>fuel_type</th>\n",
       "      <th>aspiration</th>\n",
       "      <th>num_of_door</th>\n",
       "      <th>drive_wheels</th>\n",
       "      <th>wheel_base</th>\n",
       "      <th>length</th>\n",
       "      <th>width</th>\n",
       "      <th>height</th>\n",
       "      <th>curb_weight</th>\n",
       "      <th>fuel_system</th>\n",
       "      <th>city_mpg</th>\n",
       "      <th>highway_mpg</th>\n",
       "      <th>price</th>\n",
       "    </tr>\n",
       "  </thead>\n",
       "  <tbody>\n",
       "    <tr>\n",
       "      <th>12</th>\n",
       "      <td>Honda12</td>\n",
       "      <td>gas</td>\n",
       "      <td>std</td>\n",
       "      <td>four</td>\n",
       "      <td>fwd</td>\n",
       "      <td>96.5</td>\n",
       "      <td>163.4</td>\n",
       "      <td>64.0</td>\n",
       "      <td>54.5</td>\n",
       "      <td>2010</td>\n",
       "      <td>1bbl</td>\n",
       "      <td>30</td>\n",
       "      <td>34</td>\n",
       "      <td>7295</td>\n",
       "    </tr>\n",
       "    <tr>\n",
       "      <th>49</th>\n",
       "      <td>Toyota49</td>\n",
       "      <td>gas</td>\n",
       "      <td>std</td>\n",
       "      <td>two</td>\n",
       "      <td>rwd</td>\n",
       "      <td>98.4</td>\n",
       "      <td>176.2</td>\n",
       "      <td>65.6</td>\n",
       "      <td>53.0</td>\n",
       "      <td>2975</td>\n",
       "      <td>mpfi</td>\n",
       "      <td>24</td>\n",
       "      <td>30</td>\n",
       "      <td>17669</td>\n",
       "    </tr>\n",
       "    <tr>\n",
       "      <th>54</th>\n",
       "      <td>Volvo54</td>\n",
       "      <td>gas</td>\n",
       "      <td>std</td>\n",
       "      <td>four</td>\n",
       "      <td>rwd</td>\n",
       "      <td>104.3</td>\n",
       "      <td>188.8</td>\n",
       "      <td>67.2</td>\n",
       "      <td>56.2</td>\n",
       "      <td>2912</td>\n",
       "      <td>mpfi</td>\n",
       "      <td>23</td>\n",
       "      <td>28</td>\n",
       "      <td>12940</td>\n",
       "    </tr>\n",
       "    <tr>\n",
       "      <th>25</th>\n",
       "      <td>Mitsubishi25</td>\n",
       "      <td>gas</td>\n",
       "      <td>std</td>\n",
       "      <td>four</td>\n",
       "      <td>fwd</td>\n",
       "      <td>96.3</td>\n",
       "      <td>172.4</td>\n",
       "      <td>65.4</td>\n",
       "      <td>51.6</td>\n",
       "      <td>2365</td>\n",
       "      <td>2bbl</td>\n",
       "      <td>25</td>\n",
       "      <td>32</td>\n",
       "      <td>6989</td>\n",
       "    </tr>\n",
       "    <tr>\n",
       "      <th>11</th>\n",
       "      <td>Honda11</td>\n",
       "      <td>gas</td>\n",
       "      <td>std</td>\n",
       "      <td>two</td>\n",
       "      <td>fwd</td>\n",
       "      <td>86.6</td>\n",
       "      <td>144.6</td>\n",
       "      <td>63.9</td>\n",
       "      <td>50.8</td>\n",
       "      <td>1713</td>\n",
       "      <td>1bbl</td>\n",
       "      <td>49</td>\n",
       "      <td>54</td>\n",
       "      <td>6479</td>\n",
       "    </tr>\n",
       "  </tbody>\n",
       "</table>\n",
       "</div>"
      ],
      "text/plain": [
       "       classname fuel_type aspiration num_of_door drive_wheels wheel_base  \\\n",
       "12       Honda12       gas        std        four          fwd       96.5   \n",
       "49      Toyota49       gas        std         two          rwd       98.4   \n",
       "54       Volvo54       gas        std        four          rwd      104.3   \n",
       "25  Mitsubishi25       gas        std        four          fwd       96.3   \n",
       "11       Honda11       gas        std         two          fwd       86.6   \n",
       "\n",
       "   length width height curb_weight fuel_system city_mpg highway_mpg  price  \n",
       "12  163.4  64.0   54.5        2010        1bbl       30          34   7295  \n",
       "49  176.2  65.6   53.0        2975        mpfi       24          30  17669  \n",
       "54  188.8  67.2   56.2        2912        mpfi       23          28  12940  \n",
       "25  172.4  65.4   51.6        2365        2bbl       25          32   6989  \n",
       "11  144.6  63.9   50.8        1713        1bbl       49          54   6479  "
      ]
     },
     "execution_count": 18,
     "metadata": {},
     "output_type": "execute_result"
    }
   ],
   "source": [
    "auto_specs.sample(5)"
   ]
  },
  {
   "cell_type": "code",
   "execution_count": 20,
   "id": "6f9f40f2",
   "metadata": {},
   "outputs": [
    {
     "data": {
      "text/plain": [
       "(56, 10)"
      ]
     },
     "execution_count": 20,
     "metadata": {},
     "output_type": "execute_result"
    }
   ],
   "source": [
    "auto_features.shape"
   ]
  },
  {
   "cell_type": "code",
   "execution_count": 19,
   "id": "3a74d0f2",
   "metadata": {},
   "outputs": [
    {
     "data": {
      "text/html": [
       "<div>\n",
       "<style scoped>\n",
       "    .dataframe tbody tr th:only-of-type {\n",
       "        vertical-align: middle;\n",
       "    }\n",
       "\n",
       "    .dataframe tbody tr th {\n",
       "        vertical-align: top;\n",
       "    }\n",
       "\n",
       "    .dataframe thead th {\n",
       "        text-align: right;\n",
       "    }\n",
       "</style>\n",
       "<table border=\"1\" class=\"dataframe\">\n",
       "  <thead>\n",
       "    <tr style=\"text-align: right;\">\n",
       "      <th></th>\n",
       "      <th>classname</th>\n",
       "      <th>engine_location</th>\n",
       "      <th>engine_type</th>\n",
       "      <th>num_of_cylinders</th>\n",
       "      <th>engine_size</th>\n",
       "      <th>bore</th>\n",
       "      <th>stroke</th>\n",
       "      <th>compression_ratio</th>\n",
       "      <th>horse_power</th>\n",
       "      <th>peak_rpm</th>\n",
       "    </tr>\n",
       "  </thead>\n",
       "  <tbody>\n",
       "    <tr>\n",
       "      <th>13</th>\n",
       "      <td>Wagon13</td>\n",
       "      <td>front</td>\n",
       "      <td>ohc</td>\n",
       "      <td>four</td>\n",
       "      <td>92</td>\n",
       "      <td>2.92</td>\n",
       "      <td>3.41</td>\n",
       "      <td>9.2</td>\n",
       "      <td>76</td>\n",
       "      <td>6000</td>\n",
       "    </tr>\n",
       "    <tr>\n",
       "      <th>9</th>\n",
       "      <td>Sedan9</td>\n",
       "      <td>front</td>\n",
       "      <td>ohc</td>\n",
       "      <td>four</td>\n",
       "      <td>90</td>\n",
       "      <td>2.97</td>\n",
       "      <td>3.23</td>\n",
       "      <td>9.4</td>\n",
       "      <td>68</td>\n",
       "      <td>5500</td>\n",
       "    </tr>\n",
       "    <tr>\n",
       "      <th>16</th>\n",
       "      <td>Sedan16</td>\n",
       "      <td>front</td>\n",
       "      <td>dohc</td>\n",
       "      <td>six</td>\n",
       "      <td>258</td>\n",
       "      <td>3.63</td>\n",
       "      <td>4.17</td>\n",
       "      <td>8.1</td>\n",
       "      <td>176</td>\n",
       "      <td>4750</td>\n",
       "    </tr>\n",
       "    <tr>\n",
       "      <th>5</th>\n",
       "      <td>Sedan5</td>\n",
       "      <td>front</td>\n",
       "      <td>ohc</td>\n",
       "      <td>four</td>\n",
       "      <td>108</td>\n",
       "      <td>3.5</td>\n",
       "      <td>2.8</td>\n",
       "      <td>8.8</td>\n",
       "      <td>101</td>\n",
       "      <td>5800</td>\n",
       "    </tr>\n",
       "    <tr>\n",
       "      <th>18</th>\n",
       "      <td>Sedan18</td>\n",
       "      <td>front</td>\n",
       "      <td>ohc</td>\n",
       "      <td>four</td>\n",
       "      <td>91</td>\n",
       "      <td>3.03</td>\n",
       "      <td>3.15</td>\n",
       "      <td>9.0</td>\n",
       "      <td>68</td>\n",
       "      <td>5000</td>\n",
       "    </tr>\n",
       "  </tbody>\n",
       "</table>\n",
       "</div>"
      ],
      "text/plain": [
       "   classname engine_location engine_type num_of_cylinders engine_size  bore  \\\n",
       "13   Wagon13           front         ohc             four          92  2.92   \n",
       "9     Sedan9           front         ohc             four          90  2.97   \n",
       "16   Sedan16           front        dohc              six         258  3.63   \n",
       "5     Sedan5           front         ohc             four         108   3.5   \n",
       "18   Sedan18           front         ohc             four          91  3.03   \n",
       "\n",
       "   stroke compression_ratio horse_power peak_rpm  \n",
       "13   3.41               9.2          76     6000  \n",
       "9    3.23               9.4          68     5500  \n",
       "16   4.17               8.1         176     4750  \n",
       "5     2.8               8.8         101     5800  \n",
       "18   3.15               9.0          68     5000  "
      ]
     },
     "execution_count": 19,
     "metadata": {},
     "output_type": "execute_result"
    }
   ],
   "source": [
    "auto_features.sample(5)"
   ]
  },
  {
   "cell_type": "code",
   "execution_count": 20,
   "id": "e6082ad4",
   "metadata": {},
   "outputs": [],
   "source": [
    "from codegenerator import CodeGenerator "
   ]
  },
  {
   "cell_type": "code",
   "execution_count": 21,
   "id": "8cc4eadc",
   "metadata": {},
   "outputs": [],
   "source": [
    "codegen = CodeGenerator()"
   ]
  },
  {
   "cell_type": "code",
   "execution_count": 22,
   "id": "c3e5e025",
   "metadata": {},
   "outputs": [],
   "source": [
    "def generatelib():\n",
    "    codegen.generate_meta()\n",
    "    codegen.generate_car_catalogue()\n",
    "    codegen.generate_carmake_code()\n",
    "    codegen.generate_bodystyle_parent()\n",
    "    codegen.generate_salestype_code()\n",
    "    codegen.generate_newsale_code()\n",
    "    codegen.generate_resale_code()\n",
    "    for index, row in auto_specs.iterrows():\n",
    "        carspecs = dict(row)\n",
    "        classname = carspecs['classname']\n",
    "        del carspecs['classname']\n",
    "        codegen.generate_car_code(classname = classname, carspecs = carspecs)\n",
    "\n",
    "    for index, row in auto_features.iterrows():\n",
    "        carfeatures = dict(row)\n",
    "        classname = carfeatures['classname']\n",
    "        del carfeatures['classname']\n",
    "        codegen.generate_bodystyle_code(classname = classname, carfeatures = carfeatures)"
   ]
  },
  {
   "cell_type": "code",
   "execution_count": 23,
   "id": "da320cf9",
   "metadata": {},
   "outputs": [],
   "source": [
    "from contextlib import redirect_stdout\n",
    "with open('abccaragencylib.py', 'w') as code:\n",
    "    with redirect_stdout(code):\n",
    "        generatelib()\n",
    "code.close()"
   ]
  },
  {
   "cell_type": "code",
   "execution_count": null,
   "id": "d94e3490",
   "metadata": {},
   "outputs": [],
   "source": []
  }
 ],
 "metadata": {
  "kernelspec": {
   "display_name": "Python 3",
   "language": "python",
   "name": "python3"
  },
  "language_info": {
   "codemirror_mode": {
    "name": "ipython",
    "version": 3
   },
   "file_extension": ".py",
   "mimetype": "text/x-python",
   "name": "python",
   "nbconvert_exporter": "python",
   "pygments_lexer": "ipython3",
   "version": "3.9.5"
  }
 },
 "nbformat": 4,
 "nbformat_minor": 5
}
