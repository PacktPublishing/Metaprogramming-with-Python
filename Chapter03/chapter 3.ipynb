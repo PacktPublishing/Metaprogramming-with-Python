{
 "cells": [
  {
   "cell_type": "markdown",
   "metadata": {},
   "source": [
    "# Chapter 3 - Decorators"
   ]
  },
  {
   "cell_type": "markdown",
   "metadata": {},
   "source": [
    "## Decorators and their variants"
   ]
  },
  {
   "cell_type": "markdown",
   "metadata": {},
   "source": [
    "### Function Decorators"
   ]
  },
  {
   "cell_type": "code",
   "execution_count": 1,
   "metadata": {},
   "outputs": [],
   "source": [
    "def functiondecorator(inputfunction):\n",
    "    def decorator():\n",
    "        print(\"---Decorate function with this line---\")\n",
    "        return inputfunction()\n",
    "    return decorator"
   ]
  },
  {
   "cell_type": "code",
   "execution_count": 2,
   "metadata": {},
   "outputs": [],
   "source": [
    "def userfunction1():\n",
    "    return \"A picture is worth a thousand words\""
   ]
  },
  {
   "cell_type": "code",
   "execution_count": 3,
   "metadata": {},
   "outputs": [],
   "source": [
    "userfunction1 = functiondecorator(userfunction1)"
   ]
  },
  {
   "cell_type": "code",
   "execution_count": 4,
   "metadata": {},
   "outputs": [],
   "source": [
    "def userfunction2():\n",
    "    return \"Actions speak louder than words\""
   ]
  },
  {
   "cell_type": "code",
   "execution_count": 5,
   "metadata": {},
   "outputs": [],
   "source": [
    "userfunction2 = functiondecorator(userfunction2)"
   ]
  },
  {
   "cell_type": "code",
   "execution_count": 6,
   "metadata": {},
   "outputs": [
    {
     "name": "stdout",
     "output_type": "stream",
     "text": [
      "---Decorate function with this line---\n"
     ]
    },
    {
     "data": {
      "text/plain": [
       "'A picture is worth a thousand words'"
      ]
     },
     "execution_count": 6,
     "metadata": {},
     "output_type": "execute_result"
    }
   ],
   "source": [
    "userfunction1()"
   ]
  },
  {
   "cell_type": "code",
   "execution_count": 7,
   "metadata": {},
   "outputs": [
    {
     "name": "stdout",
     "output_type": "stream",
     "text": [
      "---Decorate function with this line---\n"
     ]
    },
    {
     "data": {
      "text/plain": [
       "'Actions speak louder than words'"
      ]
     },
     "execution_count": 7,
     "metadata": {},
     "output_type": "execute_result"
    }
   ],
   "source": [
    "userfunction2()"
   ]
  },
  {
   "cell_type": "code",
   "execution_count": 8,
   "metadata": {},
   "outputs": [],
   "source": [
    "@functiondecorator\n",
    "def userfunction1():\n",
    "    return \"A picture is worth a thousand words\""
   ]
  },
  {
   "cell_type": "code",
   "execution_count": 9,
   "metadata": {},
   "outputs": [],
   "source": [
    "@functiondecorator\n",
    "def userfunction2():\n",
    "    return \"Actions speak louder than words\""
   ]
  },
  {
   "cell_type": "code",
   "execution_count": 10,
   "metadata": {},
   "outputs": [
    {
     "name": "stdout",
     "output_type": "stream",
     "text": [
      "---Decorate function with this line---\n"
     ]
    },
    {
     "data": {
      "text/plain": [
       "'A picture is worth a thousand words'"
      ]
     },
     "execution_count": 10,
     "metadata": {},
     "output_type": "execute_result"
    }
   ],
   "source": [
    "userfunction1()"
   ]
  },
  {
   "cell_type": "code",
   "execution_count": 11,
   "metadata": {},
   "outputs": [
    {
     "name": "stdout",
     "output_type": "stream",
     "text": [
      "---Decorate function with this line---\n"
     ]
    },
    {
     "data": {
      "text/plain": [
       "'Actions speak louder than words'"
      ]
     },
     "execution_count": 11,
     "metadata": {},
     "output_type": "execute_result"
    }
   ],
   "source": [
    "userfunction2()"
   ]
  },
  {
   "cell_type": "markdown",
   "metadata": {},
   "source": [
    "### Function Decorator with an Example "
   ]
  },
  {
   "cell_type": "code",
   "execution_count": 12,
   "metadata": {},
   "outputs": [],
   "source": [
    "def managerAlbany(*args):\n",
    "    BLUE = '\\033[94m'\n",
    "    BOLD = '\\33[5m'\n",
    "    SELECT = '\\33[7m'\n",
    "    for arg in args:\n",
    "        print(BLUE + BOLD + SELECT + str(arg))"
   ]
  },
  {
   "cell_type": "code",
   "execution_count": 13,
   "metadata": {},
   "outputs": [
    {
     "name": "stdout",
     "output_type": "stream",
     "text": [
      "\u001b[94m\u001b[5m\u001b[7mRon D\n",
      "\u001b[94m\u001b[5m\u001b[7mron.d@abcmegamart.com\n",
      "\u001b[94m\u001b[5m\u001b[7m123 Main Street\n",
      "\u001b[94m\u001b[5m\u001b[7mAlbany\n",
      "\u001b[94m\u001b[5m\u001b[7mNew York\n",
      "\u001b[94m\u001b[5m\u001b[7m12084\n"
     ]
    }
   ],
   "source": [
    "managerAlbany('Ron D','ron.d@abcmegamart.com','123 Main Street','Albany','New York', 12084)"
   ]
  },
  {
   "cell_type": "code",
   "execution_count": 14,
   "metadata": {},
   "outputs": [],
   "source": [
    "def managerManhattan(*args):\n",
    "    GREEN = '\\033[92m'\n",
    "    SELECT = '\\33[7m'\n",
    "    for arg in args:\n",
    "        print(SELECT + GREEN + str(arg))"
   ]
  },
  {
   "cell_type": "code",
   "execution_count": 15,
   "metadata": {},
   "outputs": [
    {
     "name": "stdout",
     "output_type": "stream",
     "text": [
      "\u001b[7m\u001b[92mJohn M\n",
      "\u001b[7m\u001b[92mjohn.m@abcmegamart.com\n",
      "\u001b[7m\u001b[92m40097 5th Main Street\n",
      "\u001b[7m\u001b[92mManhattan\n",
      "\u001b[7m\u001b[92mNew York City\n",
      "\u001b[7m\u001b[92mNew York\n",
      "\u001b[7m\u001b[92m11007\n"
     ]
    }
   ],
   "source": [
    "managerManhattan('John M',\n",
    "              'john.m@abcmegamart.com',\n",
    "  '40097 5th Main Street',\n",
    "  'Manhattan',\n",
    "  'New York City',\n",
    "  'New York',\n",
    "  11007)"
   ]
  },
  {
   "cell_type": "code",
   "execution_count": 16,
   "metadata": {},
   "outputs": [],
   "source": [
    "def signature(branch):\n",
    "    def footnote(*args):\n",
    "        LOGO = '\\33[43m'\n",
    "        print(LOGO + 'ABC Mega Mart')\n",
    "        return branch(*args)\n",
    "    return footnote"
   ]
  },
  {
   "cell_type": "code",
   "execution_count": 17,
   "metadata": {},
   "outputs": [],
   "source": [
    "@signature\n",
    "def managerManhattan(*args):\n",
    "    GREEN = '\\033[92m'\n",
    "    SELECT = '\\33[7m'\n",
    "    for arg in args:\n",
    "        print(SELECT + GREEN + str(arg))"
   ]
  },
  {
   "cell_type": "code",
   "execution_count": 18,
   "metadata": {},
   "outputs": [
    {
     "name": "stdout",
     "output_type": "stream",
     "text": [
      "\u001b[43mABC Mega Mart\n",
      "\u001b[7m\u001b[92mJohn M\n",
      "\u001b[7m\u001b[92mjohn.m@abcmegamart.com\n",
      "\u001b[7m\u001b[92m40097 5th Main Street\n",
      "\u001b[7m\u001b[92mManhattan\n",
      "\u001b[7m\u001b[92mNew York City\n",
      "\u001b[7m\u001b[92mNew York\n",
      "\u001b[7m\u001b[92m11007\n"
     ]
    }
   ],
   "source": [
    "managerManhattan('John M',\n",
    "              'john.m@abcmegamart.com',\n",
    "  '40097 5th Main Street',\n",
    "  'Manhattan',\n",
    "  'New York City',\n",
    "  'New York',\n",
    "  11007)"
   ]
  },
  {
   "cell_type": "code",
   "execution_count": 19,
   "metadata": {},
   "outputs": [],
   "source": [
    "@signature\n",
    "def managerAlbany(*args):\n",
    "    BLUE = '\\033[94m'\n",
    "    BOLD = '\\33[5m'\n",
    "    SELECT = '\\33[7m'\n",
    "    for arg in args:\n",
    "        print(BLUE + BOLD + SELECT + str(arg))"
   ]
  },
  {
   "cell_type": "code",
   "execution_count": 20,
   "metadata": {},
   "outputs": [
    {
     "name": "stdout",
     "output_type": "stream",
     "text": [
      "\u001b[43mABC Mega Mart\n",
      "\u001b[94m\u001b[5m\u001b[7mRon D\n",
      "\u001b[94m\u001b[5m\u001b[7mron.d@abcmegamart.com\n",
      "\u001b[94m\u001b[5m\u001b[7m123 Main Street\n",
      "\u001b[94m\u001b[5m\u001b[7mAlbany\n",
      "\u001b[94m\u001b[5m\u001b[7mNew York\n",
      "\u001b[94m\u001b[5m\u001b[7m12084\n"
     ]
    }
   ],
   "source": [
    "managerAlbany('Ron D','ron.d@abcmegamart.com','123 Main Street','Albany','New York', 12084)"
   ]
  },
  {
   "cell_type": "markdown",
   "metadata": {},
   "source": [
    "### Exchange decorators from one function to another"
   ]
  },
  {
   "cell_type": "markdown",
   "metadata": {},
   "source": [
    "#### Decorator 1: To convert any date argument into Weekday, Day of Month, Month and Year"
   ]
  },
  {
   "cell_type": "code",
   "execution_count": 21,
   "metadata": {},
   "outputs": [],
   "source": [
    "def dateconverter(function):\n",
    "    import datetime\n",
    "    def decoratedate(*args):   \n",
    "        newargs = []\n",
    "        for arg in args:\n",
    "            if(isinstance(arg,datetime.date)):\n",
    "                arg = arg.weekday(),arg.day,arg.month,arg.year\n",
    "            newargs.append(arg)\n",
    "        return function(*newargs)\n",
    "    return decoratedate   "
   ]
  },
  {
   "cell_type": "markdown",
   "metadata": {},
   "source": [
    "#### Function 1: Set Holidays for Alabama"
   ]
  },
  {
   "cell_type": "code",
   "execution_count": 22,
   "metadata": {},
   "outputs": [],
   "source": [
    "@dateconverter\n",
    "def setHolidaysAlabama(*args):\n",
    "    holidaydetails = {}\n",
    "    holidaydetails['branchID'] = args[0]\n",
    "    holidaydetails['holidayType'] = args[1]\n",
    "    holidaydetails['holidayName'] = args[2]\n",
    "    holidaydetails['holidayDate'] = args[3]\n",
    "    return holidaydetails"
   ]
  },
  {
   "cell_type": "code",
   "execution_count": 23,
   "metadata": {},
   "outputs": [
    {
     "data": {
      "text/plain": [
       "{'branchID': 'id1000',\n",
       " 'holidayType': 'local',\n",
       " 'holidayName': 'Robert E. Lee’s Birthday',\n",
       " 'holidayDate': (0, 18, 1, 2021)}"
      ]
     },
     "execution_count": 23,
     "metadata": {},
     "output_type": "execute_result"
    }
   ],
   "source": [
    "from datetime import datetime\n",
    "holiday =datetime.strptime('2021-01-18', '%Y-%m-%d')\n",
    "setHolidaysAlabama('id1000',\n",
    "                   'local',\n",
    "                   'Robert E. Lee’s Birthday',\n",
    "                   holiday)"
   ]
  },
  {
   "cell_type": "markdown",
   "metadata": {},
   "source": [
    "#### Decorator 2: To remove prefix from any identifier argument prefixed with 'ID'"
   ]
  },
  {
   "cell_type": "code",
   "execution_count": 24,
   "metadata": {},
   "outputs": [],
   "source": [
    "def identifier(function):\n",
    "    def decorateid(*args):   \n",
    "        newargs = []\n",
    "        for arg in args:\n",
    "            if(isinstance(arg,str)):\n",
    "                arg = arg.lower()\n",
    "                if 'id' in arg:\n",
    "                    arg = int(''.join(filter(str.isdigit,arg)))\n",
    "            newargs.append(arg)\n",
    "        return function(*newargs)\n",
    "    return decorateid "
   ]
  },
  {
   "cell_type": "markdown",
   "metadata": {},
   "source": [
    "#### Function 2: Set promotion details for Malibu"
   ]
  },
  {
   "cell_type": "code",
   "execution_count": 25,
   "metadata": {},
   "outputs": [],
   "source": [
    "@identifier\n",
    "def setPromotionMalibu(*args):\n",
    "    promotiondetails = {}\n",
    "    promotiondetails['branchID'] = args[0]\n",
    "    promotiondetails['productID'] = args[1]\n",
    "    promotiondetails['productName'] = args[2]\n",
    "    promotiondetails['promotionDate'] = args[3]\n",
    "    promotiondetails['promotionType'] = args[4]\n",
    "    promotiondetails['promotionReason'] = args[5]\n",
    "    return promotiondetails"
   ]
  },
  {
   "cell_type": "code",
   "execution_count": 26,
   "metadata": {},
   "outputs": [
    {
     "data": {
      "text/plain": [
       "{'branchID': 23400,\n",
       " 'productID': 201,\n",
       " 'productName': 'plumcake',\n",
       " 'promotionDate': datetime.datetime(2020, 12, 23, 0, 0),\n",
       " 'promotionType': 'buy1get1',\n",
       " 'promotionReason': 'christmas'}"
      ]
     },
     "execution_count": 26,
     "metadata": {},
     "output_type": "execute_result"
    }
   ],
   "source": [
    "from datetime import datetime\n",
    "promotiondate = datetime.strptime('2020-12-23', '%Y-%m-%d')\n",
    "setPromotionMalibu('Id23400','ProdID201','PlumCake',promotiondate,'Buy1Get1','Christmas')"
   ]
  },
  {
   "cell_type": "markdown",
   "metadata": {},
   "source": [
    "#### Swap decorators"
   ]
  },
  {
   "cell_type": "code",
   "execution_count": 27,
   "metadata": {},
   "outputs": [],
   "source": [
    "@identifier\n",
    "def setHolidaysAlabama(*args):\n",
    "    holidaydetails = {}\n",
    "    holidaydetails['branchID'] = args[0]\n",
    "    holidaydetails['holidayType'] = args[1]\n",
    "    holidaydetails['holidayName'] = args[2]\n",
    "    holidaydetails['holidayDate'] = args[3]\n",
    "    return holidaydetails"
   ]
  },
  {
   "cell_type": "code",
   "execution_count": 28,
   "metadata": {},
   "outputs": [],
   "source": [
    "@dateconverter\n",
    "def setPromotionMalibu(*args):\n",
    "    promotiondetails = {}\n",
    "    promotiondetails['branchID'] = args[0]\n",
    "    promotiondetails['productID'] = args[1]\n",
    "    promotiondetails['productName'] = args[2]\n",
    "    promotiondetails['promotionDate'] = args[3]\n",
    "    promotiondetails['promotionType'] = args[4]\n",
    "    promotiondetails['promotionReason'] = args[5]\n",
    "    return promotiondetails"
   ]
  },
  {
   "cell_type": "code",
   "execution_count": 29,
   "metadata": {},
   "outputs": [
    {
     "data": {
      "text/plain": [
       "{'branchID': 1000,\n",
       " 'holidayType': 'local',\n",
       " 'holidayName': 'robert e. lee’s birthday',\n",
       " 'holidayDate': datetime.datetime(2021, 1, 18, 0, 0)}"
      ]
     },
     "execution_count": 29,
     "metadata": {},
     "output_type": "execute_result"
    }
   ],
   "source": [
    "from datetime import datetime\n",
    "holiday =datetime.strptime('2021-01-18', '%Y-%m-%d')\n",
    "setHolidaysAlabama('id1000',\n",
    "                   'local',\n",
    "                   'Robert E. Lee’s Birthday',\n",
    "                   holiday)"
   ]
  },
  {
   "cell_type": "code",
   "execution_count": 30,
   "metadata": {},
   "outputs": [
    {
     "data": {
      "text/plain": [
       "{'branchID': 'Id23400',\n",
       " 'productID': 'ProdID201',\n",
       " 'productName': 'PlumCake',\n",
       " 'promotionDate': (2, 23, 12, 2020),\n",
       " 'promotionType': 'Buy1Get1',\n",
       " 'promotionReason': 'Christmas'}"
      ]
     },
     "execution_count": 30,
     "metadata": {},
     "output_type": "execute_result"
    }
   ],
   "source": [
    "promotiondate = datetime.strptime('2020-12-23', '%Y-%m-%d')\n",
    "setPromotionMalibu('Id23400','ProdID201','PlumCake',promotiondate,'Buy1Get1','Christmas')"
   ]
  },
  {
   "cell_type": "markdown",
   "metadata": {},
   "source": [
    "### Multiple decorators on one function"
   ]
  },
  {
   "cell_type": "code",
   "execution_count": 31,
   "metadata": {},
   "outputs": [],
   "source": [
    "@identifier\n",
    "@dateconverter\n",
    "def setPromotionMalibu(*args):\n",
    "    promotiondetails = {}\n",
    "    promotiondetails['branchID'] = args[0]\n",
    "    promotiondetails['productID'] = args[1]\n",
    "    promotiondetails['productName'] = args[2]\n",
    "    promotiondetails['promotionDate'] = args[3]\n",
    "    promotiondetails['promotionType'] = args[4]\n",
    "    promotiondetails['promotionReason'] = args[5]\n",
    "    return promotiondetails"
   ]
  },
  {
   "cell_type": "code",
   "execution_count": 32,
   "metadata": {},
   "outputs": [
    {
     "data": {
      "text/plain": [
       "{'branchID': 23400,\n",
       " 'productID': 203,\n",
       " 'productName': 'walnut cake',\n",
       " 'promotionDate': (4, 1, 1, 2021),\n",
       " 'promotionType': 'buy3get1',\n",
       " 'promotionReason': 'new year'}"
      ]
     },
     "execution_count": 32,
     "metadata": {},
     "output_type": "execute_result"
    }
   ],
   "source": [
    "promotiondate = datetime.strptime('2021-01-01', '%Y-%m-%d')\n",
    "setPromotionMalibu('Id23400','ProdID203','Walnut Cake',promotiondate,'Buy3Get1','New Year')"
   ]
  },
  {
   "cell_type": "markdown",
   "metadata": {},
   "source": [
    "### Class Decorators"
   ]
  },
  {
   "cell_type": "markdown",
   "metadata": {},
   "source": [
    "#### Function without class decorator"
   ]
  },
  {
   "cell_type": "code",
   "execution_count": 33,
   "metadata": {},
   "outputs": [],
   "source": [
    "def inputfunction():\n",
    "    return 'This is input function'"
   ]
  },
  {
   "cell_type": "markdown",
   "metadata": {},
   "source": [
    "#### Class decorator with missing callable function"
   ]
  },
  {
   "cell_type": "code",
   "execution_count": 34,
   "metadata": {},
   "outputs": [],
   "source": [
    "class classdecorator:\n",
    "    def __init__(self,inputfunction):\n",
    "        self.inputfunction = inputfunction\n",
    "    \n",
    "    def decorator(self):\n",
    "        result = self.inputfunction()\n",
    "        resultdecorator = ' decorated by a class decorator'\n",
    "        return result + resultdecorator"
   ]
  },
  {
   "cell_type": "code",
   "execution_count": 35,
   "metadata": {},
   "outputs": [],
   "source": [
    "@classdecorator\n",
    "def inputfunction():\n",
    "    return 'This is input function'"
   ]
  },
  {
   "cell_type": "code",
   "execution_count": 36,
   "metadata": {},
   "outputs": [
    {
     "ename": "TypeError",
     "evalue": "'classdecorator' object is not callable",
     "output_type": "error",
     "traceback": [
      "\u001b[1;31m---------------------------------------------------------------------------\u001b[0m",
      "\u001b[1;31mTypeError\u001b[0m                                 Traceback (most recent call last)",
      "\u001b[1;32m<ipython-input-36-769efba848f3>\u001b[0m in \u001b[0;36m<module>\u001b[1;34m\u001b[0m\n\u001b[1;32m----> 1\u001b[1;33m \u001b[0minputfunction\u001b[0m\u001b[1;33m(\u001b[0m\u001b[1;33m)\u001b[0m\u001b[1;33m\u001b[0m\u001b[1;33m\u001b[0m\u001b[0m\n\u001b[0m",
      "\u001b[1;31mTypeError\u001b[0m: 'classdecorator' object is not callable"
     ]
    }
   ],
   "source": [
    "inputfunction()"
   ]
  },
  {
   "cell_type": "markdown",
   "metadata": {},
   "source": [
    "#### Class decorator with callable function"
   ]
  },
  {
   "cell_type": "code",
   "execution_count": 37,
   "metadata": {},
   "outputs": [],
   "source": [
    "class classdecorator:\n",
    "    def __init__(self,inputfunction):\n",
    "        self.inputfunction = inputfunction\n",
    "    \n",
    "    def __call__(self):\n",
    "        result = self.inputfunction()\n",
    "        resultdecorator = ' decorated by a class decorator'\n",
    "        return result + resultdecorator"
   ]
  },
  {
   "cell_type": "code",
   "execution_count": 38,
   "metadata": {},
   "outputs": [],
   "source": [
    "@classdecorator\n",
    "def inputfunction():\n",
    "    return 'This is input function'"
   ]
  },
  {
   "cell_type": "code",
   "execution_count": 39,
   "metadata": {},
   "outputs": [
    {
     "data": {
      "text/plain": [
       "'This is input function decorated by a class decorator'"
      ]
     },
     "execution_count": 39,
     "metadata": {},
     "output_type": "execute_result"
    }
   ],
   "source": [
    "inputfunction()"
   ]
  },
  {
   "cell_type": "markdown",
   "metadata": {},
   "source": [
    "### Class decorator with an application"
   ]
  },
  {
   "cell_type": "markdown",
   "metadata": {},
   "source": [
    "### method without decorator"
   ]
  },
  {
   "cell_type": "code",
   "execution_count": 40,
   "metadata": {},
   "outputs": [],
   "source": [
    "class Alabama():\n",
    "    \n",
    "    def buyProduct(self,product,unitprice,quantity,promotiontype):\n",
    "        alabamataxrate = 0.0522\n",
    "        initialprice = unitprice*quantity \n",
    "        salesprice = initialprice + initialprice*alabamataxrate\n",
    "        return salesprice, product,promotiontype"
   ]
  },
  {
   "cell_type": "code",
   "execution_count": 41,
   "metadata": {},
   "outputs": [],
   "source": [
    "alb1 = Alabama()"
   ]
  },
  {
   "cell_type": "code",
   "execution_count": 42,
   "metadata": {},
   "outputs": [
    {
     "data": {
      "text/plain": [
       "(210.44, 'Samsung-Refrigerator', '20%Off')"
      ]
     },
     "execution_count": 42,
     "metadata": {},
     "output_type": "execute_result"
    }
   ],
   "source": [
    "alb1.buyProduct('Samsung-Refrigerator',200,1,'20%Off')"
   ]
  },
  {
   "cell_type": "code",
   "execution_count": 43,
   "metadata": {},
   "outputs": [],
   "source": [
    "class Arizona():\n",
    "    \n",
    "    def buyProduct(self,product,unitprice,quantity,promotiontype):\n",
    "        arizonataxrate = 0.028\n",
    "        initialprice = unitprice*quantity \n",
    "        salesprice = initialprice + initialprice*arizonataxrate\n",
    "        return salesprice, product,promotiontype"
   ]
  },
  {
   "cell_type": "code",
   "execution_count": 44,
   "metadata": {},
   "outputs": [],
   "source": [
    "arz1 = Arizona()"
   ]
  },
  {
   "cell_type": "code",
   "execution_count": 45,
   "metadata": {},
   "outputs": [
    {
     "data": {
      "text/plain": [
       "(128.5, 'Oreo-Cookies', 'Buy2Get1')"
      ]
     },
     "execution_count": 45,
     "metadata": {},
     "output_type": "execute_result"
    }
   ],
   "source": [
    "arz1.buyProduct('Oreo-Cookies',0.5,250,'Buy2Get1')"
   ]
  },
  {
   "cell_type": "markdown",
   "metadata": {},
   "source": [
    "#### Class decorator to apply promotion discount on sales price"
   ]
  },
  {
   "cell_type": "code",
   "execution_count": 46,
   "metadata": {},
   "outputs": [],
   "source": [
    "class applypromotion:\n",
    "    def __init__(self, inputfunction):\n",
    "        self.inputfunction = inputfunction\n",
    "                    \n",
    "    def __call__(self,*arg):\n",
    "        salesprice, product,promotiontype = self.inputfunction(arg[0],arg[1],arg[2],arg[3])\n",
    "        if (promotiontype == 'Buy1Get1'):\n",
    "            finalsalesprice = salesprice * 1/2\n",
    "        elif (promotiontype == 'Buy2Get1'):\n",
    "            finalsalesprice = salesprice * 2/3\n",
    "        elif (promotiontype == 'Buy3Get1'):\n",
    "            finalsalesprice = salesprice * 3/4\n",
    "        elif (promotiontype == '20%Off'):\n",
    "            finalsalesprice = salesprice - salesprice * 0.2\n",
    "        elif (promotiontype == '30%Off'):\n",
    "            finalsalesprice = salesprice - salesprice * 0.3\n",
    "        elif (promotiontype == '40%Off'):\n",
    "            finalsalesprice = salesprice - salesprice * 0.4\n",
    "        elif (promotiontype == '50%Off'):\n",
    "            finalsalesprice = salesprice - salesprice * 0.5\n",
    "        else:\n",
    "            finalsalesprice = salesprice \n",
    "        return \"Price of - \" + product + \": \" + '$' + str(finalsalesprice)"
   ]
  },
  {
   "cell_type": "code",
   "execution_count": 47,
   "metadata": {},
   "outputs": [],
   "source": [
    "class Alabama():\n",
    "    @applypromotion\n",
    "    def buyProduct(product,unitprice,quantity,promotiontype):\n",
    "        alabamataxrate = 0.0522\n",
    "        initialprice = unitprice*quantity \n",
    "        salesprice = initialprice + initialprice*alabamataxrate\n",
    "        return salesprice, product,promotiontype"
   ]
  },
  {
   "cell_type": "code",
   "execution_count": 48,
   "metadata": {},
   "outputs": [],
   "source": [
    "alb = Alabama()"
   ]
  },
  {
   "cell_type": "code",
   "execution_count": 49,
   "metadata": {},
   "outputs": [
    {
     "data": {
      "text/plain": [
       "'Price of - Samsung-Refrigerator: $168.352'"
      ]
     },
     "execution_count": 49,
     "metadata": {},
     "output_type": "execute_result"
    }
   ],
   "source": [
    "alb.buyProduct('Samsung-Refrigerator',200,1,'20%Off')"
   ]
  },
  {
   "cell_type": "code",
   "execution_count": 50,
   "metadata": {},
   "outputs": [],
   "source": [
    "class Arizona():\n",
    "    @applypromotion\n",
    "    def buyProduct(product,unitprice,quantity,promotiontype):\n",
    "        arizonataxrate = 0.028\n",
    "        initialprice = unitprice*quantity \n",
    "        salesprice = initialprice + initialprice*arizonataxrate\n",
    "        return salesprice, product,promotiontype"
   ]
  },
  {
   "cell_type": "code",
   "execution_count": 51,
   "metadata": {},
   "outputs": [],
   "source": [
    "arz = Arizona()"
   ]
  },
  {
   "cell_type": "code",
   "execution_count": 52,
   "metadata": {},
   "outputs": [
    {
     "data": {
      "text/plain": [
       "'Price of - Oreo-Cookies: $85.66666666666667'"
      ]
     },
     "execution_count": 52,
     "metadata": {},
     "output_type": "execute_result"
    }
   ],
   "source": [
    "arz.buyProduct('Oreo-Cookies',0.5,250,'Buy2Get1')"
   ]
  },
  {
   "cell_type": "markdown",
   "metadata": {},
   "source": [
    "#### Compare calculations with and without decorators"
   ]
  },
  {
   "cell_type": "markdown",
   "metadata": {},
   "source": [
    "#### Without decorator"
   ]
  },
  {
   "cell_type": "code",
   "execution_count": 53,
   "metadata": {},
   "outputs": [
    {
     "data": {
      "text/plain": [
       "(128.5, 'Oreo-Cookies', 'Buy2Get1')"
      ]
     },
     "execution_count": 53,
     "metadata": {},
     "output_type": "execute_result"
    }
   ],
   "source": [
    "arz1.buyProduct('Oreo-Cookies',0.5,250,'Buy2Get1')"
   ]
  },
  {
   "cell_type": "markdown",
   "metadata": {},
   "source": [
    "#### With decorator"
   ]
  },
  {
   "cell_type": "code",
   "execution_count": 54,
   "metadata": {},
   "outputs": [
    {
     "data": {
      "text/plain": [
       "'Price of - Oreo-Cookies: $85.66666666666667'"
      ]
     },
     "execution_count": 54,
     "metadata": {},
     "output_type": "execute_result"
    }
   ],
   "source": [
    "arz.buyProduct('Oreo-Cookies',0.5,250,'Buy2Get1')"
   ]
  },
  {
   "cell_type": "markdown",
   "metadata": {},
   "source": [
    "### Built-in decorators"
   ]
  },
  {
   "cell_type": "markdown",
   "metadata": {},
   "source": [
    "#### Static method"
   ]
  },
  {
   "cell_type": "markdown",
   "metadata": {},
   "source": [
    "##### Function inside a class without implicit argument self"
   ]
  },
  {
   "cell_type": "code",
   "execution_count": 55,
   "metadata": {},
   "outputs": [],
   "source": [
    "class Alabama:\n",
    "    def buyProduct(product,unitprice,quantity,promotiontype):\n",
    "        alabamataxrate = 0.0522\n",
    "        initialprice = unitprice*quantity \n",
    "        salesprice = initialprice + initialprice*alabamataxrate\n",
    "        return salesprice, product,promotiontype"
   ]
  },
  {
   "cell_type": "code",
   "execution_count": 56,
   "metadata": {},
   "outputs": [],
   "source": [
    "alb = Alabama()"
   ]
  },
  {
   "cell_type": "code",
   "execution_count": 57,
   "metadata": {},
   "outputs": [
    {
     "ename": "TypeError",
     "evalue": "buyProduct() takes 4 positional arguments but 5 were given",
     "output_type": "error",
     "traceback": [
      "\u001b[1;31m---------------------------------------------------------------------------\u001b[0m",
      "\u001b[1;31mTypeError\u001b[0m                                 Traceback (most recent call last)",
      "\u001b[1;32m<ipython-input-57-32f04240a8b7>\u001b[0m in \u001b[0;36m<module>\u001b[1;34m\u001b[0m\n\u001b[1;32m----> 1\u001b[1;33m \u001b[0malb\u001b[0m\u001b[1;33m.\u001b[0m\u001b[0mbuyProduct\u001b[0m\u001b[1;33m(\u001b[0m\u001b[1;34m'Samsung-Refrigerator'\u001b[0m\u001b[1;33m,\u001b[0m\u001b[1;36m200\u001b[0m\u001b[1;33m,\u001b[0m\u001b[1;36m1\u001b[0m\u001b[1;33m,\u001b[0m\u001b[1;34m'20%Off'\u001b[0m\u001b[1;33m)\u001b[0m\u001b[1;33m\u001b[0m\u001b[1;33m\u001b[0m\u001b[0m\n\u001b[0m",
      "\u001b[1;31mTypeError\u001b[0m: buyProduct() takes 4 positional arguments but 5 were given"
     ]
    }
   ],
   "source": [
    "alb.buyProduct('Samsung-Refrigerator',200,1,'20%Off')"
   ]
  },
  {
   "cell_type": "code",
   "execution_count": 58,
   "metadata": {},
   "outputs": [
    {
     "data": {
      "text/plain": [
       "(210.44, 'Samsung-Refrigerator', '20%Off')"
      ]
     },
     "execution_count": 58,
     "metadata": {},
     "output_type": "execute_result"
    }
   ],
   "source": [
    "Alabama.buyProduct('Samsung-Refrigerator',200,1,'20%Off')"
   ]
  },
  {
   "cell_type": "code",
   "execution_count": 59,
   "metadata": {},
   "outputs": [],
   "source": [
    "class Alabama:\n",
    "    @staticmethod\n",
    "    def buyProduct(product,unitprice,quantity,promotiontype):\n",
    "        alabamataxrate = 0.0522\n",
    "        initialprice = unitprice*quantity \n",
    "        salesprice = initialprice + initialprice*alabamataxrate\n",
    "        return salesprice, product,promotiontype\n",
    "    \n",
    "    def anotherMethod(self):\n",
    "        return \"This method needs an object\""
   ]
  },
  {
   "cell_type": "code",
   "execution_count": 60,
   "metadata": {},
   "outputs": [],
   "source": [
    "albstatic = Alabama()"
   ]
  },
  {
   "cell_type": "code",
   "execution_count": 61,
   "metadata": {},
   "outputs": [
    {
     "data": {
      "text/plain": [
       "(210.44, 'Samsung-Refrigerator', '20%Off')"
      ]
     },
     "execution_count": 61,
     "metadata": {},
     "output_type": "execute_result"
    }
   ],
   "source": [
    "albstatic.buyProduct('Samsung-Refrigerator',200,1,'20%Off')"
   ]
  },
  {
   "cell_type": "code",
   "execution_count": 62,
   "metadata": {},
   "outputs": [
    {
     "data": {
      "text/plain": [
       "'This method needs an object'"
      ]
     },
     "execution_count": 62,
     "metadata": {},
     "output_type": "execute_result"
    }
   ],
   "source": [
    "albstatic.anotherMethod()"
   ]
  },
  {
   "cell_type": "code",
   "execution_count": 63,
   "metadata": {},
   "outputs": [
    {
     "data": {
      "text/plain": [
       "(210.44, 'Samsung-Refrigerator', '20%Off')"
      ]
     },
     "execution_count": 63,
     "metadata": {},
     "output_type": "execute_result"
    }
   ],
   "source": [
    "Alabama.buyProduct('Samsung-Refrigerator',200,1,'20%Off')"
   ]
  },
  {
   "cell_type": "code",
   "execution_count": 64,
   "metadata": {},
   "outputs": [
    {
     "ename": "TypeError",
     "evalue": "anotherMethod() missing 1 required positional argument: 'self'",
     "output_type": "error",
     "traceback": [
      "\u001b[1;31m---------------------------------------------------------------------------\u001b[0m",
      "\u001b[1;31mTypeError\u001b[0m                                 Traceback (most recent call last)",
      "\u001b[1;32m<ipython-input-64-cd717ea651b5>\u001b[0m in \u001b[0;36m<module>\u001b[1;34m\u001b[0m\n\u001b[1;32m----> 1\u001b[1;33m \u001b[0mAlabama\u001b[0m\u001b[1;33m.\u001b[0m\u001b[0manotherMethod\u001b[0m\u001b[1;33m(\u001b[0m\u001b[1;33m)\u001b[0m\u001b[1;33m\u001b[0m\u001b[1;33m\u001b[0m\u001b[0m\n\u001b[0m",
      "\u001b[1;31mTypeError\u001b[0m: anotherMethod() missing 1 required positional argument: 'self'"
     ]
    }
   ],
   "source": [
    "Alabama.anotherMethod()"
   ]
  },
  {
   "cell_type": "markdown",
   "metadata": {},
   "source": [
    "#### Class method"
   ]
  },
  {
   "cell_type": "code",
   "execution_count": 65,
   "metadata": {},
   "outputs": [],
   "source": [
    "class Alabama:\n",
    "    @classmethod\n",
    "    def buyProduct(cls,product,unitprice,quantity,promotiontype):\n",
    "        alabamataxrate = 0.0522\n",
    "        initialprice = unitprice*quantity \n",
    "        salesprice = initialprice + initialprice*alabamataxrate\n",
    "        return cls,salesprice, product,promotiontype"
   ]
  },
  {
   "cell_type": "code",
   "execution_count": 66,
   "metadata": {},
   "outputs": [
    {
     "data": {
      "text/plain": [
       "(__main__.Alabama, 210.44, 'Samsung-Refrigerator', '20%Off')"
      ]
     },
     "execution_count": 66,
     "metadata": {},
     "output_type": "execute_result"
    }
   ],
   "source": [
    "Alabama.buyProduct('Samsung-Refrigerator',200,1,'20%Off')"
   ]
  },
  {
   "cell_type": "code",
   "execution_count": 67,
   "metadata": {},
   "outputs": [],
   "source": [
    "alb = Alabama()"
   ]
  },
  {
   "cell_type": "code",
   "execution_count": 68,
   "metadata": {},
   "outputs": [
    {
     "data": {
      "text/plain": [
       "(__main__.Alabama, 210.44, 'Samsung-Refrigerator', '20%Off')"
      ]
     },
     "execution_count": 68,
     "metadata": {},
     "output_type": "execute_result"
    }
   ],
   "source": [
    "alb.buyProduct('Samsung-Refrigerator',200,1,'20%Off')"
   ]
  },
  {
   "cell_type": "markdown",
   "metadata": {},
   "source": [
    "#### These are all the examples covered in Chapter 3"
   ]
  },
  {
   "cell_type": "code",
   "execution_count": null,
   "metadata": {},
   "outputs": [],
   "source": []
  }
 ],
 "metadata": {
  "kernelspec": {
   "display_name": "Python 3",
   "language": "python",
   "name": "python3"
  },
  "language_info": {
   "codemirror_mode": {
    "name": "ipython",
    "version": 3
   },
   "file_extension": ".py",
   "mimetype": "text/x-python",
   "name": "python",
   "nbconvert_exporter": "python",
   "pygments_lexer": "ipython3",
   "version": "3.8.5"
  }
 },
 "nbformat": 4,
 "nbformat_minor": 4
}
