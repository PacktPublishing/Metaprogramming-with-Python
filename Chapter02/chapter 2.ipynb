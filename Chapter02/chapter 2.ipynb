{
 "cells": [
  {
   "cell_type": "markdown",
   "metadata": {},
   "source": [
    "## Chapter 2: Refresher of OOP concepts in Python"
   ]
  },
  {
   "cell_type": "markdown",
   "metadata": {},
   "source": [
    "### Classes and Objects"
   ]
  },
  {
   "cell_type": "code",
   "execution_count": 1,
   "metadata": {},
   "outputs": [],
   "source": [
    "class ClassName:\n",
    "    '''attributes...'''\n",
    "    \n",
    "    '''methods...'''\n"
   ]
  },
  {
   "cell_type": "code",
   "execution_count": 2,
   "metadata": {},
   "outputs": [],
   "source": [
    "obj_name = ClassName()"
   ]
  },
  {
   "cell_type": "code",
   "execution_count": 3,
   "metadata": {},
   "outputs": [],
   "source": [
    "class Branch:\n",
    "    '''attributes...'''\n",
    "    \n",
    "    '''methods...'''\n"
   ]
  },
  {
   "cell_type": "code",
   "execution_count": 4,
   "metadata": {},
   "outputs": [],
   "source": [
    "class Branch:\n",
    "    '''attributes'''\n",
    "    branch_id = None\n",
    "    branch_street = None\n",
    "    branch_city = None\n",
    "    branch_state = None\n",
    "    branch_zip = None\n",
    "    \n",
    "    '''methods'''\n",
    "    def get_product(self):\n",
    "        return 'product'\n",
    "    \n",
    "    def get_sales(self):\n",
    "        return 'sales'\n",
    "        \n",
    "    def get_invoice(self):\n",
    "        return 'invoice'"
   ]
  },
  {
   "cell_type": "code",
   "execution_count": 5,
   "metadata": {},
   "outputs": [],
   "source": [
    "branch_albany = Branch()"
   ]
  },
  {
   "cell_type": "code",
   "execution_count": 6,
   "metadata": {},
   "outputs": [],
   "source": [
    "branch_albany.branch_id = 123\n",
    "branch_albany.branch_street = '123 Main Street'\n",
    "branch_albany.branch_city = 'Albany'\n",
    "branch_albany.branch_state = 'New York'\n",
    "branch_albany.branch_zip = 12084"
   ]
  },
  {
   "cell_type": "code",
   "execution_count": 7,
   "metadata": {},
   "outputs": [
    {
     "data": {
      "text/plain": [
       "123"
      ]
     },
     "execution_count": 7,
     "metadata": {},
     "output_type": "execute_result"
    }
   ],
   "source": [
    "branch_albany.branch_id"
   ]
  },
  {
   "cell_type": "code",
   "execution_count": 8,
   "metadata": {},
   "outputs": [
    {
     "data": {
      "text/plain": [
       "'123 Main Street'"
      ]
     },
     "execution_count": 8,
     "metadata": {},
     "output_type": "execute_result"
    }
   ],
   "source": [
    "branch_albany.branch_street"
   ]
  },
  {
   "cell_type": "code",
   "execution_count": 9,
   "metadata": {},
   "outputs": [
    {
     "data": {
      "text/plain": [
       "'Albany'"
      ]
     },
     "execution_count": 9,
     "metadata": {},
     "output_type": "execute_result"
    }
   ],
   "source": [
    "branch_albany.branch_city"
   ]
  },
  {
   "cell_type": "code",
   "execution_count": 10,
   "metadata": {},
   "outputs": [
    {
     "data": {
      "text/plain": [
       "'New York'"
      ]
     },
     "execution_count": 10,
     "metadata": {},
     "output_type": "execute_result"
    }
   ],
   "source": [
    "branch_albany.branch_state"
   ]
  },
  {
   "cell_type": "code",
   "execution_count": 11,
   "metadata": {},
   "outputs": [
    {
     "data": {
      "text/plain": [
       "12084"
      ]
     },
     "execution_count": 11,
     "metadata": {},
     "output_type": "execute_result"
    }
   ],
   "source": [
    "branch_albany.branch_zip"
   ]
  },
  {
   "cell_type": "code",
   "execution_count": 12,
   "metadata": {},
   "outputs": [
    {
     "data": {
      "text/plain": [
       "'invoice'"
      ]
     },
     "execution_count": 12,
     "metadata": {},
     "output_type": "execute_result"
    }
   ],
   "source": [
    "branch_albany.get_invoice()"
   ]
  },
  {
   "cell_type": "code",
   "execution_count": 13,
   "metadata": {},
   "outputs": [],
   "source": [
    "branchNevada = Branch()"
   ]
  },
  {
   "cell_type": "code",
   "execution_count": 14,
   "metadata": {},
   "outputs": [],
   "source": [
    "branchNevada.branch_id"
   ]
  },
  {
   "cell_type": "code",
   "execution_count": 15,
   "metadata": {},
   "outputs": [],
   "source": [
    "branchNevada.branch_id = 456"
   ]
  },
  {
   "cell_type": "code",
   "execution_count": 16,
   "metadata": {},
   "outputs": [
    {
     "data": {
      "text/plain": [
       "456"
      ]
     },
     "execution_count": 16,
     "metadata": {},
     "output_type": "execute_result"
    }
   ],
   "source": [
    "branchNevada.branch_id"
   ]
  },
  {
   "cell_type": "code",
   "execution_count": 17,
   "metadata": {},
   "outputs": [],
   "source": [
    "class Branch:\n",
    "    def __init__(self, branch_id, branch_street, branch_city, branch_state, branch_zip):\n",
    "       \n",
    "        self.branch_id = branch_id\n",
    "        self.branch_street = branch_street\n",
    "        self.branch_city = branch_city\n",
    "        self.branch_state = branch_state\n",
    "        self.branch_zip = branch_zip\n",
    "\n",
    "    def get_product(self):\n",
    "        return 'product'\n",
    "    \n",
    "    def get_sales(self):\n",
    "        return 'sales'\n",
    "        \n",
    "    def get_invoice(self):\n",
    "        return 'invoice'"
   ]
  },
  {
   "cell_type": "code",
   "execution_count": 18,
   "metadata": {},
   "outputs": [
    {
     "ename": "TypeError",
     "evalue": "__init__() missing 5 required positional arguments: 'branch_id', 'branch_street', 'branch_city', 'branch_state', and 'branch_zip'",
     "output_type": "error",
     "traceback": [
      "\u001b[1;31m---------------------------------------------------------------------------\u001b[0m",
      "\u001b[1;31mTypeError\u001b[0m                                 Traceback (most recent call last)",
      "\u001b[1;32m<ipython-input-18-d66796be61ac>\u001b[0m in \u001b[0;36m<module>\u001b[1;34m\u001b[0m\n\u001b[1;32m----> 1\u001b[1;33m \u001b[0mobject_albany\u001b[0m \u001b[1;33m=\u001b[0m \u001b[0mBranch\u001b[0m\u001b[1;33m(\u001b[0m\u001b[1;33m)\u001b[0m\u001b[1;33m\u001b[0m\u001b[1;33m\u001b[0m\u001b[0m\n\u001b[0m",
      "\u001b[1;31mTypeError\u001b[0m: __init__() missing 5 required positional arguments: 'branch_id', 'branch_street', 'branch_city', 'branch_state', and 'branch_zip'"
     ]
    }
   ],
   "source": [
    "object_albany = Branch()"
   ]
  },
  {
   "cell_type": "code",
   "execution_count": 19,
   "metadata": {},
   "outputs": [],
   "source": [
    "object_albany = Branch(101,'123 Main Street','Albany','New York', 12084)"
   ]
  },
  {
   "cell_type": "code",
   "execution_count": 20,
   "metadata": {},
   "outputs": [
    {
     "name": "stdout",
     "output_type": "stream",
     "text": [
      "101 123 Main Street Albany New York 12084\n"
     ]
    }
   ],
   "source": [
    "print (object_albany.branch_id, object_albany.branch_street,\\\n",
    "       object_albany.branch_city,object_albany.branch_state,\\\n",
    "      object_albany.branch_zip)"
   ]
  },
  {
   "cell_type": "markdown",
   "metadata": {},
   "source": [
    "### Methods"
   ]
  },
  {
   "cell_type": "code",
   "execution_count": 21,
   "metadata": {},
   "outputs": [],
   "source": [
    "class Branch:\n",
    "    def __init__(self, branch_id, branch_street, branch_city, branch_state, branch_zip):\n",
    "       \n",
    "        self.branch_id = branch_id\n",
    "        self.branch_street = branch_street\n",
    "        self.branch_city = branch_city\n",
    "        self.branch_state = branch_state\n",
    "        self.branch_zip = branch_zip\n",
    "\n",
    "    def get_product(self):\n",
    "        return 'product'\n",
    "    \n",
    "    def get_sales(self):\n",
    "        return 'sales'\n",
    "        \n",
    "    def get_invoice(self):\n",
    "        return 'invoice'\n",
    "\n",
    "object_albany = Branch(101,'123 Main Street','Albany','New York', 12084)\n"
   ]
  },
  {
   "cell_type": "code",
   "execution_count": 22,
   "metadata": {},
   "outputs": [
    {
     "data": {
      "text/plain": [
       "'invoice'"
      ]
     },
     "execution_count": 22,
     "metadata": {},
     "output_type": "execute_result"
    }
   ],
   "source": [
    "object_albany.get_invoice()"
   ]
  },
  {
   "cell_type": "code",
   "execution_count": 23,
   "metadata": {},
   "outputs": [
    {
     "data": {
      "text/plain": [
       "'sales'"
      ]
     },
     "execution_count": 23,
     "metadata": {},
     "output_type": "execute_result"
    }
   ],
   "source": [
    "object_albany.get_sales()"
   ]
  },
  {
   "cell_type": "code",
   "execution_count": 24,
   "metadata": {},
   "outputs": [
    {
     "data": {
      "text/plain": [
       "'product'"
      ]
     },
     "execution_count": 24,
     "metadata": {},
     "output_type": "execute_result"
    }
   ],
   "source": [
    "object_albany.get_product()"
   ]
  },
  {
   "cell_type": "code",
   "execution_count": 25,
   "metadata": {},
   "outputs": [],
   "source": [
    "class Branch:\n",
    "   \n",
    "    def set_branch(self, **branch):\n",
    "        return branch\n",
    "    \n",
    "    def set_sales(self, **sales):\n",
    "        return sales\n",
    "    \n",
    "    def set_product(self, **product):\n",
    "        return product\n",
    "\n",
    "    def calc_tax(self):\n",
    "        branch = self.branch\n",
    "        product = self.product\n",
    "        sales = self.sales\n",
    "        pricebeforetax = sales['purchase_price'] + sales['purchase_price'] * sales['profit_margin']\n",
    "        finalselling_price = pricebeforetax + (pricebeforetax * sales['tax_rate'])\n",
    "        sales['selling_price'] = finalselling_price\n",
    "        return branch, product, sales"
   ]
  },
  {
   "cell_type": "code",
   "execution_count": 26,
   "metadata": {},
   "outputs": [],
   "source": [
    "branch_nyc = Branch()"
   ]
  },
  {
   "cell_type": "code",
   "execution_count": 27,
   "metadata": {},
   "outputs": [],
   "source": [
    "branch_nyc.branch = branch_nyc.set_branch(branch_id = 202,\n",
    "branch_street = '234 3rd Main Street',\n",
    "branch_city = 'New York City',\n",
    "branch_state = 'New York',\n",
    "branch_zip = 11005)"
   ]
  },
  {
   "cell_type": "code",
   "execution_count": 28,
   "metadata": {},
   "outputs": [
    {
     "data": {
      "text/plain": [
       "{'branch_id': 202,\n",
       " 'branch_street': '234 3rd Main Street',\n",
       " 'branch_city': 'New York City',\n",
       " 'branch_state': 'New York',\n",
       " 'branch_zip': 11005}"
      ]
     },
     "execution_count": 28,
     "metadata": {},
     "output_type": "execute_result"
    }
   ],
   "source": [
    "branch_nyc.branch"
   ]
  },
  {
   "cell_type": "code",
   "execution_count": 29,
   "metadata": {},
   "outputs": [],
   "source": [
    "branch_nyc.product = branch_nyc.set_product(\n",
    "    product_id = 100001,\n",
    "    product_name = 'Refrigerator',\n",
    "    product_brand = 'Whirlpool'  \n",
    ")"
   ]
  },
  {
   "cell_type": "code",
   "execution_count": 30,
   "metadata": {},
   "outputs": [
    {
     "data": {
      "text/plain": [
       "{'product_id': 100001,\n",
       " 'product_name': 'Refrigerator',\n",
       " 'product_brand': 'Whirlpool'}"
      ]
     },
     "execution_count": 30,
     "metadata": {},
     "output_type": "execute_result"
    }
   ],
   "source": [
    "branch_nyc.product"
   ]
  },
  {
   "cell_type": "code",
   "execution_count": 31,
   "metadata": {},
   "outputs": [],
   "source": [
    "branch_nyc.sales = branch_nyc.set_sales(\n",
    "    purchase_price = 300,\n",
    "    profit_margin = 0.20,\n",
    "    tax_rate = 0.452\n",
    ")"
   ]
  },
  {
   "cell_type": "code",
   "execution_count": 32,
   "metadata": {},
   "outputs": [
    {
     "data": {
      "text/plain": [
       "{'purchase_price': 300, 'profit_margin': 0.2, 'tax_rate': 0.452}"
      ]
     },
     "execution_count": 32,
     "metadata": {},
     "output_type": "execute_result"
    }
   ],
   "source": [
    "branch_nyc.sales"
   ]
  },
  {
   "cell_type": "code",
   "execution_count": 33,
   "metadata": {},
   "outputs": [
    {
     "data": {
      "text/plain": [
       "({'branch_id': 202,\n",
       "  'branch_street': '234 3rd Main Street',\n",
       "  'branch_city': 'New York City',\n",
       "  'branch_state': 'New York',\n",
       "  'branch_zip': 11005},\n",
       " {'product_id': 100001,\n",
       "  'product_name': 'Refrigerator',\n",
       "  'product_brand': 'Whirlpool'},\n",
       " {'purchase_price': 300,\n",
       "  'profit_margin': 0.2,\n",
       "  'tax_rate': 0.452,\n",
       "  'selling_price': 522.72})"
      ]
     },
     "execution_count": 33,
     "metadata": {},
     "output_type": "execute_result"
    }
   ],
   "source": [
    "branch_nyc.calc_tax()"
   ]
  },
  {
   "cell_type": "markdown",
   "metadata": {},
   "source": [
    "### Inheritance"
   ]
  },
  {
   "cell_type": "code",
   "execution_count": 34,
   "metadata": {},
   "outputs": [],
   "source": [
    "class Parent:\n",
    "    '''attributes...'''\n",
    "    \n",
    "    '''methods...'''\n",
    "\n",
    "class Child(Parent):\n",
    "    '''attributes...'''\n",
    "\n",
    "    '''methods...'''"
   ]
  },
  {
   "cell_type": "code",
   "execution_count": 35,
   "metadata": {},
   "outputs": [],
   "source": [
    "class NYC(Branch):\n",
    "    def set_management(self, **intercitybranch):\n",
    "        return intercitybranch\n",
    "    \n",
    "    def calc_tax_nyc(self):\n",
    "        branch = self.branch\n",
    "        intercitybranch = self.intercitybranch\n",
    "        product = self.product\n",
    "        sales = self.sales\n",
    "        pricebeforetax = sales['purchase_price'] + sales['purchase_price'] * sales['profit_margin']\n",
    "        finalselling_price = pricebeforetax + (pricebeforetax * (sales['tax_rate'] + sales['local_rate']))  \n",
    "        sales['selling_price'] = finalselling_price\n",
    "        return branch,intercitybranch, product, sales    "
   ]
  },
  {
   "cell_type": "code",
   "execution_count": 36,
   "metadata": {},
   "outputs": [],
   "source": [
    "branch_manhattan = NYC()"
   ]
  },
  {
   "cell_type": "code",
   "execution_count": 37,
   "metadata": {},
   "outputs": [],
   "source": [
    "branch_manhattan.branch = branch_manhattan.set_branch(branch_id = 2021,\n",
    "branch_street = '40097 5th Main Street',\n",
    "branch_borough = 'Manhattan',                                                 \n",
    "branch_city = 'New York City',\n",
    "branch_state = 'New York',\n",
    "branch_zip = 11007)"
   ]
  },
  {
   "cell_type": "code",
   "execution_count": 38,
   "metadata": {},
   "outputs": [
    {
     "data": {
      "text/plain": [
       "{'branch_id': 2021,\n",
       " 'branch_street': '40097 5th Main Street',\n",
       " 'branch_borough': 'Manhattan',\n",
       " 'branch_city': 'New York City',\n",
       " 'branch_state': 'New York',\n",
       " 'branch_zip': 11007}"
      ]
     },
     "execution_count": 38,
     "metadata": {},
     "output_type": "execute_result"
    }
   ],
   "source": [
    "branch_manhattan.branch"
   ]
  },
  {
   "cell_type": "code",
   "execution_count": 39,
   "metadata": {},
   "outputs": [],
   "source": [
    "branch_manhattan.intercitybranch = branch_manhattan.set_management(\n",
    "    regional_manager = 'John M',\n",
    "    branch_manager = 'Tom H',\n",
    "    subbranch_id = '2021-01'    \n",
    ")"
   ]
  },
  {
   "cell_type": "code",
   "execution_count": 40,
   "metadata": {},
   "outputs": [
    {
     "data": {
      "text/plain": [
       "{'regional_manager': 'John M',\n",
       " 'branch_manager': 'Tom H',\n",
       " 'subbranch_id': '2021-01'}"
      ]
     },
     "execution_count": 40,
     "metadata": {},
     "output_type": "execute_result"
    }
   ],
   "source": [
    "branch_manhattan.intercitybranch"
   ]
  },
  {
   "cell_type": "code",
   "execution_count": 41,
   "metadata": {},
   "outputs": [],
   "source": [
    "branch_manhattan.product = branch_manhattan.set_product(\n",
    "    product_id = 100002,\n",
    "    product_name = 'WashingMachine',\n",
    "    product_brand = 'Whirlpool'  \n",
    ")"
   ]
  },
  {
   "cell_type": "code",
   "execution_count": 42,
   "metadata": {},
   "outputs": [
    {
     "data": {
      "text/plain": [
       "{'product_id': 100002,\n",
       " 'product_name': 'WashingMachine',\n",
       " 'product_brand': 'Whirlpool'}"
      ]
     },
     "execution_count": 42,
     "metadata": {},
     "output_type": "execute_result"
    }
   ],
   "source": [
    "branch_manhattan.product"
   ]
  },
  {
   "cell_type": "code",
   "execution_count": 43,
   "metadata": {},
   "outputs": [],
   "source": [
    "branch_manhattan.sales = branch_manhattan.set_sales(\n",
    "    purchase_price = 450,\n",
    "    profit_margin = 0.19,\n",
    "    tax_rate = 0.4,\n",
    "    local_rate = 0.055    \n",
    ")"
   ]
  },
  {
   "cell_type": "code",
   "execution_count": 44,
   "metadata": {},
   "outputs": [
    {
     "data": {
      "text/plain": [
       "{'purchase_price': 450,\n",
       " 'profit_margin': 0.19,\n",
       " 'tax_rate': 0.4,\n",
       " 'local_rate': 0.055}"
      ]
     },
     "execution_count": 44,
     "metadata": {},
     "output_type": "execute_result"
    }
   ],
   "source": [
    "branch_manhattan.sales"
   ]
  },
  {
   "cell_type": "code",
   "execution_count": 45,
   "metadata": {},
   "outputs": [
    {
     "data": {
      "text/plain": [
       "({'branch_id': 2021,\n",
       "  'branch_street': '40097 5th Main Street',\n",
       "  'branch_borough': 'Manhattan',\n",
       "  'branch_city': 'New York City',\n",
       "  'branch_state': 'New York',\n",
       "  'branch_zip': 11007},\n",
       " {'product_id': 100002,\n",
       "  'product_name': 'WashingMachine',\n",
       "  'product_brand': 'Whirlpool'},\n",
       " {'purchase_price': 450,\n",
       "  'profit_margin': 0.19,\n",
       "  'tax_rate': 0.4,\n",
       "  'local_rate': 0.055,\n",
       "  'selling_price': 749.7})"
      ]
     },
     "execution_count": 45,
     "metadata": {},
     "output_type": "execute_result"
    }
   ],
   "source": [
    "branch_manhattan.calc_tax()"
   ]
  },
  {
   "cell_type": "code",
   "execution_count": 46,
   "metadata": {},
   "outputs": [
    {
     "data": {
      "text/plain": [
       "({'branch_id': 2021,\n",
       "  'branch_street': '40097 5th Main Street',\n",
       "  'branch_borough': 'Manhattan',\n",
       "  'branch_city': 'New York City',\n",
       "  'branch_state': 'New York',\n",
       "  'branch_zip': 11007},\n",
       " {'regional_manager': 'John M',\n",
       "  'branch_manager': 'Tom H',\n",
       "  'subbranch_id': '2021-01'},\n",
       " {'product_id': 100002,\n",
       "  'product_name': 'WashingMachine',\n",
       "  'product_brand': 'Whirlpool'},\n",
       " {'purchase_price': 450,\n",
       "  'profit_margin': 0.19,\n",
       "  'tax_rate': 0.4,\n",
       "  'local_rate': 0.055,\n",
       "  'selling_price': 779.1525})"
      ]
     },
     "execution_count": 46,
     "metadata": {},
     "output_type": "execute_result"
    }
   ],
   "source": [
    "branch_manhattan.calc_tax_nyc()"
   ]
  },
  {
   "cell_type": "markdown",
   "metadata": {},
   "source": [
    "### Polymorphism"
   ]
  },
  {
   "cell_type": "code",
   "execution_count": 47,
   "metadata": {},
   "outputs": [],
   "source": [
    "class NYC(Branch):\n",
    "    def set_management(self, **intercitybranch):\n",
    "        return intercitybranch\n",
    "    \n",
    "    def calc_tax(self):\n",
    "        branch = self.branch\n",
    "        intercitybranch = self.intercitybranch\n",
    "        product = self.product\n",
    "        sales = self.sales\n",
    "        pricebeforetax = sales['purchase_price'] + sales['purchase_price'] * sales['profit_margin']\n",
    "        finalselling_price = pricebeforetax + (pricebeforetax * (sales['tax_rate'] + sales['local_rate']))  \n",
    "        sales['selling_price'] = finalselling_price\n",
    "        return branch,intercitybranch, product, sales    "
   ]
  },
  {
   "cell_type": "code",
   "execution_count": 48,
   "metadata": {},
   "outputs": [],
   "source": [
    "branch_manhattan = NYC()"
   ]
  },
  {
   "cell_type": "code",
   "execution_count": 49,
   "metadata": {},
   "outputs": [],
   "source": [
    "branch_manhattan.branch = branch_manhattan.set_branch(branch_id = 2021,\n",
    "branch_street = '40097 5th Main Street',\n",
    "branch_borough = 'Manhattan',                                                 \n",
    "branch_city = 'New York City',\n",
    "branch_state = 'New York',\n",
    "branch_zip = 11007)\n",
    "\n",
    "branch_manhattan.intercitybranch = branch_manhattan.set_management(\n",
    "    regional_manager = 'John M',\n",
    "    branch_manager = 'Tom H',\n",
    "    subbranch_id = '2021-01'    \n",
    ")\n",
    "\n",
    "branch_manhattan.product = branch_manhattan.set_product(\n",
    "    product_id = 100002,\n",
    "    product_name = 'WashingMachine',\n",
    "    product_brand = 'Whirlpool'  \n",
    ")\n",
    "\n",
    "branch_manhattan.sales = branch_manhattan.set_sales(\n",
    "    purchase_price = 450,\n",
    "    profit_margin = 0.19,\n",
    "    tax_rate = 0.4,\n",
    "    local_rate = 0.055    \n",
    ")\n"
   ]
  },
  {
   "cell_type": "code",
   "execution_count": 50,
   "metadata": {},
   "outputs": [
    {
     "data": {
      "text/plain": [
       "({'branch_id': 2021,\n",
       "  'branch_street': '40097 5th Main Street',\n",
       "  'branch_borough': 'Manhattan',\n",
       "  'branch_city': 'New York City',\n",
       "  'branch_state': 'New York',\n",
       "  'branch_zip': 11007},\n",
       " {'regional_manager': 'John M',\n",
       "  'branch_manager': 'Tom H',\n",
       "  'subbranch_id': '2021-01'},\n",
       " {'product_id': 100002,\n",
       "  'product_name': 'WashingMachine',\n",
       "  'product_brand': 'Whirlpool'},\n",
       " {'purchase_price': 450,\n",
       "  'profit_margin': 0.19,\n",
       "  'tax_rate': 0.4,\n",
       "  'local_rate': 0.055,\n",
       "  'selling_price': 779.1525})"
      ]
     },
     "execution_count": 50,
     "metadata": {},
     "output_type": "execute_result"
    }
   ],
   "source": [
    "branch_manhattan.calc_tax()"
   ]
  },
  {
   "cell_type": "code",
   "execution_count": 51,
   "metadata": {},
   "outputs": [],
   "source": [
    "class Brooklyn:\n",
    "    def maintenance_cost(self, product_type, quantity):\n",
    "        self.product_type = product_type\n",
    "        self.quantity = quantity\n",
    "        coldstorage_cost = 100\n",
    "        if (product_type == 'FMCG'):\n",
    "            maintenance_cost = self.quantity * 0.25 + coldstorage_cost    \n",
    "            return maintenance_cost\n",
    "        else:\n",
    "            return \"We don't stock this product\""
   ]
  },
  {
   "cell_type": "code",
   "execution_count": 52,
   "metadata": {},
   "outputs": [],
   "source": [
    "class Queens:\n",
    "    def maintenance_cost(self, product_type, quantity):\n",
    "        self.product_type = product_type\n",
    "        self.quantity = quantity\n",
    "        if (product_type == 'Electronics'):\n",
    "            maintenance_cost = self.quantity * 0.05\n",
    "            return maintenance_cost\n",
    "        else:\n",
    "            return \"We don't stock this product\""
   ]
  },
  {
   "cell_type": "code",
   "execution_count": 53,
   "metadata": {},
   "outputs": [],
   "source": [
    "object_brooklyn = Brooklyn()"
   ]
  },
  {
   "cell_type": "code",
   "execution_count": 54,
   "metadata": {},
   "outputs": [],
   "source": [
    "object_queens = Queens()"
   ]
  },
  {
   "cell_type": "code",
   "execution_count": 55,
   "metadata": {},
   "outputs": [
    {
     "data": {
      "text/plain": [
       "600.0"
      ]
     },
     "execution_count": 55,
     "metadata": {},
     "output_type": "execute_result"
    }
   ],
   "source": [
    "object_brooklyn.maintenance_cost('FMCG', 2000)"
   ]
  },
  {
   "cell_type": "code",
   "execution_count": 56,
   "metadata": {},
   "outputs": [
    {
     "data": {
      "text/plain": [
       "100.0"
      ]
     },
     "execution_count": 56,
     "metadata": {},
     "output_type": "execute_result"
    }
   ],
   "source": [
    "object_queens.maintenance_cost('Electronics', 2000)"
   ]
  },
  {
   "cell_type": "markdown",
   "metadata": {},
   "source": [
    "### Multiple Inheritance"
   ]
  },
  {
   "cell_type": "code",
   "execution_count": 57,
   "metadata": {},
   "outputs": [],
   "source": [
    "class Product:\n",
    "    _product_id = 100902\n",
    "    _product_name = 'Iphone X'\n",
    "    _product_category = 'Electronics'\n",
    "    _unit_price = 700\n",
    "    \n",
    "    def get_product(self):\n",
    "        return self._product_id, self._product_name, self._product_category, self._unit_price\n",
    "\n",
    "class Branch:\n",
    "    _branch_id = 2021\n",
    "    _branch_street = '40097 5th Main Street'\n",
    "    _branch_borough = 'Manhattan'\n",
    "    _branch_city = 'New York City'\n",
    "    _branch_state = 'New York'\n",
    "    _branch_zip = 11007\n",
    "    \n",
    "    def get_branch(self):\n",
    "        return self._branch_id, self._branch_street, self._branch_borough, self._branch_city, self._branch_state, self._branch_zip\n",
    "    \n",
    "class Sales(Product, Branch):\n",
    "    date = '08/02/2021'\n",
    "    def get_sales(self):\n",
    "        return self.date, Product.get_product(self), Branch.get_branch(self)\n"
   ]
  },
  {
   "cell_type": "code",
   "execution_count": 58,
   "metadata": {},
   "outputs": [],
   "source": [
    "sales = Sales()"
   ]
  },
  {
   "cell_type": "code",
   "execution_count": 59,
   "metadata": {},
   "outputs": [
    {
     "data": {
      "text/plain": [
       "('08/02/2021',\n",
       " (100902, 'Iphone X', 'Electronics', 700),\n",
       " (2021,\n",
       "  '40097 5th Main Street',\n",
       "  'Manhattan',\n",
       "  'New York City',\n",
       "  'New York',\n",
       "  11007))"
      ]
     },
     "execution_count": 59,
     "metadata": {},
     "output_type": "execute_result"
    }
   ],
   "source": [
    "sales.get_sales()"
   ]
  },
  {
   "cell_type": "markdown",
   "metadata": {},
   "source": [
    "### Abstraction"
   ]
  },
  {
   "cell_type": "code",
   "execution_count": 60,
   "metadata": {},
   "outputs": [],
   "source": [
    "class Branch(): \n",
    "    def maintenance_cost(self): \n",
    "        pass\n",
    "    \n",
    "class Brooklyn(Branch): \n",
    "    def maintenance_cost(self, product_type, quantity):\n",
    "        self.product_type = product_type\n",
    "        self.quantity = quantity\n",
    "        coldstorage_cost = 100\n",
    "        if (product_type == 'FMCG'):\n",
    "            maintenance_cost = self.quantity * 0.25 + coldstorage_cost    \n",
    "            return maintenance_cost\n",
    "        else:\n",
    "            return \"We don't stock this product\"\n",
    "        \n",
    "class Queens(Branch):\n",
    "    def maintenance_cost(self, product_type, quantity):\n",
    "        self.product_type = product_type\n",
    "        self.quantity = quantity\n",
    "        if (product_type == 'Electronics'):\n",
    "            maintenance_cost = self.quantity * 0.05\n",
    "            return maintenance_cost\n",
    "        else:\n",
    "            return \"We don't stock this product\""
   ]
  },
  {
   "cell_type": "code",
   "execution_count": 61,
   "metadata": {},
   "outputs": [],
   "source": [
    "branch = Branch()\n",
    "branch.maintenance_cost()"
   ]
  },
  {
   "cell_type": "code",
   "execution_count": 62,
   "metadata": {},
   "outputs": [],
   "source": [
    "from abc import ABC,abstractmethod \n",
    "  \n",
    "class Branch(ABC): \n",
    "    @abstractmethod\n",
    "    def maintenance_cost(self): \n",
    "        pass\n",
    "    \n",
    "class Brooklyn(Branch): \n",
    "    def maintenance_cost(self, product_type, quantity):\n",
    "        self.product_type = product_type\n",
    "        self.quantity = quantity\n",
    "        coldstorage_cost = 100\n",
    "        if (product_type == 'FMCG'):\n",
    "            maintenance_cost = self.quantity * 0.25 + coldstorage_cost    \n",
    "            return maintenance_cost\n",
    "        else:\n",
    "            return \"We don't stock this product\"\n",
    "        \n",
    "class Queens(Branch):\n",
    "    def maintenance_cost(self, product_type, quantity):\n",
    "        self.product_type = product_type\n",
    "        self.quantity = quantity\n",
    "        if (product_type == 'Electronics'):\n",
    "            maintenance_cost = self.quantity * 0.05\n",
    "            return maintenance_cost\n",
    "        else:\n",
    "            return \"We don't stock this product\""
   ]
  },
  {
   "cell_type": "code",
   "execution_count": 63,
   "metadata": {},
   "outputs": [
    {
     "ename": "TypeError",
     "evalue": "Can't instantiate abstract class Branch with abstract method maintenance_cost",
     "output_type": "error",
     "traceback": [
      "\u001b[1;31m---------------------------------------------------------------------------\u001b[0m",
      "\u001b[1;31mTypeError\u001b[0m                                 Traceback (most recent call last)",
      "\u001b[1;32m<ipython-input-63-e23880b57df1>\u001b[0m in \u001b[0;36m<module>\u001b[1;34m\u001b[0m\n\u001b[1;32m----> 1\u001b[1;33m \u001b[0mbranch\u001b[0m \u001b[1;33m=\u001b[0m \u001b[0mBranch\u001b[0m\u001b[1;33m(\u001b[0m\u001b[1;33m)\u001b[0m\u001b[1;33m\u001b[0m\u001b[1;33m\u001b[0m\u001b[0m\n\u001b[0m",
      "\u001b[1;31mTypeError\u001b[0m: Can't instantiate abstract class Branch with abstract method maintenance_cost"
     ]
    }
   ],
   "source": [
    "branch = Branch()"
   ]
  },
  {
   "cell_type": "code",
   "execution_count": 64,
   "metadata": {},
   "outputs": [
    {
     "data": {
      "text/plain": [
       "1350.0"
      ]
     },
     "execution_count": 64,
     "metadata": {},
     "output_type": "execute_result"
    }
   ],
   "source": [
    "branch_brooklyn = Brooklyn()\n",
    "branch_brooklyn.maintenance_cost('FMCG', 5000)"
   ]
  },
  {
   "cell_type": "code",
   "execution_count": 65,
   "metadata": {},
   "outputs": [
    {
     "data": {
      "text/plain": [
       "250.0"
      ]
     },
     "execution_count": 65,
     "metadata": {},
     "output_type": "execute_result"
    }
   ],
   "source": [
    "branch_queens = Queens()\n",
    "branch_queens.maintenance_cost('Electronics', 5000)"
   ]
  },
  {
   "cell_type": "markdown",
   "metadata": {},
   "source": [
    "### Encapsulation"
   ]
  },
  {
   "cell_type": "code",
   "execution_count": 66,
   "metadata": {},
   "outputs": [],
   "source": [
    "class Branch():\n",
    "    branch_id = 2021\n",
    "    regional_manager = 'John M'\n",
    "    branch_manager = 'Tom H'\n",
    "    __product_id = None\n",
    "    __product_name = None\n",
    "    __product_brand = None\n",
    "    __purchase_price = None\n",
    "    __profit_margin = None\n",
    "    \n",
    "    def __display_product_details(self):\n",
    "        self.__product_id = 100002\n",
    "        self.__product_name = 'Washing Machine'\n",
    "        self.__product_brand = 'Whirlpool'\n",
    "        self.__purchase_price = 450\n",
    "        self.__profit_margin = 0.19\n",
    "        print('Product ID: ' + str(self.__product_id) + ', Product Name: ' + self.__product_name +\n",
    "              ', Product Brand: ' + self.__product_brand + ', Purchase Price: ' + str(self.__purchase_price)\n",
    "              + ', Profit Margin: ' +  str(self.__profit_margin))\n",
    "    \n",
    "    def __init__(self):\n",
    "        self.__display_product_details()"
   ]
  },
  {
   "cell_type": "code",
   "execution_count": 67,
   "metadata": {},
   "outputs": [
    {
     "name": "stdout",
     "output_type": "stream",
     "text": [
      "Product ID: 100002, Product Name: Washing Machine, Product Brand: Whirlpool, Purchase Price: 450, Profit Margin: 0.19\n"
     ]
    }
   ],
   "source": [
    "branch = Branch()"
   ]
  },
  {
   "cell_type": "code",
   "execution_count": 68,
   "metadata": {},
   "outputs": [
    {
     "data": {
      "text/plain": [
       "2021"
      ]
     },
     "execution_count": 68,
     "metadata": {},
     "output_type": "execute_result"
    }
   ],
   "source": [
    "branch.branch_id"
   ]
  },
  {
   "cell_type": "code",
   "execution_count": 69,
   "metadata": {},
   "outputs": [
    {
     "ename": "AttributeError",
     "evalue": "'Branch' object has no attribute '__profit_margin'",
     "output_type": "error",
     "traceback": [
      "\u001b[1;31m---------------------------------------------------------------------------\u001b[0m",
      "\u001b[1;31mAttributeError\u001b[0m                            Traceback (most recent call last)",
      "\u001b[1;32m<ipython-input-69-5f656f5bc57c>\u001b[0m in \u001b[0;36m<module>\u001b[1;34m\u001b[0m\n\u001b[1;32m----> 1\u001b[1;33m \u001b[0mbranch\u001b[0m\u001b[1;33m.\u001b[0m\u001b[0m__profit_margin\u001b[0m\u001b[1;33m\u001b[0m\u001b[1;33m\u001b[0m\u001b[0m\n\u001b[0m",
      "\u001b[1;31mAttributeError\u001b[0m: 'Branch' object has no attribute '__profit_margin'"
     ]
    }
   ],
   "source": [
    "branch.__profit_margin"
   ]
  },
  {
   "cell_type": "code",
   "execution_count": 70,
   "metadata": {},
   "outputs": [
    {
     "ename": "AttributeError",
     "evalue": "'Branch' object has no attribute '__display_product_details'",
     "output_type": "error",
     "traceback": [
      "\u001b[1;31m---------------------------------------------------------------------------\u001b[0m",
      "\u001b[1;31mAttributeError\u001b[0m                            Traceback (most recent call last)",
      "\u001b[1;32m<ipython-input-70-4fd46197e4b2>\u001b[0m in \u001b[0;36m<module>\u001b[1;34m\u001b[0m\n\u001b[1;32m----> 1\u001b[1;33m \u001b[0mbranch\u001b[0m\u001b[1;33m.\u001b[0m\u001b[0m__display_product_details\u001b[0m\u001b[1;33m(\u001b[0m\u001b[1;33m)\u001b[0m\u001b[1;33m\u001b[0m\u001b[1;33m\u001b[0m\u001b[0m\n\u001b[0m",
      "\u001b[1;31mAttributeError\u001b[0m: 'Branch' object has no attribute '__display_product_details'"
     ]
    }
   ],
   "source": [
    "branch.__display_product_details()"
   ]
  },
  {
   "cell_type": "code",
   "execution_count": 71,
   "metadata": {},
   "outputs": [],
   "source": [
    "class Branch():\n",
    "    branch_id = 2022\n",
    "    regional_manager = 'Ron D'\n",
    "    __branch_manager = 'Sam J'\n",
    "    _product_id = None\n",
    "    _product_name = None\n",
    "    _product_brand = None\n",
    "    _purchase_price = None\n",
    "    _profit_margin = None\n",
    "    \n",
    "    def _display_product_details(self):\n",
    "        self._product_id = 100003\n",
    "        self._product_name = 'Washing Machine'\n",
    "        self._product_brand = 'Samsung'\n",
    "        self._purchase_price = 430\n",
    "        self._profit_margin = 0.18\n",
    "        print('Product ID: ' + str(self._product_id) + ', Product Name: ' + self._product_name +\n",
    "              ', Product Brand: ' + self._product_brand + ', Purchase Price: ' + str(self._purchase_price)\n",
    "              + ', Profit Margin: ' +  str(self._profit_margin))\n",
    "    \n",
    "    def __init__(self):\n",
    "        self._display_product_details()"
   ]
  },
  {
   "cell_type": "code",
   "execution_count": 72,
   "metadata": {},
   "outputs": [
    {
     "name": "stdout",
     "output_type": "stream",
     "text": [
      "Product ID: 100003, Product Name: Washing Machine, Product Brand: Samsung, Purchase Price: 430, Profit Margin: 0.18\n"
     ]
    }
   ],
   "source": [
    "branch = Branch()"
   ]
  },
  {
   "cell_type": "code",
   "execution_count": 73,
   "metadata": {},
   "outputs": [],
   "source": [
    "class Brooklyn(Branch):\n",
    "    def __init__(self):\n",
    "        print(self._product_id)\n",
    "        self._display_product_details()"
   ]
  },
  {
   "cell_type": "code",
   "execution_count": 74,
   "metadata": {},
   "outputs": [
    {
     "name": "stdout",
     "output_type": "stream",
     "text": [
      "None\n",
      "Product ID: 100003, Product Name: Washing Machine, Product Brand: Samsung, Purchase Price: 430, Profit Margin: 0.18\n"
     ]
    }
   ],
   "source": [
    "branch_brooklyn = Brooklyn()"
   ]
  },
  {
   "cell_type": "code",
   "execution_count": 75,
   "metadata": {},
   "outputs": [],
   "source": [
    "class Brooklyn(Branch):\n",
    "    def __init__(self):\n",
    "        print(self._product_id)\n",
    "        self._display_product_details()\n",
    "        print(self.__branch_manager)"
   ]
  },
  {
   "cell_type": "code",
   "execution_count": 76,
   "metadata": {},
   "outputs": [
    {
     "name": "stdout",
     "output_type": "stream",
     "text": [
      "None\n",
      "Product ID: 100003, Product Name: Washing Machine, Product Brand: Samsung, Purchase Price: 430, Profit Margin: 0.18\n"
     ]
    },
    {
     "ename": "AttributeError",
     "evalue": "'Brooklyn' object has no attribute '_Brooklyn__branch_manager'",
     "output_type": "error",
     "traceback": [
      "\u001b[1;31m---------------------------------------------------------------------------\u001b[0m",
      "\u001b[1;31mAttributeError\u001b[0m                            Traceback (most recent call last)",
      "\u001b[1;32m<ipython-input-76-06f29debb77a>\u001b[0m in \u001b[0;36m<module>\u001b[1;34m\u001b[0m\n\u001b[1;32m----> 1\u001b[1;33m \u001b[0mbranch_brooklyn\u001b[0m \u001b[1;33m=\u001b[0m \u001b[0mBrooklyn\u001b[0m\u001b[1;33m(\u001b[0m\u001b[1;33m)\u001b[0m\u001b[1;33m\u001b[0m\u001b[1;33m\u001b[0m\u001b[0m\n\u001b[0m",
      "\u001b[1;32m<ipython-input-75-ab5561b2983f>\u001b[0m in \u001b[0;36m__init__\u001b[1;34m(self)\u001b[0m\n\u001b[0;32m      3\u001b[0m         \u001b[0mprint\u001b[0m\u001b[1;33m(\u001b[0m\u001b[0mself\u001b[0m\u001b[1;33m.\u001b[0m\u001b[0m_product_id\u001b[0m\u001b[1;33m)\u001b[0m\u001b[1;33m\u001b[0m\u001b[1;33m\u001b[0m\u001b[0m\n\u001b[0;32m      4\u001b[0m         \u001b[0mself\u001b[0m\u001b[1;33m.\u001b[0m\u001b[0m_display_product_details\u001b[0m\u001b[1;33m(\u001b[0m\u001b[1;33m)\u001b[0m\u001b[1;33m\u001b[0m\u001b[1;33m\u001b[0m\u001b[0m\n\u001b[1;32m----> 5\u001b[1;33m         \u001b[0mprint\u001b[0m\u001b[1;33m(\u001b[0m\u001b[0mself\u001b[0m\u001b[1;33m.\u001b[0m\u001b[0m__branch_manager\u001b[0m\u001b[1;33m)\u001b[0m\u001b[1;33m\u001b[0m\u001b[1;33m\u001b[0m\u001b[0m\n\u001b[0m",
      "\u001b[1;31mAttributeError\u001b[0m: 'Brooklyn' object has no attribute '_Brooklyn__branch_manager'"
     ]
    }
   ],
   "source": [
    "branch_brooklyn = Brooklyn()"
   ]
  },
  {
   "cell_type": "markdown",
   "metadata": {},
   "source": [
    "### These are all the examples covered  in this chapter."
   ]
  },
  {
   "cell_type": "code",
   "execution_count": null,
   "metadata": {},
   "outputs": [],
   "source": []
  }
 ],
 "metadata": {
  "kernelspec": {
   "display_name": "Python 3",
   "language": "python",
   "name": "python3"
  },
  "language_info": {
   "codemirror_mode": {
    "name": "ipython",
    "version": 3
   },
   "file_extension": ".py",
   "mimetype": "text/x-python",
   "name": "python",
   "nbconvert_exporter": "python",
   "pygments_lexer": "ipython3",
   "version": "3.9.5"
  }
 },
 "nbformat": 4,
 "nbformat_minor": 4
}
