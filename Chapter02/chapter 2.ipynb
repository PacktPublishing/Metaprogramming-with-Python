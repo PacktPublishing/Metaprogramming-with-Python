{
 "cells": [
  {
   "cell_type": "markdown",
   "metadata": {},
   "source": [
    "## Chapter 2: Refresher of OOP concepts in Python"
   ]
  },
  {
   "cell_type": "markdown",
   "metadata": {},
   "source": [
    "### Classes and Objects"
   ]
  },
  {
   "cell_type": "code",
   "execution_count": 1,
   "metadata": {},
   "outputs": [],
   "source": [
    "class ClassName:\n",
    "    '''attributes...'''\n",
    "    \n",
    "    '''methods...'''\n"
   ]
  },
  {
   "cell_type": "code",
   "execution_count": 2,
   "metadata": {},
   "outputs": [],
   "source": [
    "objName = ClassName()"
   ]
  },
  {
   "cell_type": "code",
   "execution_count": 3,
   "metadata": {},
   "outputs": [],
   "source": [
    "class Branch:\n",
    "    '''attributes...'''\n",
    "    \n",
    "    '''methods...'''\n"
   ]
  },
  {
   "cell_type": "code",
   "execution_count": 4,
   "metadata": {},
   "outputs": [],
   "source": [
    "class Branch:\n",
    "    '''attributes'''\n",
    "    branchID = None\n",
    "    branchStreet = None\n",
    "    branchCity = None\n",
    "    branchState = None\n",
    "    branchZip = None\n",
    "    \n",
    "    '''methods'''\n",
    "    def getProduct(self):\n",
    "        return 'product'\n",
    "    \n",
    "    def getSales(self):\n",
    "        return 'sales'\n",
    "        \n",
    "    def getInvoice(self):\n",
    "        return 'invoice'"
   ]
  },
  {
   "cell_type": "code",
   "execution_count": 5,
   "metadata": {},
   "outputs": [],
   "source": [
    "branchAlbany = Branch()"
   ]
  },
  {
   "cell_type": "code",
   "execution_count": 6,
   "metadata": {},
   "outputs": [],
   "source": [
    "branchAlbany.branchID = 123\n",
    "branchAlbany.branchStreet = '123 Main Street'\n",
    "branchAlbany.branchCity = 'Albany'\n",
    "branchAlbany.branchState = 'New York'\n",
    "branchAlbany.branchZip = 12084"
   ]
  },
  {
   "cell_type": "code",
   "execution_count": 7,
   "metadata": {},
   "outputs": [
    {
     "data": {
      "text/plain": [
       "123"
      ]
     },
     "execution_count": 7,
     "metadata": {},
     "output_type": "execute_result"
    }
   ],
   "source": [
    "branchAlbany.branchID"
   ]
  },
  {
   "cell_type": "code",
   "execution_count": 8,
   "metadata": {},
   "outputs": [
    {
     "data": {
      "text/plain": [
       "'123 Main Street'"
      ]
     },
     "execution_count": 8,
     "metadata": {},
     "output_type": "execute_result"
    }
   ],
   "source": [
    "branchAlbany.branchStreet"
   ]
  },
  {
   "cell_type": "code",
   "execution_count": 9,
   "metadata": {},
   "outputs": [
    {
     "data": {
      "text/plain": [
       "'Albany'"
      ]
     },
     "execution_count": 9,
     "metadata": {},
     "output_type": "execute_result"
    }
   ],
   "source": [
    "branchAlbany.branchCity"
   ]
  },
  {
   "cell_type": "code",
   "execution_count": 10,
   "metadata": {},
   "outputs": [
    {
     "data": {
      "text/plain": [
       "'New York'"
      ]
     },
     "execution_count": 10,
     "metadata": {},
     "output_type": "execute_result"
    }
   ],
   "source": [
    "branchAlbany.branchState"
   ]
  },
  {
   "cell_type": "code",
   "execution_count": 11,
   "metadata": {},
   "outputs": [
    {
     "data": {
      "text/plain": [
       "12084"
      ]
     },
     "execution_count": 11,
     "metadata": {},
     "output_type": "execute_result"
    }
   ],
   "source": [
    "branchAlbany.branchZip"
   ]
  },
  {
   "cell_type": "code",
   "execution_count": 12,
   "metadata": {},
   "outputs": [
    {
     "data": {
      "text/plain": [
       "'invoice'"
      ]
     },
     "execution_count": 12,
     "metadata": {},
     "output_type": "execute_result"
    }
   ],
   "source": [
    "branchAlbany.getInvoice()"
   ]
  },
  {
   "cell_type": "code",
   "execution_count": 13,
   "metadata": {},
   "outputs": [],
   "source": [
    "branchNevada = Branch()"
   ]
  },
  {
   "cell_type": "code",
   "execution_count": 14,
   "metadata": {},
   "outputs": [],
   "source": [
    "branchNevada.branchID"
   ]
  },
  {
   "cell_type": "code",
   "execution_count": 15,
   "metadata": {},
   "outputs": [],
   "source": [
    "branchNevada.branchID = 456"
   ]
  },
  {
   "cell_type": "code",
   "execution_count": 16,
   "metadata": {},
   "outputs": [
    {
     "data": {
      "text/plain": [
       "456"
      ]
     },
     "execution_count": 16,
     "metadata": {},
     "output_type": "execute_result"
    }
   ],
   "source": [
    "branchNevada.branchID"
   ]
  },
  {
   "cell_type": "code",
   "execution_count": 17,
   "metadata": {},
   "outputs": [],
   "source": [
    "class Branch:\n",
    "    def __init__(self, branchID, branchStreet, branchCity, branchState, branchZip):\n",
    "       \n",
    "        self.branchID = branchID\n",
    "        self.branchStreet = branchStreet\n",
    "        self.branchCity = branchCity\n",
    "        self.branchState = branchState\n",
    "        self.branchZip = branchZip\n",
    "\n",
    "    def getProduct(self):\n",
    "        return 'product'\n",
    "    \n",
    "    def getSales(self):\n",
    "        return 'sales'\n",
    "        \n",
    "    def getInvoice(self):\n",
    "        return 'invoice'"
   ]
  },
  {
   "cell_type": "code",
   "execution_count": 18,
   "metadata": {},
   "outputs": [],
   "source": [
    "objectAlbany = Branch(101,'123 Main Street','Albany','New York', 12084)"
   ]
  },
  {
   "cell_type": "code",
   "execution_count": 19,
   "metadata": {},
   "outputs": [
    {
     "name": "stdout",
     "output_type": "stream",
     "text": [
      "101 123 Main Street Albany New York 12084\n"
     ]
    }
   ],
   "source": [
    "print (objectAlbany.branchID, objectAlbany.branchStreet,\\\n",
    "       objectAlbany.branchCity,objectAlbany.branchState,\\\n",
    "      objectAlbany.branchZip)"
   ]
  },
  {
   "cell_type": "markdown",
   "metadata": {},
   "source": [
    "### Methods"
   ]
  },
  {
   "cell_type": "code",
   "execution_count": 20,
   "metadata": {},
   "outputs": [],
   "source": [
    "class Branch:\n",
    "    def __init__(self, branchID, branchStreet, branchCity, branchState, branchZip):\n",
    "       \n",
    "        self.branchID = branchID\n",
    "        self.branchStreet = branchStreet\n",
    "        self.branchCity = branchCity\n",
    "        self.branchState = branchState\n",
    "        self.branchZip = branchZip\n",
    "\n",
    "    def getProduct(self):\n",
    "        return 'product'\n",
    "    \n",
    "    def getSales(self):\n",
    "        return 'sales'\n",
    "        \n",
    "    def getInvoice(self):\n",
    "        return 'invoice'\n",
    "\n",
    "objectAlbany = Branch(101,'123 Main Street','Albany','New York', 12084)\n"
   ]
  },
  {
   "cell_type": "code",
   "execution_count": 21,
   "metadata": {},
   "outputs": [
    {
     "data": {
      "text/plain": [
       "'invoice'"
      ]
     },
     "execution_count": 21,
     "metadata": {},
     "output_type": "execute_result"
    }
   ],
   "source": [
    "objectAlbany.getInvoice()"
   ]
  },
  {
   "cell_type": "code",
   "execution_count": 22,
   "metadata": {},
   "outputs": [
    {
     "data": {
      "text/plain": [
       "'sales'"
      ]
     },
     "execution_count": 22,
     "metadata": {},
     "output_type": "execute_result"
    }
   ],
   "source": [
    "objectAlbany.getSales()"
   ]
  },
  {
   "cell_type": "code",
   "execution_count": 23,
   "metadata": {},
   "outputs": [
    {
     "data": {
      "text/plain": [
       "'product'"
      ]
     },
     "execution_count": 23,
     "metadata": {},
     "output_type": "execute_result"
    }
   ],
   "source": [
    "objectAlbany.getProduct()"
   ]
  },
  {
   "cell_type": "code",
   "execution_count": 24,
   "metadata": {},
   "outputs": [],
   "source": [
    "class Branch:\n",
    "   \n",
    "    def setBranch(self, **branch):\n",
    "        return branch\n",
    "    \n",
    "    def setSales(self, **sales):\n",
    "        return sales\n",
    "    \n",
    "    def setProduct(self, **product):\n",
    "        return product\n",
    "\n",
    "    def calcTax(self):\n",
    "        branch = self.branch\n",
    "        product = self.product\n",
    "        sales = self.sales\n",
    "        pricebeforetax = sales['purchasePrice'] + sales['purchasePrice'] * sales['profitMargin']\n",
    "        finalsellingprice = pricebeforetax + (pricebeforetax * sales['taxRate'])\n",
    "        sales['sellingPrice'] = finalsellingprice\n",
    "        return branch, product, sales"
   ]
  },
  {
   "cell_type": "code",
   "execution_count": 25,
   "metadata": {},
   "outputs": [],
   "source": [
    "branchNyc = Branch()"
   ]
  },
  {
   "cell_type": "code",
   "execution_count": 26,
   "metadata": {},
   "outputs": [],
   "source": [
    "branchNyc.branch = branchNyc.setBranch(branchID = 202,\n",
    "branchStreet = '234 3rd Main Street',\n",
    "branchCity = 'New York City',\n",
    "branchState = 'New York',\n",
    "branchZip = 11005)"
   ]
  },
  {
   "cell_type": "code",
   "execution_count": 27,
   "metadata": {},
   "outputs": [
    {
     "data": {
      "text/plain": [
       "{'branchID': 202,\n",
       " 'branchStreet': '234 3rd Main Street',\n",
       " 'branchCity': 'New York City',\n",
       " 'branchState': 'New York',\n",
       " 'branchZip': 11005}"
      ]
     },
     "execution_count": 27,
     "metadata": {},
     "output_type": "execute_result"
    }
   ],
   "source": [
    "branchNyc.branch"
   ]
  },
  {
   "cell_type": "code",
   "execution_count": 28,
   "metadata": {},
   "outputs": [],
   "source": [
    "branchNyc.product = branchNyc.setProduct(\n",
    "    productId = 100001,\n",
    "    productName = 'Refrigerator',\n",
    "    productBrand = 'Whirlpool'  \n",
    ")"
   ]
  },
  {
   "cell_type": "code",
   "execution_count": 29,
   "metadata": {},
   "outputs": [
    {
     "data": {
      "text/plain": [
       "{'productId': 100001,\n",
       " 'productName': 'Refrigerator',\n",
       " 'productBrand': 'Whirlpool'}"
      ]
     },
     "execution_count": 29,
     "metadata": {},
     "output_type": "execute_result"
    }
   ],
   "source": [
    "branchNyc.product"
   ]
  },
  {
   "cell_type": "code",
   "execution_count": 30,
   "metadata": {},
   "outputs": [],
   "source": [
    "branchNyc.sales = branchNyc.setSales(\n",
    "    purchasePrice = 300,\n",
    "    profitMargin = 0.20,\n",
    "    taxRate = 0.452\n",
    ")"
   ]
  },
  {
   "cell_type": "code",
   "execution_count": 31,
   "metadata": {},
   "outputs": [
    {
     "data": {
      "text/plain": [
       "{'purchasePrice': 300, 'profitMargin': 0.2, 'taxRate': 0.452}"
      ]
     },
     "execution_count": 31,
     "metadata": {},
     "output_type": "execute_result"
    }
   ],
   "source": [
    "branchNyc.sales"
   ]
  },
  {
   "cell_type": "code",
   "execution_count": 32,
   "metadata": {},
   "outputs": [
    {
     "data": {
      "text/plain": [
       "({'branchID': 202,\n",
       "  'branchStreet': '234 3rd Main Street',\n",
       "  'branchCity': 'New York City',\n",
       "  'branchState': 'New York',\n",
       "  'branchZip': 11005},\n",
       " {'productId': 100001,\n",
       "  'productName': 'Refrigerator',\n",
       "  'productBrand': 'Whirlpool'},\n",
       " {'purchasePrice': 300,\n",
       "  'profitMargin': 0.2,\n",
       "  'taxRate': 0.452,\n",
       "  'sellingPrice': 522.72})"
      ]
     },
     "execution_count": 32,
     "metadata": {},
     "output_type": "execute_result"
    }
   ],
   "source": [
    "branchNyc.calcTax()"
   ]
  },
  {
   "cell_type": "markdown",
   "metadata": {},
   "source": [
    "### Inheritance"
   ]
  },
  {
   "cell_type": "code",
   "execution_count": 33,
   "metadata": {},
   "outputs": [],
   "source": [
    "class Parent:\n",
    "    '''attributes...'''\n",
    "    \n",
    "    '''methods...'''\n",
    "\n",
    "class Child(Parent):\n",
    "    '''attributes...'''\n",
    "\n",
    "    '''methods...'''"
   ]
  },
  {
   "cell_type": "code",
   "execution_count": 34,
   "metadata": {},
   "outputs": [],
   "source": [
    "class NYC(Branch):\n",
    "    def setManagement(self, **intercitybranch):\n",
    "        return intercitybranch\n",
    "    \n",
    "    def calcTaxNYC(self):\n",
    "        branch = self.branch\n",
    "        intercitybranch = self.intercitybranch\n",
    "        product = self.product\n",
    "        sales = self.sales\n",
    "        pricebeforetax = sales['purchasePrice'] + sales['purchasePrice'] * sales['profitMargin']\n",
    "        finalsellingprice = pricebeforetax + (pricebeforetax * (sales['taxRate'] + sales['localRate']))  \n",
    "        sales['sellingPrice'] = finalsellingprice\n",
    "        return branch,intercitybranch, product, sales    "
   ]
  },
  {
   "cell_type": "code",
   "execution_count": 35,
   "metadata": {},
   "outputs": [],
   "source": [
    "branchManhattan = NYC()"
   ]
  },
  {
   "cell_type": "code",
   "execution_count": 36,
   "metadata": {},
   "outputs": [],
   "source": [
    "branchManhattan.branch = branchManhattan.setBranch(branchID = 2021,\n",
    "branchStreet = '40097 5th Main Street',\n",
    "branchBorough = 'Manhattan',                                                 \n",
    "branchCity = 'New York City',\n",
    "branchState = 'New York',\n",
    "branchZip = 11007)"
   ]
  },
  {
   "cell_type": "code",
   "execution_count": 37,
   "metadata": {},
   "outputs": [
    {
     "data": {
      "text/plain": [
       "{'branchID': 2021,\n",
       " 'branchStreet': '40097 5th Main Street',\n",
       " 'branchBorough': 'Manhattan',\n",
       " 'branchCity': 'New York City',\n",
       " 'branchState': 'New York',\n",
       " 'branchZip': 11007}"
      ]
     },
     "execution_count": 37,
     "metadata": {},
     "output_type": "execute_result"
    }
   ],
   "source": [
    "branchManhattan.branch"
   ]
  },
  {
   "cell_type": "code",
   "execution_count": 38,
   "metadata": {},
   "outputs": [],
   "source": [
    "branchManhattan.intercitybranch = branchManhattan.setManagement(\n",
    "    regionalManager = 'John M',\n",
    "    branchManager = 'Tom H',\n",
    "    subBranchID = '2021-01'    \n",
    ")"
   ]
  },
  {
   "cell_type": "code",
   "execution_count": 39,
   "metadata": {},
   "outputs": [
    {
     "data": {
      "text/plain": [
       "{'regionalManager': 'John M',\n",
       " 'branchManager': 'Tom H',\n",
       " 'subBranchID': '2021-01'}"
      ]
     },
     "execution_count": 39,
     "metadata": {},
     "output_type": "execute_result"
    }
   ],
   "source": [
    "branchManhattan.intercitybranch"
   ]
  },
  {
   "cell_type": "code",
   "execution_count": 40,
   "metadata": {},
   "outputs": [],
   "source": [
    "branchManhattan.product = branchManhattan.setProduct(\n",
    "    productId = 100002,\n",
    "    productName = 'WashingMachine',\n",
    "    productBrand = 'Whirlpool'  \n",
    ")"
   ]
  },
  {
   "cell_type": "code",
   "execution_count": 41,
   "metadata": {},
   "outputs": [
    {
     "data": {
      "text/plain": [
       "{'productId': 100002,\n",
       " 'productName': 'WashingMachine',\n",
       " 'productBrand': 'Whirlpool'}"
      ]
     },
     "execution_count": 41,
     "metadata": {},
     "output_type": "execute_result"
    }
   ],
   "source": [
    "branchManhattan.product"
   ]
  },
  {
   "cell_type": "code",
   "execution_count": 42,
   "metadata": {},
   "outputs": [],
   "source": [
    "branchManhattan.sales = branchManhattan.setSales(\n",
    "    purchasePrice = 450,\n",
    "    profitMargin = 0.19,\n",
    "    taxRate = 0.4,\n",
    "    localRate = 0.055    \n",
    ")"
   ]
  },
  {
   "cell_type": "code",
   "execution_count": 43,
   "metadata": {},
   "outputs": [
    {
     "data": {
      "text/plain": [
       "{'purchasePrice': 450,\n",
       " 'profitMargin': 0.19,\n",
       " 'taxRate': 0.4,\n",
       " 'localRate': 0.055}"
      ]
     },
     "execution_count": 43,
     "metadata": {},
     "output_type": "execute_result"
    }
   ],
   "source": [
    "branchManhattan.sales"
   ]
  },
  {
   "cell_type": "code",
   "execution_count": 44,
   "metadata": {},
   "outputs": [
    {
     "data": {
      "text/plain": [
       "({'branchID': 2021,\n",
       "  'branchStreet': '40097 5th Main Street',\n",
       "  'branchBorough': 'Manhattan',\n",
       "  'branchCity': 'New York City',\n",
       "  'branchState': 'New York',\n",
       "  'branchZip': 11007},\n",
       " {'productId': 100002,\n",
       "  'productName': 'WashingMachine',\n",
       "  'productBrand': 'Whirlpool'},\n",
       " {'purchasePrice': 450,\n",
       "  'profitMargin': 0.19,\n",
       "  'taxRate': 0.4,\n",
       "  'localRate': 0.055,\n",
       "  'sellingPrice': 749.7})"
      ]
     },
     "execution_count": 44,
     "metadata": {},
     "output_type": "execute_result"
    }
   ],
   "source": [
    "branchManhattan.calcTax()"
   ]
  },
  {
   "cell_type": "code",
   "execution_count": 45,
   "metadata": {},
   "outputs": [
    {
     "data": {
      "text/plain": [
       "({'branchID': 2021,\n",
       "  'branchStreet': '40097 5th Main Street',\n",
       "  'branchBorough': 'Manhattan',\n",
       "  'branchCity': 'New York City',\n",
       "  'branchState': 'New York',\n",
       "  'branchZip': 11007},\n",
       " {'regionalManager': 'John M',\n",
       "  'branchManager': 'Tom H',\n",
       "  'subBranchID': '2021-01'},\n",
       " {'productId': 100002,\n",
       "  'productName': 'WashingMachine',\n",
       "  'productBrand': 'Whirlpool'},\n",
       " {'purchasePrice': 450,\n",
       "  'profitMargin': 0.19,\n",
       "  'taxRate': 0.4,\n",
       "  'localRate': 0.055,\n",
       "  'sellingPrice': 779.1525})"
      ]
     },
     "execution_count": 45,
     "metadata": {},
     "output_type": "execute_result"
    }
   ],
   "source": [
    "branchManhattan.calcTaxNYC()"
   ]
  },
  {
   "cell_type": "markdown",
   "metadata": {},
   "source": [
    "### Polymorphism"
   ]
  },
  {
   "cell_type": "code",
   "execution_count": 46,
   "metadata": {},
   "outputs": [],
   "source": [
    "class NYC(Branch):\n",
    "    def setManagement(self, **intercitybranch):\n",
    "        return intercitybranch\n",
    "    \n",
    "    def calcTax(self):\n",
    "        branch = self.branch\n",
    "        intercitybranch = self.intercitybranch\n",
    "        product = self.product\n",
    "        sales = self.sales\n",
    "        pricebeforetax = sales['purchasePrice'] + sales['purchasePrice'] * sales['profitMargin']\n",
    "        finalsellingprice = pricebeforetax + (pricebeforetax * (sales['taxRate'] + sales['localRate']))  \n",
    "        sales['sellingPrice'] = finalsellingprice\n",
    "        return branch,intercitybranch, product, sales    "
   ]
  },
  {
   "cell_type": "code",
   "execution_count": 47,
   "metadata": {},
   "outputs": [],
   "source": [
    "branchManhattan = NYC()"
   ]
  },
  {
   "cell_type": "code",
   "execution_count": 48,
   "metadata": {},
   "outputs": [],
   "source": [
    "branchManhattan.branch = branchManhattan.setBranch(branchID = 2021,\n",
    "branchStreet = '40097 5th Main Street',\n",
    "branchBorough = 'Manhattan',                                                 \n",
    "branchCity = 'New York City',\n",
    "branchState = 'New York',\n",
    "branchZip = 11007)\n",
    "\n",
    "branchManhattan.intercitybranch = branchManhattan.setManagement(\n",
    "    regionalManager = 'John M',\n",
    "    branchManager = 'Tom H',\n",
    "    subBranchID = '2021-01'    \n",
    ")\n",
    "\n",
    "branchManhattan.product = branchManhattan.setProduct(\n",
    "    productId = 100002,\n",
    "    productName = 'WashingMachine',\n",
    "    productBrand = 'Whirlpool'  \n",
    ")\n",
    "\n",
    "branchManhattan.sales = branchManhattan.setSales(\n",
    "    purchasePrice = 450,\n",
    "    profitMargin = 0.19,\n",
    "    taxRate = 0.4,\n",
    "    localRate = 0.055    \n",
    ")\n"
   ]
  },
  {
   "cell_type": "code",
   "execution_count": 49,
   "metadata": {},
   "outputs": [
    {
     "data": {
      "text/plain": [
       "({'branchID': 2021,\n",
       "  'branchStreet': '40097 5th Main Street',\n",
       "  'branchBorough': 'Manhattan',\n",
       "  'branchCity': 'New York City',\n",
       "  'branchState': 'New York',\n",
       "  'branchZip': 11007},\n",
       " {'regionalManager': 'John M',\n",
       "  'branchManager': 'Tom H',\n",
       "  'subBranchID': '2021-01'},\n",
       " {'productId': 100002,\n",
       "  'productName': 'WashingMachine',\n",
       "  'productBrand': 'Whirlpool'},\n",
       " {'purchasePrice': 450,\n",
       "  'profitMargin': 0.19,\n",
       "  'taxRate': 0.4,\n",
       "  'localRate': 0.055,\n",
       "  'sellingPrice': 779.1525})"
      ]
     },
     "execution_count": 49,
     "metadata": {},
     "output_type": "execute_result"
    }
   ],
   "source": [
    "branchManhattan.calcTax()"
   ]
  },
  {
   "cell_type": "code",
   "execution_count": 50,
   "metadata": {},
   "outputs": [],
   "source": [
    "class Brooklyn:\n",
    "    def maintenanceCost(self, productType, quantity):\n",
    "        self.productType = productType\n",
    "        self.quantity = quantity\n",
    "        coldstorageCost = 100\n",
    "        if (productType == 'FMCG'):\n",
    "            maintenanceCost = self.quantity * 0.25 + coldstorageCost    \n",
    "            return maintenanceCost\n",
    "        else:\n",
    "            return \"We don't stock this product\""
   ]
  },
  {
   "cell_type": "code",
   "execution_count": 51,
   "metadata": {},
   "outputs": [],
   "source": [
    "class Queens:\n",
    "    def maintenanceCost(self, productType, quantity):\n",
    "        self.productType = productType\n",
    "        self.quantity = quantity\n",
    "        if (productType == 'Electronics'):\n",
    "            maintenanceCost = self.quantity * 0.05\n",
    "            return maintenanceCost\n",
    "        else:\n",
    "            return \"We don't stock this product\""
   ]
  },
  {
   "cell_type": "code",
   "execution_count": 52,
   "metadata": {},
   "outputs": [],
   "source": [
    "objectBrooklyn = Brooklyn()"
   ]
  },
  {
   "cell_type": "code",
   "execution_count": 53,
   "metadata": {},
   "outputs": [],
   "source": [
    "objectQueens = Queens()"
   ]
  },
  {
   "cell_type": "code",
   "execution_count": 54,
   "metadata": {},
   "outputs": [
    {
     "data": {
      "text/plain": [
       "600.0"
      ]
     },
     "execution_count": 54,
     "metadata": {},
     "output_type": "execute_result"
    }
   ],
   "source": [
    "objectBrooklyn.maintenanceCost('FMCG', 2000)"
   ]
  },
  {
   "cell_type": "code",
   "execution_count": 55,
   "metadata": {},
   "outputs": [
    {
     "data": {
      "text/plain": [
       "100.0"
      ]
     },
     "execution_count": 55,
     "metadata": {},
     "output_type": "execute_result"
    }
   ],
   "source": [
    "objectQueens.maintenanceCost('Electronics', 2000)"
   ]
  },
  {
   "cell_type": "markdown",
   "metadata": {},
   "source": [
    "### Multiple Inheritance"
   ]
  },
  {
   "cell_type": "code",
   "execution_count": 56,
   "metadata": {},
   "outputs": [],
   "source": [
    "class Product:\n",
    "    _productID = 100902\n",
    "    _productName = 'Iphone X'\n",
    "    _productCategory = 'Electronics'\n",
    "    _unitPrice = 700\n",
    "    \n",
    "    def getProduct(self):\n",
    "        return self._productID, self._productName, self._productCategory, self._unitPrice\n",
    "\n",
    "class Branch:\n",
    "    _branchID = 2021\n",
    "    _branchStreet = '40097 5th Main Street'\n",
    "    _branchBorough = 'Manhattan'\n",
    "    _branchCity = 'New York City'\n",
    "    _branchState = 'New York'\n",
    "    _branchZip = 11007\n",
    "    \n",
    "    def getBranch(self):\n",
    "        return self._branchID, self._branchStreet, self._branchBorough, self._branchCity, self._branchState, self._branchZip\n",
    "    \n",
    "class Sales(Product, Branch):\n",
    "    date = '08/02/2021'\n",
    "    def getSales(self):\n",
    "        return self.date, Product.getProduct(self), Branch.getBranch(self)\n"
   ]
  },
  {
   "cell_type": "code",
   "execution_count": 57,
   "metadata": {},
   "outputs": [],
   "source": [
    "sales = Sales()"
   ]
  },
  {
   "cell_type": "code",
   "execution_count": 58,
   "metadata": {},
   "outputs": [
    {
     "data": {
      "text/plain": [
       "('08/02/2021',\n",
       " (100902, 'Iphone X', 'Electronics', 700),\n",
       " (2021,\n",
       "  '40097 5th Main Street',\n",
       "  'Manhattan',\n",
       "  'New York City',\n",
       "  'New York',\n",
       "  11007))"
      ]
     },
     "execution_count": 58,
     "metadata": {},
     "output_type": "execute_result"
    }
   ],
   "source": [
    "sales.getSales()"
   ]
  },
  {
   "cell_type": "markdown",
   "metadata": {},
   "source": [
    "### Abstraction"
   ]
  },
  {
   "cell_type": "code",
   "execution_count": 59,
   "metadata": {},
   "outputs": [],
   "source": [
    "class Branch(): \n",
    "    def maintenanceCost(self): \n",
    "        pass\n",
    "    \n",
    "class Brooklyn(Branch): \n",
    "    def maintenanceCost(self, productType, quantity):\n",
    "        self.productType = productType\n",
    "        self.quantity = quantity\n",
    "        coldstorageCost = 100\n",
    "        if (productType == 'FMCG'):\n",
    "            maintenanceCost = self.quantity * 0.25 + coldstorageCost    \n",
    "            return maintenanceCost\n",
    "        else:\n",
    "            return \"We don't stock this product\"\n",
    "        \n",
    "class Queens(Branch):\n",
    "    def maintenanceCost(self, productType, quantity):\n",
    "        self.productType = productType\n",
    "        self.quantity = quantity\n",
    "        if (productType == 'Electronics'):\n",
    "            maintenanceCost = self.quantity * 0.05\n",
    "            return maintenanceCost\n",
    "        else:\n",
    "            return \"We don't stock this product\""
   ]
  },
  {
   "cell_type": "code",
   "execution_count": 60,
   "metadata": {},
   "outputs": [],
   "source": [
    "branch = Branch()\n",
    "branch.maintenanceCost()"
   ]
  },
  {
   "cell_type": "code",
   "execution_count": 61,
   "metadata": {},
   "outputs": [],
   "source": [
    "from abc import ABC,abstractmethod \n",
    "  \n",
    "class Branch(ABC): \n",
    "    @abstractmethod\n",
    "    def maintenanceCost(self): \n",
    "        pass\n",
    "    \n",
    "class Brooklyn(Branch): \n",
    "    def maintenanceCost(self, productType, quantity):\n",
    "        self.productType = productType\n",
    "        self.quantity = quantity\n",
    "        coldstorageCost = 100\n",
    "        if (productType == 'FMCG'):\n",
    "            maintenanceCost = self.quantity * 0.25 + coldstorageCost    \n",
    "            return maintenanceCost\n",
    "        else:\n",
    "            return \"We don't stock this product\"\n",
    "        \n",
    "class Queens(Branch):\n",
    "    def maintenanceCost(self, productType, quantity):\n",
    "        self.productType = productType\n",
    "        self.quantity = quantity\n",
    "        if (productType == 'Electronics'):\n",
    "            maintenanceCost = self.quantity * 0.05\n",
    "            return maintenanceCost\n",
    "        else:\n",
    "            return \"We don't stock this product\""
   ]
  },
  {
   "cell_type": "code",
   "execution_count": 62,
   "metadata": {},
   "outputs": [
    {
     "ename": "TypeError",
     "evalue": "Can't instantiate abstract class Branch with abstract methods maintenanceCost",
     "output_type": "error",
     "traceback": [
      "\u001b[1;31m---------------------------------------------------------------------------\u001b[0m",
      "\u001b[1;31mTypeError\u001b[0m                                 Traceback (most recent call last)",
      "\u001b[1;32m<ipython-input-62-e23880b57df1>\u001b[0m in \u001b[0;36m<module>\u001b[1;34m\u001b[0m\n\u001b[1;32m----> 1\u001b[1;33m \u001b[0mbranch\u001b[0m \u001b[1;33m=\u001b[0m \u001b[0mBranch\u001b[0m\u001b[1;33m(\u001b[0m\u001b[1;33m)\u001b[0m\u001b[1;33m\u001b[0m\u001b[1;33m\u001b[0m\u001b[0m\n\u001b[0m",
      "\u001b[1;31mTypeError\u001b[0m: Can't instantiate abstract class Branch with abstract methods maintenanceCost"
     ]
    }
   ],
   "source": [
    "branch = Branch()"
   ]
  },
  {
   "cell_type": "code",
   "execution_count": 63,
   "metadata": {},
   "outputs": [
    {
     "data": {
      "text/plain": [
       "1350.0"
      ]
     },
     "execution_count": 63,
     "metadata": {},
     "output_type": "execute_result"
    }
   ],
   "source": [
    "branchBrooklyn = Brooklyn()\n",
    "branchBrooklyn.maintenanceCost('FMCG', 5000)"
   ]
  },
  {
   "cell_type": "code",
   "execution_count": 64,
   "metadata": {},
   "outputs": [
    {
     "data": {
      "text/plain": [
       "250.0"
      ]
     },
     "execution_count": 64,
     "metadata": {},
     "output_type": "execute_result"
    }
   ],
   "source": [
    "branchQueens = Queens()\n",
    "branchQueens.maintenanceCost('Electronics', 5000)"
   ]
  },
  {
   "cell_type": "markdown",
   "metadata": {},
   "source": [
    "### Encapsulation"
   ]
  },
  {
   "cell_type": "code",
   "execution_count": 65,
   "metadata": {},
   "outputs": [],
   "source": [
    "class Branch():\n",
    "    branchID = 2021\n",
    "    regionalManager = 'John M'\n",
    "    branchManager = 'Tom H'\n",
    "    __productId = None\n",
    "    __productName = None\n",
    "    __productBrand = None\n",
    "    __purchasePrice = None\n",
    "    __profitMargin = None\n",
    "    \n",
    "    def __displayProductDetails(self):\n",
    "        self.__productId = 100002\n",
    "        self.__productName = 'Washing Machine'\n",
    "        self.__productBrand = 'Whirlpool'\n",
    "        self.__purchasePrice = 450\n",
    "        self.__profitMargin = 0.19\n",
    "        print('Product ID: ' + str(self.__productId) + ', Product Name: ' + self.__productName +\n",
    "              ', Product Brand: ' + self.__productBrand + ', Purchase Price: ' + str(self.__purchasePrice)\n",
    "              + ', Profit Margin: ' +  str(self.__profitMargin))\n",
    "    \n",
    "    def __init__(self):\n",
    "        self.__displayProductDetails()"
   ]
  },
  {
   "cell_type": "code",
   "execution_count": 66,
   "metadata": {},
   "outputs": [
    {
     "name": "stdout",
     "output_type": "stream",
     "text": [
      "Product ID: 100002, Product Name: Washing Machine, Product Brand: Whirlpool, Purchase Price: 450, Profit Margin: 0.19\n"
     ]
    }
   ],
   "source": [
    "branch = Branch()"
   ]
  },
  {
   "cell_type": "code",
   "execution_count": 67,
   "metadata": {},
   "outputs": [
    {
     "data": {
      "text/plain": [
       "2021"
      ]
     },
     "execution_count": 67,
     "metadata": {},
     "output_type": "execute_result"
    }
   ],
   "source": [
    "branch.branchID"
   ]
  },
  {
   "cell_type": "code",
   "execution_count": 68,
   "metadata": {},
   "outputs": [
    {
     "ename": "AttributeError",
     "evalue": "'Branch' object has no attribute '__profitMargin'",
     "output_type": "error",
     "traceback": [
      "\u001b[1;31m---------------------------------------------------------------------------\u001b[0m",
      "\u001b[1;31mAttributeError\u001b[0m                            Traceback (most recent call last)",
      "\u001b[1;32m<ipython-input-68-23ab3c57152f>\u001b[0m in \u001b[0;36m<module>\u001b[1;34m\u001b[0m\n\u001b[1;32m----> 1\u001b[1;33m \u001b[0mbranch\u001b[0m\u001b[1;33m.\u001b[0m\u001b[0m__profitMargin\u001b[0m\u001b[1;33m\u001b[0m\u001b[1;33m\u001b[0m\u001b[0m\n\u001b[0m",
      "\u001b[1;31mAttributeError\u001b[0m: 'Branch' object has no attribute '__profitMargin'"
     ]
    }
   ],
   "source": [
    "branch.__profitMargin"
   ]
  },
  {
   "cell_type": "code",
   "execution_count": 69,
   "metadata": {},
   "outputs": [
    {
     "ename": "AttributeError",
     "evalue": "'Branch' object has no attribute '__displayProductDetails'",
     "output_type": "error",
     "traceback": [
      "\u001b[1;31m---------------------------------------------------------------------------\u001b[0m",
      "\u001b[1;31mAttributeError\u001b[0m                            Traceback (most recent call last)",
      "\u001b[1;32m<ipython-input-69-c62854f9e17a>\u001b[0m in \u001b[0;36m<module>\u001b[1;34m\u001b[0m\n\u001b[1;32m----> 1\u001b[1;33m \u001b[0mbranch\u001b[0m\u001b[1;33m.\u001b[0m\u001b[0m__displayProductDetails\u001b[0m\u001b[1;33m(\u001b[0m\u001b[1;33m)\u001b[0m\u001b[1;33m\u001b[0m\u001b[1;33m\u001b[0m\u001b[0m\n\u001b[0m",
      "\u001b[1;31mAttributeError\u001b[0m: 'Branch' object has no attribute '__displayProductDetails'"
     ]
    }
   ],
   "source": [
    "branch.__displayProductDetails()"
   ]
  },
  {
   "cell_type": "code",
   "execution_count": 70,
   "metadata": {},
   "outputs": [],
   "source": [
    "class Branch():\n",
    "    branchID = 2022\n",
    "    regionalManager = 'Ron D'\n",
    "    __branchManager = 'Sam J'\n",
    "    _productId = None\n",
    "    _productName = None\n",
    "    _productBrand = None\n",
    "    _purchasePrice = None\n",
    "    _profitMargin = None\n",
    "    \n",
    "    def _displayProductDetails(self):\n",
    "        self._productId = 100003\n",
    "        self._productName = 'Washing Machine'\n",
    "        self._productBrand = 'Samsung'\n",
    "        self._purchasePrice = 430\n",
    "        self._profitMargin = 0.18\n",
    "        print('Product ID: ' + str(self._productId) + ', Product Name: ' + self._productName +\n",
    "              ', Product Brand: ' + self._productBrand + ', Purchase Price: ' + str(self._purchasePrice)\n",
    "              + ', Profit Margin: ' +  str(self._profitMargin))\n",
    "    \n",
    "    def __init__(self):\n",
    "        self._displayProductDetails()"
   ]
  },
  {
   "cell_type": "code",
   "execution_count": 71,
   "metadata": {},
   "outputs": [
    {
     "name": "stdout",
     "output_type": "stream",
     "text": [
      "Product ID: 100003, Product Name: Washing Machine, Product Brand: Samsung, Purchase Price: 430, Profit Margin: 0.18\n"
     ]
    }
   ],
   "source": [
    "branch = Branch()"
   ]
  },
  {
   "cell_type": "code",
   "execution_count": 72,
   "metadata": {},
   "outputs": [],
   "source": [
    "class Brooklyn(Branch):\n",
    "    def __init__(self):\n",
    "        print(self._productId)\n",
    "        self._displayProductDetails()"
   ]
  },
  {
   "cell_type": "code",
   "execution_count": 73,
   "metadata": {},
   "outputs": [
    {
     "name": "stdout",
     "output_type": "stream",
     "text": [
      "None\n",
      "Product ID: 100003, Product Name: Washing Machine, Product Brand: Samsung, Purchase Price: 430, Profit Margin: 0.18\n"
     ]
    }
   ],
   "source": [
    "branchBrooklyn = Brooklyn()"
   ]
  },
  {
   "cell_type": "code",
   "execution_count": 74,
   "metadata": {},
   "outputs": [],
   "source": [
    "class Brooklyn(Branch):\n",
    "    def __init__(self):\n",
    "        print(self._productId)\n",
    "        self._displayProductDetails()\n",
    "        print(self.__branchManager)"
   ]
  },
  {
   "cell_type": "code",
   "execution_count": 75,
   "metadata": {},
   "outputs": [
    {
     "name": "stdout",
     "output_type": "stream",
     "text": [
      "None\n",
      "Product ID: 100003, Product Name: Washing Machine, Product Brand: Samsung, Purchase Price: 430, Profit Margin: 0.18\n"
     ]
    },
    {
     "ename": "AttributeError",
     "evalue": "'Brooklyn' object has no attribute '_Brooklyn__branchManager'",
     "output_type": "error",
     "traceback": [
      "\u001b[1;31m---------------------------------------------------------------------------\u001b[0m",
      "\u001b[1;31mAttributeError\u001b[0m                            Traceback (most recent call last)",
      "\u001b[1;32m<ipython-input-75-7c2f2e3d9a82>\u001b[0m in \u001b[0;36m<module>\u001b[1;34m\u001b[0m\n\u001b[1;32m----> 1\u001b[1;33m \u001b[0mbranchBrooklyn\u001b[0m \u001b[1;33m=\u001b[0m \u001b[0mBrooklyn\u001b[0m\u001b[1;33m(\u001b[0m\u001b[1;33m)\u001b[0m\u001b[1;33m\u001b[0m\u001b[1;33m\u001b[0m\u001b[0m\n\u001b[0m",
      "\u001b[1;32m<ipython-input-74-a795a9221f51>\u001b[0m in \u001b[0;36m__init__\u001b[1;34m(self)\u001b[0m\n\u001b[0;32m      3\u001b[0m         \u001b[0mprint\u001b[0m\u001b[1;33m(\u001b[0m\u001b[0mself\u001b[0m\u001b[1;33m.\u001b[0m\u001b[0m_productId\u001b[0m\u001b[1;33m)\u001b[0m\u001b[1;33m\u001b[0m\u001b[1;33m\u001b[0m\u001b[0m\n\u001b[0;32m      4\u001b[0m         \u001b[0mself\u001b[0m\u001b[1;33m.\u001b[0m\u001b[0m_displayProductDetails\u001b[0m\u001b[1;33m(\u001b[0m\u001b[1;33m)\u001b[0m\u001b[1;33m\u001b[0m\u001b[1;33m\u001b[0m\u001b[0m\n\u001b[1;32m----> 5\u001b[1;33m         \u001b[0mprint\u001b[0m\u001b[1;33m(\u001b[0m\u001b[0mself\u001b[0m\u001b[1;33m.\u001b[0m\u001b[0m__branchManager\u001b[0m\u001b[1;33m)\u001b[0m\u001b[1;33m\u001b[0m\u001b[1;33m\u001b[0m\u001b[0m\n\u001b[0m",
      "\u001b[1;31mAttributeError\u001b[0m: 'Brooklyn' object has no attribute '_Brooklyn__branchManager'"
     ]
    }
   ],
   "source": [
    "branchBrooklyn = Brooklyn()"
   ]
  },
  {
   "cell_type": "markdown",
   "metadata": {},
   "source": [
    "### These are all the examples covered  in this chapter."
   ]
  },
  {
   "cell_type": "code",
   "execution_count": null,
   "metadata": {},
   "outputs": [],
   "source": []
  }
 ],
 "metadata": {
  "kernelspec": {
   "display_name": "Python 3",
   "language": "python",
   "name": "python3"
  },
  "language_info": {
   "codemirror_mode": {
    "name": "ipython",
    "version": 3
   },
   "file_extension": ".py",
   "mimetype": "text/x-python",
   "name": "python",
   "nbconvert_exporter": "python",
   "pygments_lexer": "ipython3",
   "version": "3.8.5"
  }
 },
 "nbformat": 4,
 "nbformat_minor": 4
}
