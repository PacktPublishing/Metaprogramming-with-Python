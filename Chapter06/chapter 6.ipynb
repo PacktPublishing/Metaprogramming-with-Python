{
 "cells": [
  {
   "cell_type": "markdown",
   "id": "da6950be",
   "metadata": {},
   "source": [
    "## Usage of id to delete duplicates"
   ]
  },
  {
   "cell_type": "code",
   "execution_count": null,
   "id": "eedfa3f2",
   "metadata": {},
   "outputs": [],
   "source": [
    "class Coupon:\n",
    "    def __init__(self,product_name,product_category,brand,source,expiry_date,quantity):\n",
    "        self.product_name = product_name\n",
    "        self.product_category = product_category\n",
    "        self.brand = brand\n",
    "        self.source = source\n",
    "        self.expiry_date = expiry_date\n",
    "        self.quantity = quantity\n",
    "        \n",
    "    def generate_coupon(self):\n",
    "        import random\n",
    "        couponId =  random.sample(range(1,9),5)\n",
    "        for i in couponId:\n",
    "            print('***********------------------**************')\n",
    "            print('Product:', self.product_name)\n",
    "            print('Product Category:', self.product_category)\n",
    "            print('Coupon ID:', i)\n",
    "            print('Brand:', self.brand)\n",
    "            print('Source:', self.source)\n",
    "            print('Expiry Date:', self.expiry_date)\n",
    "            print('Quantity:', self.quantity)\n",
    "            print('***********------------------**************')\n",
    "        "
   ]
  },
  {
   "cell_type": "code",
   "execution_count": null,
   "id": "0b1570bf",
   "metadata": {},
   "outputs": [],
   "source": [
    "Coupon1 = Coupon"
   ]
  },
  {
   "cell_type": "code",
   "execution_count": null,
   "id": "c2b9cad9",
   "metadata": {},
   "outputs": [],
   "source": [
    "id(Coupon)"
   ]
  },
  {
   "cell_type": "code",
   "execution_count": null,
   "id": "50068646",
   "metadata": {},
   "outputs": [],
   "source": [
    "id(Coupon1)"
   ]
  },
  {
   "cell_type": "code",
   "execution_count": null,
   "id": "af3a1b97",
   "metadata": {},
   "outputs": [],
   "source": [
    "Coupon(\"Potato Chips\",\"Snacks\",\"ABCBrand1\",\"Manhattan Store\",\"10/1/2021\",2).generate_coupon()"
   ]
  },
  {
   "cell_type": "code",
   "execution_count": null,
   "id": "89f85ccc",
   "metadata": {},
   "outputs": [],
   "source": [
    "Coupon1(\"Potato Chips\",\"Snacks\",\"ABCBrand1\",\"Manhattan Store\",\"10/1/2021\",2).generate_coupon()"
   ]
  },
  {
   "cell_type": "code",
   "execution_count": null,
   "id": "f812de4c",
   "metadata": {},
   "outputs": [],
   "source": [
    "def delete_duplicates(directory = dir()):\n",
    "    class_id_count = {}\n",
    "    duplicates = []\n",
    "    ids = []\n",
    "    classes = []\n",
    "    classnames = []\n",
    "    for obj in directory:\n",
    "        if type(eval(obj)) == type:\n",
    "            ids.append(id(eval(obj)))\n",
    "            classes.append(eval(obj))\n",
    "            classnames.append(obj)\n",
    "\n",
    "    for i in ids:\n",
    "        if i not in class_id_count:\n",
    "            class_id_count[i] = 1\n",
    "        elif (class_id_count[i] == 1):\n",
    "            duplicates.append(i)\n",
    "            class_id_count[i] += 1\n",
    "\n",
    "    dupe_set = {}\n",
    "    for cls,clsname in zip(classes,classnames):\n",
    "        for clsid in duplicates:\n",
    "            if (id(cls)==clsid):\n",
    "                print(clsname,cls)\n",
    "                dupe_set[clsname] = str(cls).split('.')[1].rstrip(\"'>'\")\n",
    "\n",
    "    for key,value in dupe_set.items():\n",
    "        if (key!=value):\n",
    "            del globals()[key]"
   ]
  },
  {
   "cell_type": "code",
   "execution_count": null,
   "id": "47ec1645",
   "metadata": {},
   "outputs": [],
   "source": [
    "delete_duplicates(directory = dir())"
   ]
  },
  {
   "cell_type": "code",
   "execution_count": null,
   "id": "c0e0251f",
   "metadata": {},
   "outputs": [],
   "source": [
    "Coupon"
   ]
  },
  {
   "cell_type": "code",
   "execution_count": null,
   "id": "4f7f9f15",
   "metadata": {},
   "outputs": [],
   "source": [
    "Coupon1"
   ]
  },
  {
   "cell_type": "markdown",
   "id": "9a2c8e1b",
   "metadata": {},
   "source": [
    "## Use callable to dynamically check and generate methods"
   ]
  },
  {
   "cell_type": "code",
   "execution_count": null,
   "id": "69f6aa4e",
   "metadata": {},
   "outputs": [],
   "source": [
    "class SimpleCoupon:\n",
    "    pass"
   ]
  },
  {
   "cell_type": "code",
   "execution_count": null,
   "id": "c03b1004",
   "metadata": {},
   "outputs": [],
   "source": [
    "callable(SimpleCoupon)"
   ]
  },
  {
   "cell_type": "code",
   "execution_count": null,
   "id": "5e177d5f",
   "metadata": {},
   "outputs": [],
   "source": [
    "def create_coupon(product, product_category, brand, source, expiry_date, quantity):\n",
    "\n",
    "    def generate_coupon(product, product_category, brand, source, expiry_date, quantity):\n",
    "        import random\n",
    "        couponId =  random.sample(range(100000000000,900000000000),3)\n",
    "        for i in couponId:\n",
    "            print('***********------------------**************')\n",
    "            print('Product:', product)\n",
    "            print('Product Category:', product_category)\n",
    "            print('Coupon ID:', i)\n",
    "            print('Brand:', brand)\n",
    "            print('Source:', source)\n",
    "            print('Expiry Date:', expiry_date)\n",
    "            print('Quantity:', quantity)\n",
    "            print('***********------------------**************')\n",
    "\n",
    "    return generate_coupon"
   ]
  },
  {
   "cell_type": "code",
   "execution_count": null,
   "id": "181437e4",
   "metadata": {},
   "outputs": [],
   "source": [
    "if callable(SimpleCoupon):\n",
    "    SimpleCoupon.coupon_details = {\"product\": \"Honey Mustard Sauce\",\n",
    "                                   \"product_category\": \"Condiments\",\n",
    "                                   \"brand\": \"ABCBrand3\",\n",
    "                                   \"source\": \"Pasadena Store\",\n",
    "                                   \"expiry_date\": \"10/1/2021\",\n",
    "                                   \"quantity\": 2}"
   ]
  },
  {
   "cell_type": "code",
   "execution_count": null,
   "id": "33a13414",
   "metadata": {},
   "outputs": [],
   "source": [
    "if callable(SimpleCoupon):\n",
    "    SimpleCoupon.generate_coupon = create_coupon(SimpleCoupon.coupon_details['product'], SimpleCoupon.coupon_details['product_category'],\n",
    "                                                SimpleCoupon.coupon_details['brand'], SimpleCoupon.coupon_details['source'],\n",
    "                                                SimpleCoupon.coupon_details['expiry_date'], SimpleCoupon.coupon_details['quantity'])"
   ]
  },
  {
   "cell_type": "code",
   "execution_count": null,
   "id": "9598a5bf",
   "metadata": {},
   "outputs": [],
   "source": [
    "SimpleCoupon.generate_coupon(SimpleCoupon.coupon_details['product'],SimpleCoupon.coupon_details['product_category'],\n",
    "                             SimpleCoupon.coupon_details['brand'],SimpleCoupon.coupon_details['source'],\n",
    "                             SimpleCoupon.coupon_details['expiry_date'],SimpleCoupon.coupon_details['quantity'])"
   ]
  },
  {
   "cell_type": "markdown",
   "id": "c2c769b3",
   "metadata": {},
   "source": [
    "## Use Hasattr to set values"
   ]
  },
  {
   "cell_type": "code",
   "execution_count": 48,
   "id": "471d59c4",
   "metadata": {},
   "outputs": [],
   "source": [
    "class CustomCoupon:\n",
    "    product_name = \"Honey Mustard Sauce\"\n",
    "    product_category = \"Condiments\"\n",
    "    brand = \"ABCBrand3\"\n",
    "    source = \"Store\"\n",
    "    expiry_date = \"10/1/2021\"\n",
    "    quantity = 10\n",
    "    manufacturer = None\n",
    "    store = None\n",
    "    \n",
    "    def generate_coupon(self):\n",
    "        import random\n",
    "        couponId =  random.sample(range(100000000000,900000000000),1)\n",
    "        for i in couponId:\n",
    "            print('***********------------------**************')\n",
    "            print('Product:', self.product_name)\n",
    "            print('Product Category:', self.product_category)\n",
    "            print('Coupon ID:', i)\n",
    "            print('Brand:', self.brand)\n",
    "            print('Source:', self.source)\n",
    "            print('Expiry Date:', self.expiry_date)\n",
    "            print('Quantity:', self.quantity)\n",
    "            if(self.manufacturer is not None):\n",
    "                print('Manufacturer:', self.manufacturer)\n",
    "            elif(self.store is not None):\n",
    "                print('Store:', self.store)\n",
    "            print('***********------------------**************')"
   ]
  },
  {
   "cell_type": "code",
   "execution_count": 49,
   "id": "4ae5c8cd",
   "metadata": {},
   "outputs": [],
   "source": [
    "coupon = CustomCoupon()"
   ]
  },
  {
   "cell_type": "code",
   "execution_count": 50,
   "id": "848d3b2a",
   "metadata": {},
   "outputs": [
    {
     "name": "stdout",
     "output_type": "stream",
     "text": [
      "Store\n"
     ]
    }
   ],
   "source": [
    "if hasattr(coupon,'source'):\n",
    "    print(getattr(coupon,'source'))"
   ]
  },
  {
   "cell_type": "code",
   "execution_count": 51,
   "id": "74e5dad2",
   "metadata": {},
   "outputs": [
    {
     "name": "stdout",
     "output_type": "stream",
     "text": [
      "***********------------------**************\n",
      "Product: Honey Mustard Sauce\n",
      "Product Category: Condiments\n",
      "Coupon ID: 413614906730\n",
      "Brand: ABCBrand3\n",
      "Source: Store\n",
      "Expiry Date: 10/1/2021\n",
      "Quantity: 10\n",
      "***********------------------**************\n"
     ]
    }
   ],
   "source": [
    "coupon.generate_coupon()"
   ]
  },
  {
   "cell_type": "code",
   "execution_count": 52,
   "id": "40b86bff",
   "metadata": {},
   "outputs": [],
   "source": [
    "def check_attribute(couponobj,store,manufacturer):\n",
    "    if hasattr(couponobj,'source'):\n",
    "        if(str(getattr(couponobj,'source')) == 'Store'):\n",
    "            setattr(couponobj,'store',store)\n",
    "        else:\n",
    "            setattr(couponobj,'store', None)\n",
    "        if(str(getattr(couponobj,'source')) == 'Manufacturer'):\n",
    "            setattr(couponobj,'manufacturer',manufacturer)\n",
    "        else:\n",
    "            setattr(couponobj,'manufacturer', None)       "
   ]
  },
  {
   "cell_type": "code",
   "execution_count": 53,
   "id": "3e8c1224",
   "metadata": {},
   "outputs": [
    {
     "data": {
      "text/plain": [
       "'Store'"
      ]
     },
     "execution_count": 53,
     "metadata": {},
     "output_type": "execute_result"
    }
   ],
   "source": [
    "coupon.source"
   ]
  },
  {
   "cell_type": "code",
   "execution_count": 54,
   "id": "fbe18b72",
   "metadata": {},
   "outputs": [],
   "source": [
    "check_attribute(coupon,\"Brooklyn Store\", \"XYZ Manufacturer\")"
   ]
  },
  {
   "cell_type": "code",
   "execution_count": 55,
   "id": "3ce9cf92",
   "metadata": {},
   "outputs": [
    {
     "name": "stdout",
     "output_type": "stream",
     "text": [
      "***********------------------**************\n",
      "Product: Honey Mustard Sauce\n",
      "Product Category: Condiments\n",
      "Coupon ID: 767071465435\n",
      "Brand: ABCBrand3\n",
      "Source: Store\n",
      "Expiry Date: 10/1/2021\n",
      "Quantity: 10\n",
      "Store: Brooklyn Store\n",
      "***********------------------**************\n"
     ]
    }
   ],
   "source": [
    "coupon.generate_coupon()"
   ]
  },
  {
   "cell_type": "code",
   "execution_count": 56,
   "id": "fee9f222",
   "metadata": {},
   "outputs": [],
   "source": [
    "coupon.source = 'Manufacturer'\n",
    "check_attribute(coupon,\"Brooklyn Store\", \"XYZ Manufacturer\")"
   ]
  },
  {
   "cell_type": "code",
   "execution_count": 57,
   "id": "5feee638",
   "metadata": {},
   "outputs": [
    {
     "data": {
      "text/plain": [
       "'XYZ Manufacturer'"
      ]
     },
     "execution_count": 57,
     "metadata": {},
     "output_type": "execute_result"
    }
   ],
   "source": [
    "coupon.manufacturer"
   ]
  },
  {
   "cell_type": "code",
   "execution_count": 58,
   "id": "978a0eca",
   "metadata": {},
   "outputs": [],
   "source": [
    "coupon.store"
   ]
  },
  {
   "cell_type": "code",
   "execution_count": 59,
   "id": "b3f0d838",
   "metadata": {},
   "outputs": [
    {
     "name": "stdout",
     "output_type": "stream",
     "text": [
      "***********------------------**************\n",
      "Product: Honey Mustard Sauce\n",
      "Product Category: Condiments\n",
      "Coupon ID: 278622669953\n",
      "Brand: ABCBrand3\n",
      "Source: Manufacturer\n",
      "Expiry Date: 10/1/2021\n",
      "Quantity: 10\n",
      "Manufacturer: XYZ Manufacturer\n",
      "***********------------------**************\n"
     ]
    }
   ],
   "source": [
    "coupon.generate_coupon()"
   ]
  },
  {
   "cell_type": "code",
   "execution_count": 45,
   "id": "8159ad94",
   "metadata": {},
   "outputs": [],
   "source": [
    "coupon.source = 'Store'\n",
    "check_attribute(coupon,\"Malibu Store\", \"XYZ Manufacturer\")"
   ]
  },
  {
   "cell_type": "code",
   "execution_count": 46,
   "id": "fd45aa72",
   "metadata": {},
   "outputs": [
    {
     "name": "stdout",
     "output_type": "stream",
     "text": [
      "***********------------------**************\n",
      "Product: Honey Mustard Sauce\n",
      "Product Category: Condiments\n",
      "Coupon ID: 318857158139\n",
      "Brand: ABCBrand3\n",
      "Source: Store\n",
      "Expiry Date: 10/1/2021\n",
      "Quantity: 10\n",
      "Store: Malibu Store\n",
      "***********------------------**************\n"
     ]
    }
   ],
   "source": [
    "coupon.generate_coupon()"
   ]
  },
  {
   "cell_type": "markdown",
   "id": "c2433ea4",
   "metadata": {},
   "source": [
    "## Use isinstance to modify an object"
   ]
  },
  {
   "cell_type": "code",
   "execution_count": 60,
   "id": "9f210685",
   "metadata": {},
   "outputs": [],
   "source": [
    "coupon1 = CustomCoupon()"
   ]
  },
  {
   "cell_type": "code",
   "execution_count": 61,
   "id": "24c3d90d",
   "metadata": {},
   "outputs": [],
   "source": [
    "class SimpleCoupon:\n",
    "    product_name = \"Strawberry Ice Cream\"\n",
    "    product_category = \"Desserts\"\n",
    "    brand = \"ABCBrand3\"\n",
    "    store = \"Los Angeles Store\"\n",
    "    expiry_date = \"10/1/2021\"\n",
    "    quantity = 10"
   ]
  },
  {
   "cell_type": "code",
   "execution_count": 62,
   "id": "916c6409",
   "metadata": {},
   "outputs": [],
   "source": [
    "coupon2 = SimpleCoupon()"
   ]
  },
  {
   "cell_type": "code",
   "execution_count": 63,
   "id": "ee7763bd",
   "metadata": {},
   "outputs": [
    {
     "data": {
      "text/plain": [
       "True"
      ]
     },
     "execution_count": 63,
     "metadata": {},
     "output_type": "execute_result"
    }
   ],
   "source": [
    "isinstance(coupon1,CustomCoupon)"
   ]
  },
  {
   "cell_type": "code",
   "execution_count": 64,
   "id": "f58d074a",
   "metadata": {},
   "outputs": [
    {
     "data": {
      "text/plain": [
       "True"
      ]
     },
     "execution_count": 64,
     "metadata": {},
     "output_type": "execute_result"
    }
   ],
   "source": [
    "isinstance(coupon2,SimpleCoupon)"
   ]
  },
  {
   "cell_type": "code",
   "execution_count": 65,
   "id": "794ed5e2",
   "metadata": {},
   "outputs": [],
   "source": [
    "def check_instance(couponobject,couponclass,store,manufacturer):\n",
    "    if isinstance(couponobject,couponclass):\n",
    "        if hasattr(couponobject,'source'):\n",
    "            if(str(getattr(couponobject,'source')) == 'Store'):\n",
    "                setattr(couponobject,'store',store)\n",
    "            else:\n",
    "                setattr(couponobject,'store',None)\n",
    "            if(str(getattr(couponobject,'source')) == 'Manufacturer'):\n",
    "                setattr(couponobject,'manufacturer',manufacturer)\n",
    "            else:\n",
    "                setattr(couponobject,'manufacturer',None)\n",
    "    else:\n",
    "        print(couponobject,'cannot be customized')"
   ]
  },
  {
   "cell_type": "code",
   "execution_count": 66,
   "id": "b96940d5",
   "metadata": {},
   "outputs": [],
   "source": [
    "check_instance(coupon1,CustomCoupon,'Malibu Beach Store','XYZ Manufacturer')"
   ]
  },
  {
   "cell_type": "code",
   "execution_count": 67,
   "id": "74a69f77",
   "metadata": {},
   "outputs": [
    {
     "data": {
      "text/plain": [
       "'Malibu Beach Store'"
      ]
     },
     "execution_count": 67,
     "metadata": {},
     "output_type": "execute_result"
    }
   ],
   "source": [
    "coupon1.store"
   ]
  },
  {
   "cell_type": "code",
   "execution_count": 68,
   "id": "4904d678",
   "metadata": {},
   "outputs": [
    {
     "name": "stdout",
     "output_type": "stream",
     "text": [
      "***********------------------**************\n",
      "Product: Honey Mustard Sauce\n",
      "Product Category: Condiments\n",
      "Coupon ID: 407222328157\n",
      "Brand: ABCBrand3\n",
      "Source: Store\n",
      "Expiry Date: 10/1/2021\n",
      "Quantity: 10\n",
      "Store: Malibu Beach Store\n",
      "***********------------------**************\n"
     ]
    }
   ],
   "source": [
    "coupon1.generate_coupon()"
   ]
  },
  {
   "cell_type": "code",
   "execution_count": 69,
   "id": "e9746872",
   "metadata": {},
   "outputs": [
    {
     "name": "stdout",
     "output_type": "stream",
     "text": [
      "<__main__.SimpleCoupon object at 0x000001E58D78E220> cannot be customized\n"
     ]
    }
   ],
   "source": [
    "check_instance(coupon2,CustomCoupon,'Malibu Beach Store','XYZ Manufacturer')"
   ]
  },
  {
   "cell_type": "markdown",
   "id": "470a5d5e",
   "metadata": {},
   "source": [
    "## Use issubclass to modify a class"
   ]
  },
  {
   "cell_type": "code",
   "execution_count": 70,
   "id": "8e235506",
   "metadata": {},
   "outputs": [],
   "source": [
    "class StoreCoupon:\n",
    "    product_name = \"Strawberry Ice Cream\"\n",
    "    product_category = \"Desserts\"\n",
    "    brand = \"ABCBrand3\"\n",
    "    store = \"Los Angeles Store\"\n",
    "    expiry_date = \"10/1/2021\"\n",
    "    quantity = 10"
   ]
  },
  {
   "cell_type": "code",
   "execution_count": 71,
   "id": "f284003f",
   "metadata": {},
   "outputs": [],
   "source": [
    "def create_store_coupon(product_name, product_category, brand, store, expiry_date, quantity):\n",
    "\n",
    "    def generate_store_coupon(product_name, product_category, brand, store, expiry_date, quantity):\n",
    "        import random\n",
    "        couponId =  random.sample(range(100000000000,900000000000),1)\n",
    "        for i in couponId:\n",
    "            print('***********------------------**************')\n",
    "            print('Product:', product_name)\n",
    "            print('Product Category:', product_category)\n",
    "            print('Coupon ID:', i)\n",
    "            print('Brand:', brand)\n",
    "            print('Store:', store)\n",
    "            print('Expiry Date:', expiry_date)\n",
    "            print('Quantity:', quantity)\n",
    "            print('***********------------------**************')\n",
    "\n",
    "    return generate_store_coupon"
   ]
  },
  {
   "cell_type": "code",
   "execution_count": 72,
   "id": "eafcfc87",
   "metadata": {},
   "outputs": [],
   "source": [
    "class ManufacturerCoupon:\n",
    "    product_name = \"Strawberry Ice Cream\"\n",
    "    product_category = \"Desserts\"\n",
    "    brand = \"ABCBrand3\"\n",
    "    manufacturer = \"ABC Manufacturer\"\n",
    "    expiry_date = \"10/1/2021\"\n",
    "    quantity = 10"
   ]
  },
  {
   "cell_type": "code",
   "execution_count": 73,
   "id": "8e04fee4",
   "metadata": {},
   "outputs": [],
   "source": [
    "def create_manufacturer_coupon(product_name, product_category, brand, manufacturer, expiry_date, quantity):\n",
    "\n",
    "    def generate_manufacturer_coupon(product_name, product_category, brand, manufacturer, expiry_date, quantity):\n",
    "        import random\n",
    "        couponId =  random.sample(range(100000000000,900000000000),1)\n",
    "        for i in couponId:\n",
    "            print('***********------------------**************')\n",
    "            print('Product:', product_name)\n",
    "            print('Product Category:', product_category)\n",
    "            print('Coupon ID:', i)\n",
    "            print('Brand:', brand)\n",
    "            print('Manufacturer:', manufacturer)\n",
    "            print('Expiry Date:', expiry_date)\n",
    "            print('Quantity:', quantity)\n",
    "            print('***********------------------**************')\n",
    "\n",
    "    return generate_manufacturer_coupon"
   ]
  },
  {
   "cell_type": "code",
   "execution_count": 74,
   "id": "727f4ab9",
   "metadata": {},
   "outputs": [],
   "source": [
    "class IceCreamCoupon(StoreCoupon):\n",
    "    pass"
   ]
  },
  {
   "cell_type": "code",
   "execution_count": 75,
   "id": "f2f29ec9",
   "metadata": {},
   "outputs": [],
   "source": [
    "def check_parent():\n",
    "    if issubclass(IceCreamCoupon, StoreCoupon):\n",
    "        IceCreamCoupon.generate_store_coupon = create_store_coupon(IceCreamCoupon.product_name, \n",
    "                                                                   IceCreamCoupon.product_category,\n",
    "                                                                   IceCreamCoupon.brand, IceCreamCoupon.store,\n",
    "                                                                   IceCreamCoupon.expiry_date, IceCreamCoupon.quantity)\n",
    "    elif issubclass(IceCreamCoupon, ManufacturerCoupon):\n",
    "        IceCreamCoupon.generate_manufacturer_coupon = create_manufacturer_coupon(IceCreamCoupon.product_name, \n",
    "                                                                                 IceCreamCoupon.product_category,\n",
    "                                                                                 IceCreamCoupon.brand, \n",
    "                                                                                 IceCreamCoupon.manufacturer,\n",
    "                                                                                 IceCreamCoupon.expiry_date, \n",
    "                                                                                 IceCreamCoupon.quantity)"
   ]
  },
  {
   "cell_type": "code",
   "execution_count": 76,
   "id": "dd4e210e",
   "metadata": {},
   "outputs": [],
   "source": [
    "check_parent()"
   ]
  },
  {
   "cell_type": "code",
   "execution_count": 77,
   "id": "a7ae0615",
   "metadata": {},
   "outputs": [
    {
     "name": "stdout",
     "output_type": "stream",
     "text": [
      "***********------------------**************\n",
      "Product: Strawberry Ice Cream\n",
      "Product Category: Desserts\n",
      "Coupon ID: 506822104275\n",
      "Brand: ABCBrand3\n",
      "Store: Los Angeles Store\n",
      "Expiry Date: 10/1/2021\n",
      "Quantity: 10\n",
      "***********------------------**************\n"
     ]
    }
   ],
   "source": [
    "IceCreamCoupon.generate_store_coupon(IceCreamCoupon.product_name, IceCreamCoupon.product_category,\n",
    "                                     IceCreamCoupon.brand,IceCreamCoupon.store,\n",
    "                                     IceCreamCoupon.expiry_date,IceCreamCoupon.quantity)"
   ]
  },
  {
   "cell_type": "code",
   "execution_count": 78,
   "id": "e2fb9813",
   "metadata": {},
   "outputs": [],
   "source": [
    "class IceCreamCoupon(ManufacturerCoupon):\n",
    "    pass\n",
    "    "
   ]
  },
  {
   "cell_type": "code",
   "execution_count": 79,
   "id": "2f1a1a57",
   "metadata": {},
   "outputs": [],
   "source": [
    "check_parent()"
   ]
  },
  {
   "cell_type": "code",
   "execution_count": 80,
   "id": "661176d2",
   "metadata": {},
   "outputs": [
    {
     "name": "stdout",
     "output_type": "stream",
     "text": [
      "***********------------------**************\n",
      "Product: Strawberry Ice Cream\n",
      "Product Category: Desserts\n",
      "Coupon ID: 525473248957\n",
      "Brand: ABCBrand3\n",
      "Manufacturer: ABC Manufacturer\n",
      "Expiry Date: 10/1/2021\n",
      "Quantity: 10\n",
      "***********------------------**************\n"
     ]
    }
   ],
   "source": [
    "IceCreamCoupon.generate_manufacturer_coupon(IceCreamCoupon.product_name,IceCreamCoupon.product_category,\n",
    "                                            IceCreamCoupon.brand,IceCreamCoupon.manufacturer,\n",
    "                                            IceCreamCoupon.expiry_date,IceCreamCoupon.quantity)"
   ]
  },
  {
   "cell_type": "markdown",
   "id": "49a6ba1b",
   "metadata": {},
   "source": [
    "## Applying property on a class"
   ]
  },
  {
   "cell_type": "code",
   "execution_count": 81,
   "id": "b839221f",
   "metadata": {},
   "outputs": [],
   "source": [
    "class CouponwithProperty:\n",
    "    def __init__(self):\n",
    "        self._coupon_details = None\n",
    "    \n",
    "    @property\n",
    "    def coupon_details(self):\n",
    "        return self.coupon_details\n",
    "    \n",
    "    @coupon_details.getter\n",
    "    def coupon_details(self):\n",
    "        print(\"get coupon_details\")\n",
    "        return self._coupon_details\n",
    "\n",
    "    @coupon_details.setter\n",
    "    def coupon_details(self, coupon):\n",
    "        print(\"set coupon_details\")\n",
    "        self._coupon_details = coupon\n",
    "\n",
    "    @coupon_details.deleter\n",
    "    def coupon_details(self):\n",
    "        print(\"Sorry this attribute cannot be deleted\")        "
   ]
  },
  {
   "cell_type": "code",
   "execution_count": 82,
   "id": "703fde98",
   "metadata": {},
   "outputs": [],
   "source": [
    "fmcgCoupon = CouponwithProperty()"
   ]
  },
  {
   "cell_type": "code",
   "execution_count": 83,
   "id": "ee34a396",
   "metadata": {},
   "outputs": [
    {
     "name": "stdout",
     "output_type": "stream",
     "text": [
      "get coupon_details\n"
     ]
    }
   ],
   "source": [
    "fmcgCoupon.coupon_details"
   ]
  },
  {
   "cell_type": "code",
   "execution_count": 84,
   "id": "70d2eb4d",
   "metadata": {},
   "outputs": [
    {
     "name": "stdout",
     "output_type": "stream",
     "text": [
      "set coupon_details\n"
     ]
    }
   ],
   "source": [
    "fmcgCoupon.coupon_details = {\n",
    "        'Product': 'Strawberry Ice Cream',\n",
    "        'Product Category': 'Desserts',\n",
    "        'Coupon ID': 190537749828,\n",
    "        'Brand': 'ABCBrand3',\n",
    "        'Manufacturer': 'ABCBrand3',\n",
    "        'Expiry Date': 'ABC Manufacturer',\n",
    "        'Quantity': '10/1/2021'\n",
    "        }"
   ]
  },
  {
   "cell_type": "code",
   "execution_count": 85,
   "id": "8073afc2",
   "metadata": {},
   "outputs": [
    {
     "name": "stdout",
     "output_type": "stream",
     "text": [
      "get coupon_details\n"
     ]
    },
    {
     "data": {
      "text/plain": [
       "{'Product': 'Strawberry Ice Cream',\n",
       " 'Product Category': 'Desserts',\n",
       " 'Coupon ID': 190537749828,\n",
       " 'Brand': 'ABCBrand3',\n",
       " 'Manufacturer': 'ABCBrand3',\n",
       " 'Expiry Date': 'ABC Manufacturer',\n",
       " 'Quantity': '10/1/2021'}"
      ]
     },
     "execution_count": 85,
     "metadata": {},
     "output_type": "execute_result"
    }
   ],
   "source": [
    "fmcgCoupon.coupon_details"
   ]
  },
  {
   "cell_type": "code",
   "execution_count": 86,
   "id": "f76dc70a",
   "metadata": {},
   "outputs": [
    {
     "name": "stdout",
     "output_type": "stream",
     "text": [
      "Sorry this attribute cannot be deleted\n"
     ]
    }
   ],
   "source": [
    "del fmcgCoupon.coupon_details"
   ]
  },
  {
   "cell_type": "code",
   "execution_count": 87,
   "id": "0a56bf52",
   "metadata": {},
   "outputs": [
    {
     "name": "stdout",
     "output_type": "stream",
     "text": [
      "get coupon_details\n"
     ]
    },
    {
     "data": {
      "text/plain": [
       "{'Product': 'Strawberry Ice Cream',\n",
       " 'Product Category': 'Desserts',\n",
       " 'Coupon ID': 190537749828,\n",
       " 'Brand': 'ABCBrand3',\n",
       " 'Manufacturer': 'ABCBrand3',\n",
       " 'Expiry Date': 'ABC Manufacturer',\n",
       " 'Quantity': '10/1/2021'}"
      ]
     },
     "execution_count": 87,
     "metadata": {},
     "output_type": "execute_result"
    }
   ],
   "source": [
    "fmcgCoupon.coupon_details"
   ]
  },
  {
   "cell_type": "markdown",
   "id": "d40cfaca",
   "metadata": {},
   "source": [
    "### These are the examples of Chapter 6"
   ]
  },
  {
   "cell_type": "code",
   "execution_count": null,
   "id": "adfa2093",
   "metadata": {},
   "outputs": [],
   "source": []
  }
 ],
 "metadata": {
  "kernelspec": {
   "display_name": "Python 3",
   "language": "python",
   "name": "python3"
  },
  "language_info": {
   "codemirror_mode": {
    "name": "ipython",
    "version": 3
   },
   "file_extension": ".py",
   "mimetype": "text/x-python",
   "name": "python",
   "nbconvert_exporter": "python",
   "pygments_lexer": "ipython3",
   "version": "3.9.5"
  }
 },
 "nbformat": 4,
 "nbformat_minor": 5
}
