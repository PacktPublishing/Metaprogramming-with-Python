{
 "cells": [
  {
   "cell_type": "markdown",
   "metadata": {},
   "source": [
    "## Usage of id to delete duplicates"
   ]
  },
  {
   "cell_type": "code",
   "execution_count": 1,
   "metadata": {},
   "outputs": [],
   "source": [
    "class Coupon:\n",
    "    def __init__(self,productName,productCategory,brand,source,expiryDate,quantity):\n",
    "        self.productName = productName\n",
    "        self.productCategory = productCategory\n",
    "        self.brand = brand\n",
    "        self.source = source\n",
    "        self.expiryDate = expiryDate\n",
    "        self.quantity = quantity\n",
    "        \n",
    "    def generateCoupon(self):\n",
    "        import random\n",
    "        couponId =  random.sample(range(1,9),5)\n",
    "        for i in couponId:\n",
    "            print('***********------------------**************')\n",
    "            print('Product:', self.productName)\n",
    "            print('Product Category:', self.productCategory)\n",
    "            print('Coupon ID:', i)\n",
    "            print('Brand:', self.brand)\n",
    "            print('Source:', self.source)\n",
    "            print('Expiry Date:', self.expiryDate)\n",
    "            print('Quantity:', self.quantity)\n",
    "            print('***********------------------**************')\n",
    "        "
   ]
  },
  {
   "cell_type": "code",
   "execution_count": 2,
   "metadata": {},
   "outputs": [],
   "source": [
    "Coupon1 = Coupon"
   ]
  },
  {
   "cell_type": "code",
   "execution_count": 3,
   "metadata": {},
   "outputs": [
    {
     "data": {
      "text/plain": [
       "2749949828424"
      ]
     },
     "execution_count": 3,
     "metadata": {},
     "output_type": "execute_result"
    }
   ],
   "source": [
    "id(Coupon)"
   ]
  },
  {
   "cell_type": "code",
   "execution_count": 4,
   "metadata": {},
   "outputs": [
    {
     "data": {
      "text/plain": [
       "2749949828424"
      ]
     },
     "execution_count": 4,
     "metadata": {},
     "output_type": "execute_result"
    }
   ],
   "source": [
    "id(Coupon1)"
   ]
  },
  {
   "cell_type": "code",
   "execution_count": 5,
   "metadata": {},
   "outputs": [
    {
     "name": "stdout",
     "output_type": "stream",
     "text": [
      "***********------------------**************\n",
      "Product: Potato Chips\n",
      "Product Category: Snacks\n",
      "Coupon ID: 2\n",
      "Brand: ABCBrand1\n",
      "Source: Manhattan Store\n",
      "Expiry Date: 10/1/2021\n",
      "Quantity: 2\n",
      "***********------------------**************\n",
      "***********------------------**************\n",
      "Product: Potato Chips\n",
      "Product Category: Snacks\n",
      "Coupon ID: 6\n",
      "Brand: ABCBrand1\n",
      "Source: Manhattan Store\n",
      "Expiry Date: 10/1/2021\n",
      "Quantity: 2\n",
      "***********------------------**************\n",
      "***********------------------**************\n",
      "Product: Potato Chips\n",
      "Product Category: Snacks\n",
      "Coupon ID: 3\n",
      "Brand: ABCBrand1\n",
      "Source: Manhattan Store\n",
      "Expiry Date: 10/1/2021\n",
      "Quantity: 2\n",
      "***********------------------**************\n",
      "***********------------------**************\n",
      "Product: Potato Chips\n",
      "Product Category: Snacks\n",
      "Coupon ID: 1\n",
      "Brand: ABCBrand1\n",
      "Source: Manhattan Store\n",
      "Expiry Date: 10/1/2021\n",
      "Quantity: 2\n",
      "***********------------------**************\n",
      "***********------------------**************\n",
      "Product: Potato Chips\n",
      "Product Category: Snacks\n",
      "Coupon ID: 7\n",
      "Brand: ABCBrand1\n",
      "Source: Manhattan Store\n",
      "Expiry Date: 10/1/2021\n",
      "Quantity: 2\n",
      "***********------------------**************\n"
     ]
    }
   ],
   "source": [
    "Coupon(\"Potato Chips\",\"Snacks\",\"ABCBrand1\",\"Manhattan Store\",\"10/1/2021\",2).generateCoupon()"
   ]
  },
  {
   "cell_type": "code",
   "execution_count": 6,
   "metadata": {},
   "outputs": [
    {
     "name": "stdout",
     "output_type": "stream",
     "text": [
      "***********------------------**************\n",
      "Product: Potato Chips\n",
      "Product Category: Snacks\n",
      "Coupon ID: 2\n",
      "Brand: ABCBrand1\n",
      "Source: Manhattan Store\n",
      "Expiry Date: 10/1/2021\n",
      "Quantity: 2\n",
      "***********------------------**************\n",
      "***********------------------**************\n",
      "Product: Potato Chips\n",
      "Product Category: Snacks\n",
      "Coupon ID: 4\n",
      "Brand: ABCBrand1\n",
      "Source: Manhattan Store\n",
      "Expiry Date: 10/1/2021\n",
      "Quantity: 2\n",
      "***********------------------**************\n",
      "***********------------------**************\n",
      "Product: Potato Chips\n",
      "Product Category: Snacks\n",
      "Coupon ID: 1\n",
      "Brand: ABCBrand1\n",
      "Source: Manhattan Store\n",
      "Expiry Date: 10/1/2021\n",
      "Quantity: 2\n",
      "***********------------------**************\n",
      "***********------------------**************\n",
      "Product: Potato Chips\n",
      "Product Category: Snacks\n",
      "Coupon ID: 5\n",
      "Brand: ABCBrand1\n",
      "Source: Manhattan Store\n",
      "Expiry Date: 10/1/2021\n",
      "Quantity: 2\n",
      "***********------------------**************\n",
      "***********------------------**************\n",
      "Product: Potato Chips\n",
      "Product Category: Snacks\n",
      "Coupon ID: 3\n",
      "Brand: ABCBrand1\n",
      "Source: Manhattan Store\n",
      "Expiry Date: 10/1/2021\n",
      "Quantity: 2\n",
      "***********------------------**************\n"
     ]
    }
   ],
   "source": [
    "Coupon1(\"Potato Chips\",\"Snacks\",\"ABCBrand1\",\"Manhattan Store\",\"10/1/2021\",2).generateCoupon()"
   ]
  },
  {
   "cell_type": "code",
   "execution_count": 7,
   "metadata": {},
   "outputs": [],
   "source": [
    "def delete_duplicates(directory = dir()):\n",
    "    class_id_count = {}\n",
    "    duplicates = []\n",
    "    ids = []\n",
    "    classes = []\n",
    "    classnames = []\n",
    "    for obj in directory:\n",
    "        if type(eval(obj)) == type:\n",
    "            ids.append(id(eval(obj)))\n",
    "            classes.append(eval(obj))\n",
    "            classnames.append(obj)\n",
    "\n",
    "    for i in ids:\n",
    "        if i not in class_id_count:\n",
    "            class_id_count[i] = 1\n",
    "        elif (class_id_count[i] == 1):\n",
    "            duplicates.append(i)\n",
    "            class_id_count[i] += 1\n",
    "\n",
    "    dupe_set = {}\n",
    "    for cls,clsname in zip(classes,classnames):\n",
    "        for clsid in duplicates:\n",
    "            if (id(cls)==clsid):\n",
    "                print(clsname,cls)\n",
    "                dupe_set[clsname] = str(cls).split('.')[1].rstrip(\"'>'\")\n",
    "\n",
    "    for key,value in dupe_set.items():\n",
    "        if (key!=value):\n",
    "            del globals()[key]"
   ]
  },
  {
   "cell_type": "code",
   "execution_count": 8,
   "metadata": {},
   "outputs": [
    {
     "name": "stdout",
     "output_type": "stream",
     "text": [
      "Coupon <class '__main__.Coupon'>\n",
      "Coupon1 <class '__main__.Coupon'>\n"
     ]
    }
   ],
   "source": [
    "delete_duplicates(directory = dir())"
   ]
  },
  {
   "cell_type": "code",
   "execution_count": 9,
   "metadata": {},
   "outputs": [
    {
     "data": {
      "text/plain": [
       "__main__.Coupon"
      ]
     },
     "execution_count": 9,
     "metadata": {},
     "output_type": "execute_result"
    }
   ],
   "source": [
    "Coupon"
   ]
  },
  {
   "cell_type": "code",
   "execution_count": 10,
   "metadata": {},
   "outputs": [
    {
     "ename": "NameError",
     "evalue": "name 'Coupon1' is not defined",
     "output_type": "error",
     "traceback": [
      "\u001b[1;31m---------------------------------------------------------------------------\u001b[0m",
      "\u001b[1;31mNameError\u001b[0m                                 Traceback (most recent call last)",
      "\u001b[1;32m<ipython-input-10-1b826290f64a>\u001b[0m in \u001b[0;36m<module>\u001b[1;34m\u001b[0m\n\u001b[1;32m----> 1\u001b[1;33m \u001b[0mCoupon1\u001b[0m\u001b[1;33m\u001b[0m\u001b[1;33m\u001b[0m\u001b[0m\n\u001b[0m",
      "\u001b[1;31mNameError\u001b[0m: name 'Coupon1' is not defined"
     ]
    }
   ],
   "source": [
    "Coupon1"
   ]
  },
  {
   "cell_type": "markdown",
   "metadata": {},
   "source": [
    "## Use callable to dynamically check and generate methods"
   ]
  },
  {
   "cell_type": "code",
   "execution_count": 11,
   "metadata": {},
   "outputs": [],
   "source": [
    "class SimpleCoupon:\n",
    "    pass"
   ]
  },
  {
   "cell_type": "code",
   "execution_count": 12,
   "metadata": {},
   "outputs": [
    {
     "data": {
      "text/plain": [
       "True"
      ]
     },
     "execution_count": 12,
     "metadata": {},
     "output_type": "execute_result"
    }
   ],
   "source": [
    "callable(SimpleCoupon)"
   ]
  },
  {
   "cell_type": "code",
   "execution_count": 13,
   "metadata": {},
   "outputs": [],
   "source": [
    "def createCoupon(*couponDetails):\n",
    "\n",
    "    def generateCoupon(*couponDetails):\n",
    "        import random\n",
    "        couponId =  random.sample(range(100000000000,900000000000),3)\n",
    "        for i in couponId:\n",
    "            print('***********------------------**************')\n",
    "            print('Product:', couponDetails[0])\n",
    "            print('Product Category:', couponDetails[1])\n",
    "            print('Coupon ID:', i)\n",
    "            print('Brand:', couponDetails[2])\n",
    "            print('Source:', couponDetails[3])\n",
    "            print('Expiry Date:', couponDetails[4])\n",
    "            print('Quantity:', couponDetails[5])\n",
    "            print('***********------------------**************')\n",
    "\n",
    "    return generateCoupon"
   ]
  },
  {
   "cell_type": "code",
   "execution_count": 14,
   "metadata": {},
   "outputs": [],
   "source": [
    "if callable(SimpleCoupon):\n",
    "    SimpleCoupon.couponDetails = [\"Honey Mustard Sauce\",\"Condiments\",\"ABCBrand3\",\"Pasadena Store\",\"10/1/2021\",2]"
   ]
  },
  {
   "cell_type": "code",
   "execution_count": 15,
   "metadata": {},
   "outputs": [],
   "source": [
    "if callable(SimpleCoupon):\n",
    "    SimpleCoupon.generateCoupon = createCoupon(SimpleCoupon.couponDetails[0],SimpleCoupon.couponDetails[1],\n",
    "                                         SimpleCoupon.couponDetails[2],SimpleCoupon.couponDetails[3],\n",
    "                                        SimpleCoupon.couponDetails[4],SimpleCoupon.couponDetails[5])"
   ]
  },
  {
   "cell_type": "code",
   "execution_count": 16,
   "metadata": {},
   "outputs": [
    {
     "name": "stdout",
     "output_type": "stream",
     "text": [
      "***********------------------**************\n",
      "Product: Honey Mustard Sauce\n",
      "Product Category: Condiments\n",
      "Coupon ID: 463966324794\n",
      "Brand: ABCBrand3\n",
      "Source: Pasadena Store\n",
      "Expiry Date: 10/1/2021\n",
      "Quantity: 2\n",
      "***********------------------**************\n",
      "***********------------------**************\n",
      "Product: Honey Mustard Sauce\n",
      "Product Category: Condiments\n",
      "Coupon ID: 490820168962\n",
      "Brand: ABCBrand3\n",
      "Source: Pasadena Store\n",
      "Expiry Date: 10/1/2021\n",
      "Quantity: 2\n",
      "***********------------------**************\n",
      "***********------------------**************\n",
      "Product: Honey Mustard Sauce\n",
      "Product Category: Condiments\n",
      "Coupon ID: 454874814789\n",
      "Brand: ABCBrand3\n",
      "Source: Pasadena Store\n",
      "Expiry Date: 10/1/2021\n",
      "Quantity: 2\n",
      "***********------------------**************\n"
     ]
    }
   ],
   "source": [
    "SimpleCoupon.generateCoupon(SimpleCoupon.couponDetails[0],SimpleCoupon.couponDetails[1],\n",
    "                                         SimpleCoupon.couponDetails[2],SimpleCoupon.couponDetails[3],\n",
    "                                        SimpleCoupon.couponDetails[4],SimpleCoupon.couponDetails[5])"
   ]
  },
  {
   "cell_type": "markdown",
   "metadata": {},
   "source": [
    "## Use Hasattr to set values"
   ]
  },
  {
   "cell_type": "code",
   "execution_count": 17,
   "metadata": {},
   "outputs": [],
   "source": [
    "class CustomCoupon:\n",
    "    productName = \"Honey Mustard Sauce\"\n",
    "    productCategory = \"Condiments\"\n",
    "    brand = \"ABCBrand3\"\n",
    "    source = \"Store\"\n",
    "    expiryDate = \"10/1/2021\"\n",
    "    quantity = 10\n",
    "    manufacturer = None\n",
    "    store = None\n",
    "    \n",
    "    def generateCoupon(self):\n",
    "        import random\n",
    "        couponId =  random.sample(range(100000000000,900000000000),1)\n",
    "        for i in couponId:\n",
    "            print('***********------------------**************')\n",
    "            print('Product:', self.productName)\n",
    "            print('Product Category:', self.productCategory)\n",
    "            print('Coupon ID:', i)\n",
    "            print('Brand:', self.brand)\n",
    "            print('Source:', self.source)\n",
    "            print('Expiry Date:', self.expiryDate)\n",
    "            print('Quantity:', self.quantity)\n",
    "            if(self.manufacturer is not None):\n",
    "                print('Manufacturer:', self.manufacturer)\n",
    "            elif(self.store is not None):\n",
    "                print('Store:', self.store)\n",
    "            print('***********------------------**************')"
   ]
  },
  {
   "cell_type": "code",
   "execution_count": 18,
   "metadata": {},
   "outputs": [],
   "source": [
    "coupon = CustomCoupon()"
   ]
  },
  {
   "cell_type": "code",
   "execution_count": 19,
   "metadata": {},
   "outputs": [
    {
     "name": "stdout",
     "output_type": "stream",
     "text": [
      "Store\n"
     ]
    }
   ],
   "source": [
    "if hasattr(coupon,'source'):\n",
    "    print(getattr(coupon,'source'))"
   ]
  },
  {
   "cell_type": "code",
   "execution_count": 20,
   "metadata": {},
   "outputs": [
    {
     "name": "stdout",
     "output_type": "stream",
     "text": [
      "***********------------------**************\n",
      "Product: Honey Mustard Sauce\n",
      "Product Category: Condiments\n",
      "Coupon ID: 645043645214\n",
      "Brand: ABCBrand3\n",
      "Source: Store\n",
      "Expiry Date: 10/1/2021\n",
      "Quantity: 10\n",
      "***********------------------**************\n"
     ]
    }
   ],
   "source": [
    "coupon.generateCoupon()"
   ]
  },
  {
   "cell_type": "code",
   "execution_count": 21,
   "metadata": {},
   "outputs": [],
   "source": [
    "def check_attribute(couponobj,store,manufacturer):\n",
    "    if hasattr(couponobj,'source'):\n",
    "        if(str(getattr(couponobj,'source')) == 'Store'):\n",
    "            setattr(couponobj,'store',store)\n",
    "        else:\n",
    "            setattr(couponobj,'store',None)\n",
    "        if(str(getattr(couponobj,'source')) == 'Manufacturer'):\n",
    "            setattr(couponobj,'manufacturer',manufacturer)\n",
    "        else:\n",
    "            setattr(couponobj,'manufacturer',None)       "
   ]
  },
  {
   "cell_type": "code",
   "execution_count": 22,
   "metadata": {},
   "outputs": [
    {
     "data": {
      "text/plain": [
       "'Store'"
      ]
     },
     "execution_count": 22,
     "metadata": {},
     "output_type": "execute_result"
    }
   ],
   "source": [
    "coupon.source"
   ]
  },
  {
   "cell_type": "code",
   "execution_count": 23,
   "metadata": {},
   "outputs": [],
   "source": [
    "check_attribute(coupon,\"Brooklyn Store\", \"XYZ Manufacturer\")"
   ]
  },
  {
   "cell_type": "code",
   "execution_count": 24,
   "metadata": {},
   "outputs": [
    {
     "name": "stdout",
     "output_type": "stream",
     "text": [
      "***********------------------**************\n",
      "Product: Honey Mustard Sauce\n",
      "Product Category: Condiments\n",
      "Coupon ID: 298503217095\n",
      "Brand: ABCBrand3\n",
      "Source: Store\n",
      "Expiry Date: 10/1/2021\n",
      "Quantity: 10\n",
      "Store: Brooklyn Store\n",
      "***********------------------**************\n"
     ]
    }
   ],
   "source": [
    "coupon.generateCoupon()"
   ]
  },
  {
   "cell_type": "code",
   "execution_count": 25,
   "metadata": {},
   "outputs": [],
   "source": [
    "coupon.source = 'Manufacturer'\n",
    "check_attribute(coupon,\"Brooklyn Store\", \"XYZ Manufacturer\")"
   ]
  },
  {
   "cell_type": "code",
   "execution_count": 26,
   "metadata": {},
   "outputs": [
    {
     "data": {
      "text/plain": [
       "'XYZ Manufacturer'"
      ]
     },
     "execution_count": 26,
     "metadata": {},
     "output_type": "execute_result"
    }
   ],
   "source": [
    "coupon.manufacturer"
   ]
  },
  {
   "cell_type": "code",
   "execution_count": 27,
   "metadata": {},
   "outputs": [],
   "source": [
    "coupon.store"
   ]
  },
  {
   "cell_type": "code",
   "execution_count": 28,
   "metadata": {},
   "outputs": [
    {
     "name": "stdout",
     "output_type": "stream",
     "text": [
      "***********------------------**************\n",
      "Product: Honey Mustard Sauce\n",
      "Product Category: Condiments\n",
      "Coupon ID: 637396957614\n",
      "Brand: ABCBrand3\n",
      "Source: Manufacturer\n",
      "Expiry Date: 10/1/2021\n",
      "Quantity: 10\n",
      "Manufacturer: XYZ Manufacturer\n",
      "***********------------------**************\n"
     ]
    }
   ],
   "source": [
    "coupon.generateCoupon()"
   ]
  },
  {
   "cell_type": "code",
   "execution_count": 29,
   "metadata": {},
   "outputs": [],
   "source": [
    "coupon.source = 'Store'\n",
    "check_attribute(coupon,\"Malibu Store\", \"XYZ Manufacturer\")"
   ]
  },
  {
   "cell_type": "code",
   "execution_count": 30,
   "metadata": {},
   "outputs": [
    {
     "name": "stdout",
     "output_type": "stream",
     "text": [
      "***********------------------**************\n",
      "Product: Honey Mustard Sauce\n",
      "Product Category: Condiments\n",
      "Coupon ID: 374813057759\n",
      "Brand: ABCBrand3\n",
      "Source: Store\n",
      "Expiry Date: 10/1/2021\n",
      "Quantity: 10\n",
      "Store: Malibu Store\n",
      "***********------------------**************\n"
     ]
    }
   ],
   "source": [
    "coupon.generateCoupon()"
   ]
  },
  {
   "cell_type": "markdown",
   "metadata": {},
   "source": [
    "## Use isinstance to modify an object"
   ]
  },
  {
   "cell_type": "code",
   "execution_count": 31,
   "metadata": {},
   "outputs": [],
   "source": [
    "coupon1 = CustomCoupon()"
   ]
  },
  {
   "cell_type": "code",
   "execution_count": 32,
   "metadata": {},
   "outputs": [],
   "source": [
    "class SimpleCoupon:\n",
    "    productName = \"Strawberry Ice Cream\"\n",
    "    productCategory = \"Desserts\"\n",
    "    brand = \"ABCBrand3\"\n",
    "    store = \"Los Angeles Store\"\n",
    "    expiryDate = \"10/1/2021\"\n",
    "    quantity = 10"
   ]
  },
  {
   "cell_type": "code",
   "execution_count": 33,
   "metadata": {},
   "outputs": [],
   "source": [
    "coupon2 = SimpleCoupon()"
   ]
  },
  {
   "cell_type": "code",
   "execution_count": 34,
   "metadata": {},
   "outputs": [
    {
     "data": {
      "text/plain": [
       "True"
      ]
     },
     "execution_count": 34,
     "metadata": {},
     "output_type": "execute_result"
    }
   ],
   "source": [
    "isinstance(coupon1,CustomCoupon)"
   ]
  },
  {
   "cell_type": "code",
   "execution_count": 35,
   "metadata": {},
   "outputs": [
    {
     "data": {
      "text/plain": [
       "True"
      ]
     },
     "execution_count": 35,
     "metadata": {},
     "output_type": "execute_result"
    }
   ],
   "source": [
    "isinstance(coupon2,SimpleCoupon)"
   ]
  },
  {
   "cell_type": "code",
   "execution_count": 36,
   "metadata": {},
   "outputs": [],
   "source": [
    "def check_instance(couponobject,couponclass,store,manufacturer):\n",
    "    if isinstance(couponobject,couponclass):\n",
    "        if hasattr(couponobject,'source'):\n",
    "            if(str(getattr(couponobject,'source')) == 'Store'):\n",
    "                setattr(couponobject,'store',store)\n",
    "            else:\n",
    "                setattr(couponobject,'store',None)\n",
    "            if(str(getattr(couponobject,'source')) == 'Manufacturer'):\n",
    "                setattr(couponobject,'manufacturer',manufacturer)\n",
    "            else:\n",
    "                setattr(couponobject,'manufacturer',None)\n",
    "    else:\n",
    "        print(couponobject,'cannot be customized')"
   ]
  },
  {
   "cell_type": "code",
   "execution_count": 37,
   "metadata": {},
   "outputs": [],
   "source": [
    "check_instance(coupon1,CustomCoupon,'Malibu Beach Store','XYZ Manufacturer')"
   ]
  },
  {
   "cell_type": "code",
   "execution_count": 38,
   "metadata": {},
   "outputs": [
    {
     "data": {
      "text/plain": [
       "'Malibu Beach Store'"
      ]
     },
     "execution_count": 38,
     "metadata": {},
     "output_type": "execute_result"
    }
   ],
   "source": [
    "coupon1.store"
   ]
  },
  {
   "cell_type": "code",
   "execution_count": 39,
   "metadata": {},
   "outputs": [
    {
     "name": "stdout",
     "output_type": "stream",
     "text": [
      "***********------------------**************\n",
      "Product: Honey Mustard Sauce\n",
      "Product Category: Condiments\n",
      "Coupon ID: 163623676315\n",
      "Brand: ABCBrand3\n",
      "Source: Store\n",
      "Expiry Date: 10/1/2021\n",
      "Quantity: 10\n",
      "Store: Malibu Beach Store\n",
      "***********------------------**************\n"
     ]
    }
   ],
   "source": [
    "coupon1.generateCoupon()"
   ]
  },
  {
   "cell_type": "code",
   "execution_count": 40,
   "metadata": {},
   "outputs": [
    {
     "name": "stdout",
     "output_type": "stream",
     "text": [
      "<__main__.SimpleCoupon object at 0x000002804648CEC8> cannot be customized\n"
     ]
    }
   ],
   "source": [
    "check_instance(coupon2,CustomCoupon,'Malibu Beach Store','XYZ Manufacturer')"
   ]
  },
  {
   "cell_type": "markdown",
   "metadata": {},
   "source": [
    "## Use issubclass to modify a class"
   ]
  },
  {
   "cell_type": "code",
   "execution_count": 41,
   "metadata": {},
   "outputs": [],
   "source": [
    "class StoreCoupon:\n",
    "    productName = \"Strawberry Ice Cream\"\n",
    "    productCategory = \"Desserts\"\n",
    "    brand = \"ABCBrand3\"\n",
    "    store = \"Los Angeles Store\"\n",
    "    expiryDate = \"10/1/2021\"\n",
    "    quantity = 10"
   ]
  },
  {
   "cell_type": "code",
   "execution_count": 42,
   "metadata": {},
   "outputs": [],
   "source": [
    "def createStoreCoupon(*couponDetails):\n",
    "\n",
    "    def generateStoreCoupon(*couponDetails):\n",
    "        import random\n",
    "        couponId =  random.sample(range(100000000000,900000000000),1)\n",
    "        for i in couponId:\n",
    "            print('***********------------------**************')\n",
    "            print('Product:', couponDetails[0])\n",
    "            print('Product Category:', couponDetails[1])\n",
    "            print('Coupon ID:', i)\n",
    "            print('Brand:', couponDetails[2])\n",
    "            print('Store:', couponDetails[3])\n",
    "            print('Expiry Date:', couponDetails[4])\n",
    "            print('Quantity:', couponDetails[5])\n",
    "            print('***********------------------**************')\n",
    "\n",
    "    return generateStoreCoupon"
   ]
  },
  {
   "cell_type": "code",
   "execution_count": 43,
   "metadata": {},
   "outputs": [],
   "source": [
    "class ManufacturerCoupon:\n",
    "    productName = \"Strawberry Ice Cream\"\n",
    "    productCategory = \"Desserts\"\n",
    "    brand = \"ABCBrand3\"\n",
    "    manufacturer = \"ABC Manufacturer\"\n",
    "    expiryDate = \"10/1/2021\"\n",
    "    quantity = 10"
   ]
  },
  {
   "cell_type": "code",
   "execution_count": 44,
   "metadata": {},
   "outputs": [],
   "source": [
    "def createManufacturerCoupon(*couponDetails):\n",
    "\n",
    "    def generateManufacturerCoupon(*couponDetails):\n",
    "        import random\n",
    "        couponId =  random.sample(range(100000000000,900000000000),1)\n",
    "        for i in couponId:\n",
    "            print('***********------------------**************')\n",
    "            print('Product:', couponDetails[0])\n",
    "            print('Product Category:', couponDetails[1])\n",
    "            print('Coupon ID:', i)\n",
    "            print('Brand:', couponDetails[2])\n",
    "            print('Manufacturer:', couponDetails[3])\n",
    "            print('Expiry Date:', couponDetails[4])\n",
    "            print('Quantity:', couponDetails[5])\n",
    "            print('***********------------------**************')\n",
    "\n",
    "    return generateManufacturerCoupon"
   ]
  },
  {
   "cell_type": "code",
   "execution_count": 45,
   "metadata": {},
   "outputs": [],
   "source": [
    "class IceCreamCoupon(StoreCoupon):\n",
    "    pass"
   ]
  },
  {
   "cell_type": "code",
   "execution_count": 46,
   "metadata": {},
   "outputs": [],
   "source": [
    "def check_parent():\n",
    "    if issubclass(IceCreamCoupon,StoreCoupon):\n",
    "        IceCreamCoupon.generateStoreCoupon = createStoreCoupon(IceCreamCoupon.productName,IceCreamCoupon.productCategory,\n",
    "                                                              IceCreamCoupon.brand,IceCreamCoupon.brand,IceCreamCoupon.store,\n",
    "                                                              IceCreamCoupon.expiryDate,IceCreamCoupon.quantity)\n",
    "    elif issubclass(IceCreamCoupon,ManufacturerCoupon):\n",
    "        IceCreamCoupon.generateManufacturerCoupon = createManufacturerCoupon(IceCreamCoupon.productName,IceCreamCoupon.productCategory,\n",
    "                                                              IceCreamCoupon.brand,IceCreamCoupon.brand,IceCreamCoupon.manufacturer,\n",
    "                                                              IceCreamCoupon.expiryDate,IceCreamCoupon.quantity)"
   ]
  },
  {
   "cell_type": "code",
   "execution_count": 47,
   "metadata": {},
   "outputs": [],
   "source": [
    "check_parent()"
   ]
  },
  {
   "cell_type": "code",
   "execution_count": 48,
   "metadata": {},
   "outputs": [
    {
     "name": "stdout",
     "output_type": "stream",
     "text": [
      "***********------------------**************\n",
      "Product: Strawberry Ice Cream\n",
      "Product Category: Desserts\n",
      "Coupon ID: 276670620035\n",
      "Brand: ABCBrand3\n",
      "Store: ABCBrand3\n",
      "Expiry Date: Los Angeles Store\n",
      "Quantity: 10/1/2021\n",
      "***********------------------**************\n"
     ]
    }
   ],
   "source": [
    "IceCreamCoupon.generateStoreCoupon(IceCreamCoupon.productName,IceCreamCoupon.productCategory,\n",
    "                                                          IceCreamCoupon.brand,IceCreamCoupon.brand,IceCreamCoupon.store,\n",
    "                                                          IceCreamCoupon.expiryDate,IceCreamCoupon.quantity)"
   ]
  },
  {
   "cell_type": "code",
   "execution_count": 49,
   "metadata": {},
   "outputs": [],
   "source": [
    "class IceCreamCoupon(ManufacturerCoupon):\n",
    "    pass\n",
    "    "
   ]
  },
  {
   "cell_type": "code",
   "execution_count": 50,
   "metadata": {},
   "outputs": [],
   "source": [
    "check_parent()"
   ]
  },
  {
   "cell_type": "code",
   "execution_count": 51,
   "metadata": {},
   "outputs": [
    {
     "name": "stdout",
     "output_type": "stream",
     "text": [
      "***********------------------**************\n",
      "Product: Strawberry Ice Cream\n",
      "Product Category: Desserts\n",
      "Coupon ID: 825798350362\n",
      "Brand: ABCBrand3\n",
      "Manufacturer: ABCBrand3\n",
      "Expiry Date: ABC Manufacturer\n",
      "Quantity: 10/1/2021\n",
      "***********------------------**************\n"
     ]
    }
   ],
   "source": [
    "IceCreamCoupon.generateManufacturerCoupon(IceCreamCoupon.productName,IceCreamCoupon.productCategory,\n",
    "                                                          IceCreamCoupon.brand,IceCreamCoupon.brand,IceCreamCoupon.manufacturer,\n",
    "                                                          IceCreamCoupon.expiryDate,IceCreamCoupon.quantity)"
   ]
  },
  {
   "cell_type": "markdown",
   "metadata": {},
   "source": [
    "## Applying property on a class"
   ]
  },
  {
   "cell_type": "code",
   "execution_count": 52,
   "metadata": {},
   "outputs": [],
   "source": [
    "class CouponwithProperty:\n",
    "    def __init__(self):\n",
    "        self._couponDetails = None\n",
    "    \n",
    "    @property\n",
    "    def couponDetails(self):\n",
    "        return self.couponDetails\n",
    "    \n",
    "    @couponDetails.getter\n",
    "    def couponDetails(self):\n",
    "        print(\"get couponDetails\")\n",
    "        return self._couponDetails\n",
    "\n",
    "    @couponDetails.setter\n",
    "    def couponDetails(self, coupon):\n",
    "        print(\"set couponDetails\")\n",
    "        self._couponDetails = coupon\n",
    "\n",
    "    @couponDetails.deleter\n",
    "    def couponDetails(self):\n",
    "        print(\"Sorry this attribute cannot be deleted\")        "
   ]
  },
  {
   "cell_type": "code",
   "execution_count": 53,
   "metadata": {},
   "outputs": [],
   "source": [
    "fmcgCoupon = CouponwithProperty()"
   ]
  },
  {
   "cell_type": "code",
   "execution_count": 54,
   "metadata": {},
   "outputs": [
    {
     "name": "stdout",
     "output_type": "stream",
     "text": [
      "get couponDetails\n"
     ]
    }
   ],
   "source": [
    "fmcgCoupon.couponDetails"
   ]
  },
  {
   "cell_type": "code",
   "execution_count": 55,
   "metadata": {},
   "outputs": [
    {
     "name": "stdout",
     "output_type": "stream",
     "text": [
      "set couponDetails\n"
     ]
    }
   ],
   "source": [
    "fmcgCoupon.couponDetails = {\n",
    "        'Product': 'Strawberry Ice Cream',\n",
    "        'Product Category': 'Desserts',\n",
    "        'Coupon ID': 190537749828,\n",
    "        'Brand': 'ABCBrand3',\n",
    "        'Manufacturer': 'ABCBrand3',\n",
    "        'Expiry Date': 'ABC Manufacturer',\n",
    "        'Quantity': '10/1/2021'\n",
    "        }"
   ]
  },
  {
   "cell_type": "code",
   "execution_count": 56,
   "metadata": {},
   "outputs": [
    {
     "name": "stdout",
     "output_type": "stream",
     "text": [
      "get couponDetails\n"
     ]
    },
    {
     "data": {
      "text/plain": [
       "{'Product': 'Strawberry Ice Cream',\n",
       " 'Product Category': 'Desserts',\n",
       " 'Coupon ID': 190537749828,\n",
       " 'Brand': 'ABCBrand3',\n",
       " 'Manufacturer': 'ABCBrand3',\n",
       " 'Expiry Date': 'ABC Manufacturer',\n",
       " 'Quantity': '10/1/2021'}"
      ]
     },
     "execution_count": 56,
     "metadata": {},
     "output_type": "execute_result"
    }
   ],
   "source": [
    "fmcgCoupon.couponDetails"
   ]
  },
  {
   "cell_type": "code",
   "execution_count": 57,
   "metadata": {},
   "outputs": [
    {
     "name": "stdout",
     "output_type": "stream",
     "text": [
      "Sorry this attribute cannot be deleted\n"
     ]
    }
   ],
   "source": [
    "del fmcgCoupon.couponDetails"
   ]
  },
  {
   "cell_type": "code",
   "execution_count": 58,
   "metadata": {},
   "outputs": [
    {
     "name": "stdout",
     "output_type": "stream",
     "text": [
      "get couponDetails\n"
     ]
    },
    {
     "data": {
      "text/plain": [
       "{'Product': 'Strawberry Ice Cream',\n",
       " 'Product Category': 'Desserts',\n",
       " 'Coupon ID': 190537749828,\n",
       " 'Brand': 'ABCBrand3',\n",
       " 'Manufacturer': 'ABCBrand3',\n",
       " 'Expiry Date': 'ABC Manufacturer',\n",
       " 'Quantity': '10/1/2021'}"
      ]
     },
     "execution_count": 58,
     "metadata": {},
     "output_type": "execute_result"
    }
   ],
   "source": [
    "fmcgCoupon.couponDetails"
   ]
  },
  {
   "cell_type": "markdown",
   "metadata": {},
   "source": [
    "### These are the examples of Chapter 6"
   ]
  },
  {
   "cell_type": "code",
   "execution_count": null,
   "metadata": {},
   "outputs": [],
   "source": []
  }
 ],
 "metadata": {
  "kernelspec": {
   "display_name": "Python 3",
   "language": "python",
   "name": "python3"
  },
  "language_info": {
   "codemirror_mode": {
    "name": "ipython",
    "version": 3
   },
   "file_extension": ".py",
   "mimetype": "text/x-python",
   "name": "python",
   "nbconvert_exporter": "python",
   "pygments_lexer": "ipython3",
   "version": "3.7.6"
  }
 },
 "nbformat": 4,
 "nbformat_minor": 5
}
