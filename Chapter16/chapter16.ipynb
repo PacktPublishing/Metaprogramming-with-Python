{
 "cells": [
  {
   "cell_type": "markdown",
   "id": "d1b18c55",
   "metadata": {},
   "source": [
    "## Chapter 16"
   ]
  },
  {
   "cell_type": "markdown",
   "id": "82d1a13f",
   "metadata": {},
   "source": [
    "### Indentation"
   ]
  },
  {
   "cell_type": "code",
   "execution_count": null,
   "id": "6374be82",
   "metadata": {},
   "outputs": [],
   "source": [
    "class GreaterThan10Counter():\n",
    "    def return_cart(self, *items):\n",
    "        cart_items = []\n",
    "        for i in items:\n",
    "            cart_items.append(i)\n",
    "        return cart_items"
   ]
  },
  {
   "cell_type": "code",
   "execution_count": null,
   "id": "41f7f07d",
   "metadata": {},
   "outputs": [],
   "source": [
    "greater = GreaterThan10Counter()"
   ]
  },
  {
   "cell_type": "code",
   "execution_count": null,
   "id": "7514874a",
   "metadata": {},
   "outputs": [],
   "source": [
    "cart = greater.return_cart('paper clips', 'blue pens', 'stapler', 'pencils', 'a4paper', 'a3paper', 'chart', 'sketch pens', 'canvas', 'water color', 'acrylic colors')"
   ]
  },
  {
   "cell_type": "code",
   "execution_count": null,
   "id": "41e4a852",
   "metadata": {},
   "outputs": [],
   "source": [
    "cart = greater.return_cart('paper clips', 'blue pens', 'stapler', 'pencils', 'a4paper', 'a3paper', \n",
    "'chart', 'sketch pens', 'canvas', 'water color', 'acrylic colors')"
   ]
  },
  {
   "cell_type": "code",
   "execution_count": null,
   "id": "c59fec51",
   "metadata": {},
   "outputs": [],
   "source": [
    "cart = greater.return_cart('paper clips', 'blue pens', 'stapler', 'pencils', 'a4paper', 'a3paper', \n",
    "                           'chart', 'sketch pens', 'canvas', 'water color', 'acrylic colors')"
   ]
  },
  {
   "cell_type": "markdown",
   "id": "08d30006",
   "metadata": {},
   "source": [
    "### Neat representation"
   ]
  },
  {
   "cell_type": "code",
   "execution_count": null,
   "id": "ce845097",
   "metadata": {},
   "outputs": [],
   "source": [
    "def signature(branch):\n",
    "    def footnote(*args):\n",
    "        LOGO='\\33[43m'\n",
    "        print(LOGO+'ABC Mega Mart')\n",
    "        return branch(*args)\n",
    "    return footnote"
   ]
  },
  {
   "cell_type": "code",
   "execution_count": null,
   "id": "06e8cebf",
   "metadata": {},
   "outputs": [],
   "source": [
    "@signature\n",
    "def manager_manhattan(*args):\n",
    "    GREEN='\\033[92m'\n",
    "    SELECT='\\33[7m'\n",
    "    for arg in args:\n",
    "        print(SELECT+GREEN+str(arg))"
   ]
  },
  {
   "cell_type": "code",
   "execution_count": null,
   "id": "0d66a59e",
   "metadata": {},
   "outputs": [],
   "source": [
    "manager_manhattan('John M','john.m@abcmegamart.com','40097 5th Main Street','Manhattan',\n",
    "                  'New York City','New York',11007)"
   ]
  },
  {
   "cell_type": "code",
   "execution_count": null,
   "id": "b1ecf16f",
   "metadata": {},
   "outputs": [],
   "source": [
    "def signature(branch):\n",
    "    def footnote(*args):\n",
    "        LOGO = '\\33[43m'\n",
    "        print(LOGO + 'ABC Mega Mart')\n",
    "        return branch(*args)\n",
    "    return footnote"
   ]
  },
  {
   "cell_type": "code",
   "execution_count": null,
   "id": "d4129120",
   "metadata": {},
   "outputs": [],
   "source": [
    "@signature\n",
    "def manager_manhattan(*args):\n",
    "    GREEN = '\\033[92m'\n",
    "    SELECT = '\\33[7m'\n",
    "    for arg in args:\n",
    "        print(SELECT + GREEN + str(arg))"
   ]
  },
  {
   "cell_type": "code",
   "execution_count": null,
   "id": "bc78a3a4",
   "metadata": {},
   "outputs": [],
   "source": [
    "manager_manhattan('John M', 'john.m@abcmegamart.com', '40097 5th Main Street', 'Manhattan',\n",
    "                  'New York City', 'New York',11007)"
   ]
  },
  {
   "cell_type": "markdown",
   "id": "7bc7530b",
   "metadata": {},
   "source": [
    "### Comments"
   ]
  },
  {
   "cell_type": "code",
   "execution_count": null,
   "id": "449727d3",
   "metadata": {},
   "outputs": [],
   "source": [
    "class ExampleMetaClass1(type):\n",
    "    def __new__(classitself, *args):\n",
    "        print(\"class itself: \", classitself)\n",
    "        print(\"Others: \", args)\n",
    "        return type.__new__(classitself, *args)"
   ]
  },
  {
   "cell_type": "code",
   "execution_count": null,
   "id": "d2959d73",
   "metadata": {},
   "outputs": [],
   "source": [
    "class ExampleClass1(metaclass = ExampleMetaClass1):    \n",
    "    int1 = 123             # int1 is assigned a value of 123\n",
    "    str1 = 'test'\n",
    "    \n",
    "    def test():\n",
    "        print('test')"
   ]
  },
  {
   "cell_type": "code",
   "execution_count": null,
   "id": "6651437e",
   "metadata": {},
   "outputs": [],
   "source": [
    "class SingletonBilling:         #This code covers Singleton design pattern\n",
    "    billing_instance = None\n",
    "    product_name = 'Dark Chocolate'\n",
    "    unit_price = 6\n",
    "    quantity = 4\n",
    "    tax = 0.054\n",
    "    \n",
    "    def __init__(self):\n",
    "        if SingletonBilling.billing_instance == None:\n",
    "            SingletonBilling.billing_instance = self\n",
    "        else:\n",
    "            print(\"Billing can have only one instance\")\n",
    "    \n",
    "    def generate_bill(self):\n",
    "        total = self.unit_price * self.quantity \n",
    "        final_total = total + total*self.tax\n",
    "        print('***********------------------**************')\n",
    "        print('Product:', self.product_name)\n",
    "        print('Total:',final_total)\n",
    "        print('***********------------------**************')"
   ]
  },
  {
   "cell_type": "markdown",
   "id": "2e510c3e",
   "metadata": {},
   "source": [
    "### Documentation string"
   ]
  },
  {
   "cell_type": "code",
   "execution_count": null,
   "id": "8ccc4ccb",
   "metadata": {},
   "outputs": [],
   "source": [
    "import vegcounter as vc"
   ]
  },
  {
   "cell_type": "code",
   "execution_count": null,
   "id": "8fcd75fa",
   "metadata": {},
   "outputs": [],
   "source": [
    "#Demo doctring\n",
    "vc.return_cart()"
   ]
  },
  {
   "cell_type": "code",
   "execution_count": null,
   "id": "22a32b50",
   "metadata": {},
   "outputs": [],
   "source": [
    "vc.return_cart('pens', 'pencils')"
   ]
  },
  {
   "cell_type": "markdown",
   "id": "5165dd29",
   "metadata": {},
   "source": [
    "### Documentation string for metaprogramming"
   ]
  },
  {
   "cell_type": "code",
   "execution_count": 1,
   "id": "626a8fbf",
   "metadata": {},
   "outputs": [],
   "source": [
    "from branch import BranchMetaclass"
   ]
  },
  {
   "cell_type": "code",
   "execution_count": 2,
   "id": "1970c642",
   "metadata": {},
   "outputs": [
    {
     "data": {
      "text/plain": [
       "branch.BranchMetaclass"
      ]
     },
     "execution_count": 2,
     "metadata": {},
     "output_type": "execute_result"
    }
   ],
   "source": [
    "#Demo doctring\n",
    "BranchMetaclass"
   ]
  },
  {
   "cell_type": "markdown",
   "id": "e6ea5a7d",
   "metadata": {},
   "source": [
    "### Naming convention"
   ]
  },
  {
   "cell_type": "markdown",
   "id": "8997384c",
   "metadata": {},
   "source": [
    "#### Class Name"
   ]
  },
  {
   "cell_type": "markdown",
   "id": "255bcff0",
   "metadata": {},
   "source": [
    "##### Not preferred"
   ]
  },
  {
   "cell_type": "code",
   "execution_count": 8,
   "id": "476e6f46",
   "metadata": {},
   "outputs": [],
   "source": [
    "class billing_counter:\n",
    "    def __init__(self, productname, unitprice, quantity, tax):\n",
    "        self.productname = productname\n",
    "        self.unitprice = unitprice\n",
    "        self.quantity = quantity\n",
    "        self.tax = tax"
   ]
  },
  {
   "cell_type": "markdown",
   "id": "01a1cf6d",
   "metadata": {},
   "source": [
    "##### Preferred"
   ]
  },
  {
   "cell_type": "code",
   "execution_count": 9,
   "id": "975e051e",
   "metadata": {},
   "outputs": [],
   "source": [
    "class BillingCounter:\n",
    "    def __init__(self, productname, unitprice, quantity, tax):\n",
    "        self.productname = productname\n",
    "        self.unitprice = unitprice\n",
    "        self.quantity = quantity\n",
    "        self.tax = tax"
   ]
  },
  {
   "cell_type": "markdown",
   "id": "7eca8ce6",
   "metadata": {},
   "source": [
    "#### Variable name"
   ]
  },
  {
   "cell_type": "markdown",
   "id": "5e5b6b92",
   "metadata": {},
   "source": [
    "##### Not preferred"
   ]
  },
  {
   "cell_type": "code",
   "execution_count": 11,
   "id": "2cee873f",
   "metadata": {},
   "outputs": [],
   "source": [
    "class BillingCounter:\n",
    "    def __init__(self, PRODUCTNAME, UnitPrice, Quantity, TaX):\n",
    "        self.PRODUCTNAME = PRODUCTNAME\n",
    "        self.UnitPrice = UnitPrice\n",
    "        self.Quantity = Quantity\n",
    "        self.TaX = TaX"
   ]
  },
  {
   "cell_type": "markdown",
   "id": "cb6ac6f8",
   "metadata": {},
   "source": [
    "##### Preferred - example 1"
   ]
  },
  {
   "cell_type": "code",
   "execution_count": 12,
   "id": "e2b4ad64",
   "metadata": {},
   "outputs": [],
   "source": [
    "class BillingCounter:\n",
    "    def __init__(self, product, unit, quantity, tax):\n",
    "        self.product = product\n",
    "        self.unit = unit\n",
    "        self.quantity = quantity\n",
    "        self.tax = tax"
   ]
  },
  {
   "cell_type": "markdown",
   "id": "0c6ecb3f",
   "metadata": {},
   "source": [
    "##### Preferred - example 2"
   ]
  },
  {
   "cell_type": "code",
   "execution_count": 13,
   "id": "1bff3bcd",
   "metadata": {},
   "outputs": [],
   "source": [
    "class BillingCounter:\n",
    "    def __init__(self, product_name, unit_price, quantity, tax):\n",
    "        self.product_name = product_name\n",
    "        self.unit_price = unit_price\n",
    "        self.quantity = quantity\n",
    "        self.tax = tax"
   ]
  },
  {
   "cell_type": "markdown",
   "id": "abae7973",
   "metadata": {},
   "source": [
    "#### Function or Method"
   ]
  },
  {
   "cell_type": "markdown",
   "id": "356fd8e5",
   "metadata": {},
   "source": [
    "##### Not preferred"
   ]
  },
  {
   "cell_type": "code",
   "execution_count": 17,
   "id": "778b59a1",
   "metadata": {},
   "outputs": [],
   "source": [
    "class TypeCheck:\n",
    "    def Intcheck(self,inputvalue):\n",
    "        if (type(inputvalue) != int) or (len(str(inputvalue)) > 2):\n",
    "            return False\n",
    "        else:\n",
    "            return True\n",
    "    \n",
    "    def STRINGCHECK(self,inputvalue):\n",
    "        if (type(inputvalue) != str) or (len(str(inputvalue)) > 10):\n",
    "            return False\n",
    "        else:\n",
    "            return True\n",
    "        "
   ]
  },
  {
   "cell_type": "markdown",
   "id": "05663448",
   "metadata": {},
   "source": [
    "##### Preferred"
   ]
  },
  {
   "cell_type": "code",
   "execution_count": 1,
   "id": "b38607c0",
   "metadata": {},
   "outputs": [],
   "source": [
    "class TypeCheck:\n",
    "    def int_check(self,input_value):\n",
    "        if (type(input_value) != int) or (len(str(input_value)) > 2):\n",
    "            return False\n",
    "        else:\n",
    "            return True\n",
    "    \n",
    "    def string_check(self,input_value):\n",
    "        if (type(input_value) != str) or (len(str(input_value)) > 10):\n",
    "            return False\n",
    "        else:\n",
    "            return True\n",
    "        "
   ]
  },
  {
   "cell_type": "markdown",
   "id": "3642b276",
   "metadata": {},
   "source": [
    "### Don't reuse the names"
   ]
  },
  {
   "cell_type": "code",
   "execution_count": 25,
   "id": "eec188e3",
   "metadata": {},
   "outputs": [],
   "source": [
    "class Branch:\n",
    "    def maintenance_cost(self, product_type, quantity):\n",
    "        self.product_type = product_type\n",
    "        self.quantity = quantity\n",
    "        cold_storage_cost = 100\n",
    "        if (product_type == 'FMCG'):\n",
    "            maintenance_cost = self.quantity * 0.25 + cold_storage_cost    \n",
    "            return maintenance_cost\n",
    "        else:\n",
    "            return \"We don't stock this product\""
   ]
  },
  {
   "cell_type": "code",
   "execution_count": 26,
   "id": "0365847e",
   "metadata": {},
   "outputs": [],
   "source": [
    "class Branch:\n",
    "    def maintenance_cost(self, product_type, quantity):\n",
    "        self.product_type = product_type\n",
    "        self.quantity = quantity\n",
    "        if (product_type == 'Electronics'):\n",
    "            maintenance_cost = self.quantity * 0.05\n",
    "            return maintenance_cost\n",
    "        else:\n",
    "            return \"We don't stock this product\""
   ]
  },
  {
   "cell_type": "code",
   "execution_count": 30,
   "id": "0497a464",
   "metadata": {},
   "outputs": [
    {
     "data": {
      "text/plain": [
       "\"We don't stock this product\""
      ]
     },
     "execution_count": 30,
     "metadata": {},
     "output_type": "execute_result"
    }
   ],
   "source": [
    "branch = Branch()\n",
    "branch.maintenance_cost('FMCG', 1)"
   ]
  },
  {
   "cell_type": "markdown",
   "id": "8786b67c",
   "metadata": {},
   "source": [
    "### Preferred"
   ]
  },
  {
   "cell_type": "code",
   "execution_count": 23,
   "id": "82293f01",
   "metadata": {},
   "outputs": [],
   "source": [
    "class Brooklyn:\n",
    "    def maintenance_cost(self, product_type, quantity):\n",
    "        self.product_type = product_type\n",
    "        self.quantity = quantity\n",
    "        cold_storage_cost = 100\n",
    "        if (product_type == 'FMCG'):\n",
    "            maintenance_cost = self.quantity * 0.25 + cold_storage_cost    \n",
    "            return maintenance_cost\n",
    "        else:\n",
    "            return \"We don't stock this product\""
   ]
  },
  {
   "cell_type": "code",
   "execution_count": 24,
   "id": "11763def",
   "metadata": {},
   "outputs": [],
   "source": [
    "class Queens:\n",
    "    def maintenance_cost(self, product_type, quantity):\n",
    "        self.product_type = product_type\n",
    "        self.quantity = quantity\n",
    "        if (product_type == 'Electronics'):\n",
    "            maintenance_cost = self.quantity * 0.05\n",
    "            return maintenance_cost\n",
    "        else:\n",
    "            return \"We don't stock this product\""
   ]
  },
  {
   "cell_type": "code",
   "execution_count": 32,
   "id": "999c965e",
   "metadata": {},
   "outputs": [
    {
     "data": {
      "text/plain": [
       "100.25"
      ]
     },
     "execution_count": 32,
     "metadata": {},
     "output_type": "execute_result"
    }
   ],
   "source": [
    "brooklyn = Brooklyn()\n",
    "brooklyn.maintenance_cost('FMCG', 1)"
   ]
  },
  {
   "cell_type": "code",
   "execution_count": 33,
   "id": "59c6f308",
   "metadata": {},
   "outputs": [
    {
     "data": {
      "text/plain": [
       "0.05"
      ]
     },
     "execution_count": 33,
     "metadata": {},
     "output_type": "execute_result"
    }
   ],
   "source": [
    "queens = Queens()\n",
    "queens.maintenance_cost('Electronics', 1)"
   ]
  }
 ],
 "metadata": {
  "kernelspec": {
   "display_name": "Python 3",
   "language": "python",
   "name": "python3"
  },
  "language_info": {
   "codemirror_mode": {
    "name": "ipython",
    "version": 3
   },
   "file_extension": ".py",
   "mimetype": "text/x-python",
   "name": "python",
   "nbconvert_exporter": "python",
   "pygments_lexer": "ipython3",
   "version": "3.9.5"
  }
 },
 "nbformat": 4,
 "nbformat_minor": 5
}
