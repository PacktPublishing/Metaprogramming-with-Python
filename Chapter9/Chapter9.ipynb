{
 "cells": [
  {
   "cell_type": "markdown",
   "id": "096d3ee4",
   "metadata": {},
   "source": [
    "## Chapter 9"
   ]
  },
  {
   "cell_type": "markdown",
   "id": "6fb3f876",
   "metadata": {},
   "source": [
    "### Exploring the Library of AST"
   ]
  },
  {
   "cell_type": "code",
   "execution_count": 1,
   "id": "ac44ed21",
   "metadata": {},
   "outputs": [],
   "source": [
    "import ast"
   ]
  },
  {
   "cell_type": "code",
   "execution_count": 2,
   "id": "360efbd2",
   "metadata": {},
   "outputs": [],
   "source": [
    "assignment = \"productName = 'Iphone X'\""
   ]
  },
  {
   "cell_type": "code",
   "execution_count": 3,
   "id": "912666ef",
   "metadata": {},
   "outputs": [
    {
     "data": {
      "text/plain": [
       "\"productName = 'Iphone X'\""
      ]
     },
     "execution_count": 3,
     "metadata": {},
     "output_type": "execute_result"
    }
   ],
   "source": [
    "assignment"
   ]
  },
  {
   "cell_type": "code",
   "execution_count": 4,
   "id": "48f27d81",
   "metadata": {},
   "outputs": [],
   "source": [
    "assign_tree = ast.parse(assignment)"
   ]
  },
  {
   "cell_type": "code",
   "execution_count": 5,
   "id": "12bf21cb",
   "metadata": {},
   "outputs": [
    {
     "data": {
      "text/plain": [
       "<ast.Module at 0x19c41550d00>"
      ]
     },
     "execution_count": 5,
     "metadata": {},
     "output_type": "execute_result"
    }
   ],
   "source": [
    "assign_tree"
   ]
  },
  {
   "cell_type": "code",
   "execution_count": 6,
   "id": "e74fb759",
   "metadata": {},
   "outputs": [
    {
     "name": "stdout",
     "output_type": "stream",
     "text": [
      "Module(\n",
      "    body=[\n",
      "        Assign(\n",
      "            targets=[\n",
      "                Name(id='productName', ctx=Store())],\n",
      "            value=Constant(value='Iphone X'))],\n",
      "    type_ignores=[])\n"
     ]
    }
   ],
   "source": [
    "print(ast.dump(assign_tree,indent = 4))"
   ]
  },
  {
   "cell_type": "markdown",
   "id": "1f2fa8d3",
   "metadata": {},
   "source": [
    "### Reviewing a simple code "
   ]
  },
  {
   "cell_type": "code",
   "execution_count": 7,
   "id": "d86b4198",
   "metadata": {},
   "outputs": [],
   "source": [
    "addfunc = \"\"\"\n",
    "a = 1098\n",
    "b = 2032\n",
    "c = a + b\n",
    "print(c)\n",
    "\"\"\""
   ]
  },
  {
   "cell_type": "code",
   "execution_count": 8,
   "id": "940c66c6",
   "metadata": {},
   "outputs": [],
   "source": [
    "add_tree = ast.parse(addfunc)"
   ]
  },
  {
   "cell_type": "code",
   "execution_count": 9,
   "id": "44051e9e",
   "metadata": {},
   "outputs": [
    {
     "data": {
      "text/plain": [
       "<ast.Module at 0x19c41531280>"
      ]
     },
     "execution_count": 9,
     "metadata": {},
     "output_type": "execute_result"
    }
   ],
   "source": [
    "add_tree"
   ]
  },
  {
   "cell_type": "code",
   "execution_count": 10,
   "id": "1382fb56",
   "metadata": {},
   "outputs": [
    {
     "name": "stdout",
     "output_type": "stream",
     "text": [
      "Module(\n",
      "    body=[\n",
      "        Assign(\n",
      "            targets=[\n",
      "                Name(id='a', ctx=Store())],\n",
      "            value=Constant(value=1098)),\n",
      "        Assign(\n",
      "            targets=[\n",
      "                Name(id='b', ctx=Store())],\n",
      "            value=Constant(value=2032)),\n",
      "        Assign(\n",
      "            targets=[\n",
      "                Name(id='c', ctx=Store())],\n",
      "            value=BinOp(\n",
      "                left=Name(id='a', ctx=Load()),\n",
      "                op=Add(),\n",
      "                right=Name(id='b', ctx=Load()))),\n",
      "        Expr(\n",
      "            value=Call(\n",
      "                func=Name(id='print', ctx=Load()),\n",
      "                args=[\n",
      "                    Name(id='c', ctx=Load())],\n",
      "                keywords=[]))],\n",
      "    type_ignores=[])\n"
     ]
    }
   ],
   "source": [
    "print(ast.dump(add_tree, indent=4))"
   ]
  },
  {
   "cell_type": "code",
   "execution_count": 11,
   "id": "8196c157",
   "metadata": {},
   "outputs": [],
   "source": [
    "add_code = compile(add_tree, 'add_tree', 'exec')"
   ]
  },
  {
   "cell_type": "code",
   "execution_count": 12,
   "id": "269d01ef",
   "metadata": {},
   "outputs": [
    {
     "name": "stdout",
     "output_type": "stream",
     "text": [
      "3130\n"
     ]
    }
   ],
   "source": [
    "exec(add_code)"
   ]
  },
  {
   "cell_type": "markdown",
   "id": "d8777cfe",
   "metadata": {},
   "source": [
    "### Modifying the simple code"
   ]
  },
  {
   "cell_type": "code",
   "execution_count": 13,
   "id": "59c93c65",
   "metadata": {},
   "outputs": [
    {
     "data": {
      "text/plain": [
       "<ast.Module at 0x19c41531280>"
      ]
     },
     "execution_count": 13,
     "metadata": {},
     "output_type": "execute_result"
    }
   ],
   "source": [
    "add_tree"
   ]
  },
  {
   "cell_type": "code",
   "execution_count": 14,
   "id": "ce70d536",
   "metadata": {},
   "outputs": [],
   "source": [
    "add_tree.body[2].value.op=ast.Mult()"
   ]
  },
  {
   "cell_type": "code",
   "execution_count": 15,
   "id": "25e0f73c",
   "metadata": {},
   "outputs": [
    {
     "name": "stdout",
     "output_type": "stream",
     "text": [
      "Module(\n",
      "    body=[\n",
      "        Assign(\n",
      "            targets=[\n",
      "                Name(id='a', ctx=Store())],\n",
      "            value=Constant(value=1098)),\n",
      "        Assign(\n",
      "            targets=[\n",
      "                Name(id='b', ctx=Store())],\n",
      "            value=Constant(value=2032)),\n",
      "        Assign(\n",
      "            targets=[\n",
      "                Name(id='c', ctx=Store())],\n",
      "            value=BinOp(\n",
      "                left=Name(id='a', ctx=Load()),\n",
      "                op=Mult(),\n",
      "                right=Name(id='b', ctx=Load()))),\n",
      "        Expr(\n",
      "            value=Call(\n",
      "                func=Name(id='print', ctx=Load()),\n",
      "                args=[\n",
      "                    Name(id='c', ctx=Load())],\n",
      "                keywords=[]))],\n",
      "    type_ignores=[])\n"
     ]
    }
   ],
   "source": [
    "print(ast.dump(add_tree, indent=4))"
   ]
  },
  {
   "cell_type": "code",
   "execution_count": 16,
   "id": "b91357a9",
   "metadata": {},
   "outputs": [],
   "source": [
    "add_code = compile(add_tree, 'add_tree', 'exec')"
   ]
  },
  {
   "cell_type": "code",
   "execution_count": 17,
   "id": "6c48aaba",
   "metadata": {},
   "outputs": [
    {
     "name": "stdout",
     "output_type": "stream",
     "text": [
      "2231136\n"
     ]
    }
   ],
   "source": [
    "exec(add_code)"
   ]
  },
  {
   "cell_type": "markdown",
   "id": "ab7902ac",
   "metadata": {},
   "source": [
    "### Understanding the AST of a class"
   ]
  },
  {
   "cell_type": "code",
   "execution_count": 18,
   "id": "6ff184c3",
   "metadata": {},
   "outputs": [],
   "source": [
    "branch_code = \"\"\"\n",
    "class Branch:\n",
    "    '''attributes...'''\n",
    "    \n",
    "    '''methods...'''\n",
    "\n",
    "\"\"\""
   ]
  },
  {
   "cell_type": "code",
   "execution_count": 19,
   "id": "6d9ea8c8",
   "metadata": {},
   "outputs": [
    {
     "data": {
      "text/plain": [
       "<ast.Module at 0x19c41550e50>"
      ]
     },
     "execution_count": 19,
     "metadata": {},
     "output_type": "execute_result"
    }
   ],
   "source": [
    "branch_tree = ast.parse(branch_code)\n",
    "branch_tree"
   ]
  },
  {
   "cell_type": "code",
   "execution_count": 20,
   "id": "80dfd5c8",
   "metadata": {},
   "outputs": [
    {
     "name": "stdout",
     "output_type": "stream",
     "text": [
      "Module(\n",
      "    body=[\n",
      "        ClassDef(\n",
      "            name='Branch',\n",
      "            bases=[],\n",
      "            keywords=[],\n",
      "            body=[\n",
      "                Expr(\n",
      "                    value=Constant(value='attributes...')),\n",
      "                Expr(\n",
      "                    value=Constant(value='methods...'))],\n",
      "            decorator_list=[])],\n",
      "    type_ignores=[])\n"
     ]
    }
   ],
   "source": [
    "print(ast.dump(branch_tree, indent=4))"
   ]
  },
  {
   "cell_type": "code",
   "execution_count": 21,
   "id": "a7ff1b3b",
   "metadata": {},
   "outputs": [],
   "source": [
    "branch_code = \"\"\"class Branch:\n",
    "    branchID = 1001\n",
    "\n",
    "    @staticmethod\n",
    "    def getProduct(self):\n",
    "        return 'product'\n",
    "        \"\"\""
   ]
  },
  {
   "cell_type": "code",
   "execution_count": 22,
   "id": "b5b36aa8",
   "metadata": {},
   "outputs": [],
   "source": [
    "branch_tree = ast.parse(branch_code)"
   ]
  },
  {
   "cell_type": "code",
   "execution_count": 23,
   "id": "6c57e979",
   "metadata": {},
   "outputs": [
    {
     "name": "stdout",
     "output_type": "stream",
     "text": [
      "Module(\n",
      "    body=[\n",
      "        ClassDef(\n",
      "            name='Branch',\n",
      "            bases=[],\n",
      "            keywords=[],\n",
      "            body=[\n",
      "                Assign(\n",
      "                    targets=[\n",
      "                        Name(id='branchID', ctx=Store())],\n",
      "                    value=Constant(value=1001)),\n",
      "                FunctionDef(\n",
      "                    name='getProduct',\n",
      "                    args=arguments(\n",
      "                        posonlyargs=[],\n",
      "                        args=[\n",
      "                            arg(arg='self')],\n",
      "                        kwonlyargs=[],\n",
      "                        kw_defaults=[],\n",
      "                        defaults=[]),\n",
      "                    body=[\n",
      "                        Return(\n",
      "                            value=Constant(value='product'))],\n",
      "                    decorator_list=[\n",
      "                        Name(id='staticmethod', ctx=Load())])],\n",
      "            decorator_list=[])],\n",
      "    type_ignores=[])\n"
     ]
    }
   ],
   "source": [
    "print(ast.dump(branch_tree, indent=4))"
   ]
  },
  {
   "cell_type": "code",
   "execution_count": 24,
   "id": "4305f24a",
   "metadata": {},
   "outputs": [],
   "source": [
    "branch_code = \"\"\"\n",
    "branchAlbany = Branch()\n",
    "\"\"\""
   ]
  },
  {
   "cell_type": "code",
   "execution_count": 25,
   "id": "ce8d1856",
   "metadata": {},
   "outputs": [],
   "source": [
    "branch_tree = ast.parse(branch_code)"
   ]
  },
  {
   "cell_type": "code",
   "execution_count": 26,
   "id": "069c8ab6",
   "metadata": {},
   "outputs": [
    {
     "name": "stdout",
     "output_type": "stream",
     "text": [
      "Module(\n",
      "    body=[\n",
      "        Assign(\n",
      "            targets=[\n",
      "                Name(id='branchAlbany', ctx=Store())],\n",
      "            value=Call(\n",
      "                func=Name(id='Branch', ctx=Load()),\n",
      "                args=[],\n",
      "                keywords=[]))],\n",
      "    type_ignores=[])\n"
     ]
    }
   ],
   "source": [
    "print(ast.dump(branch_tree, indent=4))"
   ]
  },
  {
   "cell_type": "markdown",
   "id": "cac555a6",
   "metadata": {},
   "source": [
    "### Modifying AST of a code block by parsing"
   ]
  },
  {
   "cell_type": "code",
   "execution_count": 27,
   "id": "245b6a20",
   "metadata": {},
   "outputs": [],
   "source": [
    "vegctr = \"\"\"\n",
    "class VegCounter():\n",
    "    def returnCart(self,*items):\n",
    "        cartItems = []\n",
    "        for i in items:\n",
    "            cartItems.append(i)\n",
    "        return cartItems\n",
    "veg = VegCounter()\n",
    "print(veg.returnCart('onions','tomatoes','carrots','lettuce'))\n",
    "\"\"\""
   ]
  },
  {
   "cell_type": "code",
   "execution_count": 28,
   "id": "56462a48",
   "metadata": {},
   "outputs": [],
   "source": [
    "vegctr_tree = ast.parse(vegctr)"
   ]
  },
  {
   "cell_type": "code",
   "execution_count": 29,
   "id": "61070a7b",
   "metadata": {},
   "outputs": [
    {
     "name": "stdout",
     "output_type": "stream",
     "text": [
      "Module(\n",
      "    body=[\n",
      "        ClassDef(\n",
      "            name='VegCounter',\n",
      "            bases=[],\n",
      "            keywords=[],\n",
      "            body=[\n",
      "                FunctionDef(\n",
      "                    name='returnCart',\n",
      "                    args=arguments(\n",
      "                        posonlyargs=[],\n",
      "                        args=[\n",
      "                            arg(arg='self')],\n",
      "                        vararg=arg(arg='items'),\n",
      "                        kwonlyargs=[],\n",
      "                        kw_defaults=[],\n",
      "                        defaults=[]),\n",
      "                    body=[\n",
      "                        Assign(\n",
      "                            targets=[\n",
      "                                Name(id='cartItems', ctx=Store())],\n",
      "                            value=List(elts=[], ctx=Load())),\n",
      "                        For(\n",
      "                            target=Name(id='i', ctx=Store()),\n",
      "                            iter=Name(id='items', ctx=Load()),\n",
      "                            body=[\n",
      "                                Expr(\n",
      "                                    value=Call(\n",
      "                                        func=Attribute(\n",
      "                                            value=Name(id='cartItems', ctx=Load()),\n",
      "                                            attr='append',\n",
      "                                            ctx=Load()),\n",
      "                                        args=[\n",
      "                                            Name(id='i', ctx=Load())],\n",
      "                                        keywords=[]))],\n",
      "                            orelse=[]),\n",
      "                        Return(\n",
      "                            value=Name(id='cartItems', ctx=Load()))],\n",
      "                    decorator_list=[])],\n",
      "            decorator_list=[]),\n",
      "        Assign(\n",
      "            targets=[\n",
      "                Name(id='veg', ctx=Store())],\n",
      "            value=Call(\n",
      "                func=Name(id='VegCounter', ctx=Load()),\n",
      "                args=[],\n",
      "                keywords=[])),\n",
      "        Expr(\n",
      "            value=Call(\n",
      "                func=Name(id='print', ctx=Load()),\n",
      "                args=[\n",
      "                    Call(\n",
      "                        func=Attribute(\n",
      "                            value=Name(id='veg', ctx=Load()),\n",
      "                            attr='returnCart',\n",
      "                            ctx=Load()),\n",
      "                        args=[\n",
      "                            Constant(value='onions'),\n",
      "                            Constant(value='tomatoes'),\n",
      "                            Constant(value='carrots'),\n",
      "                            Constant(value='lettuce')],\n",
      "                        keywords=[])],\n",
      "                keywords=[]))],\n",
      "    type_ignores=[])\n"
     ]
    }
   ],
   "source": [
    "print(ast.dump(vegctr_tree, indent=4))"
   ]
  },
  {
   "cell_type": "code",
   "execution_count": 30,
   "id": "cff7c522",
   "metadata": {},
   "outputs": [],
   "source": [
    "vegctr_code = compile(vegctr_tree, 'vegctr_tree', 'exec')"
   ]
  },
  {
   "cell_type": "code",
   "execution_count": 31,
   "id": "19dd814f",
   "metadata": {},
   "outputs": [
    {
     "name": "stdout",
     "output_type": "stream",
     "text": [
      "['onions', 'tomatoes', 'carrots', 'lettuce']\n"
     ]
    }
   ],
   "source": [
    "exec(vegctr_code)"
   ]
  },
  {
   "cell_type": "code",
   "execution_count": 32,
   "id": "9de14681",
   "metadata": {},
   "outputs": [
    {
     "data": {
      "text/plain": [
       "[<ast.ClassDef at 0x19c41585fa0>,\n",
       " <ast.Assign at 0x19c41585be0>,\n",
       " <ast.Expr at 0x19c41585b20>]"
      ]
     },
     "execution_count": 32,
     "metadata": {},
     "output_type": "execute_result"
    }
   ],
   "source": [
    "vegctr_tree.body"
   ]
  },
  {
   "cell_type": "code",
   "execution_count": 33,
   "id": "9627fa47",
   "metadata": {},
   "outputs": [
    {
     "data": {
      "text/plain": [
       "'tomatoes'"
      ]
     },
     "execution_count": 33,
     "metadata": {},
     "output_type": "execute_result"
    }
   ],
   "source": [
    "vegctr_tree.body[2].value.args[0].args[1].n"
   ]
  },
  {
   "cell_type": "code",
   "execution_count": 34,
   "id": "32090fa4",
   "metadata": {},
   "outputs": [],
   "source": [
    "vegctr_tree.body[2].value.args[0].args[1].n = 'potatoes'"
   ]
  },
  {
   "cell_type": "code",
   "execution_count": 35,
   "id": "fd80a536",
   "metadata": {},
   "outputs": [
    {
     "name": "stdout",
     "output_type": "stream",
     "text": [
      "Module(\n",
      "    body=[\n",
      "        ClassDef(\n",
      "            name='VegCounter',\n",
      "            bases=[],\n",
      "            keywords=[],\n",
      "            body=[\n",
      "                FunctionDef(\n",
      "                    name='returnCart',\n",
      "                    args=arguments(\n",
      "                        posonlyargs=[],\n",
      "                        args=[\n",
      "                            arg(arg='self')],\n",
      "                        vararg=arg(arg='items'),\n",
      "                        kwonlyargs=[],\n",
      "                        kw_defaults=[],\n",
      "                        defaults=[]),\n",
      "                    body=[\n",
      "                        Assign(\n",
      "                            targets=[\n",
      "                                Name(id='cartItems', ctx=Store())],\n",
      "                            value=List(elts=[], ctx=Load())),\n",
      "                        For(\n",
      "                            target=Name(id='i', ctx=Store()),\n",
      "                            iter=Name(id='items', ctx=Load()),\n",
      "                            body=[\n",
      "                                Expr(\n",
      "                                    value=Call(\n",
      "                                        func=Attribute(\n",
      "                                            value=Name(id='cartItems', ctx=Load()),\n",
      "                                            attr='append',\n",
      "                                            ctx=Load()),\n",
      "                                        args=[\n",
      "                                            Name(id='i', ctx=Load())],\n",
      "                                        keywords=[]))],\n",
      "                            orelse=[]),\n",
      "                        Return(\n",
      "                            value=Name(id='cartItems', ctx=Load()))],\n",
      "                    decorator_list=[])],\n",
      "            decorator_list=[]),\n",
      "        Assign(\n",
      "            targets=[\n",
      "                Name(id='veg', ctx=Store())],\n",
      "            value=Call(\n",
      "                func=Name(id='VegCounter', ctx=Load()),\n",
      "                args=[],\n",
      "                keywords=[])),\n",
      "        Expr(\n",
      "            value=Call(\n",
      "                func=Name(id='print', ctx=Load()),\n",
      "                args=[\n",
      "                    Call(\n",
      "                        func=Attribute(\n",
      "                            value=Name(id='veg', ctx=Load()),\n",
      "                            attr='returnCart',\n",
      "                            ctx=Load()),\n",
      "                        args=[\n",
      "                            Constant(value='onions'),\n",
      "                            Constant(value='potatoes'),\n",
      "                            Constant(value='carrots'),\n",
      "                            Constant(value='lettuce')],\n",
      "                        keywords=[])],\n",
      "                keywords=[]))],\n",
      "    type_ignores=[])\n"
     ]
    }
   ],
   "source": [
    "print(ast.dump(vegctr_tree, indent=4))"
   ]
  },
  {
   "cell_type": "code",
   "execution_count": 36,
   "id": "378c4785",
   "metadata": {},
   "outputs": [
    {
     "name": "stdout",
     "output_type": "stream",
     "text": [
      "class VegCounter:\n",
      "\n",
      "    def returnCart(self, *items):\n",
      "        cartItems = []\n",
      "        for i in items:\n",
      "            cartItems.append(i)\n",
      "        return cartItems\n",
      "veg = VegCounter()\n",
      "print(veg.returnCart('onions', 'potatoes', 'carrots', 'lettuce'))\n"
     ]
    }
   ],
   "source": [
    "print(ast.unparse(vegctr_tree))"
   ]
  },
  {
   "cell_type": "markdown",
   "id": "e1aea3b1",
   "metadata": {},
   "source": [
    "### Modifying AST of a code block by transforming nodes"
   ]
  },
  {
   "cell_type": "code",
   "execution_count": 37,
   "id": "b999fb44",
   "metadata": {},
   "outputs": [],
   "source": [
    "class VegCounter():\n",
    "    def returnCart(self,*items):\n",
    "        cartItems = []\n",
    "        for i in items:\n",
    "            cartItems.append(i)\n",
    "        return cartItems"
   ]
  },
  {
   "cell_type": "code",
   "execution_count": 38,
   "id": "14c11463",
   "metadata": {},
   "outputs": [],
   "source": [
    "veg = VegCounter()\n",
    "cart = \"\"\"veg.returnCart('onions','tomatoes','carrots','lettuce')\"\"\""
   ]
  },
  {
   "cell_type": "code",
   "execution_count": 39,
   "id": "6d0f1d19",
   "metadata": {},
   "outputs": [],
   "source": [
    "cart_tree = ast.parse(cart)"
   ]
  },
  {
   "cell_type": "code",
   "execution_count": 40,
   "id": "7ac545a9",
   "metadata": {},
   "outputs": [
    {
     "name": "stdout",
     "output_type": "stream",
     "text": [
      "Module(\n",
      "    body=[\n",
      "        Expr(\n",
      "            value=Call(\n",
      "                func=Attribute(\n",
      "                    value=Name(id='veg', ctx=Load()),\n",
      "                    attr='returnCart',\n",
      "                    ctx=Load()),\n",
      "                args=[\n",
      "                    Constant(value='onions'),\n",
      "                    Constant(value='tomatoes'),\n",
      "                    Constant(value='carrots'),\n",
      "                    Constant(value='lettuce')],\n",
      "                keywords=[]))],\n",
      "    type_ignores=[])\n"
     ]
    }
   ],
   "source": [
    "print(ast.dump(cart_tree, indent = 4))"
   ]
  },
  {
   "cell_type": "code",
   "execution_count": 41,
   "id": "e06268ab",
   "metadata": {},
   "outputs": [],
   "source": [
    "from ast import NodeTransformer"
   ]
  },
  {
   "cell_type": "code",
   "execution_count": 42,
   "id": "a6942a8e",
   "metadata": {},
   "outputs": [],
   "source": [
    "class ModifyVegCounter(NodeTransformer):\n",
    "    \n",
    "    def visit_Constant(self, node):\n",
    "        modifiedValue = ast.Constant('item:' + str(node.value))\n",
    "        return modifiedValue"
   ]
  },
  {
   "cell_type": "code",
   "execution_count": 43,
   "id": "e626d609",
   "metadata": {},
   "outputs": [
    {
     "data": {
      "text/plain": [
       "<ast.Module at 0x19c41585670>"
      ]
     },
     "execution_count": 43,
     "metadata": {},
     "output_type": "execute_result"
    }
   ],
   "source": [
    "ModifyVegCounter().visit(cart_tree)"
   ]
  },
  {
   "cell_type": "code",
   "execution_count": 44,
   "id": "9f541895",
   "metadata": {},
   "outputs": [
    {
     "name": "stdout",
     "output_type": "stream",
     "text": [
      "Module(\n",
      "    body=[\n",
      "        Expr(\n",
      "            value=Call(\n",
      "                func=Attribute(\n",
      "                    value=Name(id='veg', ctx=Load()),\n",
      "                    attr='returnCart',\n",
      "                    ctx=Load()),\n",
      "                args=[\n",
      "                    Constant(value='item:onions'),\n",
      "                    Constant(value='item:tomatoes'),\n",
      "                    Constant(value='item:carrots'),\n",
      "                    Constant(value='item:lettuce')],\n",
      "                keywords=[]))],\n",
      "    type_ignores=[])\n"
     ]
    }
   ],
   "source": [
    "print(ast.dump(cart_tree, indent = 4))"
   ]
  },
  {
   "cell_type": "code",
   "execution_count": 45,
   "id": "db075163",
   "metadata": {},
   "outputs": [
    {
     "name": "stdout",
     "output_type": "stream",
     "text": [
      "veg.returnCart('item:onions', 'item:tomatoes', 'item:carrots', 'item:lettuce')\n"
     ]
    }
   ],
   "source": [
    "print(ast.unparse(cart_tree))"
   ]
  },
  {
   "cell_type": "markdown",
   "id": "5ad2b15b",
   "metadata": {},
   "source": [
    "#### These are the examples covered in Chapter 9"
   ]
  },
  {
   "cell_type": "code",
   "execution_count": null,
   "id": "3f6229e0",
   "metadata": {},
   "outputs": [],
   "source": []
  }
 ],
 "metadata": {
  "kernelspec": {
   "display_name": "Python 3 (ipykernel)",
   "language": "python",
   "name": "python3"
  },
  "language_info": {
   "codemirror_mode": {
    "name": "ipython",
    "version": 3
   },
   "file_extension": ".py",
   "mimetype": "text/x-python",
   "name": "python",
   "nbconvert_exporter": "python",
   "pygments_lexer": "ipython3",
   "version": "3.9.6"
  }
 },
 "nbformat": 4,
 "nbformat_minor": 5
}
