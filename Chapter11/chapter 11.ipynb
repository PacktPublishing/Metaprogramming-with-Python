{
 "cells": [
  {
   "cell_type": "markdown",
   "id": "1c2b012b",
   "metadata": {},
   "source": [
    "## Chapter 11"
   ]
  },
  {
   "cell_type": "markdown",
   "id": "9061f08a",
   "metadata": {},
   "source": [
    "### Exploring type for dynamic objects"
   ]
  },
  {
   "cell_type": "code",
   "execution_count": 1,
   "id": "f68ecc48",
   "metadata": {},
   "outputs": [
    {
     "data": {
      "text/plain": [
       "type"
      ]
     },
     "execution_count": 1,
     "metadata": {},
     "output_type": "execute_result"
    }
   ],
   "source": [
    "type(object)"
   ]
  },
  {
   "cell_type": "code",
   "execution_count": 2,
   "id": "185b9a07",
   "metadata": {},
   "outputs": [],
   "source": [
    "class Branch:\n",
    "    '''attributes...'''\n",
    "    \n",
    "    '''methods...'''\n",
    "    pass"
   ]
  },
  {
   "cell_type": "code",
   "execution_count": 3,
   "id": "63b5f631",
   "metadata": {},
   "outputs": [],
   "source": [
    "branch_albany = type('Branch', (object,), {'branch_id' : 123, \n",
    "                               'branch_street' : '123 Main Street',\n",
    "                                         'branch_city' : 'Albany',\n",
    "                                         'branch_state' : 'New York',\n",
    "                                         'branch_zip' : 12084})"
   ]
  },
  {
   "cell_type": "code",
   "execution_count": 4,
   "id": "61122c35",
   "metadata": {},
   "outputs": [
    {
     "data": {
      "text/plain": [
       "__main__.Branch"
      ]
     },
     "execution_count": 4,
     "metadata": {},
     "output_type": "execute_result"
    }
   ],
   "source": [
    "branch_albany"
   ]
  },
  {
   "cell_type": "code",
   "execution_count": 43,
   "id": "a1422f59",
   "metadata": {},
   "outputs": [
    {
     "data": {
      "text/plain": [
       "<function Branch.mro()>"
      ]
     },
     "execution_count": 43,
     "metadata": {},
     "output_type": "execute_result"
    }
   ],
   "source": [
    "branch_albany.mro"
   ]
  },
  {
   "cell_type": "code",
   "execution_count": 44,
   "id": "af8b7bdb",
   "metadata": {},
   "outputs": [
    {
     "data": {
      "text/plain": [
       "123"
      ]
     },
     "execution_count": 44,
     "metadata": {},
     "output_type": "execute_result"
    }
   ],
   "source": [
    "branch_albany.branch_id"
   ]
  },
  {
   "cell_type": "code",
   "execution_count": 7,
   "id": "3786bd86",
   "metadata": {},
   "outputs": [
    {
     "data": {
      "text/plain": [
       "'123 Main Street'"
      ]
     },
     "execution_count": 7,
     "metadata": {},
     "output_type": "execute_result"
    }
   ],
   "source": [
    "branch_albany.branch_street"
   ]
  },
  {
   "cell_type": "code",
   "execution_count": 8,
   "id": "ad913368",
   "metadata": {},
   "outputs": [
    {
     "data": {
      "text/plain": [
       "'Albany'"
      ]
     },
     "execution_count": 8,
     "metadata": {},
     "output_type": "execute_result"
    }
   ],
   "source": [
    "branch_albany.branch_city"
   ]
  },
  {
   "cell_type": "code",
   "execution_count": 9,
   "id": "6540f2f8",
   "metadata": {},
   "outputs": [
    {
     "data": {
      "text/plain": [
       "'New York'"
      ]
     },
     "execution_count": 9,
     "metadata": {},
     "output_type": "execute_result"
    }
   ],
   "source": [
    "branch_albany.branch_state"
   ]
  },
  {
   "cell_type": "code",
   "execution_count": 10,
   "id": "f29905ea",
   "metadata": {},
   "outputs": [
    {
     "data": {
      "text/plain": [
       "12084"
      ]
     },
     "execution_count": 10,
     "metadata": {},
     "output_type": "execute_result"
    }
   ],
   "source": [
    "branch_albany.branch_zip"
   ]
  },
  {
   "cell_type": "code",
   "execution_count": 11,
   "id": "7afb5606",
   "metadata": {},
   "outputs": [
    {
     "data": {
      "text/plain": [
       "['__class__',\n",
       " '__delattr__',\n",
       " '__dict__',\n",
       " '__dir__',\n",
       " '__doc__',\n",
       " '__eq__',\n",
       " '__format__',\n",
       " '__ge__',\n",
       " '__getattribute__',\n",
       " '__gt__',\n",
       " '__hash__',\n",
       " '__init__',\n",
       " '__init_subclass__',\n",
       " '__le__',\n",
       " '__lt__',\n",
       " '__module__',\n",
       " '__ne__',\n",
       " '__new__',\n",
       " '__reduce__',\n",
       " '__reduce_ex__',\n",
       " '__repr__',\n",
       " '__setattr__',\n",
       " '__sizeof__',\n",
       " '__str__',\n",
       " '__subclasshook__',\n",
       " '__weakref__',\n",
       " 'branch_city',\n",
       " 'branch_id',\n",
       " 'branch_state',\n",
       " 'branch_street',\n",
       " 'branch_zip']"
      ]
     },
     "execution_count": 11,
     "metadata": {},
     "output_type": "execute_result"
    }
   ],
   "source": [
    "dir(branch_albany)"
   ]
  },
  {
   "cell_type": "code",
   "execution_count": 12,
   "id": "790dca2a",
   "metadata": {},
   "outputs": [
    {
     "data": {
      "text/plain": [
       "['__class__',\n",
       " '__delattr__',\n",
       " '__dict__',\n",
       " '__dir__',\n",
       " '__doc__',\n",
       " '__eq__',\n",
       " '__format__',\n",
       " '__ge__',\n",
       " '__getattribute__',\n",
       " '__gt__',\n",
       " '__hash__',\n",
       " '__init__',\n",
       " '__init_subclass__',\n",
       " '__le__',\n",
       " '__lt__',\n",
       " '__module__',\n",
       " '__ne__',\n",
       " '__new__',\n",
       " '__reduce__',\n",
       " '__reduce_ex__',\n",
       " '__repr__',\n",
       " '__setattr__',\n",
       " '__sizeof__',\n",
       " '__str__',\n",
       " '__subclasshook__',\n",
       " '__weakref__']"
      ]
     },
     "execution_count": 12,
     "metadata": {},
     "output_type": "execute_result"
    }
   ],
   "source": [
    "dir(Branch)"
   ]
  },
  {
   "cell_type": "markdown",
   "id": "64d3997e",
   "metadata": {},
   "source": [
    "#### Create another object with a different set of attributes"
   ]
  },
  {
   "cell_type": "code",
   "execution_count": 13,
   "id": "27efaedb",
   "metadata": {},
   "outputs": [],
   "source": [
    "branch_nyc = type('Branch', (object,), {'branch_id' : 202, \n",
    "                               'product_id': 100001,\n",
    "                               'product_name': 'Refrigerator',\n",
    "                               'product_brand': 'Whirlpool'})"
   ]
  },
  {
   "cell_type": "code",
   "execution_count": 14,
   "id": "dd5672ea",
   "metadata": {},
   "outputs": [
    {
     "data": {
      "text/plain": [
       "['__class__',\n",
       " '__delattr__',\n",
       " '__dict__',\n",
       " '__dir__',\n",
       " '__doc__',\n",
       " '__eq__',\n",
       " '__format__',\n",
       " '__ge__',\n",
       " '__getattribute__',\n",
       " '__gt__',\n",
       " '__hash__',\n",
       " '__init__',\n",
       " '__init_subclass__',\n",
       " '__le__',\n",
       " '__lt__',\n",
       " '__module__',\n",
       " '__ne__',\n",
       " '__new__',\n",
       " '__reduce__',\n",
       " '__reduce_ex__',\n",
       " '__repr__',\n",
       " '__setattr__',\n",
       " '__sizeof__',\n",
       " '__str__',\n",
       " '__subclasshook__',\n",
       " '__weakref__',\n",
       " 'branch_id',\n",
       " 'product_brand',\n",
       " 'product_id',\n",
       " 'product_name']"
      ]
     },
     "execution_count": 14,
     "metadata": {},
     "output_type": "execute_result"
    }
   ],
   "source": [
    "dir(branch_nyc)"
   ]
  },
  {
   "cell_type": "markdown",
   "id": "5a1d42a7",
   "metadata": {},
   "source": [
    "### Creating multiple instances of a class dynamically"
   ]
  },
  {
   "cell_type": "code",
   "execution_count": 15,
   "id": "7cd8c49d",
   "metadata": {},
   "outputs": [],
   "source": [
    "class Product():\n",
    "    '''attributes...'''\n",
    "    \n",
    "    '''methods...'''\n",
    "    pass"
   ]
  },
  {
   "cell_type": "code",
   "execution_count": 16,
   "id": "f89eaafc",
   "metadata": {},
   "outputs": [],
   "source": [
    "details = [{'branch_id' : 202, \n",
    "            'product_id' : 100002, \n",
    "            'product_name' : 'Washing Machine',\n",
    "            'product_brand' : 'Whirlpool', \n",
    "            'purchase_price' : 450, \n",
    "            'profit_margin' : 0.19},\n",
    "           {\n",
    "            'product_id' : 100902,\n",
    "            'product_name' : 'Iphone X',\n",
    "            'product_category' : 'Electronics',\n",
    "            'unit_price' : 700\n",
    "           },\n",
    "           {\n",
    "            'branch_id' : 2021,\n",
    "            'branch_street' : '40097 5th Main Street',\n",
    "            'branch_borough' : 'Manhattan',\n",
    "            'branch_city' : 'New York City',\n",
    "            'product_id': 100003, \n",
    "            'product_name': 'Washing Machine', \n",
    "            'product_brand': 'Samsung', \n",
    "            'purchase_price': 430, \n",
    "            'profit_margin': 0.18\n",
    "           },\n",
    "          ]"
   ]
  },
  {
   "cell_type": "code",
   "execution_count": 17,
   "id": "6fa60be1",
   "metadata": {},
   "outputs": [
    {
     "data": {
      "text/plain": [
       "[{'branch_id': 202,\n",
       "  'product_id': 100002,\n",
       "  'product_name': 'Washing Machine',\n",
       "  'product_brand': 'Whirlpool',\n",
       "  'purchase_price': 450,\n",
       "  'profit_margin': 0.19},\n",
       " {'product_id': 100902,\n",
       "  'product_name': 'Iphone X',\n",
       "  'product_category': 'Electronics',\n",
       "  'unit_price': 700},\n",
       " {'branch_id': 2021,\n",
       "  'branch_street': '40097 5th Main Street',\n",
       "  'branch_borough': 'Manhattan',\n",
       "  'branch_city': 'New York City',\n",
       "  'product_id': 100003,\n",
       "  'product_name': 'Washing Machine',\n",
       "  'product_brand': 'Samsung',\n",
       "  'purchase_price': 430,\n",
       "  'profit_margin': 0.18}]"
      ]
     },
     "execution_count": 17,
     "metadata": {},
     "output_type": "execute_result"
    }
   ],
   "source": [
    "details"
   ]
  },
  {
   "cell_type": "code",
   "execution_count": 18,
   "id": "7ad2691d",
   "metadata": {},
   "outputs": [],
   "source": [
    "for obj,var in zip(['product1','product2','product3'],details):\n",
    "    globals()[obj] = type('Product', (object,), var)"
   ]
  },
  {
   "cell_type": "code",
   "execution_count": 19,
   "id": "2bc79d26",
   "metadata": {},
   "outputs": [
    {
     "data": {
      "text/plain": [
       "['__class__',\n",
       " '__delattr__',\n",
       " '__dict__',\n",
       " '__dir__',\n",
       " '__doc__',\n",
       " '__eq__',\n",
       " '__format__',\n",
       " '__ge__',\n",
       " '__getattribute__',\n",
       " '__gt__',\n",
       " '__hash__',\n",
       " '__init__',\n",
       " '__init_subclass__',\n",
       " '__le__',\n",
       " '__lt__',\n",
       " '__module__',\n",
       " '__ne__',\n",
       " '__new__',\n",
       " '__reduce__',\n",
       " '__reduce_ex__',\n",
       " '__repr__',\n",
       " '__setattr__',\n",
       " '__sizeof__',\n",
       " '__str__',\n",
       " '__subclasshook__',\n",
       " '__weakref__']"
      ]
     },
     "execution_count": 19,
     "metadata": {},
     "output_type": "execute_result"
    }
   ],
   "source": [
    "dir(Product)"
   ]
  },
  {
   "cell_type": "code",
   "execution_count": 20,
   "id": "b6e914dd",
   "metadata": {},
   "outputs": [
    {
     "data": {
      "text/plain": [
       "['__class__',\n",
       " '__delattr__',\n",
       " '__dict__',\n",
       " '__dir__',\n",
       " '__doc__',\n",
       " '__eq__',\n",
       " '__format__',\n",
       " '__ge__',\n",
       " '__getattribute__',\n",
       " '__gt__',\n",
       " '__hash__',\n",
       " '__init__',\n",
       " '__init_subclass__',\n",
       " '__le__',\n",
       " '__lt__',\n",
       " '__module__',\n",
       " '__ne__',\n",
       " '__new__',\n",
       " '__reduce__',\n",
       " '__reduce_ex__',\n",
       " '__repr__',\n",
       " '__setattr__',\n",
       " '__sizeof__',\n",
       " '__str__',\n",
       " '__subclasshook__',\n",
       " '__weakref__',\n",
       " 'branch_id',\n",
       " 'product_brand',\n",
       " 'product_id',\n",
       " 'product_name',\n",
       " 'profit_margin',\n",
       " 'purchase_price']"
      ]
     },
     "execution_count": 20,
     "metadata": {},
     "output_type": "execute_result"
    }
   ],
   "source": [
    "dir(product1)"
   ]
  },
  {
   "cell_type": "code",
   "execution_count": 21,
   "id": "36e342fe",
   "metadata": {},
   "outputs": [
    {
     "data": {
      "text/plain": [
       "['__class__',\n",
       " '__delattr__',\n",
       " '__dict__',\n",
       " '__dir__',\n",
       " '__doc__',\n",
       " '__eq__',\n",
       " '__format__',\n",
       " '__ge__',\n",
       " '__getattribute__',\n",
       " '__gt__',\n",
       " '__hash__',\n",
       " '__init__',\n",
       " '__init_subclass__',\n",
       " '__le__',\n",
       " '__lt__',\n",
       " '__module__',\n",
       " '__ne__',\n",
       " '__new__',\n",
       " '__reduce__',\n",
       " '__reduce_ex__',\n",
       " '__repr__',\n",
       " '__setattr__',\n",
       " '__sizeof__',\n",
       " '__str__',\n",
       " '__subclasshook__',\n",
       " '__weakref__',\n",
       " 'product_category',\n",
       " 'product_id',\n",
       " 'product_name',\n",
       " 'unit_price']"
      ]
     },
     "execution_count": 21,
     "metadata": {},
     "output_type": "execute_result"
    }
   ],
   "source": [
    "dir(product2)"
   ]
  },
  {
   "cell_type": "code",
   "execution_count": 22,
   "id": "121bc38f",
   "metadata": {},
   "outputs": [
    {
     "data": {
      "text/plain": [
       "['__class__',\n",
       " '__delattr__',\n",
       " '__dict__',\n",
       " '__dir__',\n",
       " '__doc__',\n",
       " '__eq__',\n",
       " '__format__',\n",
       " '__ge__',\n",
       " '__getattribute__',\n",
       " '__gt__',\n",
       " '__hash__',\n",
       " '__init__',\n",
       " '__init_subclass__',\n",
       " '__le__',\n",
       " '__lt__',\n",
       " '__module__',\n",
       " '__ne__',\n",
       " '__new__',\n",
       " '__reduce__',\n",
       " '__reduce_ex__',\n",
       " '__repr__',\n",
       " '__setattr__',\n",
       " '__sizeof__',\n",
       " '__str__',\n",
       " '__subclasshook__',\n",
       " '__weakref__',\n",
       " 'branch_borough',\n",
       " 'branch_city',\n",
       " 'branch_id',\n",
       " 'branch_street',\n",
       " 'product_brand',\n",
       " 'product_id',\n",
       " 'product_name',\n",
       " 'profit_margin',\n",
       " 'purchase_price']"
      ]
     },
     "execution_count": 22,
     "metadata": {},
     "output_type": "execute_result"
    }
   ],
   "source": [
    "dir(product3)"
   ]
  },
  {
   "cell_type": "markdown",
   "id": "463e7b44",
   "metadata": {},
   "source": [
    "### Creating dynamic classes"
   ]
  },
  {
   "cell_type": "code",
   "execution_count": 23,
   "id": "51aba07e",
   "metadata": {},
   "outputs": [],
   "source": [
    "Product = type('Product', (object,), {'branch_id' : 202, \n",
    "                               'product_id': 100001,\n",
    "                               'product_name': 'Refrigerator',\n",
    "                               'product_brand': 'Whirlpool'})"
   ]
  },
  {
   "cell_type": "code",
   "execution_count": 24,
   "id": "1bda2560",
   "metadata": {},
   "outputs": [
    {
     "data": {
      "text/plain": [
       "__main__.Product"
      ]
     },
     "execution_count": 24,
     "metadata": {},
     "output_type": "execute_result"
    }
   ],
   "source": [
    "Product"
   ]
  },
  {
   "cell_type": "code",
   "execution_count": 25,
   "id": "b0bfb31f",
   "metadata": {},
   "outputs": [
    {
     "data": {
      "text/plain": [
       "type"
      ]
     },
     "execution_count": 25,
     "metadata": {},
     "output_type": "execute_result"
    }
   ],
   "source": [
    "type(Product)"
   ]
  },
  {
   "cell_type": "code",
   "execution_count": 26,
   "id": "ea1ca8f2",
   "metadata": {},
   "outputs": [
    {
     "data": {
      "text/plain": [
       "202"
      ]
     },
     "execution_count": 26,
     "metadata": {},
     "output_type": "execute_result"
    }
   ],
   "source": [
    "Product.branch_id"
   ]
  },
  {
   "cell_type": "code",
   "execution_count": 27,
   "id": "6f310843",
   "metadata": {},
   "outputs": [
    {
     "data": {
      "text/plain": [
       "['__class__',\n",
       " '__delattr__',\n",
       " '__dict__',\n",
       " '__dir__',\n",
       " '__doc__',\n",
       " '__eq__',\n",
       " '__format__',\n",
       " '__ge__',\n",
       " '__getattribute__',\n",
       " '__gt__',\n",
       " '__hash__',\n",
       " '__init__',\n",
       " '__init_subclass__',\n",
       " '__le__',\n",
       " '__lt__',\n",
       " '__module__',\n",
       " '__ne__',\n",
       " '__new__',\n",
       " '__reduce__',\n",
       " '__reduce_ex__',\n",
       " '__repr__',\n",
       " '__setattr__',\n",
       " '__sizeof__',\n",
       " '__str__',\n",
       " '__subclasshook__',\n",
       " '__weakref__',\n",
       " 'branch_id',\n",
       " 'product_brand',\n",
       " 'product_id',\n",
       " 'product_name']"
      ]
     },
     "execution_count": 27,
     "metadata": {},
     "output_type": "execute_result"
    }
   ],
   "source": [
    "dir(Product)"
   ]
  },
  {
   "cell_type": "markdown",
   "id": "e9776fe3",
   "metadata": {},
   "source": [
    "#### Creating multiple dynamic classes"
   ]
  },
  {
   "cell_type": "code",
   "execution_count": 28,
   "id": "088dffbd",
   "metadata": {},
   "outputs": [],
   "source": [
    "def get_branch(branch):\n",
    "        return branch\n",
    "    \n",
    "def get_sales(sales):\n",
    "        return sales\n",
    "    \n",
    "def get_product(product):\n",
    "        return product"
   ]
  },
  {
   "cell_type": "code",
   "execution_count": 29,
   "id": "6e7e9fc7",
   "metadata": {},
   "outputs": [],
   "source": [
    "details = [{'branch': 202,\n",
    "            'get_branch' : get_branch\n",
    "  },\n",
    " {'purchase_price': 430,\n",
    "  'get_sales' : get_sales\n",
    "  },\n",
    " {'product': 100902,\n",
    "  'get_product' : get_product\n",
    "  }]"
   ]
  },
  {
   "cell_type": "code",
   "execution_count": 30,
   "id": "dc45d430",
   "metadata": {},
   "outputs": [],
   "source": [
    "for cls,var in zip(['productcls1','productcls2','productcls3'],details):\n",
    "    globals()[cls] = type(cls, (object,), var)"
   ]
  },
  {
   "cell_type": "code",
   "execution_count": 31,
   "id": "4aeeb832",
   "metadata": {},
   "outputs": [
    {
     "data": {
      "text/plain": [
       "202"
      ]
     },
     "execution_count": 31,
     "metadata": {},
     "output_type": "execute_result"
    }
   ],
   "source": [
    "productcls1.get_branch(productcls1.branch)"
   ]
  },
  {
   "cell_type": "code",
   "execution_count": 32,
   "id": "92519559",
   "metadata": {},
   "outputs": [
    {
     "data": {
      "text/plain": [
       "430"
      ]
     },
     "execution_count": 32,
     "metadata": {},
     "output_type": "execute_result"
    }
   ],
   "source": [
    "productcls2.get_sales(productcls2.purchase_price)"
   ]
  },
  {
   "cell_type": "code",
   "execution_count": 33,
   "id": "59363f8e",
   "metadata": {},
   "outputs": [
    {
     "data": {
      "text/plain": [
       "100902"
      ]
     },
     "execution_count": 33,
     "metadata": {},
     "output_type": "execute_result"
    }
   ],
   "source": [
    "productcls3.get_product(productcls3.product)"
   ]
  },
  {
   "cell_type": "markdown",
   "id": "15549dba",
   "metadata": {},
   "source": [
    "### Creating dynamic attributes and methods"
   ]
  },
  {
   "cell_type": "code",
   "execution_count": 34,
   "id": "f339988b",
   "metadata": {},
   "outputs": [],
   "source": [
    "class SimpleCoupon:\n",
    "    '''attributes...'''\n",
    "    \n",
    "    '''methods...'''\n",
    "    pass"
   ]
  },
  {
   "cell_type": "code",
   "execution_count": 35,
   "id": "f5abe9c4",
   "metadata": {},
   "outputs": [],
   "source": [
    "setattr(SimpleCoupon,'coupon_details',[[\"Honey Mustard Sauce\",\"Condiments\",\"ABCBrand3\",\"Pasadena Store\",\"10/1/2021\",2],\n",
    "                              [\"Potato Chips\",\"Snacks\",\"ABCBrand1\",\"Manhattan Store\",\"10/1/2021\",2],\n",
    "                              [\"Strawberry Ice Cream\",\"Desserts\",\"ABCBrand3\",\"ABC Manufacturer\",\"10/1/2021\",2]])"
   ]
  },
  {
   "cell_type": "code",
   "execution_count": 36,
   "id": "54e81518",
   "metadata": {},
   "outputs": [
    {
     "data": {
      "text/plain": [
       "['__class__',\n",
       " '__delattr__',\n",
       " '__dict__',\n",
       " '__dir__',\n",
       " '__doc__',\n",
       " '__eq__',\n",
       " '__format__',\n",
       " '__ge__',\n",
       " '__getattribute__',\n",
       " '__gt__',\n",
       " '__hash__',\n",
       " '__init__',\n",
       " '__init_subclass__',\n",
       " '__le__',\n",
       " '__lt__',\n",
       " '__module__',\n",
       " '__ne__',\n",
       " '__new__',\n",
       " '__reduce__',\n",
       " '__reduce_ex__',\n",
       " '__repr__',\n",
       " '__setattr__',\n",
       " '__sizeof__',\n",
       " '__str__',\n",
       " '__subclasshook__',\n",
       " '__weakref__',\n",
       " 'coupon_details']"
      ]
     },
     "execution_count": 36,
     "metadata": {},
     "output_type": "execute_result"
    }
   ],
   "source": [
    "dir(SimpleCoupon)"
   ]
  },
  {
   "cell_type": "code",
   "execution_count": 37,
   "id": "3e4f42a0",
   "metadata": {},
   "outputs": [],
   "source": [
    "def create_coupon(classname,methodname,coupon_details):\n",
    "\n",
    "    def generate_coupon(coupon_details):\n",
    "        import random\n",
    "        couponId =  random.sample(range(100000000000,900000000000),1)\n",
    "        for i in couponId:\n",
    "            print('***********------------------**************')\n",
    "            print('Product:', coupon_details[0])\n",
    "            print('Product Category:', coupon_details[1])\n",
    "            print('Coupon ID:', i)\n",
    "            print('Brand:', coupon_details[2])\n",
    "            print('Source:', coupon_details[3])\n",
    "            print('Expiry Date:', coupon_details[4])\n",
    "            print('Quantity:', coupon_details[5])\n",
    "            print('***********------------------**************')\n",
    "\n",
    "    setattr(classname,methodname,generate_coupon)"
   ]
  },
  {
   "cell_type": "code",
   "execution_count": 38,
   "id": "2a2363ec",
   "metadata": {},
   "outputs": [],
   "source": [
    "for method,var in zip(['generate_condiments_coupon','generate_snacks_coupon','generate_desserts_coupon'],SimpleCoupon.coupon_details):\n",
    "    create_coupon(SimpleCoupon, method,var)"
   ]
  },
  {
   "cell_type": "code",
   "execution_count": 39,
   "id": "a3917c92",
   "metadata": {},
   "outputs": [
    {
     "data": {
      "text/plain": [
       "['__class__',\n",
       " '__delattr__',\n",
       " '__dict__',\n",
       " '__dir__',\n",
       " '__doc__',\n",
       " '__eq__',\n",
       " '__format__',\n",
       " '__ge__',\n",
       " '__getattribute__',\n",
       " '__gt__',\n",
       " '__hash__',\n",
       " '__init__',\n",
       " '__init_subclass__',\n",
       " '__le__',\n",
       " '__lt__',\n",
       " '__module__',\n",
       " '__ne__',\n",
       " '__new__',\n",
       " '__reduce__',\n",
       " '__reduce_ex__',\n",
       " '__repr__',\n",
       " '__setattr__',\n",
       " '__sizeof__',\n",
       " '__str__',\n",
       " '__subclasshook__',\n",
       " '__weakref__',\n",
       " 'coupon_details',\n",
       " 'generate_condiments_coupon',\n",
       " 'generate_desserts_coupon',\n",
       " 'generate_snacks_coupon']"
      ]
     },
     "execution_count": 39,
     "metadata": {},
     "output_type": "execute_result"
    }
   ],
   "source": [
    "dir(SimpleCoupon)"
   ]
  },
  {
   "cell_type": "code",
   "execution_count": 40,
   "id": "cc8579b1",
   "metadata": {},
   "outputs": [
    {
     "name": "stdout",
     "output_type": "stream",
     "text": [
      "***********------------------**************\n",
      "Product: Honey Mustard Sauce\n",
      "Product Category: Condiments\n",
      "Coupon ID: 680247765255\n",
      "Brand: ABCBrand3\n",
      "Source: Pasadena Store\n",
      "Expiry Date: 10/1/2021\n",
      "Quantity: 2\n",
      "***********------------------**************\n"
     ]
    }
   ],
   "source": [
    "SimpleCoupon.generate_condiments_coupon(SimpleCoupon.coupon_details[0])"
   ]
  },
  {
   "cell_type": "code",
   "execution_count": 41,
   "id": "4bc23607",
   "metadata": {},
   "outputs": [
    {
     "name": "stdout",
     "output_type": "stream",
     "text": [
      "***********------------------**************\n",
      "Product: Potato Chips\n",
      "Product Category: Snacks\n",
      "Coupon ID: 337343504484\n",
      "Brand: ABCBrand1\n",
      "Source: Manhattan Store\n",
      "Expiry Date: 10/1/2021\n",
      "Quantity: 2\n",
      "***********------------------**************\n"
     ]
    }
   ],
   "source": [
    "SimpleCoupon.generate_snacks_coupon(SimpleCoupon.coupon_details[1])"
   ]
  },
  {
   "cell_type": "code",
   "execution_count": 42,
   "id": "a5e5239f",
   "metadata": {},
   "outputs": [
    {
     "name": "stdout",
     "output_type": "stream",
     "text": [
      "***********------------------**************\n",
      "Product: Strawberry Ice Cream\n",
      "Product Category: Desserts\n",
      "Coupon ID: 733277203486\n",
      "Brand: ABCBrand3\n",
      "Source: ABC Manufacturer\n",
      "Expiry Date: 10/1/2021\n",
      "Quantity: 2\n",
      "***********------------------**************\n"
     ]
    }
   ],
   "source": [
    "SimpleCoupon.generate_desserts_coupon(SimpleCoupon.coupon_details[2])"
   ]
  },
  {
   "cell_type": "markdown",
   "id": "b166df8f",
   "metadata": {},
   "source": [
    "#### These are all the examples covered in this chapter"
   ]
  },
  {
   "cell_type": "code",
   "execution_count": null,
   "id": "e160da71",
   "metadata": {},
   "outputs": [],
   "source": []
  }
 ],
 "metadata": {
  "kernelspec": {
   "display_name": "Python 3",
   "language": "python",
   "name": "python3"
  },
  "language_info": {
   "codemirror_mode": {
    "name": "ipython",
    "version": 3
   },
   "file_extension": ".py",
   "mimetype": "text/x-python",
   "name": "python",
   "nbconvert_exporter": "python",
   "pygments_lexer": "ipython3",
   "version": "3.9.5"
  }
 },
 "nbformat": 4,
 "nbformat_minor": 5
}
