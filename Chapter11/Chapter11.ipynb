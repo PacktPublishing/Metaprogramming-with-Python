{
 "cells": [
  {
   "cell_type": "markdown",
   "id": "1c2b012b",
   "metadata": {},
   "source": [
    "## Chapter 11"
   ]
  },
  {
   "cell_type": "markdown",
   "id": "9061f08a",
   "metadata": {},
   "source": [
    "### Exploring type for dynamic objects"
   ]
  },
  {
   "cell_type": "code",
   "execution_count": 1,
   "id": "f68ecc48",
   "metadata": {},
   "outputs": [
    {
     "data": {
      "text/plain": [
       "type"
      ]
     },
     "execution_count": 1,
     "metadata": {},
     "output_type": "execute_result"
    }
   ],
   "source": [
    "type(object)"
   ]
  },
  {
   "cell_type": "code",
   "execution_count": 2,
   "id": "185b9a07",
   "metadata": {},
   "outputs": [],
   "source": [
    "class Branch:\n",
    "    '''attributes...'''\n",
    "    \n",
    "    '''methods...'''\n",
    "    pass"
   ]
  },
  {
   "cell_type": "code",
   "execution_count": 3,
   "id": "63b5f631",
   "metadata": {},
   "outputs": [],
   "source": [
    "branchAlbany = type('Branch', (object,), {'branchID' : 123, \n",
    "                               'branchStreet' : '123 Main Street',\n",
    "                                         'branchCity' : 'Albany',\n",
    "                                         'branchState' : 'New York',\n",
    "                                         'branchZip' : 12084})"
   ]
  },
  {
   "cell_type": "code",
   "execution_count": 4,
   "id": "61122c35",
   "metadata": {},
   "outputs": [
    {
     "data": {
      "text/plain": [
       "__main__.Branch"
      ]
     },
     "execution_count": 4,
     "metadata": {},
     "output_type": "execute_result"
    }
   ],
   "source": [
    "branchAlbany"
   ]
  },
  {
   "cell_type": "code",
   "execution_count": 5,
   "id": "a1422f59",
   "metadata": {},
   "outputs": [
    {
     "data": {
      "text/plain": [
       "<function Branch.mro()>"
      ]
     },
     "execution_count": 5,
     "metadata": {},
     "output_type": "execute_result"
    }
   ],
   "source": [
    "branchAlbany.mro"
   ]
  },
  {
   "cell_type": "code",
   "execution_count": 6,
   "id": "af8b7bdb",
   "metadata": {},
   "outputs": [
    {
     "data": {
      "text/plain": [
       "123"
      ]
     },
     "execution_count": 6,
     "metadata": {},
     "output_type": "execute_result"
    }
   ],
   "source": [
    "branchAlbany.branchID"
   ]
  },
  {
   "cell_type": "code",
   "execution_count": 7,
   "id": "3786bd86",
   "metadata": {},
   "outputs": [
    {
     "data": {
      "text/plain": [
       "'123 Main Street'"
      ]
     },
     "execution_count": 7,
     "metadata": {},
     "output_type": "execute_result"
    }
   ],
   "source": [
    "branchAlbany.branchStreet"
   ]
  },
  {
   "cell_type": "code",
   "execution_count": 8,
   "id": "ad913368",
   "metadata": {},
   "outputs": [
    {
     "data": {
      "text/plain": [
       "'Albany'"
      ]
     },
     "execution_count": 8,
     "metadata": {},
     "output_type": "execute_result"
    }
   ],
   "source": [
    "branchAlbany.branchCity"
   ]
  },
  {
   "cell_type": "code",
   "execution_count": 9,
   "id": "6540f2f8",
   "metadata": {},
   "outputs": [
    {
     "data": {
      "text/plain": [
       "'New York'"
      ]
     },
     "execution_count": 9,
     "metadata": {},
     "output_type": "execute_result"
    }
   ],
   "source": [
    "branchAlbany.branchState"
   ]
  },
  {
   "cell_type": "code",
   "execution_count": 10,
   "id": "f29905ea",
   "metadata": {},
   "outputs": [
    {
     "data": {
      "text/plain": [
       "12084"
      ]
     },
     "execution_count": 10,
     "metadata": {},
     "output_type": "execute_result"
    }
   ],
   "source": [
    "branchAlbany.branchZip"
   ]
  },
  {
   "cell_type": "code",
   "execution_count": 11,
   "id": "7afb5606",
   "metadata": {},
   "outputs": [
    {
     "data": {
      "text/plain": [
       "['__class__',\n",
       " '__delattr__',\n",
       " '__dict__',\n",
       " '__dir__',\n",
       " '__doc__',\n",
       " '__eq__',\n",
       " '__format__',\n",
       " '__ge__',\n",
       " '__getattribute__',\n",
       " '__gt__',\n",
       " '__hash__',\n",
       " '__init__',\n",
       " '__init_subclass__',\n",
       " '__le__',\n",
       " '__lt__',\n",
       " '__module__',\n",
       " '__ne__',\n",
       " '__new__',\n",
       " '__reduce__',\n",
       " '__reduce_ex__',\n",
       " '__repr__',\n",
       " '__setattr__',\n",
       " '__sizeof__',\n",
       " '__str__',\n",
       " '__subclasshook__',\n",
       " '__weakref__',\n",
       " 'branchCity',\n",
       " 'branchID',\n",
       " 'branchState',\n",
       " 'branchStreet',\n",
       " 'branchZip']"
      ]
     },
     "execution_count": 11,
     "metadata": {},
     "output_type": "execute_result"
    }
   ],
   "source": [
    "dir(branchAlbany)"
   ]
  },
  {
   "cell_type": "code",
   "execution_count": 12,
   "id": "790dca2a",
   "metadata": {},
   "outputs": [
    {
     "data": {
      "text/plain": [
       "['__class__',\n",
       " '__delattr__',\n",
       " '__dict__',\n",
       " '__dir__',\n",
       " '__doc__',\n",
       " '__eq__',\n",
       " '__format__',\n",
       " '__ge__',\n",
       " '__getattribute__',\n",
       " '__gt__',\n",
       " '__hash__',\n",
       " '__init__',\n",
       " '__init_subclass__',\n",
       " '__le__',\n",
       " '__lt__',\n",
       " '__module__',\n",
       " '__ne__',\n",
       " '__new__',\n",
       " '__reduce__',\n",
       " '__reduce_ex__',\n",
       " '__repr__',\n",
       " '__setattr__',\n",
       " '__sizeof__',\n",
       " '__str__',\n",
       " '__subclasshook__',\n",
       " '__weakref__']"
      ]
     },
     "execution_count": 12,
     "metadata": {},
     "output_type": "execute_result"
    }
   ],
   "source": [
    "dir(Branch)"
   ]
  },
  {
   "cell_type": "markdown",
   "id": "64d3997e",
   "metadata": {},
   "source": [
    "#### Create another object with a different set of attributes"
   ]
  },
  {
   "cell_type": "code",
   "execution_count": 13,
   "id": "27efaedb",
   "metadata": {},
   "outputs": [],
   "source": [
    "branchNYC = type('Branch', (object,), {'branchID' : 202, \n",
    "                               'productId': 100001,\n",
    "                               'productName': 'Refrigerator',\n",
    "                               'productBrand': 'Whirlpool'})"
   ]
  },
  {
   "cell_type": "code",
   "execution_count": 14,
   "id": "dd5672ea",
   "metadata": {},
   "outputs": [
    {
     "data": {
      "text/plain": [
       "['__class__',\n",
       " '__delattr__',\n",
       " '__dict__',\n",
       " '__dir__',\n",
       " '__doc__',\n",
       " '__eq__',\n",
       " '__format__',\n",
       " '__ge__',\n",
       " '__getattribute__',\n",
       " '__gt__',\n",
       " '__hash__',\n",
       " '__init__',\n",
       " '__init_subclass__',\n",
       " '__le__',\n",
       " '__lt__',\n",
       " '__module__',\n",
       " '__ne__',\n",
       " '__new__',\n",
       " '__reduce__',\n",
       " '__reduce_ex__',\n",
       " '__repr__',\n",
       " '__setattr__',\n",
       " '__sizeof__',\n",
       " '__str__',\n",
       " '__subclasshook__',\n",
       " '__weakref__',\n",
       " 'branchID',\n",
       " 'productBrand',\n",
       " 'productId',\n",
       " 'productName']"
      ]
     },
     "execution_count": 14,
     "metadata": {},
     "output_type": "execute_result"
    }
   ],
   "source": [
    "dir(branchNYC)"
   ]
  },
  {
   "cell_type": "markdown",
   "id": "5a1d42a7",
   "metadata": {},
   "source": [
    "### Creating multiple instances of a class dynamically"
   ]
  },
  {
   "cell_type": "code",
   "execution_count": 15,
   "id": "7cd8c49d",
   "metadata": {},
   "outputs": [],
   "source": [
    "class Product():\n",
    "    '''attributes...'''\n",
    "    \n",
    "    '''methods...'''\n",
    "    pass"
   ]
  },
  {
   "cell_type": "code",
   "execution_count": 16,
   "id": "f89eaafc",
   "metadata": {},
   "outputs": [],
   "source": [
    "details = [{'branchID' : 202, \n",
    "            'ProductID' : 100002, \n",
    "            'ProductName' : 'Washing Machine',\n",
    "            'ProductBrand' : 'Whirlpool', \n",
    "            'PurchasePrice' : 450, \n",
    "            'ProfitMargin' : 0.19},\n",
    "           {\n",
    "            'productID' : 100902,\n",
    "            'productName' : 'Iphone X',\n",
    "            'productCategory' : 'Electronics',\n",
    "            'unitPrice' : 700\n",
    "           },\n",
    "           {\n",
    "            'branchID' : 2021,\n",
    "            'branchStreet' : '40097 5th Main Street',\n",
    "            'branchBorough' : 'Manhattan',\n",
    "            'branchCity' : 'New York City',\n",
    "            'Product ID': 100003, \n",
    "            'Product Name': 'Washing Machine', \n",
    "            'Product Brand': 'Samsung', \n",
    "            'Purchase Price': 430, \n",
    "            'Profit Margin': 0.18\n",
    "           },\n",
    "          ]"
   ]
  },
  {
   "cell_type": "code",
   "execution_count": 17,
   "id": "6fa60be1",
   "metadata": {},
   "outputs": [
    {
     "data": {
      "text/plain": [
       "[{'branchID': 202,\n",
       "  'ProductID': 100002,\n",
       "  'ProductName': 'Washing Machine',\n",
       "  'ProductBrand': 'Whirlpool',\n",
       "  'PurchasePrice': 450,\n",
       "  'ProfitMargin': 0.19},\n",
       " {'productID': 100902,\n",
       "  'productName': 'Iphone X',\n",
       "  'productCategory': 'Electronics',\n",
       "  'unitPrice': 700},\n",
       " {'branchID': 2021,\n",
       "  'branchStreet': '40097 5th Main Street',\n",
       "  'branchBorough': 'Manhattan',\n",
       "  'branchCity': 'New York City',\n",
       "  'Product ID': 100003,\n",
       "  'Product Name': 'Washing Machine',\n",
       "  'Product Brand': 'Samsung',\n",
       "  'Purchase Price': 430,\n",
       "  'Profit Margin': 0.18}]"
      ]
     },
     "execution_count": 17,
     "metadata": {},
     "output_type": "execute_result"
    }
   ],
   "source": [
    "details"
   ]
  },
  {
   "cell_type": "code",
   "execution_count": 18,
   "id": "7ad2691d",
   "metadata": {},
   "outputs": [],
   "source": [
    "for obj,var in zip(['product1','product2','product3'],details):\n",
    "    globals()[obj] = type('Product', (object,), var)"
   ]
  },
  {
   "cell_type": "code",
   "execution_count": 19,
   "id": "2bc79d26",
   "metadata": {},
   "outputs": [
    {
     "data": {
      "text/plain": [
       "['__class__',\n",
       " '__delattr__',\n",
       " '__dict__',\n",
       " '__dir__',\n",
       " '__doc__',\n",
       " '__eq__',\n",
       " '__format__',\n",
       " '__ge__',\n",
       " '__getattribute__',\n",
       " '__gt__',\n",
       " '__hash__',\n",
       " '__init__',\n",
       " '__init_subclass__',\n",
       " '__le__',\n",
       " '__lt__',\n",
       " '__module__',\n",
       " '__ne__',\n",
       " '__new__',\n",
       " '__reduce__',\n",
       " '__reduce_ex__',\n",
       " '__repr__',\n",
       " '__setattr__',\n",
       " '__sizeof__',\n",
       " '__str__',\n",
       " '__subclasshook__',\n",
       " '__weakref__']"
      ]
     },
     "execution_count": 19,
     "metadata": {},
     "output_type": "execute_result"
    }
   ],
   "source": [
    "dir(Product)"
   ]
  },
  {
   "cell_type": "code",
   "execution_count": 20,
   "id": "b6e914dd",
   "metadata": {},
   "outputs": [
    {
     "data": {
      "text/plain": [
       "['ProductBrand',\n",
       " 'ProductID',\n",
       " 'ProductName',\n",
       " 'ProfitMargin',\n",
       " 'PurchasePrice',\n",
       " '__class__',\n",
       " '__delattr__',\n",
       " '__dict__',\n",
       " '__dir__',\n",
       " '__doc__',\n",
       " '__eq__',\n",
       " '__format__',\n",
       " '__ge__',\n",
       " '__getattribute__',\n",
       " '__gt__',\n",
       " '__hash__',\n",
       " '__init__',\n",
       " '__init_subclass__',\n",
       " '__le__',\n",
       " '__lt__',\n",
       " '__module__',\n",
       " '__ne__',\n",
       " '__new__',\n",
       " '__reduce__',\n",
       " '__reduce_ex__',\n",
       " '__repr__',\n",
       " '__setattr__',\n",
       " '__sizeof__',\n",
       " '__str__',\n",
       " '__subclasshook__',\n",
       " '__weakref__',\n",
       " 'branchID']"
      ]
     },
     "execution_count": 20,
     "metadata": {},
     "output_type": "execute_result"
    }
   ],
   "source": [
    "dir(product1)"
   ]
  },
  {
   "cell_type": "code",
   "execution_count": 21,
   "id": "36e342fe",
   "metadata": {},
   "outputs": [
    {
     "data": {
      "text/plain": [
       "['__class__',\n",
       " '__delattr__',\n",
       " '__dict__',\n",
       " '__dir__',\n",
       " '__doc__',\n",
       " '__eq__',\n",
       " '__format__',\n",
       " '__ge__',\n",
       " '__getattribute__',\n",
       " '__gt__',\n",
       " '__hash__',\n",
       " '__init__',\n",
       " '__init_subclass__',\n",
       " '__le__',\n",
       " '__lt__',\n",
       " '__module__',\n",
       " '__ne__',\n",
       " '__new__',\n",
       " '__reduce__',\n",
       " '__reduce_ex__',\n",
       " '__repr__',\n",
       " '__setattr__',\n",
       " '__sizeof__',\n",
       " '__str__',\n",
       " '__subclasshook__',\n",
       " '__weakref__',\n",
       " 'productCategory',\n",
       " 'productID',\n",
       " 'productName',\n",
       " 'unitPrice']"
      ]
     },
     "execution_count": 21,
     "metadata": {},
     "output_type": "execute_result"
    }
   ],
   "source": [
    "dir(product2)"
   ]
  },
  {
   "cell_type": "code",
   "execution_count": 22,
   "id": "121bc38f",
   "metadata": {},
   "outputs": [
    {
     "data": {
      "text/plain": [
       "['Product Brand',\n",
       " 'Product ID',\n",
       " 'Product Name',\n",
       " 'Profit Margin',\n",
       " 'Purchase Price',\n",
       " '__class__',\n",
       " '__delattr__',\n",
       " '__dict__',\n",
       " '__dir__',\n",
       " '__doc__',\n",
       " '__eq__',\n",
       " '__format__',\n",
       " '__ge__',\n",
       " '__getattribute__',\n",
       " '__gt__',\n",
       " '__hash__',\n",
       " '__init__',\n",
       " '__init_subclass__',\n",
       " '__le__',\n",
       " '__lt__',\n",
       " '__module__',\n",
       " '__ne__',\n",
       " '__new__',\n",
       " '__reduce__',\n",
       " '__reduce_ex__',\n",
       " '__repr__',\n",
       " '__setattr__',\n",
       " '__sizeof__',\n",
       " '__str__',\n",
       " '__subclasshook__',\n",
       " '__weakref__',\n",
       " 'branchBorough',\n",
       " 'branchCity',\n",
       " 'branchID',\n",
       " 'branchStreet']"
      ]
     },
     "execution_count": 22,
     "metadata": {},
     "output_type": "execute_result"
    }
   ],
   "source": [
    "dir(product3)"
   ]
  },
  {
   "cell_type": "markdown",
   "id": "463e7b44",
   "metadata": {},
   "source": [
    "### Creating dynamic classes"
   ]
  },
  {
   "cell_type": "code",
   "execution_count": 23,
   "id": "51aba07e",
   "metadata": {},
   "outputs": [],
   "source": [
    "Product = type('Product', (object,), {'branchID' : 202, \n",
    "                               'productId': 100001,\n",
    "                               'productName': 'Refrigerator',\n",
    "                               'productBrand': 'Whirlpool'})"
   ]
  },
  {
   "cell_type": "code",
   "execution_count": 24,
   "id": "1bda2560",
   "metadata": {},
   "outputs": [
    {
     "data": {
      "text/plain": [
       "__main__.Product"
      ]
     },
     "execution_count": 24,
     "metadata": {},
     "output_type": "execute_result"
    }
   ],
   "source": [
    "Product"
   ]
  },
  {
   "cell_type": "code",
   "execution_count": 25,
   "id": "b0bfb31f",
   "metadata": {},
   "outputs": [
    {
     "data": {
      "text/plain": [
       "type"
      ]
     },
     "execution_count": 25,
     "metadata": {},
     "output_type": "execute_result"
    }
   ],
   "source": [
    "type(Product)"
   ]
  },
  {
   "cell_type": "code",
   "execution_count": 26,
   "id": "ea1ca8f2",
   "metadata": {},
   "outputs": [
    {
     "data": {
      "text/plain": [
       "202"
      ]
     },
     "execution_count": 26,
     "metadata": {},
     "output_type": "execute_result"
    }
   ],
   "source": [
    "Product.branchID"
   ]
  },
  {
   "cell_type": "code",
   "execution_count": 27,
   "id": "6f310843",
   "metadata": {},
   "outputs": [
    {
     "data": {
      "text/plain": [
       "['__class__',\n",
       " '__delattr__',\n",
       " '__dict__',\n",
       " '__dir__',\n",
       " '__doc__',\n",
       " '__eq__',\n",
       " '__format__',\n",
       " '__ge__',\n",
       " '__getattribute__',\n",
       " '__gt__',\n",
       " '__hash__',\n",
       " '__init__',\n",
       " '__init_subclass__',\n",
       " '__le__',\n",
       " '__lt__',\n",
       " '__module__',\n",
       " '__ne__',\n",
       " '__new__',\n",
       " '__reduce__',\n",
       " '__reduce_ex__',\n",
       " '__repr__',\n",
       " '__setattr__',\n",
       " '__sizeof__',\n",
       " '__str__',\n",
       " '__subclasshook__',\n",
       " '__weakref__',\n",
       " 'branchID',\n",
       " 'productBrand',\n",
       " 'productId',\n",
       " 'productName']"
      ]
     },
     "execution_count": 27,
     "metadata": {},
     "output_type": "execute_result"
    }
   ],
   "source": [
    "dir(Product)"
   ]
  },
  {
   "cell_type": "markdown",
   "id": "e9776fe3",
   "metadata": {},
   "source": [
    "#### Creating multiple dynamic classes"
   ]
  },
  {
   "cell_type": "code",
   "execution_count": 57,
   "id": "088dffbd",
   "metadata": {},
   "outputs": [],
   "source": [
    "def setBranch(branch):\n",
    "        return branch\n",
    "    \n",
    "def setSales(sales):\n",
    "        return sales\n",
    "    \n",
    "def setProduct(product):\n",
    "        return product"
   ]
  },
  {
   "cell_type": "code",
   "execution_count": 58,
   "id": "6e7e9fc7",
   "metadata": {},
   "outputs": [],
   "source": [
    "details = [{'branch': 202,\n",
    "            'setBranch' : setBranch\n",
    "  },\n",
    " {'purchasePrice': 430,\n",
    "  'setSales' : setSales\n",
    "  },\n",
    " {'product': 100902,\n",
    "  'setProduct' : setProduct\n",
    "  }]"
   ]
  },
  {
   "cell_type": "code",
   "execution_count": 59,
   "id": "dc45d430",
   "metadata": {},
   "outputs": [],
   "source": [
    "for cls,var in zip(['productcls1','productcls2','productcls3'],details):\n",
    "    globals()[cls] = type(cls, (object,), var)"
   ]
  },
  {
   "cell_type": "code",
   "execution_count": 63,
   "id": "4aeeb832",
   "metadata": {},
   "outputs": [
    {
     "data": {
      "text/plain": [
       "202"
      ]
     },
     "execution_count": 63,
     "metadata": {},
     "output_type": "execute_result"
    }
   ],
   "source": [
    "productcls1.setBranch(productcls1.branch)"
   ]
  },
  {
   "cell_type": "code",
   "execution_count": 64,
   "id": "92519559",
   "metadata": {},
   "outputs": [
    {
     "data": {
      "text/plain": [
       "430"
      ]
     },
     "execution_count": 64,
     "metadata": {},
     "output_type": "execute_result"
    }
   ],
   "source": [
    "productcls2.setSales(productcls2.purchasePrice)"
   ]
  },
  {
   "cell_type": "code",
   "execution_count": 66,
   "id": "59363f8e",
   "metadata": {},
   "outputs": [
    {
     "data": {
      "text/plain": [
       "100902"
      ]
     },
     "execution_count": 66,
     "metadata": {},
     "output_type": "execute_result"
    }
   ],
   "source": [
    "productcls3.setProduct(productcls3.product)"
   ]
  },
  {
   "cell_type": "markdown",
   "id": "15549dba",
   "metadata": {},
   "source": [
    "### Creating dynamic attributes and methods"
   ]
  },
  {
   "cell_type": "code",
   "execution_count": 2,
   "id": "f339988b",
   "metadata": {},
   "outputs": [],
   "source": [
    "class SimpleCoupon:\n",
    "    '''attributes...'''\n",
    "    \n",
    "    '''methods...'''\n",
    "    pass"
   ]
  },
  {
   "cell_type": "code",
   "execution_count": 3,
   "id": "f5abe9c4",
   "metadata": {},
   "outputs": [],
   "source": [
    "setattr(SimpleCoupon,'couponDetails',[[\"Honey Mustard Sauce\",\"Condiments\",\"ABCBrand3\",\"Pasadena Store\",\"10/1/2021\",2],\n",
    "                              [\"Potato Chips\",\"Snacks\",\"ABCBrand1\",\"Manhattan Store\",\"10/1/2021\",2],\n",
    "                              [\"Strawberry Ice Cream\",\"Desserts\",\"ABCBrand3\",\"ABC Manufacturer\",\"10/1/2021\",2]])"
   ]
  },
  {
   "cell_type": "code",
   "execution_count": 4,
   "id": "54e81518",
   "metadata": {},
   "outputs": [
    {
     "data": {
      "text/plain": [
       "['__class__',\n",
       " '__delattr__',\n",
       " '__dict__',\n",
       " '__dir__',\n",
       " '__doc__',\n",
       " '__eq__',\n",
       " '__format__',\n",
       " '__ge__',\n",
       " '__getattribute__',\n",
       " '__gt__',\n",
       " '__hash__',\n",
       " '__init__',\n",
       " '__init_subclass__',\n",
       " '__le__',\n",
       " '__lt__',\n",
       " '__module__',\n",
       " '__ne__',\n",
       " '__new__',\n",
       " '__reduce__',\n",
       " '__reduce_ex__',\n",
       " '__repr__',\n",
       " '__setattr__',\n",
       " '__sizeof__',\n",
       " '__str__',\n",
       " '__subclasshook__',\n",
       " '__weakref__',\n",
       " 'couponDetails']"
      ]
     },
     "execution_count": 4,
     "metadata": {},
     "output_type": "execute_result"
    }
   ],
   "source": [
    "dir(SimpleCoupon)"
   ]
  },
  {
   "cell_type": "code",
   "execution_count": 5,
   "id": "3e4f42a0",
   "metadata": {},
   "outputs": [],
   "source": [
    "def createCoupon(classname,methodname,couponDetails):\n",
    "\n",
    "    def generateCoupon(couponDetails):\n",
    "        import random\n",
    "        couponId =  random.sample(range(100000000000,900000000000),1)\n",
    "        for i in couponId:\n",
    "            print('***********------------------**************')\n",
    "            print('Product:', couponDetails[0])\n",
    "            print('Product Category:', couponDetails[1])\n",
    "            print('Coupon ID:', i)\n",
    "            print('Brand:', couponDetails[2])\n",
    "            print('Source:', couponDetails[3])\n",
    "            print('Expiry Date:', couponDetails[4])\n",
    "            print('Quantity:', couponDetails[5])\n",
    "            print('***********------------------**************')\n",
    "\n",
    "    setattr(classname,methodname,generateCoupon)"
   ]
  },
  {
   "cell_type": "code",
   "execution_count": 6,
   "id": "2a2363ec",
   "metadata": {},
   "outputs": [],
   "source": [
    "for method,var in zip(['generateCondimentsCoupon','generateSnacksCoupon','generateDessertsCoupon'],SimpleCoupon.couponDetails):\n",
    "    createCoupon(SimpleCoupon, method,var)"
   ]
  },
  {
   "cell_type": "code",
   "execution_count": 7,
   "id": "a3917c92",
   "metadata": {},
   "outputs": [
    {
     "data": {
      "text/plain": [
       "['__class__',\n",
       " '__delattr__',\n",
       " '__dict__',\n",
       " '__dir__',\n",
       " '__doc__',\n",
       " '__eq__',\n",
       " '__format__',\n",
       " '__ge__',\n",
       " '__getattribute__',\n",
       " '__gt__',\n",
       " '__hash__',\n",
       " '__init__',\n",
       " '__init_subclass__',\n",
       " '__le__',\n",
       " '__lt__',\n",
       " '__module__',\n",
       " '__ne__',\n",
       " '__new__',\n",
       " '__reduce__',\n",
       " '__reduce_ex__',\n",
       " '__repr__',\n",
       " '__setattr__',\n",
       " '__sizeof__',\n",
       " '__str__',\n",
       " '__subclasshook__',\n",
       " '__weakref__',\n",
       " 'couponDetails',\n",
       " 'generateCondimentsCoupon',\n",
       " 'generateDessertsCoupon',\n",
       " 'generateSnacksCoupon']"
      ]
     },
     "execution_count": 7,
     "metadata": {},
     "output_type": "execute_result"
    }
   ],
   "source": [
    "dir(SimpleCoupon)"
   ]
  },
  {
   "cell_type": "code",
   "execution_count": 131,
   "id": "cc8579b1",
   "metadata": {},
   "outputs": [
    {
     "name": "stdout",
     "output_type": "stream",
     "text": [
      "***********------------------**************\n",
      "Product: Honey Mustard Sauce\n",
      "Product Category: Condiments\n",
      "Coupon ID: 666849488635\n",
      "Brand: ABCBrand3\n",
      "Source: Pasadena Store\n",
      "Expiry Date: 10/1/2021\n",
      "Quantity: 2\n",
      "***********------------------**************\n"
     ]
    }
   ],
   "source": [
    "SimpleCoupon.generateCondimentsCoupon(SimpleCoupon.couponDetails[0])"
   ]
  },
  {
   "cell_type": "code",
   "execution_count": 9,
   "id": "4bc23607",
   "metadata": {},
   "outputs": [
    {
     "name": "stdout",
     "output_type": "stream",
     "text": [
      "***********------------------**************\n",
      "Product: Potato Chips\n",
      "Product Category: Snacks\n",
      "Coupon ID: 394693383743\n",
      "Brand: ABCBrand1\n",
      "Source: Manhattan Store\n",
      "Expiry Date: 10/1/2021\n",
      "Quantity: 2\n",
      "***********------------------**************\n"
     ]
    }
   ],
   "source": [
    "SimpleCoupon.generateSnacksCoupon(SimpleCoupon.couponDetails[1])"
   ]
  },
  {
   "cell_type": "code",
   "execution_count": 133,
   "id": "a5e5239f",
   "metadata": {},
   "outputs": [
    {
     "name": "stdout",
     "output_type": "stream",
     "text": [
      "***********------------------**************\n",
      "Product: Strawberry Ice Cream\n",
      "Product Category: Desserts\n",
      "Coupon ID: 813638596228\n",
      "Brand: ABCBrand3\n",
      "Source: ABC Manufacturer\n",
      "Expiry Date: 10/1/2021\n",
      "Quantity: 2\n",
      "***********------------------**************\n"
     ]
    }
   ],
   "source": [
    "SimpleCoupon.generateDessertsCoupon(SimpleCoupon.couponDetails[2])"
   ]
  },
  {
   "cell_type": "markdown",
   "id": "b166df8f",
   "metadata": {},
   "source": [
    "#### These are all the examples covered in this chapter"
   ]
  },
  {
   "cell_type": "code",
   "execution_count": null,
   "id": "e160da71",
   "metadata": {},
   "outputs": [],
   "source": []
  }
 ],
 "metadata": {
  "kernelspec": {
   "display_name": "Python 3 (ipykernel)",
   "language": "python",
   "name": "python3"
  },
  "language_info": {
   "codemirror_mode": {
    "name": "ipython",
    "version": 3
   },
   "file_extension": ".py",
   "mimetype": "text/x-python",
   "name": "python",
   "nbconvert_exporter": "python",
   "pygments_lexer": "ipython3",
   "version": "3.9.6"
  }
 },
 "nbformat": 4,
 "nbformat_minor": 5
}
