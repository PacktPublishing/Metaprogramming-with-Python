{
 "cells": [
  {
   "cell_type": "markdown",
   "metadata": {},
   "source": [
    "# Chapter 8 - Templates"
   ]
  },
  {
   "cell_type": "markdown",
   "metadata": {},
   "source": [
    "## Vegetable counter - Definition"
   ]
  },
  {
   "cell_type": "code",
   "execution_count": 1,
   "metadata": {},
   "outputs": [],
   "source": [
    "def return_cart(*items):\n",
    "    cart_items = []\n",
    "    for i in items:\n",
    "        cart_items.append(i)\n",
    "    return cart_items"
   ]
  },
  {
   "cell_type": "code",
   "execution_count": 2,
   "metadata": {},
   "outputs": [],
   "source": [
    "def return_cart(*items):\n",
    "    return list(items)"
   ]
  },
  {
   "cell_type": "code",
   "execution_count": 3,
   "metadata": {},
   "outputs": [],
   "source": [
    "return_cart('onions','tomatoes','carrots','lettuce')"
   ]
  },
  {
   "cell_type": "code",
   "execution_count": 4,
   "metadata": {},
   "outputs": [],
   "source": [
    "class VegCounter():\n",
    "    def return_cart(self,*items):\n",
    "        cart_items = list(items)\n",
    "        return cart_items\n",
    "    \n",
    "    def goto_vege_counter(self):\n",
    "        return 'Vegetables & Dairy'\n",
    "    \n",
    "    def weigh_items(self,*weights,cart_items = None):\n",
    "        weight = list(weights)\n",
    "        item_weight = dict(zip(cart_items, weight))\n",
    "        return item_weight\n",
    "        \n",
    "    def add_price_tag(self,*units,weights = None):\n",
    "        pricetag = []\n",
    "        for item,price in zip(weights.items(),list(units)):\n",
    "            pricetag.append(item[1]*price)\n",
    "        return pricetag\n",
    "    \n",
    "    def scan_bar_code(self,*scan):\n",
    "        codes = list(scan)\n",
    "        return codes\n",
    "          \n",
    "    def add_billing(self,codes=None,pricetag=None):\n",
    "        self.codes = codes\n",
    "        self.pricetag = pricetag\n",
    "        bill = dict(zip(self.codes, self.pricetag))\n",
    "        return bill\n",
    "        \n",
    "    def add_tax(self,*tax):\n",
    "        taxed = list(tax)\n",
    "        return taxed\n",
    "    \n",
    "    def calc_bill(self,bill,taxes,cart_items):\n",
    "        items = []\n",
    "        calc_bill = []\n",
    "        for item,tax in zip(bill.items(),taxes):\n",
    "            items.append(item[1])\n",
    "            calc_bill.append(item[1] + item[1]*tax)\n",
    "        finalbill = dict(zip(cart_items, calc_bill))\n",
    "        return finalbill\n",
    "        \n",
    "    def print_invoice(self,finalbill):\n",
    "        final_total = sum(finalbill.values())\n",
    "        print('**************ABC Megamart*****************')\n",
    "        print('***********------------------**************')\n",
    "        print('Counter Name: ', self.goto_vege_counter())\n",
    "        for item,price in finalbill.items():\n",
    "            print(item,\": \", price)\n",
    "        print('Total:',final_total)\n",
    "        print('***********------------------**************')\n",
    "    \n",
    "    def receive_payment(self,finalbill):\n",
    "        final_total = sum(finalbill.values())\n",
    "        print('**************ABC Megamart*****************')\n",
    "        print('***********------------------**************')\n",
    "        print('Counter Name: ', self.goto_vege_counter())\n",
    "        for item,price in finalbill.items():\n",
    "            print(item,\": \", price)\n",
    "        print('Total:',final_total)\n",
    "        print('***********------------------**************')\n",
    "        print('***************PAID************************')"
   ]
  },
  {
   "cell_type": "code",
   "execution_count": 5,
   "metadata": {},
   "outputs": [],
   "source": [
    "veg = VegCounter()\n",
    "cart = veg.return_cart('onions','tomatoes','carrots','lettuce')\n",
    "item_weight = veg.weigh_items(1,2,1.5,2.5,cart_items = cart)\n",
    "pricetag = veg.add_price_tag(7,2,3,5,weights = item_weight)\n",
    "codes = veg.scan_bar_code(113323,3434332,2131243,2332783)\n",
    "bill = veg.add_billing(codes,pricetag)\n",
    "taxes = veg.add_tax(0.04,0.03,0.035,0.025)\n",
    "finalbill = veg.calc_bill(bill,taxes,cart)"
   ]
  },
  {
   "cell_type": "code",
   "execution_count": 6,
   "metadata": {},
   "outputs": [],
   "source": [
    "veg.print_invoice(finalbill)"
   ]
  },
  {
   "cell_type": "code",
   "execution_count": 7,
   "metadata": {},
   "outputs": [],
   "source": [
    "veg.receive_payment(finalbill)"
   ]
  },
  {
   "cell_type": "markdown",
   "metadata": {},
   "source": [
    "## Less than 10 items counter"
   ]
  },
  {
   "cell_type": "code",
   "execution_count": 8,
   "metadata": {},
   "outputs": [],
   "source": [
    "class LessThan10Counter():\n",
    "    def return_cart(self,*items):\n",
    "        cart_items = list(items)\n",
    "        return cart_items\n",
    "    \n",
    "    def goto_less_t10_counter(self):\n",
    "        return 'Less than 10 counter'\n",
    "    \n",
    "    def review_items(self,item_type = None):\n",
    "        veg_cart = ['Vegetables', 'Dairy', 'Fruits']\n",
    "        if (item_type == 'Electronics'):\n",
    "            print(\"Move to Electronics Counter\")\n",
    "        elif (item_type in veg_cart):        \n",
    "            print(\"Move to Vege Counter\")\n",
    "            \n",
    "    def count_items(self,cart_items = None):\n",
    "        if len(cart_items)<=10:\n",
    "            print(\"Move to Less than 10 items counter\")\n",
    "        else:\n",
    "            print(\"Move to Greater than 10 items counter\")\n",
    "    \n",
    "    def scan_bar_code(self,*scan):\n",
    "        codes = list(scan)\n",
    "        return codes\n",
    "          \n",
    "    def add_billing(self,*units,codes=None):\n",
    "        pricetag = []\n",
    "        for i in units:\n",
    "            pricetag.append(i)\n",
    "        bill = dict(zip(codes, pricetag))\n",
    "        return bill\n",
    "        \n",
    "    def add_tax(self,*tax):\n",
    "        taxed = list(tax)\n",
    "        return taxed\n",
    "    \n",
    "    def calc_bill(self,bill,taxes,cart_items):\n",
    "        items = []\n",
    "        cart_items = cart_items\n",
    "        calc_bill = []\n",
    "        for item,tax in zip(bill.items(),taxes):\n",
    "            items.append(item[1])\n",
    "            calc_bill.append(item[1] + item[1]*tax)\n",
    "        finalbill = dict(zip(cart_items, calc_bill))\n",
    "        return finalbill\n",
    "        \n",
    "    def print_invoice(self,finalbill):\n",
    "        final_total = sum(finalbill.values())\n",
    "        print('**************ABC Megamart*****************')\n",
    "        print('***********------------------**************')\n",
    "        print('Counter Name: ', self.goto_less_t10_counter())\n",
    "        for item,price in finalbill.items():\n",
    "            print(item,\": \", price)\n",
    "        print('Total:',final_total)\n",
    "        print('***********------------------**************')\n",
    "    \n",
    "    def receive_payment(self,finalbill):\n",
    "        final_total = sum(finalbill.values())\n",
    "        print('**************ABC Megamart*****************')\n",
    "        print('***********------------------**************')\n",
    "        print('Counter Name: ', self.goto_less_t10_counter())\n",
    "        for item,price in finalbill.items():\n",
    "            print(item,\": \", price)\n",
    "        print('Total:',final_total)\n",
    "        print('***********------------------**************')\n",
    "        print('***************PAID************************')"
   ]
  },
  {
   "cell_type": "code",
   "execution_count": 9,
   "metadata": {},
   "outputs": [],
   "source": [
    "less10 = LessThan10Counter()\n",
    "cart = less10.return_cart('paperclips','blue pens','stapler','pencils')\n",
    "less10.review_items(item_type = ['stationary'])\n",
    "less10.count_items(cart)\n",
    "codes = less10.scan_bar_code(113323,3434332,2131243,2332783)\n",
    "bill = less10.add_billing(10,15,12,14,codes = codes)\n",
    "taxes = less10.add_tax(0.04,0.03,0.035,0.025)\n",
    "finalbill = less10.calc_bill(bill,taxes,cart)"
   ]
  },
  {
   "cell_type": "code",
   "execution_count": 10,
   "metadata": {},
   "outputs": [],
   "source": [
    "less10.print_invoice(finalbill)"
   ]
  },
  {
   "cell_type": "code",
   "execution_count": 11,
   "metadata": {},
   "outputs": [],
   "source": [
    "less10.receive_payment(finalbill)"
   ]
  },
  {
   "cell_type": "markdown",
   "metadata": {},
   "source": [
    "## Greater than 10 items counter"
   ]
  },
  {
   "cell_type": "code",
   "execution_count": 12,
   "metadata": {},
   "outputs": [],
   "source": [
    "class GreaterThan10Counter():\n",
    "    def return_cart(self,*items):\n",
    "        cart_items = list(items)\n",
    "        return cart_items\n",
    "    \n",
    "    def goto_greater_t10_counter(self):\n",
    "        return 'Greater than 10 counter'\n",
    "    \n",
    "    def review_items(self,item_type = None):\n",
    "        veg_cart = ['Vegetables', 'Dairy', 'Fruits']\n",
    "        if (item_type == 'Electronics'):\n",
    "            print(\"Move to Electronics Counter\")\n",
    "        elif (item_type in veg_cart):        \n",
    "            print(\"Move to Vege Counter\")\n",
    "            \n",
    "    def count_items(self,cart_items = None):\n",
    "        if len(cart_items)>10:\n",
    "            print(\"Move to Greater than 10 items counter\")\n",
    "        else:\n",
    "            print(\"Move to Less than 10 items counter\")\n",
    "    \n",
    "    def scan_bar_code(self,*scan):\n",
    "        codes = list(scan)\n",
    "        return codes\n",
    "          \n",
    "    def add_billing(self,*units,codes=None):\n",
    "        self.codes = codes\n",
    "        pricetag = []\n",
    "        for i in units:\n",
    "            pricetag.append(i)\n",
    "        bill = dict(zip(self.codes, pricetag))\n",
    "        return bill\n",
    "    \n",
    "    def apply_coupon(self):\n",
    "        coupon_discount = 0.1\n",
    "        return coupon_discount        \n",
    "        \n",
    "    def add_tax(self,*tax):\n",
    "        taxed = list(tax)\n",
    "        return taxed\n",
    "    \n",
    "    def calc_bill(self,bill,taxes,cart_items):\n",
    "        items = []\n",
    "        cart_items = cart_items\n",
    "        calc_bill = []\n",
    "        for item,tax in zip(bill.items(),taxes):\n",
    "            items.append(item[1])\n",
    "            calc_bill.append(item[1] + item[1]*tax)\n",
    "        finalbill = dict(zip(cart_items, calc_bill))\n",
    "        return finalbill\n",
    "        \n",
    "    def print_invoice(self,finalbill):\n",
    "        final_total = sum(finalbill.values())\n",
    "        print('**************ABC Megamart*****************')\n",
    "        print('***********------------------**************')\n",
    "        print('Counter Name: ', self.goto_greater_t10_counter())\n",
    "        for item,price in finalbill.items():\n",
    "            print(item,\": \", price)\n",
    "        print('Total:',final_total - final_total * self.apply_coupon())\n",
    "        print('***********------------------**************')\n",
    "    \n",
    "    def receive_payment(self,finalbill):\n",
    "        final_total = sum(finalbill.values())\n",
    "        print('**************ABC Megamart*****************')\n",
    "        print('***********------------------**************')\n",
    "        print('Counter Name: ', self.goto_greater_t10_counter())\n",
    "        for item,price in finalbill.items():\n",
    "            print(item,\": \", price)\n",
    "        print('Total:',final_total - final_total * self.apply_coupon())\n",
    "        print('***********------------------**************')\n",
    "        print('***************PAID************************')"
   ]
  },
  {
   "cell_type": "code",
   "execution_count": 13,
   "metadata": {},
   "outputs": [],
   "source": [
    "greater = GreaterThan10Counter()\n",
    "cart = greater.return_cart('paper clips','blue pens','stapler','pencils','a4paper','a3paper','chart',\n",
    "                          'sketch pens','canvas','water color','acrylic colors')\n",
    "greater.review_items(item_type = ['stationary'])\n",
    "greater.count_items(cart)"
   ]
  },
  {
   "cell_type": "code",
   "execution_count": 14,
   "metadata": {},
   "outputs": [],
   "source": [
    "codes = greater.scan_bar_code(113323,3434332,2131243,2332783)\n",
    "bill = greater.add_billing(10,15,12,14,codes = codes)\n",
    "taxes = greater.add_tax(0.04,0.03,0.035,0.025)\n",
    "greater.apply_coupon()"
   ]
  },
  {
   "cell_type": "code",
   "execution_count": 15,
   "metadata": {},
   "outputs": [],
   "source": [
    "finalbill = greater.calc_bill(bill,taxes,cart)"
   ]
  },
  {
   "cell_type": "code",
   "execution_count": 16,
   "metadata": {},
   "outputs": [],
   "source": [
    "greater.print_invoice(finalbill)"
   ]
  },
  {
   "cell_type": "code",
   "execution_count": 17,
   "metadata": {},
   "outputs": [],
   "source": [
    "greater.receive_payment(finalbill)"
   ]
  },
  {
   "cell_type": "markdown",
   "metadata": {},
   "source": [
    "## Electronics Counter"
   ]
  },
  {
   "cell_type": "code",
   "execution_count": 18,
   "metadata": {},
   "outputs": [],
   "source": [
    "class ElectronicsCounter():\n",
    "    def return_cart(self,*items):\n",
    "        cart_items = list(items)\n",
    "        return cart_items\n",
    "    \n",
    "    def goto_electronics_counter(self):\n",
    "        return 'Electronics counter'\n",
    "    \n",
    "    def review_items(self,item_type = None):\n",
    "        veg_cart = ['Vegetables', 'Dairy', 'Fruits']\n",
    "        if (item_type == 'Electronics'):\n",
    "            print(\"Move to Electronics Counter\")\n",
    "        elif (item_type in veg_cart):        \n",
    "            print(\"Move to Vege Counter\")\n",
    "            \n",
    "    def test_electronics(self,*status):\n",
    "        teststatus = list(status)\n",
    "        return teststatus\n",
    "    \n",
    "    def scan_bar_code(self,*scan):\n",
    "        codes = list(scan)\n",
    "        return codes\n",
    "          \n",
    "    def add_billing(self,*units,codes=None):\n",
    "        self.codes = codes\n",
    "        pricetag = []\n",
    "        for i in units:\n",
    "            pricetag.append(i)\n",
    "        bill = dict(zip(self.codes, pricetag))\n",
    "        return bill\n",
    "        \n",
    "    def add_tax(self,*tax):\n",
    "        taxed = list(tax)\n",
    "        return taxed\n",
    "    \n",
    "    def apply_coupon(self):\n",
    "        coupon_discount = 0.1\n",
    "        return coupon_discount\n",
    "    \n",
    "    def calc_bill(self,bill,taxes,cart_items):\n",
    "        items = []\n",
    "        calc_bill = []\n",
    "        for item,tax in zip(bill.items(),taxes):\n",
    "            items.append(item[1])\n",
    "            calc_bill.append(item[1] + item[1]*tax)\n",
    "        finalbill = dict(zip(cart_items, calc_bill))\n",
    "        return finalbill\n",
    "        \n",
    "    def print_invoice(self,finalbill):\n",
    "        final_total = sum(finalbill.values())\n",
    "        print('**************ABC Megamart*****************')\n",
    "        print('***********------------------**************')\n",
    "        print('Counter Name: ', self.goto_electronics_counter())\n",
    "        for item,price in finalbill.items():\n",
    "            print(item,\": \", price)\n",
    "        print('Total:',final_total - final_total * self.apply_coupon())\n",
    "        print('***********------------------**************')\n",
    "    \n",
    "    def receive_payment(self,finalbill):\n",
    "        final_total = sum(finalbill.values())\n",
    "        print('**************ABC Megamart*****************')\n",
    "        print('***********------------------**************')\n",
    "        print('Counter Name: ', self.goto_electronics_counter())\n",
    "        for item,price in finalbill.items():\n",
    "            print(item,\": \", price)\n",
    "        print('Total:',final_total)\n",
    "        print('***********------------------**************')\n",
    "        print('***************PAID************************')"
   ]
  },
  {
   "cell_type": "code",
   "execution_count": 19,
   "metadata": {},
   "outputs": [],
   "source": [
    "electronics = ElectronicsCounter()\n",
    "cart = electronics.return_cart('television','keyboard','mouse')\n",
    "electronics.review_items(item_type = ['Electronics'])\n",
    "electronics.test_electronics('pass','pass','pass')"
   ]
  },
  {
   "cell_type": "code",
   "execution_count": 20,
   "metadata": {},
   "outputs": [],
   "source": [
    "codes = electronics.scan_bar_code(113323,3434332,2131243)\n",
    "bill = electronics.add_billing(100,16,14,codes = codes)\n",
    "taxes = electronics.add_tax(0.04,0.03,0.035)\n",
    "electronics.apply_coupon()"
   ]
  },
  {
   "cell_type": "code",
   "execution_count": 21,
   "metadata": {},
   "outputs": [],
   "source": [
    "finalbill = electronics.calc_bill(bill,taxes,cart)"
   ]
  },
  {
   "cell_type": "code",
   "execution_count": 22,
   "metadata": {},
   "outputs": [
    {
     "name": "stdout",
     "output_type": "stream",
     "text": [
      "**************ABC Megamart*****************\n",
      "***********------------------**************\n",
      "Counter Name:  Electronics counter\n",
      "television :  104.0\n",
      "keyboard :  16.48\n",
      "mouse :  14.49\n",
      "Total: 121.473\n",
      "***********------------------**************\n"
     ]
    }
   ],
   "source": [
    "electronics.print_invoice(finalbill)"
   ]
  },
  {
   "cell_type": "code",
   "execution_count": 23,
   "metadata": {},
   "outputs": [
    {
     "name": "stdout",
     "output_type": "stream",
     "text": [
      "**************ABC Megamart*****************\n",
      "***********------------------**************\n",
      "Counter Name:  Electronics counter\n",
      "television :  104.0\n",
      "keyboard :  16.48\n",
      "mouse :  14.49\n",
      "Total: 134.97\n",
      "***********------------------**************\n",
      "***************PAID************************\n"
     ]
    }
   ],
   "source": [
    "electronics.receive_payment(finalbill)"
   ]
  },
  {
   "cell_type": "markdown",
   "metadata": {},
   "source": [
    "### Templates"
   ]
  },
  {
   "cell_type": "code",
   "execution_count": 24,
   "metadata": {},
   "outputs": [],
   "source": [
    "from abc import ABC, abstractmethod \n",
    "\n",
    "class CommonCounter(ABC):\n",
    "    def __init__(self,items,name,scan,units,tax,item_type = None, weights = None, status = None):\n",
    "        self.items = items\n",
    "        self.name = name\n",
    "        self.scan = scan\n",
    "        self.units = units\n",
    "        self.tax = tax\n",
    "        self.item_type = item_type\n",
    "        self.weights = weights\n",
    "        self.status = status\n",
    "        \n",
    "    def return_cart(self):\n",
    "        cart_items = []\n",
    "        for i in self.items:\n",
    "            cart_items.append(i)\n",
    "        return cart_items\n",
    "    \n",
    "    def goto_counter(self):\n",
    "        countername = self.name\n",
    "        return countername\n",
    "\n",
    "    def scan_bar_code(self):\n",
    "        codes = []\n",
    "        for i in self.scan:\n",
    "            codes.append(i)\n",
    "        return codes\n",
    "          \n",
    "    def add_billing(self):\n",
    "        self.codes = self.scan_bar_code()\n",
    "        pricetag = []\n",
    "        for i in self.units:\n",
    "            pricetag.append(i)\n",
    "        bill = dict(zip(self.codes, pricetag))\n",
    "        return bill\n",
    "        \n",
    "    def add_tax(self):\n",
    "        taxed = []\n",
    "        for i in self.tax:\n",
    "            taxed.append(i)\n",
    "        return taxed\n",
    "    \n",
    "    def calc_bill(self):\n",
    "        bill = self.add_billing()\n",
    "        items = []\n",
    "        cart_items = self.return_cart()\n",
    "        calc_bill = []\n",
    "        taxes = self.add_tax()\n",
    "        for item,tax in zip(bill.items(),taxes):\n",
    "            items.append(item[1])\n",
    "            calc_bill.append(item[1] + item[1]*tax)\n",
    "        finalbill = dict(zip(cart_items, calc_bill))\n",
    "        return finalbill\n",
    "        \n",
    "    def receive_payment(self):\n",
    "        finalbill = self.calc_bill()\n",
    "        final_total = sum(finalbill.values())\n",
    "        print('**************ABC Megamart*****************')\n",
    "        print('***********------------------**************')\n",
    "        print('Counter Name: ', self.goto_counter())\n",
    "        for item,price in finalbill.items():\n",
    "            print(item,\": \", price)\n",
    "        print('Total:',final_total)\n",
    "        print('***********------------------**************')\n",
    "        print('***************PAID************************')\n",
    "    \n",
    "    def apply_coupon(self):\n",
    "        return 0\n",
    "          \n",
    "    def weigh_items(self):\n",
    "        pass\n",
    "        \n",
    "    def add_price_tag(self):\n",
    "        pass\n",
    "        \n",
    "    def count_items(self):\n",
    "        pass\n",
    "        \n",
    "    def test_electronics(self):\n",
    "        pass\n",
    "        \n",
    "    @abstractmethod\n",
    "    def review_items(self):\n",
    "        pass\n",
    "    \n",
    "    def pipeline_template(self):\n",
    "        self.return_cart()\n",
    "        self.goto_counter()\n",
    "        self.review_items()\n",
    "        self.count_items()\n",
    "        self.test_electronics()\n",
    "        self.weigh_items()\n",
    "        self.add_price_tag()\n",
    "        self.scan_bar_code()\n",
    "        self.add_billing()\n",
    "        self.add_tax()\n",
    "        self.apply_coupon()\n",
    "        self.calc_bill()\n",
    "        self.receive_payment()"
   ]
  },
  {
   "cell_type": "code",
   "execution_count": 25,
   "metadata": {},
   "outputs": [],
   "source": [
    "class VegeCounter(CommonCounter):\n",
    "    def review_items(self):\n",
    "        if (self.item_type in ['Vegetables', 'Dairy', 'Fruits']):\n",
    "            print(\"Move to Vege Counter\")\n",
    "\n",
    "    def weigh_items(self):\n",
    "        item_weight = dict(zip(self.items, self.weights))\n",
    "        return item_weight\n",
    "    \n",
    "    def add_price_tag(self):\n",
    "        pricetag = []\n",
    "        item_weight = self.weigh_items()\n",
    "        for item,price in zip(item_weight.items(),self.units):\n",
    "            pricetag.append(item[1]*price)\n",
    "        return pricetag        "
   ]
  },
  {
   "cell_type": "code",
   "execution_count": 26,
   "metadata": {},
   "outputs": [],
   "source": [
    "class ElectronicsCounter(CommonCounter):\n",
    "    def review_items(self):\n",
    "        if ('Electronics' in self.item_type):\n",
    "            print(\"Move to Electronics Counter\")\n",
    "         \n",
    "    def test_electronics(self):\n",
    "        teststatus = []\n",
    "        for i in self.status:\n",
    "            teststatus.append(i)\n",
    "        return teststatus"
   ]
  },
  {
   "cell_type": "code",
   "execution_count": 27,
   "metadata": {},
   "outputs": [],
   "source": [
    "def run_pipeline(counter = CommonCounter):\n",
    "    counter.pipeline_template()"
   ]
  },
  {
   "cell_type": "code",
   "execution_count": 28,
   "metadata": {},
   "outputs": [
    {
     "name": "stdout",
     "output_type": "stream",
     "text": [
      "**************ABC Megamart*****************\n",
      "***********------------------**************\n",
      "Counter Name:  ['Vegetable Counter']\n",
      "paperclips :  10.4\n",
      "blue pens :  15.45\n",
      "stapler :  12.42\n",
      "pencils :  14.35\n",
      "Total: 52.620000000000005\n",
      "***********------------------**************\n",
      "***************PAID************************\n"
     ]
    }
   ],
   "source": [
    "run_pipeline(VegeCounter(items = ['onions','lettuce','apples','oranges'],\n",
    "                         name = ['Vegetable Counter'],\n",
    "                         scan = [113323,3434332,2131243,2332783],\n",
    "                         units = [10,15,12,14],\n",
    "                         tax = [0.04,0.03,0.035,0.025],\n",
    "                         item_type = ['Vegetables'],\n",
    "                         weights = [1,2,1.5,2.5]))"
   ]
  },
  {
   "cell_type": "code",
   "execution_count": 29,
   "metadata": {},
   "outputs": [
    {
     "name": "stdout",
     "output_type": "stream",
     "text": [
      "Move to Electronics Counter\n",
      "**************ABC Megamart*****************\n",
      "***********------------------**************\n",
      "Counter Name:  ['Electronics Counter']\n",
      "television :  104.0\n",
      "keyboard :  16.48\n",
      "mouse :  14.49\n",
      "Total: 134.97\n",
      "***********------------------**************\n",
      "***************PAID************************\n"
     ]
    }
   ],
   "source": [
    "run_pipeline(ElectronicsCounter(items = ['television','keyboard','mouse'],\n",
    "                                name = ['Electronics Counter'],\n",
    "                                scan = [113323,3434332,2131243],\n",
    "                                units = [100,16,14],\n",
    "                                tax = [0.04,0.03,0.035],\n",
    "                                item_type = ['Electronics'],\n",
    "                                status = ['pass','pass','pass']))"
   ]
  },
  {
   "cell_type": "markdown",
   "metadata": {},
   "source": [
    "### These are all the examples covered in Chapter 8"
   ]
  }
 ],
 "metadata": {
  "kernelspec": {
   "display_name": "Python 3",
   "language": "python",
   "name": "python3"
  },
  "language_info": {
   "codemirror_mode": {
    "name": "ipython",
    "version": 3
   },
   "file_extension": ".py",
   "mimetype": "text/x-python",
   "name": "python",
   "nbconvert_exporter": "python",
   "pygments_lexer": "ipython3",
   "version": "3.8.5"
  }
 },
 "nbformat": 4,
 "nbformat_minor": 5
}
