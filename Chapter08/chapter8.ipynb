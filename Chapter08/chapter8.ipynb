{
 "cells": [
  {
   "cell_type": "markdown",
   "id": "76ee4145",
   "metadata": {},
   "source": [
    "# Chapter 8 - Templates"
   ]
  },
  {
   "cell_type": "markdown",
   "id": "6c7089a7",
   "metadata": {},
   "source": [
    "### Vegetable counter"
   ]
  },
  {
   "cell_type": "markdown",
   "id": "83e63228",
   "metadata": {},
   "source": [
    "returnCart()\n",
    "\n",
    "gotoVegeCounter()\n",
    "\n",
    "weighItems()\n",
    "\n",
    "addPriceTag()\n",
    "\n",
    "scanBarCode()\n",
    "\n",
    "addBilling()\n",
    "\n",
    "addTax()\n",
    "\n",
    "calcBill()\n",
    "\n",
    "printInvoice()\n",
    "\n",
    "receivePayment()"
   ]
  },
  {
   "cell_type": "markdown",
   "id": "0fc2fb05",
   "metadata": {},
   "source": [
    "### Less than 10 items counter"
   ]
  },
  {
   "cell_type": "markdown",
   "id": "82e4af8d",
   "metadata": {},
   "source": [
    "returnCart()\n",
    "\n",
    "gotoLessT10Counter()\n",
    "\n",
    "reviewItems()\n",
    "\n",
    "countItems()\n",
    "\n",
    "scanBarCode()\n",
    "\n",
    "addBilling()\n",
    "\n",
    "addTax()\n",
    "\n",
    "calcBill()\n",
    "\n",
    "printInvoice()\n",
    "\n",
    "receivePayment()"
   ]
  },
  {
   "cell_type": "markdown",
   "id": "da835e75",
   "metadata": {},
   "source": [
    "### Greater than 10 items counter"
   ]
  },
  {
   "cell_type": "markdown",
   "id": "e8db6cbf",
   "metadata": {},
   "source": [
    "returnCart()\n",
    "\n",
    "gotoGreatT10Counter()\n",
    "\n",
    "reviewItems()\n",
    "\n",
    "countItems()\n",
    "\n",
    "scanBarCode()\n",
    "\n",
    "addBilling()\n",
    "\n",
    "applyCoupon()\n",
    "\n",
    "addTax()\n",
    "\n",
    "calcBill()\n",
    "\n",
    "printInvoice()\n",
    "\n",
    "receivePayment()"
   ]
  },
  {
   "cell_type": "markdown",
   "id": "f5ed222f",
   "metadata": {},
   "source": [
    "### Electronics counter"
   ]
  },
  {
   "cell_type": "markdown",
   "id": "eac00dc3",
   "metadata": {},
   "source": [
    "returnCart()\n",
    "\n",
    "gotoElectronicsCounter()\n",
    "\n",
    "reviewItems()\n",
    "\n",
    "testElectronics()\n",
    "\n",
    "scanBarCode()\n",
    "\n",
    "addBilling()\n",
    "\n",
    "applyCoupon()\n",
    "\n",
    "addTax()\n",
    "\n",
    "calcBill()\n",
    "\n",
    "printInvoice()\n",
    "\n",
    "receivePayment()"
   ]
  },
  {
   "cell_type": "markdown",
   "id": "f7dadbfe",
   "metadata": {},
   "source": [
    "## Vegetable counter - Definition"
   ]
  },
  {
   "cell_type": "code",
   "execution_count": 1,
   "id": "b89e7c42",
   "metadata": {},
   "outputs": [],
   "source": [
    "class VegCounter():\n",
    "    def returnCart(self,*items):\n",
    "        cartItems = []\n",
    "        for i in items:\n",
    "            cartItems.append(i)\n",
    "        return cartItems\n",
    "    \n",
    "    def gotoVegeCounter(self):\n",
    "        countername = 'Vegetables & Dairy'\n",
    "        return countername\n",
    "    \n",
    "    def weighItems(self,*weights,cartItems = None):\n",
    "        self.cartItems = cartItems\n",
    "        weight = []\n",
    "        for i in weights:\n",
    "            weight.append(i)\n",
    "        itemWeight = dict(zip(self.cartItems, weight))\n",
    "        return itemWeight\n",
    "        \n",
    "    def addPriceTag(self,*units,weights = None):\n",
    "        self.weights = weights\n",
    "        pricetag = []\n",
    "        unitPrice = []\n",
    "        for i in units:\n",
    "            unitPrice.append(i)\n",
    "        itemWeight = self.weights\n",
    "        for item,price in zip(itemWeight.items(),unitPrice):\n",
    "            pricetag.append(item[1]*price)\n",
    "        return pricetag\n",
    "    \n",
    "    def scanBarCode(self,*scan):\n",
    "        codes = []\n",
    "        for i in scan:\n",
    "            codes.append(i)\n",
    "        return codes\n",
    "          \n",
    "    def addBilling(self,codes=None,pricetag=None):\n",
    "        self.codes = codes\n",
    "        self.pricetag = pricetag\n",
    "        bill = dict(zip(self.codes, self.pricetag))\n",
    "        return bill\n",
    "        \n",
    "    def addTax(self,*tax):\n",
    "        taxed = []\n",
    "        for i in tax:\n",
    "            taxed.append(i)\n",
    "        return taxed\n",
    "    \n",
    "    def calcBill(self,bill,taxes,cartItems):\n",
    "        items = []\n",
    "        cartItems = cartItems\n",
    "        calcbill = []\n",
    "        for item,tax in zip(bill.items(),taxes):\n",
    "            items.append(item[1])\n",
    "            calcbill.append(item[1] + item[1]*tax)\n",
    "        finalbill = dict(zip(cartItems, calcbill))\n",
    "        return finalbill\n",
    "        \n",
    "    def printInvoice(self,finalbill):\n",
    "        final_total = sum(finalbill.values())\n",
    "        print('**************ABC Megamart*****************')\n",
    "        print('***********------------------**************')\n",
    "        print('Counter Name: ', self.gotoVegeCounter())\n",
    "        for item,price in finalbill.items():\n",
    "            print(item,\": \", price)\n",
    "        print('Total:',final_total)\n",
    "        print('***********------------------**************')\n",
    "    \n",
    "    def receivePayment(self,finalbill):\n",
    "        final_total = sum(finalbill.values())\n",
    "        print('**************ABC Megamart*****************')\n",
    "        print('***********------------------**************')\n",
    "        print('Counter Name: ', self.gotoVegeCounter())\n",
    "        for item,price in finalbill.items():\n",
    "            print(item,\": \", price)\n",
    "        print('Total:',final_total)\n",
    "        print('***********------------------**************')\n",
    "        print('***************PAID************************')"
   ]
  },
  {
   "cell_type": "code",
   "execution_count": 2,
   "id": "e6065ea0",
   "metadata": {},
   "outputs": [],
   "source": [
    "veg = VegCounter()\n",
    "cart = veg.returnCart('onions','tomatoes','carrots','lettuce')\n",
    "itemWeight = veg.weighItems(1,2,1.5,2.5,cartItems = cart)\n",
    "pricetag = veg.addPriceTag(7,2,3,5,weights = itemWeight)\n",
    "codes = veg.scanBarCode(113323,3434332,2131243,2332783)\n",
    "bill = veg.addBilling(codes,pricetag)\n",
    "taxes = veg.addTax(0.04,0.03,0.035,0.025)\n",
    "finalbill = veg.calcBill(bill,taxes,cart)"
   ]
  },
  {
   "cell_type": "code",
   "execution_count": 3,
   "id": "52c17377",
   "metadata": {},
   "outputs": [
    {
     "name": "stdout",
     "output_type": "stream",
     "text": [
      "**************ABC Megamart*****************\n",
      "***********------------------**************\n",
      "Counter Name:  Vegetables & Dairy\n",
      "onions :  7.28\n",
      "tomatoes :  4.12\n",
      "carrots :  4.6575\n",
      "lettuce :  12.8125\n",
      "Total: 28.87\n",
      "***********------------------**************\n"
     ]
    }
   ],
   "source": [
    "veg.printInvoice(finalbill)"
   ]
  },
  {
   "cell_type": "code",
   "execution_count": 4,
   "id": "a4d8a9db",
   "metadata": {},
   "outputs": [
    {
     "name": "stdout",
     "output_type": "stream",
     "text": [
      "**************ABC Megamart*****************\n",
      "***********------------------**************\n",
      "Counter Name:  Vegetables & Dairy\n",
      "onions :  7.28\n",
      "tomatoes :  4.12\n",
      "carrots :  4.6575\n",
      "lettuce :  12.8125\n",
      "Total: 28.87\n",
      "***********------------------**************\n",
      "***************PAID************************\n"
     ]
    }
   ],
   "source": [
    "veg.receivePayment(finalbill)"
   ]
  },
  {
   "cell_type": "markdown",
   "id": "f2c774c9",
   "metadata": {},
   "source": [
    "## Less than 10 items counter"
   ]
  },
  {
   "cell_type": "code",
   "execution_count": 5,
   "id": "d6227954",
   "metadata": {},
   "outputs": [],
   "source": [
    "class LessThan10Counter():\n",
    "    def returnCart(self,*items):\n",
    "        cartItems = []\n",
    "        for i in items:\n",
    "            cartItems.append(i)\n",
    "        return cartItems\n",
    "    \n",
    "    def gotoLessT10Counter(self):\n",
    "        countername = 'Less than 10 counter'\n",
    "        return countername\n",
    "    \n",
    "    def reviewItems(self,itemType = None):\n",
    "        if ('Electronics' in itemType):\n",
    "            print(\"Move to Electronics Counter\")\n",
    "     \n",
    "        if ('Vegetables' in itemType):\n",
    "            print(\"Move to Vege Counter\")\n",
    "\n",
    "        if ('Dairy' in itemType):\n",
    "            print(\"Move to Vege Counter\")\n",
    "\n",
    "        if ('Fruits' in itemType):\n",
    "            print(\"Move to Vege Counter\")\n",
    "            \n",
    "    def countItems(self,cartItems = None):\n",
    "        if len(cartItems)<=10:\n",
    "            print(\"Move to Less than 10 items counter\")\n",
    "        else:\n",
    "            print(\"Move to Greater than 10 items counter\")\n",
    "    \n",
    "    def scanBarCode(self,*scan):\n",
    "        codes = []\n",
    "        for i in scan:\n",
    "            codes.append(i)\n",
    "        return codes\n",
    "          \n",
    "    def addBilling(self,*units,codes=None):\n",
    "        self.codes = codes\n",
    "        pricetag = []\n",
    "        for i in units:\n",
    "            pricetag.append(i)\n",
    "        bill = dict(zip(self.codes, pricetag))\n",
    "        return bill\n",
    "        \n",
    "    def addTax(self,*tax):\n",
    "        taxed = []\n",
    "        for i in tax:\n",
    "            taxed.append(i)\n",
    "        return taxed\n",
    "    \n",
    "    def calcBill(self,bill,taxes,cartItems):\n",
    "        items = []\n",
    "        cartItems = cartItems\n",
    "        calcbill = []\n",
    "        for item,tax in zip(bill.items(),taxes):\n",
    "            items.append(item[1])\n",
    "            calcbill.append(item[1] + item[1]*tax)\n",
    "        finalbill = dict(zip(cartItems, calcbill))\n",
    "        return finalbill\n",
    "        \n",
    "    def printInvoice(self,finalbill):\n",
    "        final_total = sum(finalbill.values())\n",
    "        print('**************ABC Megamart*****************')\n",
    "        print('***********------------------**************')\n",
    "        print('Counter Name: ', self.gotoLessT10Counter())\n",
    "        for item,price in finalbill.items():\n",
    "            print(item,\": \", price)\n",
    "        print('Total:',final_total)\n",
    "        print('***********------------------**************')\n",
    "    \n",
    "    def receivePayment(self,finalbill):\n",
    "        final_total = sum(finalbill.values())\n",
    "        print('**************ABC Megamart*****************')\n",
    "        print('***********------------------**************')\n",
    "        print('Counter Name: ', self.gotoLessT10Counter())\n",
    "        for item,price in finalbill.items():\n",
    "            print(item,\": \", price)\n",
    "        print('Total:',final_total)\n",
    "        print('***********------------------**************')\n",
    "        print('***************PAID************************')"
   ]
  },
  {
   "cell_type": "code",
   "execution_count": 6,
   "id": "046e5dc3",
   "metadata": {},
   "outputs": [
    {
     "name": "stdout",
     "output_type": "stream",
     "text": [
      "Move to Less than 10 items counter\n"
     ]
    }
   ],
   "source": [
    "less10 = LessThan10Counter()\n",
    "cart = less10.returnCart('paperclips','blue pens','stapler','pencils')\n",
    "less10.reviewItems(itemType = ['stationary'])\n",
    "less10.countItems(cart)\n",
    "codes = less10.scanBarCode(113323,3434332,2131243,2332783)\n",
    "bill = less10.addBilling(10,15,12,14,codes = codes)\n",
    "taxes = less10.addTax(0.04,0.03,0.035,0.025)\n",
    "finalbill = less10.calcBill(bill,taxes,cart)"
   ]
  },
  {
   "cell_type": "code",
   "execution_count": 7,
   "id": "e66e1b29",
   "metadata": {},
   "outputs": [
    {
     "name": "stdout",
     "output_type": "stream",
     "text": [
      "**************ABC Megamart*****************\n",
      "***********------------------**************\n",
      "Counter Name:  Less than 10 counter\n",
      "paperclips :  10.4\n",
      "blue pens :  15.45\n",
      "stapler :  12.42\n",
      "pencils :  14.35\n",
      "Total: 52.620000000000005\n",
      "***********------------------**************\n"
     ]
    }
   ],
   "source": [
    "less10.printInvoice(finalbill)"
   ]
  },
  {
   "cell_type": "code",
   "execution_count": 8,
   "id": "cadca435",
   "metadata": {},
   "outputs": [
    {
     "name": "stdout",
     "output_type": "stream",
     "text": [
      "**************ABC Megamart*****************\n",
      "***********------------------**************\n",
      "Counter Name:  Less than 10 counter\n",
      "paperclips :  10.4\n",
      "blue pens :  15.45\n",
      "stapler :  12.42\n",
      "pencils :  14.35\n",
      "Total: 52.620000000000005\n",
      "***********------------------**************\n",
      "***************PAID************************\n"
     ]
    }
   ],
   "source": [
    "less10.receivePayment(finalbill)"
   ]
  },
  {
   "cell_type": "markdown",
   "id": "c3129df6",
   "metadata": {},
   "source": [
    "## Greater than 10 items counter"
   ]
  },
  {
   "cell_type": "code",
   "execution_count": 9,
   "id": "3dc5d281",
   "metadata": {},
   "outputs": [],
   "source": [
    "class GreaterThan10Counter():\n",
    "    def returnCart(self,*items):\n",
    "        cartItems = []\n",
    "        for i in items:\n",
    "            cartItems.append(i)\n",
    "        return cartItems\n",
    "    \n",
    "    def gotoGreaterT10Counter(self):\n",
    "        countername = 'Greater than 10 counter'\n",
    "        return countername\n",
    "    \n",
    "    def reviewItems(self,itemType = None):\n",
    "        if ('Electronics' in itemType):\n",
    "            print(\"Move to Electronics Counter\")\n",
    "     \n",
    "        if ('Vegetables' in itemType):\n",
    "            print(\"Move to Vege Counter\")\n",
    "\n",
    "        if ('Dairy' in itemType):\n",
    "            print(\"Move to Vege Counter\")\n",
    "\n",
    "        if ('Fruits' in itemType):\n",
    "            print(\"Move to Vege Counter\")\n",
    "            \n",
    "    def countItems(self,cartItems = None):\n",
    "        if len(cartItems)>10:\n",
    "            print(\"Move to Greater than 10 items counter\")\n",
    "        else:\n",
    "            print(\"Move to Less than 10 items counter\")\n",
    "    \n",
    "    def scanBarCode(self,*scan):\n",
    "        codes = []\n",
    "        for i in scan:\n",
    "            codes.append(i)\n",
    "        return codes\n",
    "          \n",
    "    def addBilling(self,*units,codes=None):\n",
    "        self.codes = codes\n",
    "        pricetag = []\n",
    "        for i in units:\n",
    "            pricetag.append(i)\n",
    "        bill = dict(zip(self.codes, pricetag))\n",
    "        return bill\n",
    "    \n",
    "    def applyCoupon(self):\n",
    "        couponDiscount = 0.1\n",
    "        return couponDiscount        \n",
    "        \n",
    "    def addTax(self,*tax):\n",
    "        taxed = []\n",
    "        for i in tax:\n",
    "            taxed.append(i)\n",
    "        return taxed\n",
    "    \n",
    "    def calcBill(self,bill,taxes,cartItems):\n",
    "        items = []\n",
    "        cartItems = cartItems\n",
    "        calcbill = []\n",
    "        for item,tax in zip(bill.items(),taxes):\n",
    "            items.append(item[1])\n",
    "            calcbill.append(item[1] + item[1]*tax)\n",
    "        finalbill = dict(zip(cartItems, calcbill))\n",
    "        return finalbill\n",
    "        \n",
    "    def printInvoice(self,finalbill):\n",
    "        final_total = sum(finalbill.values())\n",
    "        print('**************ABC Megamart*****************')\n",
    "        print('***********------------------**************')\n",
    "        print('Counter Name: ', self.gotoGreaterT10Counter())\n",
    "        for item,price in finalbill.items():\n",
    "            print(item,\": \", price)\n",
    "        print('Total:',final_total - final_total * self.applyCoupon())\n",
    "        print('***********------------------**************')\n",
    "    \n",
    "    def receivePayment(self,finalbill):\n",
    "        final_total = sum(finalbill.values())\n",
    "        print('**************ABC Megamart*****************')\n",
    "        print('***********------------------**************')\n",
    "        print('Counter Name: ', self.gotoGreaterT10Counter())\n",
    "        for item,price in finalbill.items():\n",
    "            print(item,\": \", price)\n",
    "        print('Total:',final_total - final_total * self.applyCoupon())\n",
    "        print('***********------------------**************')\n",
    "        print('***************PAID************************')"
   ]
  },
  {
   "cell_type": "code",
   "execution_count": 10,
   "id": "c6c65d73",
   "metadata": {},
   "outputs": [
    {
     "name": "stdout",
     "output_type": "stream",
     "text": [
      "Move to Greater than 10 items counter\n"
     ]
    }
   ],
   "source": [
    "greater = GreaterThan10Counter()\n",
    "cart = greater.returnCart('paper clips','blue pens','stapler','pencils','a4paper','a3paper','chart',\n",
    "                          'sketch pens','canvas','water color','acrylic colors')\n",
    "greater.reviewItems(itemType = ['stationary'])\n",
    "greater.countItems(cart)"
   ]
  },
  {
   "cell_type": "code",
   "execution_count": 11,
   "id": "24cfe079",
   "metadata": {},
   "outputs": [
    {
     "data": {
      "text/plain": [
       "0.1"
      ]
     },
     "execution_count": 11,
     "metadata": {},
     "output_type": "execute_result"
    }
   ],
   "source": [
    "codes = greater.scanBarCode(113323,3434332,2131243,2332783)\n",
    "bill = greater.addBilling(10,15,12,14,codes = codes)\n",
    "taxes = greater.addTax(0.04,0.03,0.035,0.025)\n",
    "greater.applyCoupon()"
   ]
  },
  {
   "cell_type": "code",
   "execution_count": 12,
   "id": "f1a3e90c",
   "metadata": {},
   "outputs": [],
   "source": [
    "finalbill = greater.calcBill(bill,taxes,cart)"
   ]
  },
  {
   "cell_type": "code",
   "execution_count": 13,
   "id": "ab21322a",
   "metadata": {},
   "outputs": [
    {
     "name": "stdout",
     "output_type": "stream",
     "text": [
      "**************ABC Megamart*****************\n",
      "***********------------------**************\n",
      "Counter Name:  Greater than 10 counter\n",
      "paper clips :  10.4\n",
      "blue pens :  15.45\n",
      "stapler :  12.42\n",
      "pencils :  14.35\n",
      "Total: 47.358000000000004\n",
      "***********------------------**************\n"
     ]
    }
   ],
   "source": [
    "greater.printInvoice(finalbill)"
   ]
  },
  {
   "cell_type": "code",
   "execution_count": 14,
   "id": "740d4ada",
   "metadata": {},
   "outputs": [
    {
     "name": "stdout",
     "output_type": "stream",
     "text": [
      "**************ABC Megamart*****************\n",
      "***********------------------**************\n",
      "Counter Name:  Greater than 10 counter\n",
      "paper clips :  10.4\n",
      "blue pens :  15.45\n",
      "stapler :  12.42\n",
      "pencils :  14.35\n",
      "Total: 47.358000000000004\n",
      "***********------------------**************\n",
      "***************PAID************************\n"
     ]
    }
   ],
   "source": [
    "greater.receivePayment(finalbill)"
   ]
  },
  {
   "cell_type": "markdown",
   "id": "0925d122",
   "metadata": {},
   "source": [
    "## Electronics Counter"
   ]
  },
  {
   "cell_type": "code",
   "execution_count": 15,
   "id": "15f96cc5",
   "metadata": {},
   "outputs": [],
   "source": [
    "class ElectronicsCounter():\n",
    "    def returnCart(self,*items):\n",
    "        cartItems = []\n",
    "        for i in items:\n",
    "            cartItems.append(i)\n",
    "        return cartItems\n",
    "    \n",
    "    def gotoElectronicsCounter(self):\n",
    "        countername = 'Greater than 10 counter'\n",
    "        return countername\n",
    "    \n",
    "    def reviewItems(self,itemType = None):\n",
    "        if ('Electronics' in itemType):\n",
    "            print(\"Move to Electronics Counter\")\n",
    "     \n",
    "        if ('Vegetables' in itemType):\n",
    "            print(\"Move to Vege Counter\")\n",
    "\n",
    "        if ('Dairy' in itemType):\n",
    "            print(\"Move to Vege Counter\")\n",
    "\n",
    "        if ('Fruits' in itemType):\n",
    "            print(\"Move to Vege Counter\")\n",
    "            \n",
    "    def testElectronics(self,*status):\n",
    "        teststatus = []\n",
    "        for i in status:\n",
    "            teststatus.append(i)\n",
    "        return teststatus\n",
    "    \n",
    "    def scanBarCode(self,*scan):\n",
    "        codes = []\n",
    "        for i in scan:\n",
    "            codes.append(i)\n",
    "        return codes\n",
    "          \n",
    "    def addBilling(self,*units,codes=None):\n",
    "        self.codes = codes\n",
    "        pricetag = []\n",
    "        for i in units:\n",
    "            pricetag.append(i)\n",
    "        bill = dict(zip(self.codes, pricetag))\n",
    "        return bill\n",
    "        \n",
    "    def addTax(self,*tax):\n",
    "        taxed = []\n",
    "        for i in tax:\n",
    "            taxed.append(i)\n",
    "        return taxed\n",
    "    \n",
    "    def applyCoupon(self):\n",
    "        couponDiscount = 0.1\n",
    "        return couponDiscount\n",
    "    \n",
    "    def calcBill(self,bill,taxes,cartItems):\n",
    "        items = []\n",
    "        cartItems = cartItems\n",
    "        calcbill = []\n",
    "        for item,tax in zip(bill.items(),taxes):\n",
    "            items.append(item[1])\n",
    "            calcbill.append(item[1] + item[1]*tax)\n",
    "        finalbill = dict(zip(cartItems, calcbill))\n",
    "        return finalbill\n",
    "        \n",
    "    def printInvoice(self,finalbill):\n",
    "        final_total = sum(finalbill.values())\n",
    "        print('**************ABC Megamart*****************')\n",
    "        print('***********------------------**************')\n",
    "        print('Counter Name: ', self.gotoElectronicsCounter())\n",
    "        for item,price in finalbill.items():\n",
    "            print(item,\": \", price)\n",
    "        print('Total:',final_total - final_total * self.applyCoupon())\n",
    "        print('***********------------------**************')\n",
    "    \n",
    "    def receivePayment(self,finalbill):\n",
    "        final_total = sum(finalbill.values())\n",
    "        print('**************ABC Megamart*****************')\n",
    "        print('***********------------------**************')\n",
    "        print('Counter Name: ', self.gotoElectronicsCounter())\n",
    "        for item,price in finalbill.items():\n",
    "            print(item,\": \", price)\n",
    "        print('Total:',final_total)\n",
    "        print('***********------------------**************')\n",
    "        print('***************PAID************************')"
   ]
  },
  {
   "cell_type": "code",
   "execution_count": 16,
   "id": "b5e5cdd9",
   "metadata": {},
   "outputs": [
    {
     "name": "stdout",
     "output_type": "stream",
     "text": [
      "Move to Electronics Counter\n"
     ]
    },
    {
     "data": {
      "text/plain": [
       "['pass', 'pass', 'pass']"
      ]
     },
     "execution_count": 16,
     "metadata": {},
     "output_type": "execute_result"
    }
   ],
   "source": [
    "electronics = ElectronicsCounter()\n",
    "cart = electronics.returnCart('television','keyboard','mouse')\n",
    "electronics.reviewItems(itemType = ['Electronics'])\n",
    "electronics.testElectronics('pass','pass','pass')"
   ]
  },
  {
   "cell_type": "code",
   "execution_count": 17,
   "id": "ff26098d",
   "metadata": {},
   "outputs": [
    {
     "data": {
      "text/plain": [
       "0.1"
      ]
     },
     "execution_count": 17,
     "metadata": {},
     "output_type": "execute_result"
    }
   ],
   "source": [
    "codes = electronics.scanBarCode(113323,3434332,2131243)\n",
    "bill = electronics.addBilling(100,16,14,codes = codes)\n",
    "taxes = electronics.addTax(0.04,0.03,0.035)\n",
    "electronics.applyCoupon()"
   ]
  },
  {
   "cell_type": "code",
   "execution_count": 18,
   "id": "485870a5",
   "metadata": {},
   "outputs": [],
   "source": [
    "finalbill = electronics.calcBill(bill,taxes,cart)"
   ]
  },
  {
   "cell_type": "code",
   "execution_count": 19,
   "id": "3a15cc6f",
   "metadata": {},
   "outputs": [
    {
     "name": "stdout",
     "output_type": "stream",
     "text": [
      "**************ABC Megamart*****************\n",
      "***********------------------**************\n",
      "Counter Name:  Greater than 10 counter\n",
      "television :  104.0\n",
      "keyboard :  16.48\n",
      "mouse :  14.49\n",
      "Total: 121.473\n",
      "***********------------------**************\n"
     ]
    }
   ],
   "source": [
    "electronics.printInvoice(finalbill)"
   ]
  },
  {
   "cell_type": "code",
   "execution_count": 20,
   "id": "31281d72",
   "metadata": {},
   "outputs": [
    {
     "name": "stdout",
     "output_type": "stream",
     "text": [
      "**************ABC Megamart*****************\n",
      "***********------------------**************\n",
      "Counter Name:  Greater than 10 counter\n",
      "television :  104.0\n",
      "keyboard :  16.48\n",
      "mouse :  14.49\n",
      "Total: 134.97\n",
      "***********------------------**************\n",
      "***************PAID************************\n"
     ]
    }
   ],
   "source": [
    "electronics.receivePayment(finalbill)"
   ]
  },
  {
   "cell_type": "markdown",
   "id": "06bef800",
   "metadata": {},
   "source": [
    "### Templates"
   ]
  },
  {
   "cell_type": "code",
   "execution_count": 21,
   "id": "d50a4176",
   "metadata": {},
   "outputs": [],
   "source": [
    "from abc import ABC, abstractmethod \n",
    "\n",
    "class CommonCounter(ABC):\n",
    "    def __init__(self,items,name,scan,units,tax,itemtype = None, weights = None, status = None):\n",
    "        self.items = items\n",
    "        self.name = name\n",
    "        self.scan = scan\n",
    "        self.units = units\n",
    "        self.tax = tax\n",
    "        self.itemtype = itemtype\n",
    "        self.weights = weights\n",
    "        self.status = status\n",
    "        \n",
    "    def returnCart(self):\n",
    "        cartItems = []\n",
    "        for i in self.items:\n",
    "            cartItems.append(i)\n",
    "        return cartItems\n",
    "    \n",
    "    def gotoCounter(self):\n",
    "        countername = self.name\n",
    "        return countername\n",
    "\n",
    "    def scanBarCode(self):\n",
    "        codes = []\n",
    "        for i in self.scan:\n",
    "            codes.append(i)\n",
    "        return codes\n",
    "          \n",
    "    def addBilling(self):\n",
    "        self.codes = self.scanBarCode()\n",
    "        pricetag = []\n",
    "        for i in self.units:\n",
    "            pricetag.append(i)\n",
    "        bill = dict(zip(self.codes, pricetag))\n",
    "        return bill\n",
    "        \n",
    "    def addTax(self):\n",
    "        taxed = []\n",
    "        for i in self.tax:\n",
    "            taxed.append(i)\n",
    "        return taxed\n",
    "    \n",
    "    def calcBill(self):\n",
    "        bill = self.addBilling()\n",
    "        items = []\n",
    "        cartItems = self.returnCart()\n",
    "        calcbill = []\n",
    "        taxes = self.addTax()\n",
    "        for item,tax in zip(bill.items(),taxes):\n",
    "            items.append(item[1])\n",
    "            calcbill.append(item[1] + item[1]*tax)\n",
    "        finalbill = dict(zip(cartItems, calcbill))\n",
    "        return finalbill\n",
    "        \n",
    "    def receivePayment(self):\n",
    "        finalbill = self.calcBill()\n",
    "        final_total = sum(finalbill.values())\n",
    "        print('**************ABC Megamart*****************')\n",
    "        print('***********------------------**************')\n",
    "        print('Counter Name: ', self.gotoCounter())\n",
    "        for item,price in finalbill.items():\n",
    "            print(item,\": \", price)\n",
    "        print('Total:',final_total)\n",
    "        print('***********------------------**************')\n",
    "        print('***************PAID************************')\n",
    "    \n",
    "    def applyCoupon(self):\n",
    "        return 0\n",
    "          \n",
    "    def weighItems(self):\n",
    "        pass\n",
    "        \n",
    "    def addPriceTag(self):\n",
    "        pass\n",
    "        \n",
    "    def countItems(self):\n",
    "        pass\n",
    "        \n",
    "    def testElectronics(self):\n",
    "        pass\n",
    "        \n",
    "    @abstractmethod\n",
    "    def reviewItems(self):\n",
    "        pass\n",
    "    \n",
    "    def pipeline_template(self):\n",
    "        self.returnCart()\n",
    "        self.gotoCounter()\n",
    "        self.reviewItems()\n",
    "        self.countItems()\n",
    "        self.testElectronics()\n",
    "        self.weighItems()\n",
    "        self.addPriceTag()\n",
    "        self.scanBarCode()\n",
    "        self.addBilling()\n",
    "        self.addTax()\n",
    "        self.applyCoupon()\n",
    "        self.calcBill()\n",
    "        self.receivePayment()"
   ]
  },
  {
   "cell_type": "code",
   "execution_count": 22,
   "id": "462dcb6c",
   "metadata": {},
   "outputs": [],
   "source": [
    "class VegeCounter(CommonCounter):\n",
    "    def reviewItems(self):\n",
    "        if ('Vegetables' in self.itemtype):\n",
    "            print(\"Move to Vege Counter\")\n",
    "\n",
    "        if ('Dairy' in self.itemtype):\n",
    "            print(\"Move to Vege Counter\")\n",
    "\n",
    "        if ('Fruits' in self.itemtype):\n",
    "            print(\"Move to Vege Counter\")\n",
    "            \n",
    "    def weighItems(self):\n",
    "        itemWeight = dict(zip(self.items, self.weights))\n",
    "        return itemWeight\n",
    "    \n",
    "    def addPriceTag(self):\n",
    "        pricetag = []\n",
    "        itemWeight = self.weighItems()\n",
    "        for item,price in zip(itemWeight.items(),self.units):\n",
    "            pricetag.append(item[1]*price)\n",
    "        return pricetag        "
   ]
  },
  {
   "cell_type": "code",
   "execution_count": 23,
   "id": "5b1e5420",
   "metadata": {},
   "outputs": [],
   "source": [
    "class ElectronicsCounter(CommonCounter):\n",
    "    def reviewItems(self):\n",
    "        if ('Electronics' in self.itemtype):\n",
    "            print(\"Move to Electronics Counter\")\n",
    "         \n",
    "    def testElectronics(self):\n",
    "        teststatus = []\n",
    "        for i in self.status:\n",
    "            teststatus.append(i)\n",
    "        return teststatus"
   ]
  },
  {
   "cell_type": "code",
   "execution_count": 24,
   "id": "b081d50e",
   "metadata": {},
   "outputs": [],
   "source": [
    "def run_pipeline(counter = CommonCounter):\n",
    "    counter.pipeline_template()"
   ]
  },
  {
   "cell_type": "code",
   "execution_count": 25,
   "id": "61ab09f0",
   "metadata": {},
   "outputs": [
    {
     "name": "stdout",
     "output_type": "stream",
     "text": [
      "Move to Vege Counter\n",
      "**************ABC Megamart*****************\n",
      "***********------------------**************\n",
      "Counter Name:  ['Vegetable Counter']\n",
      "paperclips :  10.4\n",
      "blue pens :  15.45\n",
      "stapler :  12.42\n",
      "pencils :  14.35\n",
      "Total: 52.620000000000005\n",
      "***********------------------**************\n",
      "***************PAID************************\n"
     ]
    }
   ],
   "source": [
    "run_pipeline(VegeCounter(items = ['paperclips','blue pens','stapler','pencils'],\n",
    "                         name = ['Vegetable Counter'],\n",
    "                         scan = [113323,3434332,2131243,2332783],\n",
    "                         units = [10,15,12,14],\n",
    "                         tax = [0.04,0.03,0.035,0.025],\n",
    "                         itemtype = ['Vegetables'],\n",
    "                         weights = [1,2,1.5,2.5]))"
   ]
  },
  {
   "cell_type": "code",
   "execution_count": 26,
   "id": "6f78fde0",
   "metadata": {},
   "outputs": [
    {
     "name": "stdout",
     "output_type": "stream",
     "text": [
      "Move to Electronics Counter\n",
      "**************ABC Megamart*****************\n",
      "***********------------------**************\n",
      "Counter Name:  ['Electronics Counter']\n",
      "television :  104.0\n",
      "keyboard :  16.48\n",
      "mouse :  14.49\n",
      "Total: 134.97\n",
      "***********------------------**************\n",
      "***************PAID************************\n"
     ]
    }
   ],
   "source": [
    "run_pipeline(ElectronicsCounter(items = ['television','keyboard','mouse'],\n",
    "                                name = ['Electronics Counter'],\n",
    "                                scan = [113323,3434332,2131243],\n",
    "                                units = [100,16,14],\n",
    "                                tax = [0.04,0.03,0.035],\n",
    "                                itemtype = ['Electronics'],\n",
    "                                status = ['pass','pass','pass']))"
   ]
  },
  {
   "cell_type": "markdown",
   "id": "e121ff71",
   "metadata": {},
   "source": [
    "### These are all the examples covered in Chapter 8"
   ]
  }
 ],
 "metadata": {
  "kernelspec": {
   "display_name": "Python 3 (ipykernel)",
   "language": "python",
   "name": "python3"
  },
  "language_info": {
   "codemirror_mode": {
    "name": "ipython",
    "version": 3
   },
   "file_extension": ".py",
   "mimetype": "text/x-python",
   "name": "python",
   "nbconvert_exporter": "python",
   "pygments_lexer": "ipython3",
   "version": "3.9.6"
  }
 },
 "nbformat": 4,
 "nbformat_minor": 5
}
