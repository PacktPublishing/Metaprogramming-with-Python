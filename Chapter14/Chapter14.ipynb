{
 "cells": [
  {
   "cell_type": "markdown",
   "id": "5112324c",
   "metadata": {},
   "source": [
    "### Generate a simple class with a template"
   ]
  },
  {
   "cell_type": "code",
   "execution_count": null,
   "id": "93889497",
   "metadata": {},
   "outputs": [],
   "source": [
    "import ast"
   ]
  },
  {
   "cell_type": "code",
   "execution_count": null,
   "id": "25d6064f",
   "metadata": {},
   "outputs": [],
   "source": [
    "classname = \"VegCounter\""
   ]
  },
  {
   "cell_type": "code",
   "execution_count": null,
   "id": "efeac552",
   "metadata": {},
   "outputs": [],
   "source": [
    "classtemplate = \"\"\"class \"\"\" +classname+ \"\"\"():pass\"\"\""
   ]
  },
  {
   "cell_type": "code",
   "execution_count": null,
   "id": "20d3b748",
   "metadata": {},
   "outputs": [],
   "source": [
    "class_tree = ast.parse(classtemplate)"
   ]
  },
  {
   "cell_type": "code",
   "execution_count": null,
   "id": "db79bd2d",
   "metadata": {},
   "outputs": [],
   "source": [
    "print(ast.dump(class_tree, indent = 4))"
   ]
  },
  {
   "cell_type": "code",
   "execution_count": null,
   "id": "f1bf5213",
   "metadata": {},
   "outputs": [],
   "source": [
    "actualclass = compile(class_tree, 'vegctr_tree', 'exec')"
   ]
  },
  {
   "cell_type": "code",
   "execution_count": null,
   "id": "ff151595",
   "metadata": {},
   "outputs": [],
   "source": [
    "actualclass"
   ]
  },
  {
   "cell_type": "code",
   "execution_count": null,
   "id": "c679529a",
   "metadata": {},
   "outputs": [],
   "source": [
    "print(ast.unparse(class_tree))"
   ]
  },
  {
   "cell_type": "code",
   "execution_count": null,
   "id": "f90f1cbc",
   "metadata": {},
   "outputs": [],
   "source": [
    "code = open(\"classtemplate.py\", \"w\")\n",
    "script = code.write(ast.unparse(class_tree))\n",
    "code.close()"
   ]
  },
  {
   "cell_type": "code",
   "execution_count": null,
   "id": "e6127e30",
   "metadata": {},
   "outputs": [],
   "source": [
    "import classtemplate as c"
   ]
  },
  {
   "cell_type": "code",
   "execution_count": null,
   "id": "ac1c0ceb",
   "metadata": {},
   "outputs": [],
   "source": [
    "c.VegCounter()"
   ]
  },
  {
   "cell_type": "code",
   "execution_count": null,
   "id": "3b9f12b0",
   "metadata": {},
   "outputs": [],
   "source": [
    "vegc = c.VegCounter()"
   ]
  },
  {
   "cell_type": "code",
   "execution_count": null,
   "id": "7cf19999",
   "metadata": {},
   "outputs": [],
   "source": [
    "vegc"
   ]
  },
  {
   "cell_type": "markdown",
   "id": "12475af3",
   "metadata": {},
   "source": [
    "### Generate multiple classes from a list"
   ]
  },
  {
   "cell_type": "code",
   "execution_count": null,
   "id": "5c4fcf47",
   "metadata": {},
   "outputs": [],
   "source": [
    "import ast"
   ]
  },
  {
   "cell_type": "code",
   "execution_count": null,
   "id": "69ad0ead",
   "metadata": {},
   "outputs": [],
   "source": [
    "classnames = [\"VegCounter\", \"ElectronicsCounter\", \"PasadenaBranch\", \"VegasBranch\"]"
   ]
  },
  {
   "cell_type": "code",
   "execution_count": null,
   "id": "207e004d",
   "metadata": {},
   "outputs": [],
   "source": [
    "classgenerator = []\n",
    "for classname in classnames:\n",
    "    classcode = \"\"\"class \"\"\" +classname+ \"\"\"():pass\"\"\"\n",
    "    classgenerator.append(classcode)"
   ]
  },
  {
   "cell_type": "code",
   "execution_count": null,
   "id": "7d8056a0",
   "metadata": {},
   "outputs": [],
   "source": [
    "classgenerator"
   ]
  },
  {
   "cell_type": "code",
   "execution_count": null,
   "id": "fa8b69bc",
   "metadata": {},
   "outputs": [],
   "source": [
    "classtrees = []\n",
    "for i in classgenerator:\n",
    "    classtree = ast.parse(i)\n",
    "    classtrees.append(classtree)"
   ]
  },
  {
   "cell_type": "code",
   "execution_count": null,
   "id": "ea37ee7f",
   "metadata": {},
   "outputs": [],
   "source": [
    "classtrees"
   ]
  },
  {
   "cell_type": "code",
   "execution_count": null,
   "id": "24528d1a",
   "metadata": {},
   "outputs": [],
   "source": [
    "print(ast.dump(classtrees[0], indent = 4))"
   ]
  },
  {
   "cell_type": "code",
   "execution_count": null,
   "id": "651d6ca2",
   "metadata": {},
   "outputs": [],
   "source": [
    "print(ast.unparse(classtrees[1]))"
   ]
  },
  {
   "cell_type": "code",
   "execution_count": null,
   "id": "1f826c75",
   "metadata": {},
   "outputs": [],
   "source": [
    "code = open(\"classtemplates.py\", \"w\")\n",
    "for i in classtrees:\n",
    "    code.write(ast.unparse(i))\n",
    "    code.write(\"\\n\")\n",
    "    code.write(\"\\n\")\n",
    "code.close()"
   ]
  },
  {
   "cell_type": "code",
   "execution_count": null,
   "id": "02751376",
   "metadata": {},
   "outputs": [],
   "source": [
    "import classtemplates as ct"
   ]
  },
  {
   "cell_type": "code",
   "execution_count": null,
   "id": "ecf33a16",
   "metadata": {},
   "outputs": [],
   "source": [
    "print(ct.ElectronicsCounter())\n",
    "print(ct.PasadenaBranch())\n",
    "print(ct.VegasBranch())\n",
    "print(ct.VegCounter())"
   ]
  },
  {
   "cell_type": "markdown",
   "id": "9f69bb3b",
   "metadata": {},
   "source": [
    "### Generate class with attributes"
   ]
  },
  {
   "cell_type": "code",
   "execution_count": 1,
   "id": "70b7a576",
   "metadata": {},
   "outputs": [],
   "source": [
    "import ast"
   ]
  },
  {
   "cell_type": "code",
   "execution_count": 2,
   "id": "135d3c62",
   "metadata": {},
   "outputs": [],
   "source": [
    "classname = \"VegCounter\"\n",
    "classtemplate =  '''class ''' +classname+ ''':'''+'\\n    '\n",
    "attributename = ['items', 'countername', 'billamount']\n",
    "for attr in attributename:\n",
    "    classtemplate = classtemplate + attr +''' = None''' + '\\n    '  \n",
    "    "
   ]
  },
  {
   "cell_type": "code",
   "execution_count": 3,
   "id": "e9c63e0d",
   "metadata": {},
   "outputs": [],
   "source": [
    "class_tree = ast.parse(classtemplate)"
   ]
  },
  {
   "cell_type": "code",
   "execution_count": 4,
   "id": "eb7cb7ba",
   "metadata": {},
   "outputs": [
    {
     "name": "stdout",
     "output_type": "stream",
     "text": [
      "Module(\n",
      "    body=[\n",
      "        ClassDef(\n",
      "            name='VegCounter',\n",
      "            bases=[],\n",
      "            keywords=[],\n",
      "            body=[\n",
      "                Assign(\n",
      "                    targets=[\n",
      "                        Name(id='items', ctx=Store())],\n",
      "                    value=Constant(value=None)),\n",
      "                Assign(\n",
      "                    targets=[\n",
      "                        Name(id='countername', ctx=Store())],\n",
      "                    value=Constant(value=None)),\n",
      "                Assign(\n",
      "                    targets=[\n",
      "                        Name(id='billamount', ctx=Store())],\n",
      "                    value=Constant(value=None))],\n",
      "            decorator_list=[])],\n",
      "    type_ignores=[])\n"
     ]
    }
   ],
   "source": [
    "print(ast.dump(class_tree, indent = 4))"
   ]
  },
  {
   "cell_type": "code",
   "execution_count": 5,
   "id": "7622579c",
   "metadata": {},
   "outputs": [],
   "source": [
    "actualclass = compile(class_tree, 'vegctr_tree', 'exec')"
   ]
  },
  {
   "cell_type": "code",
   "execution_count": 6,
   "id": "8731bedd",
   "metadata": {},
   "outputs": [
    {
     "data": {
      "text/plain": [
       "<code object <module> at 0x00000236C20682F0, file \"vegctr_tree\", line 1>"
      ]
     },
     "execution_count": 6,
     "metadata": {},
     "output_type": "execute_result"
    }
   ],
   "source": [
    "actualclass"
   ]
  },
  {
   "cell_type": "code",
   "execution_count": 7,
   "id": "8097e2dd",
   "metadata": {},
   "outputs": [
    {
     "name": "stdout",
     "output_type": "stream",
     "text": [
      "class VegCounter:\n",
      "    items = None\n",
      "    countername = None\n",
      "    billamount = None\n"
     ]
    }
   ],
   "source": [
    "print(ast.unparse(class_tree))"
   ]
  },
  {
   "cell_type": "code",
   "execution_count": 8,
   "id": "2cc58cfe",
   "metadata": {},
   "outputs": [],
   "source": [
    "code = open(\"classtemplateattr.py\", \"w\")\n",
    "script = code.write(ast.unparse(class_tree))\n",
    "code.close()"
   ]
  },
  {
   "cell_type": "code",
   "execution_count": 1,
   "id": "e74791d5",
   "metadata": {},
   "outputs": [],
   "source": [
    "import classtemplateattr as c"
   ]
  },
  {
   "cell_type": "code",
   "execution_count": 2,
   "id": "23d20cc3",
   "metadata": {},
   "outputs": [
    {
     "data": {
      "text/plain": [
       "<classtemplateattr.VegCounter at 0x21c47fb5430>"
      ]
     },
     "execution_count": 2,
     "metadata": {},
     "output_type": "execute_result"
    }
   ],
   "source": [
    "c.VegCounter()"
   ]
  },
  {
   "cell_type": "code",
   "execution_count": 3,
   "id": "64a7460e",
   "metadata": {},
   "outputs": [],
   "source": [
    "vegc = c.VegCounter()"
   ]
  },
  {
   "cell_type": "code",
   "execution_count": 4,
   "id": "e7ef8253",
   "metadata": {},
   "outputs": [],
   "source": [
    "vegc.items = ['onions','tomatoes','carrots','lettuce']"
   ]
  },
  {
   "cell_type": "code",
   "execution_count": 5,
   "id": "d7026f97",
   "metadata": {},
   "outputs": [
    {
     "data": {
      "text/plain": [
       "['onions', 'tomatoes', 'carrots', 'lettuce']"
      ]
     },
     "execution_count": 5,
     "metadata": {},
     "output_type": "execute_result"
    }
   ],
   "source": [
    "vegc.items"
   ]
  },
  {
   "cell_type": "code",
   "execution_count": 6,
   "id": "5c3c943d",
   "metadata": {},
   "outputs": [],
   "source": [
    "vegc.countername = 'Veg Counter'"
   ]
  },
  {
   "cell_type": "code",
   "execution_count": 7,
   "id": "15f7b383",
   "metadata": {},
   "outputs": [],
   "source": [
    "vegc.billamount = 200"
   ]
  },
  {
   "cell_type": "code",
   "execution_count": 8,
   "id": "949353d0",
   "metadata": {},
   "outputs": [
    {
     "name": "stdout",
     "output_type": "stream",
     "text": [
      "['onions', 'tomatoes', 'carrots', 'lettuce']\n",
      "Veg Counter\n",
      "200\n"
     ]
    }
   ],
   "source": [
    "print(vegc.items)\n",
    "print(vegc.countername)\n",
    "print(vegc.billamount)"
   ]
  },
  {
   "cell_type": "markdown",
   "id": "0261df2f",
   "metadata": {},
   "source": [
    "### Generate class with methods"
   ]
  },
  {
   "cell_type": "markdown",
   "id": "7246529c",
   "metadata": {},
   "source": [
    "#### Generate class with init method"
   ]
  },
  {
   "cell_type": "code",
   "execution_count": 9,
   "id": "f77d7d0a",
   "metadata": {},
   "outputs": [],
   "source": [
    "import ast"
   ]
  },
  {
   "cell_type": "code",
   "execution_count": 10,
   "id": "9b3ec3a9",
   "metadata": {},
   "outputs": [],
   "source": [
    "classname = \"VegCounter\""
   ]
  },
  {
   "cell_type": "code",
   "execution_count": 11,
   "id": "425861b2",
   "metadata": {},
   "outputs": [],
   "source": [
    "classtemplate =  '''class ''' +classname+ ''':'''+'\\n' +''' def __init__(self,*items):\n",
    "        cartItems = []\n",
    "        for i in items:\n",
    "            cartItems.append(i)\n",
    "        self.items = cartItems'''"
   ]
  },
  {
   "cell_type": "code",
   "execution_count": 12,
   "id": "be9836c3",
   "metadata": {},
   "outputs": [],
   "source": [
    "class_tree = ast.parse(classtemplate)"
   ]
  },
  {
   "cell_type": "code",
   "execution_count": 13,
   "id": "4dae7d9e",
   "metadata": {},
   "outputs": [],
   "source": [
    "actualclass = compile(class_tree, 'vegctr_tree', 'exec')"
   ]
  },
  {
   "cell_type": "code",
   "execution_count": 14,
   "id": "cf0566fa",
   "metadata": {},
   "outputs": [
    {
     "data": {
      "text/plain": [
       "<code object <module> at 0x0000021C47EEF9D0, file \"vegctr_tree\", line 1>"
      ]
     },
     "execution_count": 14,
     "metadata": {},
     "output_type": "execute_result"
    }
   ],
   "source": [
    "actualclass"
   ]
  },
  {
   "cell_type": "code",
   "execution_count": 15,
   "id": "099cf9c0",
   "metadata": {},
   "outputs": [
    {
     "name": "stdout",
     "output_type": "stream",
     "text": [
      "class VegCounter:\n",
      "\n",
      "    def __init__(self, *items):\n",
      "        cartItems = []\n",
      "        for i in items:\n",
      "            cartItems.append(i)\n",
      "        self.items = cartItems\n"
     ]
    }
   ],
   "source": [
    "print(ast.unparse(class_tree))"
   ]
  },
  {
   "cell_type": "code",
   "execution_count": 21,
   "id": "23648f27",
   "metadata": {},
   "outputs": [
    {
     "name": "stdout",
     "output_type": "stream",
     "text": [
      "Module(\n",
      "    body=[\n",
      "        ClassDef(\n",
      "            name='VegCounter',\n",
      "            bases=[],\n",
      "            keywords=[],\n",
      "            body=[\n",
      "                FunctionDef(\n",
      "                    name='__init__',\n",
      "                    args=arguments(\n",
      "                        posonlyargs=[],\n",
      "                        args=[\n",
      "                            arg(arg='self')],\n",
      "                        vararg=arg(arg='items'),\n",
      "                        kwonlyargs=[],\n",
      "                        kw_defaults=[],\n",
      "                        defaults=[]),\n",
      "                    body=[\n",
      "                        Assign(\n",
      "                            targets=[\n",
      "                                Name(id='cartItems', ctx=Store())],\n",
      "                            value=List(elts=[], ctx=Load())),\n",
      "                        For(\n",
      "                            target=Name(id='i', ctx=Store()),\n",
      "                            iter=Name(id='items', ctx=Load()),\n",
      "                            body=[\n",
      "                                Expr(\n",
      "                                    value=Call(\n",
      "                                        func=Attribute(\n",
      "                                            value=Name(id='cartItems', ctx=Load()),\n",
      "                                            attr='append',\n",
      "                                            ctx=Load()),\n",
      "                                        args=[\n",
      "                                            Name(id='i', ctx=Load())],\n",
      "                                        keywords=[]))],\n",
      "                            orelse=[]),\n",
      "                        Assign(\n",
      "                            targets=[\n",
      "                                Attribute(\n",
      "                                    value=Name(id='self', ctx=Load()),\n",
      "                                    attr='items',\n",
      "                                    ctx=Store())],\n",
      "                            value=Name(id='cartItems', ctx=Load()))],\n",
      "                    decorator_list=[])],\n",
      "            decorator_list=[])],\n",
      "    type_ignores=[])\n"
     ]
    }
   ],
   "source": [
    "print(ast.dump(class_tree, indent = 4))"
   ]
  },
  {
   "cell_type": "code",
   "execution_count": 16,
   "id": "0efc0d50",
   "metadata": {},
   "outputs": [],
   "source": [
    "code = open(\"classtemplateinit.py\", \"w\")\n",
    "script = code.write(ast.unparse(class_tree))\n",
    "code.close()"
   ]
  },
  {
   "cell_type": "code",
   "execution_count": 17,
   "id": "4b4ddd84",
   "metadata": {},
   "outputs": [],
   "source": [
    "import classtemplateinit as c"
   ]
  },
  {
   "cell_type": "code",
   "execution_count": 18,
   "id": "14c24923",
   "metadata": {},
   "outputs": [
    {
     "data": {
      "text/plain": [
       "<classtemplateinit.VegCounter at 0x21c47fb5640>"
      ]
     },
     "execution_count": 18,
     "metadata": {},
     "output_type": "execute_result"
    }
   ],
   "source": [
    "c.VegCounter()"
   ]
  },
  {
   "cell_type": "code",
   "execution_count": 19,
   "id": "a299c1a6",
   "metadata": {},
   "outputs": [],
   "source": [
    "vegc = c.VegCounter('onions','tomatoes','carrots','lettuce')"
   ]
  },
  {
   "cell_type": "code",
   "execution_count": 20,
   "id": "8faade04",
   "metadata": {},
   "outputs": [
    {
     "data": {
      "text/plain": [
       "['onions', 'tomatoes', 'carrots', 'lettuce']"
      ]
     },
     "execution_count": 20,
     "metadata": {},
     "output_type": "execute_result"
    }
   ],
   "source": [
    "vegc.items"
   ]
  },
  {
   "cell_type": "markdown",
   "id": "65144486",
   "metadata": {},
   "source": [
    "#### Generate class with user defined method"
   ]
  },
  {
   "cell_type": "code",
   "execution_count": 22,
   "id": "9d98299b",
   "metadata": {},
   "outputs": [],
   "source": [
    "import ast"
   ]
  },
  {
   "cell_type": "code",
   "execution_count": 23,
   "id": "e50366cc",
   "metadata": {},
   "outputs": [],
   "source": [
    "classname = \"VegCounter\"\n",
    "methodname = \"returnCart\""
   ]
  },
  {
   "cell_type": "code",
   "execution_count": 24,
   "id": "5d7ee513",
   "metadata": {},
   "outputs": [],
   "source": [
    "classtemplate =  '''class ''' +classname+ ''':'''+'\\n' +''' def '''+methodname+'''(self,*items):\n",
    "        cartItems = []\n",
    "        for i in items:\n",
    "            cartItems.append(i)\n",
    "        return cartItems'''"
   ]
  },
  {
   "cell_type": "code",
   "execution_count": 25,
   "id": "e2ef4c0b",
   "metadata": {},
   "outputs": [],
   "source": [
    "class_tree = ast.parse(classtemplate)"
   ]
  },
  {
   "cell_type": "code",
   "execution_count": 26,
   "id": "654e538e",
   "metadata": {},
   "outputs": [
    {
     "name": "stdout",
     "output_type": "stream",
     "text": [
      "Module(\n",
      "    body=[\n",
      "        ClassDef(\n",
      "            name='VegCounter',\n",
      "            bases=[],\n",
      "            keywords=[],\n",
      "            body=[\n",
      "                FunctionDef(\n",
      "                    name='returnCart',\n",
      "                    args=arguments(\n",
      "                        posonlyargs=[],\n",
      "                        args=[\n",
      "                            arg(arg='self')],\n",
      "                        vararg=arg(arg='items'),\n",
      "                        kwonlyargs=[],\n",
      "                        kw_defaults=[],\n",
      "                        defaults=[]),\n",
      "                    body=[\n",
      "                        Assign(\n",
      "                            targets=[\n",
      "                                Name(id='cartItems', ctx=Store())],\n",
      "                            value=List(elts=[], ctx=Load())),\n",
      "                        For(\n",
      "                            target=Name(id='i', ctx=Store()),\n",
      "                            iter=Name(id='items', ctx=Load()),\n",
      "                            body=[\n",
      "                                Expr(\n",
      "                                    value=Call(\n",
      "                                        func=Attribute(\n",
      "                                            value=Name(id='cartItems', ctx=Load()),\n",
      "                                            attr='append',\n",
      "                                            ctx=Load()),\n",
      "                                        args=[\n",
      "                                            Name(id='i', ctx=Load())],\n",
      "                                        keywords=[]))],\n",
      "                            orelse=[]),\n",
      "                        Return(\n",
      "                            value=Name(id='cartItems', ctx=Load()))],\n",
      "                    decorator_list=[])],\n",
      "            decorator_list=[])],\n",
      "    type_ignores=[])\n"
     ]
    }
   ],
   "source": [
    "print(ast.dump(class_tree, indent = 4))"
   ]
  },
  {
   "cell_type": "code",
   "execution_count": 27,
   "id": "2c9cc0da",
   "metadata": {},
   "outputs": [],
   "source": [
    "actualclass = compile(class_tree, 'vegctr_tree', 'exec')"
   ]
  },
  {
   "cell_type": "code",
   "execution_count": 28,
   "id": "2a3d355a",
   "metadata": {},
   "outputs": [
    {
     "data": {
      "text/plain": [
       "<code object <module> at 0x0000021C47EF20E0, file \"vegctr_tree\", line 1>"
      ]
     },
     "execution_count": 28,
     "metadata": {},
     "output_type": "execute_result"
    }
   ],
   "source": [
    "actualclass"
   ]
  },
  {
   "cell_type": "code",
   "execution_count": 29,
   "id": "a94afcab",
   "metadata": {},
   "outputs": [
    {
     "name": "stdout",
     "output_type": "stream",
     "text": [
      "class VegCounter:\n",
      "\n",
      "    def returnCart(self, *items):\n",
      "        cartItems = []\n",
      "        for i in items:\n",
      "            cartItems.append(i)\n",
      "        return cartItems\n"
     ]
    }
   ],
   "source": [
    "print(ast.unparse(class_tree))"
   ]
  },
  {
   "cell_type": "code",
   "execution_count": null,
   "id": "60b9d3ad",
   "metadata": {},
   "outputs": [],
   "source": [
    "code = open(\"classtemplatemethod.py\", \"w\")\n",
    "script = code.write(ast.unparse(class_tree))\n",
    "code.close()"
   ]
  },
  {
   "cell_type": "code",
   "execution_count": null,
   "id": "5a080eb6",
   "metadata": {},
   "outputs": [],
   "source": [
    "import classtemplatemethod as c"
   ]
  },
  {
   "cell_type": "code",
   "execution_count": null,
   "id": "af9c75f0",
   "metadata": {},
   "outputs": [],
   "source": [
    "c.VegCounter()"
   ]
  },
  {
   "cell_type": "code",
   "execution_count": null,
   "id": "dc409a83",
   "metadata": {},
   "outputs": [],
   "source": [
    "vegc = c.VegCounter()"
   ]
  },
  {
   "cell_type": "code",
   "execution_count": null,
   "id": "f0fe96f6",
   "metadata": {},
   "outputs": [],
   "source": [
    "vegc.returnCart('onions','tomatoes','carrots','lettuce')"
   ]
  },
  {
   "cell_type": "markdown",
   "id": "5f09623c",
   "metadata": {},
   "source": [
    "### Define class factory"
   ]
  },
  {
   "cell_type": "code",
   "execution_count": 30,
   "id": "920b6b6c",
   "metadata": {},
   "outputs": [],
   "source": [
    "import ast"
   ]
  },
  {
   "cell_type": "code",
   "execution_count": 31,
   "id": "73a1aa0a",
   "metadata": {},
   "outputs": [],
   "source": [
    "def classgenerator(classname, attribute, method):\n",
    "    classtemplate = '''class ''' +classname+ ''':'''+'\\n    ' +attribute+''' = None\\n    def '''+method+'''(self,item,status):\n",
    "        if (status == 'Y'):\n",
    "            print('Test passed for', item)\n",
    "        else:\n",
    "            print('Get another', item)\n",
    "        '''\n",
    "    return classtemplate"
   ]
  },
  {
   "cell_type": "code",
   "execution_count": 32,
   "id": "03eb0dca",
   "metadata": {},
   "outputs": [],
   "source": [
    "class_tree = ast.parse(classgenerator('ElectronicCounter', 'TestItem', 'verifyCart'))"
   ]
  },
  {
   "cell_type": "code",
   "execution_count": 33,
   "id": "72b445aa",
   "metadata": {},
   "outputs": [],
   "source": [
    "actualclass = compile(class_tree, 'elec_tree', 'exec')"
   ]
  },
  {
   "cell_type": "code",
   "execution_count": 34,
   "id": "a69f9692",
   "metadata": {},
   "outputs": [
    {
     "data": {
      "text/plain": [
       "<code object <module> at 0x0000021C47EF2A80, file \"elec_tree\", line 1>"
      ]
     },
     "execution_count": 34,
     "metadata": {},
     "output_type": "execute_result"
    }
   ],
   "source": [
    "actualclass"
   ]
  },
  {
   "cell_type": "code",
   "execution_count": 35,
   "id": "febc94bd",
   "metadata": {},
   "outputs": [
    {
     "name": "stdout",
     "output_type": "stream",
     "text": [
      "class ElectronicCounter:\n",
      "    TestItem = None\n",
      "\n",
      "    def verifyCart(self, item, status):\n",
      "        if status == 'Y':\n",
      "            print('Test passed for', item)\n",
      "        else:\n",
      "            print('Get another', item)\n"
     ]
    }
   ],
   "source": [
    "print(ast.unparse(class_tree))"
   ]
  },
  {
   "cell_type": "code",
   "execution_count": null,
   "id": "96467aff",
   "metadata": {},
   "outputs": [],
   "source": [
    "code = open(\"classgenerator.py\", \"w\")\n",
    "script = code.write(ast.unparse(class_tree))\n",
    "code.close()"
   ]
  },
  {
   "cell_type": "code",
   "execution_count": null,
   "id": "3d350d74",
   "metadata": {},
   "outputs": [],
   "source": [
    "import classgenerator as c"
   ]
  },
  {
   "cell_type": "code",
   "execution_count": null,
   "id": "ac8504f7",
   "metadata": {},
   "outputs": [],
   "source": [
    "elec = c.ElectronicCounter()"
   ]
  },
  {
   "cell_type": "code",
   "execution_count": null,
   "id": "71939320",
   "metadata": {},
   "outputs": [],
   "source": [
    "elec.verifyCart('iPhone','Y')"
   ]
  },
  {
   "cell_type": "code",
   "execution_count": null,
   "id": "be777151",
   "metadata": {},
   "outputs": [],
   "source": [
    "elec.verifyCart('iPhone','N')"
   ]
  },
  {
   "cell_type": "markdown",
   "id": "2c5de395",
   "metadata": {},
   "source": [
    "### Develop a code generator to generate a simple library"
   ]
  },
  {
   "cell_type": "code",
   "execution_count": 36,
   "id": "074cbf9a",
   "metadata": {},
   "outputs": [],
   "source": [
    "from codegenerator import CodeGenerator as c"
   ]
  },
  {
   "cell_type": "code",
   "execution_count": 37,
   "id": "ec315273",
   "metadata": {},
   "outputs": [],
   "source": [
    "classes = {'VegCounter' : 'items',\n",
    "           'ElectronicCounter' : 'goods',\n",
    "           'BranchManhattan' : 'Sales',\n",
    "           'BranchPasadena' : 'Products'\n",
    "          }"
   ]
  },
  {
   "cell_type": "code",
   "execution_count": 38,
   "id": "2d92c483",
   "metadata": {
    "scrolled": false
   },
   "outputs": [],
   "source": [
    "def generatelib(classes):\n",
    "    for key, value in classes.items():\n",
    "        codegen = c(key, value)\n",
    "        codegen.generatecode()    "
   ]
  },
  {
   "cell_type": "code",
   "execution_count": 39,
   "id": "25ce7f38",
   "metadata": {},
   "outputs": [],
   "source": [
    "from contextlib import redirect_stdout\n",
    "with open('abcmegamartlib.py', 'w') as code:\n",
    "    with redirect_stdout(code):\n",
    "        generatelib(classes)\n",
    "code.close()"
   ]
  },
  {
   "cell_type": "code",
   "execution_count": 40,
   "id": "47a6331c",
   "metadata": {},
   "outputs": [],
   "source": [
    "import abcmegamartlib as abc"
   ]
  },
  {
   "cell_type": "code",
   "execution_count": 41,
   "id": "4a2af56f",
   "metadata": {},
   "outputs": [
    {
     "data": {
      "text/plain": [
       "<abcmegamartlib.BranchManhattan at 0x21c4800c7f0>"
      ]
     },
     "execution_count": 41,
     "metadata": {},
     "output_type": "execute_result"
    }
   ],
   "source": [
    "abc.BranchManhattan()"
   ]
  },
  {
   "cell_type": "code",
   "execution_count": 42,
   "id": "02fad687",
   "metadata": {},
   "outputs": [
    {
     "data": {
      "text/plain": [
       "<abcmegamartlib.BranchPasadena at 0x21c4800c430>"
      ]
     },
     "execution_count": 42,
     "metadata": {},
     "output_type": "execute_result"
    }
   ],
   "source": [
    "abc.BranchPasadena()"
   ]
  },
  {
   "cell_type": "code",
   "execution_count": 43,
   "id": "3d75a1dc",
   "metadata": {},
   "outputs": [
    {
     "data": {
      "text/plain": [
       "<abcmegamartlib.ElectronicCounter at 0x21c4800ca90>"
      ]
     },
     "execution_count": 43,
     "metadata": {},
     "output_type": "execute_result"
    }
   ],
   "source": [
    "abc.ElectronicCounter()"
   ]
  },
  {
   "cell_type": "code",
   "execution_count": 44,
   "id": "71b75847",
   "metadata": {},
   "outputs": [
    {
     "data": {
      "text/plain": [
       "<abcmegamartlib.VegCounter at 0x21c4800c6a0>"
      ]
     },
     "execution_count": 44,
     "metadata": {},
     "output_type": "execute_result"
    }
   ],
   "source": [
    "abc.VegCounter()"
   ]
  },
  {
   "cell_type": "code",
   "execution_count": null,
   "id": "915253f2",
   "metadata": {},
   "outputs": [],
   "source": []
  }
 ],
 "metadata": {
  "kernelspec": {
   "display_name": "Python 3",
   "language": "python",
   "name": "python3"
  },
  "language_info": {
   "codemirror_mode": {
    "name": "ipython",
    "version": 3
   },
   "file_extension": ".py",
   "mimetype": "text/x-python",
   "name": "python",
   "nbconvert_exporter": "python",
   "pygments_lexer": "ipython3",
   "version": "3.9.5"
  }
 },
 "nbformat": 4,
 "nbformat_minor": 5
}
