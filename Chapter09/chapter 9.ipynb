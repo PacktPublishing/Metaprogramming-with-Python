{
 "cells": [
  {
   "cell_type": "markdown",
   "id": "f8f36d60",
   "metadata": {},
   "source": [
    "## Chapter 9"
   ]
  },
  {
   "cell_type": "markdown",
   "id": "adef1106",
   "metadata": {},
   "source": [
    "### Exploring the Library of AST"
   ]
  },
  {
   "cell_type": "code",
   "execution_count": 1,
   "id": "6cfed097",
   "metadata": {},
   "outputs": [],
   "source": [
    "import ast"
   ]
  },
  {
   "cell_type": "code",
   "execution_count": 2,
   "id": "6dfb0c28",
   "metadata": {},
   "outputs": [],
   "source": [
    "assignment = \"product_name = 'Iphone X'\""
   ]
  },
  {
   "cell_type": "code",
   "execution_count": 3,
   "id": "483dca94",
   "metadata": {},
   "outputs": [
    {
     "data": {
      "text/plain": [
       "\"product_name = 'Iphone X'\""
      ]
     },
     "execution_count": 3,
     "metadata": {},
     "output_type": "execute_result"
    }
   ],
   "source": [
    "assignment"
   ]
  },
  {
   "cell_type": "code",
   "execution_count": 4,
   "id": "0191c776",
   "metadata": {},
   "outputs": [],
   "source": [
    "assign_tree = ast.parse(assignment)"
   ]
  },
  {
   "cell_type": "code",
   "execution_count": 5,
   "id": "609901de",
   "metadata": {},
   "outputs": [
    {
     "data": {
      "text/plain": [
       "<ast.Module at 0x1e200833070>"
      ]
     },
     "execution_count": 5,
     "metadata": {},
     "output_type": "execute_result"
    }
   ],
   "source": [
    "assign_tree"
   ]
  },
  {
   "cell_type": "code",
   "execution_count": 6,
   "id": "04b2d84d",
   "metadata": {},
   "outputs": [
    {
     "name": "stdout",
     "output_type": "stream",
     "text": [
      "Module(\n",
      "    body=[\n",
      "        Assign(\n",
      "            targets=[\n",
      "                Name(id='product_name', ctx=Store())],\n",
      "            value=Constant(value='Iphone X'))],\n",
      "    type_ignores=[])\n"
     ]
    }
   ],
   "source": [
    "print(ast.dump(assign_tree,indent = 4))"
   ]
  },
  {
   "cell_type": "markdown",
   "id": "1fc72e68",
   "metadata": {},
   "source": [
    "### Reviewing a simple code "
   ]
  },
  {
   "cell_type": "code",
   "execution_count": 7,
   "id": "6126b102",
   "metadata": {},
   "outputs": [],
   "source": [
    "addfunc = \"\"\"\n",
    "a = 1098\n",
    "b = 2032\n",
    "c = a + b\n",
    "print(c)\n",
    "\"\"\""
   ]
  },
  {
   "cell_type": "code",
   "execution_count": 8,
   "id": "adc89513",
   "metadata": {},
   "outputs": [],
   "source": [
    "add_tree = ast.parse(addfunc)"
   ]
  },
  {
   "cell_type": "code",
   "execution_count": 9,
   "id": "f576f14d",
   "metadata": {},
   "outputs": [
    {
     "data": {
      "text/plain": [
       "<ast.Module at 0x19c41531280>"
      ]
     },
     "execution_count": 9,
     "metadata": {},
     "output_type": "execute_result"
    }
   ],
   "source": [
    "add_tree"
   ]
  },
  {
   "cell_type": "code",
   "execution_count": 10,
   "id": "7346d592",
   "metadata": {},
   "outputs": [
    {
     "name": "stdout",
     "output_type": "stream",
     "text": [
      "Module(\n",
      "    body=[\n",
      "        Assign(\n",
      "            targets=[\n",
      "                Name(id='a', ctx=Store())],\n",
      "            value=Constant(value=1098)),\n",
      "        Assign(\n",
      "            targets=[\n",
      "                Name(id='b', ctx=Store())],\n",
      "            value=Constant(value=2032)),\n",
      "        Assign(\n",
      "            targets=[\n",
      "                Name(id='c', ctx=Store())],\n",
      "            value=BinOp(\n",
      "                left=Name(id='a', ctx=Load()),\n",
      "                op=Add(),\n",
      "                right=Name(id='b', ctx=Load()))),\n",
      "        Expr(\n",
      "            value=Call(\n",
      "                func=Name(id='print', ctx=Load()),\n",
      "                args=[\n",
      "                    Name(id='c', ctx=Load())],\n",
      "                keywords=[]))],\n",
      "    type_ignores=[])\n"
     ]
    }
   ],
   "source": [
    "print(ast.dump(add_tree, indent=4))"
   ]
  },
  {
   "cell_type": "code",
   "execution_count": 11,
   "id": "007fcf64",
   "metadata": {},
   "outputs": [],
   "source": [
    "add_code = compile(add_tree, 'add_tree', 'exec')"
   ]
  },
  {
   "cell_type": "code",
   "execution_count": 12,
   "id": "1b4db459",
   "metadata": {},
   "outputs": [
    {
     "name": "stdout",
     "output_type": "stream",
     "text": [
      "3130\n"
     ]
    }
   ],
   "source": [
    "exec(add_code)"
   ]
  },
  {
   "cell_type": "markdown",
   "id": "314de5cd",
   "metadata": {},
   "source": [
    "### Modifying the simple code"
   ]
  },
  {
   "cell_type": "code",
   "execution_count": 13,
   "id": "eaf94c34",
   "metadata": {},
   "outputs": [
    {
     "data": {
      "text/plain": [
       "<ast.Module at 0x19c41531280>"
      ]
     },
     "execution_count": 13,
     "metadata": {},
     "output_type": "execute_result"
    }
   ],
   "source": [
    "add_tree"
   ]
  },
  {
   "cell_type": "code",
   "execution_count": 14,
   "id": "f2dafe1d",
   "metadata": {},
   "outputs": [],
   "source": [
    "add_tree.body[2].value.op=ast.Mult()"
   ]
  },
  {
   "cell_type": "code",
   "execution_count": 15,
   "id": "1607ecd4",
   "metadata": {},
   "outputs": [
    {
     "name": "stdout",
     "output_type": "stream",
     "text": [
      "Module(\n",
      "    body=[\n",
      "        Assign(\n",
      "            targets=[\n",
      "                Name(id='a', ctx=Store())],\n",
      "            value=Constant(value=1098)),\n",
      "        Assign(\n",
      "            targets=[\n",
      "                Name(id='b', ctx=Store())],\n",
      "            value=Constant(value=2032)),\n",
      "        Assign(\n",
      "            targets=[\n",
      "                Name(id='c', ctx=Store())],\n",
      "            value=BinOp(\n",
      "                left=Name(id='a', ctx=Load()),\n",
      "                op=Mult(),\n",
      "                right=Name(id='b', ctx=Load()))),\n",
      "        Expr(\n",
      "            value=Call(\n",
      "                func=Name(id='print', ctx=Load()),\n",
      "                args=[\n",
      "                    Name(id='c', ctx=Load())],\n",
      "                keywords=[]))],\n",
      "    type_ignores=[])\n"
     ]
    }
   ],
   "source": [
    "print(ast.dump(add_tree, indent=4))"
   ]
  },
  {
   "cell_type": "code",
   "execution_count": 16,
   "id": "1bfcfd24",
   "metadata": {},
   "outputs": [],
   "source": [
    "add_code = compile(add_tree, 'add_tree', 'exec')"
   ]
  },
  {
   "cell_type": "code",
   "execution_count": 17,
   "id": "8099fbd2",
   "metadata": {},
   "outputs": [
    {
     "name": "stdout",
     "output_type": "stream",
     "text": [
      "2231136\n"
     ]
    }
   ],
   "source": [
    "exec(add_code)"
   ]
  },
  {
   "cell_type": "markdown",
   "id": "436961c3",
   "metadata": {},
   "source": [
    "### Understanding the AST of a class"
   ]
  },
  {
   "cell_type": "code",
   "execution_count": 18,
   "id": "01b4704d",
   "metadata": {},
   "outputs": [],
   "source": [
    "branch_code = \"\"\"\n",
    "class Branch:\n",
    "    '''attributes...'''\n",
    "    \n",
    "    '''methods...'''\n",
    "\n",
    "\"\"\""
   ]
  },
  {
   "cell_type": "code",
   "execution_count": 19,
   "id": "6cde7fa6",
   "metadata": {},
   "outputs": [
    {
     "data": {
      "text/plain": [
       "<ast.Module at 0x19c41550e50>"
      ]
     },
     "execution_count": 19,
     "metadata": {},
     "output_type": "execute_result"
    }
   ],
   "source": [
    "branch_tree = ast.parse(branch_code)\n",
    "branch_tree"
   ]
  },
  {
   "cell_type": "code",
   "execution_count": 20,
   "id": "f9b0c665",
   "metadata": {},
   "outputs": [
    {
     "name": "stdout",
     "output_type": "stream",
     "text": [
      "Module(\n",
      "    body=[\n",
      "        ClassDef(\n",
      "            name='Branch',\n",
      "            bases=[],\n",
      "            keywords=[],\n",
      "            body=[\n",
      "                Expr(\n",
      "                    value=Constant(value='attributes...')),\n",
      "                Expr(\n",
      "                    value=Constant(value='methods...'))],\n",
      "            decorator_list=[])],\n",
      "    type_ignores=[])\n"
     ]
    }
   ],
   "source": [
    "print(ast.dump(branch_tree, indent=4))"
   ]
  },
  {
   "cell_type": "code",
   "execution_count": 8,
   "id": "8d3c4cb2",
   "metadata": {},
   "outputs": [],
   "source": [
    "branch_code = \"\"\"class Branch:\n",
    "    branch_id = 1001\n",
    "\n",
    "    @staticmethod\n",
    "    def get_product(self):\n",
    "        return 'product'\n",
    "        \"\"\""
   ]
  },
  {
   "cell_type": "code",
   "execution_count": 9,
   "id": "900a99b3",
   "metadata": {},
   "outputs": [],
   "source": [
    "branch_tree = ast.parse(branch_code)"
   ]
  },
  {
   "cell_type": "code",
   "execution_count": 10,
   "id": "15328f71",
   "metadata": {},
   "outputs": [
    {
     "name": "stdout",
     "output_type": "stream",
     "text": [
      "Module(\n",
      "    body=[\n",
      "        ClassDef(\n",
      "            name='Branch',\n",
      "            bases=[],\n",
      "            keywords=[],\n",
      "            body=[\n",
      "                Assign(\n",
      "                    targets=[\n",
      "                        Name(id='branch_id', ctx=Store())],\n",
      "                    value=Constant(value=1001)),\n",
      "                FunctionDef(\n",
      "                    name='get_product',\n",
      "                    args=arguments(\n",
      "                        posonlyargs=[],\n",
      "                        args=[\n",
      "                            arg(arg='self')],\n",
      "                        kwonlyargs=[],\n",
      "                        kw_defaults=[],\n",
      "                        defaults=[]),\n",
      "                    body=[\n",
      "                        Return(\n",
      "                            value=Constant(value='product'))],\n",
      "                    decorator_list=[\n",
      "                        Name(id='staticmethod', ctx=Load())])],\n",
      "            decorator_list=[])],\n",
      "    type_ignores=[])\n"
     ]
    }
   ],
   "source": [
    "print(ast.dump(branch_tree, indent=4))"
   ]
  },
  {
   "cell_type": "code",
   "execution_count": 14,
   "id": "a1762559",
   "metadata": {},
   "outputs": [],
   "source": [
    "branch_code = \"\"\"\n",
    "branch_albany = Branch()\n",
    "\"\"\""
   ]
  },
  {
   "cell_type": "code",
   "execution_count": 15,
   "id": "6cd4c872",
   "metadata": {},
   "outputs": [],
   "source": [
    "branch_tree = ast.parse(branch_code)"
   ]
  },
  {
   "cell_type": "code",
   "execution_count": 16,
   "id": "f933b703",
   "metadata": {},
   "outputs": [
    {
     "name": "stdout",
     "output_type": "stream",
     "text": [
      "Module(\n",
      "    body=[\n",
      "        Assign(\n",
      "            targets=[\n",
      "                Name(id='branch_albany', ctx=Store())],\n",
      "            value=Call(\n",
      "                func=Name(id='Branch', ctx=Load()),\n",
      "                args=[],\n",
      "                keywords=[]))],\n",
      "    type_ignores=[])\n"
     ]
    }
   ],
   "source": [
    "print(ast.dump(branch_tree, indent=4))"
   ]
  },
  {
   "cell_type": "markdown",
   "id": "3c9372da",
   "metadata": {},
   "source": [
    "### Modifying AST of a code block by parsing"
   ]
  },
  {
   "cell_type": "code",
   "execution_count": 17,
   "id": "24650417",
   "metadata": {},
   "outputs": [],
   "source": [
    "vegctr = \"\"\"\n",
    "class VegCounter():\n",
    "    def return_cart(self,*items):\n",
    "        cart_items = list(items)\n",
    "        return cart_items\n",
    "veg = VegCounter()\n",
    "print(veg.return_cart('onions','tomatoes','carrots','lettuce'))\n",
    "\"\"\""
   ]
  },
  {
   "cell_type": "code",
   "execution_count": 18,
   "id": "91c00b81",
   "metadata": {},
   "outputs": [],
   "source": [
    "vegctr_tree = ast.parse(vegctr)"
   ]
  },
  {
   "cell_type": "code",
   "execution_count": 19,
   "id": "f36c70a9",
   "metadata": {},
   "outputs": [
    {
     "name": "stdout",
     "output_type": "stream",
     "text": [
      "Module(\n",
      "    body=[\n",
      "        ClassDef(\n",
      "            name='VegCounter',\n",
      "            bases=[],\n",
      "            keywords=[],\n",
      "            body=[\n",
      "                FunctionDef(\n",
      "                    name='return_cart',\n",
      "                    args=arguments(\n",
      "                        posonlyargs=[],\n",
      "                        args=[\n",
      "                            arg(arg='self')],\n",
      "                        vararg=arg(arg='items'),\n",
      "                        kwonlyargs=[],\n",
      "                        kw_defaults=[],\n",
      "                        defaults=[]),\n",
      "                    body=[\n",
      "                        Assign(\n",
      "                            targets=[\n",
      "                                Name(id='cart_items', ctx=Store())],\n",
      "                            value=Call(\n",
      "                                func=Name(id='list', ctx=Load()),\n",
      "                                args=[\n",
      "                                    Name(id='items', ctx=Load())],\n",
      "                                keywords=[])),\n",
      "                        Return(\n",
      "                            value=Name(id='cart_items', ctx=Load()))],\n",
      "                    decorator_list=[])],\n",
      "            decorator_list=[]),\n",
      "        Assign(\n",
      "            targets=[\n",
      "                Name(id='veg', ctx=Store())],\n",
      "            value=Call(\n",
      "                func=Name(id='VegCounter', ctx=Load()),\n",
      "                args=[],\n",
      "                keywords=[])),\n",
      "        Expr(\n",
      "            value=Call(\n",
      "                func=Name(id='print', ctx=Load()),\n",
      "                args=[\n",
      "                    Call(\n",
      "                        func=Attribute(\n",
      "                            value=Name(id='veg', ctx=Load()),\n",
      "                            attr='return_cart',\n",
      "                            ctx=Load()),\n",
      "                        args=[\n",
      "                            Constant(value='onions'),\n",
      "                            Constant(value='tomatoes'),\n",
      "                            Constant(value='carrots'),\n",
      "                            Constant(value='lettuce')],\n",
      "                        keywords=[])],\n",
      "                keywords=[]))],\n",
      "    type_ignores=[])\n"
     ]
    }
   ],
   "source": [
    "print(ast.dump(vegctr_tree, indent=4))"
   ]
  },
  {
   "cell_type": "code",
   "execution_count": 20,
   "id": "aecac3b7",
   "metadata": {},
   "outputs": [],
   "source": [
    "vegctr_code = compile(vegctr_tree, 'vegctr_tree', 'exec')"
   ]
  },
  {
   "cell_type": "code",
   "execution_count": 21,
   "id": "53565a73",
   "metadata": {},
   "outputs": [
    {
     "name": "stdout",
     "output_type": "stream",
     "text": [
      "['onions', 'tomatoes', 'carrots', 'lettuce']\n"
     ]
    }
   ],
   "source": [
    "exec(vegctr_code)"
   ]
  },
  {
   "cell_type": "code",
   "execution_count": 22,
   "id": "e90ac95b",
   "metadata": {},
   "outputs": [
    {
     "data": {
      "text/plain": [
       "[<ast.ClassDef at 0x1e200845fa0>,\n",
       " <ast.Assign at 0x1e200845d30>,\n",
       " <ast.Expr at 0x1e200845b50>]"
      ]
     },
     "execution_count": 22,
     "metadata": {},
     "output_type": "execute_result"
    }
   ],
   "source": [
    "vegctr_tree.body"
   ]
  },
  {
   "cell_type": "code",
   "execution_count": 23,
   "id": "a5b8b5e9",
   "metadata": {},
   "outputs": [
    {
     "data": {
      "text/plain": [
       "'tomatoes'"
      ]
     },
     "execution_count": 23,
     "metadata": {},
     "output_type": "execute_result"
    }
   ],
   "source": [
    "vegctr_tree.body[2].value.args[0].args[1].n"
   ]
  },
  {
   "cell_type": "code",
   "execution_count": 24,
   "id": "4a81de5e",
   "metadata": {},
   "outputs": [],
   "source": [
    "vegctr_tree.body[2].value.args[0].args[1].n = 'potatoes'"
   ]
  },
  {
   "cell_type": "code",
   "execution_count": 25,
   "id": "453dfe38",
   "metadata": {},
   "outputs": [
    {
     "name": "stdout",
     "output_type": "stream",
     "text": [
      "Module(\n",
      "    body=[\n",
      "        ClassDef(\n",
      "            name='VegCounter',\n",
      "            bases=[],\n",
      "            keywords=[],\n",
      "            body=[\n",
      "                FunctionDef(\n",
      "                    name='return_cart',\n",
      "                    args=arguments(\n",
      "                        posonlyargs=[],\n",
      "                        args=[\n",
      "                            arg(arg='self')],\n",
      "                        vararg=arg(arg='items'),\n",
      "                        kwonlyargs=[],\n",
      "                        kw_defaults=[],\n",
      "                        defaults=[]),\n",
      "                    body=[\n",
      "                        Assign(\n",
      "                            targets=[\n",
      "                                Name(id='cart_items', ctx=Store())],\n",
      "                            value=Call(\n",
      "                                func=Name(id='list', ctx=Load()),\n",
      "                                args=[\n",
      "                                    Name(id='items', ctx=Load())],\n",
      "                                keywords=[])),\n",
      "                        Return(\n",
      "                            value=Name(id='cart_items', ctx=Load()))],\n",
      "                    decorator_list=[])],\n",
      "            decorator_list=[]),\n",
      "        Assign(\n",
      "            targets=[\n",
      "                Name(id='veg', ctx=Store())],\n",
      "            value=Call(\n",
      "                func=Name(id='VegCounter', ctx=Load()),\n",
      "                args=[],\n",
      "                keywords=[])),\n",
      "        Expr(\n",
      "            value=Call(\n",
      "                func=Name(id='print', ctx=Load()),\n",
      "                args=[\n",
      "                    Call(\n",
      "                        func=Attribute(\n",
      "                            value=Name(id='veg', ctx=Load()),\n",
      "                            attr='return_cart',\n",
      "                            ctx=Load()),\n",
      "                        args=[\n",
      "                            Constant(value='onions'),\n",
      "                            Constant(value='potatoes'),\n",
      "                            Constant(value='carrots'),\n",
      "                            Constant(value='lettuce')],\n",
      "                        keywords=[])],\n",
      "                keywords=[]))],\n",
      "    type_ignores=[])\n"
     ]
    }
   ],
   "source": [
    "print(ast.dump(vegctr_tree, indent=4))"
   ]
  },
  {
   "cell_type": "code",
   "execution_count": 26,
   "id": "b13671a4",
   "metadata": {},
   "outputs": [
    {
     "name": "stdout",
     "output_type": "stream",
     "text": [
      "class VegCounter:\n",
      "\n",
      "    def return_cart(self, *items):\n",
      "        cart_items = list(items)\n",
      "        return cart_items\n",
      "veg = VegCounter()\n",
      "print(veg.return_cart('onions', 'potatoes', 'carrots', 'lettuce'))\n"
     ]
    }
   ],
   "source": [
    "print(ast.unparse(vegctr_tree))"
   ]
  },
  {
   "cell_type": "markdown",
   "id": "85d5bf15",
   "metadata": {},
   "source": [
    "### Modifying AST of a code block by transforming nodes"
   ]
  },
  {
   "cell_type": "code",
   "execution_count": 37,
   "id": "7b1fc49b",
   "metadata": {},
   "outputs": [],
   "source": [
    "class VegCounter():\n",
    "    def return_cart(self,*items):\n",
    "        cart_items = list(items)\n",
    "        return cart_items"
   ]
  },
  {
   "cell_type": "code",
   "execution_count": 38,
   "id": "1ac561c1",
   "metadata": {},
   "outputs": [],
   "source": [
    "veg = VegCounter()\n",
    "cart = \"\"\"veg.return_cart('onions','tomatoes','carrots','lettuce')\"\"\""
   ]
  },
  {
   "cell_type": "code",
   "execution_count": 39,
   "id": "3be756bf",
   "metadata": {},
   "outputs": [],
   "source": [
    "cart_tree = ast.parse(cart)"
   ]
  },
  {
   "cell_type": "code",
   "execution_count": 40,
   "id": "0ff03529",
   "metadata": {},
   "outputs": [
    {
     "name": "stdout",
     "output_type": "stream",
     "text": [
      "Module(\n",
      "    body=[\n",
      "        Expr(\n",
      "            value=Call(\n",
      "                func=Attribute(\n",
      "                    value=Name(id='veg', ctx=Load()),\n",
      "                    attr='returnCart',\n",
      "                    ctx=Load()),\n",
      "                args=[\n",
      "                    Constant(value='onions'),\n",
      "                    Constant(value='tomatoes'),\n",
      "                    Constant(value='carrots'),\n",
      "                    Constant(value='lettuce')],\n",
      "                keywords=[]))],\n",
      "    type_ignores=[])\n"
     ]
    }
   ],
   "source": [
    "print(ast.dump(cart_tree, indent = 4))"
   ]
  },
  {
   "cell_type": "code",
   "execution_count": 41,
   "id": "928d0c1a",
   "metadata": {},
   "outputs": [],
   "source": [
    "from ast import NodeTransformer"
   ]
  },
  {
   "cell_type": "code",
   "execution_count": 42,
   "id": "d4c46091",
   "metadata": {},
   "outputs": [],
   "source": [
    "class ModifyVegCounter(NodeTransformer):\n",
    "    \n",
    "    def visit_Constant(self, node):\n",
    "        modifiedValue = ast.Constant('item:' + str(node.value))\n",
    "        return modifiedValue"
   ]
  },
  {
   "cell_type": "code",
   "execution_count": 43,
   "id": "ccce1d4a",
   "metadata": {},
   "outputs": [
    {
     "data": {
      "text/plain": [
       "<ast.Module at 0x19c41585670>"
      ]
     },
     "execution_count": 43,
     "metadata": {},
     "output_type": "execute_result"
    }
   ],
   "source": [
    "ModifyVegCounter().visit(cart_tree)"
   ]
  },
  {
   "cell_type": "code",
   "execution_count": 44,
   "id": "2f9eaf2f",
   "metadata": {},
   "outputs": [
    {
     "name": "stdout",
     "output_type": "stream",
     "text": [
      "Module(\n",
      "    body=[\n",
      "        Expr(\n",
      "            value=Call(\n",
      "                func=Attribute(\n",
      "                    value=Name(id='veg', ctx=Load()),\n",
      "                    attr='returnCart',\n",
      "                    ctx=Load()),\n",
      "                args=[\n",
      "                    Constant(value='item:onions'),\n",
      "                    Constant(value='item:tomatoes'),\n",
      "                    Constant(value='item:carrots'),\n",
      "                    Constant(value='item:lettuce')],\n",
      "                keywords=[]))],\n",
      "    type_ignores=[])\n"
     ]
    }
   ],
   "source": [
    "print(ast.dump(cart_tree, indent = 4))"
   ]
  },
  {
   "cell_type": "code",
   "execution_count": 45,
   "id": "c95e6d06",
   "metadata": {},
   "outputs": [
    {
     "name": "stdout",
     "output_type": "stream",
     "text": [
      "veg.returnCart('item:onions', 'item:tomatoes', 'item:carrots', 'item:lettuce')\n"
     ]
    }
   ],
   "source": [
    "print(ast.unparse(cart_tree))"
   ]
  },
  {
   "cell_type": "markdown",
   "id": "edbd7157",
   "metadata": {},
   "source": [
    "#### These are the examples covered in Chapter 9"
   ]
  },
  {
   "cell_type": "code",
   "execution_count": null,
   "id": "0dc2eae3",
   "metadata": {},
   "outputs": [],
   "source": []
  }
 ],
 "metadata": {
  "kernelspec": {
   "display_name": "Python 3",
   "language": "python",
   "name": "python3"
  },
  "language_info": {
   "codemirror_mode": {
    "name": "ipython",
    "version": 3
   },
   "file_extension": ".py",
   "mimetype": "text/x-python",
   "name": "python",
   "nbconvert_exporter": "python",
   "pygments_lexer": "ipython3",
   "version": "3.9.5"
  }
 },
 "nbformat": 4,
 "nbformat_minor": 5
}
