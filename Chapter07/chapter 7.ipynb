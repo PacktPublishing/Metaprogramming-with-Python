{
 "cells": [
  {
   "cell_type": "markdown",
   "id": "9d316985",
   "metadata": {},
   "source": [
    "### Generics and Typing"
   ]
  },
  {
   "cell_type": "markdown",
   "id": "ae69e400",
   "metadata": {},
   "source": [
    "### How are generics handled in Python?"
   ]
  },
  {
   "cell_type": "code",
   "execution_count": 1,
   "id": "f2f5dcb1",
   "metadata": {},
   "outputs": [],
   "source": [
    "class Fashion:\n",
    "    def __init__(self,clothingCategory,gender,model,design,dressType,size, color):\n",
    "        self.clothingCategory = clothingCategory\n",
    "        self.gender = gender\n",
    "        self.model = model\n",
    "        self.design = design\n",
    "        self.dressType = dressType\n",
    "        self.size = size\n",
    "        self.color = color\n",
    "        \n",
    "    def getItem(self):\n",
    "        return self.clothingCategory,self.gender,self.model,self.design,self.dressType, self.size,self.color        "
   ]
  },
  {
   "cell_type": "markdown",
   "id": "3e9b1c5f",
   "metadata": {},
   "source": [
    "#### Assign any data type"
   ]
  },
  {
   "cell_type": "code",
   "execution_count": 2,
   "id": "7a4b42b8",
   "metadata": {},
   "outputs": [],
   "source": [
    "fashion = Fashion(\"Clothing\",\"Women\",\"Western\",\"Dotted\",\"Jumpsuits\",38,\"blue\")"
   ]
  },
  {
   "cell_type": "code",
   "execution_count": 3,
   "id": "c94a92e9",
   "metadata": {},
   "outputs": [
    {
     "data": {
      "text/plain": [
       "('Clothing', 'Women', 'Western', 'Dotted', 'Jumpsuits', 38, 'blue')"
      ]
     },
     "execution_count": 3,
     "metadata": {},
     "output_type": "execute_result"
    }
   ],
   "source": [
    "fashion.getItem()"
   ]
  },
  {
   "cell_type": "code",
   "execution_count": 4,
   "id": "a1247348",
   "metadata": {},
   "outputs": [
    {
     "data": {
      "text/plain": [
       "str"
      ]
     },
     "execution_count": 4,
     "metadata": {},
     "output_type": "execute_result"
    }
   ],
   "source": [
    "type(fashion.clothingCategory)"
   ]
  },
  {
   "cell_type": "code",
   "execution_count": 5,
   "id": "22086205",
   "metadata": {},
   "outputs": [
    {
     "data": {
      "text/plain": [
       "int"
      ]
     },
     "execution_count": 5,
     "metadata": {},
     "output_type": "execute_result"
    }
   ],
   "source": [
    "type(fashion.size)"
   ]
  },
  {
   "cell_type": "markdown",
   "id": "3a7af0da",
   "metadata": {},
   "source": [
    "#### Change data type"
   ]
  },
  {
   "cell_type": "code",
   "execution_count": 6,
   "id": "446922a0",
   "metadata": {},
   "outputs": [],
   "source": [
    "fashion = Fashion(102,\"Women\",\"Western\",\"Floral\",\"T-Shirt\",\"XS\",\"green\")"
   ]
  },
  {
   "cell_type": "code",
   "execution_count": 7,
   "id": "b3df185c",
   "metadata": {},
   "outputs": [
    {
     "data": {
      "text/plain": [
       "(102, 'Women', 'Western', 'Floral', 'T-Shirt', 'XS', 'green')"
      ]
     },
     "execution_count": 7,
     "metadata": {},
     "output_type": "execute_result"
    }
   ],
   "source": [
    "fashion.getItem()"
   ]
  },
  {
   "cell_type": "code",
   "execution_count": 8,
   "id": "2c74ab19",
   "metadata": {},
   "outputs": [
    {
     "data": {
      "text/plain": [
       "int"
      ]
     },
     "execution_count": 8,
     "metadata": {},
     "output_type": "execute_result"
    }
   ],
   "source": [
    "type(fashion.clothingCategory)"
   ]
  },
  {
   "cell_type": "code",
   "execution_count": 9,
   "id": "452ab856",
   "metadata": {},
   "outputs": [
    {
     "data": {
      "text/plain": [
       "str"
      ]
     },
     "execution_count": 9,
     "metadata": {},
     "output_type": "execute_result"
    }
   ],
   "source": [
    "type(fashion.size)"
   ]
  },
  {
   "cell_type": "markdown",
   "id": "e3a1bdb8",
   "metadata": {},
   "source": [
    "### What happens when data types are specified?"
   ]
  },
  {
   "cell_type": "code",
   "execution_count": 10,
   "id": "8f277ce6",
   "metadata": {},
   "outputs": [],
   "source": [
    "class Fashion:\n",
    "    def __init__(self,clothingCategory: str,gender:str,model:str,design:str,dressType:str,size:int, color:str):\n",
    "        self.clothingCategory = clothingCategory\n",
    "        self.gender = gender\n",
    "        self.model = model\n",
    "        self.design = design\n",
    "        self.dressType = dressType\n",
    "        self.size = size\n",
    "        self.color = color\n",
    "        \n",
    "    def getitem(self):\n",
    "        return self.clothingCategory,self.gender,self.model,self.design,self.dressType, self.size,self.color"
   ]
  },
  {
   "cell_type": "code",
   "execution_count": 11,
   "id": "580fd663",
   "metadata": {},
   "outputs": [],
   "source": [
    "fashion = Fashion(104,\"Women\",\"Western\",\"Cotton\",\"Shirt\",\"S\",\"white\")"
   ]
  },
  {
   "cell_type": "code",
   "execution_count": 12,
   "id": "474b53bc",
   "metadata": {},
   "outputs": [
    {
     "data": {
      "text/plain": [
       "(104, 'Women', 'Western', 'Cotton', 'Shirt', 'S', 'white')"
      ]
     },
     "execution_count": 12,
     "metadata": {},
     "output_type": "execute_result"
    }
   ],
   "source": [
    "fashion.getitem()"
   ]
  },
  {
   "cell_type": "markdown",
   "id": "faf6232f",
   "metadata": {},
   "source": [
    "### Typing - with explicit type checks"
   ]
  },
  {
   "cell_type": "markdown",
   "id": "15310c7a",
   "metadata": {},
   "source": [
    "#### Method1:"
   ]
  },
  {
   "cell_type": "code",
   "execution_count": 13,
   "id": "66d4e570",
   "metadata": {},
   "outputs": [],
   "source": [
    "class typecheck:\n",
    "    def intcheck(self,inputvalue):\n",
    "        if type(inputvalue) != int:\n",
    "            print(\"value should be an integer\")\n",
    "        else:\n",
    "            return inputvalue\n",
    "    \n",
    "    def stringcheck(self,inputvalue):\n",
    "        if type(inputvalue) != str:\n",
    "            print(\"value should be a string\")\n",
    "        else:\n",
    "            return inputvalue\n",
    "        \n",
    "    def floatcheck(self,inputvalue):\n",
    "        if type(inputvalue) != float:\n",
    "            print(\"value should be a float\")\n",
    "        else:\n",
    "            return inputvalue\n",
    "            \n",
    "    def listcheck(self,inputvalue):\n",
    "        if type(inputvalue) != list:\n",
    "            print(\"value should be a list\")\n",
    "        else:\n",
    "            return inputvalue\n",
    "            \n",
    "    def tuplecheck(self,inputvalue):\n",
    "        if type(inputvalue) != tuple:\n",
    "            print(\"value should be a tuple\")\n",
    "        else:\n",
    "            return inputvalue\n",
    "\n",
    "    def dictcheck(self,inputvalue):\n",
    "        if type(inputvalue) != dict:\n",
    "            print(\"value should be a dict\")\n",
    "        else:\n",
    "            return inputvalue"
   ]
  },
  {
   "cell_type": "code",
   "execution_count": 14,
   "id": "ba102182",
   "metadata": {},
   "outputs": [],
   "source": [
    "class Fashion:\n",
    "    def __init__(self,clothingCategory: str,gender:str,price:float,design:str,dressType:str,size:int, color:list):\n",
    "        tc = typecheck()\n",
    "        self.clothingCategory = tc.stringcheck(clothingCategory)\n",
    "        self.gender = tc.stringcheck(gender)\n",
    "        self.price = tc.floatcheck(price)\n",
    "        self.design = tc.stringcheck(design)\n",
    "        self.dressType = tc.stringcheck(dressType)\n",
    "        self.size = tc.intcheck(size)\n",
    "        self.color = tc.listcheck(color)\n",
    "        \n",
    "    def getItem(self):\n",
    "        return self.clothingCategory,self.gender,self.price,self.design,self.dressType, self.size,self.color"
   ]
  },
  {
   "cell_type": "code",
   "execution_count": 15,
   "id": "2f074f13",
   "metadata": {},
   "outputs": [
    {
     "name": "stdout",
     "output_type": "stream",
     "text": [
      "value should be a string\n",
      "value should be a float\n",
      "value should be an integer\n",
      "value should be a list\n"
     ]
    }
   ],
   "source": [
    "fashion = Fashion(112,\"Men\",\"Western\",\"Designer\",\"Shirt\",38.4,\"black\")"
   ]
  },
  {
   "cell_type": "code",
   "execution_count": 16,
   "id": "048c02d6",
   "metadata": {},
   "outputs": [
    {
     "data": {
      "text/plain": [
       "(None, 'Men', None, 'Designer', 'Shirt', None, None)"
      ]
     },
     "execution_count": 16,
     "metadata": {},
     "output_type": "execute_result"
    }
   ],
   "source": [
    "fashion.getItem()"
   ]
  },
  {
   "cell_type": "code",
   "execution_count": 17,
   "id": "969c1963",
   "metadata": {},
   "outputs": [],
   "source": [
    "fashion = Fashion(\"112\",\"Men\",20.0,\"Designer\",\"Shirt\",38,[\"blue\",\"white\"])"
   ]
  },
  {
   "cell_type": "code",
   "execution_count": 18,
   "id": "867bee8f",
   "metadata": {},
   "outputs": [
    {
     "data": {
      "text/plain": [
       "('112', 'Men', 20.0, 'Designer', 'Shirt', 38, ['blue', 'white'])"
      ]
     },
     "execution_count": 18,
     "metadata": {},
     "output_type": "execute_result"
    }
   ],
   "source": [
    "fashion.getItem()"
   ]
  },
  {
   "cell_type": "markdown",
   "id": "4f87d975",
   "metadata": {},
   "source": [
    "#### Method2"
   ]
  },
  {
   "cell_type": "code",
   "execution_count": 19,
   "id": "503565fe",
   "metadata": {},
   "outputs": [],
   "source": [
    "class typecheck:\n",
    "    def intcheck(self,inputvalue):\n",
    "        if type(inputvalue) != int:\n",
    "            return False\n",
    "        else:\n",
    "            return True\n",
    "    \n",
    "    def stringcheck(self,inputvalue):\n",
    "        if type(inputvalue) != str:\n",
    "            return False\n",
    "        else:\n",
    "            return True\n",
    "        \n",
    "    def floatcheck(self,inputvalue):\n",
    "        if type(inputvalue) != float:\n",
    "            return False\n",
    "        else:\n",
    "            return True\n",
    "            \n",
    "    def listcheck(self,inputvalue):\n",
    "        if type(inputvalue) != list:\n",
    "            return False\n",
    "        else:\n",
    "            return True\n",
    "            \n",
    "    def tuplecheck(self,inputvalue):\n",
    "        if type(inputvalue) != tuple:\n",
    "            return False\n",
    "        else:\n",
    "            return True\n",
    "\n",
    "    def dictcheck(self,inputvalue):\n",
    "        if type(inputvalue) != dict:\n",
    "            return False\n",
    "        else:\n",
    "            return True"
   ]
  },
  {
   "cell_type": "code",
   "execution_count": 20,
   "id": "d7d67cb3",
   "metadata": {},
   "outputs": [],
   "source": [
    "class Fashion:\n",
    "    def __init__(self,clothingCategory: str,gender:str,model:tuple,design:int,price:float,size:dict, color:list):\n",
    "        tc = typecheck()\n",
    "        if tc.stringcheck(clothingCategory):\n",
    "            self.clothingCategory = clothingCategory\n",
    "        else:\n",
    "            print(\"clothing category should be a string\")\n",
    "            \n",
    "        if tc.stringcheck(gender):\n",
    "            self.gender = gender\n",
    "        else: \n",
    "            print(\"gender should be a string\")\n",
    "            \n",
    "        if tc.tuplecheck(model):\n",
    "            self.model = model\n",
    "        else:\n",
    "            print(\"model should be a tuple\")\n",
    "            \n",
    "        if tc.intcheck(design):\n",
    "            self.design = design\n",
    "        else:\n",
    "            print(\"design should be an integer\")\n",
    "            \n",
    "        if tc.floatcheck(price):\n",
    "            self.price = price\n",
    "        else:\n",
    "            print(\"price should be a floating point value\")\n",
    "            \n",
    "        if tc.dictcheck(size):\n",
    "            self.size = size\n",
    "        else:\n",
    "            print(\"size should be a dictionary object\")\n",
    "            \n",
    "        if tc.listcheck(color):       \n",
    "            self.color = color\n",
    "        else:\n",
    "            print(\"color should be a list of values\")\n",
    "        \n",
    "    def getitem(self):\n",
    "        return self.clothingCategory,self.gender,self.model,self.design,self.price, self.size,self.color"
   ]
  },
  {
   "cell_type": "code",
   "execution_count": 21,
   "id": "a5154919",
   "metadata": {},
   "outputs": [
    {
     "name": "stdout",
     "output_type": "stream",
     "text": [
      "clothing category should be a string\n",
      "model should be a tuple\n",
      "design should be an integer\n",
      "price should be a floating point value\n",
      "size should be a dictionary object\n",
      "color should be a list of values\n"
     ]
    }
   ],
   "source": [
    "fashion = Fashion(12,\"Women\",\"Western\",\"Floral\",\"Maxi Dress\",34,\"yellow\")"
   ]
  },
  {
   "cell_type": "code",
   "execution_count": 22,
   "id": "6c49eff6",
   "metadata": {},
   "outputs": [
    {
     "ename": "AttributeError",
     "evalue": "'Fashion' object has no attribute 'clothingCategory'",
     "output_type": "error",
     "traceback": [
      "\u001b[1;31m---------------------------------------------------------------------------\u001b[0m",
      "\u001b[1;31mAttributeError\u001b[0m                            Traceback (most recent call last)",
      "\u001b[1;32m<ipython-input-22-fa1ce8e899e3>\u001b[0m in \u001b[0;36m<module>\u001b[1;34m\u001b[0m\n\u001b[1;32m----> 1\u001b[1;33m \u001b[0mfashion\u001b[0m\u001b[1;33m.\u001b[0m\u001b[0mgetitem\u001b[0m\u001b[1;33m(\u001b[0m\u001b[1;33m)\u001b[0m\u001b[1;33m\u001b[0m\u001b[1;33m\u001b[0m\u001b[0m\n\u001b[0m",
      "\u001b[1;32m<ipython-input-20-6c4e3fd28513>\u001b[0m in \u001b[0;36mgetitem\u001b[1;34m(self)\u001b[0m\n\u001b[0;32m     38\u001b[0m \u001b[1;33m\u001b[0m\u001b[0m\n\u001b[0;32m     39\u001b[0m     \u001b[1;32mdef\u001b[0m \u001b[0mgetitem\u001b[0m\u001b[1;33m(\u001b[0m\u001b[0mself\u001b[0m\u001b[1;33m)\u001b[0m\u001b[1;33m:\u001b[0m\u001b[1;33m\u001b[0m\u001b[1;33m\u001b[0m\u001b[0m\n\u001b[1;32m---> 40\u001b[1;33m         \u001b[1;32mreturn\u001b[0m \u001b[0mself\u001b[0m\u001b[1;33m.\u001b[0m\u001b[0mclothingCategory\u001b[0m\u001b[1;33m,\u001b[0m\u001b[0mself\u001b[0m\u001b[1;33m.\u001b[0m\u001b[0mgender\u001b[0m\u001b[1;33m,\u001b[0m\u001b[0mself\u001b[0m\u001b[1;33m.\u001b[0m\u001b[0mmodel\u001b[0m\u001b[1;33m,\u001b[0m\u001b[0mself\u001b[0m\u001b[1;33m.\u001b[0m\u001b[0mdesign\u001b[0m\u001b[1;33m,\u001b[0m\u001b[0mself\u001b[0m\u001b[1;33m.\u001b[0m\u001b[0mprice\u001b[0m\u001b[1;33m,\u001b[0m \u001b[0mself\u001b[0m\u001b[1;33m.\u001b[0m\u001b[0msize\u001b[0m\u001b[1;33m,\u001b[0m\u001b[0mself\u001b[0m\u001b[1;33m.\u001b[0m\u001b[0mcolor\u001b[0m\u001b[1;33m\u001b[0m\u001b[1;33m\u001b[0m\u001b[0m\n\u001b[0m",
      "\u001b[1;31mAttributeError\u001b[0m: 'Fashion' object has no attribute 'clothingCategory'"
     ]
    }
   ],
   "source": [
    "fashion.getitem()"
   ]
  },
  {
   "cell_type": "code",
   "execution_count": 23,
   "id": "4f06ed98",
   "metadata": {},
   "outputs": [],
   "source": [
    "fashion = Fashion(\"Rayon\",\"Women\",(\"Western\",\"Floral\"),12012,100.50,{'XS': 36, 'S': 38, 'M': 40},[\"yellow\",\"red\"])"
   ]
  },
  {
   "cell_type": "code",
   "execution_count": 24,
   "id": "a22d50de",
   "metadata": {},
   "outputs": [
    {
     "data": {
      "text/plain": [
       "('Rayon',\n",
       " 'Women',\n",
       " ('Western', 'Floral'),\n",
       " 12012,\n",
       " 100.5,\n",
       " {'XS': 36, 'S': 38, 'M': 40},\n",
       " ['yellow', 'red'])"
      ]
     },
     "execution_count": 24,
     "metadata": {},
     "output_type": "execute_result"
    }
   ],
   "source": [
    "fashion.getitem()"
   ]
  },
  {
   "cell_type": "markdown",
   "id": "e406212c",
   "metadata": {},
   "source": [
    "### Data types - with constraints"
   ]
  },
  {
   "cell_type": "code",
   "execution_count": 25,
   "id": "7bc8cfbc",
   "metadata": {},
   "outputs": [],
   "source": [
    "class typecheck:\n",
    "    def intcheck(self,inputvalue):\n",
    "        if (type(inputvalue) != int) or (len(str(inputvalue))>2):\n",
    "            return False\n",
    "        else:\n",
    "            return True\n",
    "    \n",
    "    def stringcheck(self,inputvalue):\n",
    "        if (type(inputvalue) != str) or (len(str(inputvalue))>10):\n",
    "            return False\n",
    "        else:\n",
    "            return True\n",
    "        "
   ]
  },
  {
   "cell_type": "code",
   "execution_count": 26,
   "id": "fe33cffa",
   "metadata": {},
   "outputs": [],
   "source": [
    "class Fashion:\n",
    "    def __init__(self,clothingCategory: str,size:int):\n",
    "        tc = typecheck()\n",
    "        if tc.stringcheck(clothingCategory):\n",
    "            self.clothingCategory = clothingCategory\n",
    "        else:\n",
    "            print(\"value should be a string of length less than or equal to 10\")\n",
    "        if tc.intcheck(size):\n",
    "            self.size = size\n",
    "        else:\n",
    "            print(\"value should be an integer of 2 digits or less\")\n",
    "        \n",
    "    def getitem(self):\n",
    "        return self.clothingCategory,self.size"
   ]
  },
  {
   "cell_type": "code",
   "execution_count": 27,
   "id": "1e901ef8",
   "metadata": {},
   "outputs": [
    {
     "name": "stdout",
     "output_type": "stream",
     "text": [
      "value should be a string of length less than or equal to 10\n",
      "value should be an integer of 2 digits or less\n"
     ]
    }
   ],
   "source": [
    "fashion = Fashion(\"Clothing & Accessories\",384)"
   ]
  },
  {
   "cell_type": "code",
   "execution_count": 28,
   "id": "9ba42a8c",
   "metadata": {},
   "outputs": [],
   "source": [
    "fashion = Fashion(\"Cotton\",34)"
   ]
  },
  {
   "cell_type": "code",
   "execution_count": 29,
   "id": "ac6e6f40",
   "metadata": {},
   "outputs": [
    {
     "data": {
      "text/plain": [
       "('Cotton', 34)"
      ]
     },
     "execution_count": 29,
     "metadata": {},
     "output_type": "execute_result"
    }
   ],
   "source": [
    "fashion.getitem()"
   ]
  },
  {
   "cell_type": "markdown",
   "id": "5965be8b",
   "metadata": {},
   "source": [
    "### Simple custom data type"
   ]
  },
  {
   "cell_type": "code",
   "execution_count": 30,
   "id": "92650d77",
   "metadata": {},
   "outputs": [],
   "source": [
    "class DressSize:\n",
    "    def __init__(self,size:int):\n",
    "        if type(size)==int:\n",
    "            self.size = size\n",
    "        else:\n",
    "            print(\"\\x1B[31mSize should be an integer\")  \n",
    "    \n",
    "    def __str__(self):\n",
    "        return str(self.size)\n",
    "    \n",
    "    def value(self):\n",
    "        return self.size\n",
    "    \n",
    "    def __add__(self,second):\n",
    "        result = self.size + second.size\n",
    "        return result\n",
    "    \n",
    "    def __sub__(self,second):\n",
    "        result = self.size - second.size\n",
    "        return result   \n",
    "        "
   ]
  },
  {
   "cell_type": "code",
   "execution_count": 31,
   "id": "18ead73d",
   "metadata": {},
   "outputs": [
    {
     "name": "stdout",
     "output_type": "stream",
     "text": [
      "\u001b[31mSize should be an integer\n"
     ]
    }
   ],
   "source": [
    "s = DressSize(\"30\")"
   ]
  },
  {
   "cell_type": "code",
   "execution_count": 32,
   "id": "17faf9aa",
   "metadata": {},
   "outputs": [
    {
     "ename": "AttributeError",
     "evalue": "'DressSize' object has no attribute 'size'",
     "output_type": "error",
     "traceback": [
      "\u001b[1;31m---------------------------------------------------------------------------\u001b[0m",
      "\u001b[1;31mAttributeError\u001b[0m                            Traceback (most recent call last)",
      "\u001b[1;32m<ipython-input-32-3d2db1bf7adf>\u001b[0m in \u001b[0;36m<module>\u001b[1;34m\u001b[0m\n\u001b[1;32m----> 1\u001b[1;33m \u001b[0ms\u001b[0m\u001b[1;33m.\u001b[0m\u001b[0mvalue\u001b[0m\u001b[1;33m(\u001b[0m\u001b[1;33m)\u001b[0m\u001b[1;33m\u001b[0m\u001b[1;33m\u001b[0m\u001b[0m\n\u001b[0m",
      "\u001b[1;32m<ipython-input-30-5269406ba653>\u001b[0m in \u001b[0;36mvalue\u001b[1;34m(self)\u001b[0m\n\u001b[0;32m     10\u001b[0m \u001b[1;33m\u001b[0m\u001b[0m\n\u001b[0;32m     11\u001b[0m     \u001b[1;32mdef\u001b[0m \u001b[0mvalue\u001b[0m\u001b[1;33m(\u001b[0m\u001b[0mself\u001b[0m\u001b[1;33m)\u001b[0m\u001b[1;33m:\u001b[0m\u001b[1;33m\u001b[0m\u001b[1;33m\u001b[0m\u001b[0m\n\u001b[1;32m---> 12\u001b[1;33m         \u001b[1;32mreturn\u001b[0m \u001b[0mself\u001b[0m\u001b[1;33m.\u001b[0m\u001b[0msize\u001b[0m\u001b[1;33m\u001b[0m\u001b[1;33m\u001b[0m\u001b[0m\n\u001b[0m\u001b[0;32m     13\u001b[0m \u001b[1;33m\u001b[0m\u001b[0m\n\u001b[0;32m     14\u001b[0m     \u001b[1;32mdef\u001b[0m \u001b[0m__add__\u001b[0m\u001b[1;33m(\u001b[0m\u001b[0mself\u001b[0m\u001b[1;33m,\u001b[0m\u001b[0msecond\u001b[0m\u001b[1;33m)\u001b[0m\u001b[1;33m:\u001b[0m\u001b[1;33m\u001b[0m\u001b[1;33m\u001b[0m\u001b[0m\n",
      "\u001b[1;31mAttributeError\u001b[0m: 'DressSize' object has no attribute 'size'"
     ]
    }
   ],
   "source": [
    "s.value()"
   ]
  },
  {
   "cell_type": "code",
   "execution_count": 33,
   "id": "585c400a",
   "metadata": {},
   "outputs": [
    {
     "data": {
      "text/plain": [
       "<__main__.DressSize at 0x1ce8c0eb3a0>"
      ]
     },
     "execution_count": 33,
     "metadata": {},
     "output_type": "execute_result"
    }
   ],
   "source": [
    "s = DressSize(30)\n",
    "s"
   ]
  },
  {
   "cell_type": "code",
   "execution_count": 34,
   "id": "4461444e",
   "metadata": {},
   "outputs": [
    {
     "data": {
      "text/plain": [
       "36"
      ]
     },
     "execution_count": 34,
     "metadata": {},
     "output_type": "execute_result"
    }
   ],
   "source": [
    "DressSize(30) + DressSize(6)"
   ]
  },
  {
   "cell_type": "code",
   "execution_count": 35,
   "id": "9e1e2ff9",
   "metadata": {},
   "outputs": [
    {
     "data": {
      "text/plain": [
       "26"
      ]
     },
     "execution_count": 35,
     "metadata": {},
     "output_type": "execute_result"
    }
   ],
   "source": [
    "DressSize(30) - DressSize(4)"
   ]
  },
  {
   "cell_type": "code",
   "execution_count": 36,
   "id": "7caa62eb",
   "metadata": {},
   "outputs": [
    {
     "name": "stdout",
     "output_type": "stream",
     "text": [
      "30\n"
     ]
    }
   ],
   "source": [
    "print(s)"
   ]
  },
  {
   "cell_type": "code",
   "execution_count": 37,
   "id": "b954cb6d",
   "metadata": {},
   "outputs": [
    {
     "data": {
      "text/plain": [
       "30"
      ]
     },
     "execution_count": 37,
     "metadata": {},
     "output_type": "execute_result"
    }
   ],
   "source": [
    "s.value()"
   ]
  },
  {
   "cell_type": "code",
   "execution_count": 38,
   "id": "42fe1ee3",
   "metadata": {},
   "outputs": [
    {
     "data": {
      "text/plain": [
       "__main__.DressSize"
      ]
     },
     "execution_count": 38,
     "metadata": {},
     "output_type": "execute_result"
    }
   ],
   "source": [
    "type(s)"
   ]
  },
  {
   "cell_type": "markdown",
   "id": "a4fc7057",
   "metadata": {},
   "source": [
    "### Domain specific data type"
   ]
  },
  {
   "cell_type": "code",
   "execution_count": 39,
   "id": "354f6efa",
   "metadata": {},
   "outputs": [],
   "source": [
    "class DressSize:\n",
    "    def __init__(self, size):\n",
    "        self.romanchart = ['XS','S','M','L','XL','XXL','XXXL']\n",
    "        self.sizenum = [36,38,40,42,44,46,48]\n",
    "        self.chart = {}\n",
    "        for key,value in zip(self.romanchart,self.sizenum):\n",
    "            self.chart[key] = value\n",
    "                \n",
    "        if (size in self.romanchart) or (size in self.sizenum ):\n",
    "            self.size = size\n",
    "        else:\n",
    "            print(\"\\x1B[31mEnter valid size\")\n",
    "    \n",
    "    def __str__(self):\n",
    "        return str(self.size)\n",
    "    \n",
    "    def value(self):\n",
    "        return self.size\n",
    "    \n",
    "    def increase(self):\n",
    "        if (self.size in self.chart):\n",
    "            result = self.chart[self.size] + 2\n",
    "            return result\n",
    "        elif (self.size in self.sizenum ):\n",
    "            result = self.size + 2\n",
    "            return result\n",
    "    \n",
    "    def decrease(self):\n",
    "        if (self.size in self.chart):\n",
    "            result = self.chart[self.size] - 2\n",
    "            return result\n",
    "        elif (self.size in self.sizenum ):\n",
    "            result = self.size - 2\n",
    "            return result"
   ]
  },
  {
   "cell_type": "code",
   "execution_count": 40,
   "id": "7af4205e",
   "metadata": {},
   "outputs": [],
   "source": [
    "s = DressSize(\"XS\")"
   ]
  },
  {
   "cell_type": "code",
   "execution_count": 41,
   "id": "d565562a",
   "metadata": {},
   "outputs": [
    {
     "data": {
      "text/plain": [
       "{'XS': 36, 'S': 38, 'M': 40, 'L': 42, 'XL': 44, 'XXL': 46, 'XXXL': 48}"
      ]
     },
     "execution_count": 41,
     "metadata": {},
     "output_type": "execute_result"
    }
   ],
   "source": [
    "s.chart"
   ]
  },
  {
   "cell_type": "code",
   "execution_count": 42,
   "id": "5e1e86eb",
   "metadata": {},
   "outputs": [
    {
     "name": "stdout",
     "output_type": "stream",
     "text": [
      "XS\n"
     ]
    }
   ],
   "source": [
    "print(s)"
   ]
  },
  {
   "cell_type": "code",
   "execution_count": 43,
   "id": "2e00026e",
   "metadata": {},
   "outputs": [
    {
     "data": {
      "text/plain": [
       "'XS'"
      ]
     },
     "execution_count": 43,
     "metadata": {},
     "output_type": "execute_result"
    }
   ],
   "source": [
    "s.value()"
   ]
  },
  {
   "cell_type": "code",
   "execution_count": 44,
   "id": "6ceff190",
   "metadata": {},
   "outputs": [
    {
     "data": {
      "text/plain": [
       "38"
      ]
     },
     "execution_count": 44,
     "metadata": {},
     "output_type": "execute_result"
    }
   ],
   "source": [
    "s.increase()"
   ]
  },
  {
   "cell_type": "code",
   "execution_count": 45,
   "id": "787439db",
   "metadata": {},
   "outputs": [
    {
     "data": {
      "text/plain": [
       "34"
      ]
     },
     "execution_count": 45,
     "metadata": {},
     "output_type": "execute_result"
    }
   ],
   "source": [
    "s.decrease()"
   ]
  },
  {
   "cell_type": "code",
   "execution_count": 46,
   "id": "0833c4b4",
   "metadata": {},
   "outputs": [],
   "source": [
    "class Fashion:\n",
    "    def __init__(self,clothingCategory: str,gender:str,model:str,design:str,dressType:str,color:str,size:DressSize):\n",
    "        self.clothingCategory = clothingCategory\n",
    "        self.gender = gender\n",
    "        self.model = model\n",
    "        self.design = design\n",
    "        self.dressType = dressType\n",
    "        self.color = color\n",
    "        if isinstance(size,DressSize):\n",
    "            self.size = size\n",
    "        else:\n",
    "            print(\"value should be of type DressSize\")        \n",
    "        \n",
    "    def getitem(self):\n",
    "        return self.clothingCategory,self.gender,self.model,self.design,self.dressType,self.color,self.size"
   ]
  },
  {
   "cell_type": "code",
   "execution_count": 47,
   "id": "89c03e59",
   "metadata": {},
   "outputs": [
    {
     "name": "stdout",
     "output_type": "stream",
     "text": [
      "value should be of type DressSize\n"
     ]
    }
   ],
   "source": [
    "fashion = Fashion(\"Clothing\",\"Women\",\"Western\",\"Dotted\",\"Jumpsuits\",'blue',\"XL\")"
   ]
  },
  {
   "cell_type": "code",
   "execution_count": 48,
   "id": "97b5a527",
   "metadata": {},
   "outputs": [],
   "source": [
    "M = DressSize(\"M\")"
   ]
  },
  {
   "cell_type": "code",
   "execution_count": 49,
   "id": "3618c51c",
   "metadata": {},
   "outputs": [],
   "source": [
    "fashion = Fashion(\"Clothing\",\"Women\",\"Western\",\"Dotted\",\"Jumpsuits\",'blue',M)"
   ]
  },
  {
   "cell_type": "code",
   "execution_count": 50,
   "id": "dd743cf3",
   "metadata": {},
   "outputs": [
    {
     "data": {
      "text/plain": [
       "('Clothing',\n",
       " 'Women',\n",
       " 'Western',\n",
       " 'Dotted',\n",
       " 'Jumpsuits',\n",
       " 'blue',\n",
       " <__main__.DressSize at 0x1ce8c13a850>)"
      ]
     },
     "execution_count": 50,
     "metadata": {},
     "output_type": "execute_result"
    }
   ],
   "source": [
    "fashion.getitem()"
   ]
  },
  {
   "cell_type": "code",
   "execution_count": 51,
   "id": "10d8f172",
   "metadata": {},
   "outputs": [
    {
     "data": {
      "text/plain": [
       "'M'"
      ]
     },
     "execution_count": 51,
     "metadata": {},
     "output_type": "execute_result"
    }
   ],
   "source": [
    "fashion.size.value()"
   ]
  },
  {
   "cell_type": "markdown",
   "id": "bbb3a9f0",
   "metadata": {},
   "source": [
    "#### These are the examples covered in chapter 7."
   ]
  },
  {
   "cell_type": "code",
   "execution_count": null,
   "id": "9f0ec951",
   "metadata": {},
   "outputs": [],
   "source": []
  }
 ],
 "metadata": {
  "kernelspec": {
   "display_name": "Python 3",
   "language": "python",
   "name": "python3"
  },
  "language_info": {
   "codemirror_mode": {
    "name": "ipython",
    "version": 3
   },
   "file_extension": ".py",
   "mimetype": "text/x-python",
   "name": "python",
   "nbconvert_exporter": "python",
   "pygments_lexer": "ipython3",
   "version": "3.9.6"
  }
 },
 "nbformat": 4,
 "nbformat_minor": 5
}
