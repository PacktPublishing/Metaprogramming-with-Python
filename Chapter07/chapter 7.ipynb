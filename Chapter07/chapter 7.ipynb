{
 "cells": [
  {
   "cell_type": "markdown",
   "metadata": {},
   "source": [
    "### Generics and Typing"
   ]
  },
  {
   "cell_type": "markdown",
   "metadata": {},
   "source": [
    "### How are generics handled in Python?"
   ]
  },
  {
   "cell_type": "code",
   "execution_count": 1,
   "metadata": {},
   "outputs": [],
   "source": [
    "class Fashion:\n",
    "    def __init__(self,clothing_category,gender,model,design,dress_type,size, color):\n",
    "        self.clothing_category = clothing_category\n",
    "        self.gender = gender\n",
    "        self.model = model\n",
    "        self.design = design\n",
    "        self.dress_type = dress_type\n",
    "        self.size = size\n",
    "        self.color = color\n",
    "        \n",
    "    def get_item(self):\n",
    "        return self.clothing_category,self.gender,self.model,self.design,self.dress_type, self.size,self.color        "
   ]
  },
  {
   "cell_type": "markdown",
   "metadata": {},
   "source": [
    "#### Assign any data type"
   ]
  },
  {
   "cell_type": "code",
   "execution_count": 2,
   "metadata": {},
   "outputs": [],
   "source": [
    "fashion = Fashion(\"Clothing\",\"Women\",\"Western\",\"Dotted\",\"Jumpsuits\",38,\"blue\")"
   ]
  },
  {
   "cell_type": "code",
   "execution_count": 3,
   "metadata": {},
   "outputs": [
    {
     "data": {
      "text/plain": [
       "('Clothing', 'Women', 'Western', 'Dotted', 'Jumpsuits', 38, 'blue')"
      ]
     },
     "execution_count": 3,
     "metadata": {},
     "output_type": "execute_result"
    }
   ],
   "source": [
    "fashion.get_item()"
   ]
  },
  {
   "cell_type": "code",
   "execution_count": 4,
   "metadata": {},
   "outputs": [
    {
     "data": {
      "text/plain": [
       "str"
      ]
     },
     "execution_count": 4,
     "metadata": {},
     "output_type": "execute_result"
    }
   ],
   "source": [
    "type(fashion.clothing_category)"
   ]
  },
  {
   "cell_type": "code",
   "execution_count": 5,
   "metadata": {},
   "outputs": [
    {
     "data": {
      "text/plain": [
       "int"
      ]
     },
     "execution_count": 5,
     "metadata": {},
     "output_type": "execute_result"
    }
   ],
   "source": [
    "type(fashion.size)"
   ]
  },
  {
   "cell_type": "markdown",
   "metadata": {},
   "source": [
    "#### Change data type"
   ]
  },
  {
   "cell_type": "code",
   "execution_count": 6,
   "metadata": {},
   "outputs": [],
   "source": [
    "fashion = Fashion(102,\"Women\",\"Western\",\"Floral\",\"T-Shirt\",\"XS\",\"green\")"
   ]
  },
  {
   "cell_type": "code",
   "execution_count": 7,
   "metadata": {},
   "outputs": [
    {
     "data": {
      "text/plain": [
       "(102, 'Women', 'Western', 'Floral', 'T-Shirt', 'XS', 'green')"
      ]
     },
     "execution_count": 7,
     "metadata": {},
     "output_type": "execute_result"
    }
   ],
   "source": [
    "fashion.get_item()"
   ]
  },
  {
   "cell_type": "code",
   "execution_count": 8,
   "metadata": {},
   "outputs": [
    {
     "data": {
      "text/plain": [
       "int"
      ]
     },
     "execution_count": 8,
     "metadata": {},
     "output_type": "execute_result"
    }
   ],
   "source": [
    "type(fashion.clothing_category)"
   ]
  },
  {
   "cell_type": "code",
   "execution_count": 9,
   "metadata": {},
   "outputs": [
    {
     "data": {
      "text/plain": [
       "str"
      ]
     },
     "execution_count": 9,
     "metadata": {},
     "output_type": "execute_result"
    }
   ],
   "source": [
    "type(fashion.size)"
   ]
  },
  {
   "cell_type": "markdown",
   "metadata": {},
   "source": [
    "### What happens when data types are specified?"
   ]
  },
  {
   "cell_type": "markdown",
   "metadata": {},
   "source": [
    "#### Type hinting"
   ]
  },
  {
   "cell_type": "code",
   "execution_count": 70,
   "metadata": {},
   "outputs": [],
   "source": [
    "class Fashion:\n",
    "    def __init__(self,clothing_category: str,gender:str,model:str,design:str,dress_type:str,size:int, color:str):\n",
    "        self.clothing_category = clothing_category\n",
    "        self.gender = gender\n",
    "        self.model = model\n",
    "        self.design = design\n",
    "        self.dress_type = dress_type\n",
    "        self.size = size\n",
    "        self.color = color\n",
    "        \n",
    "    def get_item(self) -> list:\n",
    "        return [self.clothing_category,self.gender,self.model,self.design,self.dress_type, self.size,self.color]"
   ]
  },
  {
   "cell_type": "code",
   "execution_count": 71,
   "metadata": {},
   "outputs": [],
   "source": [
    "fashion = Fashion(104,\"Women\",\"Western\",\"Cotton\",\"Shirt\",\"S\",\"white\")"
   ]
  },
  {
   "cell_type": "code",
   "execution_count": 72,
   "metadata": {},
   "outputs": [
    {
     "data": {
      "text/plain": [
       "[104, 'Women', 'Western', 'Cotton', 'Shirt', 'S', 'white']"
      ]
     },
     "execution_count": 72,
     "metadata": {},
     "output_type": "execute_result"
    }
   ],
   "source": [
    "fashion.get_item()"
   ]
  },
  {
   "cell_type": "code",
   "execution_count": 73,
   "metadata": {},
   "outputs": [
    {
     "name": "stdout",
     "output_type": "stream",
     "text": [
      "{'return': <class 'list'>}\n"
     ]
    }
   ],
   "source": [
    "print(Fashion.get_item.__annotations__)"
   ]
  },
  {
   "cell_type": "markdown",
   "metadata": {},
   "source": [
    "### Typing - with explicit type checks"
   ]
  },
  {
   "cell_type": "markdown",
   "metadata": {},
   "source": [
    "#### Method1:"
   ]
  },
  {
   "cell_type": "code",
   "execution_count": 13,
   "metadata": {},
   "outputs": [],
   "source": [
    "class typecheck:\n",
    "    def intcheck(self,inputvalue):\n",
    "        if type(inputvalue) != int:\n",
    "            print(\"value should be an integer\")\n",
    "        else:\n",
    "            return inputvalue\n",
    "    \n",
    "    def stringcheck(self,inputvalue):\n",
    "        if type(inputvalue) != str:\n",
    "            print(\"value should be a string\")\n",
    "        else:\n",
    "            return inputvalue\n",
    "        \n",
    "    def floatcheck(self,inputvalue):\n",
    "        if type(inputvalue) != float:\n",
    "            print(\"value should be a float\")\n",
    "        else:\n",
    "            return inputvalue\n",
    "            \n",
    "    def listcheck(self,inputvalue):\n",
    "        if type(inputvalue) != list:\n",
    "            print(\"value should be a list\")\n",
    "        else:\n",
    "            return inputvalue\n",
    "            \n",
    "    def tuplecheck(self,inputvalue):\n",
    "        if type(inputvalue) != tuple:\n",
    "            print(\"value should be a tuple\")\n",
    "        else:\n",
    "            return inputvalue\n",
    "\n",
    "    def dictcheck(self,inputvalue):\n",
    "        if type(inputvalue) != dict:\n",
    "            print(\"value should be a dict\")\n",
    "        else:\n",
    "            return inputvalue"
   ]
  },
  {
   "cell_type": "code",
   "execution_count": 14,
   "metadata": {},
   "outputs": [],
   "source": [
    "class Fashion:\n",
    "    def __init__(self,clothing_category: str,gender:str,price:float,design:str,dress_type:str,size:int, color:list):\n",
    "        tc = typecheck()\n",
    "        self.clothing_category = tc.stringcheck(clothing_category)\n",
    "        self.gender = tc.stringcheck(gender)\n",
    "        self.price = tc.floatcheck(price)\n",
    "        self.design = tc.stringcheck(design)\n",
    "        self.dress_type = tc.stringcheck(dress_type)\n",
    "        self.size = tc.intcheck(size)\n",
    "        self.color = tc.listcheck(color)\n",
    "        \n",
    "    def get_item(self):\n",
    "        return self.clothing_category,self.gender,self.price,self.design,self.dress_type, self.size,self.color"
   ]
  },
  {
   "cell_type": "code",
   "execution_count": 15,
   "metadata": {},
   "outputs": [
    {
     "name": "stdout",
     "output_type": "stream",
     "text": [
      "value should be a string\n",
      "value should be a float\n",
      "value should be an integer\n",
      "value should be a list\n"
     ]
    }
   ],
   "source": [
    "fashion = Fashion(112,\"Men\",\"Western\",\"Designer\",\"Shirt\",38.4,\"black\")"
   ]
  },
  {
   "cell_type": "code",
   "execution_count": 16,
   "metadata": {},
   "outputs": [
    {
     "data": {
      "text/plain": [
       "(None, 'Men', None, 'Designer', 'Shirt', None, None)"
      ]
     },
     "execution_count": 16,
     "metadata": {},
     "output_type": "execute_result"
    }
   ],
   "source": [
    "fashion.get_item()"
   ]
  },
  {
   "cell_type": "code",
   "execution_count": 17,
   "metadata": {},
   "outputs": [],
   "source": [
    "fashion = Fashion(\"112\",\"Men\",20.0,\"Designer\",\"Shirt\",38,[\"blue\",\"white\"])"
   ]
  },
  {
   "cell_type": "code",
   "execution_count": 18,
   "metadata": {},
   "outputs": [
    {
     "data": {
      "text/plain": [
       "('112', 'Men', 20.0, 'Designer', 'Shirt', 38, ['blue', 'white'])"
      ]
     },
     "execution_count": 18,
     "metadata": {},
     "output_type": "execute_result"
    }
   ],
   "source": [
    "fashion.get_item()"
   ]
  },
  {
   "cell_type": "markdown",
   "metadata": {},
   "source": [
    "#### Method2"
   ]
  },
  {
   "cell_type": "code",
   "execution_count": 19,
   "metadata": {},
   "outputs": [],
   "source": [
    "class typecheck:\n",
    "    def intcheck(self,inputvalue):\n",
    "        if type(inputvalue) != int:\n",
    "            return False\n",
    "        else:\n",
    "            return True\n",
    "    \n",
    "    def stringcheck(self,inputvalue):\n",
    "        if type(inputvalue) != str:\n",
    "            return False\n",
    "        else:\n",
    "            return True\n",
    "        \n",
    "    def floatcheck(self,inputvalue):\n",
    "        if type(inputvalue) != float:\n",
    "            return False\n",
    "        else:\n",
    "            return True\n",
    "            \n",
    "    def listcheck(self,inputvalue):\n",
    "        if type(inputvalue) != list:\n",
    "            return False\n",
    "        else:\n",
    "            return True\n",
    "            \n",
    "    def tuplecheck(self,inputvalue):\n",
    "        if type(inputvalue) != tuple:\n",
    "            return False\n",
    "        else:\n",
    "            return True\n",
    "\n",
    "    def dictcheck(self,inputvalue):\n",
    "        if type(inputvalue) != dict:\n",
    "            return False\n",
    "        else:\n",
    "            return True"
   ]
  },
  {
   "cell_type": "code",
   "execution_count": 20,
   "metadata": {},
   "outputs": [],
   "source": [
    "class Fashion:\n",
    "    def __init__(self,clothing_category: str,gender:str,model:tuple,design:int,price:float,size:dict, color:list):\n",
    "        tc = typecheck()\n",
    "        if tc.stringcheck(clothing_category):\n",
    "            self.clothing_category = clothing_category\n",
    "        else:\n",
    "            print(\"clothing category should be a string\")\n",
    "            \n",
    "        if tc.stringcheck(gender):\n",
    "            self.gender = gender\n",
    "        else: \n",
    "            print(\"gender should be a string\")\n",
    "            \n",
    "        if tc.tuplecheck(model):\n",
    "            self.model = model\n",
    "        else:\n",
    "            print(\"model should be a tuple\")\n",
    "            \n",
    "        if tc.intcheck(design):\n",
    "            self.design = design\n",
    "        else:\n",
    "            print(\"design should be an integer\")\n",
    "            \n",
    "        if tc.floatcheck(price):\n",
    "            self.price = price\n",
    "        else:\n",
    "            print(\"price should be a floating point value\")\n",
    "            \n",
    "        if tc.dictcheck(size):\n",
    "            self.size = size\n",
    "        else:\n",
    "            print(\"size should be a dictionary object\")\n",
    "            \n",
    "        if tc.listcheck(color):       \n",
    "            self.color = color\n",
    "        else:\n",
    "            print(\"color should be a list of values\")\n",
    "        \n",
    "    def get_item(self):\n",
    "        return self.clothing_category,self.gender,self.model,self.design,self.price, self.size,self.color"
   ]
  },
  {
   "cell_type": "code",
   "execution_count": 21,
   "metadata": {},
   "outputs": [
    {
     "name": "stdout",
     "output_type": "stream",
     "text": [
      "clothing category should be a string\n",
      "model should be a tuple\n",
      "design should be an integer\n",
      "price should be a floating point value\n",
      "size should be a dictionary object\n",
      "color should be a list of values\n"
     ]
    }
   ],
   "source": [
    "fashion = Fashion(12,\"Women\",\"Western\",\"Floral\",\"Maxi Dress\",34,\"yellow\")"
   ]
  },
  {
   "cell_type": "code",
   "execution_count": 22,
   "metadata": {},
   "outputs": [
    {
     "ename": "AttributeError",
     "evalue": "'Fashion' object has no attribute 'clothing_category'",
     "output_type": "error",
     "traceback": [
      "\u001b[1;31m---------------------------------------------------------------------------\u001b[0m",
      "\u001b[1;31mAttributeError\u001b[0m                            Traceback (most recent call last)",
      "\u001b[1;32m<ipython-input-22-804d8f797e13>\u001b[0m in \u001b[0;36m<module>\u001b[1;34m\u001b[0m\n\u001b[1;32m----> 1\u001b[1;33m \u001b[0mfashion\u001b[0m\u001b[1;33m.\u001b[0m\u001b[0mget_item\u001b[0m\u001b[1;33m(\u001b[0m\u001b[1;33m)\u001b[0m\u001b[1;33m\u001b[0m\u001b[1;33m\u001b[0m\u001b[0m\n\u001b[0m",
      "\u001b[1;32m<ipython-input-20-983eae4fb6fc>\u001b[0m in \u001b[0;36mget_item\u001b[1;34m(self)\u001b[0m\n\u001b[0;32m     38\u001b[0m \u001b[1;33m\u001b[0m\u001b[0m\n\u001b[0;32m     39\u001b[0m     \u001b[1;32mdef\u001b[0m \u001b[0mget_item\u001b[0m\u001b[1;33m(\u001b[0m\u001b[0mself\u001b[0m\u001b[1;33m)\u001b[0m\u001b[1;33m:\u001b[0m\u001b[1;33m\u001b[0m\u001b[1;33m\u001b[0m\u001b[0m\n\u001b[1;32m---> 40\u001b[1;33m         \u001b[1;32mreturn\u001b[0m \u001b[0mself\u001b[0m\u001b[1;33m.\u001b[0m\u001b[0mclothing_category\u001b[0m\u001b[1;33m,\u001b[0m\u001b[0mself\u001b[0m\u001b[1;33m.\u001b[0m\u001b[0mgender\u001b[0m\u001b[1;33m,\u001b[0m\u001b[0mself\u001b[0m\u001b[1;33m.\u001b[0m\u001b[0mmodel\u001b[0m\u001b[1;33m,\u001b[0m\u001b[0mself\u001b[0m\u001b[1;33m.\u001b[0m\u001b[0mdesign\u001b[0m\u001b[1;33m,\u001b[0m\u001b[0mself\u001b[0m\u001b[1;33m.\u001b[0m\u001b[0mprice\u001b[0m\u001b[1;33m,\u001b[0m \u001b[0mself\u001b[0m\u001b[1;33m.\u001b[0m\u001b[0msize\u001b[0m\u001b[1;33m,\u001b[0m\u001b[0mself\u001b[0m\u001b[1;33m.\u001b[0m\u001b[0mcolor\u001b[0m\u001b[1;33m\u001b[0m\u001b[1;33m\u001b[0m\u001b[0m\n\u001b[0m",
      "\u001b[1;31mAttributeError\u001b[0m: 'Fashion' object has no attribute 'clothing_category'"
     ]
    }
   ],
   "source": [
    "fashion.get_item()"
   ]
  },
  {
   "cell_type": "code",
   "execution_count": 23,
   "metadata": {},
   "outputs": [],
   "source": [
    "fashion = Fashion(\"Rayon\",\"Women\",(\"Western\",\"Floral\"),12012,100.50,{'XS': 36, 'S': 38, 'M': 40},[\"yellow\",\"red\"])"
   ]
  },
  {
   "cell_type": "code",
   "execution_count": 24,
   "metadata": {},
   "outputs": [
    {
     "data": {
      "text/plain": [
       "('Rayon',\n",
       " 'Women',\n",
       " ('Western', 'Floral'),\n",
       " 12012,\n",
       " 100.5,\n",
       " {'XS': 36, 'S': 38, 'M': 40},\n",
       " ['yellow', 'red'])"
      ]
     },
     "execution_count": 24,
     "metadata": {},
     "output_type": "execute_result"
    }
   ],
   "source": [
    "fashion.get_item()"
   ]
  },
  {
   "cell_type": "markdown",
   "metadata": {},
   "source": [
    "### Data types - with constraints"
   ]
  },
  {
   "cell_type": "code",
   "execution_count": 25,
   "metadata": {},
   "outputs": [],
   "source": [
    "class typecheck:\n",
    "    def intcheck(self,inputvalue):\n",
    "        if (type(inputvalue) != int) and (len(str(inputvalue))>2):\n",
    "            return False\n",
    "        else:\n",
    "            return True\n",
    "    \n",
    "    def stringcheck(self,inputvalue):\n",
    "        if (type(inputvalue) != str) and (len(str(inputvalue))>10):\n",
    "            return False\n",
    "        else:\n",
    "            return True\n",
    "        "
   ]
  },
  {
   "cell_type": "code",
   "execution_count": 26,
   "metadata": {},
   "outputs": [],
   "source": [
    "class Fashion:\n",
    "    def __init__(self,clothing_category: str,size:int):\n",
    "        tc = typecheck()\n",
    "        if tc.stringcheck(clothing_category):\n",
    "            self.clothing_category = clothing_category\n",
    "        else:\n",
    "            print(\"value should be a string of length less than or equal to 10\")\n",
    "        if tc.intcheck(size):\n",
    "            self.size = size\n",
    "        else:\n",
    "            print(\"value should be an integer of 2 digits or less\")\n",
    "        \n",
    "    def get_item(self):\n",
    "        return self.clothing_category,self.size"
   ]
  },
  {
   "cell_type": "code",
   "execution_count": 27,
   "metadata": {},
   "outputs": [],
   "source": [
    "fashion = Fashion(\"Clothing & Accessories\",384)"
   ]
  },
  {
   "cell_type": "code",
   "execution_count": 28,
   "metadata": {},
   "outputs": [],
   "source": [
    "fashion = Fashion(\"Cotton\",34)"
   ]
  },
  {
   "cell_type": "code",
   "execution_count": 29,
   "metadata": {},
   "outputs": [
    {
     "data": {
      "text/plain": [
       "('Cotton', 34)"
      ]
     },
     "execution_count": 29,
     "metadata": {},
     "output_type": "execute_result"
    }
   ],
   "source": [
    "fashion.get_item()"
   ]
  },
  {
   "cell_type": "markdown",
   "metadata": {},
   "source": [
    "### Simple custom data type"
   ]
  },
  {
   "cell_type": "code",
   "execution_count": 30,
   "metadata": {},
   "outputs": [],
   "source": [
    "class DressSize:\n",
    "    def __init__(self,size:int):\n",
    "        self.limit = [28, 30, 32, 34, 36, 38, 40, 42, 44, 46, 48]\n",
    "        if type(size)==int and size in self.limit:\n",
    "            self.size = size\n",
    "        else:\n",
    "            print(\"\\x1B[31mSize should be a valid dress size\")  \n",
    "    \n",
    "    def __str__(self):\n",
    "        return str(self.size)\n",
    "    \n",
    "    def value(self):\n",
    "        return self.size\n",
    "    \n",
    "    def __add__(self, up):\n",
    "        result = self.size + up\n",
    "        if result in self.limit:\n",
    "            return result\n",
    "        else:\n",
    "            return \"Input valid size increments\"\n",
    "    \n",
    "    def __sub__(self, down):\n",
    "        result = self.size - down\n",
    "        if result in self.limit:\n",
    "            return result\n",
    "        else:\n",
    "            return \"Input valid size decrements\"\n",
    "        "
   ]
  },
  {
   "cell_type": "code",
   "execution_count": 31,
   "metadata": {},
   "outputs": [
    {
     "name": "stdout",
     "output_type": "stream",
     "text": [
      "\u001b[31mSize should be a valid dress size\n"
     ]
    }
   ],
   "source": [
    "s = DressSize(\"30\")"
   ]
  },
  {
   "cell_type": "code",
   "execution_count": 32,
   "metadata": {},
   "outputs": [
    {
     "ename": "AttributeError",
     "evalue": "'DressSize' object has no attribute 'size'",
     "output_type": "error",
     "traceback": [
      "\u001b[1;31m---------------------------------------------------------------------------\u001b[0m",
      "\u001b[1;31mAttributeError\u001b[0m                            Traceback (most recent call last)",
      "\u001b[1;32m<ipython-input-32-3d2db1bf7adf>\u001b[0m in \u001b[0;36m<module>\u001b[1;34m\u001b[0m\n\u001b[1;32m----> 1\u001b[1;33m \u001b[0ms\u001b[0m\u001b[1;33m.\u001b[0m\u001b[0mvalue\u001b[0m\u001b[1;33m(\u001b[0m\u001b[1;33m)\u001b[0m\u001b[1;33m\u001b[0m\u001b[1;33m\u001b[0m\u001b[0m\n\u001b[0m",
      "\u001b[1;32m<ipython-input-30-4c3a7cb678f6>\u001b[0m in \u001b[0;36mvalue\u001b[1;34m(self)\u001b[0m\n\u001b[0;32m     11\u001b[0m \u001b[1;33m\u001b[0m\u001b[0m\n\u001b[0;32m     12\u001b[0m     \u001b[1;32mdef\u001b[0m \u001b[0mvalue\u001b[0m\u001b[1;33m(\u001b[0m\u001b[0mself\u001b[0m\u001b[1;33m)\u001b[0m\u001b[1;33m:\u001b[0m\u001b[1;33m\u001b[0m\u001b[1;33m\u001b[0m\u001b[0m\n\u001b[1;32m---> 13\u001b[1;33m         \u001b[1;32mreturn\u001b[0m \u001b[0mself\u001b[0m\u001b[1;33m.\u001b[0m\u001b[0msize\u001b[0m\u001b[1;33m\u001b[0m\u001b[1;33m\u001b[0m\u001b[0m\n\u001b[0m\u001b[0;32m     14\u001b[0m \u001b[1;33m\u001b[0m\u001b[0m\n\u001b[0;32m     15\u001b[0m     \u001b[1;32mdef\u001b[0m \u001b[0m__add__\u001b[0m\u001b[1;33m(\u001b[0m\u001b[0mself\u001b[0m\u001b[1;33m,\u001b[0m \u001b[0mup\u001b[0m\u001b[1;33m)\u001b[0m\u001b[1;33m:\u001b[0m\u001b[1;33m\u001b[0m\u001b[1;33m\u001b[0m\u001b[0m\n",
      "\u001b[1;31mAttributeError\u001b[0m: 'DressSize' object has no attribute 'size'"
     ]
    }
   ],
   "source": [
    "s.value()"
   ]
  },
  {
   "cell_type": "code",
   "execution_count": 33,
   "metadata": {},
   "outputs": [
    {
     "data": {
      "text/plain": [
       "<__main__.DressSize at 0x1bfcb73f8e0>"
      ]
     },
     "execution_count": 33,
     "metadata": {},
     "output_type": "execute_result"
    }
   ],
   "source": [
    "s = DressSize(30)\n",
    "s"
   ]
  },
  {
   "cell_type": "code",
   "execution_count": 34,
   "metadata": {},
   "outputs": [
    {
     "data": {
      "text/plain": [
       "36"
      ]
     },
     "execution_count": 34,
     "metadata": {},
     "output_type": "execute_result"
    }
   ],
   "source": [
    "DressSize(30) + 6"
   ]
  },
  {
   "cell_type": "code",
   "execution_count": 35,
   "metadata": {},
   "outputs": [
    {
     "data": {
      "text/plain": [
       "'Input valid size increments'"
      ]
     },
     "execution_count": 35,
     "metadata": {},
     "output_type": "execute_result"
    }
   ],
   "source": [
    "DressSize(30) + 3"
   ]
  },
  {
   "cell_type": "code",
   "execution_count": 36,
   "metadata": {},
   "outputs": [
    {
     "data": {
      "text/plain": [
       "28"
      ]
     },
     "execution_count": 36,
     "metadata": {},
     "output_type": "execute_result"
    }
   ],
   "source": [
    "DressSize(32) - 4"
   ]
  },
  {
   "cell_type": "code",
   "execution_count": 37,
   "metadata": {},
   "outputs": [
    {
     "data": {
      "text/plain": [
       "'Input valid size decrements'"
      ]
     },
     "execution_count": 37,
     "metadata": {},
     "output_type": "execute_result"
    }
   ],
   "source": [
    "DressSize(30) - 3"
   ]
  },
  {
   "cell_type": "code",
   "execution_count": 38,
   "metadata": {},
   "outputs": [
    {
     "name": "stdout",
     "output_type": "stream",
     "text": [
      "30\n"
     ]
    }
   ],
   "source": [
    "print(s)"
   ]
  },
  {
   "cell_type": "code",
   "execution_count": 39,
   "metadata": {},
   "outputs": [
    {
     "data": {
      "text/plain": [
       "30"
      ]
     },
     "execution_count": 39,
     "metadata": {},
     "output_type": "execute_result"
    }
   ],
   "source": [
    "s.value()"
   ]
  },
  {
   "cell_type": "code",
   "execution_count": 40,
   "metadata": {},
   "outputs": [
    {
     "data": {
      "text/plain": [
       "__main__.DressSize"
      ]
     },
     "execution_count": 40,
     "metadata": {},
     "output_type": "execute_result"
    }
   ],
   "source": [
    "type(s)"
   ]
  },
  {
   "cell_type": "markdown",
   "metadata": {},
   "source": [
    "### Domain specific data type"
   ]
  },
  {
   "cell_type": "code",
   "execution_count": 41,
   "metadata": {},
   "outputs": [],
   "source": [
    "romanchart = ['XS','S','M','L','XL','XXL','XXXL']\n",
    "sizenum = [36,38,40,42,44,46,48]\n",
    "chart = dict(zip(romanchart,sizenum))"
   ]
  },
  {
   "cell_type": "code",
   "execution_count": 42,
   "metadata": {},
   "outputs": [
    {
     "data": {
      "text/plain": [
       "dict_items([('XS', 36), ('S', 38), ('M', 40), ('L', 42), ('XL', 44), ('XXL', 46), ('XXXL', 48)])"
      ]
     },
     "execution_count": 42,
     "metadata": {},
     "output_type": "execute_result"
    }
   ],
   "source": [
    "chart.items()"
   ]
  },
  {
   "cell_type": "code",
   "execution_count": 43,
   "metadata": {},
   "outputs": [],
   "source": [
    "class DressSize:\n",
    "    def __init__(self, size):\n",
    "        self.romanchart = ['XS','S','M','L','XL','XXL','XXXL']\n",
    "        self.sizenum = [36,38,40,42,44,46,48]\n",
    "        self.chart = dict(zip(self.romanchart,self.sizenum))\n",
    "                \n",
    "        if (size in self.romanchart) or (size in self.sizenum ):\n",
    "            self.size = size\n",
    "        else:\n",
    "            print(\"\\x1B[31mEnter valid size\")\n",
    "    \n",
    "    def __str__(self):\n",
    "        return str(self.size)\n",
    "    \n",
    "    def value(self):\n",
    "        return self.size\n",
    "    \n",
    "    def increase(self):\n",
    "        if self.size in self.romanchart :\n",
    "            result = self.chart[self.size] + 2\n",
    "            for key, value in self.chart.items():\n",
    "                if value == result:\n",
    "                    return key\n",
    "        elif (self.size in self.sizenum ):\n",
    "            return self.size + 2\n",
    "    \n",
    "    def decrease(self):\n",
    "        if self.size in self.romanchart :\n",
    "            result = self.chart[self.size] - 2\n",
    "            for key, value in self.chart.items():\n",
    "                if value == result:\n",
    "                    return key\n",
    "        elif (self.size in self.sizenum ):\n",
    "            return self.size - 2"
   ]
  },
  {
   "cell_type": "code",
   "execution_count": 44,
   "metadata": {},
   "outputs": [],
   "source": [
    "s = DressSize(\"XXL\")"
   ]
  },
  {
   "cell_type": "code",
   "execution_count": 45,
   "metadata": {},
   "outputs": [
    {
     "data": {
      "text/plain": [
       "{'XS': 36, 'S': 38, 'M': 40, 'L': 42, 'XL': 44, 'XXL': 46, 'XXXL': 48}"
      ]
     },
     "execution_count": 45,
     "metadata": {},
     "output_type": "execute_result"
    }
   ],
   "source": [
    "s.chart"
   ]
  },
  {
   "cell_type": "code",
   "execution_count": 46,
   "metadata": {},
   "outputs": [
    {
     "name": "stdout",
     "output_type": "stream",
     "text": [
      "XXL\n"
     ]
    }
   ],
   "source": [
    "print(s)"
   ]
  },
  {
   "cell_type": "code",
   "execution_count": 47,
   "metadata": {},
   "outputs": [
    {
     "data": {
      "text/plain": [
       "'XXL'"
      ]
     },
     "execution_count": 47,
     "metadata": {},
     "output_type": "execute_result"
    }
   ],
   "source": [
    "s.value()"
   ]
  },
  {
   "cell_type": "code",
   "execution_count": 48,
   "metadata": {},
   "outputs": [
    {
     "data": {
      "text/plain": [
       "'XXXL'"
      ]
     },
     "execution_count": 48,
     "metadata": {},
     "output_type": "execute_result"
    }
   ],
   "source": [
    "s.increase()"
   ]
  },
  {
   "cell_type": "code",
   "execution_count": 49,
   "metadata": {},
   "outputs": [
    {
     "data": {
      "text/plain": [
       "'XL'"
      ]
     },
     "execution_count": 49,
     "metadata": {},
     "output_type": "execute_result"
    }
   ],
   "source": [
    "s.decrease()"
   ]
  },
  {
   "cell_type": "code",
   "execution_count": 50,
   "metadata": {},
   "outputs": [],
   "source": [
    "s = DressSize(42)"
   ]
  },
  {
   "cell_type": "code",
   "execution_count": 51,
   "metadata": {},
   "outputs": [
    {
     "data": {
      "text/plain": [
       "{'XS': 36, 'S': 38, 'M': 40, 'L': 42, 'XL': 44, 'XXL': 46, 'XXXL': 48}"
      ]
     },
     "execution_count": 51,
     "metadata": {},
     "output_type": "execute_result"
    }
   ],
   "source": [
    "s.chart"
   ]
  },
  {
   "cell_type": "code",
   "execution_count": 52,
   "metadata": {},
   "outputs": [
    {
     "name": "stdout",
     "output_type": "stream",
     "text": [
      "42\n"
     ]
    }
   ],
   "source": [
    "print(s)"
   ]
  },
  {
   "cell_type": "code",
   "execution_count": 53,
   "metadata": {},
   "outputs": [
    {
     "data": {
      "text/plain": [
       "42"
      ]
     },
     "execution_count": 53,
     "metadata": {},
     "output_type": "execute_result"
    }
   ],
   "source": [
    "s.value()"
   ]
  },
  {
   "cell_type": "code",
   "execution_count": 54,
   "metadata": {},
   "outputs": [
    {
     "data": {
      "text/plain": [
       "44"
      ]
     },
     "execution_count": 54,
     "metadata": {},
     "output_type": "execute_result"
    }
   ],
   "source": [
    "s.increase()"
   ]
  },
  {
   "cell_type": "code",
   "execution_count": 55,
   "metadata": {},
   "outputs": [
    {
     "data": {
      "text/plain": [
       "40"
      ]
     },
     "execution_count": 55,
     "metadata": {},
     "output_type": "execute_result"
    }
   ],
   "source": [
    "s.decrease()"
   ]
  },
  {
   "cell_type": "code",
   "execution_count": 56,
   "metadata": {},
   "outputs": [],
   "source": [
    "class Fashion:\n",
    "    def __init__(self,clothing_category: str,gender:str,model:str,design:str,dress_type:str,color:str,size:DressSize):\n",
    "        self.clothing_category = clothing_category\n",
    "        self.gender = gender\n",
    "        self.model = model\n",
    "        self.design = design\n",
    "        self.dress_type = dress_type\n",
    "        self.color = color\n",
    "        if isinstance(size,DressSize):\n",
    "            self.size = size\n",
    "        else:\n",
    "            print(\"value should be of type DressSize\")        \n",
    "        \n",
    "    def get_item(self):\n",
    "        return self.clothing_category,self.gender,self.model,self.design,self.dress_type,self.color,self.size"
   ]
  },
  {
   "cell_type": "code",
   "execution_count": 57,
   "metadata": {},
   "outputs": [
    {
     "name": "stdout",
     "output_type": "stream",
     "text": [
      "value should be of type DressSize\n"
     ]
    }
   ],
   "source": [
    "fashion = Fashion(\"Clothing\",\"Women\",\"Western\",\"Dotted\",\"Jumpsuits\",'blue',\"XL\")"
   ]
  },
  {
   "cell_type": "code",
   "execution_count": 58,
   "metadata": {},
   "outputs": [],
   "source": [
    "M = DressSize(\"M\")"
   ]
  },
  {
   "cell_type": "code",
   "execution_count": 59,
   "metadata": {},
   "outputs": [],
   "source": [
    "fashion = Fashion(\"Clothing\",\"Women\",\"Western\",\"Dotted\",\"Jumpsuits\",'blue',M)"
   ]
  },
  {
   "cell_type": "code",
   "execution_count": 60,
   "metadata": {},
   "outputs": [
    {
     "data": {
      "text/plain": [
       "('Clothing',\n",
       " 'Women',\n",
       " 'Western',\n",
       " 'Dotted',\n",
       " 'Jumpsuits',\n",
       " 'blue',\n",
       " <__main__.DressSize at 0x1bfcb712cd0>)"
      ]
     },
     "execution_count": 60,
     "metadata": {},
     "output_type": "execute_result"
    }
   ],
   "source": [
    "fashion.get_item()"
   ]
  },
  {
   "cell_type": "code",
   "execution_count": 61,
   "metadata": {},
   "outputs": [
    {
     "data": {
      "text/plain": [
       "'M'"
      ]
     },
     "execution_count": 61,
     "metadata": {},
     "output_type": "execute_result"
    }
   ],
   "source": [
    "fashion.size.value()"
   ]
  },
  {
   "cell_type": "markdown",
   "metadata": {},
   "source": [
    "#### These are the examples covered in chapter 7."
   ]
  }
 ],
 "metadata": {
  "kernelspec": {
   "display_name": "Python 3",
   "language": "python",
   "name": "python3"
  },
  "language_info": {
   "codemirror_mode": {
    "name": "ipython",
    "version": 3
   },
   "file_extension": ".py",
   "mimetype": "text/x-python",
   "name": "python",
   "nbconvert_exporter": "python",
   "pygments_lexer": "ipython3",
   "version": "3.8.5"
  }
 },
 "nbformat": 4,
 "nbformat_minor": 5
}
