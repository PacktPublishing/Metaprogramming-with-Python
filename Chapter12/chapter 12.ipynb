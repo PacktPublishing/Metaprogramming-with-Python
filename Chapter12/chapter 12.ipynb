{
 "cells": [
  {
   "cell_type": "markdown",
   "id": "bb8997e4",
   "metadata": {},
   "source": [
    "## Chapter 12"
   ]
  },
  {
   "cell_type": "markdown",
   "id": "f8d42047",
   "metadata": {},
   "source": [
    "### Chain of responsibility"
   ]
  },
  {
   "cell_type": "code",
   "execution_count": 1,
   "id": "2cde1e09",
   "metadata": {},
   "outputs": [],
   "source": [
    "class InvoiceHandler(object):\n",
    "    def __init__(self):\n",
    "        self.next_action = None\n",
    "    \n",
    "    def handle(self,print_invoice):\n",
    "        self.next_action.handle(print_invoice)\n",
    "\n",
    "class InputState(object):\n",
    "    state_ny = ['NYC','NY','New York','new york']\n",
    "    state_ca = ['CA', 'California', 'california']\n",
    "    \n",
    "class print_invoice(object):\n",
    "    def __init__(self,state):\n",
    "        self.state = state\n",
    "        self.header = 'State specific Sales tax is applicable for the state of ' + self.state\n",
    "\n",
    "class NYCHandler(InvoiceHandler):\n",
    "    def generate_invoice(self, header, state):\n",
    "        product = 'WashingMachine'\n",
    "        pricebeforetax = 450 + (450 * 0.19)\n",
    "        tax_rate = 0.4\n",
    "        local_rate = 0.055\n",
    "        tax = pricebeforetax * (tax_rate + local_rate)\n",
    "        finalsellingprice = pricebeforetax + tax\n",
    "        print('**************ABC Megamart*****************')\n",
    "        print('***********------------------**************')\n",
    "        print(header)\n",
    "        print('Product: ', product)\n",
    "        print('Tax: ', tax)\n",
    "        print('Total Price: ', finalsellingprice)\n",
    "        print('***********------------------**************') \n",
    "        \n",
    "    def handle(self,print_invoice):\n",
    "        if print_invoice.state in InputState.state_ny:\n",
    "            self.generate_invoice(print_invoice.header, print_invoice.state)\n",
    "        \n",
    "        else:\n",
    "            super(NYCHandler, self).handle(print_invoice)\n",
    "            \n",
    "class CAHandler(InvoiceHandler):\n",
    "    def generate_invoice(self, header, state):\n",
    "        product = 'WashingMachine'\n",
    "        pricebeforetax = 480 + (480 * 0.14)\n",
    "        tax_rate = 0.35\n",
    "        local_rate = 0.077\n",
    "        tax = pricebeforetax * (tax_rate + local_rate)\n",
    "        finalsellingprice = pricebeforetax + tax\n",
    "        print('**************ABC Megamart*****************')\n",
    "        print('***********------------------**************')\n",
    "        print(header)\n",
    "        print('Product: ', product)\n",
    "        print('Tax: ', tax)\n",
    "        print('Total Price: ', finalsellingprice)\n",
    "        print('***********------------------**************') \n",
    "        \n",
    "    def handle(self,print_invoice):\n",
    "        if print_invoice.state in InputState.state_ca:\n",
    "            self.generate_invoice(print_invoice.header, print_invoice.state)\n",
    "        \n",
    "        else:\n",
    "            super(CAHandler, self).handle(print_invoice)\n",
    "\n",
    "class ExceptionHandler(InvoiceHandler):\n",
    "    def handle(self,print_invoice):\n",
    "        print(\"No branches in the state\")  \n",
    "   "
   ]
  },
  {
   "cell_type": "code",
   "execution_count": 2,
   "id": "1c037c76",
   "metadata": {},
   "outputs": [],
   "source": [
    "def invoice_requestor(state):\n",
    "    invoice = print_invoice(state)\n",
    "    nychandler = NYCHandler()\n",
    "    cahandler = CAHandler()\n",
    "\n",
    "    nychandler.next_action = cahandler\n",
    "    cahandler.next_action = ExceptionHandler()\n",
    "    nychandler.handle(invoice)"
   ]
  },
  {
   "cell_type": "code",
   "execution_count": 3,
   "id": "9b32491c",
   "metadata": {},
   "outputs": [
    {
     "name": "stdout",
     "output_type": "stream",
     "text": [
      "**************ABC Megamart*****************\n",
      "***********------------------**************\n",
      "State specific Sales tax is applicable for the state of CA\n",
      "Product:  WashingMachine\n",
      "Tax:  233.6544\n",
      "Total Price:  780.8544\n",
      "***********------------------**************\n"
     ]
    }
   ],
   "source": [
    "invoice_requestor('CA')"
   ]
  },
  {
   "cell_type": "code",
   "execution_count": 4,
   "id": "2680e1f7",
   "metadata": {},
   "outputs": [
    {
     "name": "stdout",
     "output_type": "stream",
     "text": [
      "**************ABC Megamart*****************\n",
      "***********------------------**************\n",
      "State specific Sales tax is applicable for the state of NYC\n",
      "Product:  WashingMachine\n",
      "Tax:  243.6525\n",
      "Total Price:  779.1525\n",
      "***********------------------**************\n"
     ]
    }
   ],
   "source": [
    "invoice_requestor('NYC')"
   ]
  },
  {
   "cell_type": "code",
   "execution_count": 5,
   "id": "93c4c14d",
   "metadata": {},
   "outputs": [
    {
     "name": "stdout",
     "output_type": "stream",
     "text": [
      "No branches in the state\n"
     ]
    }
   ],
   "source": [
    "invoice_requestor('TEXAS')"
   ]
  },
  {
   "cell_type": "markdown",
   "id": "96ada154",
   "metadata": {},
   "source": [
    "### Command"
   ]
  },
  {
   "cell_type": "code",
   "execution_count": 6,
   "id": "c9c1e3a0",
   "metadata": {},
   "outputs": [],
   "source": [
    "from abc import ABC, abstractmethod\n",
    "\n",
    "class Billing:\n",
    "    sales = {'purchase_price': 450,\n",
    "              'profit_margin': 0.19,\n",
    "              'tax_rate': 0.4,\n",
    "              'discount_rate': 0.10\n",
    "              }        \n",
    "\n",
    "    @abstractmethod\n",
    "    def apply_discount(self):\n",
    "        pass\n",
    "    \n",
    "    @abstractmethod\n",
    "    def remove_discount(self):\n",
    "        pass"
   ]
  },
  {
   "cell_type": "code",
   "execution_count": 7,
   "id": "d06ffc63",
   "metadata": {},
   "outputs": [],
   "source": [
    "class DiscountedBilling(Billing):\n",
    "\n",
    "    def apply_discount(self):\n",
    "        sales = self.sales\n",
    "        pricebeforetax = sales['purchase_price'] + sales['purchase_price'] * sales['profit_margin']\n",
    "        finalsellingprice = pricebeforetax + (pricebeforetax * sales['tax_rate'])\n",
    "        sales['sellingPrice'] = finalsellingprice\n",
    "        discountedPrice = sales['sellingPrice'] * (1 - sales['discount_rate'])\n",
    "        return discountedPrice"
   ]
  },
  {
   "cell_type": "code",
   "execution_count": 8,
   "id": "210dd84d",
   "metadata": {},
   "outputs": [],
   "source": [
    "class ActualBilling(Billing):\n",
    "\n",
    "    def remove_discount(self):\n",
    "        sales = self.sales\n",
    "        pricebeforetax = sales['purchase_price'] + sales['purchase_price'] * sales['profit_margin']\n",
    "        actualprice = pricebeforetax + (pricebeforetax * sales['tax_rate'])\n",
    "        return actualprice"
   ]
  },
  {
   "cell_type": "code",
   "execution_count": 9,
   "id": "a000b8a8",
   "metadata": {},
   "outputs": [],
   "source": [
    "class ExecuteBilling:\n",
    "    @abstractmethod\n",
    "    def exec_discount(self):\n",
    "        pass\n",
    "\n",
    "    @abstractmethod\n",
    "    def revoke_discount(self):\n",
    "        pass"
   ]
  },
  {
   "cell_type": "code",
   "execution_count": 10,
   "id": "00052d06",
   "metadata": {},
   "outputs": [],
   "source": [
    "class ExecuteDiscountedBilling(ExecuteBilling):\n",
    "    def __init__(self, instance):\n",
    "        self.instance = instance\n",
    "        \n",
    "    def exec_discount(self):\n",
    "        print('Discount applied...')\n",
    "        return self.instance.apply_discount()\n",
    "        \n",
    "    def revoke_discount(self, revokeInstance):\n",
    "        revokeInstance.reset(ExecuteActualBilling(ActualBilling()))\n",
    "        return revokeInstance.runcalc()"
   ]
  },
  {
   "cell_type": "code",
   "execution_count": 11,
   "id": "5e026acf",
   "metadata": {},
   "outputs": [],
   "source": [
    "class ExecuteActualBilling(ExecuteBilling):\n",
    "    def __init__(self, instance):\n",
    "        self.instance = instance\n",
    "        \n",
    "    def exec_discount(self):\n",
    "        print('Discount removed...')\n",
    "        return self.instance.remove_discount()\n",
    "        \n",
    "    def revoke_discount(self, revokeInstance):\n",
    "        revokeInstance.reset(ExecuteDiscountedBilling(DiscountedBilling()))\n",
    "        return revokeInstance.runcalc()"
   ]
  },
  {
   "cell_type": "code",
   "execution_count": 12,
   "id": "ac9f530b",
   "metadata": {},
   "outputs": [],
   "source": [
    "class RequestAction:\n",
    "    def __init__(self, action):\n",
    "        self.action = action\n",
    "\n",
    "    def reset(self, action):\n",
    "        print(\"Resetting command...\")\n",
    "        self.action = action\n",
    "\n",
    "    def runcalc(self):\n",
    "        return self.action.exec_discount()\n",
    "    \n",
    "    def revert(self):\n",
    "        print(\"Reverting the previous action...\")\n",
    "        return self.action.revoke_discount(self)"
   ]
  },
  {
   "cell_type": "code",
   "execution_count": 13,
   "id": "4127bf0d",
   "metadata": {},
   "outputs": [],
   "source": [
    "class Tester:\n",
    "    def __init__(self):\n",
    "        billing = Billing()\n",
    "\n",
    "        discount = ExecuteDiscountedBilling(DiscountedBilling())\n",
    "        actual = ExecuteActualBilling(ActualBilling())\n",
    "        requestor = RequestAction(discount)  \n",
    "\n",
    "        print(requestor.runcalc())\n",
    "\n",
    "        requestor.reset(actual)\n",
    "\n",
    "        print(requestor.runcalc())\n",
    "\n",
    "        print(requestor.revert())\n",
    "\n",
    "        print(requestor.revert()) "
   ]
  },
  {
   "cell_type": "code",
   "execution_count": 14,
   "id": "60b76f51",
   "metadata": {},
   "outputs": [
    {
     "name": "stdout",
     "output_type": "stream",
     "text": [
      "Discount applied...\n",
      "674.73\n",
      "Resetting command...\n",
      "Discount removed...\n",
      "749.7\n",
      "Reverting the previous action...\n",
      "Resetting command...\n",
      "Discount applied...\n",
      "674.73\n",
      "Reverting the previous action...\n",
      "Resetting command...\n",
      "Discount removed...\n",
      "749.7\n"
     ]
    },
    {
     "data": {
      "text/plain": [
       "<__main__.Tester at 0x1d8d0cf56d0>"
      ]
     },
     "execution_count": 14,
     "metadata": {},
     "output_type": "execute_result"
    }
   ],
   "source": [
    "Tester()"
   ]
  },
  {
   "cell_type": "markdown",
   "id": "a4e7d3f7",
   "metadata": {},
   "source": [
    "### Strategy pattern"
   ]
  },
  {
   "cell_type": "code",
   "execution_count": 15,
   "id": "7727b8d3",
   "metadata": {},
   "outputs": [],
   "source": [
    "class SuperMarket():\n",
    "    \n",
    "    def __init__(self,STRATEGY, items, name, scan, units, tax, itemtype = None):\n",
    "        self.STRATEGY = STRATEGY\n",
    "        self.items = items\n",
    "        self.name = name\n",
    "        self.scan = scan\n",
    "        self.units = units\n",
    "        self.tax = tax\n",
    "        self.itemtype = itemtype\n",
    "       \n",
    "    def return_cart(self):\n",
    "        cartItems = []\n",
    "        for i in self.items:\n",
    "            cartItems.append(i)\n",
    "        return cartItems\n",
    "    \n",
    "    def goto_counter(self):\n",
    "        countername = self.name\n",
    "        return countername\n",
    "\n",
    "    def scan_bar_code(self):\n",
    "        codes = []\n",
    "        for i in self.scan:\n",
    "            codes.append(i)\n",
    "        return codes\n",
    "          \n",
    "    def add_billing(self):\n",
    "        self.codes = self.scan_bar_code()\n",
    "        pricetag = []\n",
    "        for i in self.units:\n",
    "            pricetag.append(i)\n",
    "        bill = dict(zip(self.codes, pricetag))\n",
    "        return bill\n",
    "        \n",
    "    def add_tax(self):\n",
    "        taxed = []\n",
    "        for i in self.tax:\n",
    "            taxed.append(i)\n",
    "        return taxed\n",
    "    \n",
    "    def calc_bill(self):\n",
    "        bill = self.add_billing()\n",
    "        items = []\n",
    "        cartItems = self.return_cart()\n",
    "        calc_bill = []\n",
    "        taxes = self.add_tax()\n",
    "        for item,tax in zip(bill.items(),taxes):\n",
    "            items.append(item[1])\n",
    "            calc_bill.append(item[1] + item[1]*tax)\n",
    "        finalbill = dict(zip(cartItems, calc_bill))\n",
    "        return finalbill\n",
    "        \n",
    "    def print_invoice(self):\n",
    "        finalbill = self.calc_bill()\n",
    "        final_total = sum(finalbill.values())\n",
    "        print('**************ABC Megamart*****************')\n",
    "        print('***********------------------**************')\n",
    "        print('Counter Name: ', self.goto_counter())\n",
    "        for item,price in finalbill.items():\n",
    "            print(item,\": \", price)\n",
    "        print('Total:',final_total)\n",
    "        print('***********------------------**************')\n",
    "        print('***************PAID************************')\n",
    "         \n",
    "    def pipeline_template(self):\n",
    "        self.return_cart()\n",
    "        self.goto_counter()\n",
    "        self.STRATEGY.redirect_counter()\n",
    "        self.scan_bar_code()\n",
    "        self.add_billing()\n",
    "        self.add_tax()\n",
    "        self.calc_bill()\n",
    "        self.print_invoice()"
   ]
  },
  {
   "cell_type": "code",
   "execution_count": 16,
   "id": "f0cca36b",
   "metadata": {},
   "outputs": [],
   "source": [
    "class VegeCounter():\n",
    "    def redirect_counter():\n",
    "        print(\"**************Move to Vege Counter**************\")"
   ]
  },
  {
   "cell_type": "code",
   "execution_count": 17,
   "id": "c7a2c5fd",
   "metadata": {},
   "outputs": [],
   "source": [
    "class ElectronicsCounter():\n",
    "    def redirect_counter():\n",
    "        print(\"**************Move to Electronics Counter**************\")"
   ]
  },
  {
   "cell_type": "code",
   "execution_count": 18,
   "id": "a9314900",
   "metadata": {},
   "outputs": [],
   "source": [
    "def run_pipeline(domain = SuperMarket):\n",
    "    domain.pipeline_template()"
   ]
  },
  {
   "cell_type": "code",
   "execution_count": 19,
   "id": "1a0b4d12",
   "metadata": {},
   "outputs": [
    {
     "name": "stdout",
     "output_type": "stream",
     "text": [
      "**************Move to Vege Counter**************\n",
      "**************ABC Megamart*****************\n",
      "***********------------------**************\n",
      "Counter Name:  ['Vegetable Counter']\n",
      "Onions :  10.4\n",
      "Tomatoes :  15.45\n",
      "Cabbage :  12.42\n",
      "Beetroot :  14.35\n",
      "Total: 52.620000000000005\n",
      "***********------------------**************\n",
      "***************PAID************************\n"
     ]
    }
   ],
   "source": [
    "run_pipeline(SuperMarket(STRATEGY = VegeCounter,\n",
    "                           items = ['Onions','Tomatoes','Cabbage','Beetroot'],\n",
    "                         name = ['Vegetable Counter'],\n",
    "                         scan = [113323,3434332,2131243,2332783],\n",
    "                         units = [10,15,12,14],\n",
    "                         tax = [0.04,0.03,0.035,0.025],\n",
    "                         itemtype = ['Vegetables'],\n",
    "                         ))"
   ]
  },
  {
   "cell_type": "code",
   "execution_count": 20,
   "id": "0246cee0",
   "metadata": {},
   "outputs": [
    {
     "name": "stdout",
     "output_type": "stream",
     "text": [
      "**************Move to Electronics Counter**************\n",
      "**************ABC Megamart*****************\n",
      "***********------------------**************\n",
      "Counter Name:  ['Electronics Counter']\n",
      "television :  104.0\n",
      "keyboard :  16.48\n",
      "mouse :  14.49\n",
      "Total: 134.97\n",
      "***********------------------**************\n",
      "***************PAID************************\n"
     ]
    }
   ],
   "source": [
    "run_pipeline(SuperMarket(STRATEGY = ElectronicsCounter,\n",
    "                         items = ['television','keyboard','mouse'],\n",
    "                                name = ['Electronics Counter'],\n",
    "                                scan = [113323,3434332,2131243],\n",
    "                                units = [100,16,14],\n",
    "                                tax = [0.04,0.03,0.035],\n",
    "                                itemtype = ['Electronics'],\n",
    "                                ))"
   ]
  },
  {
   "cell_type": "markdown",
   "id": "55409b79",
   "metadata": {},
   "source": [
    "### These are all the examples covered in this chapter."
   ]
  }
 ],
 "metadata": {
  "kernelspec": {
   "display_name": "Python 3",
   "language": "python",
   "name": "python3"
  },
  "language_info": {
   "codemirror_mode": {
    "name": "ipython",
    "version": 3
   },
   "file_extension": ".py",
   "mimetype": "text/x-python",
   "name": "python",
   "nbconvert_exporter": "python",
   "pygments_lexer": "ipython3",
   "version": "3.9.5"
  }
 },
 "nbformat": 4,
 "nbformat_minor": 5
}
