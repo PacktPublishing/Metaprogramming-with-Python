{
 "cells": [
  {
   "cell_type": "markdown",
   "id": "bb8997e4",
   "metadata": {},
   "source": [
    "## Chapter 12"
   ]
  },
  {
   "cell_type": "markdown",
   "id": "f8d42047",
   "metadata": {},
   "source": [
    "### Chain of responsibility"
   ]
  },
  {
   "cell_type": "code",
   "execution_count": 1,
   "id": "2cde1e09",
   "metadata": {},
   "outputs": [],
   "source": [
    "class InvoiceHandler(object):\n",
    "    def __init__(self):\n",
    "        self.nextAction = None\n",
    "    \n",
    "    def handle(self,printinvoice):\n",
    "        self.nextAction.handle(printinvoice)\n",
    "\n",
    "class InputState(object):\n",
    "    stateNY = ['NYC','NY','New York','new york']\n",
    "    stateCA = ['CA', 'California', 'california']\n",
    "    \n",
    "class PrintInvoice(object):\n",
    "    def __init__(self,state):\n",
    "        self.state = state\n",
    "        self.header = 'State specific Sales tax is applicable for the state of ' + self.state\n",
    "\n",
    "class NYCHandler(InvoiceHandler):\n",
    "    def generateInvoice(self, header, state):\n",
    "        product = 'WashingMachine'\n",
    "        pricebeforetax = 450 + (450 * 0.19)\n",
    "        taxRate = 0.4\n",
    "        localRate = 0.055\n",
    "        tax = pricebeforetax * (taxRate + localRate)\n",
    "        finalsellingprice = pricebeforetax + tax\n",
    "        print('**************ABC Megamart*****************')\n",
    "        print('***********------------------**************')\n",
    "        print(header)\n",
    "        print('Product: ', product)\n",
    "        print('Tax: ', tax)\n",
    "        print('Total Price: ', finalsellingprice)\n",
    "        print('***********------------------**************') \n",
    "        \n",
    "    def handle(self,printinvoice):\n",
    "        if printinvoice.state in InputState.stateNY:\n",
    "            self.generateInvoice(printinvoice.header, printinvoice.state)\n",
    "        \n",
    "        else:\n",
    "            super(NYCHandler, self).handle(printinvoice)\n",
    "            \n",
    "class CAHandler(InvoiceHandler):\n",
    "    def generateInvoice(self, header, state):\n",
    "        product = 'WashingMachine'\n",
    "        pricebeforetax = 480 + (480 * 0.14)\n",
    "        taxRate = 0.35\n",
    "        localRate = 0.077\n",
    "        tax = pricebeforetax * (taxRate + localRate)\n",
    "        finalsellingprice = pricebeforetax + tax\n",
    "        print('**************ABC Megamart*****************')\n",
    "        print('***********------------------**************')\n",
    "        print(header)\n",
    "        print('Product: ', product)\n",
    "        print('Tax: ', tax)\n",
    "        print('Total Price: ', finalsellingprice)\n",
    "        print('***********------------------**************') \n",
    "        \n",
    "    def handle(self,printinvoice):\n",
    "        if printinvoice.state in InputState.stateCA:\n",
    "            self.generateInvoice(printinvoice.header, printinvoice.state)\n",
    "        \n",
    "        else:\n",
    "            super(CAHandler, self).handle(printinvoice)\n",
    "\n",
    "class ExceptionHandler(InvoiceHandler):\n",
    "    def handle(self,printinvoice):\n",
    "        print(\"No branches in the state\")  \n",
    "   "
   ]
  },
  {
   "cell_type": "code",
   "execution_count": 2,
   "id": "1c037c76",
   "metadata": {},
   "outputs": [],
   "source": [
    "def invoiceRequestor(state):\n",
    "    invoice = PrintInvoice(state)\n",
    "    nychandler = NYCHandler()\n",
    "    cahandler = CAHandler()\n",
    "\n",
    "    nychandler.nextAction = cahandler\n",
    "    cahandler.nextAction = ExceptionHandler()\n",
    "    nychandler.handle(invoice)"
   ]
  },
  {
   "cell_type": "code",
   "execution_count": 3,
   "id": "9b32491c",
   "metadata": {},
   "outputs": [
    {
     "name": "stdout",
     "output_type": "stream",
     "text": [
      "**************ABC Megamart*****************\n",
      "***********------------------**************\n",
      "State specific Sales tax is applicable for the state of CA\n",
      "Product:  WashingMachine\n",
      "Tax:  233.6544\n",
      "Total Price:  780.8544\n",
      "***********------------------**************\n"
     ]
    }
   ],
   "source": [
    "invoiceRequestor('CA')"
   ]
  },
  {
   "cell_type": "code",
   "execution_count": 4,
   "id": "2680e1f7",
   "metadata": {},
   "outputs": [
    {
     "name": "stdout",
     "output_type": "stream",
     "text": [
      "**************ABC Megamart*****************\n",
      "***********------------------**************\n",
      "State specific Sales tax is applicable for the state of NYC\n",
      "Product:  WashingMachine\n",
      "Tax:  243.6525\n",
      "Total Price:  779.1525\n",
      "***********------------------**************\n"
     ]
    }
   ],
   "source": [
    "invoiceRequestor('NYC')"
   ]
  },
  {
   "cell_type": "code",
   "execution_count": 5,
   "id": "93c4c14d",
   "metadata": {},
   "outputs": [
    {
     "name": "stdout",
     "output_type": "stream",
     "text": [
      "No branches in the state\n"
     ]
    }
   ],
   "source": [
    "invoiceRequestor('TEXAS')"
   ]
  },
  {
   "cell_type": "markdown",
   "id": "96ada154",
   "metadata": {},
   "source": [
    "### Command"
   ]
  },
  {
   "cell_type": "code",
   "execution_count": 6,
   "id": "c9c1e3a0",
   "metadata": {},
   "outputs": [],
   "source": [
    "from abc import ABC, abstractmethod\n",
    "\n",
    "class Billing:\n",
    "    sales = {'purchasePrice': 450,\n",
    "              'profitMargin': 0.19,\n",
    "              'taxRate': 0.4,\n",
    "              'discountRate': 0.10\n",
    "              }        \n",
    "\n",
    "    @abstractmethod\n",
    "    def applyDiscount(self):\n",
    "        pass\n",
    "    \n",
    "    @abstractmethod\n",
    "    def removeDiscount(self):\n",
    "        pass"
   ]
  },
  {
   "cell_type": "code",
   "execution_count": 7,
   "id": "d06ffc63",
   "metadata": {},
   "outputs": [],
   "source": [
    "class DiscountedBilling(Billing):\n",
    "\n",
    "    def applyDiscount(self):\n",
    "        sales = self.sales\n",
    "        pricebeforetax = sales['purchasePrice'] + sales['purchasePrice'] * sales['profitMargin']\n",
    "        finalsellingprice = pricebeforetax + (pricebeforetax * sales['taxRate'])\n",
    "        sales['sellingPrice'] = finalsellingprice\n",
    "        discountedPrice = sales['sellingPrice'] * (1 - sales['discountRate'])\n",
    "        return discountedPrice"
   ]
  },
  {
   "cell_type": "code",
   "execution_count": 8,
   "id": "210dd84d",
   "metadata": {},
   "outputs": [],
   "source": [
    "class ActualBilling(Billing):\n",
    "\n",
    "    def removeDiscount(self):\n",
    "        sales = self.sales\n",
    "        pricebeforetax = sales['purchasePrice'] + sales['purchasePrice'] * sales['profitMargin']\n",
    "        actualprice = pricebeforetax + (pricebeforetax * sales['taxRate'])\n",
    "        return actualprice"
   ]
  },
  {
   "cell_type": "code",
   "execution_count": 9,
   "id": "a000b8a8",
   "metadata": {},
   "outputs": [],
   "source": [
    "class ExecuteBilling:\n",
    "    @abstractmethod\n",
    "    def execDiscount(self):\n",
    "        pass\n",
    "\n",
    "    @abstractmethod\n",
    "    def revokeDiscount(self):\n",
    "        pass"
   ]
  },
  {
   "cell_type": "code",
   "execution_count": 10,
   "id": "00052d06",
   "metadata": {},
   "outputs": [],
   "source": [
    "class ExecuteDiscountedBilling(ExecuteBilling):\n",
    "    def __init__(self, instance):\n",
    "        self.instance = instance\n",
    "        \n",
    "    def execDiscount(self):\n",
    "        print('Discount applied...')\n",
    "        return self.instance.applyDiscount()\n",
    "        \n",
    "    def revokeDiscount(self, revokeInstance):\n",
    "        revokeInstance.reset(ExecuteActualBilling(ActualBilling()))\n",
    "        return revokeInstance.runcalc()"
   ]
  },
  {
   "cell_type": "code",
   "execution_count": 11,
   "id": "5e026acf",
   "metadata": {},
   "outputs": [],
   "source": [
    "class ExecuteActualBilling(ExecuteBilling):\n",
    "    def __init__(self, instance):\n",
    "        self.instance = instance\n",
    "        \n",
    "    def execDiscount(self):\n",
    "        print('Discount removed...')\n",
    "        return self.instance.removeDiscount()\n",
    "        \n",
    "    def revokeDiscount(self, revokeInstance):\n",
    "        revokeInstance.reset(ExecuteDiscountedBilling(DiscountedBilling()))\n",
    "        return revokeInstance.runcalc()"
   ]
  },
  {
   "cell_type": "code",
   "execution_count": 12,
   "id": "ac9f530b",
   "metadata": {},
   "outputs": [],
   "source": [
    "class RequestAction:\n",
    "    def __init__(self, action):\n",
    "        self.action = action\n",
    "\n",
    "    def reset(self, action):\n",
    "        print(\"Resetting command...\")\n",
    "        self.action = action\n",
    "\n",
    "    def runcalc(self):\n",
    "        return self.action.execDiscount()\n",
    "    \n",
    "    def revert(self):\n",
    "        print(\"Reverting the previous action...\")\n",
    "        return self.action.revokeDiscount(self)"
   ]
  },
  {
   "cell_type": "code",
   "execution_count": 13,
   "id": "4127bf0d",
   "metadata": {},
   "outputs": [],
   "source": [
    "class Tester:\n",
    "    def __init__(self):\n",
    "        billing = Billing()\n",
    "\n",
    "        discount = ExecuteDiscountedBilling(DiscountedBilling())\n",
    "        actual = ExecuteActualBilling(ActualBilling())\n",
    "        requestor = RequestAction(discount)  \n",
    "\n",
    "        print(requestor.runcalc())\n",
    "\n",
    "        requestor.reset(actual)\n",
    "\n",
    "        print(requestor.runcalc())\n",
    "\n",
    "        print(requestor.revert())\n",
    "\n",
    "        print(requestor.revert()) "
   ]
  },
  {
   "cell_type": "code",
   "execution_count": 14,
   "id": "60b76f51",
   "metadata": {},
   "outputs": [
    {
     "name": "stdout",
     "output_type": "stream",
     "text": [
      "Discount applied...\n",
      "674.73\n",
      "Resetting command...\n",
      "Discount removed...\n",
      "749.7\n",
      "Reverting the previous action...\n",
      "Resetting command...\n",
      "Discount applied...\n",
      "674.73\n",
      "Reverting the previous action...\n",
      "Resetting command...\n",
      "Discount removed...\n",
      "749.7\n"
     ]
    },
    {
     "data": {
      "text/plain": [
       "<__main__.Tester at 0x20c737a8c10>"
      ]
     },
     "execution_count": 14,
     "metadata": {},
     "output_type": "execute_result"
    }
   ],
   "source": [
    "Tester()"
   ]
  },
  {
   "cell_type": "markdown",
   "id": "a4e7d3f7",
   "metadata": {},
   "source": [
    "### Strategy pattern"
   ]
  },
  {
   "cell_type": "code",
   "execution_count": 15,
   "id": "7727b8d3",
   "metadata": {},
   "outputs": [],
   "source": [
    "class SuperMarket():\n",
    "    \n",
    "    def __init__(self,STRATEGY, items, name, scan, units, tax, itemtype = None):\n",
    "        self.STRATEGY = STRATEGY\n",
    "        self.items = items\n",
    "        self.name = name\n",
    "        self.scan = scan\n",
    "        self.units = units\n",
    "        self.tax = tax\n",
    "        self.itemtype = itemtype\n",
    "       \n",
    "    def returnCart(self):\n",
    "        cartItems = []\n",
    "        for i in self.items:\n",
    "            cartItems.append(i)\n",
    "        return cartItems\n",
    "    \n",
    "    def gotoCounter(self):\n",
    "        countername = self.name\n",
    "        return countername\n",
    "\n",
    "    def scanBarCode(self):\n",
    "        codes = []\n",
    "        for i in self.scan:\n",
    "            codes.append(i)\n",
    "        return codes\n",
    "          \n",
    "    def addBilling(self):\n",
    "        self.codes = self.scanBarCode()\n",
    "        pricetag = []\n",
    "        for i in self.units:\n",
    "            pricetag.append(i)\n",
    "        bill = dict(zip(self.codes, pricetag))\n",
    "        return bill\n",
    "        \n",
    "    def addTax(self):\n",
    "        taxed = []\n",
    "        for i in self.tax:\n",
    "            taxed.append(i)\n",
    "        return taxed\n",
    "    \n",
    "    def calcBill(self):\n",
    "        bill = self.addBilling()\n",
    "        items = []\n",
    "        cartItems = self.returnCart()\n",
    "        calcbill = []\n",
    "        taxes = self.addTax()\n",
    "        for item,tax in zip(bill.items(),taxes):\n",
    "            items.append(item[1])\n",
    "            calcbill.append(item[1] + item[1]*tax)\n",
    "        finalbill = dict(zip(cartItems, calcbill))\n",
    "        return finalbill\n",
    "        \n",
    "    def printInvoice(self):\n",
    "        finalbill = self.calcBill()\n",
    "        final_total = sum(finalbill.values())\n",
    "        print('**************ABC Megamart*****************')\n",
    "        print('***********------------------**************')\n",
    "        print('Counter Name: ', self.gotoCounter())\n",
    "        for item,price in finalbill.items():\n",
    "            print(item,\": \", price)\n",
    "        print('Total:',final_total)\n",
    "        print('***********------------------**************')\n",
    "        print('***************PAID************************')\n",
    "         \n",
    "    def pipeline_template(self):\n",
    "        self.returnCart()\n",
    "        self.gotoCounter()\n",
    "        self.STRATEGY.redirectCounter()\n",
    "        self.scanBarCode()\n",
    "        self.addBilling()\n",
    "        self.addTax()\n",
    "        self.calcBill()\n",
    "        self.printInvoice()"
   ]
  },
  {
   "cell_type": "code",
   "execution_count": 16,
   "id": "f0cca36b",
   "metadata": {},
   "outputs": [],
   "source": [
    "class VegeCounter():\n",
    "    def redirectCounter():\n",
    "        print(\"**************Move to Vege Counter**************\")"
   ]
  },
  {
   "cell_type": "code",
   "execution_count": 17,
   "id": "c7a2c5fd",
   "metadata": {},
   "outputs": [],
   "source": [
    "class ElectronicsCounter():\n",
    "    def redirectCounter():\n",
    "        print(\"**************Move to Electronics Counter**************\")"
   ]
  },
  {
   "cell_type": "code",
   "execution_count": 18,
   "id": "a9314900",
   "metadata": {},
   "outputs": [],
   "source": [
    "def run_pipeline(domain = SuperMarket):\n",
    "    domain.pipeline_template()"
   ]
  },
  {
   "cell_type": "code",
   "execution_count": 19,
   "id": "1a0b4d12",
   "metadata": {},
   "outputs": [
    {
     "name": "stdout",
     "output_type": "stream",
     "text": [
      "**************Move to Vege Counter**************\n",
      "**************ABC Megamart*****************\n",
      "***********------------------**************\n",
      "Counter Name:  ['Vegetable Counter']\n",
      "Onions :  10.4\n",
      "Tomatoes :  15.45\n",
      "Cabbage :  12.42\n",
      "Beetroot :  14.35\n",
      "Total: 52.620000000000005\n",
      "***********------------------**************\n",
      "***************PAID************************\n"
     ]
    }
   ],
   "source": [
    "run_pipeline(SuperMarket(STRATEGY = VegeCounter,\n",
    "                           items = ['Onions','Tomatoes','Cabbage','Beetroot'],\n",
    "                         name = ['Vegetable Counter'],\n",
    "                         scan = [113323,3434332,2131243,2332783],\n",
    "                         units = [10,15,12,14],\n",
    "                         tax = [0.04,0.03,0.035,0.025],\n",
    "                         itemtype = ['Vegetables'],\n",
    "                         ))"
   ]
  },
  {
   "cell_type": "code",
   "execution_count": 20,
   "id": "0246cee0",
   "metadata": {},
   "outputs": [
    {
     "name": "stdout",
     "output_type": "stream",
     "text": [
      "**************Move to Electronics Counter**************\n",
      "**************ABC Megamart*****************\n",
      "***********------------------**************\n",
      "Counter Name:  ['Electronics Counter']\n",
      "television :  104.0\n",
      "keyboard :  16.48\n",
      "mouse :  14.49\n",
      "Total: 134.97\n",
      "***********------------------**************\n",
      "***************PAID************************\n"
     ]
    }
   ],
   "source": [
    "run_pipeline(SuperMarket(STRATEGY = ElectronicsCounter,\n",
    "                         items = ['television','keyboard','mouse'],\n",
    "                                name = ['Electronics Counter'],\n",
    "                                scan = [113323,3434332,2131243],\n",
    "                                units = [100,16,14],\n",
    "                                tax = [0.04,0.03,0.035],\n",
    "                                itemtype = ['Electronics'],\n",
    "                                ))"
   ]
  },
  {
   "cell_type": "markdown",
   "id": "55409b79",
   "metadata": {},
   "source": [
    "### These are all the examples covered in this chapter."
   ]
  }
 ],
 "metadata": {
  "kernelspec": {
   "display_name": "Python 3 (ipykernel)",
   "language": "python",
   "name": "python3"
  },
  "language_info": {
   "codemirror_mode": {
    "name": "ipython",
    "version": 3
   },
   "file_extension": ".py",
   "mimetype": "text/x-python",
   "name": "python",
   "nbconvert_exporter": "python",
   "pygments_lexer": "ipython3",
   "version": "3.9.7"
  }
 },
 "nbformat": 4,
 "nbformat_minor": 5
}
