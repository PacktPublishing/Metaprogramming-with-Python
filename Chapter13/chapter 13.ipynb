{
 "cells": [
  {
   "cell_type": "markdown",
   "id": "1a8ca3e0",
   "metadata": {},
   "source": [
    "## Bridge"
   ]
  },
  {
   "cell_type": "markdown",
   "id": "9ae6438a",
   "metadata": {},
   "source": [
    "### Abstraction "
   ]
  },
  {
   "cell_type": "code",
   "execution_count": 4,
   "id": "a65eb689",
   "metadata": {},
   "outputs": [],
   "source": [
    "from abc import abstractmethod, ABC\n",
    "class PrintCard(ABC):    \n",
    "    def add_name(self, name):\n",
    "        self.name = name\n",
    "        \n",
    "    def add_manager(self, branch):\n",
    "        self.branch = branch.FORMATTING\n",
    "        \n",
    "    @abstractmethod\n",
    "    def printcard(self):\n",
    "        pass"
   ]
  },
  {
   "cell_type": "code",
   "execution_count": 5,
   "id": "32d85171",
   "metadata": {},
   "outputs": [],
   "source": [
    "class CardABC(PrintCard):\n",
    "    def __init__(self, logo, name, branch):\n",
    "        self.logo = logo\n",
    "        super().add_name(name)\n",
    "        super().add_manager(branch)\n",
    "        \n",
    "    def printcard(self, *args):\n",
    "        print(self.logo + self.name)\n",
    "        for arg in args:\n",
    "            print(self.branch + str(arg))"
   ]
  },
  {
   "cell_type": "code",
   "execution_count": 6,
   "id": "edc866fd",
   "metadata": {},
   "outputs": [],
   "source": [
    "class CardXYZ(PrintCard):\n",
    "    def __init__(self, style, logo, name, branch):\n",
    "        self.style = style\n",
    "        self.logo = logo\n",
    "        super().add_name(name)\n",
    "        super().add_manager(branch)\n",
    "        \n",
    "    def printcard(self, *args):\n",
    "        print(self.logo + self.style + self.name)\n",
    "        for arg in args:\n",
    "            print(self.branch + str(arg))"
   ]
  },
  {
   "cell_type": "markdown",
   "id": "ac8fa4a9",
   "metadata": {},
   "source": [
    "### Implementation "
   ]
  },
  {
   "cell_type": "code",
   "execution_count": 7,
   "id": "4b9e4490",
   "metadata": {},
   "outputs": [],
   "source": [
    "class Manager:\n",
    "    def formatting(self):\n",
    "        pass"
   ]
  },
  {
   "cell_type": "code",
   "execution_count": 8,
   "id": "cdb17bf2",
   "metadata": {},
   "outputs": [],
   "source": [
    "class manager_manhattan(Manager):\n",
    "    def __init__(self):\n",
    "        self.formatting()\n",
    "    \n",
    "    def formatting(self):\n",
    "        self.FORMATTING = '\\33[7m'"
   ]
  },
  {
   "cell_type": "code",
   "execution_count": 9,
   "id": "baf20f0f",
   "metadata": {},
   "outputs": [],
   "source": [
    "class manager_albany(Manager):\n",
    "    def __init__(self):\n",
    "        self.formatting()\n",
    "    \n",
    "    def formatting(self):\n",
    "        self.FORMATTING = '\\033[94m'"
   ]
  },
  {
   "cell_type": "code",
   "execution_count": 10,
   "id": "ebbecbce",
   "metadata": {},
   "outputs": [],
   "source": [
    "manager_manhattan = CardABC(logo = '\\33[43m', name = 'ABC Megamart', branch = manager_manhattan())"
   ]
  },
  {
   "cell_type": "code",
   "execution_count": 11,
   "id": "699a424a",
   "metadata": {},
   "outputs": [
    {
     "name": "stdout",
     "output_type": "stream",
     "text": [
      "\u001b[43mABC Megamart\n",
      "\u001b[7mJohn M\n",
      "\u001b[7mjohn.m@abcmegamart.com\n",
      "\u001b[7m40097 5th Main Street\n",
      "\u001b[7mManhattan\n",
      "\u001b[7mNew York City\n",
      "\u001b[7mNew York\n",
      "\u001b[7m11007\n"
     ]
    }
   ],
   "source": [
    "manager_manhattan.printcard('John M',\n",
    "              'john.m@abcmegamart.com',\n",
    "  '40097 5th Main Street',\n",
    "  'Manhattan',\n",
    "  'New York City',\n",
    "  'New York',\n",
    "  11007)"
   ]
  },
  {
   "cell_type": "code",
   "execution_count": 12,
   "id": "f403ce25",
   "metadata": {},
   "outputs": [],
   "source": [
    "manager_albany = CardXYZ(style = '\\33[43m',logo = '\\33[5m', name = 'XYZ Megamart', branch = manager_albany())"
   ]
  },
  {
   "cell_type": "code",
   "execution_count": 13,
   "id": "cdd8b229",
   "metadata": {},
   "outputs": [
    {
     "name": "stdout",
     "output_type": "stream",
     "text": [
      "\u001b[5m\u001b[43mXYZ Megamart\n",
      "\u001b[94mRon D\n",
      "\u001b[94mron.d@abcmegamart.com\n",
      "\u001b[94m123 Main Street\n",
      "\u001b[94mAlbany\n",
      "\u001b[94mNew York\n",
      "\u001b[94m12084\n"
     ]
    }
   ],
   "source": [
    "manager_albany.printcard('Ron D','ron.d@abcmegamart.com','123 Main Street','Albany','New York', 12084)"
   ]
  },
  {
   "cell_type": "markdown",
   "id": "1a6590b8",
   "metadata": {},
   "source": [
    "## Facade"
   ]
  },
  {
   "cell_type": "code",
   "execution_count": 14,
   "id": "45047c0c",
   "metadata": {},
   "outputs": [],
   "source": [
    "class Cart:\n",
    "    def __init__(self, items):\n",
    "        self.items = items\n",
    "        \n",
    "    def return_cart(self):\n",
    "        cart_items = []\n",
    "        for i in self.items:\n",
    "            cart_items.append(i)\n",
    "        print(\"Running return_cart...\")\n",
    "        return cart_items"
   ]
  },
  {
   "cell_type": "code",
   "execution_count": 15,
   "id": "a14d0b73",
   "metadata": {},
   "outputs": [],
   "source": [
    "class Counter:\n",
    "    def __init__(self, name):\n",
    "        self.name = name\n",
    "        \n",
    "    def goto_counter(self):\n",
    "        countername = self.name\n",
    "        print(\"Running goto_counter...\")\n",
    "        return countername"
   ]
  },
  {
   "cell_type": "code",
   "execution_count": 16,
   "id": "3b06e9ed",
   "metadata": {},
   "outputs": [],
   "source": [
    "class BarCode:\n",
    "    def __init__(self, scan):\n",
    "        self.scan = scan\n",
    "        \n",
    "    def scan_bar_code(self):\n",
    "        codes = []\n",
    "        for i in self.scan:\n",
    "            codes.append(i)\n",
    "        print(\"Running scan_bar_code...\")\n",
    "        return codes"
   ]
  },
  {
   "cell_type": "code",
   "execution_count": 17,
   "id": "d32982d2",
   "metadata": {},
   "outputs": [],
   "source": [
    "class Billing:\n",
    "    def __init__(self, codes, units ):\n",
    "        self.codes = codes\n",
    "        self.units = units\n",
    "        \n",
    "    def add_billing(self):\n",
    "        codes = self.codes.scan_bar_code()\n",
    "        pricetag = []\n",
    "        for i in self.units:\n",
    "            pricetag.append(i)\n",
    "        bill = dict(zip(codes, pricetag))\n",
    "        print(\"Running add_billing...\")\n",
    "        return bill"
   ]
  },
  {
   "cell_type": "code",
   "execution_count": 18,
   "id": "7d24c060",
   "metadata": {},
   "outputs": [],
   "source": [
    "class Tax:\n",
    "    def __init__(self, tax):\n",
    "        self.tax = tax\n",
    "    \n",
    "    def add_tax(self):\n",
    "        taxed = []\n",
    "        for i in self.tax:\n",
    "            taxed.append(i)\n",
    "        print(\"Running add_tax...\")\n",
    "        return taxed"
   ]
  },
  {
   "cell_type": "code",
   "execution_count": 19,
   "id": "5e44d736",
   "metadata": {},
   "outputs": [],
   "source": [
    "class FinalBill:\n",
    "    def __init__(self, billing, cart, tax):\n",
    "        self.billing = billing\n",
    "        self.cart = cart\n",
    "        self.tax = tax    \n",
    "    \n",
    "    def calc_bill(self):\n",
    "        bill = self.billing.add_billing()\n",
    "        items = []\n",
    "        cart_items = self.cart.return_cart()\n",
    "        calc_bill = []\n",
    "        taxes = self.tax.add_tax()\n",
    "        for item,tax in zip(bill.items(),taxes):\n",
    "            items.append(item[1])\n",
    "            calc_bill.append(item[1] + item[1]*tax)\n",
    "        finalbill = dict(zip(cart_items, calc_bill))\n",
    "        print(\"Running calc_bill...\")\n",
    "        return finalbill"
   ]
  },
  {
   "cell_type": "code",
   "execution_count": 20,
   "id": "5e17ac45",
   "metadata": {},
   "outputs": [],
   "source": [
    "class Invoice:\n",
    "    def __init__(self, finalbill, counter):\n",
    "        self.finalbill = finalbill\n",
    "        self.counter = counter\n",
    "        \n",
    "    def print_invoice(self):\n",
    "        finalbill = self.finalbill.calc_bill()\n",
    "        final_total = sum(finalbill.values())\n",
    "        print(\"Running print_invoice...\")\n",
    "        print('**************ABC Megamart*****************')\n",
    "        print('***********------------------**************')\n",
    "        print('Counter Name: ', self.counter.goto_counter())\n",
    "        for item,price in finalbill.items():\n",
    "            print(item,\": \", price)\n",
    "        print('Total:',final_total)\n",
    "        print('***********------------------**************')\n",
    "        print('***************PAID************************')"
   ]
  },
  {
   "cell_type": "code",
   "execution_count": 21,
   "id": "7561bc66",
   "metadata": {},
   "outputs": [],
   "source": [
    "class Queue:\n",
    "    def __init__(self, items, name, scan, units, tax):\n",
    "        self.cart = Cart(items)\n",
    "        self.counter = Counter(name)\n",
    "        self.barcode = BarCode(scan)\n",
    "        self.billing = Billing(self.barcode, units)\n",
    "        self.tax = Tax(tax)\n",
    "        self.finalbill = FinalBill(self.billing, self.cart, self.tax)\n",
    "        self.invoice = Invoice(self.finalbill, self.counter)\n",
    "        \n",
    "    def pipeline(self):\n",
    "        self.cart.return_cart()\n",
    "        self.counter.goto_counter()\n",
    "        self.barcode.scan_bar_code()\n",
    "        self.tax.add_tax()\n",
    "                \n",
    "    def pipeline_implicit(self):\n",
    "        self.invoice.print_invoice()"
   ]
  },
  {
   "cell_type": "code",
   "execution_count": 22,
   "id": "aabd5bfc",
   "metadata": {},
   "outputs": [],
   "source": [
    "def run_facade():\n",
    "    queue = Queue(items = ['paperclips','blue pens','stapler','pencils'],\n",
    "             name = ['Regular Counter'],\n",
    "             scan = [113323,3434332,2131243,2332783],\n",
    "             units = [10,15,12,14],\n",
    "             tax = [0.04,0.03,0.035,0.025],\n",
    "             )\n",
    "    queue.pipeline()"
   ]
  },
  {
   "cell_type": "code",
   "execution_count": 23,
   "id": "1e8b281b",
   "metadata": {},
   "outputs": [
    {
     "name": "stdout",
     "output_type": "stream",
     "text": [
      "Running return_cart...\n",
      "Running goto_counter...\n",
      "Running scan_bar_code...\n",
      "Running add_tax...\n"
     ]
    }
   ],
   "source": [
    "run_facade()"
   ]
  },
  {
   "cell_type": "code",
   "execution_count": 24,
   "id": "002f7819",
   "metadata": {},
   "outputs": [],
   "source": [
    "def run_facade_implicit():\n",
    "    queue = Queue(items = ['paperclips','blue pens','stapler','pencils'],\n",
    "             name = ['Regular Counter'],\n",
    "             scan = [113323,3434332,2131243,2332783],\n",
    "             units = [10,15,12,14],\n",
    "             tax = [0.04,0.03,0.035,0.025],\n",
    "             )\n",
    "    queue.pipeline_implicit()"
   ]
  },
  {
   "cell_type": "code",
   "execution_count": 25,
   "id": "cac6e1ae",
   "metadata": {},
   "outputs": [
    {
     "name": "stdout",
     "output_type": "stream",
     "text": [
      "Running scan_bar_code...\n",
      "Running add_billing...\n",
      "Running return_cart...\n",
      "Running add_tax...\n",
      "Running calc_bill...\n",
      "Running print_invoice...\n",
      "**************ABC Megamart*****************\n",
      "***********------------------**************\n",
      "Running goto_counter...\n",
      "Counter Name:  ['Regular Counter']\n",
      "paperclips :  10.4\n",
      "blue pens :  15.45\n",
      "stapler :  12.42\n",
      "pencils :  14.35\n",
      "Total: 52.620000000000005\n",
      "***********------------------**************\n",
      "***************PAID************************\n"
     ]
    }
   ],
   "source": [
    "run_facade_implicit()"
   ]
  },
  {
   "cell_type": "markdown",
   "id": "556ef662",
   "metadata": {},
   "source": [
    "### Proxy"
   ]
  },
  {
   "cell_type": "code",
   "execution_count": 26,
   "id": "17f46cc3",
   "metadata": {},
   "outputs": [],
   "source": [
    "class NYC:\n",
    "    def __init__(self):\n",
    "        self.manager = {}\n",
    "        self.branch = {}\n",
    "        self.product = {}\n",
    "        self.sales = {}\n",
    "        \n",
    "    def set_parameters(self, manager, branch, product, sales):\n",
    "        self.manager = manager\n",
    "        self.branch = branch\n",
    "        self.product = product\n",
    "        self.sales = sales\n",
    "        \n",
    "    def get_parameters(self):\n",
    "        return self.manager, self.branch, self.product, self.sales\n",
    "    \n",
    "    def calc_tax_nyc(self):\n",
    "        branch = self.branch\n",
    "        manager = self.manager\n",
    "        product = self.product\n",
    "        sales = self.sales\n",
    "        pricebeforetax = sales['purchase_price'] + sales['purchase_price'] * sales['profit_margin']\n",
    "        finalselling_price = pricebeforetax + (pricebeforetax * (sales['tax_rate'] + sales['local_rate']))  \n",
    "        sales['selling_price'] = finalselling_price\n",
    "        return branch,manager, product, sales   "
   ]
  },
  {
   "cell_type": "code",
   "execution_count": 27,
   "id": "91e083cf",
   "metadata": {},
   "outputs": [],
   "source": [
    "class ReturnBook(NYC):\n",
    "    def __init__(self, nyc):\n",
    "        self.nyc = nyc\n",
    "        \n",
    "    def add_book_details(self, state, manager, branch, product, sales):\n",
    "        if state in ['NY', 'NYC', 'New York']:\n",
    "            self.nyc.set_parameters(manager, branch, product, sales)\n",
    "        else:\n",
    "            print(\"There is not branch in the state:\", state)\n",
    "            \n",
    "    def show_book_details(self, state):\n",
    "        if state in ['NY', 'NYC', 'New York']:\n",
    "            return self.nyc.get_parameters()\n",
    "        else:\n",
    "            print(state, \"has no data\")\n",
    "        \n",
    "    def calc_tax(self, state):\n",
    "        if state in ['NY', 'NYC', 'New York']:\n",
    "            return self.nyc.calc_tax_nyc()\n",
    "        else:\n",
    "            print(\"The state\", state, \"is not supported\")"
   ]
  },
  {
   "cell_type": "code",
   "execution_count": 28,
   "id": "6e01e304",
   "metadata": {},
   "outputs": [],
   "source": [
    "branch_manhattan = ReturnBook(NYC())"
   ]
  },
  {
   "cell_type": "code",
   "execution_count": 29,
   "id": "13c08cab",
   "metadata": {},
   "outputs": [],
   "source": [
    "branch_manhattan.add_book_details(state = 'NY', manager = {'regional_manager': 'John M',\n",
    "  'branch_manager': 'Tom H',\n",
    "  'sub_branch_id': '2021-01'},\n",
    "   branch = {'branchID': 2021,\n",
    "  'branch_street': '40097 5th Main Street',\n",
    "  'branch_borough': 'Manhattan',\n",
    "  'branch_city': 'New York City',\n",
    "  'branch_state': 'New York',\n",
    "  'branch_zip': 11007},\n",
    "   product = {'productId': 100002,\n",
    "  'product_name': 'WashingMachine',\n",
    "  'product_brand': 'Whirlpool'},\n",
    "   sales = {'purchase_price': 450,\n",
    "  'profit_margin': 0.19,\n",
    "  'tax_rate': 0.4,\n",
    "  'local_rate': 0.055})"
   ]
  },
  {
   "cell_type": "code",
   "execution_count": 30,
   "id": "2955daac",
   "metadata": {},
   "outputs": [
    {
     "data": {
      "text/plain": [
       "({'regional_manager': 'John M',\n",
       "  'branch_manager': 'Tom H',\n",
       "  'sub_branch_id': '2021-01'},\n",
       " {'branchID': 2021,\n",
       "  'branch_street': '40097 5th Main Street',\n",
       "  'branch_borough': 'Manhattan',\n",
       "  'branch_city': 'New York City',\n",
       "  'branch_state': 'New York',\n",
       "  'branch_zip': 11007},\n",
       " {'productId': 100002,\n",
       "  'product_name': 'WashingMachine',\n",
       "  'product_brand': 'Whirlpool'},\n",
       " {'purchase_price': 450,\n",
       "  'profit_margin': 0.19,\n",
       "  'tax_rate': 0.4,\n",
       "  'local_rate': 0.055})"
      ]
     },
     "execution_count": 30,
     "metadata": {},
     "output_type": "execute_result"
    }
   ],
   "source": [
    "branch_manhattan.show_book_details('NY')"
   ]
  },
  {
   "cell_type": "code",
   "execution_count": 31,
   "id": "c3639e77",
   "metadata": {},
   "outputs": [
    {
     "data": {
      "text/plain": [
       "({'branchID': 2021,\n",
       "  'branch_street': '40097 5th Main Street',\n",
       "  'branch_borough': 'Manhattan',\n",
       "  'branch_city': 'New York City',\n",
       "  'branch_state': 'New York',\n",
       "  'branch_zip': 11007},\n",
       " {'regional_manager': 'John M',\n",
       "  'branch_manager': 'Tom H',\n",
       "  'sub_branch_id': '2021-01'},\n",
       " {'productId': 100002,\n",
       "  'product_name': 'WashingMachine',\n",
       "  'product_brand': 'Whirlpool'},\n",
       " {'purchase_price': 450,\n",
       "  'profit_margin': 0.19,\n",
       "  'tax_rate': 0.4,\n",
       "  'local_rate': 0.055,\n",
       "  'selling_price': 779.1525})"
      ]
     },
     "execution_count": 31,
     "metadata": {},
     "output_type": "execute_result"
    }
   ],
   "source": [
    "branch_manhattan.calc_tax('NY')"
   ]
  },
  {
   "cell_type": "code",
   "execution_count": 32,
   "id": "ff94be94",
   "metadata": {},
   "outputs": [
    {
     "name": "stdout",
     "output_type": "stream",
     "text": [
      "There is not branch in the state: LA\n"
     ]
    }
   ],
   "source": [
    "branch_manhattan.add_book_details(state = 'LA', manager = {'regional_manager': 'John M',\n",
    "  'branch_manager': 'Tom H',\n",
    "  'sub_branch_id': '2021-01'},\n",
    "   branch = {'branchID': 2021,\n",
    "  'branch_street': '40097 5th Main Street',\n",
    "  'branch_borough': 'Manhattan',\n",
    "  'branch_city': 'New York City',\n",
    "  'branch_state': 'New York',\n",
    "  'branch_zip': 11007},\n",
    "   product = {'productId': 100002,\n",
    "  'product_name': 'WashingMachine',\n",
    "  'product_brand': 'Whirlpool'},\n",
    "   sales = {'purchase_price': 450,\n",
    "  'profit_margin': 0.19,\n",
    "  'tax_rate': 0.4,\n",
    "  'local_rate': 0.055})"
   ]
  },
  {
   "cell_type": "code",
   "execution_count": 33,
   "id": "b9e06d3d",
   "metadata": {},
   "outputs": [
    {
     "name": "stdout",
     "output_type": "stream",
     "text": [
      "LA has no data\n"
     ]
    }
   ],
   "source": [
    "branch_manhattan.show_book_details('LA')"
   ]
  },
  {
   "cell_type": "code",
   "execution_count": 34,
   "id": "039b0b67",
   "metadata": {},
   "outputs": [
    {
     "name": "stdout",
     "output_type": "stream",
     "text": [
      "The state LA is not supported\n"
     ]
    }
   ],
   "source": [
    "branch_manhattan.calc_tax('LA')"
   ]
  },
  {
   "cell_type": "markdown",
   "id": "28006f50",
   "metadata": {},
   "source": [
    "### Factory Method"
   ]
  },
  {
   "cell_type": "code",
   "execution_count": 37,
   "id": "9c52f1e0",
   "metadata": {},
   "outputs": [],
   "source": [
    "from abc import abstractmethod\n",
    "class Branch:\n",
    "    @abstractmethod\n",
    "    def buy_product(self):\n",
    "        pass\n",
    "\n",
    "    @abstractmethod\n",
    "    def maintenance_cost(self):\n",
    "        pass"
   ]
  },
  {
   "cell_type": "code",
   "execution_count": 38,
   "id": "927705a7",
   "metadata": {},
   "outputs": [],
   "source": [
    "class Brooklyn(Branch):\n",
    "    def __init__(self,product,unit_price,quantity,product_type):\n",
    "        self.product = product\n",
    "        self.unit_price = unit_price\n",
    "        self.quantity = quantity\n",
    "        self.product_type = product_type        \n",
    "    \n",
    "    def buy_product(self):\n",
    "        if (self.product_type == 'FMCG'):\n",
    "            self.statetax_rate = 0.035\n",
    "            self.promotiontype = 'Discount'\n",
    "            self.discount = 0.10\n",
    "            self.initialprice = self.unit_price*self.quantity \n",
    "            self.salesprice = self.initialprice + self.initialprice*self.statetax_rate\n",
    "            self.finalprice = self.salesprice * (1-self.discount)\n",
    "            return self.salesprice, self.product,self.promotiontype\n",
    "        else:\n",
    "            return \"We don't stock this product\"\n",
    "    \n",
    "    def maintenance_cost(self):\n",
    "        self.coldstorageCost = 100\n",
    "        if (self.product_type == 'FMCG'):\n",
    "            self.maintenance_cost = self.quantity * 0.25 + self.coldstorageCost    \n",
    "            return self.maintenance_cost\n",
    "        else:\n",
    "            return \"We don't stock this product\""
   ]
  },
  {
   "cell_type": "code",
   "execution_count": 39,
   "id": "fbf69ca0",
   "metadata": {},
   "outputs": [],
   "source": [
    "class Manhattan(Branch):\n",
    "    def __init__(self,product,unit_price,quantity,product_type):\n",
    "        self.product = product\n",
    "        self.unit_price = unit_price\n",
    "        self.quantity = quantity\n",
    "        self.product_type = product_type\n",
    "    \n",
    "    def buy_product(self):\n",
    "        if (self.product_type == 'Electronics'):\n",
    "            self.statetax_rate = 0.05        \n",
    "            self.promotiontype = 'Buy 1 Get 1'\n",
    "            self.discount = 0.50\n",
    "            self.initialprice = self.unit_price*self.quantity \n",
    "            self.salesprice = self.initialprice + self.initialprice*self.statetax_rate\n",
    "            self.finalprice = self.salesprice * (1-self.discount)\n",
    "            return self.finalprice, self.product,self.promotiontype\n",
    "        else:\n",
    "            return \"We don't stock this product\"\n",
    "    \n",
    "    def maintenance_cost(self):\n",
    "        if (self.product_type == 'Electronics'):\n",
    "            self.maintenance_cost = self.quantity * 0.05\n",
    "            return self.maintenance_cost\n",
    "        else:\n",
    "            return \"We don't stock this product\""
   ]
  },
  {
   "cell_type": "code",
   "execution_count": 40,
   "id": "ee55fd87",
   "metadata": {},
   "outputs": [],
   "source": [
    "class BranchFactory:\n",
    "    def create_branch(self,branch,product,unit_price,quantity,product_type):\n",
    "        if str.upper(branch) == 'BROOKLYN':\n",
    "            return Brooklyn(product,unit_price,quantity,product_type)\n",
    "        \n",
    "        elif str.upper(branch) == 'MANHATTAN':\n",
    "            return Manhattan(product,unit_price,quantity,product_type)           \n",
    "        "
   ]
  },
  {
   "cell_type": "code",
   "execution_count": 41,
   "id": "23a8b1d0",
   "metadata": {},
   "outputs": [],
   "source": [
    "def test_factory(branch,product,unit_price,quantity,product_type):\n",
    "    branchfactory = BranchFactory()\n",
    "    branchobject = branchfactory.create_branch(branch,product,unit_price,quantity,product_type) \n",
    "    print(branchobject)\n",
    "    print(branchobject.buy_product())\n",
    "    print(branchobject.maintenance_cost())"
   ]
  },
  {
   "cell_type": "code",
   "execution_count": 42,
   "id": "a73a6073",
   "metadata": {},
   "outputs": [
    {
     "name": "stdout",
     "output_type": "stream",
     "text": [
      "<__main__.Brooklyn object at 0x000002CADD3DA340>\n",
      "(51.75, 'Milk', 'Discount')\n",
      "101.25\n"
     ]
    }
   ],
   "source": [
    "test_factory('Brooklyn','Milk', 10,5,'FMCG')"
   ]
  },
  {
   "cell_type": "code",
   "execution_count": 43,
   "id": "3adafc5f",
   "metadata": {},
   "outputs": [
    {
     "name": "stdout",
     "output_type": "stream",
     "text": [
      "<__main__.Manhattan object at 0x000002CADD3DA6D0>\n",
      "(525.0, 'iPhone', 'Buy 1 Get 1')\n",
      "0.05\n"
     ]
    }
   ],
   "source": [
    "test_factory('manhattan','iPhone', 1000,1,'Electronics')"
   ]
  },
  {
   "cell_type": "code",
   "execution_count": 44,
   "id": "96c83bd8",
   "metadata": {},
   "outputs": [
    {
     "name": "stdout",
     "output_type": "stream",
     "text": [
      "<__main__.Manhattan object at 0x000002CADD3DA9D0>\n",
      "We don't stock this product\n",
      "We don't stock this product\n"
     ]
    }
   ],
   "source": [
    "test_factory('manhattan','Milk', 10,5,'FMCG')"
   ]
  },
  {
   "cell_type": "markdown",
   "id": "e1b3bddd",
   "metadata": {},
   "source": [
    "### Prototype"
   ]
  },
  {
   "cell_type": "code",
   "execution_count": 45,
   "id": "8f1624fd",
   "metadata": {},
   "outputs": [],
   "source": [
    "class Prototype:\n",
    "    def __init__(self):\n",
    "        self.cp = __import__('copy')\n",
    "                \n",
    "    def clone(self, objname):\n",
    "        return self.cp.deepcopy(objname)"
   ]
  },
  {
   "cell_type": "code",
   "execution_count": 46,
   "id": "904715cf",
   "metadata": {},
   "outputs": [],
   "source": [
    "class FMCG:\n",
    "    def __init__(self,supplier_name,supplier_code,supplier_address,supplier_contract_start_date,\\\n",
    "                 supplier_contract_end_date,supplier_quality_code):\n",
    "        self.supplier_name = supplier_name\n",
    "        self.supplier_code = supplier_code\n",
    "        self.supplier_address = supplier_address\n",
    "        self.supplier_contract_start_date = supplier_contract_start_date\n",
    "        self.supplier_contract_end_date = supplier_contract_end_date\n",
    "        self.supplier_quality_code = supplier_quality_code\n",
    "        \n",
    "    def get_supplier_details(self):\n",
    "        supplierDetails = {\n",
    "           'supplier_name': self.supplier_name, \n",
    "            'supplier_code': self.supplier_code,\n",
    "            'supplier_address': self.supplier_address,\n",
    "            'ContractStartDate': self.supplier_contract_start_date,\n",
    "            'ContractEndDate': self.supplier_contract_end_date, \n",
    "            'QualityCode': self.supplier_quality_code\n",
    "        }\n",
    "        return supplierDetails\n",
    "    "
   ]
  },
  {
   "cell_type": "code",
   "execution_count": 47,
   "id": "9ddfe9a2",
   "metadata": {},
   "outputs": [],
   "source": [
    "fmcg_supplier = FMCG('Test Supplier','a0015','5093 9th Main Street, Pasadena,California, 91001', '05/04/2020', '05/04/2025',1)"
   ]
  },
  {
   "cell_type": "code",
   "execution_count": 48,
   "id": "2f5c9fd9",
   "metadata": {},
   "outputs": [],
   "source": [
    "proto = Prototype()"
   ]
  },
  {
   "cell_type": "code",
   "execution_count": 49,
   "id": "9e054795",
   "metadata": {},
   "outputs": [],
   "source": [
    "fmcg_supplier_reuse = proto.clone(fmcg_supplier)"
   ]
  },
  {
   "cell_type": "code",
   "execution_count": 57,
   "id": "1d80f3cf",
   "metadata": {},
   "outputs": [
    {
     "data": {
      "text/plain": [
       "2268233820528"
      ]
     },
     "execution_count": 57,
     "metadata": {},
     "output_type": "execute_result"
    }
   ],
   "source": [
    "id(fmcg_supplier)"
   ]
  },
  {
   "cell_type": "code",
   "execution_count": 58,
   "id": "900a8d09",
   "metadata": {},
   "outputs": [
    {
     "data": {
      "text/plain": [
       "2268233819616"
      ]
     },
     "execution_count": 58,
     "metadata": {},
     "output_type": "execute_result"
    }
   ],
   "source": [
    "id(fmcg_supplier_reuse)"
   ]
  },
  {
   "cell_type": "code",
   "execution_count": 59,
   "id": "85b17342",
   "metadata": {},
   "outputs": [],
   "source": [
    "fmcg_supplier_reuse.supplier_name = 'ABC Supplier'"
   ]
  },
  {
   "cell_type": "code",
   "execution_count": 60,
   "id": "11ce89d0",
   "metadata": {},
   "outputs": [
    {
     "data": {
      "text/plain": [
       "{'SupplierName': 'ABC Supplier',\n",
       " 'SupplierCode': 'a0015',\n",
       " 'SupplierAddress': '5093 9th Main Street, Pasadena,California, 91001',\n",
       " 'ContractStartDate': '05/04/2020',\n",
       " 'ContractEndDate': '05/04/2025',\n",
       " 'QualityCode': 1}"
      ]
     },
     "execution_count": 60,
     "metadata": {},
     "output_type": "execute_result"
    }
   ],
   "source": [
    "fmcg_supplier_reuse.get_supplier_details()"
   ]
  },
  {
   "cell_type": "code",
   "execution_count": 61,
   "id": "554786d3",
   "metadata": {},
   "outputs": [
    {
     "data": {
      "text/plain": [
       "{'SupplierName': 'Test Supplier',\n",
       " 'SupplierCode': 'a0015',\n",
       " 'SupplierAddress': '5093 9th Main Street, Pasadena,California, 91001',\n",
       " 'ContractStartDate': '05/04/2020',\n",
       " 'ContractEndDate': '05/04/2025',\n",
       " 'QualityCode': 1}"
      ]
     },
     "execution_count": 61,
     "metadata": {},
     "output_type": "execute_result"
    }
   ],
   "source": [
    "fmcg_supplier.get_supplier_details()"
   ]
  },
  {
   "cell_type": "markdown",
   "id": "5dc1ed64",
   "metadata": {},
   "source": [
    "### Singleton"
   ]
  },
  {
   "cell_type": "code",
   "execution_count": 1,
   "id": "3a3bfcfc",
   "metadata": {},
   "outputs": [],
   "source": [
    "class SingletonBilling:\n",
    "    billing_instance = None\n",
    "    product_name = 'Dark Chocolate'\n",
    "    unit_price = 6\n",
    "    quantity = 4\n",
    "    tax = 0.054\n",
    "    \n",
    "    def __init__(self):\n",
    "        if SingletonBilling.billing_instance == None:\n",
    "            SingletonBilling.billing_instance = self\n",
    "        else:\n",
    "            print(\"Billing can have only one instance\")\n",
    "    \n",
    "    def generate_bill(self):\n",
    "        total = self.unit_price * self.quantity \n",
    "        final_total = total + total*self.tax\n",
    "        print('***********------------------**************')\n",
    "        print('Product:', self.product_name)\n",
    "        print('Total:',final_total)\n",
    "        print('***********------------------**************')"
   ]
  },
  {
   "cell_type": "code",
   "execution_count": 2,
   "id": "f48fa40b",
   "metadata": {},
   "outputs": [],
   "source": [
    "invoice1 = SingletonBilling()"
   ]
  },
  {
   "cell_type": "code",
   "execution_count": 3,
   "id": "21b49104",
   "metadata": {},
   "outputs": [
    {
     "name": "stdout",
     "output_type": "stream",
     "text": [
      "***********------------------**************\n",
      "Product: Dark Chocolate\n",
      "Total: 25.296\n",
      "***********------------------**************\n"
     ]
    }
   ],
   "source": [
    "invoice1.generate_bill()"
   ]
  },
  {
   "cell_type": "code",
   "execution_count": 38,
   "id": "f532e33c",
   "metadata": {},
   "outputs": [
    {
     "name": "stdout",
     "output_type": "stream",
     "text": [
      "Billing can have only one instance\n"
     ]
    }
   ],
   "source": [
    "invoice2 = SingletonBilling()"
   ]
  }
 ],
 "metadata": {
  "kernelspec": {
   "display_name": "Python 3",
   "language": "python",
   "name": "python3"
  },
  "language_info": {
   "codemirror_mode": {
    "name": "ipython",
    "version": 3
   },
   "file_extension": ".py",
   "mimetype": "text/x-python",
   "name": "python",
   "nbconvert_exporter": "python",
   "pygments_lexer": "ipython3",
   "version": "3.9.5"
  }
 },
 "nbformat": 4,
 "nbformat_minor": 5
}
