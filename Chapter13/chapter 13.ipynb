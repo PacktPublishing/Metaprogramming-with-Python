{
 "cells": [
  {
   "cell_type": "markdown",
   "id": "93aa3309",
   "metadata": {},
   "source": [
    "# Chapter 13 "
   ]
  },
  {
   "cell_type": "markdown",
   "id": "0669a08c",
   "metadata": {},
   "source": [
    "## Bridge"
   ]
  },
  {
   "cell_type": "markdown",
   "id": "18804de9",
   "metadata": {},
   "source": [
    "### Abstraction "
   ]
  },
  {
   "cell_type": "code",
   "execution_count": 1,
   "id": "a416d100",
   "metadata": {},
   "outputs": [],
   "source": [
    "from abc import abstractmethod, ABC\n",
    "class PrintCard(ABC):    \n",
    "    def add_name(self, name):\n",
    "        self.name = name\n",
    "        \n",
    "    def add_manager(self, branch):\n",
    "        self.branch = branch.FORMATTING\n",
    "        \n",
    "    @abstractmethod\n",
    "    def printcard(self):\n",
    "        pass"
   ]
  },
  {
   "cell_type": "code",
   "execution_count": 2,
   "id": "e774e9d3",
   "metadata": {},
   "outputs": [],
   "source": [
    "class CardABC(PrintCard):\n",
    "    def __init__(self, logo, name, branch):\n",
    "        self.logo = logo\n",
    "        super().add_name(name)\n",
    "        super().add_manager(branch)\n",
    "        \n",
    "    def printcard(self, *args):\n",
    "        print(self.logo + self.name)\n",
    "        for arg in args:\n",
    "            print(self.branch + str(arg))"
   ]
  },
  {
   "cell_type": "code",
   "execution_count": 3,
   "id": "8308cfb7",
   "metadata": {},
   "outputs": [],
   "source": [
    "class CardXYZ(PrintCard):\n",
    "    def __init__(self, style, logo, name, branch):\n",
    "        self.style = style\n",
    "        self.logo = logo\n",
    "        super().add_name(name)\n",
    "        super().add_manager(branch)\n",
    "        \n",
    "    def printcard(self, *args):\n",
    "        print(self.logo + self.style + self.name)\n",
    "        for arg in args:\n",
    "            print(self.branch + str(arg))"
   ]
  },
  {
   "cell_type": "markdown",
   "id": "2abb77cf",
   "metadata": {},
   "source": [
    "### Implementation "
   ]
  },
  {
   "cell_type": "code",
   "execution_count": 4,
   "id": "56d9a442",
   "metadata": {},
   "outputs": [],
   "source": [
    "class Manager:\n",
    "    def formatting(self):\n",
    "        pass"
   ]
  },
  {
   "cell_type": "code",
   "execution_count": 5,
   "id": "548e956b",
   "metadata": {},
   "outputs": [],
   "source": [
    "class ManagerManhattan(Manager):\n",
    "    def __init__(self):\n",
    "        self.formatting()\n",
    "    \n",
    "    def formatting(self):\n",
    "        self.FORMATTING = '\\33[7m'"
   ]
  },
  {
   "cell_type": "code",
   "execution_count": 6,
   "id": "5465d930",
   "metadata": {},
   "outputs": [],
   "source": [
    "class ManagerAlbany(Manager):\n",
    "    def __init__(self):\n",
    "        self.formatting()\n",
    "    \n",
    "    def formatting(self):\n",
    "        self.FORMATTING = '\\033[94m'"
   ]
  },
  {
   "cell_type": "code",
   "execution_count": 7,
   "id": "5ebc8939",
   "metadata": {},
   "outputs": [],
   "source": [
    "managerManhattan = CardABC(logo = '\\33[43m', name = 'ABC Megamart', branch = ManagerManhattan())"
   ]
  },
  {
   "cell_type": "code",
   "execution_count": 8,
   "id": "572cb875",
   "metadata": {},
   "outputs": [
    {
     "name": "stdout",
     "output_type": "stream",
     "text": [
      "\u001b[43mABC Megamart\n",
      "\u001b[7mJohn M\n",
      "\u001b[7mjohn.m@abcmegamart.com\n",
      "\u001b[7m40097 5th Main Street\n",
      "\u001b[7mManhattan\n",
      "\u001b[7mNew York City\n",
      "\u001b[7mNew York\n",
      "\u001b[7m11007\n"
     ]
    }
   ],
   "source": [
    "managerManhattan.printcard('John M',\n",
    "              'john.m@abcmegamart.com',\n",
    "  '40097 5th Main Street',\n",
    "  'Manhattan',\n",
    "  'New York City',\n",
    "  'New York',\n",
    "  11007)"
   ]
  },
  {
   "cell_type": "code",
   "execution_count": 9,
   "id": "806b9701",
   "metadata": {},
   "outputs": [],
   "source": [
    "managerAlbany = CardXYZ(style = '\\33[43m',logo = '\\33[5m', name = 'XYZ Megamart', branch = ManagerAlbany())"
   ]
  },
  {
   "cell_type": "code",
   "execution_count": 10,
   "id": "946d4c7f",
   "metadata": {},
   "outputs": [
    {
     "name": "stdout",
     "output_type": "stream",
     "text": [
      "\u001b[5m\u001b[43mXYZ Megamart\n",
      "\u001b[94mRon D\n",
      "\u001b[94mron.d@abcmegamart.com\n",
      "\u001b[94m123 Main Street\n",
      "\u001b[94mAlbany\n",
      "\u001b[94mNew York\n",
      "\u001b[94m12084\n"
     ]
    }
   ],
   "source": [
    "managerAlbany.printcard('Ron D','ron.d@abcmegamart.com','123 Main Street','Albany','New York', 12084)"
   ]
  },
  {
   "cell_type": "markdown",
   "id": "6e2313fd",
   "metadata": {},
   "source": [
    "## Facade"
   ]
  },
  {
   "cell_type": "code",
   "execution_count": 11,
   "id": "94058db9",
   "metadata": {},
   "outputs": [],
   "source": [
    "class Cart:\n",
    "    def __init__(self, items):\n",
    "        self.items = items\n",
    "        \n",
    "    def returnCart(self):\n",
    "        cartItems = []\n",
    "        for i in self.items:\n",
    "            cartItems.append(i)\n",
    "        print(\"Running returnCart...\")\n",
    "        return cartItems"
   ]
  },
  {
   "cell_type": "code",
   "execution_count": 12,
   "id": "13df016c",
   "metadata": {},
   "outputs": [],
   "source": [
    "class Counter:\n",
    "    def __init__(self, name):\n",
    "        self.name = name\n",
    "        \n",
    "    def gotoCounter(self):\n",
    "        countername = self.name\n",
    "        print(\"Running gotoCounter...\")\n",
    "        return countername"
   ]
  },
  {
   "cell_type": "code",
   "execution_count": 13,
   "id": "40b63d08",
   "metadata": {},
   "outputs": [],
   "source": [
    "class BarCode:\n",
    "    def __init__(self, scan):\n",
    "        self.scan = scan\n",
    "        \n",
    "    def scanBarCode(self):\n",
    "        codes = []\n",
    "        for i in self.scan:\n",
    "            codes.append(i)\n",
    "        print(\"Running scanBarCode...\")\n",
    "        return codes"
   ]
  },
  {
   "cell_type": "code",
   "execution_count": 14,
   "id": "b77c15c2",
   "metadata": {},
   "outputs": [],
   "source": [
    "class Billing:\n",
    "    def __init__(self, codes, units ):\n",
    "        self.codes = codes\n",
    "        self.units = units\n",
    "        \n",
    "    def addBilling(self):\n",
    "        codes = self.codes.scanBarCode()\n",
    "        pricetag = []\n",
    "        for i in self.units:\n",
    "            pricetag.append(i)\n",
    "        bill = dict(zip(codes, pricetag))\n",
    "        print(\"Running addBilling...\")\n",
    "        return bill"
   ]
  },
  {
   "cell_type": "code",
   "execution_count": 15,
   "id": "1b9a4dd1",
   "metadata": {},
   "outputs": [],
   "source": [
    "class Tax:\n",
    "    def __init__(self, tax):\n",
    "        self.tax = tax\n",
    "    \n",
    "    def addTax(self):\n",
    "        taxed = []\n",
    "        for i in self.tax:\n",
    "            taxed.append(i)\n",
    "        print(\"Running addTax...\")\n",
    "        return taxed"
   ]
  },
  {
   "cell_type": "code",
   "execution_count": 16,
   "id": "79edc237",
   "metadata": {},
   "outputs": [],
   "source": [
    "class FinalBill:\n",
    "    def __init__(self, billing, cart, tax):\n",
    "        self.billing = billing\n",
    "        self.cart = cart\n",
    "        self.tax = tax    \n",
    "    \n",
    "    def calcBill(self):\n",
    "        bill = self.billing.addBilling()\n",
    "        items = []\n",
    "        cartItems = self.cart.returnCart()\n",
    "        calcbill = []\n",
    "        taxes = self.tax.addTax()\n",
    "        for item,tax in zip(bill.items(),taxes):\n",
    "            items.append(item[1])\n",
    "            calcbill.append(item[1] + item[1]*tax)\n",
    "        finalbill = dict(zip(cartItems, calcbill))\n",
    "        print(\"Running calcBill...\")\n",
    "        return finalbill"
   ]
  },
  {
   "cell_type": "code",
   "execution_count": 17,
   "id": "b89e9b30",
   "metadata": {},
   "outputs": [],
   "source": [
    "class Invoice:\n",
    "    def __init__(self, finalbill, counter):\n",
    "        self.finalbill = finalbill\n",
    "        self.counter = counter\n",
    "        \n",
    "    def printInvoice(self):\n",
    "        finalbill = self.finalbill.calcBill()\n",
    "        final_total = sum(finalbill.values())\n",
    "        print(\"Running printInvoice...\")\n",
    "        print('**************ABC Megamart*****************')\n",
    "        print('***********------------------**************')\n",
    "        print('Counter Name: ', self.counter.gotoCounter())\n",
    "        for item,price in finalbill.items():\n",
    "            print(item,\": \", price)\n",
    "        print('Total:',final_total)\n",
    "        print('***********------------------**************')\n",
    "        print('***************PAID************************')"
   ]
  },
  {
   "cell_type": "code",
   "execution_count": 18,
   "id": "b3ff0092",
   "metadata": {},
   "outputs": [],
   "source": [
    "class Queue:\n",
    "    def __init__(self, items, name, scan, units, tax):\n",
    "        self.cart = Cart(items)\n",
    "        self.counter = Counter(name)\n",
    "        self.barcode = BarCode(scan)\n",
    "        self.billing = Billing(self.barcode, units)\n",
    "        self.tax = Tax(tax)\n",
    "        self.finalbill = FinalBill(self.billing, self.cart, self.tax)\n",
    "        self.invoice = Invoice(self.finalbill, self.counter)\n",
    "        \n",
    "    def pipeline(self):\n",
    "        self.cart.returnCart()\n",
    "        self.counter.gotoCounter()\n",
    "        self.barcode.scanBarCode()\n",
    "        self.tax.addTax()\n",
    "                \n",
    "    def pipelineImplicit(self):\n",
    "        self.invoice.printInvoice()"
   ]
  },
  {
   "cell_type": "code",
   "execution_count": 19,
   "id": "374a24b8",
   "metadata": {},
   "outputs": [],
   "source": [
    "def run_facade():\n",
    "    queue = Queue(items = ['paperclips','blue pens','stapler','pencils'],\n",
    "             name = ['Regular Counter'],\n",
    "             scan = [113323,3434332,2131243,2332783],\n",
    "             units = [10,15,12,14],\n",
    "             tax = [0.04,0.03,0.035,0.025],\n",
    "             )\n",
    "    queue.pipeline()"
   ]
  },
  {
   "cell_type": "code",
   "execution_count": 20,
   "id": "28d2fed5",
   "metadata": {},
   "outputs": [
    {
     "name": "stdout",
     "output_type": "stream",
     "text": [
      "Running returnCart...\n",
      "Running gotoCounter...\n",
      "Running scanBarCode...\n",
      "Running addTax...\n"
     ]
    }
   ],
   "source": [
    "run_facade()"
   ]
  },
  {
   "cell_type": "code",
   "execution_count": 21,
   "id": "fc80f19a",
   "metadata": {},
   "outputs": [],
   "source": [
    "def run_facade_implicit():\n",
    "    queue = Queue(items = ['paperclips','blue pens','stapler','pencils'],\n",
    "             name = ['Regular Counter'],\n",
    "             scan = [113323,3434332,2131243,2332783],\n",
    "             units = [10,15,12,14],\n",
    "             tax = [0.04,0.03,0.035,0.025],\n",
    "             )\n",
    "    queue.pipelineImplicit()"
   ]
  },
  {
   "cell_type": "code",
   "execution_count": 22,
   "id": "9bd2032b",
   "metadata": {},
   "outputs": [
    {
     "name": "stdout",
     "output_type": "stream",
     "text": [
      "Running scanBarCode...\n",
      "Running addBilling...\n",
      "Running returnCart...\n",
      "Running addTax...\n",
      "Running calcBill...\n",
      "Running printInvoice...\n",
      "**************ABC Megamart*****************\n",
      "***********------------------**************\n",
      "Running gotoCounter...\n",
      "Counter Name:  ['Regular Counter']\n",
      "paperclips :  10.4\n",
      "blue pens :  15.45\n",
      "stapler :  12.42\n",
      "pencils :  14.35\n",
      "Total: 52.620000000000005\n",
      "***********------------------**************\n",
      "***************PAID************************\n"
     ]
    }
   ],
   "source": [
    "run_facade_implicit()"
   ]
  },
  {
   "cell_type": "markdown",
   "id": "e654133e",
   "metadata": {},
   "source": [
    "### Proxy"
   ]
  },
  {
   "cell_type": "code",
   "execution_count": 23,
   "id": "7a5077a0",
   "metadata": {},
   "outputs": [],
   "source": [
    "class NYC:\n",
    "    def __init__(self):\n",
    "        self.manager = {}\n",
    "        self.branch = {}\n",
    "        self.product = {}\n",
    "        self.sales = {}\n",
    "        \n",
    "    def setParameters(self, manager, branch, product, sales):\n",
    "        self.manager = manager\n",
    "        self.branch = branch\n",
    "        self.product = product\n",
    "        self.sales = sales\n",
    "        \n",
    "    def getParameters(self):\n",
    "        return self.manager, self.branch, self.product, self.sales\n",
    "    \n",
    "    def calcTaxNYC(self):\n",
    "        branch = self.branch\n",
    "        manager = self.manager\n",
    "        product = self.product\n",
    "        sales = self.sales\n",
    "        pricebeforetax = sales['purchasePrice'] + sales['purchasePrice'] * sales['profitMargin']\n",
    "        finalsellingprice = pricebeforetax + (pricebeforetax * (sales['taxRate'] + sales['localRate']))  \n",
    "        sales['sellingPrice'] = finalsellingprice\n",
    "        return branch,manager, product, sales   "
   ]
  },
  {
   "cell_type": "code",
   "execution_count": 24,
   "id": "75b0459f",
   "metadata": {},
   "outputs": [],
   "source": [
    "class ReturnBook(NYC):\n",
    "    def __init__(self, nyc):\n",
    "        self.nyc = nyc\n",
    "        \n",
    "    def addBookDetails(self, state, manager, branch, product, sales):\n",
    "        if state in ['NY', 'NYC', 'New York']:\n",
    "            self.nyc.setParameters(manager, branch, product, sales)\n",
    "        else:\n",
    "            print(\"There is not branch in the state:\", state)\n",
    "            \n",
    "    def showBookDetails(self, state):\n",
    "        if state in ['NY', 'NYC', 'New York']:\n",
    "            return self.nyc.getParameters()\n",
    "        else:\n",
    "            print(state, \"has no data\")\n",
    "        \n",
    "    def calcTax(self, state):\n",
    "        if state in ['NY', 'NYC', 'New York']:\n",
    "            return self.nyc.calcTaxNYC()\n",
    "        else:\n",
    "            print(\"The state\", state, \"is not supported\")"
   ]
  },
  {
   "cell_type": "code",
   "execution_count": 25,
   "id": "c211f5b8",
   "metadata": {},
   "outputs": [],
   "source": [
    "branchManhattan = ReturnBook(NYC())"
   ]
  },
  {
   "cell_type": "code",
   "execution_count": 26,
   "id": "2690d551",
   "metadata": {},
   "outputs": [],
   "source": [
    "branchManhattan.addBookDetails(state = 'NY', manager = {'regionalManager': 'John M',\n",
    "  'branchManager': 'Tom H',\n",
    "  'subBranchID': '2021-01'},\n",
    "   branch = {'branchID': 2021,\n",
    "  'branchStreet': '40097 5th Main Street',\n",
    "  'branchBorough': 'Manhattan',\n",
    "  'branchCity': 'New York City',\n",
    "  'branchState': 'New York',\n",
    "  'branchZip': 11007},\n",
    "   product = {'productId': 100002,\n",
    "  'productName': 'WashingMachine',\n",
    "  'productBrand': 'Whirlpool'},\n",
    "   sales = {'purchasePrice': 450,\n",
    "  'profitMargin': 0.19,\n",
    "  'taxRate': 0.4,\n",
    "  'localRate': 0.055})"
   ]
  },
  {
   "cell_type": "code",
   "execution_count": 27,
   "id": "84d1aec9",
   "metadata": {},
   "outputs": [
    {
     "data": {
      "text/plain": [
       "({'regionalManager': 'John M',\n",
       "  'branchManager': 'Tom H',\n",
       "  'subBranchID': '2021-01'},\n",
       " {'branchID': 2021,\n",
       "  'branchStreet': '40097 5th Main Street',\n",
       "  'branchBorough': 'Manhattan',\n",
       "  'branchCity': 'New York City',\n",
       "  'branchState': 'New York',\n",
       "  'branchZip': 11007},\n",
       " {'productId': 100002,\n",
       "  'productName': 'WashingMachine',\n",
       "  'productBrand': 'Whirlpool'},\n",
       " {'purchasePrice': 450,\n",
       "  'profitMargin': 0.19,\n",
       "  'taxRate': 0.4,\n",
       "  'localRate': 0.055})"
      ]
     },
     "execution_count": 27,
     "metadata": {},
     "output_type": "execute_result"
    }
   ],
   "source": [
    "branchManhattan.showBookDetails('NY')"
   ]
  },
  {
   "cell_type": "code",
   "execution_count": 28,
   "id": "d65cb860",
   "metadata": {},
   "outputs": [
    {
     "data": {
      "text/plain": [
       "({'branchID': 2021,\n",
       "  'branchStreet': '40097 5th Main Street',\n",
       "  'branchBorough': 'Manhattan',\n",
       "  'branchCity': 'New York City',\n",
       "  'branchState': 'New York',\n",
       "  'branchZip': 11007},\n",
       " {'regionalManager': 'John M',\n",
       "  'branchManager': 'Tom H',\n",
       "  'subBranchID': '2021-01'},\n",
       " {'productId': 100002,\n",
       "  'productName': 'WashingMachine',\n",
       "  'productBrand': 'Whirlpool'},\n",
       " {'purchasePrice': 450,\n",
       "  'profitMargin': 0.19,\n",
       "  'taxRate': 0.4,\n",
       "  'localRate': 0.055,\n",
       "  'sellingPrice': 779.1525})"
      ]
     },
     "execution_count": 28,
     "metadata": {},
     "output_type": "execute_result"
    }
   ],
   "source": [
    "branchManhattan.calcTax('NY')"
   ]
  },
  {
   "cell_type": "code",
   "execution_count": 29,
   "id": "e5bfd0f9",
   "metadata": {},
   "outputs": [
    {
     "name": "stdout",
     "output_type": "stream",
     "text": [
      "There is not branch in the state: LA\n"
     ]
    }
   ],
   "source": [
    "branchManhattan.addBookDetails(state = 'LA', manager = {'regionalManager': 'John M',\n",
    "  'branchManager': 'Tom H',\n",
    "  'subBranchID': '2021-01'},\n",
    "   branch = {'branchID': 2021,\n",
    "  'branchStreet': '40097 5th Main Street',\n",
    "  'branchBorough': 'Manhattan',\n",
    "  'branchCity': 'New York City',\n",
    "  'branchState': 'New York',\n",
    "  'branchZip': 11007},\n",
    "   product = {'productId': 100002,\n",
    "  'productName': 'WashingMachine',\n",
    "  'productBrand': 'Whirlpool'},\n",
    "   sales = {'purchasePrice': 450,\n",
    "  'profitMargin': 0.19,\n",
    "  'taxRate': 0.4,\n",
    "  'localRate': 0.055})"
   ]
  },
  {
   "cell_type": "code",
   "execution_count": 30,
   "id": "7b9a4dee",
   "metadata": {},
   "outputs": [
    {
     "name": "stdout",
     "output_type": "stream",
     "text": [
      "LA has no data\n"
     ]
    }
   ],
   "source": [
    "branchManhattan.showBookDetails('LA')"
   ]
  },
  {
   "cell_type": "code",
   "execution_count": 31,
   "id": "a66da7c2",
   "metadata": {},
   "outputs": [
    {
     "name": "stdout",
     "output_type": "stream",
     "text": [
      "The state LA is not supported\n"
     ]
    }
   ],
   "source": [
    "branchManhattan.calcTax('LA')"
   ]
  },
  {
   "cell_type": "markdown",
   "id": "647410e8",
   "metadata": {},
   "source": [
    "### Factory Method"
   ]
  },
  {
   "cell_type": "code",
   "execution_count": 32,
   "id": "cb431d86",
   "metadata": {},
   "outputs": [],
   "source": [
    "from abc import abstractmethod\n",
    "class Branch:\n",
    "    @abstractmethod\n",
    "    def buyProduct(self):\n",
    "        pass\n",
    "\n",
    "    @abstractmethod\n",
    "    def maintenanceCost(self):\n",
    "        pass"
   ]
  },
  {
   "cell_type": "code",
   "execution_count": 33,
   "id": "a22887ec",
   "metadata": {},
   "outputs": [],
   "source": [
    "class Brooklyn(Branch):\n",
    "    def __init__(self,product,unitprice,quantity,productType):\n",
    "        self.product = product\n",
    "        self.unitprice = unitprice\n",
    "        self.quantity = quantity\n",
    "        self.productType = productType        \n",
    "    \n",
    "    def buyProduct(self):\n",
    "        if (self.productType == 'FMCG'):\n",
    "            self.statetaxrate = 0.035\n",
    "            self.promotiontype = 'Discount'\n",
    "            self.discount = 0.10\n",
    "            self.initialprice = self.unitprice*self.quantity \n",
    "            self.salesprice = self.initialprice + self.initialprice*self.statetaxrate\n",
    "            self.finalprice = self.salesprice * (1-self.discount)\n",
    "            return self.salesprice, self.product,self.promotiontype\n",
    "        else:\n",
    "            return \"We don't stock this product\"\n",
    "    \n",
    "    def maintenanceCost(self):\n",
    "        self.coldstorageCost = 100\n",
    "        if (self.productType == 'FMCG'):\n",
    "            self.maintenanceCost = self.quantity * 0.25 + self.coldstorageCost    \n",
    "            return self.maintenanceCost\n",
    "        else:\n",
    "            return \"We don't stock this product\""
   ]
  },
  {
   "cell_type": "code",
   "execution_count": 34,
   "id": "6105ec8c",
   "metadata": {},
   "outputs": [],
   "source": [
    "class Manhattan(Branch):\n",
    "    def __init__(self,product,unitprice,quantity,productType):\n",
    "        self.product = product\n",
    "        self.unitprice = unitprice\n",
    "        self.quantity = quantity\n",
    "        self.productType = productType\n",
    "    \n",
    "    def buyProduct(self):\n",
    "        if (self.productType == 'Electronics'):\n",
    "            self.statetaxrate = 0.05        \n",
    "            self.promotiontype = 'Buy 1 Get 1'\n",
    "            self.discount = 0.50\n",
    "            self.initialprice = self.unitprice*self.quantity \n",
    "            self.salesprice = self.initialprice + self.initialprice*self.statetaxrate\n",
    "            self.finalprice = self.salesprice * (1-self.discount)\n",
    "            return self.finalprice, self.product,self.promotiontype\n",
    "        else:\n",
    "            return \"We don't stock this product\"\n",
    "    \n",
    "    def maintenanceCost(self):\n",
    "        if (self.productType == 'Electronics'):\n",
    "            self.maintenanceCost = self.quantity * 0.05\n",
    "            return self.maintenanceCost\n",
    "        else:\n",
    "            return \"We don't stock this product\""
   ]
  },
  {
   "cell_type": "code",
   "execution_count": 35,
   "id": "d9201dee",
   "metadata": {},
   "outputs": [],
   "source": [
    "class BranchFactory:\n",
    "    def createBranch(self,branch,product,unitprice,quantity,productType):\n",
    "        if str.upper(branch) == 'BROOKLYN':\n",
    "            return Brooklyn(product,unitprice,quantity,productType)\n",
    "        \n",
    "        elif str.upper(branch) == 'MANHATTAN':\n",
    "            return Manhattan(product,unitprice,quantity,productType)           \n",
    "        "
   ]
  },
  {
   "cell_type": "code",
   "execution_count": 36,
   "id": "bae7b4fd",
   "metadata": {},
   "outputs": [],
   "source": [
    "def testFactory(branch,product,unitprice,quantity,productType):\n",
    "    branchfactory = BranchFactory()\n",
    "    branchobject = branchfactory.createBranch(branch,product,unitprice,quantity,productType) \n",
    "    print(branchobject)\n",
    "    print(branchobject.buyProduct())\n",
    "    print(branchobject.maintenanceCost())"
   ]
  },
  {
   "cell_type": "code",
   "execution_count": 37,
   "id": "4ae64c44",
   "metadata": {},
   "outputs": [
    {
     "name": "stdout",
     "output_type": "stream",
     "text": [
      "<__main__.Brooklyn object at 0x000001CF0A1CA910>\n",
      "(51.75, 'Milk', 'Discount')\n",
      "101.25\n"
     ]
    }
   ],
   "source": [
    "testFactory('Brooklyn','Milk', 10,5,'FMCG')"
   ]
  },
  {
   "cell_type": "code",
   "execution_count": 38,
   "id": "efce982b",
   "metadata": {},
   "outputs": [
    {
     "name": "stdout",
     "output_type": "stream",
     "text": [
      "<__main__.Manhattan object at 0x000001CF0A1CA520>\n",
      "We don't stock this product\n",
      "We don't stock this product\n"
     ]
    }
   ],
   "source": [
    "testFactory('manhattan','Milk', 10,5,'FMCG')"
   ]
  },
  {
   "cell_type": "code",
   "execution_count": 39,
   "id": "3b4298f0",
   "metadata": {},
   "outputs": [
    {
     "name": "stdout",
     "output_type": "stream",
     "text": [
      "<__main__.Manhattan object at 0x000001CF0A1CA190>\n",
      "(525.0, 'iPhone', 'Buy 1 Get 1')\n",
      "0.05\n"
     ]
    }
   ],
   "source": [
    "testFactory('manhattan','iPhone', 1000,1,'Electronics')"
   ]
  },
  {
   "cell_type": "markdown",
   "id": "02da22fd",
   "metadata": {},
   "source": [
    "### These are the examples covered in this chapter"
   ]
  }
 ],
 "metadata": {
  "kernelspec": {
   "display_name": "Python 3 (ipykernel)",
   "language": "python",
   "name": "python3"
  },
  "language_info": {
   "codemirror_mode": {
    "name": "ipython",
    "version": 3
   },
   "file_extension": ".py",
   "mimetype": "text/x-python",
   "name": "python",
   "nbconvert_exporter": "python",
   "pygments_lexer": "ipython3",
   "version": "3.9.7"
  }
 },
 "nbformat": 4,
 "nbformat_minor": 5
}
